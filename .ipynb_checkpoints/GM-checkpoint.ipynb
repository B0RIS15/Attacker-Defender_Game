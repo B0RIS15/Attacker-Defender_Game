{
 "cells": [
  {
   "cell_type": "code",
   "execution_count": 32,
   "metadata": {
    "colab": {
     "base_uri": "https://localhost:8080/",
     "height": 135
    },
    "executionInfo": {
     "elapsed": 440,
     "status": "error",
     "timestamp": 1634741805635,
     "user": {
      "displayName": "B K",
      "photoUrl": "https://lh3.googleusercontent.com/a/default-user=s64",
      "userId": "07688114746748460946"
     },
     "user_tz": -180
    },
    "id": "ud3yWRqxqJUH",
    "outputId": "4580701f-efbc-4165-beb4-c13a734307a0"
   },
   "outputs": [
    {
     "ename": "SyntaxError",
     "evalue": "ignored",
     "output_type": "error",
     "traceback": [
      "\u001b[0;36m  File \u001b[0;32m\"<ipython-input-32-8aacd2833380>\"\u001b[0;36m, line \u001b[0;32m16\u001b[0m\n\u001b[0;31m    if random.choices(['vulnerable','unbreakable'], weights=[1,1]) == 'vulnerable'\u001b[0m\n\u001b[0m                                                                                  ^\u001b[0m\n\u001b[0;31mSyntaxError\u001b[0m\u001b[0;31m:\u001b[0m invalid syntax\n"
     ]
    }
   ],
   "source": [
    "import random\n",
    "from collections import Counter\n",
    "\n",
    "\n",
    "print(random.choices(['vulnerable','unbreakable'], weights=[1,1]))\n",
    "\n",
    "def GetMachineInfo():\n",
    "  machineValue = random.randint(1, 100)\n",
    "  vulnerableMachineValue = random.randint(1, machineValue)\n",
    "  importantMachineValue = radnom.randint(1, machineValue)\n",
    "  # 1 step - machineValues//4 e.g. 53 from 1 to 13\n",
    "  # 2 step - machineValues-machineValues//4 e.g. 53 from 14 to 39\n",
    "  # 3 step - machimeValues//4 e.g. from 40 to 53\n",
    "  # 1 step and 2 step probably - 1/6\n",
    "  # 3 step probably - 2/3\n",
    "  for i in range(machineValue//4):\n",
    "    if random.choices(['vulnerable','unbreakable'], weights=[1,6]) == 'vulnerable'\n",
    "\n",
    "  "
   ]
  },
  {
   "cell_type": "code",
   "execution_count": 34,
   "metadata": {
    "colab": {
     "base_uri": "https://localhost:8080/"
    },
    "executionInfo": {
     "elapsed": 378,
     "status": "ok",
     "timestamp": 1634742015711,
     "user": {
      "displayName": "B K",
      "photoUrl": "https://lh3.googleusercontent.com/a/default-user=s64",
      "userId": "07688114746748460946"
     },
     "user_tz": -180
    },
    "id": "tw0wyDGI98Fu",
    "outputId": "3dc66023-8a44-4d42-ed0d-00c77412e29e"
   },
   "outputs": [
    {
     "name": "stdout",
     "output_type": "stream",
     "text": [
      "Counter({'unbreakable': 8521, 'vulnerable': 1479})\n"
     ]
    }
   ],
   "source": [
    "print(Counter(random.choices(['vulnerable','unbreakable'], weights=[1,6])[0]for i in range(10000)))"
   ]
  }
 ],
 "metadata": {
  "colab": {
   "authorship_tag": "ABX9TyM+fvmID18vi1To7nSqFlGe",
   "name": "GM.ipynb",
   "provenance": []
  },
  "kernelspec": {
   "display_name": "Python 3 (ipykernel)",
   "language": "python",
   "name": "python3"
  },
  "language_info": {
   "codemirror_mode": {
    "name": "ipython",
    "version": 3
   },
   "file_extension": ".py",
   "mimetype": "text/x-python",
   "name": "python",
   "nbconvert_exporter": "python",
   "pygments_lexer": "ipython3",
   "version": "3.8.10"
  }
 },
 "nbformat": 4,
 "nbformat_minor": 1
}
