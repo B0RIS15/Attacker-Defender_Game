{
 "cells": [
  {
   "cell_type": "code",
   "execution_count": 5,
   "id": "b266798f",
   "metadata": {
    "scrolled": true
   },
   "outputs": [
    {
     "data": {
      "application/vnd.jupyter.widget-view+json": {
       "model_id": "60421b29e04147da93742290ce3a8357",
       "version_major": 2,
       "version_minor": 0
      },
      "text/plain": [
       "  0%|          | 0/50000 [00:00<?, ?it/s]"
      ]
     },
     "metadata": {},
     "output_type": "display_data"
    },
    {
     "name": "stdout",
     "output_type": "stream",
     "text": [
      "for s = 0.1 a = 1 sA =  1 sd = 1 Ei = 0.1\n",
      "Utility A = 20905.70000000181 utility D = -20929.214444444806\n"
     ]
    },
    {
     "data": {
      "application/vnd.jupyter.widget-view+json": {
       "model_id": "453f2524f86348cda20239b095af7527",
       "version_major": 2,
       "version_minor": 0
      },
      "text/plain": [
       "  0%|          | 0/50000 [00:00<?, ?it/s]"
      ]
     },
     "metadata": {},
     "output_type": "display_data"
    },
    {
     "ename": "KeyboardInterrupt",
     "evalue": "",
     "output_type": "error",
     "traceback": [
      "\u001b[0;31m---------------------------------------------------------------------------\u001b[0m",
      "\u001b[0;31mKeyboardInterrupt\u001b[0m                         Traceback (most recent call last)",
      "\u001b[0;32m/tmp/ipykernel_13466/3807544383.py\u001b[0m in \u001b[0;36m<module>\u001b[0;34m\u001b[0m\n\u001b[1;32m    356\u001b[0m                             \u001b[0mimportantMachineValues\u001b[0m \u001b[0;34m=\u001b[0m \u001b[0mGetImportantMachineValues\u001b[0m\u001b[0;34m(\u001b[0m\u001b[0mmachineValues\u001b[0m\u001b[0;34m)\u001b[0m\u001b[0;34m\u001b[0m\u001b[0;34m\u001b[0m\u001b[0m\n\u001b[1;32m    357\u001b[0m                             \u001b[0mmachineArray\u001b[0m \u001b[0;34m=\u001b[0m \u001b[0mGetMachineArray\u001b[0m\u001b[0;34m(\u001b[0m\u001b[0mmachineValues\u001b[0m\u001b[0;34m,\u001b[0m \u001b[0mvulnerableMachineValues\u001b[0m\u001b[0;34m,\u001b[0m \u001b[0mimportantMachineValues\u001b[0m\u001b[0;34m)\u001b[0m\u001b[0;34m\u001b[0m\u001b[0;34m\u001b[0m\u001b[0m\n\u001b[0;32m--> 358\u001b[0;31m                             \u001b[0mtmp\u001b[0m \u001b[0;34m=\u001b[0m \u001b[0mComparisonStrategyPH\u001b[0m\u001b[0;34m(\u001b[0m\u001b[0mmachineArray\u001b[0m\u001b[0;34m,\u001b[0m \u001b[0mimportantMachineValues\u001b[0m\u001b[0;34m,\u001b[0m \u001b[0mEi\u001b[0m\u001b[0;34m)\u001b[0m\u001b[0;34m\u001b[0m\u001b[0;34m\u001b[0m\u001b[0m\n\u001b[0m\u001b[1;32m    359\u001b[0m                             \u001b[0;32mwhile\u001b[0m \u001b[0mtmp\u001b[0m \u001b[0;34m==\u001b[0m \u001b[0;32mTrue\u001b[0m\u001b[0;34m:\u001b[0m\u001b[0;34m\u001b[0m\u001b[0;34m\u001b[0m\u001b[0m\n\u001b[1;32m    360\u001b[0m                                 \u001b[0;32mif\u001b[0m \u001b[0mtmp\u001b[0m \u001b[0;34m==\u001b[0m \u001b[0;32mTrue\u001b[0m\u001b[0;34m:\u001b[0m\u001b[0;34m\u001b[0m\u001b[0;34m\u001b[0m\u001b[0m\n",
      "\u001b[0;32m/tmp/ipykernel_13466/3807544383.py\u001b[0m in \u001b[0;36mComparisonStrategyPH\u001b[0;34m(machineArray, importantMachineValues, Ei)\u001b[0m\n\u001b[1;32m    172\u001b[0m \u001b[0;32mdef\u001b[0m \u001b[0mComparisonStrategyPH\u001b[0m\u001b[0;34m(\u001b[0m\u001b[0mmachineArray\u001b[0m\u001b[0;34m,\u001b[0m \u001b[0mimportantMachineValues\u001b[0m\u001b[0;34m,\u001b[0m \u001b[0mEi\u001b[0m\u001b[0;34m)\u001b[0m\u001b[0;34m:\u001b[0m\u001b[0;34m\u001b[0m\u001b[0;34m\u001b[0m\u001b[0m\n\u001b[1;32m    173\u001b[0m     \u001b[0mattackerProportionalEffort\u001b[0m \u001b[0;34m=\u001b[0m \u001b[0mAttackerStrategyProportional\u001b[0m\u001b[0;34m(\u001b[0m\u001b[0mmachineArray\u001b[0m\u001b[0;34m)\u001b[0m\u001b[0;34m\u001b[0m\u001b[0;34m\u001b[0m\u001b[0m\n\u001b[0;32m--> 174\u001b[0;31m     \u001b[0mDefenderStrategyHigh\u001b[0m\u001b[0;34m(\u001b[0m\u001b[0mEi\u001b[0m\u001b[0;34m,\u001b[0m \u001b[0mimportantMachineValues\u001b[0m\u001b[0;34m,\u001b[0m \u001b[0mmachineArray\u001b[0m\u001b[0;34m,\u001b[0m \u001b[0ma\u001b[0m\u001b[0;34m)\u001b[0m\u001b[0;34m\u001b[0m\u001b[0;34m\u001b[0m\u001b[0m\n\u001b[0m\u001b[1;32m    175\u001b[0m     \u001b[0mcount\u001b[0m \u001b[0;34m=\u001b[0m \u001b[0;36m0\u001b[0m\u001b[0;34m\u001b[0m\u001b[0;34m\u001b[0m\u001b[0m\n\u001b[1;32m    176\u001b[0m     \u001b[0;32mfor\u001b[0m \u001b[0mi\u001b[0m \u001b[0;32min\u001b[0m \u001b[0mrange\u001b[0m\u001b[0;34m(\u001b[0m\u001b[0mlen\u001b[0m\u001b[0;34m(\u001b[0m\u001b[0mmachineArray\u001b[0m\u001b[0;34m)\u001b[0m\u001b[0;34m)\u001b[0m\u001b[0;34m:\u001b[0m\u001b[0;34m\u001b[0m\u001b[0;34m\u001b[0m\u001b[0m\n",
      "\u001b[0;32m/tmp/ipykernel_13466/3807544383.py\u001b[0m in \u001b[0;36mDefenderStrategyHigh\u001b[0;34m(Ei, importantMachineValues, machineArray, a)\u001b[0m\n\u001b[1;32m    163\u001b[0m \u001b[0;34m\u001b[0m\u001b[0m\n\u001b[1;32m    164\u001b[0m \u001b[0;32mdef\u001b[0m \u001b[0mDefenderStrategyHigh\u001b[0m\u001b[0;34m(\u001b[0m\u001b[0mEi\u001b[0m\u001b[0;34m,\u001b[0m \u001b[0mimportantMachineValues\u001b[0m\u001b[0;34m,\u001b[0m \u001b[0mmachineArray\u001b[0m\u001b[0;34m,\u001b[0m \u001b[0ma\u001b[0m\u001b[0;34m)\u001b[0m\u001b[0;34m:\u001b[0m\u001b[0;34m\u001b[0m\u001b[0;34m\u001b[0m\u001b[0m\n\u001b[0;32m--> 165\u001b[0;31m     \u001b[0;32mfor\u001b[0m \u001b[0mi\u001b[0m \u001b[0;32min\u001b[0m \u001b[0mrange\u001b[0m\u001b[0;34m(\u001b[0m\u001b[0mlen\u001b[0m\u001b[0;34m(\u001b[0m\u001b[0mmachineArray\u001b[0m\u001b[0;34m)\u001b[0m\u001b[0;34m)\u001b[0m\u001b[0;34m:\u001b[0m\u001b[0;34m\u001b[0m\u001b[0;34m\u001b[0m\u001b[0m\n\u001b[0m\u001b[1;32m    166\u001b[0m         \u001b[0mmachineArray\u001b[0m\u001b[0;34m[\u001b[0m\u001b[0mi\u001b[0m\u001b[0;34m]\u001b[0m\u001b[0;34m.\u001b[0m\u001b[0mchangePossibilityProtection\u001b[0m\u001b[0;34m(\u001b[0m\u001b[0;32mFalse\u001b[0m\u001b[0;34m)\u001b[0m\u001b[0;34m\u001b[0m\u001b[0;34m\u001b[0m\u001b[0m\n\u001b[1;32m    167\u001b[0m         \u001b[0mmachineArray\u001b[0m\u001b[0;34m[\u001b[0m\u001b[0mi\u001b[0m\u001b[0;34m]\u001b[0m\u001b[0;34m.\u001b[0m\u001b[0mchangeProtectionLevel\u001b[0m\u001b[0;34m(\u001b[0m\u001b[0;36m0\u001b[0m\u001b[0;34m)\u001b[0m\u001b[0;34m\u001b[0m\u001b[0;34m\u001b[0m\u001b[0m\n",
      "\u001b[0;31mKeyboardInterrupt\u001b[0m: "
     ]
    }
   ],
   "source": [
    "import math\n",
    "import numpy as np\n",
    "import random\n",
    "from tqdm.notebook import tqdm\n",
    "import nashpy as nash\n",
    "import matplotlib.pyplot as plt\n",
    "\n",
    "\n",
    "class Machine:\n",
    "    \n",
    "    def __init__(self, vulnerable, percentValue, penetrate, protectionLevel, possibilityProtection):\n",
    "        #Уязвима или нет - bool\n",
    "        self.vulnerable = vulnerable\n",
    "        #Значение в сети - %\n",
    "        self.percentValue = percentValue\n",
    "        #Взломана или нет -bool\n",
    "        self.penetrate = penetrate\n",
    "        #Защита - E' * percentValue\n",
    "        self.protectionLevel = protectionLevel\n",
    "        #Возможно ли ее защитить - bool\n",
    "        self.possibilityProtection = possibilityProtection\n",
    "        \n",
    "    def changeVulnerable(self, vulnerable):\n",
    "        self.vulnerable = vulnerable\n",
    "    \n",
    "    def changeCost(self, percentValue):\n",
    "        self.percentValue = float(percentValue)\n",
    "        \n",
    "    def changePenetrate(self, penetrate):\n",
    "        self.penetrate = penetrate\n",
    "    \n",
    "    def changeProtectionLevel(self, protectionLevel):\n",
    "        self.protectionLevel = float(protectionLevel)\n",
    "    \n",
    "    def changePossibilityProtection(self, possibilityProtection):\n",
    "        self.possibilityProtection = possibilityProtection\n",
    "        \n",
    "    def pr(self):\n",
    "        print(self.vulnerable, self.percentValue, self.penetrate)\n",
    "\n",
    "        \n",
    "def printAllvalues(machineValues, vulnerableMachineValues, importantMachineValues):\n",
    "    print('machine values = ', machineValues, 'vulnerable machine values = ', vulnerableMachineValues, 'important machine values =', importantMachineValues)\n",
    "#получаем кол-во машин\n",
    "def GetMachineValues():\n",
    "    machineValues = random.randint(4, 15)\n",
    "    return machineValues\n",
    "#получаем кол-во уязвимых машин \n",
    "def GetVulnerableMachineValues(machineValues):\n",
    "    vulnerableMachineValues = random.randint(1, machineValues)\n",
    "    return vulnerableMachineValues\n",
    "#получаем номер главной машины\n",
    "def GetImportantMachineValues(machineValues):\n",
    "    importantMachineValues = random.randint(1, machineValues)\n",
    "    return importantMachineValues\n",
    "#получаем процент, который занимает главная машина \n",
    "def GetPercentValue():\n",
    "    percentValue = random.randint(30, 65)\n",
    "    return percentValue\n",
    "\n",
    "def GetMachineArray(machineValues, vulnerableMachineValues, importantMachineValues):\n",
    "    machineArray = []\n",
    "    percentValue = GetPercentValue() / 100\n",
    "    reversePercent = ((100 - percentValue) / (machineValues - 1)) / 100\n",
    "    reversePercent = (\"%.2f\" % reversePercent)\n",
    "    for i in range(machineValues):\n",
    "        if i == (importantMachineValues - 1):\n",
    "            tmp = Machine(False, float(percentValue), False, float(0.0), False)\n",
    "        else:\n",
    "            tmp = Machine(False, float(reversePercent), False, float(0.0), False)\n",
    "        machineArray.append(tmp)\n",
    "    #здесь баг - может 2 и более раз сгенерироваться\n",
    "    #одинаковое число и поэтому кол-во машин будет неточным\n",
    "    for i in range(0, vulnerableMachineValues):\n",
    "        j = random.randint(0, machineValues - 1)\n",
    "        machineArray[j].changeVulnerable(True)\n",
    "    return machineArray\n",
    "#возвращает число уязвимых машин, так как из-за бага\n",
    "#прошлое число уязвимых != новому\n",
    "def GetVulnerableMachine(machineValues, machineArray):\n",
    "    vulnerableMachine = 0\n",
    "    for i in range(machineValues):\n",
    "        if machineArray[i].vulnerable == True:\n",
    "            vulnerableMachine += 1\n",
    "    return vulnerableMachine\n",
    "#это все возможные разрывы функции стоимости на данном промежутке 1-10\n",
    "def CheckCost(a):\n",
    "    BreakFunc = {\n",
    "        '1':'1',\n",
    "        '2':'0.5',\n",
    "        '3':'0.333',\n",
    "        '4':'0.25',\n",
    "        '5':'0.2',\n",
    "        '6':'0.166',\n",
    "        '7':'0.142',\n",
    "        '8':'0.125',\n",
    "        '9':'0.111',\n",
    "        '10':'0.1'\n",
    "    }\n",
    "    return BreakFunc[a]\n",
    "\n",
    "def CostFunction(s, a, Ei):\n",
    "    try:\n",
    "        return -(s * Ei * Ei)/(a * Ei - 1)\n",
    "    except ZeroDivisionError:\n",
    "        return 0\n",
    "    #С условием в распределении уровней защиты в стратегиях - не должно быть деления на 0\n",
    "    \n",
    "def UtilityDefender(s, a, Ei, machineArray):\n",
    "    tmp = 0\n",
    "    percent = len(machineArray) / 100\n",
    "    l = 0\n",
    "    for i in range(len(machineArray)):\n",
    "        if machineArray[i].penetrate == True:\n",
    "            l += percent\n",
    "            tmp += CostFunction(s, a, machineArray[i].protectionLevel)\n",
    "    return - l - tmp\n",
    "\n",
    "def UtilityAttacker(machineArray):\n",
    "    percent = len(machineArray) / 100\n",
    "    l = 0\n",
    "    for i in range(len(machineArray)):\n",
    "        if machineArray[i].penetrate == True:\n",
    "            l += percent\n",
    "    return l\n",
    "    \n",
    "def AttackerStrategyProportional(machineArray):\n",
    "    attackerProportionalEffort = []\n",
    "    for i in range(len(machineArray)):\n",
    "        tmp = machineArray[i].percentValue\n",
    "        attackerProportionalEffort.append(tmp)\n",
    "    return attackerProportionalEffort\n",
    "\n",
    "def AttackerStrategyProportionalRedistribution(machineArray):\n",
    "    attackerProportionalEffort = []\n",
    "    for i in range(len(machineArray)):\n",
    "        if machineArray[i].penetrate == False:\n",
    "            tmp = machineArray[i].percentValue\n",
    "            attackerProportionalEffort.append(tmp)\n",
    "        else:\n",
    "            attackerProportionalEffort.append(0)\n",
    "    return attackerProportionalEffort\n",
    "        \n",
    "def AttackerStrategyHigh():\n",
    "    attackerHighEffort = 1\n",
    "    return attackerHighEffort\n",
    "\n",
    "def AttackerStrategyHighRedistribution():\n",
    "    attackerHighEffort = 1\n",
    "    return attackerHighEffort\n",
    "        \n",
    "def DefenderStrategyNothing():\n",
    "    return None\n",
    "    \n",
    "def DefenderStrategyProportional(machineArray, Ei, a):\n",
    "    for i in range(len(machineArray)):\n",
    "        if float(CheckCost(str(a))) < machineArray[i].percentValue * Ei:\n",
    "            machineArray[i].changePossibilityProtection(False)\n",
    "            machineArray[i].changeProtectionLevel(0)\n",
    "        else:\n",
    "            machineArray[i].changePossibilityProtection(True)\n",
    "            machineArray[i].changeProtectionLevel(\"%.2f\" % (machineArray[i].percentValue * Ei))\n",
    "    \n",
    "def DefenderStrategyHigh(Ei, importantMachineValues, machineArray, a):\n",
    "    for i in range(len(machineArray)):\n",
    "        machineArray[i].changePossibilityProtection(False)\n",
    "        machineArray[i].changeProtectionLevel(0)\n",
    "    if float(CheckCost(str(a))) > Ei:\n",
    "        machineArray[importantMachineValues - 1].changePossibilityProtection(True)\n",
    "        machineArray[importantMachineValues - 1].changeProtectionLevel(Ei)       \n",
    "#P-атакующий H-защитник\n",
    "def ComparisonStrategyPH(machineArray, importantMachineValues, Ei):\n",
    "    attackerProportionalEffort = AttackerStrategyProportional(machineArray)\n",
    "    DefenderStrategyHigh(Ei, importantMachineValues, machineArray, a)\n",
    "    count = 0\n",
    "    for i in range(len(machineArray)):\n",
    "        if machineArray[i].vulnerable == True:\n",
    "            if attackerProportionalEffort[i] > machineArray[i].protectionLevel:\n",
    "                machineArray[i].changePenetrate(True)\n",
    "                count += 1\n",
    "    if count > 0:\n",
    "        return True\n",
    "    else:\n",
    "        return False\n",
    "#RP - Redistribution Proportional атакующий H - защитник        \n",
    "def ComparisonStrategyRPH(machineArray, importantMachineValues, Ei):\n",
    "    DefenderStrategyHigh(Ei, importantMachineValues, machineArray, a) \n",
    "    attackerRedistributionProportionalEffort = AttackerStrategyProportionalRedistribution(machineArray)\n",
    "    count = 0\n",
    "    for i in range(len(machineArray)):\n",
    "        if machineArray[i].vulnerable == True and machineArray[i].penetrate == False:\n",
    "            if attackerRedistributionProportionalEffort[i] > machineArray[i].protectionLevel:\n",
    "                machineArray[i].changePenetrate(True)\n",
    "                count += 1\n",
    "    if count > 0:\n",
    "        return True\n",
    "    else:\n",
    "        return False \n",
    "#P-атакующий P-защитник\n",
    "def ComparisonStrategyPP(machineArray, Ei, a):\n",
    "    attackerProportionalEffort = AttackerStrategyProportional(machineArray)\n",
    "    DefenderStrategyProportional(machineArray, Ei, a)\n",
    "    count = 0\n",
    "    for i in range(len(machineArray)):\n",
    "        if machineArray[i].vulnerable == True:\n",
    "            if attackerProportionalEffort[i] > machineArray[i].protectionLevel:\n",
    "                machineArray[i].changePenetrate(True)\n",
    "                count += 1\n",
    "    if count > 0:\n",
    "        return True\n",
    "    else:\n",
    "        return False\n",
    "#RP - атакующий P - защитник\n",
    "def ComparisonStrategyRPP(machineArray, Ei, a):\n",
    "    DefenderStrategyProportional(machineArray, Ei, a)\n",
    "    attackerRedistributionProportionalEffort =  AttackerStrategyProportionalRedistribution(machineArray)\n",
    "    count = 0\n",
    "    for i in range(len(machineArray)):\n",
    "        if machineArray[i].vulnerable == True and machineArray[i].penetrate == False:\n",
    "            if attackerRedistributionProportionalEffort[i] > machineArray[i].protectionLevel:\n",
    "                machineArray[i].changePenetrate(True)\n",
    "                count += 1\n",
    "    if count > 0:\n",
    "        return True\n",
    "    else:\n",
    "        return False\n",
    "#P - атакующий N - защитник\n",
    "def ComparisonStrategyPN(machineArray):\n",
    "    attackerProportionalEffort = AttackerStrategyProportional(machineArray)\n",
    "    count = 0\n",
    "    for i in range(len(machineArray)):\n",
    "        if machineArray[i].vulnerable == True:\n",
    "            if attackerProportionalEffort[i] > machineArray[i].protectionLevel:\n",
    "                machineArray[i].changePenetrate(True)\n",
    "                count += 1\n",
    "    if count > 0:\n",
    "        return True\n",
    "    else:\n",
    "        return False\n",
    "#RP - атакующий N - защитник\n",
    "def ComparisonStrategyRPN(machineArray):\n",
    "    attackerRedistributionProportionalEffort =  AttackerStrategyProportionalRedistribution(machineArray)\n",
    "    count = 0\n",
    "    for i in range(len(machineArray)):\n",
    "        if machineArray[i].vulnerable == True and machineArray[i].penetrate == False:\n",
    "            if attackerRedistributionProportionalEffort[i] > machineArray[i].protectionLevel:\n",
    "                machineArray[i].changePenetrate(True)\n",
    "                count += 1\n",
    "    if count > 0:\n",
    "        return True\n",
    "    else:\n",
    "        return False\n",
    "#H-атакующий P-защитник\n",
    "def ComparisonStrategyHP(machineArray, Ei, importantMachineValues, a):\n",
    "    attackerHighEffort = AttackerStrategyHigh()\n",
    "    DefenderStrategyProportional(machineArray, Ei, a)\n",
    "    if attackerHighEffort > machineArray[importantMachineValues - 1].protectionLevel:\n",
    "        if machineArray[importantMachineValues - 1].vulnerable == True:\n",
    "            machineArray[importantMachineValues - 1].changePenetrate(True)\n",
    "            return True\n",
    "        else:\n",
    "            return False\n",
    "#RH-атакующий P-защитник\n",
    "def ComparisonStrategyRHP(machineArray, Ei, importantMachineValues, a):\n",
    "    attackerHighRedistributionEffort = AttackerStrategyHighRedistribution()\n",
    "    DefenderStrategyProportional(machineArray, Ei, a)\n",
    "    if machineArray[importantMachineValues - 1].vulnerable == True and machineArray[importantMachineValues - 1].penetrate == False:\n",
    "        if attackerHighRedistributionEffort > machineArray[importantMachineValues - 1].protectionLevel:\n",
    "            machineArray[importantMachineValues - 1].changePenetrate(True)\n",
    "            return True\n",
    "        else:\n",
    "            return False\n",
    "#H-атакующий H-защитник\n",
    "def ComparsionStrategyHH(Ei, importantMachineValues, machineArray, a):\n",
    "    attackerHighEffort = AttackerStrategyHigh()\n",
    "    DefenderStrategyHigh(Ei, importantMachineValues, machineArray, a)\n",
    "    if attackerHighEffort > machineArray[importantMachineValues - 1].protectionLevel:\n",
    "        if machineArray[importantMachineValues - 1].vulnerable == True:\n",
    "            machineArray[importantMachineValues - 1].changePenetrate(True)\n",
    "            return True\n",
    "        else:\n",
    "            return False\n",
    "#RH-атакующий H-защитник\n",
    "def ComparsionStrategyRHH(Ei, importantMachineValues, machineArray, a):\n",
    "    attackerHighRedistributionEffort = AttackerStrategyHighRedistribution()\n",
    "    DefenderStrategyHigh(Ei, importantMachineValues, machineArray, a)\n",
    "    if attackerHighRedistributionEffort > machineArray[importantMachineValues - 1].protectionLevel:\n",
    "        if machineArray[importantMachineValues - 1].vulnerable == True and machineArray[importantMachineValues - 1].penetrate == False:\n",
    "            machineArray[importantMachineValues - 1].changePenetrate(True)\n",
    "            return True\n",
    "        else:\n",
    "            return False\n",
    "#H-Атакующий N-защитник\n",
    "def ComparsionStrategyHN(machineArray, importantMachineValues):\n",
    "    attackerHighEffort = AttackerStrategyHigh()\n",
    "    if attackerHighEffort > machineArray[importantMachineValues - 1].percentValue:\n",
    "        if machineArray[importantMachineValues - 1].vulnerable == True:\n",
    "            machineArray[importantMachineValues - 1].changePenetrate(True)\n",
    "            return True\n",
    "        else:\n",
    "            return False\n",
    "#RH-Атакующий N-защитник\n",
    "def ComparsionStrategyRHN(machineArray, importantMachineValues):\n",
    "    attackerHighRedistributionEffort = AttackerStrategyHighRedistribution()\n",
    "    if attackerHighRedistributionEffort > machineArray[importantMachineValues - 1].percentValue:\n",
    "        if machineArray[importantMachineValues - 1].vulnerable == True and machineArray[importantMachineValues - 1].penetrate == False:\n",
    "            machineArray[importantMachineValues - 1].changePenetrate(True)\n",
    "            return True\n",
    "        else:\n",
    "            return False\n",
    "        \n",
    "def CheckStrategyDefender(b):\n",
    "    NumberStrategy = {\n",
    "        '1':'Noting',\n",
    "        '2':'High',\n",
    "        '3':'High',\n",
    "        '4':'High',\n",
    "        '5':'High',\n",
    "        '6':'High',\n",
    "        '7':'High',\n",
    "        '8':'High',\n",
    "        '9':'High',\n",
    "        '10':'High',\n",
    "        '11':'Proportional',\n",
    "        '12':'Proportional',\n",
    "        '13':'Proportional',\n",
    "        '14':'Proportional',\n",
    "        '15':'Proportional',\n",
    "        '16':'Proportional',\n",
    "        '17':'Proportional',\n",
    "        '18':'Proportional',\n",
    "        '19':'Proportional'\n",
    "    }\n",
    "    return NumberStrategy[b]\n",
    "    \n",
    "arrayEqlibriumDefender = []\n",
    "arrayEqlibriumAttecker = []\n",
    "\n",
    "for s in (0.1, 0.2, 0.3, 0.4, 0.5, 0.6, 0.7, 0.8, 0.9):\n",
    "    for a in range(1, 11, 1):\n",
    "        shape = (19,2) #матрица игры\n",
    "        Attacker = np.zeros(shape=shape)\n",
    "        Defender = np.zeros(shape=shape)\n",
    "        #1 - Proportional 2 - High\n",
    "        for strategyA in (1, 2):\n",
    "            #1 - High 2 - Proportional 3 - Nothing\n",
    "            for strategyD in (1, 2, 3):\n",
    "                for Ei in (0.1, 0.2, 0.3, 0.4, 0.5, 0.6, 0.7, 0.8, 0.9):\n",
    "                    if strategyA == 1 and strategyD == 1: #A -Proportional, D - High\n",
    "                        j = 0\n",
    "                        utilityDefender = 0\n",
    "                        utilityAttacker = 0\n",
    "                        for j in tqdm(range(50000)):\n",
    "                            machineValues = GetMachineValues()\n",
    "                            vulnerableMachineValues = GetVulnerableMachineValues(machineValues)\n",
    "                            importantMachineValues = GetImportantMachineValues(machineValues)\n",
    "                            machineArray = GetMachineArray(machineValues, vulnerableMachineValues, importantMachineValues)\n",
    "                            tmp = ComparisonStrategyPH(machineArray, importantMachineValues, Ei)\n",
    "                            while tmp == True:\n",
    "                                if tmp == True:\n",
    "                                    utilityDefender += UtilityDefender(s, a, Ei, machineArray)\n",
    "                                    utilityAttacker += UtilityAttacker(machineArray)\n",
    "                                    tmp = ComparisonStrategyRPH(machineArray, importantMachineValues, Ei)\n",
    "                                else:\n",
    "                                    utilityDefender += UtilityDefender(s, a, Ei, machineArray)\n",
    "                        print('for s =', s,'a =', a, 'sA = ', strategyA, 'sd =', strategyD, 'Ei =', Ei)\n",
    "                        print('Utility A =', utilityAttacker, 'utility D =', utilityDefender)\n",
    "                    elif strategyA == 1 and strategyD == 2:\n",
    "                        j = 0\n",
    "                        utilityDefender = 0\n",
    "                        utilityAttacker = 0\n",
    "                        for j in tqdm(range(50000)):\n",
    "                            machineValues = GetMachineValues()\n",
    "                            vulnerableMachineValues = GetVulnerableMachineValues(machineValues)\n",
    "                            importantMachineValues = GetImportantMachineValues(machineValues)\n",
    "                            machineArray = GetMachineArray(machineValues, vulnerableMachineValues, importantMachineValues)\n",
    "                            tmp = ComparisonStrategyPP(machineArray, Ei, a)\n",
    "                            while tmp == True:\n",
    "                                if tmp == True:\n",
    "                                    utilityDefender += UtilityDefender(s, a, Ei, machineArray)\n",
    "                                    utilityAttacker += UtilityAttacker(machineArray)\n",
    "                                    tmp = ComparisonStrategyRPP(machineArray, Ei, a)\n",
    "                                else:\n",
    "                                    utilityDefender += UtilityDefender(s, a, Ei, machineArray)\n",
    "                        print('for s =', s,'a =', a, 'sA = ', strategyA, 'sd =', strategyD, 'Ei =', Ei)\n",
    "                        print('Utility A =', utilityAttacker, 'utility D =', utilityDefender)\n",
    "                    elif strategyA == 1 and strategyD == 3:\n",
    "                        j = 0\n",
    "                        utilityDefender = 0\n",
    "                        utilityAttacker = 0\n",
    "                        for j in tqdm(range(50000)):\n",
    "                            machineValues = GetMachineValues()\n",
    "                            vulnerableMachineValues = GetVulnerableMachineValues(machineValues)\n",
    "                            importantMachineValues = GetImportantMachineValues(machineValues)\n",
    "                            machineArray = GetMachineArray(machineValues, vulnerableMachineValues, importantMachineValues)\n",
    "                            tmp = ComparisonStrategyPN(machineArray)\n",
    "                            while tmp ==True:\n",
    "                                if tmp == True:\n",
    "                                    utilityDefender += UtilityDefender(s, a, Ei, machineArray)\n",
    "                                    utilityAttacker += UtilityAttacker(machineArray)\n",
    "                                    tmp = ComparisonStrategyRPN(machineArray)\n",
    "                                else:\n",
    "                                    utilityDefender += UtilityDefender(s, a, Ei, machineArray)\n",
    "                                    break\n",
    "                        print('for s =', s,'a =', a, 'sA = ', strategyA, 'sd =', strategyD, 'Ei =', Ei)\n",
    "                        print('Utility A =', utilityAttacker, 'utility D =', utilityDefender)\n",
    "                    elif strategyA == 2 and strategyD == 1:\n",
    "                        j = 0\n",
    "                        utilityDefender = 0\n",
    "                        utilityAttacker = 0\n",
    "                        for j in tqdm(range(50000)):\n",
    "                            machineValues = GetMachineValues()\n",
    "                            vulnerableMachineValues = GetVulnerableMachineValues(machineValues)\n",
    "                            importantMachineValues = GetImportantMachineValues(machineValues)\n",
    "                            machineArray = GetMachineArray(machineValues, vulnerableMachineValues, importantMachineValues)\n",
    "                            tmp = ComparsionStrategyHH(Ei, importantMachineValues, machineArray, a)\n",
    "                            while True:\n",
    "                                if tmp == True:\n",
    "                                    utilityDefender += UtilityDefender(s, a, Ei, machineArray)\n",
    "                                    utilityAttacker += UtilityAttacker(machineArray)\n",
    "                                    tmp = ComparsionStrategyRHH(Ei, importantMachineValues, machineArray, a)\n",
    "                                else:\n",
    "                                    utilityDefender += UtilityDefender(s, a, Ei, machineArray)\n",
    "                                    break\n",
    "                        print('for s =', s,'a =', a, 'sA = ', strategyA, 'sd =', strategyD, 'Ei =', Ei)\n",
    "                        print('Utility A =', utilityAttacker, 'utility D =', utilityDefender) \n",
    "                    elif strategyA == 2 and strategyD == 2:\n",
    "                        j = 0\n",
    "                        utilityDefender = 0\n",
    "                        utilityAttacker = 0\n",
    "                        for j in tqdm(range(50000)):\n",
    "                            machineValues = GetMachineValues()\n",
    "                            vulnerableMachineValues = GetVulnerableMachineValues(machineValues)\n",
    "                            importantMachineValues = GetImportantMachineValues(machineValues)\n",
    "                            machineArray = GetMachineArray(machineValues, vulnerableMachineValues, importantMachineValues)\n",
    "                            tmp = ComparisonStrategyHP(machineArray, Ei, importantMachineValues, a)\n",
    "                            while True:\n",
    "                                if tmp == True:\n",
    "                                    utilityDefender += UtilityDefender(s, a, Ei, machineArray)\n",
    "                                    utilityAttacker += UtilityAttacker(machineArray)\n",
    "                                    tmp = ComparisonStrategyRHP(machineArray, Ei, importantMachineValues, a)\n",
    "                                else:\n",
    "                                    utilityDefender += UtilityDefender(s, a, Ei, machineArray)\n",
    "                                    break\n",
    "                        print('for s =', s,'a =', a, 'sA = ', strategyA, 'sd =', strategyD, 'Ei =', Ei)\n",
    "                        print('Utility A =', utilityAttacker, 'utility D =', utilityDefender)\n",
    "                    elif strategyA == 2 and strategyD == 3:\n",
    "                        j = 0\n",
    "                        utilityDefender = 0\n",
    "                        utilityAttacker = 0\n",
    "                        for j in tqdm(range(50000)):\n",
    "                            machineValues = GetMachineValues()\n",
    "                            vulnerableMachineValues = GetVulnerableMachineValues(machineValues)\n",
    "                            importantMachineValues = GetImportantMachineValues(machineValues)\n",
    "                            machineArray = GetMachineArray(machineValues, vulnerableMachineValues, importantMachineValues)\n",
    "                            tmp = ComparsionStrategyHN(machineArray, importantMachineValues)\n",
    "                            while True:\n",
    "                                if tmp == True:\n",
    "                                    utilityDefender += UtilityDefender(s, a, Ei, machineArray)\n",
    "                                    utilityAttacker += UtilityAttacker(machineArray)\n",
    "                                    tmp = ComparsionStrategyRHN(machineArray, importantMachineValues)\n",
    "                                else:\n",
    "                                    utilityDefender += UtilityDefender(s, a, Ei, machineArray)\n",
    "                                    break\n",
    "                        print('for s =', s,'a =', a, 'sA = ', strategyA, 'sd =', strategyD, 'Ei =', Ei)\n",
    "                        print('Utility A =', utilityAttacker, 'utility D =', utilityDefender)\n",
    "                    if strategyD == 3:\n",
    "                        Attacker[0, strategyA - 1] = round(utilityAttacker)\n",
    "                        Defender[0, strategyA - 1] = round(utilityDefender)\n",
    "                    elif strategyD == 1:\n",
    "                        index = int(Ei * 10)\n",
    "                        Attacker[index, strategyA - 1] = round(utilityAttacker)\n",
    "                        Defender[index, strategyA - 1] = round(utilityDefender)\n",
    "                    elif strategyD == 2:\n",
    "                        index = int(Ei * 10) + 9\n",
    "                        Attacker[index, strategyA - 1] = round(utilityAttacker)\n",
    "                        Defender[index, strategyA - 1] = round(utilityDefender)\n",
    "        degenGameTest = False\n",
    "        game = nash.Game(Defender, Attacker)\n",
    "        print(\"Утилиты атакующего -\", Attacker)\n",
    "        print(\"Утилиты обороняющегося -\", Defender)\n",
    "        try:\n",
    "            equlibrium = list(game.support_enumeration())[0]\n",
    "        except IndexError:\n",
    "            try:\n",
    "                equlibrium = list(game.support_enumeration(non_degenerate=True))[0]\n",
    "            except:\n",
    "                equlibrium = list(game.support_enumeration(non_degenerate=True))\n",
    "                degenGameTest = True\n",
    "        print(\"equlibrium\", equlibrium)\n",
    "        if degenGameTest == False:\n",
    "            numEqulibriumDefender = np.argmax(equlibrium[0])+1\n",
    "            numEqulibriumAttacker = np.argmax(equlibrium[1])+1\n",
    "        else:\n",
    "            numEqulibriumDefender = equlibrium\n",
    "            numEqulibriumAttacker = equlibrium\n",
    "        print(\"оптимальная стратегия оброняющегося номер \", numEqulibriumDefender, \"оптимальная стратегия атакующего номер \", numEqulibriumAttacker)\n",
    "        arrayEqlibriumDefender.append(numEqulibriumDefender)\n",
    "        arrayEqlibriumAttecker.append(numEqulibriumAttacker)\n",
    "\n",
    "print('array Defender - ', '\\n', arrayEqlibriumDefender)\n",
    "print('arrau Attacker - ', '\\n', arrayEqlibriumAttecker)"
   ]
  },
  {
   "cell_type": "code",
   "execution_count": 6,
   "id": "e9623afc",
   "metadata": {},
   "outputs": [
    {
     "data": {
      "application/vnd.jupyter.widget-view+json": {
       "model_id": "bc172b25f1984f2db5cd0306a67ed82a",
       "version_major": 2,
       "version_minor": 0
      },
      "text/plain": [
       "  0%|          | 0/50000 [00:00<?, ?it/s]"
      ]
     },
     "metadata": {},
     "output_type": "display_data"
    },
    {
     "name": "stdout",
     "output_type": "stream",
     "text": [
      "for s = 0.6 a = 5 sA =  1 sd = 1 Ei = 0.1\n",
      "Utility A = 20764.470000001576 utility D = -21017.586000000854\n"
     ]
    },
    {
     "data": {
      "application/vnd.jupyter.widget-view+json": {
       "model_id": "58def576c44249199b516b8419a7eddd",
       "version_major": 2,
       "version_minor": 0
      },
      "text/plain": [
       "  0%|          | 0/50000 [00:00<?, ?it/s]"
      ]
     },
     "metadata": {},
     "output_type": "display_data"
    },
    {
     "name": "stdout",
     "output_type": "stream",
     "text": [
      "for s = 0.6 a = 5 sA =  1 sd = 1 Ei = 0.2\n",
      "Utility A = 20856.86000000196 utility D = -20856.86000000196\n"
     ]
    },
    {
     "data": {
      "application/vnd.jupyter.widget-view+json": {
       "model_id": "55c869b74263452ca4c1d92c87de6f07",
       "version_major": 2,
       "version_minor": 0
      },
      "text/plain": [
       "  0%|          | 0/50000 [00:00<?, ?it/s]"
      ]
     },
     "metadata": {},
     "output_type": "display_data"
    },
    {
     "name": "stdout",
     "output_type": "stream",
     "text": [
      "for s = 0.6 a = 5 sA =  1 sd = 1 Ei = 0.3\n",
      "Utility A = 20991.50000000186 utility D = -20991.50000000186\n"
     ]
    },
    {
     "data": {
      "application/vnd.jupyter.widget-view+json": {
       "model_id": "a0ac55fdbb214ddf863574bf385175b5",
       "version_major": 2,
       "version_minor": 0
      },
      "text/plain": [
       "  0%|          | 0/50000 [00:00<?, ?it/s]"
      ]
     },
     "metadata": {},
     "output_type": "display_data"
    },
    {
     "name": "stdout",
     "output_type": "stream",
     "text": [
      "for s = 0.6 a = 5 sA =  1 sd = 1 Ei = 0.4\n",
      "Utility A = 21034.25000000187 utility D = -21034.25000000187\n"
     ]
    },
    {
     "data": {
      "application/vnd.jupyter.widget-view+json": {
       "model_id": "f4bd284366234cafabec0a4678d1151c",
       "version_major": 2,
       "version_minor": 0
      },
      "text/plain": [
       "  0%|          | 0/50000 [00:00<?, ?it/s]"
      ]
     },
     "metadata": {},
     "output_type": "display_data"
    },
    {
     "name": "stdout",
     "output_type": "stream",
     "text": [
      "for s = 0.6 a = 5 sA =  1 sd = 1 Ei = 0.5\n",
      "Utility A = 21007.690000001887 utility D = -21007.690000001887\n"
     ]
    },
    {
     "data": {
      "application/vnd.jupyter.widget-view+json": {
       "model_id": "04f3c98d46fe4ae8b2ee6bc0e174546c",
       "version_major": 2,
       "version_minor": 0
      },
      "text/plain": [
       "  0%|          | 0/50000 [00:00<?, ?it/s]"
      ]
     },
     "metadata": {},
     "output_type": "display_data"
    },
    {
     "name": "stdout",
     "output_type": "stream",
     "text": [
      "for s = 0.6 a = 5 sA =  1 sd = 1 Ei = 0.6\n",
      "Utility A = 21005.49000000202 utility D = -21005.49000000202\n"
     ]
    },
    {
     "data": {
      "application/vnd.jupyter.widget-view+json": {
       "model_id": "3876825364784f06be9ed215eabc3153",
       "version_major": 2,
       "version_minor": 0
      },
      "text/plain": [
       "  0%|          | 0/50000 [00:00<?, ?it/s]"
      ]
     },
     "metadata": {},
     "output_type": "display_data"
    },
    {
     "name": "stdout",
     "output_type": "stream",
     "text": [
      "for s = 0.6 a = 5 sA =  1 sd = 1 Ei = 0.7\n",
      "Utility A = 20887.130000001805 utility D = -20887.130000001805\n"
     ]
    },
    {
     "data": {
      "application/vnd.jupyter.widget-view+json": {
       "model_id": "11bc5115497041d8b31c350becce6b69",
       "version_major": 2,
       "version_minor": 0
      },
      "text/plain": [
       "  0%|          | 0/50000 [00:00<?, ?it/s]"
      ]
     },
     "metadata": {},
     "output_type": "display_data"
    },
    {
     "name": "stdout",
     "output_type": "stream",
     "text": [
      "for s = 0.6 a = 5 sA =  1 sd = 1 Ei = 0.8\n",
      "Utility A = 20925.240000001937 utility D = -20925.240000001937\n"
     ]
    },
    {
     "data": {
      "application/vnd.jupyter.widget-view+json": {
       "model_id": "7d8176465bc741aead3da44bc5ef11cb",
       "version_major": 2,
       "version_minor": 0
      },
      "text/plain": [
       "  0%|          | 0/50000 [00:00<?, ?it/s]"
      ]
     },
     "metadata": {},
     "output_type": "display_data"
    },
    {
     "name": "stdout",
     "output_type": "stream",
     "text": [
      "for s = 0.6 a = 5 sA =  1 sd = 1 Ei = 0.9\n",
      "Utility A = 20983.790000001936 utility D = -20983.790000001936\n"
     ]
    },
    {
     "data": {
      "application/vnd.jupyter.widget-view+json": {
       "model_id": "816eb2fc1abd483f8a6eaf1f63a8cedb",
       "version_major": 2,
       "version_minor": 0
      },
      "text/plain": [
       "  0%|          | 0/50000 [00:00<?, ?it/s]"
      ]
     },
     "metadata": {},
     "output_type": "display_data"
    },
    {
     "name": "stdout",
     "output_type": "stream",
     "text": [
      "for s = 0.6 a = 5 sA =  1 sd = 2 Ei = 0.1\n",
      "Utility A = 20996.310000002 utility D = -21060.712477197056\n"
     ]
    },
    {
     "data": {
      "application/vnd.jupyter.widget-view+json": {
       "model_id": "47b153e2b0404d80888c76be2ce57a0d",
       "version_major": 2,
       "version_minor": 0
      },
      "text/plain": [
       "  0%|          | 0/50000 [00:00<?, ?it/s]"
      ]
     },
     "metadata": {},
     "output_type": "display_data"
    },
    {
     "name": "stdout",
     "output_type": "stream",
     "text": [
      "for s = 0.6 a = 5 sA =  1 sd = 2 Ei = 0.2\n",
      "Utility A = 20901.49000000181 utility D = -21261.54327446346\n"
     ]
    },
    {
     "data": {
      "application/vnd.jupyter.widget-view+json": {
       "model_id": "365a8c8c4e2e4f03aa983746c3a9e725",
       "version_major": 2,
       "version_minor": 0
      },
      "text/plain": [
       "  0%|          | 0/50000 [00:00<?, ?it/s]"
      ]
     },
     "metadata": {},
     "output_type": "display_data"
    },
    {
     "name": "stdout",
     "output_type": "stream",
     "text": [
      "for s = 0.6 a = 5 sA =  1 sd = 2 Ei = 0.3\n",
      "Utility A = 21026.1100000017 utility D = -23107.401350072145\n"
     ]
    },
    {
     "data": {
      "application/vnd.jupyter.widget-view+json": {
       "model_id": "8ce8d1ad219147a3a395fa12f8151e57",
       "version_major": 2,
       "version_minor": 0
      },
      "text/plain": [
       "  0%|          | 0/50000 [00:00<?, ?it/s]"
      ]
     },
     "metadata": {},
     "output_type": "display_data"
    },
    {
     "name": "stdout",
     "output_type": "stream",
     "text": [
      "for s = 0.6 a = 5 sA =  1 sd = 2 Ei = 0.4\n",
      "Utility A = 21054.50000000176 utility D = -22926.134736134314\n"
     ]
    },
    {
     "data": {
      "application/vnd.jupyter.widget-view+json": {
       "model_id": "8f21dd9693104ed08640c87175fffb5e",
       "version_major": 2,
       "version_minor": 0
      },
      "text/plain": [
       "  0%|          | 0/50000 [00:00<?, ?it/s]"
      ]
     },
     "metadata": {},
     "output_type": "display_data"
    },
    {
     "name": "stdout",
     "output_type": "stream",
     "text": [
      "for s = 0.6 a = 5 sA =  1 sd = 2 Ei = 0.5\n",
      "Utility A = 20960.950000001634 utility D = -23100.018508688754\n"
     ]
    },
    {
     "data": {
      "application/vnd.jupyter.widget-view+json": {
       "model_id": "9d7ecaeba2d24e0ba8feae09fb6f6ced",
       "version_major": 2,
       "version_minor": 0
      },
      "text/plain": [
       "  0%|          | 0/50000 [00:00<?, ?it/s]"
      ]
     },
     "metadata": {},
     "output_type": "display_data"
    },
    {
     "name": "stdout",
     "output_type": "stream",
     "text": [
      "for s = 0.6 a = 5 sA =  1 sd = 2 Ei = 0.6\n",
      "Utility A = 21061.28000000173 utility D = -22845.454320879984\n"
     ]
    },
    {
     "data": {
      "application/vnd.jupyter.widget-view+json": {
       "model_id": "da460dcba49842e2a018fc4ef26f1310",
       "version_major": 2,
       "version_minor": 0
      },
      "text/plain": [
       "  0%|          | 0/50000 [00:00<?, ?it/s]"
      ]
     },
     "metadata": {},
     "output_type": "display_data"
    },
    {
     "name": "stdout",
     "output_type": "stream",
     "text": [
      "for s = 0.6 a = 5 sA =  1 sd = 2 Ei = 0.7\n",
      "Utility A = 20965.1600000022 utility D = -23099.940861540003\n"
     ]
    },
    {
     "data": {
      "application/vnd.jupyter.widget-view+json": {
       "model_id": "9c35d4dfb6e24fe6b942ce5c940e7648",
       "version_major": 2,
       "version_minor": 0
      },
      "text/plain": [
       "  0%|          | 0/50000 [00:00<?, ?it/s]"
      ]
     },
     "metadata": {},
     "output_type": "display_data"
    },
    {
     "name": "stdout",
     "output_type": "stream",
     "text": [
      "for s = 0.6 a = 5 sA =  1 sd = 2 Ei = 0.8\n",
      "Utility A = 21093.050000001993 utility D = -23135.814592077368\n"
     ]
    },
    {
     "data": {
      "application/vnd.jupyter.widget-view+json": {
       "model_id": "11e55ef87d424bfd96ed4c01be31088c",
       "version_major": 2,
       "version_minor": 0
      },
      "text/plain": [
       "  0%|          | 0/50000 [00:00<?, ?it/s]"
      ]
     },
     "metadata": {},
     "output_type": "display_data"
    },
    {
     "name": "stdout",
     "output_type": "stream",
     "text": [
      "for s = 0.6 a = 5 sA =  1 sd = 2 Ei = 0.9\n",
      "Utility A = 20907.07000000186 utility D = -24596.784801464994\n"
     ]
    },
    {
     "data": {
      "application/vnd.jupyter.widget-view+json": {
       "model_id": "9a5e48f07e344fc685886946ae83fe81",
       "version_major": 2,
       "version_minor": 0
      },
      "text/plain": [
       "  0%|          | 0/50000 [00:00<?, ?it/s]"
      ]
     },
     "metadata": {},
     "output_type": "display_data"
    },
    {
     "name": "stdout",
     "output_type": "stream",
     "text": [
      "for s = 0.6 a = 5 sA =  1 sd = 3 Ei = 0.1\n",
      "Utility A = 21084.300000001916 utility D = -21084.300000001916\n"
     ]
    },
    {
     "data": {
      "application/vnd.jupyter.widget-view+json": {
       "model_id": "0ac2e66452c74db3bbdaf06e6ee2dc22",
       "version_major": 2,
       "version_minor": 0
      },
      "text/plain": [
       "  0%|          | 0/50000 [00:00<?, ?it/s]"
      ]
     },
     "metadata": {},
     "output_type": "display_data"
    },
    {
     "name": "stdout",
     "output_type": "stream",
     "text": [
      "for s = 0.6 a = 5 sA =  1 sd = 3 Ei = 0.2\n",
      "Utility A = 21007.80000000207 utility D = -21007.80000000207\n"
     ]
    },
    {
     "data": {
      "application/vnd.jupyter.widget-view+json": {
       "model_id": "d91170da0dd04bf083424375bd2fd8a0",
       "version_major": 2,
       "version_minor": 0
      },
      "text/plain": [
       "  0%|          | 0/50000 [00:00<?, ?it/s]"
      ]
     },
     "metadata": {},
     "output_type": "display_data"
    },
    {
     "name": "stdout",
     "output_type": "stream",
     "text": [
      "for s = 0.6 a = 5 sA =  1 sd = 3 Ei = 0.3\n",
      "Utility A = 20962.600000001894 utility D = -20962.600000001894\n"
     ]
    },
    {
     "data": {
      "application/vnd.jupyter.widget-view+json": {
       "model_id": "fa114de6c2e64b6591553512514a6438",
       "version_major": 2,
       "version_minor": 0
      },
      "text/plain": [
       "  0%|          | 0/50000 [00:00<?, ?it/s]"
      ]
     },
     "metadata": {},
     "output_type": "display_data"
    },
    {
     "name": "stdout",
     "output_type": "stream",
     "text": [
      "for s = 0.6 a = 5 sA =  1 sd = 3 Ei = 0.4\n",
      "Utility A = 21050.36000000185 utility D = -21050.36000000185\n"
     ]
    },
    {
     "data": {
      "application/vnd.jupyter.widget-view+json": {
       "model_id": "c20a1608db5447029998b88df6a30dd8",
       "version_major": 2,
       "version_minor": 0
      },
      "text/plain": [
       "  0%|          | 0/50000 [00:00<?, ?it/s]"
      ]
     },
     "metadata": {},
     "output_type": "display_data"
    },
    {
     "name": "stdout",
     "output_type": "stream",
     "text": [
      "for s = 0.6 a = 5 sA =  1 sd = 3 Ei = 0.5\n",
      "Utility A = 20970.04000000199 utility D = -20970.04000000199\n"
     ]
    },
    {
     "data": {
      "application/vnd.jupyter.widget-view+json": {
       "model_id": "cd9a302ca05040ecb08d66eb66d511d7",
       "version_major": 2,
       "version_minor": 0
      },
      "text/plain": [
       "  0%|          | 0/50000 [00:00<?, ?it/s]"
      ]
     },
     "metadata": {},
     "output_type": "display_data"
    },
    {
     "name": "stdout",
     "output_type": "stream",
     "text": [
      "for s = 0.6 a = 5 sA =  1 sd = 3 Ei = 0.6\n",
      "Utility A = 21031.550000001967 utility D = -21031.550000001967\n"
     ]
    },
    {
     "data": {
      "application/vnd.jupyter.widget-view+json": {
       "model_id": "84344dc7297f4f9ba3867f23bea64f10",
       "version_major": 2,
       "version_minor": 0
      },
      "text/plain": [
       "  0%|          | 0/50000 [00:00<?, ?it/s]"
      ]
     },
     "metadata": {},
     "output_type": "display_data"
    },
    {
     "name": "stdout",
     "output_type": "stream",
     "text": [
      "for s = 0.6 a = 5 sA =  1 sd = 3 Ei = 0.7\n",
      "Utility A = 21130.66000000159 utility D = -21130.66000000159\n"
     ]
    },
    {
     "data": {
      "application/vnd.jupyter.widget-view+json": {
       "model_id": "56992cf3877f4fa9ba5174eb27956abc",
       "version_major": 2,
       "version_minor": 0
      },
      "text/plain": [
       "  0%|          | 0/50000 [00:00<?, ?it/s]"
      ]
     },
     "metadata": {},
     "output_type": "display_data"
    },
    {
     "name": "stdout",
     "output_type": "stream",
     "text": [
      "for s = 0.6 a = 5 sA =  1 sd = 3 Ei = 0.8\n",
      "Utility A = 21086.280000001527 utility D = -21086.280000001527\n"
     ]
    },
    {
     "data": {
      "application/vnd.jupyter.widget-view+json": {
       "model_id": "63ba6e5a60ee4dee9253fc70cd4322ae",
       "version_major": 2,
       "version_minor": 0
      },
      "text/plain": [
       "  0%|          | 0/50000 [00:00<?, ?it/s]"
      ]
     },
     "metadata": {},
     "output_type": "display_data"
    },
    {
     "name": "stdout",
     "output_type": "stream",
     "text": [
      "for s = 0.6 a = 5 sA =  1 sd = 3 Ei = 0.9\n",
      "Utility A = 21094.740000001824 utility D = -21094.740000001824\n"
     ]
    },
    {
     "data": {
      "application/vnd.jupyter.widget-view+json": {
       "model_id": "cf75acfd6af54c77bfbf3792fd404d04",
       "version_major": 2,
       "version_minor": 0
      },
      "text/plain": [
       "  0%|          | 0/50000 [00:00<?, ?it/s]"
      ]
     },
     "metadata": {},
     "output_type": "display_data"
    },
    {
     "name": "stdout",
     "output_type": "stream",
     "text": [
      "for s = 0.6 a = 5 sA =  2 sd = 1 Ei = 0.1\n",
      "Utility A = 1991.3999999996718 utility D = -4495.679999999647\n"
     ]
    },
    {
     "data": {
      "application/vnd.jupyter.widget-view+json": {
       "model_id": "fc7810c405ba4351b0e917a64a6dfd06",
       "version_major": 2,
       "version_minor": 0
      },
      "text/plain": [
       "  0%|          | 0/50000 [00:00<?, ?it/s]"
      ]
     },
     "metadata": {},
     "output_type": "display_data"
    },
    {
     "name": "stdout",
     "output_type": "stream",
     "text": [
      "for s = 0.6 a = 5 sA =  2 sd = 1 Ei = 0.2\n",
      "Utility A = 1974.689999999671 utility D = -3949.380000000245\n"
     ]
    },
    {
     "data": {
      "application/vnd.jupyter.widget-view+json": {
       "model_id": "4ec5f24e0e054916b92da101b38e1f50",
       "version_major": 2,
       "version_minor": 0
      },
      "text/plain": [
       "  0%|          | 0/50000 [00:00<?, ?it/s]"
      ]
     },
     "metadata": {},
     "output_type": "display_data"
    },
    {
     "name": "stdout",
     "output_type": "stream",
     "text": [
      "for s = 0.6 a = 5 sA =  2 sd = 1 Ei = 0.3\n",
      "Utility A = 1971.5799999996636 utility D = -3943.160000000222\n"
     ]
    },
    {
     "data": {
      "application/vnd.jupyter.widget-view+json": {
       "model_id": "419d1f0b516c489fa33b543dba6cb7c4",
       "version_major": 2,
       "version_minor": 0
      },
      "text/plain": [
       "  0%|          | 0/50000 [00:00<?, ?it/s]"
      ]
     },
     "metadata": {},
     "output_type": "display_data"
    },
    {
     "name": "stdout",
     "output_type": "stream",
     "text": [
      "for s = 0.6 a = 5 sA =  2 sd = 1 Ei = 0.4\n",
      "Utility A = 1965.4399999996763 utility D = -3930.8800000002293\n"
     ]
    },
    {
     "data": {
      "application/vnd.jupyter.widget-view+json": {
       "model_id": "60f3d7c5ecf744b190b38356063266a6",
       "version_major": 2,
       "version_minor": 0
      },
      "text/plain": [
       "  0%|          | 0/50000 [00:00<?, ?it/s]"
      ]
     },
     "metadata": {},
     "output_type": "display_data"
    },
    {
     "name": "stdout",
     "output_type": "stream",
     "text": [
      "for s = 0.6 a = 5 sA =  2 sd = 1 Ei = 0.5\n",
      "Utility A = 1969.219999999674 utility D = -3938.4400000001788\n"
     ]
    },
    {
     "data": {
      "application/vnd.jupyter.widget-view+json": {
       "model_id": "3dcf8ccbc03a4aa38735d009e1bd7437",
       "version_major": 2,
       "version_minor": 0
      },
      "text/plain": [
       "  0%|          | 0/50000 [00:00<?, ?it/s]"
      ]
     },
     "metadata": {},
     "output_type": "display_data"
    },
    {
     "name": "stdout",
     "output_type": "stream",
     "text": [
      "for s = 0.6 a = 5 sA =  2 sd = 1 Ei = 0.6\n",
      "Utility A = 1975.2199999996901 utility D = -3950.4400000002506\n"
     ]
    },
    {
     "data": {
      "application/vnd.jupyter.widget-view+json": {
       "model_id": "be972950d60140068f85a48367237e82",
       "version_major": 2,
       "version_minor": 0
      },
      "text/plain": [
       "  0%|          | 0/50000 [00:00<?, ?it/s]"
      ]
     },
     "metadata": {},
     "output_type": "display_data"
    },
    {
     "name": "stdout",
     "output_type": "stream",
     "text": [
      "for s = 0.6 a = 5 sA =  2 sd = 1 Ei = 0.7\n",
      "Utility A = 1944.9699999996835 utility D = -3889.940000000228\n"
     ]
    },
    {
     "data": {
      "application/vnd.jupyter.widget-view+json": {
       "model_id": "64d398e20303423ba7e01e7d192d919d",
       "version_major": 2,
       "version_minor": 0
      },
      "text/plain": [
       "  0%|          | 0/50000 [00:00<?, ?it/s]"
      ]
     },
     "metadata": {},
     "output_type": "display_data"
    },
    {
     "name": "stdout",
     "output_type": "stream",
     "text": [
      "for s = 0.6 a = 5 sA =  2 sd = 1 Ei = 0.8\n",
      "Utility A = 1989.6399999996663 utility D = -3979.280000000208\n"
     ]
    },
    {
     "data": {
      "application/vnd.jupyter.widget-view+json": {
       "model_id": "a466573504834f79a2f3f3e2e5b7aef4",
       "version_major": 2,
       "version_minor": 0
      },
      "text/plain": [
       "  0%|          | 0/50000 [00:00<?, ?it/s]"
      ]
     },
     "metadata": {},
     "output_type": "display_data"
    },
    {
     "name": "stdout",
     "output_type": "stream",
     "text": [
      "for s = 0.6 a = 5 sA =  2 sd = 1 Ei = 0.9\n",
      "Utility A = 1979.0899999996734 utility D = -3958.180000000189\n"
     ]
    },
    {
     "data": {
      "application/vnd.jupyter.widget-view+json": {
       "model_id": "f058431a24d2425fa0a7143da4354b7d",
       "version_major": 2,
       "version_minor": 0
      },
      "text/plain": [
       "  0%|          | 0/50000 [00:00<?, ?it/s]"
      ]
     },
     "metadata": {},
     "output_type": "display_data"
    },
    {
     "name": "stdout",
     "output_type": "stream",
     "text": [
      "for s = 0.6 a = 5 sA =  2 sd = 2 Ei = 0.1\n",
      "Utility A = 1979.7399999996514 utility D = -4042.232815513731\n"
     ]
    },
    {
     "data": {
      "application/vnd.jupyter.widget-view+json": {
       "model_id": "9f70c872aba041c39d27faa98fbdfa28",
       "version_major": 2,
       "version_minor": 0
      },
      "text/plain": [
       "  0%|          | 0/50000 [00:00<?, ?it/s]"
      ]
     },
     "metadata": {},
     "output_type": "display_data"
    },
    {
     "name": "stdout",
     "output_type": "stream",
     "text": [
      "for s = 0.6 a = 5 sA =  2 sd = 2 Ei = 0.2\n",
      "Utility A = 1944.6799999996779 utility D = -4403.69239720298\n"
     ]
    },
    {
     "data": {
      "application/vnd.jupyter.widget-view+json": {
       "model_id": "25b38beafaaf4fb3a9a9810708b3470f",
       "version_major": 2,
       "version_minor": 0
      },
      "text/plain": [
       "  0%|          | 0/50000 [00:00<?, ?it/s]"
      ]
     },
     "metadata": {},
     "output_type": "display_data"
    },
    {
     "name": "stdout",
     "output_type": "stream",
     "text": [
      "for s = 0.6 a = 5 sA =  2 sd = 2 Ei = 0.3\n",
      "Utility A = 1981.1799999996865 utility D = -7716.256457142943\n"
     ]
    },
    {
     "data": {
      "application/vnd.jupyter.widget-view+json": {
       "model_id": "5023cd89fdfb46c68492e612dbf8cad7",
       "version_major": 2,
       "version_minor": 0
      },
      "text/plain": [
       "  0%|          | 0/50000 [00:00<?, ?it/s]"
      ]
     },
     "metadata": {},
     "output_type": "display_data"
    },
    {
     "name": "stdout",
     "output_type": "stream",
     "text": [
      "for s = 0.6 a = 5 sA =  2 sd = 2 Ei = 0.4\n",
      "Utility A = 1992.7599999996694 utility D = -6596.875657143346\n"
     ]
    },
    {
     "data": {
      "application/vnd.jupyter.widget-view+json": {
       "model_id": "20061700d13040eeba8f8886601d7c59",
       "version_major": 2,
       "version_minor": 0
      },
      "text/plain": [
       "  0%|          | 0/50000 [00:00<?, ?it/s]"
      ]
     },
     "metadata": {},
     "output_type": "display_data"
    },
    {
     "name": "stdout",
     "output_type": "stream",
     "text": [
      "for s = 0.6 a = 5 sA =  2 sd = 2 Ei = 0.5\n",
      "Utility A = 1986.8099999996796 utility D = -5522.4592000005\n"
     ]
    },
    {
     "data": {
      "application/vnd.jupyter.widget-view+json": {
       "model_id": "46b83074f84b465795ea0431e7f4d2b4",
       "version_major": 2,
       "version_minor": 0
      },
      "text/plain": [
       "  0%|          | 0/50000 [00:00<?, ?it/s]"
      ]
     },
     "metadata": {},
     "output_type": "display_data"
    },
    {
     "name": "stdout",
     "output_type": "stream",
     "text": [
      "for s = 0.6 a = 5 sA =  2 sd = 2 Ei = 0.6\n",
      "Utility A = 1987.9499999996578 utility D = -5302.411200000368\n"
     ]
    },
    {
     "data": {
      "application/vnd.jupyter.widget-view+json": {
       "model_id": "1874c934e3fb46c7bcaa0eabd766398e",
       "version_major": 2,
       "version_minor": 0
      },
      "text/plain": [
       "  0%|          | 0/50000 [00:00<?, ?it/s]"
      ]
     },
     "metadata": {},
     "output_type": "display_data"
    },
    {
     "name": "stdout",
     "output_type": "stream",
     "text": [
      "for s = 0.6 a = 5 sA =  2 sd = 2 Ei = 0.7\n",
      "Utility A = 1993.569999999676 utility D = -3987.140000000207\n"
     ]
    },
    {
     "data": {
      "application/vnd.jupyter.widget-view+json": {
       "model_id": "905ddd29f2954e5ebded442fdb501843",
       "version_major": 2,
       "version_minor": 0
      },
      "text/plain": [
       "  0%|          | 0/50000 [00:00<?, ?it/s]"
      ]
     },
     "metadata": {},
     "output_type": "display_data"
    },
    {
     "name": "stdout",
     "output_type": "stream",
     "text": [
      "for s = 0.6 a = 5 sA =  2 sd = 2 Ei = 0.8\n",
      "Utility A = 1965.139999999679 utility D = -3930.2800000002185\n"
     ]
    },
    {
     "data": {
      "application/vnd.jupyter.widget-view+json": {
       "model_id": "f28e1b3df6a04f309437e482407068a0",
       "version_major": 2,
       "version_minor": 0
      },
      "text/plain": [
       "  0%|          | 0/50000 [00:00<?, ?it/s]"
      ]
     },
     "metadata": {},
     "output_type": "display_data"
    },
    {
     "name": "stdout",
     "output_type": "stream",
     "text": [
      "for s = 0.6 a = 5 sA =  2 sd = 2 Ei = 0.9\n",
      "Utility A = 1995.6299999996681 utility D = -3991.260000000212\n"
     ]
    },
    {
     "data": {
      "application/vnd.jupyter.widget-view+json": {
       "model_id": "2f51aeddca254ca0a68291e79815ada9",
       "version_major": 2,
       "version_minor": 0
      },
      "text/plain": [
       "  0%|          | 0/50000 [00:00<?, ?it/s]"
      ]
     },
     "metadata": {},
     "output_type": "display_data"
    },
    {
     "name": "stdout",
     "output_type": "stream",
     "text": [
      "for s = 0.6 a = 5 sA =  2 sd = 3 Ei = 0.1\n",
      "Utility A = 1990.249999999687 utility D = -3980.5000000001996\n"
     ]
    },
    {
     "data": {
      "application/vnd.jupyter.widget-view+json": {
       "model_id": "01259aad12ea44e8b8f7b769d718235c",
       "version_major": 2,
       "version_minor": 0
      },
      "text/plain": [
       "  0%|          | 0/50000 [00:00<?, ?it/s]"
      ]
     },
     "metadata": {},
     "output_type": "display_data"
    },
    {
     "name": "stdout",
     "output_type": "stream",
     "text": [
      "for s = 0.6 a = 5 sA =  2 sd = 3 Ei = 0.2\n",
      "Utility A = 1971.8099999996791 utility D = -3943.620000000237\n"
     ]
    },
    {
     "data": {
      "application/vnd.jupyter.widget-view+json": {
       "model_id": "dc6fbc50318a48ca8cfc48a27155f6eb",
       "version_major": 2,
       "version_minor": 0
      },
      "text/plain": [
       "  0%|          | 0/50000 [00:00<?, ?it/s]"
      ]
     },
     "metadata": {},
     "output_type": "display_data"
    },
    {
     "name": "stdout",
     "output_type": "stream",
     "text": [
      "for s = 0.6 a = 5 sA =  2 sd = 3 Ei = 0.3\n",
      "Utility A = 1982.9799999996678 utility D = -3965.960000000193\n"
     ]
    },
    {
     "data": {
      "application/vnd.jupyter.widget-view+json": {
       "model_id": "d19aba5755764fa5a238dca7f44ef410",
       "version_major": 2,
       "version_minor": 0
      },
      "text/plain": [
       "  0%|          | 0/50000 [00:00<?, ?it/s]"
      ]
     },
     "metadata": {},
     "output_type": "display_data"
    },
    {
     "name": "stdout",
     "output_type": "stream",
     "text": [
      "for s = 0.6 a = 5 sA =  2 sd = 3 Ei = 0.4\n",
      "Utility A = 1960.189999999684 utility D = -3920.3800000002207\n"
     ]
    },
    {
     "data": {
      "application/vnd.jupyter.widget-view+json": {
       "model_id": "0d93adf053314806afc3b30ad3a5aa29",
       "version_major": 2,
       "version_minor": 0
      },
      "text/plain": [
       "  0%|          | 0/50000 [00:00<?, ?it/s]"
      ]
     },
     "metadata": {},
     "output_type": "display_data"
    },
    {
     "name": "stdout",
     "output_type": "stream",
     "text": [
      "for s = 0.6 a = 5 sA =  2 sd = 3 Ei = 0.5\n",
      "Utility A = 1974.7099999996728 utility D = -3949.4200000002234\n"
     ]
    },
    {
     "data": {
      "application/vnd.jupyter.widget-view+json": {
       "model_id": "5753ac375e36413cbdffe12e8f40f263",
       "version_major": 2,
       "version_minor": 0
      },
      "text/plain": [
       "  0%|          | 0/50000 [00:00<?, ?it/s]"
      ]
     },
     "metadata": {},
     "output_type": "display_data"
    },
    {
     "name": "stdout",
     "output_type": "stream",
     "text": [
      "for s = 0.6 a = 5 sA =  2 sd = 3 Ei = 0.6\n",
      "Utility A = 1977.119999999676 utility D = -3954.2400000001976\n"
     ]
    },
    {
     "data": {
      "application/vnd.jupyter.widget-view+json": {
       "model_id": "bc4b8868f9734d33b35f38452f6acbc3",
       "version_major": 2,
       "version_minor": 0
      },
      "text/plain": [
       "  0%|          | 0/50000 [00:00<?, ?it/s]"
      ]
     },
     "metadata": {},
     "output_type": "display_data"
    },
    {
     "name": "stdout",
     "output_type": "stream",
     "text": [
      "for s = 0.6 a = 5 sA =  2 sd = 3 Ei = 0.7\n",
      "Utility A = 1968.2999999996816 utility D = -3936.600000000212\n"
     ]
    },
    {
     "data": {
      "application/vnd.jupyter.widget-view+json": {
       "model_id": "03e27289540341f4bd2582e8f65cfa23",
       "version_major": 2,
       "version_minor": 0
      },
      "text/plain": [
       "  0%|          | 0/50000 [00:00<?, ?it/s]"
      ]
     },
     "metadata": {},
     "output_type": "display_data"
    },
    {
     "name": "stdout",
     "output_type": "stream",
     "text": [
      "for s = 0.6 a = 5 sA =  2 sd = 3 Ei = 0.8\n",
      "Utility A = 1969.8899999996656 utility D = -3939.78000000019\n"
     ]
    },
    {
     "data": {
      "application/vnd.jupyter.widget-view+json": {
       "model_id": "a35210bd2f714c6d8285baa3498aa1f8",
       "version_major": 2,
       "version_minor": 0
      },
      "text/plain": [
       "  0%|          | 0/50000 [00:00<?, ?it/s]"
      ]
     },
     "metadata": {},
     "output_type": "display_data"
    },
    {
     "name": "stdout",
     "output_type": "stream",
     "text": [
      "for s = 0.6 a = 5 sA =  2 sd = 3 Ei = 0.9\n",
      "Utility A = 2004.0199999996744 utility D = -4008.0400000002514\n",
      "Утилиты атакующего - [[21095.  2004.]\n",
      " [20764.  1991.]\n",
      " [20857.  1975.]\n",
      " [20992.  1972.]\n",
      " [21034.  1965.]\n",
      " [21008.  1969.]\n",
      " [21005.  1975.]\n",
      " [20887.  1945.]\n",
      " [20925.  1990.]\n",
      " [20984.  1979.]\n",
      " [20996.  1980.]\n",
      " [20901.  1945.]\n",
      " [21026.  1981.]\n",
      " [21055.  1993.]\n",
      " [20961.  1987.]\n",
      " [21061.  1988.]\n",
      " [20965.  1994.]\n",
      " [21093.  1965.]\n",
      " [20907.  1996.]]\n",
      "Утилиты обороняющегося - [[-21095.  -4008.]\n",
      " [-21018.  -4496.]\n",
      " [-20857.  -3949.]\n",
      " [-20992.  -3943.]\n",
      " [-21034.  -3931.]\n",
      " [-21008.  -3938.]\n",
      " [-21005.  -3950.]\n",
      " [-20887.  -3890.]\n",
      " [-20925.  -3979.]\n",
      " [-20984.  -3958.]\n",
      " [-21061.  -4042.]\n",
      " [-21262.  -4404.]\n",
      " [-23107.  -7716.]\n",
      " [-22926.  -6597.]\n",
      " [-23100.  -5522.]\n",
      " [-22845.  -5302.]\n",
      " [-23100.  -3987.]\n",
      " [-23136.  -3930.]\n",
      " [-24597.  -3991.]]\n",
      "equlibrium (array([0., 0., 1., 0., 0., 0., 0., 0., 0., 0., 0., 0., 0., 0., 0., 0., 0.,\n",
      "       0., 0.]), array([1., 0.]))\n",
      "оптимальная стратегия оброняющегося номер  3 оптимальная стратегия атакующего номер  1\n"
     ]
    }
   ],
   "source": [
    "#for s in (0.1, 0.2, 0.3, 0.4, 0.5, 0.6, 0.7, 0.8, 0.9):\n",
    "#    for a in range(1, 11, 1):\n",
    "s = 0.6 \n",
    "a = 5\n",
    "shape = (19,2) #матрица игры\n",
    "Attacker = np.zeros(shape=shape)\n",
    "Defender = np.zeros(shape=shape)\n",
    "#1 - Proportional 2 - High\n",
    "for strategyA in (1, 2):\n",
    "    #1 - High 2 - Proportional 3 - Nothing\n",
    "    for strategyD in (1, 2, 3):\n",
    "        for Ei in (0.1, 0.2, 0.3, 0.4, 0.5, 0.6, 0.7, 0.8, 0.9):\n",
    "            if strategyA == 1 and strategyD == 1: #A -Proportional, D - High\n",
    "                j = 0\n",
    "                utilityDefender = 0\n",
    "                utilityAttacker = 0\n",
    "                for j in tqdm(range(50000)):\n",
    "                    machineValues = GetMachineValues()\n",
    "                    vulnerableMachineValues = GetVulnerableMachineValues(machineValues)\n",
    "                    importantMachineValues = GetImportantMachineValues(machineValues)\n",
    "                    machineArray = GetMachineArray(machineValues, vulnerableMachineValues, importantMachineValues)\n",
    "                    tmp = ComparisonStrategyPH(machineArray, importantMachineValues, Ei)\n",
    "                    while tmp == True:\n",
    "                        if tmp == True:\n",
    "                            utilityDefender += UtilityDefender(s, a, Ei, machineArray)\n",
    "                            utilityAttacker += UtilityAttacker(machineArray)\n",
    "                            tmp = ComparisonStrategyRPH(machineArray, importantMachineValues, Ei)\n",
    "                        else:\n",
    "                            utilityDefender += UtilityDefender(s, a, Ei, machineArray)\n",
    "                print('for s =', s,'a =', a, 'sA = ', strategyA, 'sd =', strategyD, 'Ei =', Ei)\n",
    "                print('Utility A =', utilityAttacker, 'utility D =', utilityDefender)\n",
    "            elif strategyA == 1 and strategyD == 2:\n",
    "                j = 0\n",
    "                utilityDefender = 0\n",
    "                utilityAttacker = 0\n",
    "                for j in tqdm(range(50000)):\n",
    "                    machineValues = GetMachineValues()\n",
    "                    vulnerableMachineValues = GetVulnerableMachineValues(machineValues)\n",
    "                    importantMachineValues = GetImportantMachineValues(machineValues)\n",
    "                    machineArray = GetMachineArray(machineValues, vulnerableMachineValues, importantMachineValues)\n",
    "                    tmp = ComparisonStrategyPP(machineArray, Ei, a)\n",
    "                    while tmp == True:\n",
    "                        if tmp == True:\n",
    "                            utilityDefender += UtilityDefender(s, a, Ei, machineArray)\n",
    "                            utilityAttacker += UtilityAttacker(machineArray)\n",
    "                            tmp = ComparisonStrategyRPP(machineArray, Ei, a)\n",
    "                        else:\n",
    "                            utilityDefender += UtilityDefender(s, a, Ei, machineArray)\n",
    "                print('for s =', s,'a =', a, 'sA = ', strategyA, 'sd =', strategyD, 'Ei =', Ei)\n",
    "                print('Utility A =', utilityAttacker, 'utility D =', utilityDefender)\n",
    "            elif strategyA == 1 and strategyD == 3:\n",
    "                j = 0\n",
    "                utilityDefender = 0\n",
    "                utilityAttacker = 0\n",
    "                for j in tqdm(range(50000)):\n",
    "                    machineValues = GetMachineValues()\n",
    "                    vulnerableMachineValues = GetVulnerableMachineValues(machineValues)\n",
    "                    importantMachineValues = GetImportantMachineValues(machineValues)\n",
    "                    machineArray = GetMachineArray(machineValues, vulnerableMachineValues, importantMachineValues)\n",
    "                    tmp = ComparisonStrategyPN(machineArray)\n",
    "                    while tmp ==True:\n",
    "                        if tmp == True:\n",
    "                            utilityDefender += UtilityDefender(s, a, Ei, machineArray)\n",
    "                            utilityAttacker += UtilityAttacker(machineArray)\n",
    "                            tmp = ComparisonStrategyRPN(machineArray)\n",
    "                        else:\n",
    "                            utilityDefender += UtilityDefender(s, a, Ei, machineArray)\n",
    "                            break\n",
    "                print('for s =', s,'a =', a, 'sA = ', strategyA, 'sd =', strategyD, 'Ei =', Ei)\n",
    "                print('Utility A =', utilityAttacker, 'utility D =', utilityDefender)\n",
    "            elif strategyA == 2 and strategyD == 1:\n",
    "                j = 0\n",
    "                utilityDefender = 0\n",
    "                utilityAttacker = 0\n",
    "                for j in tqdm(range(50000)):\n",
    "                    machineValues = GetMachineValues()\n",
    "                    vulnerableMachineValues = GetVulnerableMachineValues(machineValues)\n",
    "                    importantMachineValues = GetImportantMachineValues(machineValues)\n",
    "                    machineArray = GetMachineArray(machineValues, vulnerableMachineValues, importantMachineValues)\n",
    "                    tmp = ComparsionStrategyHH(Ei, importantMachineValues, machineArray, a)\n",
    "                    while True:\n",
    "                        if tmp == True:\n",
    "                            utilityDefender += UtilityDefender(s, a, Ei, machineArray)\n",
    "                            utilityAttacker += UtilityAttacker(machineArray)\n",
    "                            tmp = ComparsionStrategyRHH(Ei, importantMachineValues, machineArray, a)\n",
    "                        else:\n",
    "                            utilityDefender += UtilityDefender(s, a, Ei, machineArray)\n",
    "                            break\n",
    "                print('for s =', s,'a =', a, 'sA = ', strategyA, 'sd =', strategyD, 'Ei =', Ei)\n",
    "                print('Utility A =', utilityAttacker, 'utility D =', utilityDefender) \n",
    "            elif strategyA == 2 and strategyD == 2:\n",
    "                j = 0\n",
    "                utilityDefender = 0\n",
    "                utilityAttacker = 0\n",
    "                for j in tqdm(range(50000)):\n",
    "                    machineValues = GetMachineValues()\n",
    "                    vulnerableMachineValues = GetVulnerableMachineValues(machineValues)\n",
    "                    importantMachineValues = GetImportantMachineValues(machineValues)\n",
    "                    machineArray = GetMachineArray(machineValues, vulnerableMachineValues, importantMachineValues)\n",
    "                    tmp = ComparisonStrategyHP(machineArray, Ei, importantMachineValues, a)\n",
    "                    while True:\n",
    "                        if tmp == True:\n",
    "                            utilityDefender += UtilityDefender(s, a, Ei, machineArray)\n",
    "                            utilityAttacker += UtilityAttacker(machineArray)\n",
    "                            tmp = ComparisonStrategyRHP(machineArray, Ei, importantMachineValues, a)\n",
    "                        else:\n",
    "                            utilityDefender += UtilityDefender(s, a, Ei, machineArray)\n",
    "                            break\n",
    "                print('for s =', s,'a =', a, 'sA = ', strategyA, 'sd =', strategyD, 'Ei =', Ei)\n",
    "                print('Utility A =', utilityAttacker, 'utility D =', utilityDefender)\n",
    "            elif strategyA == 2 and strategyD == 3:\n",
    "                j = 0\n",
    "                utilityDefender = 0\n",
    "                utilityAttacker = 0\n",
    "                for j in tqdm(range(50000)):\n",
    "                    machineValues = GetMachineValues()\n",
    "                    vulnerableMachineValues = GetVulnerableMachineValues(machineValues)\n",
    "                    importantMachineValues = GetImportantMachineValues(machineValues)\n",
    "                    machineArray = GetMachineArray(machineValues, vulnerableMachineValues, importantMachineValues)\n",
    "                    tmp = ComparsionStrategyHN(machineArray, importantMachineValues)\n",
    "                    while True:\n",
    "                        if tmp == True:\n",
    "                            utilityDefender += UtilityDefender(s, a, Ei, machineArray)\n",
    "                            utilityAttacker += UtilityAttacker(machineArray)\n",
    "                            tmp = ComparsionStrategyRHN(machineArray, importantMachineValues)\n",
    "                        else:\n",
    "                            utilityDefender += UtilityDefender(s, a, Ei, machineArray)\n",
    "                            break\n",
    "                print('for s =', s,'a =', a, 'sA = ', strategyA, 'sd =', strategyD, 'Ei =', Ei)\n",
    "                print('Utility A =', utilityAttacker, 'utility D =', utilityDefender)\n",
    "            if strategyD == 3:\n",
    "                Attacker[0, strategyA - 1] = round(utilityAttacker)\n",
    "                Defender[0, strategyA - 1] = round(utilityDefender)\n",
    "            elif strategyD == 1:\n",
    "                index = int(Ei * 10)\n",
    "                Attacker[index, strategyA - 1] = round(utilityAttacker)\n",
    "                Defender[index, strategyA - 1] = round(utilityDefender)\n",
    "            elif strategyD == 2:\n",
    "                index = int(Ei * 10) + 9\n",
    "                Attacker[index, strategyA - 1] = round(utilityAttacker)\n",
    "                Defender[index, strategyA - 1] = round(utilityDefender)\n",
    "degenGameTest = False\n",
    "game = nash.Game(Defender, Attacker)\n",
    "print(\"Утилиты атакующего -\", Attacker)\n",
    "print(\"Утилиты обороняющегося -\", Defender)\n",
    "try:\n",
    "    equlibrium = list(game.support_enumeration())[0]\n",
    "except IndexError:\n",
    "    try:\n",
    "        equlibrium = list(game.support_enumeration(non_degenerate=True))[0]\n",
    "    except:\n",
    "        equlibrium = list(game.support_enumeration(non_degenerate=True))\n",
    "        degenGameTest = True\n",
    "print(\"equlibrium\", equlibrium)\n",
    "if degenGameTest == False:\n",
    "    numEqulibriumDefender = np.argmax(equlibrium[0])+1\n",
    "    numEqulibriumAttacker = np.argmax(equlibrium[1])+1\n",
    "else:\n",
    "    numEqulibriumDefender = equlibrium\n",
    "    numEqulibriumAttacker = equlibrium\n",
    "print(\"оптимальная стратегия оброняющегося номер \", numEqulibriumDefender, \"оптимальная стратегия атакующего номер \", numEqulibriumAttacker)\n",
    "\n",
    "#arrayEqlibriumDefender.append(numEqulibriumDefender)\n",
    "#arrayEqlibriumAttecker.append(numEqulibriumAttacker)\n",
    "\n",
    "#print('array Defender - ', '\\n', arrayEqlibriumDefender)\n",
    "#print('arrau Attacker - ', '\\n', arrayEqlibriumAttecker)"
   ]
  },
  {
   "cell_type": "code",
   "execution_count": 24,
   "id": "21596fed",
   "metadata": {},
   "outputs": [
    {
     "name": "stdout",
     "output_type": "stream",
     "text": [
      "-5\n"
     ]
    }
   ],
   "source": [
    "def a():\n",
    "    l = 3\n",
    "    p = 2\n",
    "    return - l - p\n",
    "\n",
    "print(a())"
   ]
  },
  {
   "cell_type": "code",
   "execution_count": null,
   "id": "0f7366b9",
   "metadata": {},
   "outputs": [],
   "source": []
  }
 ],
 "metadata": {
  "kernelspec": {
   "display_name": "Python 3 (ipykernel)",
   "language": "python",
   "name": "python3"
  },
  "language_info": {
   "codemirror_mode": {
    "name": "ipython",
    "version": 3
   },
   "file_extension": ".py",
   "mimetype": "text/x-python",
   "name": "python",
   "nbconvert_exporter": "python",
   "pygments_lexer": "ipython3",
   "version": "3.8.10"
  }
 },
 "nbformat": 4,
 "nbformat_minor": 5
}
