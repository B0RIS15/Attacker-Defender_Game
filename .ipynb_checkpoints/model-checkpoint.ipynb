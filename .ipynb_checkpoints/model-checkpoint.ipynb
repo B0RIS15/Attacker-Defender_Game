{
 "cells": [
  {
   "cell_type": "code",
   "execution_count": 2,
   "id": "cae20631",
   "metadata": {},
   "outputs": [
    {
     "name": "stdout",
     "output_type": "stream",
     "text": [
      "[[15, 10, 15, 15, 15, 15, 10, 10, 10, 15], [15, 10, 15, 10, 15, 10, 10, 15, 10, 15], [0, 10, 10, 15, 15, 15, 15, 10, 10, 10], [0, 10, 10, 15, 10, 15, 10, 10, 10, 15], [15, 15, 10, 10, 10, 10, 15, 10, 10, 15], [15, 10, 10, 10, 15, 15, 5, 10, 10, 10], [15, 15, 15, 0, 5, 10, 15, 10, 10, 10], [10, 10, 15, 10, 15, 15, 10, 10, 10, 10], [15, 10, 15, 5, 10, 5, 15, 15, 10, 15]]\n"
     ]
    },
    {
     "data": {
      "image/png": "[encoded data removed]",
      "text/plain": [
       "<Figure size 720x720 with 1 Axes>"
      ]
     },
     "metadata": {},
     "output_type": "display_data"
    }
   ],
   "source": [
    "import matplotlib.pyplot as plt\n",
    "\n",
    "def CheckStrategyDefender(b):\n",
    "    NumberStrategy = {\n",
    "        '1':'Nothing',\n",
    "        '2':'High',\n",
    "        '3':'High',\n",
    "        '4':'High',\n",
    "        '5':'High',\n",
    "        '6':'High',\n",
    "        '7':'High',\n",
    "        '8':'High',\n",
    "        '9':'High',\n",
    "        '10':'High',\n",
    "        '11':'Proportional',\n",
    "        '12':'Proportional',\n",
    "        '13':'Proportional',\n",
    "        '14':'Proportional',\n",
    "        '15':'Proportional',\n",
    "        '16':'Proportional',\n",
    "        '17':'Proportional',\n",
    "        '18':'Proportional',\n",
    "        '19':'Proportional'\n",
    "    }\n",
    "    return NumberStrategy[b]\n",
    "\n",
    "\n",
    "c = [[0, 0, 0, 0, 0, 0, 0, 0, 0, 0],\n",
    "     [0, 0, 0, 0, 0, 0, 0, 0, 0, 0],\n",
    "     [0, 0, 0, 0, 0, 0, 0, 0, 0, 0],\n",
    "     [0, 0, 0, 0, 0, 0, 0, 0, 0, 0],\n",
    "     [0, 0, 0, 0, 0, 0, 0, 0, 0, 0],\n",
    "     [0, 0, 0, 0, 0, 0, 0, 0, 0, 0],\n",
    "     [0, 0, 0, 0, 0, 0, 0, 0, 0, 0],\n",
    "     [0, 0, 0, 0, 0, 0, 0, 0, 0, 0],\n",
    "     [0, 0, 0, 0, 0, 0, 0, 0, 0, 0]]\n",
    "\n",
    "\n",
    "x = [1, 2, 3, 4, 5, 6, 7, 8, 9, 10, 11]\n",
    "y = [0.1, 0.2, 0.3, 0.4, 0.5, 0.6, 0.7, 0.8, 0.9, 1]\n",
    "\n",
    "arrayEqlibrium = [17, 9, 12, 12, 13, 17, 10, 8, 9, 14, 12, 10, 11, 10, 15, 4, 9, 16, 5, 14, None, 10, 8, 16, 19, 19,\n",
    "                 19, 6, 8, 7, None, 5, 6, 16, 5, 17, 9, 6, 9, 13, 18, 12, 3, 2, 10, 7, 11, 9, 2, 11, 19, 9, 5, 10, 17,\n",
    "                 12, 1, 10, 10, 3, 12, 19, 14, None, 1, 10, 18, 2, 5, 8, 5, 6, 12, 8, 16, 17, 4, 9, 2, 7, 18, 2, 14, 1,\n",
    "                 4, 1, 18, 11, 6, 18]\n",
    "\n",
    "\n",
    "i = 0\n",
    "for s in range(0, 9, 1):\n",
    "    for a in range(0, 10, 1):\n",
    "        if arrayEqlibrium[i] != None:\n",
    "            if CheckStrategyDefender(str(arrayEqlibrium[i])) == 'Nothing':\n",
    "                c[s][a] = 5\n",
    "            if CheckStrategyDefender(str(arrayEqlibrium[i])) == 'Proportional':\n",
    "                c[s][a] = 15\n",
    "            if CheckStrategyDefender(str(arrayEqlibrium[i])) == 'High':\n",
    "                c[s][a] = 10  \n",
    "        i += 1\n",
    "                \n",
    "print(c)\n",
    "\n",
    "fig, ax = plt.subplots()\n",
    "\n",
    "ax.pcolormesh(x, y, c)\n",
    "\n",
    "fig.set_figwidth(10)    #  ширина и\n",
    "fig.set_figheight(10)    #  высота \"Figure\"\n",
    "fig.set_facecolor('floralwhite')\n",
    "ax.set_facecolor('seashell')\n",
    "\n",
    "plt.show()"
   ]
  },
  {
   "cell_type": "code",
   "execution_count": 5,
   "id": "74ea06c6",
   "metadata": {},
   "outputs": [
    {
     "data": {
      "image/png": "[encoded data removed]",
      "text/plain": [
       "<Figure size 720x720 with 1 Axes>"
      ]
     },
     "metadata": {},
     "output_type": "display_data"
    }
   ],
   "source": [
    "import matplotlib.pyplot as plt\n",
    "#График со стратегиями атакующего\n",
    "\n",
    "c = [[15, 15, 15, 15, 15, 15, 15, 15, 15, 15],\n",
    "     [15, 15, 15, 15, 15, 15, 15, 15, 15, 15],\n",
    "     [15, 15, 15, 15, 15, 15, 15, 15, 15, 15],\n",
    "     [15, 15, 15, 15, 15, 15, 15, 15, 15, 15],\n",
    "     [15, 15, 15, 15, 15, 15, 15, 15, 15, 15],\n",
    "     [15, 15, 15, 15, 15, 15, 15, 15, 15, 15],\n",
    "     [15, 15, 15, 15, 15, 15, 15, 15, 15, 15],\n",
    "     [15, 15, 15, 15, 15, 15, 15, 15, 15, 15],\n",
    "     [15, 15, 15, 15, 15, 15, 15, 15, 15, 15]]\n",
    "\n",
    "i = 0\n",
    "for s in range(0, 9, 1):\n",
    "    for a in range(0, 10, 1):\n",
    "        if arrayEqlibrium[i] == None:\n",
    "            c[s][a] = 10\n",
    "        i += 1\n",
    "\n",
    "\n",
    "x = [1, 2, 3, 4, 5, 6, 7, 8, 9, 10, 11]\n",
    "y = [0.1, 0.2, 0.3, 0.4, 0.5, 0.6, 0.7, 0.8, 0.9, 1]\n",
    "\n",
    "\n",
    "#print(len(arrayEqlibrium), len(arrayEqlibriumDefender))\n",
    "\n",
    "\n",
    "fig, ax = plt.subplots()\n",
    "\n",
    "ax.pcolormesh(x, y, c)\n",
    "\n",
    "fig.set_figwidth(10)    #  ширина и\n",
    "fig.set_figheight(10)    #  высота \"Figure\"\n",
    "fig.set_facecolor('floralwhite')\n",
    "ax.set_facecolor('seashell')\n",
    "\n",
    "\n",
    "plt.show()"
   ]
  },
  {
   "cell_type": "code",
   "execution_count": 47,
   "id": "e7d018e9",
   "metadata": {},
   "outputs": [
    {
     "data": {
      "application/vnd.jupyter.widget-view+json": {
       "model_id": "92851088f013409d814db65b26b7b8e7",
       "version_major": 2,
       "version_minor": 0
      },
      "text/plain": [
       "  0%|          | 0/50000 [00:00<?, ?it/s]"
      ]
     },
     "metadata": {},
     "output_type": "display_data"
    },
    {
     "name": "stdout",
     "output_type": "stream",
     "text": [
      "for s = 0.1 a = 1 sA =  1 sd = 1 Ei = 0.1\n",
      "Utility A = 20324.020000001325 utility D = -20924.858888889412\n"
     ]
    },
    {
     "data": {
      "application/vnd.jupyter.widget-view+json": {
       "model_id": "2f54f54748be46b8b787c9cb2561c3eb",
       "version_major": 2,
       "version_minor": 0
      },
      "text/plain": [
       "  0%|          | 0/50000 [00:00<?, ?it/s]"
      ]
     },
     "metadata": {},
     "output_type": "display_data"
    },
    {
     "ename": "KeyboardInterrupt",
     "evalue": "",
     "output_type": "error",
     "traceback": [
      "\u001b[0;31m---------------------------------------------------------------------------\u001b[0m",
      "\u001b[0;31mKeyboardInterrupt\u001b[0m                         Traceback (most recent call last)",
      "\u001b[0;32m/tmp/ipykernel_16391/1391411928.py\u001b[0m in \u001b[0;36m<module>\u001b[0;34m\u001b[0m\n\u001b[1;32m    301\u001b[0m                         \u001b[0mutilityAttacker\u001b[0m \u001b[0;34m=\u001b[0m \u001b[0;36m0\u001b[0m\u001b[0;34m\u001b[0m\u001b[0;34m\u001b[0m\u001b[0m\n\u001b[1;32m    302\u001b[0m                         \u001b[0;32mfor\u001b[0m \u001b[0mj\u001b[0m \u001b[0;32min\u001b[0m \u001b[0mtqdm\u001b[0m\u001b[0;34m(\u001b[0m\u001b[0mrange\u001b[0m\u001b[0;34m(\u001b[0m\u001b[0;36m50000\u001b[0m\u001b[0;34m)\u001b[0m\u001b[0;34m)\u001b[0m\u001b[0;34m:\u001b[0m\u001b[0;34m\u001b[0m\u001b[0;34m\u001b[0m\u001b[0m\n\u001b[0;32m--> 303\u001b[0;31m                             \u001b[0mmachineValues\u001b[0m \u001b[0;34m=\u001b[0m \u001b[0mGetMachineValues\u001b[0m\u001b[0;34m(\u001b[0m\u001b[0;34m)\u001b[0m\u001b[0;34m\u001b[0m\u001b[0;34m\u001b[0m\u001b[0m\n\u001b[0m\u001b[1;32m    304\u001b[0m                             \u001b[0mvulnerableMachineValues\u001b[0m \u001b[0;34m=\u001b[0m \u001b[0mGetVulnerableMachineValues\u001b[0m\u001b[0;34m(\u001b[0m\u001b[0mmachineValues\u001b[0m\u001b[0;34m)\u001b[0m\u001b[0;34m\u001b[0m\u001b[0;34m\u001b[0m\u001b[0m\n\u001b[1;32m    305\u001b[0m                             \u001b[0mimportantMachineValues\u001b[0m \u001b[0;34m=\u001b[0m \u001b[0mGetImportantMachineValues\u001b[0m\u001b[0;34m(\u001b[0m\u001b[0mmachineValues\u001b[0m\u001b[0;34m)\u001b[0m\u001b[0;34m\u001b[0m\u001b[0;34m\u001b[0m\u001b[0m\n",
      "\u001b[0;32m/tmp/ipykernel_16391/1391411928.py\u001b[0m in \u001b[0;36mGetMachineValues\u001b[0;34m()\u001b[0m\n\u001b[1;32m     44\u001b[0m \u001b[0;31m#получаем кол-во машин\u001b[0m\u001b[0;34m\u001b[0m\u001b[0;34m\u001b[0m\u001b[0;34m\u001b[0m\u001b[0m\n\u001b[1;32m     45\u001b[0m \u001b[0;32mdef\u001b[0m \u001b[0mGetMachineValues\u001b[0m\u001b[0;34m(\u001b[0m\u001b[0;34m)\u001b[0m\u001b[0;34m:\u001b[0m\u001b[0;34m\u001b[0m\u001b[0;34m\u001b[0m\u001b[0m\n\u001b[0;32m---> 46\u001b[0;31m     \u001b[0mmachineValues\u001b[0m \u001b[0;34m=\u001b[0m \u001b[0mrandom\u001b[0m\u001b[0;34m.\u001b[0m\u001b[0mrandint\u001b[0m\u001b[0;34m(\u001b[0m\u001b[0;36m4\u001b[0m\u001b[0;34m,\u001b[0m \u001b[0;36m15\u001b[0m\u001b[0;34m)\u001b[0m\u001b[0;34m\u001b[0m\u001b[0;34m\u001b[0m\u001b[0m\n\u001b[0m\u001b[1;32m     47\u001b[0m     \u001b[0;32mreturn\u001b[0m \u001b[0mmachineValues\u001b[0m\u001b[0;34m\u001b[0m\u001b[0;34m\u001b[0m\u001b[0m\n\u001b[1;32m     48\u001b[0m \u001b[0;31m#получаем кол-во уязвимых машин\u001b[0m\u001b[0;34m\u001b[0m\u001b[0;34m\u001b[0m\u001b[0;34m\u001b[0m\u001b[0m\n",
      "\u001b[0;32m/usr/lib/python3.8/random.py\u001b[0m in \u001b[0;36mrandint\u001b[0;34m(self, a, b)\u001b[0m\n\u001b[1;32m    246\u001b[0m         \"\"\"\n\u001b[1;32m    247\u001b[0m \u001b[0;34m\u001b[0m\u001b[0m\n\u001b[0;32m--> 248\u001b[0;31m         \u001b[0;32mreturn\u001b[0m \u001b[0mself\u001b[0m\u001b[0;34m.\u001b[0m\u001b[0mrandrange\u001b[0m\u001b[0;34m(\u001b[0m\u001b[0ma\u001b[0m\u001b[0;34m,\u001b[0m \u001b[0mb\u001b[0m\u001b[0;34m+\u001b[0m\u001b[0;36m1\u001b[0m\u001b[0;34m)\u001b[0m\u001b[0;34m\u001b[0m\u001b[0;34m\u001b[0m\u001b[0m\n\u001b[0m\u001b[1;32m    249\u001b[0m \u001b[0;34m\u001b[0m\u001b[0m\n\u001b[1;32m    250\u001b[0m     \u001b[0;32mdef\u001b[0m \u001b[0m_randbelow_with_getrandbits\u001b[0m\u001b[0;34m(\u001b[0m\u001b[0mself\u001b[0m\u001b[0;34m,\u001b[0m \u001b[0mn\u001b[0m\u001b[0;34m)\u001b[0m\u001b[0;34m:\u001b[0m\u001b[0;34m\u001b[0m\u001b[0;34m\u001b[0m\u001b[0m\n",
      "\u001b[0;32m/usr/lib/python3.8/random.py\u001b[0m in \u001b[0;36mrandrange\u001b[0;34m(self, start, stop, step, _int)\u001b[0m\n\u001b[1;32m    222\u001b[0m         \u001b[0mwidth\u001b[0m \u001b[0;34m=\u001b[0m \u001b[0mistop\u001b[0m \u001b[0;34m-\u001b[0m \u001b[0mistart\u001b[0m\u001b[0;34m\u001b[0m\u001b[0;34m\u001b[0m\u001b[0m\n\u001b[1;32m    223\u001b[0m         \u001b[0;32mif\u001b[0m \u001b[0mstep\u001b[0m \u001b[0;34m==\u001b[0m \u001b[0;36m1\u001b[0m \u001b[0;32mand\u001b[0m \u001b[0mwidth\u001b[0m \u001b[0;34m>\u001b[0m \u001b[0;36m0\u001b[0m\u001b[0;34m:\u001b[0m\u001b[0;34m\u001b[0m\u001b[0;34m\u001b[0m\u001b[0m\n\u001b[0;32m--> 224\u001b[0;31m             \u001b[0;32mreturn\u001b[0m \u001b[0mistart\u001b[0m \u001b[0;34m+\u001b[0m \u001b[0mself\u001b[0m\u001b[0;34m.\u001b[0m\u001b[0m_randbelow\u001b[0m\u001b[0;34m(\u001b[0m\u001b[0mwidth\u001b[0m\u001b[0;34m)\u001b[0m\u001b[0;34m\u001b[0m\u001b[0;34m\u001b[0m\u001b[0m\n\u001b[0m\u001b[1;32m    225\u001b[0m         \u001b[0;32mif\u001b[0m \u001b[0mstep\u001b[0m \u001b[0;34m==\u001b[0m \u001b[0;36m1\u001b[0m\u001b[0;34m:\u001b[0m\u001b[0;34m\u001b[0m\u001b[0;34m\u001b[0m\u001b[0m\n\u001b[1;32m    226\u001b[0m             \u001b[0;32mraise\u001b[0m \u001b[0mValueError\u001b[0m\u001b[0;34m(\u001b[0m\u001b[0;34m\"empty range for randrange() (%d, %d, %d)\"\u001b[0m \u001b[0;34m%\u001b[0m \u001b[0;34m(\u001b[0m\u001b[0mistart\u001b[0m\u001b[0;34m,\u001b[0m \u001b[0mistop\u001b[0m\u001b[0;34m,\u001b[0m \u001b[0mwidth\u001b[0m\u001b[0;34m)\u001b[0m\u001b[0;34m)\u001b[0m\u001b[0;34m\u001b[0m\u001b[0;34m\u001b[0m\u001b[0m\n",
      "\u001b[0;32m/usr/lib/python3.8/random.py\u001b[0m in \u001b[0;36m_randbelow_with_getrandbits\u001b[0;34m(self, n)\u001b[0m\n\u001b[1;32m    254\u001b[0m         \u001b[0mk\u001b[0m \u001b[0;34m=\u001b[0m \u001b[0mn\u001b[0m\u001b[0;34m.\u001b[0m\u001b[0mbit_length\u001b[0m\u001b[0;34m(\u001b[0m\u001b[0;34m)\u001b[0m  \u001b[0;31m# don't use (n-1) here because n can be 1\u001b[0m\u001b[0;34m\u001b[0m\u001b[0;34m\u001b[0m\u001b[0m\n\u001b[1;32m    255\u001b[0m         \u001b[0mr\u001b[0m \u001b[0;34m=\u001b[0m \u001b[0mgetrandbits\u001b[0m\u001b[0;34m(\u001b[0m\u001b[0mk\u001b[0m\u001b[0;34m)\u001b[0m          \u001b[0;31m# 0 <= r < 2**k\u001b[0m\u001b[0;34m\u001b[0m\u001b[0;34m\u001b[0m\u001b[0m\n\u001b[0;32m--> 256\u001b[0;31m         \u001b[0;32mwhile\u001b[0m \u001b[0mr\u001b[0m \u001b[0;34m>=\u001b[0m \u001b[0mn\u001b[0m\u001b[0;34m:\u001b[0m\u001b[0;34m\u001b[0m\u001b[0;34m\u001b[0m\u001b[0m\n\u001b[0m\u001b[1;32m    257\u001b[0m             \u001b[0mr\u001b[0m \u001b[0;34m=\u001b[0m \u001b[0mgetrandbits\u001b[0m\u001b[0;34m(\u001b[0m\u001b[0mk\u001b[0m\u001b[0;34m)\u001b[0m\u001b[0;34m\u001b[0m\u001b[0;34m\u001b[0m\u001b[0m\n\u001b[1;32m    258\u001b[0m         \u001b[0;32mreturn\u001b[0m \u001b[0mr\u001b[0m\u001b[0;34m\u001b[0m\u001b[0;34m\u001b[0m\u001b[0m\n",
      "\u001b[0;31mKeyboardInterrupt\u001b[0m: "
     ]
    }
   ],
   "source": [
    "import math\n",
    "import numpy as np\n",
    "import random\n",
    "from tqdm.notebook import tqdm\n",
    "import nashpy as nash\n",
    "import matplotlib.pyplot as plt\n",
    "\n",
    "\n",
    "class Machine:\n",
    "    \n",
    "    def __init__(self, vulnerable, percentValue, penetrate, protectionLevel, possibilityProtection):\n",
    "        #Уязвима или нет - bool\n",
    "        self.vulnerable = vulnerable\n",
    "        #Значение в сети - %\n",
    "        self.percentValue = percentValue\n",
    "        #Взломана или нет -bool\n",
    "        self.penetrate = penetrate\n",
    "        #Защита - E' * percentValue\n",
    "        self.protectionLevel = protectionLevel\n",
    "        #Возможно ли ее защитить - bool\n",
    "        self.possibilityProtection = possibilityProtection\n",
    "        \n",
    "    def changeVulnerable(self, vulnerable):\n",
    "        self.vulnerable = vulnerable\n",
    "    \n",
    "    def changeCost(self, percentValue):\n",
    "        self.percentValue = float(percentValue)\n",
    "        \n",
    "    def changePenetrate(self, penetrate):\n",
    "        self.penetrate = penetrate\n",
    "    \n",
    "    def changeProtectionLevel(self, protectionLevel):\n",
    "        self.protectionLevel = float(protectionLevel)\n",
    "    \n",
    "    def changePossibilityProtection(self, possibilityProtection):\n",
    "        self.possibilityProtection = possibilityProtection\n",
    "        \n",
    "    def pr(self):\n",
    "        print(self.vulnerable, self.percentValue, self.penetrate)\n",
    "\n",
    "        \n",
    "def printAllvalues(machineValues, vulnerableMachineValues, importantMachineValues):\n",
    "    print('machine values = ', machineValues, 'vulnerable machine values = ', vulnerableMachineValues, 'important machine values =', importantMachineValues)\n",
    "#получаем кол-во машин\n",
    "def GetMachineValues():\n",
    "    machineValues = random.randint(7, 30)\n",
    "    return machineValues\n",
    "#получаем кол-во уязвимых машин \n",
    "def GetVulnerableMachineValues(machineValues):\n",
    "    vulnerableMachineValues = random.randint(1, machineValues)\n",
    "    return vulnerableMachineValues\n",
    "#получаем номер главной машины\n",
    "def GetImportantMachineValues(machineValues):\n",
    "    importantMachineValues = random.randint(1, machineValues)\n",
    "    return importantMachineValues\n",
    "#получаем процент, который занимает главная машина \n",
    "def GetPercentValue():\n",
    "    percentValue = random.randint(30, 60)\n",
    "    return percentValue\n",
    "\n",
    "def GetMachineArray(machineValues, vulnerableMachineValues, importantMachineValues):\n",
    "    machineArray = []\n",
    "    percentValue = GetPercentValue() / 100\n",
    "    reversePercent = ((100 - percentValue) / (machineValues - 1)) / 100\n",
    "    reversePercent = (\"%.2f\" % reversePercent)\n",
    "    for i in range(machineValues):\n",
    "        if i == (importantMachineValues - 1):\n",
    "            tmp = Machine(False, float(percentValue), False, float(0.0), False)\n",
    "        else:\n",
    "            tmp = Machine(False, float(reversePercent), False, float(0.0), False)\n",
    "        machineArray.append(tmp)\n",
    "    #здесь баг - может 2 и более раз сгенерироваться\n",
    "    #одинаковое число и поэтому кол-во машин будет неточным\n",
    "    for i in range(0, vulnerableMachineValues):\n",
    "        j = random.randint(0, machineValues - 1)\n",
    "        machineArray[j].changeVulnerable(True)\n",
    "    return machineArray\n",
    "#возвращает число уязвимых машин, так как из-за бага\n",
    "#прошлое число уязвимых != новому\n",
    "def GetVulnerableMachine(machineValues, machineArray):\n",
    "    vulnerableMachine = 0\n",
    "    for i in range(machineValues):\n",
    "        if machineArray[i].vulnerable == True:\n",
    "            vulnerableMachine += 1\n",
    "    return vulnerableMachine\n",
    "#это все возможные разрывы функции стоимости на данном промежутке 1-10\n",
    "def CheckCost(a):\n",
    "    BreakFunc = {\n",
    "        '1':'1',\n",
    "        '2':'0.5',\n",
    "        '3':'0.333',\n",
    "        '4':'0.25',\n",
    "        '5':'0.2',\n",
    "        '6':'0.166',\n",
    "        '7':'0.142',\n",
    "        '8':'0.125',\n",
    "        '9':'0.111',\n",
    "        '10':'0.1'\n",
    "    }\n",
    "    return BreakFunc[a]\n",
    "#в этой функции есть разрыв, то что справа от него по x\n",
    "#то не получится защитить, так как не хватит ресурсов\n",
    "#этот разрыв в той точке, где знаменатель обращается в 0\n",
    "def CostFunction(s, a, Ei):\n",
    "    #return -(s * Ei * Ei)/(a * Ei - 1)\n",
    "    try:\n",
    "        return -(s * Ei * Ei)/(a * Ei - 1)\n",
    "    except ZeroDivisionError:\n",
    "        return 0\n",
    "    #С условием в распределении уровней защиты в стратегиях - не должно быть деления на 0\n",
    "\n",
    "def UtilityDefender(s, a, Ei, machineArray):\n",
    "    # l - процент понесенных потерь машин\n",
    "    tmp = 0\n",
    "    percent = len(machineArray) / 100\n",
    "    l = 0\n",
    "    for i in range(len(machineArray)):\n",
    "        if machineArray[i].penetrate == True:\n",
    "            l += percent\n",
    "            tmp += CostFunction(s, a, machineArray[i].protectionLevel)\n",
    "    return - l - tmp\n",
    "\n",
    "def UtilityAttacker(machineArray):\n",
    "    percent = len(machineArray) / 100\n",
    "    l = 0\n",
    "    for i in range(len(machineArray)):\n",
    "        if machineArray[i].penetrate == True:\n",
    "            l += percent\n",
    "    return l\n",
    "    \n",
    "def AttackerStrategyProportional(machineArray):\n",
    "    attackerProportionalEffort = []\n",
    "    for i in range(len(machineArray)):\n",
    "        tmp = machineArray[i].percentValue\n",
    "        attackerProportionalEffort.append(tmp)\n",
    "    return attackerProportionalEffort\n",
    "#Если в пером раунде атакующий взломал >= 1 машины\n",
    "#То он перераспределяет свои ресурсы\n",
    "#отложи эту функцию, пока что протестируем без перераспределения\n",
    "'''\n",
    "в этой модели есть логическая ошибка -\n",
    "сказано, что если атакующий взламывает хотя бы 1 машину\n",
    "то тогда он перераспределяет свои ресурсы и атакует другие\n",
    "это не работает при стратегии proportional - у него нет верхнего\n",
    "предела по ресурсам, он выделяет ровно столько, сколько занимает\n",
    "машина в сети. Так как значение машин не меняется - то и выделять\n",
    "атакующий будет ровно столько же, сколько и прошлый раз.\n",
    "следовательно, он не взломает за последующие атаки ни одну машину\n",
    "посмотрим как будет работать\n",
    "'''\n",
    "def AttackerStrategyProportionalRedistribution(machineArray):\n",
    "    attackerProportionalEffort = []\n",
    "    for i in range(len(machineArray)):\n",
    "        if machineArray[i].penetrate == False:\n",
    "            tmp = machineArray[i].percentValue\n",
    "            attackerProportionalEffort.append(tmp)\n",
    "        else:\n",
    "            attackerProportionalEffort.append(0)\n",
    "    return attackerProportionalEffort\n",
    "        \n",
    "def AttackerStrategyHigh():\n",
    "    attackerHighEffort = 1\n",
    "    return attackerHighEffort\n",
    "'''\n",
    "Со стратегией high дела обстоят аналогично, если есть возможность\n",
    "перераспределять ресурсы, то получается, что он взломает все машины,-\n",
    "защитнику не будет смысла выставлять ни одну защиту\n",
    "посмотрим как будет работать\n",
    "'''\n",
    "def AttackerStrategyHighRedistribution():\n",
    "    attackerHighEffort = 1\n",
    "    return attackerHighEffort\n",
    "        \n",
    "def DefenderStrategyNothing():\n",
    "    return None\n",
    "    \n",
    "def DefenderStrategyProportional(machineArray, Ei, a):\n",
    "    a = str(a)\n",
    "    for i in range(len(machineArray)):\n",
    "        if float(CheckCost(a)) < machineArray[i].percentValue * Ei:\n",
    "            machineArray[i].changePossibilityProtection(False)\n",
    "        else:\n",
    "            machineArray[i].changePossibilityProtection(True)\n",
    "            machineArray[i].changeProtectionLevel(\"%.2f\" % (machineArray[i].percentValue * Ei))\n",
    "    \n",
    "def DefenderStrategyHigh(Ei, importantMachineValues, machineArray, a):\n",
    "    for i in range(len(machineArray)):\n",
    "        machineArray[i].changePossibilityProtection(False)\n",
    "        machineArray[i].changeProtectionLevel(0)\n",
    "    if float(CheckCost(str(a))) > Ei:\n",
    "        machineArray[importantMachineValues - 1].changePossibilityProtection(True)\n",
    "        machineArray[importantMachineValues - 1].changeProtectionLevel(Ei)       \n",
    "#P-атакующий H-защитник\n",
    "def ComparisonStrategyPH(machineArray, importantMachineValues, Ei):\n",
    "    attackerProportionalEffort = AttackerStrategyProportional(machineArray)\n",
    "    DefenderStrategyHigh(Ei, importantMachineValues, machineArray, a)\n",
    "    count = 0\n",
    "    for i in range(len(machineArray)):\n",
    "        if machineArray[i].vulnerable == True:\n",
    "            if attackerRedistributionProportionalEffort[i] > machineArray[i].protectionLevel:\n",
    "                machineArray[i].changePenetrate(True)\n",
    "                count += 1\n",
    "    if count > 0:\n",
    "        return True\n",
    "    else:\n",
    "        return False\n",
    "#RP - Redistribution Proportional атакующий H - защитник        \n",
    "def ComparsionStrategyRPH(machineArray, importantMachineValues, Ei):\n",
    "    DefenderStrategyHigh(Ei, importantMachineValues, machineArray, a) \n",
    "    attackerRedistributionProportionalEffort = AttackerStrategyProportionalRedistribution(machineArray)\n",
    "    count = 0\n",
    "    for i in range(len(machineArray)):\n",
    "        if machineArray[i].vulnerable == True and machineArray[i].penetrate == False:\n",
    "            if attackerRedistributionProportionalEffort[i] > machineArray[i].protectionLevel:\n",
    "                machineArray[i].changePenetrate(True)\n",
    "                count += 1\n",
    "    if count > 0:\n",
    "        return True\n",
    "    else:\n",
    "        return False \n",
    "#P-атакующий P-защитник\n",
    "def ComparisonStrategyPP(machineArray, Ei, a):\n",
    "    attackerProportionalEffort = AttackerStrategyProportional(machineArray)\n",
    "    DefenderStrategyProportional(machineArray, Ei, a)\n",
    "    count = 0\n",
    "    for i in range(len(machineArray)):\n",
    "        if machineArray[i].vulnerable == True:\n",
    "            if attackerProportionalEffort[i] > machineArray[i].protectionLevel:\n",
    "                machineArray[i].changePenetrate(True)\n",
    "                count += 1\n",
    "    if count > 0:\n",
    "        return True\n",
    "    else:\n",
    "        return False\n",
    "#RP - атакующий P - защитник\n",
    "def ComparisonStrategyRPP(machineArray, Ei, a):\n",
    "    DefenderStrategyProportional(machineArray, Ei, a)\n",
    "    attackerRedistributionProportionalEffort =  AttackerStrategyProportionalRedistribution(machineArray)\n",
    "    count = 0\n",
    "    for i in range(len(machineArray)):\n",
    "        if machineArray[i].vulnerable == True and machineArray[i].penetrate == False:\n",
    "            if attackerRedistributionProportionalEffort[i] > machineArray[i].protectionLevel:\n",
    "                machineArray[i].changePenetrate(True)\n",
    "                count += 1\n",
    "    if count > 0:\n",
    "        return True\n",
    "    else:\n",
    "        return False\n",
    "#P - атакующий N - защитник\n",
    "def ComparisonStrategyPN(machineArray):\n",
    "    attackerProportionalEffort = AttackerStrategyProportional(machineArray)\n",
    "    count = 0\n",
    "    for i in range(len(machineArray)):\n",
    "        if machineArray[i].vulnerable == True:\n",
    "            if attackerProportionalEffort[i] > machineArray[i].protectionLevel:\n",
    "                machineArray[i].changePenetrate(True)\n",
    "                count += 1\n",
    "    if count > 0:\n",
    "        return True\n",
    "    else:\n",
    "        return False\n",
    "#RP - атакующий N - защитник\n",
    "def ComparisonStrategyRPN(machineArray):\n",
    "    attackerRedistributionProportionalEffort =  AttackerStrategyProportionalRedistribution(machineArray)\n",
    "    count = 0\n",
    "    for i in range(len(machineArray)):\n",
    "        if machineArray[i].vulnerable == True and machineArray[i].penetrate == False:\n",
    "            if attackerRedistributionProportionalEffort[i] > machineArray[i].protectionLevel:\n",
    "                machineArray[i].changePenetrate(True)\n",
    "                count += 1\n",
    "    if count > 0:\n",
    "        return True\n",
    "    else:\n",
    "        return False\n",
    "#H-атакующий P-защитник\n",
    "def ComparisonStrategyHP(machineArray, Ei, importantMachineValues, a):\n",
    "    attackerHighEffort = AttackerStrategyHigh()\n",
    "    DefenderStrategyProportional(machineArray, Ei, a)\n",
    "    if attackerHighEffort > machineArray[importantMachineValues - 1].protectionLevel:\n",
    "        if machineArray[importantMachineValues - 1].vulnerable == True:\n",
    "            machineArray[importantMachineValues - 1].changePenetrate(True)\n",
    "            return True\n",
    "        else:\n",
    "            return False\n",
    "#H-атакующий H-защитник\n",
    "def ComparsionStrategyHH(Ei, importantMachineValues, machineArray, a):\n",
    "    attackerHighEffort = AttackerStrategyHigh()\n",
    "    DefenderStrategyHigh(Ei, importantMachineValues, machineArray, a)\n",
    "    if attackerHighEffort > machineArray[importantMachineValues - 1].protectionLevel:\n",
    "        if machineArray[importantMachineValues - 1].vulnerable == True:\n",
    "            machineArray[importantMachineValues - 1].changePenetrate(True)\n",
    "            return True\n",
    "        else:\n",
    "            return False\n",
    "#H-Атакующий N-защитник\n",
    "def ComparsionStrategyHN(machineArray, importantMachineValues):\n",
    "    attackerHighEffort = AttackerStrategyHigh()\n",
    "    if attackerHighEffort > machineArray[importantMachineValues - 1].percentValue:\n",
    "        if machineArray[importantMachineValues - 1].vulnerable == True:\n",
    "            machineArray[importantMachineValues - 1].changePenetrate(True)\n",
    "            return True\n",
    "        else:\n",
    "            return False\n",
    "        \n",
    "def CheckStrategyDefender(b):\n",
    "    NumberStrategy = {\n",
    "        '1':'Noting',\n",
    "        '2':'High',\n",
    "        '3':'High',\n",
    "        '4':'High',\n",
    "        '5':'High',\n",
    "        '6':'High',\n",
    "        '7':'High',\n",
    "        '8':'High',\n",
    "        '9':'High',\n",
    "        '10':'High',\n",
    "        '11':'Proportional',\n",
    "        '12':'Proportional',\n",
    "        '13':'Proportional',\n",
    "        '14':'Proportional',\n",
    "        '15':'Proportional',\n",
    "        '16':'Proportional',\n",
    "        '17':'Proportional',\n",
    "        '18':'Proportional',\n",
    "        '19':'Proportional'\n",
    "    }\n",
    "    return NumberStrategy[b]\n",
    "    \n",
    "arrayEqlibriumDefender = []\n",
    "arrayEqlibriumAttecker = []\n",
    "\n",
    "for s in (0.1, 0.2, 0.3, 0.4, 0.5, 0.6, 0.7, 0.8, 0.9):\n",
    "    for a in range(1, 10, 1):\n",
    "        shape = (19,2) #матрица игры\n",
    "        Attacker = np.zeros(shape=shape)\n",
    "        Defender = np.zeros(shape=shape)\n",
    "        #1 - Proportional 2 - High\n",
    "        for strategyA in (1, 2):\n",
    "            #1 - High 2 - Proportional 3 - Nothing\n",
    "            for strategyD in (1, 2, 3):\n",
    "                for Ei in (0.1, 0.2, 0.3, 0.4, 0.5, 0.6, 0.7, 0.8, 0.9):\n",
    "                    if strategyA == 1 and strategyD == 1:\n",
    "                        j = 0\n",
    "                        utilityDefender = 0\n",
    "                        utilityAttacker = 0\n",
    "                        for j in tqdm(range(50000)):\n",
    "                            machineValues = GetMachineValues()\n",
    "                            vulnerableMachineValues = GetVulnerableMachineValues(machineValues)\n",
    "                            importantMachineValues = GetImportantMachineValues(machineValues)\n",
    "                            machineArray = GetMachineArray(machineValues, vulnerableMachineValues, importantMachineValues)\n",
    "                            tmp = ComparisonStrategyPH(machineArray, importantMachineValues, Ei)\n",
    "                            if tmp == True:\n",
    "                                utilityDefender += UtilityDefender(s, a, Ei, machineArray)\n",
    "                                utilityAttacker += UtilityAttacker(machineArray)\n",
    "                            else:\n",
    "                                utilityDefender += UtilityDefender(s, a, Ei, machineArray)\n",
    "                        print('for s =', s,'a =', a, 'sA = ', strategyA, 'sd =', strategyD, 'Ei =', Ei)\n",
    "                        print('Utility A =', utilityAttacker, 'utility D =', utilityDefender)\n",
    "                    elif strategyA == 1 and strategyD == 2:\n",
    "                        j = 0\n",
    "                        utilityDefender = 0\n",
    "                        utilityAttacker = 0\n",
    "                        for j in tqdm(range(50000)):\n",
    "                            machineValues = GetMachineValues()\n",
    "                            vulnerableMachineValues = GetVulnerableMachineValues(machineValues)\n",
    "                            importantMachineValues = GetImportantMachineValues(machineValues)\n",
    "                            machineArray = GetMachineArray(machineValues, vulnerableMachineValues, importantMachineValues)\n",
    "                            tmp = ComparisonStrategyPP(machineArray, Ei, a)\n",
    "                            if tmp == True:\n",
    "                                utilityDefender += UtilityDefender(s, a, Ei, machineArray)\n",
    "                                utilityAttacker += UtilityAttacker(machineArray)\n",
    "                            else:\n",
    "                                utilityDefender += UtilityDefender(s, a, Ei, machineArray)\n",
    "                        print('for s =', s,'a =', a, 'sA = ', strategyA, 'sd =', strategyD, 'Ei =', Ei)\n",
    "                        print('Utility A =', utilityAttacker, 'utility D =', utilityDefender)\n",
    "                    elif strategyA == 1 and strategyD == 3:\n",
    "                        j = 0\n",
    "                        utilityDefender = 0\n",
    "                        utilityAttacker = 0\n",
    "                        for j in tqdm(range(50000)):\n",
    "                            machineValues = GetMachineValues()\n",
    "                            vulnerableMachineValues = GetVulnerableMachineValues(machineValues)\n",
    "                            importantMachineValues = GetImportantMachineValues(machineValues)\n",
    "                            machineArray = GetMachineArray(machineValues, vulnerableMachineValues, importantMachineValues)\n",
    "                            tmp = ComparisonStrategyPN(machineArray)\n",
    "                            if tmp == True:\n",
    "                                utilityDefender += UtilityDefender(s, a, Ei, machineArray)\n",
    "                                utilityAttacker += UtilityAttacker(machineArray)\n",
    "                            else:\n",
    "                                utilityDefender += UtilityDefender(s, a, Ei, machineArray)\n",
    "                        print('for s =', s,'a =', a, 'sA = ', strategyA, 'sd =', strategyD, 'Ei =', Ei)\n",
    "                        print('Utility A =', utilityAttacker, 'utility D =', utilityDefender)\n",
    "                    elif strategyA == 2 and strategyD == 1:\n",
    "                        j = 0\n",
    "                        utilityDefender = 0\n",
    "                        utilityAttacker = 0\n",
    "                        for j in tqdm(range(50000)):\n",
    "                            machineValues = GetMachineValues()\n",
    "                            vulnerableMachineValues = GetVulnerableMachineValues(machineValues)\n",
    "                            importantMachineValues = GetImportantMachineValues(machineValues)\n",
    "                            machineArray = GetMachineArray(machineValues, vulnerableMachineValues, importantMachineValues)\n",
    "                            tmp = ComparsionStrategyHH(Ei, importantMachineValues, machineArray, a)\n",
    "                            if tmp == True:\n",
    "                                utilityDefender += UtilityDefender(s, a, Ei, machineArray)\n",
    "                                utilityAttacker += UtilityAttacker(machineArray)\n",
    "                            else:\n",
    "                                utilityDefender += UtilityDefender(s, a, Ei, machineArray)\n",
    "                        print('for s =', s,'a =', a, 'sA = ', strategyA, 'sd =', strategyD, 'Ei =', Ei)\n",
    "                        print('Utility A =', utilityAttacker, 'utility D =', utilityDefender) \n",
    "                    elif strategyA == 2 and strategyD == 2:\n",
    "                        j = 0\n",
    "                        utilityDefender = 0\n",
    "                        utilityAttacker = 0\n",
    "                        for j in tqdm(range(50000)):\n",
    "                            machineValues = GetMachineValues()\n",
    "                            vulnerableMachineValues = GetVulnerableMachineValues(machineValues)\n",
    "                            importantMachineValues = GetImportantMachineValues(machineValues)\n",
    "                            machineArray = GetMachineArray(machineValues, vulnerableMachineValues, importantMachineValues)\n",
    "                            tmp = ComparisonStrategyHP(machineArray, Ei, importantMachineValues, a)\n",
    "                            if tmp == True:\n",
    "                                utilityDefender += UtilityDefender(s, a, Ei, machineArray)\n",
    "                                utilityAttacker += UtilityAttacker(machineArray)\n",
    "                            else:\n",
    "                                utilityDefender += UtilityDefender(s, a, Ei, machineArray)\n",
    "                        print('for s =', s,'a =', a, 'sA = ', strategyA, 'sd =', strategyD, 'Ei =', Ei)\n",
    "                        print('Utility A =', utilityAttacker, 'utility D =', utilityDefender)\n",
    "                    elif strategyA == 2 and strategyD == 3:\n",
    "                        j = 0\n",
    "                        utilityDefender = 0\n",
    "                        utilityAttacker = 0\n",
    "                        for j in tqdm(range(50000)):\n",
    "                            machineValues = GetMachineValues()\n",
    "                            vulnerableMachineValues = GetVulnerableMachineValues(machineValues)\n",
    "                            importantMachineValues = GetImportantMachineValues(machineValues)\n",
    "                            machineArray = GetMachineArray(machineValues, vulnerableMachineValues, importantMachineValues)\n",
    "                            tmp = ComparsionStrategyHN(machineArray, importantMachineValues)\n",
    "                            if tmp == True:\n",
    "                                utilityDefender += UtilityDefender(s, a, Ei, machineArray)\n",
    "                                utilityAttacker += UtilityAttacker(machineArray)\n",
    "                            else:\n",
    "                                utilityDefender += UtilityDefender(s, a, Ei, machineArray)\n",
    "                        print('for s =', s,'a =', a, 'sA = ', strategyA, 'sd =', strategyD, 'Ei =', Ei)\n",
    "                        print('Utility A =', utilityAttacker, 'utility D =', utilityDefender)\n",
    "                    if strategyD == 3:\n",
    "                        Attacker[0, strategyA - 1] = round(utilityAttacker)\n",
    "                        Defender[0, strategyA - 1] = round(utilityDefender)\n",
    "                    elif strategyD == 1:\n",
    "                        index = int(Ei * 10)\n",
    "                        Attacker[index, strategyA - 1] = round(utilityAttacker)\n",
    "                        Defender[index, strategyA - 1] = round(utilityDefender)\n",
    "                    elif strategyD == 2:\n",
    "                        index = int(Ei * 10) + 9\n",
    "                        Attacker[index, strategyA - 1] = round(utilityAttacker)\n",
    "                        Defender[index, strategyA - 1] = round(utilityDefender)\n",
    "        degenGameTest = False\n",
    "        game = nash.Game(Attacker, Defender)\n",
    "        print(\"Утилиты атакующего -\", Attacker)\n",
    "        print(\"Утилиты обороняющегося -\", Defender)\n",
    "        try:\n",
    "            equlibrium = list(game.support_enumeration())[0]\n",
    "        except IndexError:\n",
    "            try:\n",
    "                equlibrium = list(game.support_enumeration(non_degenerate=True))[0]\n",
    "            except:\n",
    "                equlibrium = list(game.support_enumeration(non_degenerate=True))\n",
    "                degenGameTest = True\n",
    "        print(\"equlibrium\", equlibrium)\n",
    "        if degenGameTest == False:\n",
    "            numEqulibriumDefender = np.argmax(equlibrium[0])+1\n",
    "            numEqulibriumAttacker = np.argmax(equlibrium[1])+1\n",
    "        else:\n",
    "            numEqulibriumDefender = equlibrium\n",
    "            numEqulibriumAttacker = equlibrium\n",
    "        print(\"оптимальная стратегия оброняющегося номер \", numEqulibriumDefender, \"оптимальная стратегия атакующего номер \", numEqulibriumAttacker)\n",
    "        arrayEqlibriumDefender.append(numEqulibriumDefender)\n",
    "        arrayEqlibriumAttecker.append(numEqulibriumAttacker)"
   ]
  },
  {
   "cell_type": "code",
   "execution_count": 15,
   "id": "1ff7660d",
   "metadata": {},
   "outputs": [
    {
     "data": {
      "application/vnd.jupyter.widget-view+json": {
       "model_id": "437d767051db4fb7bcd24607d5283f82",
       "version_major": 2,
       "version_minor": 0
      },
      "text/plain": [
       "  0%|          | 0/50000 [00:00<?, ?it/s]"
      ]
     },
     "metadata": {},
     "output_type": "display_data"
    },
    {
     "name": "stdout",
     "output_type": "stream",
     "text": [
      "for s = 0.9 a = 10 sA =  1 sd = 1 Ei = 0.1\n",
      "Utility A = 20424.87000000145 utility D = -21002.26000000209\n"
     ]
    },
    {
     "data": {
      "application/vnd.jupyter.widget-view+json": {
       "model_id": "5ae68072948942fba817fc636d52dbe3",
       "version_major": 2,
       "version_minor": 0
      },
      "text/plain": [
       "  0%|          | 0/50000 [00:00<?, ?it/s]"
      ]
     },
     "metadata": {},
     "output_type": "display_data"
    },
    {
     "name": "stdout",
     "output_type": "stream",
     "text": [
      "for s = 0.9 a = 10 sA =  1 sd = 1 Ei = 0.2\n",
      "Utility A = 20343.420000001155 utility D = -20920.34000000165\n"
     ]
    },
    {
     "data": {
      "application/vnd.jupyter.widget-view+json": {
       "model_id": "1ace061f4d964d43b5e41967264972ed",
       "version_major": 2,
       "version_minor": 0
      },
      "text/plain": [
       "  0%|          | 0/50000 [00:00<?, ?it/s]"
      ]
     },
     "metadata": {},
     "output_type": "display_data"
    },
    {
     "name": "stdout",
     "output_type": "stream",
     "text": [
      "for s = 0.9 a = 10 sA =  1 sd = 1 Ei = 0.3\n",
      "Utility A = 20462.42000000123 utility D = -21029.2800000018\n"
     ]
    },
    {
     "data": {
      "application/vnd.jupyter.widget-view+json": {
       "model_id": "0e4ec4be70ca4380ab7f6333b07e4429",
       "version_major": 2,
       "version_minor": 0
      },
      "text/plain": [
       "  0%|          | 0/50000 [00:00<?, ?it/s]"
      ]
     },
     "metadata": {},
     "output_type": "display_data"
    },
    {
     "name": "stdout",
     "output_type": "stream",
     "text": [
      "for s = 0.9 a = 10 sA =  1 sd = 1 Ei = 0.4\n",
      "Utility A = 20483.900000001177 utility D = -21036.66000000176\n"
     ]
    },
    {
     "data": {
      "application/vnd.jupyter.widget-view+json": {
       "model_id": "7f3aa17e823641fba3c7012df34bf5fa",
       "version_major": 2,
       "version_minor": 0
      },
      "text/plain": [
       "  0%|          | 0/50000 [00:00<?, ?it/s]"
      ]
     },
     "metadata": {},
     "output_type": "display_data"
    },
    {
     "name": "stdout",
     "output_type": "stream",
     "text": [
      "for s = 0.9 a = 10 sA =  1 sd = 1 Ei = 0.5\n",
      "Utility A = 20369.91000000123 utility D = -20945.540000001714\n"
     ]
    },
    {
     "data": {
      "application/vnd.jupyter.widget-view+json": {
       "model_id": "9a98f971028140528cdb09b4d95fbd4a",
       "version_major": 2,
       "version_minor": 0
      },
      "text/plain": [
       "  0%|          | 0/50000 [00:00<?, ?it/s]"
      ]
     },
     "metadata": {},
     "output_type": "display_data"
    },
    {
     "name": "stdout",
     "output_type": "stream",
     "text": [
      "for s = 0.9 a = 10 sA =  1 sd = 1 Ei = 0.6\n",
      "Utility A = 20299.070000001335 utility D = -20868.860000001914\n"
     ]
    },
    {
     "data": {
      "application/vnd.jupyter.widget-view+json": {
       "model_id": "97942a17a4134c27be75e84e5484e63b",
       "version_major": 2,
       "version_minor": 0
      },
      "text/plain": [
       "  0%|          | 0/50000 [00:00<?, ?it/s]"
      ]
     },
     "metadata": {},
     "output_type": "display_data"
    },
    {
     "name": "stdout",
     "output_type": "stream",
     "text": [
      "for s = 0.9 a = 10 sA =  1 sd = 1 Ei = 0.7\n",
      "Utility A = 20438.110000001292 utility D = -21020.790000001885\n"
     ]
    },
    {
     "data": {
      "application/vnd.jupyter.widget-view+json": {
       "model_id": "a0cfdb9801a14ec6a9fd3d2435f0ea5a",
       "version_major": 2,
       "version_minor": 0
      },
      "text/plain": [
       "  0%|          | 0/50000 [00:00<?, ?it/s]"
      ]
     },
     "metadata": {},
     "output_type": "display_data"
    },
    {
     "name": "stdout",
     "output_type": "stream",
     "text": [
      "for s = 0.9 a = 10 sA =  1 sd = 1 Ei = 0.8\n",
      "Utility A = 20303.530000001272 utility D = -20876.01000000183\n"
     ]
    },
    {
     "data": {
      "application/vnd.jupyter.widget-view+json": {
       "model_id": "c9692f5a66c242a79f6d0ce0c8163d52",
       "version_major": 2,
       "version_minor": 0
      },
      "text/plain": [
       "  0%|          | 0/50000 [00:00<?, ?it/s]"
      ]
     },
     "metadata": {},
     "output_type": "display_data"
    },
    {
     "name": "stdout",
     "output_type": "stream",
     "text": [
      "for s = 0.9 a = 10 sA =  1 sd = 1 Ei = 0.9\n",
      "Utility A = 20370.910000001277 utility D = -20944.680000001772\n"
     ]
    },
    {
     "data": {
      "application/vnd.jupyter.widget-view+json": {
       "model_id": "6d332fc3a1e04b6dae3e9634c97dc8c4",
       "version_major": 2,
       "version_minor": 0
      },
      "text/plain": [
       "  0%|          | 0/50000 [00:00<?, ?it/s]"
      ]
     },
     "metadata": {},
     "output_type": "display_data"
    },
    {
     "name": "stdout",
     "output_type": "stream",
     "text": [
      "for s = 0.9 a = 10 sA =  1 sd = 2 Ei = 0.1\n",
      "Utility A = 20935.53000000197 utility D = -21058.840957142944\n"
     ]
    },
    {
     "data": {
      "application/vnd.jupyter.widget-view+json": {
       "model_id": "11c8516f58d6422b9ecc6864d0cde162",
       "version_major": 2,
       "version_minor": 0
      },
      "text/plain": [
       "  0%|          | 0/50000 [00:00<?, ?it/s]"
      ]
     },
     "metadata": {},
     "output_type": "display_data"
    },
    {
     "name": "stdout",
     "output_type": "stream",
     "text": [
      "for s = 0.9 a = 10 sA =  1 sd = 2 Ei = 0.2\n",
      "Utility A = 20837.230000001808 utility D = -21481.539192858727\n"
     ]
    },
    {
     "data": {
      "application/vnd.jupyter.widget-view+json": {
       "model_id": "50fd6ae2a7714f2cb0315ad3f9ac2a9d",
       "version_major": 2,
       "version_minor": 0
      },
      "text/plain": [
       "  0%|          | 0/50000 [00:00<?, ?it/s]"
      ]
     },
     "metadata": {},
     "output_type": "display_data"
    },
    {
     "name": "stdout",
     "output_type": "stream",
     "text": [
      "for s = 0.9 a = 10 sA =  1 sd = 2 Ei = 0.3\n",
      "Utility A = 21017.830000001766 utility D = -21500.00857857359\n"
     ]
    },
    {
     "data": {
      "application/vnd.jupyter.widget-view+json": {
       "model_id": "cd45c3e3b59f4f7da2eda2dc149ffd76",
       "version_major": 2,
       "version_minor": 0
      },
      "text/plain": [
       "  0%|          | 0/50000 [00:00<?, ?it/s]"
      ]
     },
     "metadata": {},
     "output_type": "display_data"
    },
    {
     "name": "stdout",
     "output_type": "stream",
     "text": [
      "for s = 0.9 a = 10 sA =  1 sd = 2 Ei = 0.4\n",
      "Utility A = 21055.170000002265 utility D = -21843.00475714662\n"
     ]
    },
    {
     "data": {
      "application/vnd.jupyter.widget-view+json": {
       "model_id": "696eecb3971540689d5e2b43b132c7f1",
       "version_major": 2,
       "version_minor": 0
      },
      "text/plain": [
       "  0%|          | 0/50000 [00:00<?, ?it/s]"
      ]
     },
     "metadata": {},
     "output_type": "display_data"
    },
    {
     "name": "stdout",
     "output_type": "stream",
     "text": [
      "for s = 0.9 a = 10 sA =  1 sd = 2 Ei = 0.5\n",
      "Utility A = 20990.230000001793 utility D = -22491.32980000282\n"
     ]
    },
    {
     "data": {
      "application/vnd.jupyter.widget-view+json": {
       "model_id": "5c6e72cdef1c4662a98162ec47aeef21",
       "version_major": 2,
       "version_minor": 0
      },
      "text/plain": [
       "  0%|          | 0/50000 [00:00<?, ?it/s]"
      ]
     },
     "metadata": {},
     "output_type": "display_data"
    },
    {
     "name": "stdout",
     "output_type": "stream",
     "text": [
      "for s = 0.9 a = 10 sA =  1 sd = 2 Ei = 0.6\n",
      "Utility A = 21011.62000000181 utility D = -22268.358100000496\n"
     ]
    },
    {
     "data": {
      "application/vnd.jupyter.widget-view+json": {
       "model_id": "60dc6309cb7b424e9c9f21ef524daee3",
       "version_major": 2,
       "version_minor": 0
      },
      "text/plain": [
       "  0%|          | 0/50000 [00:00<?, ?it/s]"
      ]
     },
     "metadata": {},
     "output_type": "display_data"
    },
    {
     "name": "stdout",
     "output_type": "stream",
     "text": [
      "for s = 0.9 a = 10 sA =  1 sd = 2 Ei = 0.7\n",
      "Utility A = 20926.310000001962 utility D = -22606.227500003457\n"
     ]
    },
    {
     "data": {
      "application/vnd.jupyter.widget-view+json": {
       "model_id": "280031819b994253bd73de10c8af307a",
       "version_major": 2,
       "version_minor": 0
      },
      "text/plain": [
       "  0%|          | 0/50000 [00:00<?, ?it/s]"
      ]
     },
     "metadata": {},
     "output_type": "display_data"
    },
    {
     "name": "stdout",
     "output_type": "stream",
     "text": [
      "for s = 0.9 a = 10 sA =  1 sd = 2 Ei = 0.8\n",
      "Utility A = 20952.2900000018 utility D = -23362.949000002736\n"
     ]
    },
    {
     "data": {
      "application/vnd.jupyter.widget-view+json": {
       "model_id": "5d88726b53844dfcbd194c720323ff6d",
       "version_major": 2,
       "version_minor": 0
      },
      "text/plain": [
       "  0%|          | 0/50000 [00:00<?, ?it/s]"
      ]
     },
     "metadata": {},
     "output_type": "display_data"
    },
    {
     "name": "stdout",
     "output_type": "stream",
     "text": [
      "for s = 0.9 a = 10 sA =  1 sd = 2 Ei = 0.9\n",
      "Utility A = 21059.010000001967 utility D = -23627.00580000194\n"
     ]
    },
    {
     "data": {
      "application/vnd.jupyter.widget-view+json": {
       "model_id": "399812ccd4694d2e88a23c9840322e1a",
       "version_major": 2,
       "version_minor": 0
      },
      "text/plain": [
       "  0%|          | 0/50000 [00:00<?, ?it/s]"
      ]
     },
     "metadata": {},
     "output_type": "display_data"
    },
    {
     "name": "stdout",
     "output_type": "stream",
     "text": [
      "for s = 0.9 a = 10 sA =  1 sd = 3 Ei = 0.1\n",
      "Utility A = 0 utility D = 0\n"
     ]
    },
    {
     "data": {
      "application/vnd.jupyter.widget-view+json": {
       "model_id": "3a9b2941c00649069322fa1bcceb1e0e",
       "version_major": 2,
       "version_minor": 0
      },
      "text/plain": [
       "  0%|          | 0/50000 [00:00<?, ?it/s]"
      ]
     },
     "metadata": {},
     "output_type": "display_data"
    },
    {
     "name": "stdout",
     "output_type": "stream",
     "text": [
      "for s = 0.9 a = 10 sA =  1 sd = 3 Ei = 0.2\n",
      "Utility A = 0 utility D = 0\n"
     ]
    },
    {
     "data": {
      "application/vnd.jupyter.widget-view+json": {
       "model_id": "167cf761e31a4fa49f8c78c50e046e3e",
       "version_major": 2,
       "version_minor": 0
      },
      "text/plain": [
       "  0%|          | 0/50000 [00:00<?, ?it/s]"
      ]
     },
     "metadata": {},
     "output_type": "display_data"
    },
    {
     "name": "stdout",
     "output_type": "stream",
     "text": [
      "for s = 0.9 a = 10 sA =  1 sd = 3 Ei = 0.3\n",
      "Utility A = 0 utility D = 0\n"
     ]
    },
    {
     "data": {
      "application/vnd.jupyter.widget-view+json": {
       "model_id": "da3c18ad9cb24d379ff5792efe4d9e6f",
       "version_major": 2,
       "version_minor": 0
      },
      "text/plain": [
       "  0%|          | 0/50000 [00:00<?, ?it/s]"
      ]
     },
     "metadata": {},
     "output_type": "display_data"
    },
    {
     "name": "stdout",
     "output_type": "stream",
     "text": [
      "for s = 0.9 a = 10 sA =  1 sd = 3 Ei = 0.4\n",
      "Utility A = 0 utility D = 0\n"
     ]
    },
    {
     "data": {
      "application/vnd.jupyter.widget-view+json": {
       "model_id": "047a9caa850f4b548f4b4fd75bb2bfc0",
       "version_major": 2,
       "version_minor": 0
      },
      "text/plain": [
       "  0%|          | 0/50000 [00:00<?, ?it/s]"
      ]
     },
     "metadata": {},
     "output_type": "display_data"
    },
    {
     "name": "stdout",
     "output_type": "stream",
     "text": [
      "for s = 0.9 a = 10 sA =  1 sd = 3 Ei = 0.5\n",
      "Utility A = 0 utility D = 0\n"
     ]
    },
    {
     "data": {
      "application/vnd.jupyter.widget-view+json": {
       "model_id": "f12ca69895bc44c4a637cce85df2079a",
       "version_major": 2,
       "version_minor": 0
      },
      "text/plain": [
       "  0%|          | 0/50000 [00:00<?, ?it/s]"
      ]
     },
     "metadata": {},
     "output_type": "display_data"
    },
    {
     "name": "stdout",
     "output_type": "stream",
     "text": [
      "for s = 0.9 a = 10 sA =  1 sd = 3 Ei = 0.6\n",
      "Utility A = 0 utility D = 0\n"
     ]
    },
    {
     "data": {
      "application/vnd.jupyter.widget-view+json": {
       "model_id": "d4685718eb544652adc3c49e9903e2e2",
       "version_major": 2,
       "version_minor": 0
      },
      "text/plain": [
       "  0%|          | 0/50000 [00:00<?, ?it/s]"
      ]
     },
     "metadata": {},
     "output_type": "display_data"
    },
    {
     "name": "stdout",
     "output_type": "stream",
     "text": [
      "for s = 0.9 a = 10 sA =  1 sd = 3 Ei = 0.7\n",
      "Utility A = 0 utility D = 0\n"
     ]
    },
    {
     "data": {
      "application/vnd.jupyter.widget-view+json": {
       "model_id": "ed516d6e6f044b4aadf82d74b8932cca",
       "version_major": 2,
       "version_minor": 0
      },
      "text/plain": [
       "  0%|          | 0/50000 [00:00<?, ?it/s]"
      ]
     },
     "metadata": {},
     "output_type": "display_data"
    },
    {
     "name": "stdout",
     "output_type": "stream",
     "text": [
      "for s = 0.9 a = 10 sA =  1 sd = 3 Ei = 0.8\n",
      "Utility A = 0 utility D = 0\n"
     ]
    },
    {
     "data": {
      "application/vnd.jupyter.widget-view+json": {
       "model_id": "72ce2ba1c0e54321a8cf6b8ae040df49",
       "version_major": 2,
       "version_minor": 0
      },
      "text/plain": [
       "  0%|          | 0/50000 [00:00<?, ?it/s]"
      ]
     },
     "metadata": {},
     "output_type": "display_data"
    },
    {
     "name": "stdout",
     "output_type": "stream",
     "text": [
      "for s = 0.9 a = 10 sA =  1 sd = 3 Ei = 0.9\n",
      "Utility A = 0 utility D = 0\n"
     ]
    },
    {
     "data": {
      "application/vnd.jupyter.widget-view+json": {
       "model_id": "966926c93f15440bb3d5d5e65cdb06bc",
       "version_major": 2,
       "version_minor": 0
      },
      "text/plain": [
       "  0%|          | 0/50000 [00:00<?, ?it/s]"
      ]
     },
     "metadata": {},
     "output_type": "display_data"
    },
    {
     "name": "stdout",
     "output_type": "stream",
     "text": [
      "for s = 0.9 a = 10 sA =  2 sd = 1 Ei = 0.1\n",
      "Utility A = 1974.089999999674 utility D = -1974.089999999674\n"
     ]
    },
    {
     "data": {
      "application/vnd.jupyter.widget-view+json": {
       "model_id": "544847eab7b44283b072f1e7c215a2b7",
       "version_major": 2,
       "version_minor": 0
      },
      "text/plain": [
       "  0%|          | 0/50000 [00:00<?, ?it/s]"
      ]
     },
     "metadata": {},
     "output_type": "display_data"
    },
    {
     "name": "stdout",
     "output_type": "stream",
     "text": [
      "for s = 0.9 a = 10 sA =  2 sd = 1 Ei = 0.2\n",
      "Utility A = 1972.4599999996817 utility D = -1972.4599999996817\n"
     ]
    },
    {
     "data": {
      "application/vnd.jupyter.widget-view+json": {
       "model_id": "5d7308ef92ef4634a4b17c96b396df11",
       "version_major": 2,
       "version_minor": 0
      },
      "text/plain": [
       "  0%|          | 0/50000 [00:00<?, ?it/s]"
      ]
     },
     "metadata": {},
     "output_type": "display_data"
    },
    {
     "name": "stdout",
     "output_type": "stream",
     "text": [
      "for s = 0.9 a = 10 sA =  2 sd = 1 Ei = 0.3\n",
      "Utility A = 1982.6699999996822 utility D = -1982.6699999996822\n"
     ]
    },
    {
     "data": {
      "application/vnd.jupyter.widget-view+json": {
       "model_id": "ff9560b1582944f285ef0a521300be66",
       "version_major": 2,
       "version_minor": 0
      },
      "text/plain": [
       "  0%|          | 0/50000 [00:00<?, ?it/s]"
      ]
     },
     "metadata": {},
     "output_type": "display_data"
    },
    {
     "name": "stdout",
     "output_type": "stream",
     "text": [
      "for s = 0.9 a = 10 sA =  2 sd = 1 Ei = 0.4\n",
      "Utility A = 1990.1699999996556 utility D = -1990.1699999996556\n"
     ]
    },
    {
     "data": {
      "application/vnd.jupyter.widget-view+json": {
       "model_id": "9ef356fb32cd4679ab155916d531f2bd",
       "version_major": 2,
       "version_minor": 0
      },
      "text/plain": [
       "  0%|          | 0/50000 [00:00<?, ?it/s]"
      ]
     },
     "metadata": {},
     "output_type": "display_data"
    },
    {
     "name": "stdout",
     "output_type": "stream",
     "text": [
      "for s = 0.9 a = 10 sA =  2 sd = 1 Ei = 0.5\n",
      "Utility A = 1973.1599999996752 utility D = -1973.1599999996752\n"
     ]
    },
    {
     "data": {
      "application/vnd.jupyter.widget-view+json": {
       "model_id": "287d869f2ffc431681f0b45f78b857df",
       "version_major": 2,
       "version_minor": 0
      },
      "text/plain": [
       "  0%|          | 0/50000 [00:00<?, ?it/s]"
      ]
     },
     "metadata": {},
     "output_type": "display_data"
    },
    {
     "name": "stdout",
     "output_type": "stream",
     "text": [
      "for s = 0.9 a = 10 sA =  2 sd = 1 Ei = 0.6\n",
      "Utility A = 1995.4399999996645 utility D = -1995.4399999996645\n"
     ]
    },
    {
     "data": {
      "application/vnd.jupyter.widget-view+json": {
       "model_id": "711a62284ecb40b6a2b3b8e4c469d191",
       "version_major": 2,
       "version_minor": 0
      },
      "text/plain": [
       "  0%|          | 0/50000 [00:00<?, ?it/s]"
      ]
     },
     "metadata": {},
     "output_type": "display_data"
    },
    {
     "name": "stdout",
     "output_type": "stream",
     "text": [
      "for s = 0.9 a = 10 sA =  2 sd = 1 Ei = 0.7\n",
      "Utility A = 1984.7799999996732 utility D = -1984.7799999996732\n"
     ]
    },
    {
     "data": {
      "application/vnd.jupyter.widget-view+json": {
       "model_id": "19bc4800a61b414296ef5c6b0f364815",
       "version_major": 2,
       "version_minor": 0
      },
      "text/plain": [
       "  0%|          | 0/50000 [00:00<?, ?it/s]"
      ]
     },
     "metadata": {},
     "output_type": "display_data"
    },
    {
     "name": "stdout",
     "output_type": "stream",
     "text": [
      "for s = 0.9 a = 10 sA =  2 sd = 1 Ei = 0.8\n",
      "Utility A = 1967.0299999996616 utility D = -1967.0299999996616\n"
     ]
    },
    {
     "data": {
      "application/vnd.jupyter.widget-view+json": {
       "model_id": "2188f84762854693a77581fac72687b3",
       "version_major": 2,
       "version_minor": 0
      },
      "text/plain": [
       "  0%|          | 0/50000 [00:00<?, ?it/s]"
      ]
     },
     "metadata": {},
     "output_type": "display_data"
    },
    {
     "name": "stdout",
     "output_type": "stream",
     "text": [
      "for s = 0.9 a = 10 sA =  2 sd = 1 Ei = 0.9\n",
      "Utility A = 1984.7099999996574 utility D = -1984.7099999996574\n"
     ]
    },
    {
     "data": {
      "application/vnd.jupyter.widget-view+json": {
       "model_id": "d1a67db9ee234dfbba5a5998742de3ba",
       "version_major": 2,
       "version_minor": 0
      },
      "text/plain": [
       "  0%|          | 0/50000 [00:00<?, ?it/s]"
      ]
     },
     "metadata": {},
     "output_type": "display_data"
    },
    {
     "name": "stdout",
     "output_type": "stream",
     "text": [
      "for s = 0.9 a = 10 sA =  2 sd = 2 Ei = 0.1\n",
      "Utility A = 1973.1899999996688 utility D = -2057.4014999997235\n"
     ]
    },
    {
     "data": {
      "application/vnd.jupyter.widget-view+json": {
       "model_id": "99139daaa51c49669ae0540764a5384a",
       "version_major": 2,
       "version_minor": 0
      },
      "text/plain": [
       "  0%|          | 0/50000 [00:00<?, ?it/s]"
      ]
     },
     "metadata": {},
     "output_type": "display_data"
    },
    {
     "name": "stdout",
     "output_type": "stream",
     "text": [
      "for s = 0.9 a = 10 sA =  2 sd = 2 Ei = 0.2\n",
      "Utility A = 1983.4099999996486 utility D = -2401.9489999999073\n"
     ]
    },
    {
     "data": {
      "application/vnd.jupyter.widget-view+json": {
       "model_id": "a2701ac916d048a8af68bf7637cc81c0",
       "version_major": 2,
       "version_minor": 0
      },
      "text/plain": [
       "  0%|          | 0/50000 [00:00<?, ?it/s]"
      ]
     },
     "metadata": {},
     "output_type": "display_data"
    },
    {
     "name": "stdout",
     "output_type": "stream",
     "text": [
      "for s = 0.9 a = 10 sA =  2 sd = 2 Ei = 0.3\n",
      "Utility A = 1963.019999999688 utility D = -2065.881899999731\n"
     ]
    },
    {
     "data": {
      "application/vnd.jupyter.widget-view+json": {
       "model_id": "1bc522a5e1bd4eeebb98f88074f0c0d6",
       "version_major": 2,
       "version_minor": 0
      },
      "text/plain": [
       "  0%|          | 0/50000 [00:00<?, ?it/s]"
      ]
     },
     "metadata": {},
     "output_type": "display_data"
    },
    {
     "name": "stdout",
     "output_type": "stream",
     "text": [
      "for s = 0.9 a = 10 sA =  2 sd = 2 Ei = 0.4\n",
      "Utility A = 1967.0199999996644 utility D = -1967.0199999996644\n"
     ]
    },
    {
     "data": {
      "application/vnd.jupyter.widget-view+json": {
       "model_id": "671b9c8e74214419b85479db1329d732",
       "version_major": 2,
       "version_minor": 0
      },
      "text/plain": [
       "  0%|          | 0/50000 [00:00<?, ?it/s]"
      ]
     },
     "metadata": {},
     "output_type": "display_data"
    },
    {
     "name": "stdout",
     "output_type": "stream",
     "text": [
      "for s = 0.9 a = 10 sA =  2 sd = 2 Ei = 0.5\n",
      "Utility A = 1971.4299999996754 utility D = -1971.4299999996754\n"
     ]
    },
    {
     "data": {
      "application/vnd.jupyter.widget-view+json": {
       "model_id": "ef67efd89cd144e09771290bf0405461",
       "version_major": 2,
       "version_minor": 0
      },
      "text/plain": [
       "  0%|          | 0/50000 [00:00<?, ?it/s]"
      ]
     },
     "metadata": {},
     "output_type": "display_data"
    },
    {
     "name": "stdout",
     "output_type": "stream",
     "text": [
      "for s = 0.9 a = 10 sA =  2 sd = 2 Ei = 0.6\n",
      "Utility A = 1967.7699999996605 utility D = -1967.7699999996605\n"
     ]
    },
    {
     "data": {
      "application/vnd.jupyter.widget-view+json": {
       "model_id": "ff74ea05713045a8bbb2a64b483c899f",
       "version_major": 2,
       "version_minor": 0
      },
      "text/plain": [
       "  0%|          | 0/50000 [00:00<?, ?it/s]"
      ]
     },
     "metadata": {},
     "output_type": "display_data"
    },
    {
     "name": "stdout",
     "output_type": "stream",
     "text": [
      "for s = 0.9 a = 10 sA =  2 sd = 2 Ei = 0.7\n",
      "Utility A = 1974.0999999996723 utility D = -1974.0999999996723\n"
     ]
    },
    {
     "data": {
      "application/vnd.jupyter.widget-view+json": {
       "model_id": "05980fc57402424abc141e4f0b7ae753",
       "version_major": 2,
       "version_minor": 0
      },
      "text/plain": [
       "  0%|          | 0/50000 [00:00<?, ?it/s]"
      ]
     },
     "metadata": {},
     "output_type": "display_data"
    },
    {
     "name": "stdout",
     "output_type": "stream",
     "text": [
      "for s = 0.9 a = 10 sA =  2 sd = 2 Ei = 0.8\n",
      "Utility A = 1995.739999999671 utility D = -1995.739999999671\n"
     ]
    },
    {
     "data": {
      "application/vnd.jupyter.widget-view+json": {
       "model_id": "95dc6459975f48b28c67c21448103dfc",
       "version_major": 2,
       "version_minor": 0
      },
      "text/plain": [
       "  0%|          | 0/50000 [00:00<?, ?it/s]"
      ]
     },
     "metadata": {},
     "output_type": "display_data"
    },
    {
     "name": "stdout",
     "output_type": "stream",
     "text": [
      "for s = 0.9 a = 10 sA =  2 sd = 2 Ei = 0.9\n",
      "Utility A = 1984.9799999996715 utility D = -1984.9799999996715\n"
     ]
    },
    {
     "data": {
      "application/vnd.jupyter.widget-view+json": {
       "model_id": "a66f834180054714b096f38062bada50",
       "version_major": 2,
       "version_minor": 0
      },
      "text/plain": [
       "  0%|          | 0/50000 [00:00<?, ?it/s]"
      ]
     },
     "metadata": {},
     "output_type": "display_data"
    },
    {
     "name": "stdout",
     "output_type": "stream",
     "text": [
      "for s = 0.9 a = 10 sA =  2 sd = 3 Ei = 0.1\n",
      "Utility A = 1984.9699999996753 utility D = -1984.9699999996753\n"
     ]
    },
    {
     "data": {
      "application/vnd.jupyter.widget-view+json": {
       "model_id": "be1a7834a6514313b93349d5aaa83441",
       "version_major": 2,
       "version_minor": 0
      },
      "text/plain": [
       "  0%|          | 0/50000 [00:00<?, ?it/s]"
      ]
     },
     "metadata": {},
     "output_type": "display_data"
    },
    {
     "name": "stdout",
     "output_type": "stream",
     "text": [
      "for s = 0.9 a = 10 sA =  2 sd = 3 Ei = 0.2\n",
      "Utility A = 1953.0699999996757 utility D = -1953.0699999996757\n"
     ]
    },
    {
     "data": {
      "application/vnd.jupyter.widget-view+json": {
       "model_id": "4028c010975c47fda0fcbb43a1853a54",
       "version_major": 2,
       "version_minor": 0
      },
      "text/plain": [
       "  0%|          | 0/50000 [00:00<?, ?it/s]"
      ]
     },
     "metadata": {},
     "output_type": "display_data"
    },
    {
     "name": "stdout",
     "output_type": "stream",
     "text": [
      "for s = 0.9 a = 10 sA =  2 sd = 3 Ei = 0.3\n",
      "Utility A = 1988.9999999996699 utility D = -1988.9999999996699\n"
     ]
    },
    {
     "data": {
      "application/vnd.jupyter.widget-view+json": {
       "model_id": "5dc6eeeae2c7440f95608c8c8a786957",
       "version_major": 2,
       "version_minor": 0
      },
      "text/plain": [
       "  0%|          | 0/50000 [00:00<?, ?it/s]"
      ]
     },
     "metadata": {},
     "output_type": "display_data"
    },
    {
     "name": "stdout",
     "output_type": "stream",
     "text": [
      "for s = 0.9 a = 10 sA =  2 sd = 3 Ei = 0.4\n",
      "Utility A = 1975.5099999996764 utility D = -1975.5099999996764\n"
     ]
    },
    {
     "data": {
      "application/vnd.jupyter.widget-view+json": {
       "model_id": "faf6deb351104bf7889da6ba290af298",
       "version_major": 2,
       "version_minor": 0
      },
      "text/plain": [
       "  0%|          | 0/50000 [00:00<?, ?it/s]"
      ]
     },
     "metadata": {},
     "output_type": "display_data"
    },
    {
     "name": "stdout",
     "output_type": "stream",
     "text": [
      "for s = 0.9 a = 10 sA =  2 sd = 3 Ei = 0.5\n",
      "Utility A = 1992.9799999996633 utility D = -1992.9799999996633\n"
     ]
    },
    {
     "data": {
      "application/vnd.jupyter.widget-view+json": {
       "model_id": "288b2b4b56604e10b617ae60cacd17e5",
       "version_major": 2,
       "version_minor": 0
      },
      "text/plain": [
       "  0%|          | 0/50000 [00:00<?, ?it/s]"
      ]
     },
     "metadata": {},
     "output_type": "display_data"
    },
    {
     "name": "stdout",
     "output_type": "stream",
     "text": [
      "for s = 0.9 a = 10 sA =  2 sd = 3 Ei = 0.6\n",
      "Utility A = 1981.88999999968 utility D = -1981.88999999968\n"
     ]
    },
    {
     "data": {
      "application/vnd.jupyter.widget-view+json": {
       "model_id": "4dd6f533638b478cb9687ab0429cf633",
       "version_major": 2,
       "version_minor": 0
      },
      "text/plain": [
       "  0%|          | 0/50000 [00:00<?, ?it/s]"
      ]
     },
     "metadata": {},
     "output_type": "display_data"
    },
    {
     "name": "stdout",
     "output_type": "stream",
     "text": [
      "for s = 0.9 a = 10 sA =  2 sd = 3 Ei = 0.7\n",
      "Utility A = 1964.609999999669 utility D = -1964.609999999669\n"
     ]
    },
    {
     "data": {
      "application/vnd.jupyter.widget-view+json": {
       "model_id": "5dff1a99dff5419994b1e82b76c5341a",
       "version_major": 2,
       "version_minor": 0
      },
      "text/plain": [
       "  0%|          | 0/50000 [00:00<?, ?it/s]"
      ]
     },
     "metadata": {},
     "output_type": "display_data"
    },
    {
     "name": "stdout",
     "output_type": "stream",
     "text": [
      "for s = 0.9 a = 10 sA =  2 sd = 3 Ei = 0.8\n",
      "Utility A = 1953.1599999996552 utility D = -1953.1599999996552\n"
     ]
    },
    {
     "data": {
      "application/vnd.jupyter.widget-view+json": {
       "model_id": "c34647e2c5fd49e59e03af3b5600d9e3",
       "version_major": 2,
       "version_minor": 0
      },
      "text/plain": [
       "  0%|          | 0/50000 [00:00<?, ?it/s]"
      ]
     },
     "metadata": {},
     "output_type": "display_data"
    },
    {
     "name": "stdout",
     "output_type": "stream",
     "text": [
      "for s = 0.9 a = 10 sA =  2 sd = 3 Ei = 0.9\n",
      "Utility A = 1963.5199999996855 utility D = -1963.5199999996855\n",
      "Утилиты атакующего - [[    0.  1964.]\n",
      " [20425.  1974.]\n",
      " [20343.  1972.]\n",
      " [20462.  1983.]\n",
      " [20484.  1990.]\n",
      " [20370.  1973.]\n",
      " [20299.  1995.]\n",
      " [20438.  1985.]\n",
      " [20304.  1967.]\n",
      " [20371.  1985.]\n",
      " [20936.  1973.]\n",
      " [20837.  1983.]\n",
      " [21018.  1963.]\n",
      " [21055.  1967.]\n",
      " [20990.  1971.]\n",
      " [21012.  1968.]\n",
      " [20926.  1974.]\n",
      " [20952.  1996.]\n",
      " [21059.  1985.]]\n",
      "Утилиты обороняющегося - [[     0.  -1964.]\n",
      " [-21002.  -1974.]\n",
      " [-20920.  -1972.]\n",
      " [-21029.  -1983.]\n",
      " [-21037.  -1990.]\n",
      " [-20946.  -1973.]\n",
      " [-20869.  -1995.]\n",
      " [-21021.  -1985.]\n",
      " [-20876.  -1967.]\n",
      " [-20945.  -1985.]\n",
      " [-21059.  -2057.]\n",
      " [-21482.  -2402.]\n",
      " [-21500.  -2066.]\n",
      " [-21843.  -1967.]\n",
      " [-22491.  -1971.]\n",
      " [-22268.  -1968.]\n",
      " [-22606.  -1974.]\n",
      " [-23363.  -1996.]\n",
      " [-23627.  -1985.]]\n",
      "equlibrium (array([0., 0., 0., 0., 0., 0., 0., 0., 0., 0., 0., 0., 0., 0., 0., 0., 0.,\n",
      "       1., 0.]), array([0., 1.]))\n",
      "оптимальная стратегия оброняющегося номер  18 оптимальная стратегия атакующего номер  2\n",
      "<class 'numpy.int64'> <class 'numpy.int64'>\n"
     ]
    }
   ],
   "source": [
    "#for s in (0.1, 0.2, 0.3, 0.4, 0.5, 0.6, 0.7, 0.8, 0.9):\n",
    "#    for a in range(1, 10, 1):\n",
    "s = 0.9\n",
    "a = 10\n",
    "shape = (19,2) #матрица игры\n",
    "Attacker = np.zeros(shape=shape)\n",
    "Defender = np.zeros(shape=shape)\n",
    "#1 - Proportional 2 - High\n",
    "for strategyA in (1, 2):\n",
    "    #1 - High 2 - Proportional 3 - Nothing\n",
    "    for strategyD in (1, 2, 3):\n",
    "        for Ei in (0.1, 0.2, 0.3, 0.4, 0.5, 0.6, 0.7, 0.8, 0.9):\n",
    "            if strategyA == 1 and strategyD == 1:\n",
    "                j = 0\n",
    "                utilityDefender = 0\n",
    "                utilityAttacker = 0\n",
    "                for j in tqdm(range(50000)):\n",
    "                    machineValues = GetMachineValues()\n",
    "                    vulnerableMachineValues = GetVulnerableMachineValues(machineValues)\n",
    "                    importantMachineValues = GetImportantMachineValues(machineValues)\n",
    "                    machineArray = GetMachineArray(machineValues, vulnerableMachineValues, importantMachineValues)\n",
    "                    tmp = ComparisonStrategyPH(machineArray, importantMachineValues, Ei)\n",
    "                    if tmp == True:\n",
    "                        utilityDefender += UtilityDefender(s, a, Ei, machineArray)\n",
    "                        utilityAttacker += UtilityAttacker(machineArray)\n",
    "                    else:\n",
    "                        utilityDefender += UtilityDefender(s, a, Ei, machineArray)\n",
    "                print('for s =', s,'a =', a, 'sA = ', strategyA, 'sd =', strategyD, 'Ei =', Ei)\n",
    "                print('Utility A =', utilityAttacker, 'utility D =', utilityDefender)\n",
    "            elif strategyA == 1 and strategyD == 2:\n",
    "                j = 0\n",
    "                utilityDefender = 0\n",
    "                utilityAttacker = 0\n",
    "                for j in tqdm(range(50000)):\n",
    "                    machineValues = GetMachineValues()\n",
    "                    vulnerableMachineValues = GetVulnerableMachineValues(machineValues)\n",
    "                    importantMachineValues = GetImportantMachineValues(machineValues)\n",
    "                    machineArray = GetMachineArray(machineValues, vulnerableMachineValues, importantMachineValues)\n",
    "                    tmp = ComparisonStrategyPP(machineArray, Ei, a)\n",
    "                    if tmp == True:\n",
    "                        utilityDefender += UtilityDefender(s, a, Ei, machineArray)\n",
    "                        utilityAttacker += UtilityAttacker(machineArray)\n",
    "                    else:\n",
    "                        utilityDefender += UtilityDefender(s, a, Ei, machineArray)\n",
    "                print('for s =', s,'a =', a, 'sA = ', strategyA, 'sd =', strategyD, 'Ei =', Ei)\n",
    "                print('Utility A =', utilityAttacker, 'utility D =', utilityDefender)\n",
    "            elif strategyA == 1 and strategyD == 3:\n",
    "                j = 0\n",
    "                utilityDefender = 0\n",
    "                utilityAttacker = 0\n",
    "                for j in tqdm(range(50000)):\n",
    "                    machineValues = GetMachineValues()\n",
    "                    vulnerableMachineValues = GetVulnerableMachineValues(machineValues)\n",
    "                    importantMachineValues = GetImportantMachineValues(machineValues)\n",
    "                    machineArray = GetMachineArray(machineValues, vulnerableMachineValues, importantMachineValues)\n",
    "                    tmp = ComparisonStrategyPN(machineArray)\n",
    "                    if tmp == True:\n",
    "                        utilityDefender += UtilityDefender(s, a, Ei, machineArray)\n",
    "                        utilityAttacker += UtilityAttacker(machineArray)\n",
    "                    else:\n",
    "                        utilityDefender += UtilityDefender(s, a, Ei, machineArray)\n",
    "                print('for s =', s,'a =', a, 'sA = ', strategyA, 'sd =', strategyD, 'Ei =', Ei)\n",
    "                print('Utility A =', utilityAttacker, 'utility D =', utilityDefender)\n",
    "            elif strategyA == 2 and strategyD == 1:\n",
    "                j = 0\n",
    "                utilityDefender = 0\n",
    "                utilityAttacker = 0\n",
    "                for j in tqdm(range(50000)):\n",
    "                    machineValues = GetMachineValues()\n",
    "                    vulnerableMachineValues = GetVulnerableMachineValues(machineValues)\n",
    "                    importantMachineValues = GetImportantMachineValues(machineValues)\n",
    "                    machineArray = GetMachineArray(machineValues, vulnerableMachineValues, importantMachineValues)\n",
    "                    tmp = ComparsionStrategyHH(Ei, importantMachineValues, machineArray, a)\n",
    "                    if tmp == True:\n",
    "                        utilityDefender += UtilityDefender(s, a, Ei, machineArray)\n",
    "                        utilityAttacker += UtilityAttacker(machineArray)\n",
    "                    else:\n",
    "                        utilityDefender += UtilityDefender(s, a, Ei, machineArray)\n",
    "                print('for s =', s,'a =', a, 'sA = ', strategyA, 'sd =', strategyD, 'Ei =', Ei)\n",
    "                print('Utility A =', utilityAttacker, 'utility D =', utilityDefender) \n",
    "            elif strategyA == 2 and strategyD == 2:\n",
    "                j = 0\n",
    "                utilityDefender = 0\n",
    "                utilityAttacker = 0\n",
    "                for j in tqdm(range(50000)):\n",
    "                    machineValues = GetMachineValues()\n",
    "                    vulnerableMachineValues = GetVulnerableMachineValues(machineValues)\n",
    "                    importantMachineValues = GetImportantMachineValues(machineValues)\n",
    "                    machineArray = GetMachineArray(machineValues, vulnerableMachineValues, importantMachineValues)\n",
    "                    tmp = ComparisonStrategyHP(machineArray, Ei, importantMachineValues, a)\n",
    "                    if tmp == True:\n",
    "                        utilityDefender += UtilityDefender(s, a, Ei, machineArray)\n",
    "                        utilityAttacker += UtilityAttacker(machineArray)\n",
    "                    else:\n",
    "                        utilityDefender += UtilityDefender(s, a, Ei, machineArray)\n",
    "                print('for s =', s,'a =', a, 'sA = ', strategyA, 'sd =', strategyD, 'Ei =', Ei)\n",
    "                print('Utility A =', utilityAttacker, 'utility D =', utilityDefender)\n",
    "            elif strategyA == 2 and strategyD == 3:\n",
    "                j = 0\n",
    "                utilityDefender = 0\n",
    "                utilityAttacker = 0\n",
    "                for j in tqdm(range(50000)):\n",
    "                    machineValues = GetMachineValues()\n",
    "                    vulnerableMachineValues = GetVulnerableMachineValues(machineValues)\n",
    "                    importantMachineValues = GetImportantMachineValues(machineValues)\n",
    "                    machineArray = GetMachineArray(machineValues, vulnerableMachineValues, importantMachineValues)\n",
    "                    tmp = ComparsionStrategyHN(machineArray, importantMachineValues)\n",
    "                    if tmp == True:\n",
    "                        utilityDefender += UtilityDefender(s, a, Ei, machineArray)\n",
    "                        utilityAttacker += UtilityAttacker(machineArray)\n",
    "                    else:\n",
    "                        utilityDefender += UtilityDefender(s, a, Ei, machineArray)\n",
    "                print('for s =', s,'a =', a, 'sA = ', strategyA, 'sd =', strategyD, 'Ei =', Ei)\n",
    "                print('Utility A =', utilityAttacker, 'utility D =', utilityDefender)\n",
    "            if strategyD == 3:\n",
    "                Attacker[0, strategyA - 1] = round(utilityAttacker)\n",
    "                Defender[0, strategyA - 1] = round(utilityDefender)\n",
    "            elif strategyD == 1:\n",
    "                index = int(Ei * 10)\n",
    "                Attacker[index, strategyA - 1] = round(utilityAttacker)\n",
    "                Defender[index, strategyA - 1] = round(utilityDefender)\n",
    "            elif strategyD == 2:\n",
    "                index = int(Ei * 10) + 9\n",
    "                Attacker[index, strategyA - 1] = round(utilityAttacker)\n",
    "                Defender[index, strategyA - 1] = round(utilityDefender)\n",
    "degenGameTest = False\n",
    "game = nash.Game(Attacker, Defender)\n",
    "print(\"Утилиты атакующего -\", Attacker)\n",
    "print(\"Утилиты обороняющегося -\", Defender)\n",
    "try:\n",
    "    equlibrium = list(game.support_enumeration())[0]\n",
    "except IndexError:\n",
    "    try:\n",
    "        equlibrium = list(game.support_enumeration(non_degenerate=True))[0]\n",
    "    except:\n",
    "        equlibrium = list(game.support_enumeration(non_degenerate=True))\n",
    "        degenGameTest = True\n",
    "print(\"equlibrium\", equlibrium)\n",
    "if degenGameTest == False:\n",
    "    numEqulibriumDefender = np.argmax(equlibrium[0])+1\n",
    "    numEqulibriumAttacker = np.argmax(equlibrium[1])+1\n",
    "else:\n",
    "    numEqulibriumDefender = equlibrium\n",
    "    numEqulibriumAttacker = equlibrium\n",
    "\n",
    "print(\"оптимальная стратегия оброняющегося номер \", numEqulibriumDefender, \"оптимальная стратегия атакующего номер \", numEqulibriumAttacker)\n",
    "print(type(numEqulibriumDefender), type(numEqulibriumAttacker))"
   ]
  },
  {
   "cell_type": "code",
   "execution_count": 22,
   "id": "6203b6e0",
   "metadata": {},
   "outputs": [
    {
     "name": "stdout",
     "output_type": "stream",
     "text": [
      "8 = 9\n",
      "17 = 16\n",
      "26 = 19\n",
      "35 = 17\n",
      "44 = 10\n",
      "53 = 10\n",
      "62 = 14\n",
      "71 = 6\n",
      "80 = 18\n",
      "89 = None\n",
      "90\n",
      "81\n"
     ]
    }
   ],
   "source": []
  },
  {
   "cell_type": "code",
   "execution_count": null,
   "id": "d1862072",
   "metadata": {},
   "outputs": [],
   "source": []
  }
 ],
 "metadata": {
  "kernelspec": {
   "display_name": "Python 3 (ipykernel)",
   "language": "python",
   "name": "python3"
  },
  "language_info": {
   "codemirror_mode": {
    "name": "ipython",
    "version": 3
   },
   "file_extension": ".py",
   "mimetype": "text/x-python",
   "name": "python",
   "nbconvert_exporter": "python",
   "pygments_lexer": "ipython3",
   "version": "3.8.10"
  }
 },
 "nbformat": 4,
 "nbformat_minor": 5
}
