{
 "cells": [
  {
   "cell_type": "code",
   "execution_count": 3,
   "id": "1299e310",
   "metadata": {},
   "outputs": [
    {
     "data": {
      "application/vnd.jupyter.widget-view+json": {
       "model_id": "1abb8bc8d07742afa0f4efacad570912",
       "version_major": 2,
       "version_minor": 0
      },
      "text/plain": [
       "  0%|          | 0/50000 [00:00<?, ?it/s]"
      ]
     },
     "metadata": {},
     "output_type": "display_data"
    },
    {
     "name": "stdout",
     "output_type": "stream",
     "text": [
      "for s = 0.1 a = 1 sA =  1 sd = 1 Ei = 0.1\n",
      "Utility A = 20491.65000000143 utility D = -21091.950000000765\n",
      "equlibrium (array([1., 0., 0.]), array([0., 1.]))\n",
      "оптимальная стратегия оброняющегося номер  1 оптимальная стратегия атакующего номер  2\n"
     ]
    },
    {
     "data": {
      "application/vnd.jupyter.widget-view+json": {
       "model_id": "4c38cbfb19b64fb8a18b563663aa6f5a",
       "version_major": 2,
       "version_minor": 0
      },
      "text/plain": [
       "  0%|          | 0/50000 [00:00<?, ?it/s]"
      ]
     },
     "metadata": {},
     "output_type": "display_data"
    },
    {
     "name": "stdout",
     "output_type": "stream",
     "text": [
      "for s = 0.1 a = 1 sA =  1 sd = 1 Ei = 0.2\n",
      "Utility A = 20380.68000000119 utility D = -21064.250000000982\n",
      "equlibrium (array([1., 0., 0.]), array([0., 1.]))\n",
      "оптимальная стратегия оброняющегося номер  1 оптимальная стратегия атакующего номер  2\n"
     ]
    },
    {
     "data": {
      "application/vnd.jupyter.widget-view+json": {
       "model_id": "9619687b45d44a19b36e97d81c555699",
       "version_major": 2,
       "version_minor": 0
      },
      "text/plain": [
       "  0%|          | 0/50000 [00:00<?, ?it/s]"
      ]
     },
     "metadata": {},
     "output_type": "display_data"
    },
    {
     "name": "stdout",
     "output_type": "stream",
     "text": [
      "for s = 0.1 a = 1 sA =  1 sd = 1 Ei = 0.3\n",
      "Utility A = 19782.63000000126 utility D = -20607.64428571511\n",
      "equlibrium (array([1., 0., 0.]), array([0., 1.]))\n",
      "оптимальная стратегия оброняющегося номер  1 оптимальная стратегия атакующего номер  2\n"
     ]
    },
    {
     "data": {
      "application/vnd.jupyter.widget-view+json": {
       "model_id": "9efb686d68974a7c9a2479a2f2edb699",
       "version_major": 2,
       "version_minor": 0
      },
      "text/plain": [
       "  0%|          | 0/50000 [00:00<?, ?it/s]"
      ]
     },
     "metadata": {},
     "output_type": "display_data"
    },
    {
     "name": "stdout",
     "output_type": "stream",
     "text": [
      "for s = 0.1 a = 1 sA =  1 sd = 1 Ei = 0.4\n",
      "Utility A = 13083.950000000368 utility D = -13823.796666667104\n",
      "equlibrium (array([1., 0., 0.]), array([0., 1.]))\n",
      "оптимальная стратегия оброняющегося номер  1 оптимальная стратегия атакующего номер  2\n"
     ]
    },
    {
     "data": {
      "application/vnd.jupyter.widget-view+json": {
       "model_id": "986a138e56544e559c4fed5bd5052d68",
       "version_major": 2,
       "version_minor": 0
      },
      "text/plain": [
       "  0%|          | 0/50000 [00:00<?, ?it/s]"
      ]
     },
     "metadata": {},
     "output_type": "display_data"
    },
    {
     "name": "stdout",
     "output_type": "stream",
     "text": [
      "for s = 0.1 a = 1 sA =  1 sd = 1 Ei = 0.5\n",
      "Utility A = 6524.919999999827 utility D = -7043.669999999913\n",
      "equlibrium (array([1., 0., 0.]), array([0., 1.]))\n",
      "оптимальная стратегия оброняющегося номер  1 оптимальная стратегия атакующего номер  2\n"
     ]
    },
    {
     "data": {
      "application/vnd.jupyter.widget-view+json": {
       "model_id": "d86b464b178a4e7481ab94afe727d8a2",
       "version_major": 2,
       "version_minor": 0
      },
      "text/plain": [
       "  0%|          | 0/50000 [00:00<?, ?it/s]"
      ]
     },
     "metadata": {},
     "output_type": "display_data"
    },
    {
     "name": "stdout",
     "output_type": "stream",
     "text": [
      "for s = 0.1 a = 1 sA =  1 sd = 1 Ei = 0.6\n",
      "Utility A = 0 utility D = 0\n",
      "equlibrium (array([1., 0., 0.]), array([1., 0.]))\n",
      "оптимальная стратегия оброняющегося номер  1 оптимальная стратегия атакующего номер  1\n"
     ]
    },
    {
     "data": {
      "application/vnd.jupyter.widget-view+json": {
       "model_id": "b254b06b5e334978ae76c7c40ca6505b",
       "version_major": 2,
       "version_minor": 0
      },
      "text/plain": [
       "  0%|          | 0/50000 [00:00<?, ?it/s]"
      ]
     },
     "metadata": {},
     "output_type": "display_data"
    },
    {
     "name": "stdout",
     "output_type": "stream",
     "text": [
      "for s = 0.1 a = 1 sA =  1 sd = 1 Ei = 0.7\n",
      "Utility A = 0 utility D = 0\n",
      "equlibrium (array([1., 0., 0.]), array([1., 0.]))\n",
      "оптимальная стратегия оброняющегося номер  1 оптимальная стратегия атакующего номер  1\n"
     ]
    },
    {
     "data": {
      "application/vnd.jupyter.widget-view+json": {
       "model_id": "04bc2f959f2f463ca15d7c5badc34fcf",
       "version_major": 2,
       "version_minor": 0
      },
      "text/plain": [
       "  0%|          | 0/50000 [00:00<?, ?it/s]"
      ]
     },
     "metadata": {},
     "output_type": "display_data"
    },
    {
     "name": "stdout",
     "output_type": "stream",
     "text": [
      "for s = 0.1 a = 1 sA =  1 sd = 1 Ei = 0.8\n",
      "Utility A = 0 utility D = 0\n",
      "equlibrium (array([1., 0., 0.]), array([1., 0.]))\n",
      "оптимальная стратегия оброняющегося номер  1 оптимальная стратегия атакующего номер  1\n"
     ]
    },
    {
     "data": {
      "application/vnd.jupyter.widget-view+json": {
       "model_id": "e137b6e9ed0242cd8bcd3560ac01c114",
       "version_major": 2,
       "version_minor": 0
      },
      "text/plain": [
       "  0%|          | 0/50000 [00:00<?, ?it/s]"
      ]
     },
     "metadata": {},
     "output_type": "display_data"
    },
    {
     "name": "stdout",
     "output_type": "stream",
     "text": [
      "for s = 0.1 a = 1 sA =  1 sd = 1 Ei = 0.9\n",
      "Utility A = 0 utility D = 0\n",
      "equlibrium (array([1., 0., 0.]), array([1., 0.]))\n",
      "оптимальная стратегия оброняющегося номер  1 оптимальная стратегия атакующего номер  1\n"
     ]
    },
    {
     "data": {
      "application/vnd.jupyter.widget-view+json": {
       "model_id": "eb78f0c68777437994e45990a4a74f61",
       "version_major": 2,
       "version_minor": 0
      },
      "text/plain": [
       "  0%|          | 0/50000 [00:00<?, ?it/s]"
      ]
     },
     "metadata": {},
     "output_type": "display_data"
    },
    {
     "name": "stdout",
     "output_type": "stream",
     "text": [
      "for s = 0.1 a = 1 sA =  1 sd = 2 Ei = 0.1\n",
      "Utility A = 20925.80000000174 utility D = -20934.114196350256\n",
      "equlibrium (array([1., 0., 0.]), array([0., 1.]))\n",
      "оптимальная стратегия оброняющегося номер  1 оптимальная стратегия атакующего номер  2\n"
     ]
    },
    {
     "data": {
      "application/vnd.jupyter.widget-view+json": {
       "model_id": "43504ef051d949cdb04eaea69c7ef7e5",
       "version_major": 2,
       "version_minor": 0
      },
      "text/plain": [
       "  0%|          | 0/50000 [00:00<?, ?it/s]"
      ]
     },
     "metadata": {},
     "output_type": "display_data"
    },
    {
     "name": "stdout",
     "output_type": "stream",
     "text": [
      "for s = 0.1 a = 1 sA =  1 sd = 2 Ei = 0.2\n",
      "Utility A = 20985.4600000018 utility D = -21018.864518443355\n",
      "equlibrium (array([1., 0., 0.]), array([0., 1.]))\n",
      "оптимальная стратегия оброняющегося номер  1 оптимальная стратегия атакующего номер  2\n"
     ]
    },
    {
     "data": {
      "application/vnd.jupyter.widget-view+json": {
       "model_id": "201d04948ed444338ffb8ce871c1f31f",
       "version_major": 2,
       "version_minor": 0
      },
      "text/plain": [
       "  0%|          | 0/50000 [00:00<?, ?it/s]"
      ]
     },
     "metadata": {},
     "output_type": "display_data"
    },
    {
     "name": "stdout",
     "output_type": "stream",
     "text": [
      "for s = 0.1 a = 1 sA =  1 sd = 2 Ei = 0.3\n",
      "Utility A = 21075.780000001814 utility D = -21151.76259974247\n",
      "equlibrium (array([1., 0., 0.]), array([0., 1.]))\n",
      "оптимальная стратегия оброняющегося номер  1 оптимальная стратегия атакующего номер  2\n"
     ]
    },
    {
     "data": {
      "application/vnd.jupyter.widget-view+json": {
       "model_id": "94ac4c794bbd427f89a2b35b22c025a6",
       "version_major": 2,
       "version_minor": 0
      },
      "text/plain": [
       "  0%|          | 0/50000 [00:00<?, ?it/s]"
      ]
     },
     "metadata": {},
     "output_type": "display_data"
    },
    {
     "name": "stdout",
     "output_type": "stream",
     "text": [
      "for s = 0.1 a = 1 sA =  1 sd = 2 Ei = 0.4\n",
      "Utility A = 20927.550000002066 utility D = -21072.749055927594\n",
      "equlibrium (array([1., 0., 0.]), array([0., 1.]))\n",
      "оптимальная стратегия оброняющегося номер  1 оптимальная стратегия атакующего номер  2\n"
     ]
    },
    {
     "data": {
      "application/vnd.jupyter.widget-view+json": {
       "model_id": "ebf0fed091534f7a950db640301a467d",
       "version_major": 2,
       "version_minor": 0
      },
      "text/plain": [
       "  0%|          | 0/50000 [00:00<?, ?it/s]"
      ]
     },
     "metadata": {},
     "output_type": "display_data"
    },
    {
     "name": "stdout",
     "output_type": "stream",
     "text": [
      "for s = 0.1 a = 1 sA =  1 sd = 2 Ei = 0.5\n",
      "Utility A = 21089.790000001918 utility D = -21327.515575282654\n",
      "equlibrium (array([1., 0., 0.]), array([0., 1.]))\n",
      "оптимальная стратегия оброняющегося номер  1 оптимальная стратегия атакующего номер  2\n"
     ]
    },
    {
     "data": {
      "application/vnd.jupyter.widget-view+json": {
       "model_id": "7f06970045b045fa97bf5f2bcc4cbe4b",
       "version_major": 2,
       "version_minor": 0
      },
      "text/plain": [
       "  0%|          | 0/50000 [00:00<?, ?it/s]"
      ]
     },
     "metadata": {},
     "output_type": "display_data"
    },
    {
     "name": "stdout",
     "output_type": "stream",
     "text": [
      "for s = 0.1 a = 1 sA =  1 sd = 2 Ei = 0.6\n",
      "Utility A = 21005.700000002198 utility D = -21364.121663459537\n",
      "equlibrium (array([1., 0., 0.]), array([0., 1.]))\n",
      "оптимальная стратегия оброняющегося номер  1 оптимальная стратегия атакующего номер  2\n"
     ]
    },
    {
     "data": {
      "application/vnd.jupyter.widget-view+json": {
       "model_id": "a06c8c0180934ce780932e1475d80b7c",
       "version_major": 2,
       "version_minor": 0
      },
      "text/plain": [
       "  0%|          | 0/50000 [00:00<?, ?it/s]"
      ]
     },
     "metadata": {},
     "output_type": "display_data"
    },
    {
     "name": "stdout",
     "output_type": "stream",
     "text": [
      "for s = 0.1 a = 1 sA =  1 sd = 2 Ei = 0.7\n",
      "Utility A = 21073.140000001822 utility D = -21586.75587562569\n",
      "equlibrium (array([1., 0., 0.]), array([0., 1.]))\n",
      "оптимальная стратегия оброняющегося номер  1 оптимальная стратегия атакующего номер  2\n"
     ]
    },
    {
     "data": {
      "application/vnd.jupyter.widget-view+json": {
       "model_id": "cacbbee53dd147df8c27217ce0b1516d",
       "version_major": 2,
       "version_minor": 0
      },
      "text/plain": [
       "  0%|          | 0/50000 [00:00<?, ?it/s]"
      ]
     },
     "metadata": {},
     "output_type": "display_data"
    },
    {
     "name": "stdout",
     "output_type": "stream",
     "text": [
      "for s = 0.1 a = 1 sA =  1 sd = 2 Ei = 0.8\n",
      "Utility A = 20921.30000000189 utility D = -21633.16972942837\n",
      "equlibrium (array([1., 0., 0.]), array([0., 1.]))\n",
      "оптимальная стратегия оброняющегося номер  1 оптимальная стратегия атакующего номер  2\n"
     ]
    },
    {
     "data": {
      "application/vnd.jupyter.widget-view+json": {
       "model_id": "24d86d8c47db4edf8b32dd9516b075c1",
       "version_major": 2,
       "version_minor": 0
      },
      "text/plain": [
       "  0%|          | 0/50000 [00:00<?, ?it/s]"
      ]
     },
     "metadata": {},
     "output_type": "display_data"
    },
    {
     "name": "stdout",
     "output_type": "stream",
     "text": [
      "for s = 0.1 a = 1 sA =  1 sd = 2 Ei = 0.9\n",
      "Utility A = 20979.990000001864 utility D = -21953.005848781773\n",
      "equlibrium (array([1., 0., 0.]), array([0., 1.]))\n",
      "оптимальная стратегия оброняющегося номер  1 оптимальная стратегия атакующего номер  2\n"
     ]
    },
    {
     "data": {
      "application/vnd.jupyter.widget-view+json": {
       "model_id": "964797dda9874fb889c4608418459631",
       "version_major": 2,
       "version_minor": 0
      },
      "text/plain": [
       "  0%|          | 0/50000 [00:00<?, ?it/s]"
      ]
     },
     "metadata": {},
     "output_type": "display_data"
    },
    {
     "name": "stdout",
     "output_type": "stream",
     "text": [
      "for s = 0.1 a = 1 sA =  1 sd = 3 Ei = 0.1\n",
      "Utility A = 0 utility D = 0\n",
      "equlibrium (array([1., 0., 0.]), array([1., 0.]))\n",
      "оптимальная стратегия оброняющегося номер  1 оптимальная стратегия атакующего номер  1\n"
     ]
    },
    {
     "data": {
      "application/vnd.jupyter.widget-view+json": {
       "model_id": "54b5a94b8dc34a3fa102eb43bf1096b0",
       "version_major": 2,
       "version_minor": 0
      },
      "text/plain": [
       "  0%|          | 0/50000 [00:00<?, ?it/s]"
      ]
     },
     "metadata": {},
     "output_type": "display_data"
    },
    {
     "name": "stdout",
     "output_type": "stream",
     "text": [
      "for s = 0.1 a = 1 sA =  1 sd = 3 Ei = 0.2\n",
      "Utility A = 0 utility D = 0\n",
      "equlibrium (array([1., 0., 0.]), array([1., 0.]))\n",
      "оптимальная стратегия оброняющегося номер  1 оптимальная стратегия атакующего номер  1\n"
     ]
    },
    {
     "data": {
      "application/vnd.jupyter.widget-view+json": {
       "model_id": "5d9d339386f3429687ec74e80a486e2a",
       "version_major": 2,
       "version_minor": 0
      },
      "text/plain": [
       "  0%|          | 0/50000 [00:00<?, ?it/s]"
      ]
     },
     "metadata": {},
     "output_type": "display_data"
    },
    {
     "name": "stdout",
     "output_type": "stream",
     "text": [
      "for s = 0.1 a = 1 sA =  1 sd = 3 Ei = 0.3\n",
      "Utility A = 0 utility D = 0\n",
      "equlibrium (array([1., 0., 0.]), array([1., 0.]))\n",
      "оптимальная стратегия оброняющегося номер  1 оптимальная стратегия атакующего номер  1\n"
     ]
    },
    {
     "data": {
      "application/vnd.jupyter.widget-view+json": {
       "model_id": "3ae324b06f674c7bbf34fb29ef3f561b",
       "version_major": 2,
       "version_minor": 0
      },
      "text/plain": [
       "  0%|          | 0/50000 [00:00<?, ?it/s]"
      ]
     },
     "metadata": {},
     "output_type": "display_data"
    },
    {
     "name": "stdout",
     "output_type": "stream",
     "text": [
      "for s = 0.1 a = 1 sA =  1 sd = 3 Ei = 0.4\n",
      "Utility A = 0 utility D = 0\n",
      "equlibrium (array([1., 0., 0.]), array([1., 0.]))\n",
      "оптимальная стратегия оброняющегося номер  1 оптимальная стратегия атакующего номер  1\n"
     ]
    },
    {
     "data": {
      "application/vnd.jupyter.widget-view+json": {
       "model_id": "2b9c3d0f21724a4aa3bacf43a87002ac",
       "version_major": 2,
       "version_minor": 0
      },
      "text/plain": [
       "  0%|          | 0/50000 [00:00<?, ?it/s]"
      ]
     },
     "metadata": {},
     "output_type": "display_data"
    },
    {
     "name": "stdout",
     "output_type": "stream",
     "text": [
      "for s = 0.1 a = 1 sA =  1 sd = 3 Ei = 0.5\n",
      "Utility A = 0 utility D = 0\n",
      "equlibrium (array([1., 0., 0.]), array([1., 0.]))\n",
      "оптимальная стратегия оброняющегося номер  1 оптимальная стратегия атакующего номер  1\n"
     ]
    },
    {
     "data": {
      "application/vnd.jupyter.widget-view+json": {
       "model_id": "736f5abe4fed4668b56eb401b08d7f0c",
       "version_major": 2,
       "version_minor": 0
      },
      "text/plain": [
       "  0%|          | 0/50000 [00:00<?, ?it/s]"
      ]
     },
     "metadata": {},
     "output_type": "display_data"
    },
    {
     "name": "stdout",
     "output_type": "stream",
     "text": [
      "for s = 0.1 a = 1 sA =  1 sd = 3 Ei = 0.6\n",
      "Utility A = 0 utility D = 0\n",
      "equlibrium (array([1., 0., 0.]), array([1., 0.]))\n",
      "оптимальная стратегия оброняющегося номер  1 оптимальная стратегия атакующего номер  1\n"
     ]
    },
    {
     "data": {
      "application/vnd.jupyter.widget-view+json": {
       "model_id": "d7290749c6c1451780b68ded2a79e732",
       "version_major": 2,
       "version_minor": 0
      },
      "text/plain": [
       "  0%|          | 0/50000 [00:00<?, ?it/s]"
      ]
     },
     "metadata": {},
     "output_type": "display_data"
    },
    {
     "name": "stdout",
     "output_type": "stream",
     "text": [
      "for s = 0.1 a = 1 sA =  1 sd = 3 Ei = 0.7\n",
      "Utility A = 0 utility D = 0\n",
      "equlibrium (array([1., 0., 0.]), array([1., 0.]))\n",
      "оптимальная стратегия оброняющегося номер  1 оптимальная стратегия атакующего номер  1\n"
     ]
    },
    {
     "data": {
      "application/vnd.jupyter.widget-view+json": {
       "model_id": "fb7024fd950a4bc6be1c014e785df34d",
       "version_major": 2,
       "version_minor": 0
      },
      "text/plain": [
       "  0%|          | 0/50000 [00:00<?, ?it/s]"
      ]
     },
     "metadata": {},
     "output_type": "display_data"
    },
    {
     "name": "stdout",
     "output_type": "stream",
     "text": [
      "for s = 0.1 a = 1 sA =  1 sd = 3 Ei = 0.8\n",
      "Utility A = 0 utility D = 0\n",
      "equlibrium (array([1., 0., 0.]), array([1., 0.]))\n",
      "оптимальная стратегия оброняющегося номер  1 оптимальная стратегия атакующего номер  1\n"
     ]
    },
    {
     "data": {
      "application/vnd.jupyter.widget-view+json": {
       "model_id": "5f0ebd6f8a0e412aa2a354304137665c",
       "version_major": 2,
       "version_minor": 0
      },
      "text/plain": [
       "  0%|          | 0/50000 [00:00<?, ?it/s]"
      ]
     },
     "metadata": {},
     "output_type": "display_data"
    },
    {
     "name": "stdout",
     "output_type": "stream",
     "text": [
      "for s = 0.1 a = 1 sA =  1 sd = 3 Ei = 0.9\n",
      "Utility A = 0 utility D = 0\n",
      "equlibrium (array([1., 0., 0.]), array([1., 0.]))\n",
      "оптимальная стратегия оброняющегося номер  1 оптимальная стратегия атакующего номер  1\n"
     ]
    },
    {
     "data": {
      "application/vnd.jupyter.widget-view+json": {
       "model_id": "3b0f4cb5aa6f4f27928b88958cac71be",
       "version_major": 2,
       "version_minor": 0
      },
      "text/plain": [
       "  0%|          | 0/50000 [00:00<?, ?it/s]"
      ]
     },
     "metadata": {},
     "output_type": "display_data"
    },
    {
     "name": "stdout",
     "output_type": "stream",
     "text": [
      "for s = 0.1 a = 1 sA =  2 sd = 1 Ei = 0.1\n",
      "Utility A = 1987.1799999996756 utility D = -1991.9808114677323\n",
      "equlibrium (array([1., 0., 0.]), array([1., 0.]))\n",
      "оптимальная стратегия оброняющегося номер  1 оптимальная стратегия атакующего номер  1\n"
     ]
    },
    {
     "data": {
      "application/vnd.jupyter.widget-view+json": {
       "model_id": "de0dcb205047405e9a45cf400f2ef1bb",
       "version_major": 2,
       "version_minor": 0
      },
      "text/plain": [
       "  0%|          | 0/50000 [00:00<?, ?it/s]"
      ]
     },
     "metadata": {},
     "output_type": "display_data"
    },
    {
     "name": "stdout",
     "output_type": "stream",
     "text": [
      "for s = 0.1 a = 1 sA =  2 sd = 1 Ei = 0.2\n",
      "Utility A = 1980.029999999659 utility D = -2000.0331519564675\n",
      "equlibrium (array([1., 0., 0.]), array([1., 0.]))\n",
      "оптимальная стратегия оброняющегося номер  1 оптимальная стратегия атакующего номер  1\n"
     ]
    },
    {
     "data": {
      "application/vnd.jupyter.widget-view+json": {
       "model_id": "205951eebfc144d68b0b65f728d84ad5",
       "version_major": 2,
       "version_minor": 0
      },
      "text/plain": [
       "  0%|          | 0/50000 [00:00<?, ?it/s]"
      ]
     },
     "metadata": {},
     "output_type": "display_data"
    },
    {
     "name": "stdout",
     "output_type": "stream",
     "text": [
      "for s = 0.1 a = 1 sA =  2 sd = 1 Ei = 0.3\n",
      "Utility A = 1968.1199999996709 utility D = -2015.1880221536696\n",
      "equlibrium (array([1., 0., 0.]), array([1., 0.]))\n",
      "оптимальная стратегия оброняющегося номер  1 оптимальная стратегия атакующего номер  1\n"
     ]
    },
    {
     "data": {
      "application/vnd.jupyter.widget-view+json": {
       "model_id": "af2096c7ed1d49d79e1c57cb3fde363a",
       "version_major": 2,
       "version_minor": 0
      },
      "text/plain": [
       "  0%|          | 0/50000 [00:00<?, ?it/s]"
      ]
     },
     "metadata": {},
     "output_type": "display_data"
    },
    {
     "name": "stdout",
     "output_type": "stream",
     "text": [
      "for s = 0.1 a = 1 sA =  2 sd = 1 Ei = 0.4\n",
      "Utility A = 1977.2099999996553 utility D = -2066.2147105814197\n",
      "equlibrium (array([1., 0., 0.]), array([1., 0.]))\n",
      "оптимальная стратегия оброняющегося номер  1 оптимальная стратегия атакующего номер  1\n"
     ]
    },
    {
     "data": {
      "application/vnd.jupyter.widget-view+json": {
       "model_id": "c88dcd4699d54ec291877fb750cb4db2",
       "version_major": 2,
       "version_minor": 0
      },
      "text/plain": [
       "  0%|          | 0/50000 [00:00<?, ?it/s]"
      ]
     },
     "metadata": {},
     "output_type": "display_data"
    },
    {
     "name": "stdout",
     "output_type": "stream",
     "text": [
      "for s = 0.1 a = 1 sA =  2 sd = 1 Ei = 0.5\n",
      "Utility A = 1984.1099999996636 utility D = -2133.2649859517596\n",
      "equlibrium (array([1., 0., 0.]), array([1., 0.]))\n",
      "оптимальная стратегия оброняющегося номер  1 оптимальная стратегия атакующего номер  1\n"
     ]
    },
    {
     "data": {
      "application/vnd.jupyter.widget-view+json": {
       "model_id": "d76904221e6843e2b127e59b6903834b",
       "version_major": 2,
       "version_minor": 0
      },
      "text/plain": [
       "  0%|          | 0/50000 [00:00<?, ?it/s]"
      ]
     },
     "metadata": {},
     "output_type": "display_data"
    },
    {
     "name": "stdout",
     "output_type": "stream",
     "text": [
      "for s = 0.1 a = 1 sA =  2 sd = 1 Ei = 0.6\n",
      "Utility A = 1980.6499999996652 utility D = -2210.414972575715\n",
      "equlibrium (array([1., 0., 0.]), array([1., 0.]))\n",
      "оптимальная стратегия оброняющегося номер  1 оптимальная стратегия атакующего номер  1\n"
     ]
    },
    {
     "data": {
      "application/vnd.jupyter.widget-view+json": {
       "model_id": "f3efe30f734c48288105e5e215c1f87a",
       "version_major": 2,
       "version_minor": 0
      },
      "text/plain": [
       "  0%|          | 0/50000 [00:00<?, ?it/s]"
      ]
     },
     "metadata": {},
     "output_type": "display_data"
    },
    {
     "name": "stdout",
     "output_type": "stream",
     "text": [
      "for s = 0.1 a = 1 sA =  2 sd = 1 Ei = 0.7\n",
      "Utility A = 1963.0499999996587 utility D = -2295.226719485262\n",
      "equlibrium (array([1., 0., 0.]), array([1., 0.]))\n",
      "оптимальная стратегия оброняющегося номер  1 оптимальная стратегия атакующего номер  1\n"
     ]
    },
    {
     "data": {
      "application/vnd.jupyter.widget-view+json": {
       "model_id": "85835e7e0ab64d38b0d81d255442d64d",
       "version_major": 2,
       "version_minor": 0
      },
      "text/plain": [
       "  0%|          | 0/50000 [00:00<?, ?it/s]"
      ]
     },
     "metadata": {},
     "output_type": "display_data"
    },
    {
     "name": "stdout",
     "output_type": "stream",
     "text": [
      "for s = 0.1 a = 1 sA =  2 sd = 1 Ei = 0.8\n",
      "Utility A = 1993.6099999996682 utility D = -2466.9268641737854\n",
      "equlibrium (array([1., 0., 0.]), array([1., 0.]))\n",
      "оптимальная стратегия оброняющегося номер  1 оптимальная стратегия атакующего номер  1\n"
     ]
    },
    {
     "data": {
      "application/vnd.jupyter.widget-view+json": {
       "model_id": "99b54b148bee4f27917135ee084fdd64",
       "version_major": 2,
       "version_minor": 0
      },
      "text/plain": [
       "  0%|          | 0/50000 [00:00<?, ?it/s]"
      ]
     },
     "metadata": {},
     "output_type": "display_data"
    },
    {
     "name": "stdout",
     "output_type": "stream",
     "text": [
      "for s = 0.1 a = 1 sA =  2 sd = 1 Ei = 0.9\n",
      "Utility A = 1979.1799999996667 utility D = -2637.378665525371\n",
      "equlibrium (array([1., 0., 0.]), array([1., 0.]))\n",
      "оптимальная стратегия оброняющегося номер  1 оптимальная стратегия атакующего номер  1\n"
     ]
    },
    {
     "data": {
      "application/vnd.jupyter.widget-view+json": {
       "model_id": "752da36006dc47eea3bb868e026588ce",
       "version_major": 2,
       "version_minor": 0
      },
      "text/plain": [
       "  0%|          | 0/50000 [00:00<?, ?it/s]"
      ]
     },
     "metadata": {},
     "output_type": "display_data"
    },
    {
     "name": "stdout",
     "output_type": "stream",
     "text": [
      "for s = 0.1 a = 1 sA =  2 sd = 2 Ei = 0.1\n",
      "Utility A = 1987.6599999996693 utility D = -2011.3777777776672\n",
      "equlibrium (array([1., 0., 0.]), array([1., 0.]))\n",
      "оптимальная стратегия оброняющегося номер  1 оптимальная стратегия атакующего номер  1\n"
     ]
    },
    {
     "data": {
      "application/vnd.jupyter.widget-view+json": {
       "model_id": "3867a5d66b044015bbf8c6a0499c46a0",
       "version_major": 2,
       "version_minor": 0
      },
      "text/plain": [
       "  0%|          | 0/50000 [00:00<?, ?it/s]"
      ]
     },
     "metadata": {},
     "output_type": "display_data"
    },
    {
     "name": "stdout",
     "output_type": "stream",
     "text": [
      "for s = 0.1 a = 1 sA =  2 sd = 2 Ei = 0.2\n",
      "Utility A = 1983.3199999996698 utility D = -2089.8000000002544\n",
      "equlibrium (array([1., 0., 0.]), array([1., 0.]))\n",
      "оптимальная стратегия оброняющегося номер  1 оптимальная стратегия атакующего номер  1\n"
     ]
    },
    {
     "data": {
      "application/vnd.jupyter.widget-view+json": {
       "model_id": "ff15f7ac42804ee0a124a45785b435a7",
       "version_major": 2,
       "version_minor": 0
      },
      "text/plain": [
       "  0%|          | 0/50000 [00:00<?, ?it/s]"
      ]
     },
     "metadata": {},
     "output_type": "display_data"
    },
    {
     "name": "stdout",
     "output_type": "stream",
     "text": [
      "for s = 0.1 a = 1 sA =  2 sd = 2 Ei = 0.3\n",
      "Utility A = 1986.2999999996746 utility D = -2261.571428571441\n",
      "equlibrium (array([1., 0., 0.]), array([1., 0.]))\n",
      "оптимальная стратегия оброняющегося номер  1 оптимальная стратегия атакующего номер  1\n"
     ]
    },
    {
     "data": {
      "application/vnd.jupyter.widget-view+json": {
       "model_id": "7f8438a1d2e34c8a80464008baec246c",
       "version_major": 2,
       "version_minor": 0
      },
      "text/plain": [
       "  0%|          | 0/50000 [00:00<?, ?it/s]"
      ]
     },
     "metadata": {},
     "output_type": "display_data"
    },
    {
     "name": "stdout",
     "output_type": "stream",
     "text": [
      "for s = 0.1 a = 1 sA =  2 sd = 2 Ei = 0.4\n",
      "Utility A = 1971.9099999996715 utility D = -2537.376666666711\n",
      "equlibrium (array([1., 0., 0.]), array([1., 0.]))\n",
      "оптимальная стратегия оброняющегося номер  1 оптимальная стратегия атакующего номер  1\n"
     ]
    },
    {
     "data": {
      "application/vnd.jupyter.widget-view+json": {
       "model_id": "dd2bdbc10f9b493490f2070efcbd057a",
       "version_major": 2,
       "version_minor": 0
      },
      "text/plain": [
       "  0%|          | 0/50000 [00:00<?, ?it/s]"
      ]
     },
     "metadata": {},
     "output_type": "display_data"
    },
    {
     "name": "stdout",
     "output_type": "stream",
     "text": [
      "for s = 0.1 a = 1 sA =  2 sd = 2 Ei = 0.5\n",
      "Utility A = 1974.359999999684 utility D = -3031.660000000003\n",
      "equlibrium (array([1., 0., 0.]), array([1., 0.]))\n",
      "оптимальная стратегия оброняющегося номер  1 оптимальная стратегия атакующего номер  1\n"
     ]
    },
    {
     "data": {
      "application/vnd.jupyter.widget-view+json": {
       "model_id": "c3c1726934a9422cba9106fdbaa070d9",
       "version_major": 2,
       "version_minor": 0
      },
      "text/plain": [
       "  0%|          | 0/50000 [00:00<?, ?it/s]"
      ]
     },
     "metadata": {},
     "output_type": "display_data"
    },
    {
     "name": "stdout",
     "output_type": "stream",
     "text": [
      "for s = 0.1 a = 1 sA =  2 sd = 2 Ei = 0.6\n",
      "Utility A = 2006.5999999996716 utility D = -3937.0999999998116\n",
      "equlibrium (array([1., 0., 0.]), array([1., 0.]))\n",
      "оптимальная стратегия оброняющегося номер  1 оптимальная стратегия атакующего номер  1\n"
     ]
    },
    {
     "data": {
      "application/vnd.jupyter.widget-view+json": {
       "model_id": "a7a18228bb9f404f94fae3be9bfe9745",
       "version_major": 2,
       "version_minor": 0
      },
      "text/plain": [
       "  0%|          | 0/50000 [00:00<?, ?it/s]"
      ]
     },
     "metadata": {},
     "output_type": "display_data"
    },
    {
     "name": "stdout",
     "output_type": "stream",
     "text": [
      "for s = 0.1 a = 1 sA =  2 sd = 2 Ei = 0.7\n",
      "Utility A = 1974.5499999996714 utility D = -5432.8066666666\n",
      "equlibrium (array([1., 0., 0.]), array([1., 0.]))\n",
      "оптимальная стратегия оброняющегося номер  1 оптимальная стратегия атакующего номер  1\n"
     ]
    },
    {
     "data": {
      "application/vnd.jupyter.widget-view+json": {
       "model_id": "cbe02d31e8204170847d5cdda4ba5c9c",
       "version_major": 2,
       "version_minor": 0
      },
      "text/plain": [
       "  0%|          | 0/50000 [00:00<?, ?it/s]"
      ]
     },
     "metadata": {},
     "output_type": "display_data"
    },
    {
     "name": "stdout",
     "output_type": "stream",
     "text": [
      "for s = 0.1 a = 1 sA =  2 sd = 2 Ei = 0.8\n",
      "Utility A = 1977.9999999996705 utility D = -8779.279999999526\n",
      "equlibrium (array([1., 0., 0.]), array([1., 0.]))\n",
      "оптимальная стратегия оброняющегося номер  1 оптимальная стратегия атакующего номер  1\n"
     ]
    },
    {
     "data": {
      "application/vnd.jupyter.widget-view+json": {
       "model_id": "5ba86aa084c24a3eaad8d08656cb106b",
       "version_major": 2,
       "version_minor": 0
      },
      "text/plain": [
       "  0%|          | 0/50000 [00:00<?, ?it/s]"
      ]
     },
     "metadata": {},
     "output_type": "display_data"
    },
    {
     "name": "stdout",
     "output_type": "stream",
     "text": [
      "for s = 0.1 a = 1 sA =  2 sd = 2 Ei = 0.9\n",
      "Utility A = 1981.7999999996546 utility D = -19241.279999999577\n",
      "equlibrium (array([1., 0., 0.]), array([1., 0.]))\n",
      "оптимальная стратегия оброняющегося номер  1 оптимальная стратегия атакующего номер  1\n"
     ]
    },
    {
     "data": {
      "application/vnd.jupyter.widget-view+json": {
       "model_id": "ca3e8b2e420d4b3f8ff543cb20dccc81",
       "version_major": 2,
       "version_minor": 0
      },
      "text/plain": [
       "  0%|          | 0/50000 [00:00<?, ?it/s]"
      ]
     },
     "metadata": {},
     "output_type": "display_data"
    },
    {
     "name": "stdout",
     "output_type": "stream",
     "text": [
      "for s = 0.1 a = 1 sA =  2 sd = 3 Ei = 0.1\n",
      "Utility A = 2009.7199999996703 utility D = -2009.7199999996703\n",
      "equlibrium (array([1., 0., 0.]), array([1., 0.]))\n",
      "оптимальная стратегия оброняющегося номер  1 оптимальная стратегия атакующего номер  1\n"
     ]
    },
    {
     "data": {
      "application/vnd.jupyter.widget-view+json": {
       "model_id": "06653421e1d348ea9e7b3b6561fb68ec",
       "version_major": 2,
       "version_minor": 0
      },
      "text/plain": [
       "  0%|          | 0/50000 [00:00<?, ?it/s]"
      ]
     },
     "metadata": {},
     "output_type": "display_data"
    },
    {
     "name": "stdout",
     "output_type": "stream",
     "text": [
      "for s = 0.1 a = 1 sA =  2 sd = 3 Ei = 0.2\n",
      "Utility A = 1966.039999999673 utility D = -1966.039999999673\n",
      "equlibrium (array([1., 0., 0.]), array([1., 0.]))\n",
      "оптимальная стратегия оброняющегося номер  1 оптимальная стратегия атакующего номер  1\n"
     ]
    },
    {
     "data": {
      "application/vnd.jupyter.widget-view+json": {
       "model_id": "7e91f83843fe480fa1ff3f5f6c85c106",
       "version_major": 2,
       "version_minor": 0
      },
      "text/plain": [
       "  0%|          | 0/50000 [00:00<?, ?it/s]"
      ]
     },
     "metadata": {},
     "output_type": "display_data"
    },
    {
     "name": "stdout",
     "output_type": "stream",
     "text": [
      "for s = 0.1 a = 1 sA =  2 sd = 3 Ei = 0.3\n",
      "Utility A = 1983.1599999996545 utility D = -1983.1599999996545\n",
      "equlibrium (array([1., 0., 0.]), array([1., 0.]))\n",
      "оптимальная стратегия оброняющегося номер  1 оптимальная стратегия атакующего номер  1\n"
     ]
    },
    {
     "data": {
      "application/vnd.jupyter.widget-view+json": {
       "model_id": "9b85ea9ae974499486de65303bf27b82",
       "version_major": 2,
       "version_minor": 0
      },
      "text/plain": [
       "  0%|          | 0/50000 [00:00<?, ?it/s]"
      ]
     },
     "metadata": {},
     "output_type": "display_data"
    },
    {
     "name": "stdout",
     "output_type": "stream",
     "text": [
      "for s = 0.1 a = 1 sA =  2 sd = 3 Ei = 0.4\n",
      "Utility A = 1967.7899999996698 utility D = -1967.7899999996698\n",
      "equlibrium (array([1., 0., 0.]), array([1., 0.]))\n",
      "оптимальная стратегия оброняющегося номер  1 оптимальная стратегия атакующего номер  1\n"
     ]
    },
    {
     "data": {
      "application/vnd.jupyter.widget-view+json": {
       "model_id": "e6366dd34b844448b47599e076ef0028",
       "version_major": 2,
       "version_minor": 0
      },
      "text/plain": [
       "  0%|          | 0/50000 [00:00<?, ?it/s]"
      ]
     },
     "metadata": {},
     "output_type": "display_data"
    },
    {
     "name": "stdout",
     "output_type": "stream",
     "text": [
      "for s = 0.1 a = 1 sA =  2 sd = 3 Ei = 0.5\n",
      "Utility A = 1979.439999999662 utility D = -1979.439999999662\n",
      "equlibrium (array([1., 0., 0.]), array([1., 0.]))\n",
      "оптимальная стратегия оброняющегося номер  1 оптимальная стратегия атакующего номер  1\n"
     ]
    },
    {
     "data": {
      "application/vnd.jupyter.widget-view+json": {
       "model_id": "4600023bc72a426b9622633e4c366fd7",
       "version_major": 2,
       "version_minor": 0
      },
      "text/plain": [
       "  0%|          | 0/50000 [00:00<?, ?it/s]"
      ]
     },
     "metadata": {},
     "output_type": "display_data"
    },
    {
     "name": "stdout",
     "output_type": "stream",
     "text": [
      "for s = 0.1 a = 1 sA =  2 sd = 3 Ei = 0.6\n",
      "Utility A = 1974.6699999996733 utility D = -1974.6699999996733\n",
      "equlibrium (array([1., 0., 0.]), array([1., 0.]))\n",
      "оптимальная стратегия оброняющегося номер  1 оптимальная стратегия атакующего номер  1\n"
     ]
    },
    {
     "data": {
      "application/vnd.jupyter.widget-view+json": {
       "model_id": "f33adafe8c0d4b60a8669fc623784d5b",
       "version_major": 2,
       "version_minor": 0
      },
      "text/plain": [
       "  0%|          | 0/50000 [00:00<?, ?it/s]"
      ]
     },
     "metadata": {},
     "output_type": "display_data"
    },
    {
     "name": "stdout",
     "output_type": "stream",
     "text": [
      "for s = 0.1 a = 1 sA =  2 sd = 3 Ei = 0.7\n",
      "Utility A = 1989.3299999996682 utility D = -1989.3299999996682\n",
      "equlibrium (array([1., 0., 0.]), array([1., 0.]))\n",
      "оптимальная стратегия оброняющегося номер  1 оптимальная стратегия атакующего номер  1\n"
     ]
    },
    {
     "data": {
      "application/vnd.jupyter.widget-view+json": {
       "model_id": "ce54dc28504b45269aad99027ac9d858",
       "version_major": 2,
       "version_minor": 0
      },
      "text/plain": [
       "  0%|          | 0/50000 [00:00<?, ?it/s]"
      ]
     },
     "metadata": {},
     "output_type": "display_data"
    },
    {
     "name": "stdout",
     "output_type": "stream",
     "text": [
      "for s = 0.1 a = 1 sA =  2 sd = 3 Ei = 0.8\n",
      "Utility A = 1988.4999999996617 utility D = -1988.4999999996617\n",
      "equlibrium (array([1., 0., 0.]), array([1., 0.]))\n",
      "оптимальная стратегия оброняющегося номер  1 оптимальная стратегия атакующего номер  1\n"
     ]
    },
    {
     "data": {
      "application/vnd.jupyter.widget-view+json": {
       "model_id": "9fe5cc3dfe564c9ca72f97f006653ca0",
       "version_major": 2,
       "version_minor": 0
      },
      "text/plain": [
       "  0%|          | 0/50000 [00:00<?, ?it/s]"
      ]
     },
     "metadata": {},
     "output_type": "display_data"
    },
    {
     "name": "stdout",
     "output_type": "stream",
     "text": [
      "for s = 0.1 a = 1 sA =  2 sd = 3 Ei = 0.9\n",
      "Utility A = 1981.6499999996593 utility D = -1981.6499999996593\n",
      "equlibrium (array([1., 0., 0.]), array([1., 0.]))\n",
      "оптимальная стратегия оброняющегося номер  1 оптимальная стратегия атакующего номер  1\n"
     ]
    },
    {
     "data": {
      "application/vnd.jupyter.widget-view+json": {
       "model_id": "326f29ff0b4345c59b3c803ac807b727",
       "version_major": 2,
       "version_minor": 0
      },
      "text/plain": [
       "  0%|          | 0/50000 [00:00<?, ?it/s]"
      ]
     },
     "metadata": {},
     "output_type": "display_data"
    },
    {
     "name": "stdout",
     "output_type": "stream",
     "text": [
      "for s = 0.1 a = 2 sA =  1 sd = 1 Ei = 0.1\n",
      "Utility A = 20445.580000001202 utility D = -21042.548750000456\n",
      "equlibrium (array([1., 0., 0.]), array([0., 1.]))\n",
      "оптимальная стратегия оброняющегося номер  1 оптимальная стратегия атакующего номер  2\n"
     ]
    },
    {
     "data": {
      "application/vnd.jupyter.widget-view+json": {
       "model_id": "099b6e76bda54627a39d46c8aa025d2b",
       "version_major": 2,
       "version_minor": 0
      },
      "text/plain": [
       "  0%|          | 0/50000 [00:00<?, ?it/s]"
      ]
     },
     "metadata": {},
     "output_type": "display_data"
    },
    {
     "name": "stdout",
     "output_type": "stream",
     "text": [
      "for s = 0.1 a = 2 sA =  1 sd = 1 Ei = 0.2\n",
      "Utility A = 20446.430000001226 utility D = -21160.833333333583\n",
      "equlibrium (array([1., 0., 0.]), array([0., 1.]))\n",
      "оптимальная стратегия оброняющегося номер  1 оптимальная стратегия атакующего номер  2\n"
     ]
    },
    {
     "data": {
      "application/vnd.jupyter.widget-view+json": {
       "model_id": "8445bb4927ca4adc8c1fc9e97f3902cb",
       "version_major": 2,
       "version_minor": 0
      },
      "text/plain": [
       "  0%|          | 0/50000 [00:00<?, ?it/s]"
      ]
     },
     "metadata": {},
     "output_type": "display_data"
    },
    {
     "name": "stdout",
     "output_type": "stream",
     "text": [
      "for s = 0.1 a = 2 sA =  1 sd = 1 Ei = 0.3\n",
      "Utility A = 19735.620000001054 utility D = -20752.65500000156\n",
      "equlibrium (array([1., 0., 0.]), array([0., 1.]))\n",
      "оптимальная стратегия оброняющегося номер  1 оптимальная стратегия атакующего номер  2\n"
     ]
    },
    {
     "data": {
      "application/vnd.jupyter.widget-view+json": {
       "model_id": "d637b59f9e9141188282f12e6a0340aa",
       "version_major": 2,
       "version_minor": 0
      },
      "text/plain": [
       "  0%|          | 0/50000 [00:00<?, ?it/s]"
      ]
     },
     "metadata": {},
     "output_type": "display_data"
    },
    {
     "name": "stdout",
     "output_type": "stream",
     "text": [
      "for s = 0.1 a = 2 sA =  1 sd = 1 Ei = 0.4\n",
      "Utility A = 13155.850000000268 utility D = -14632.740000000313\n",
      "equlibrium (array([1., 0., 0.]), array([0., 1.]))\n",
      "оптимальная стратегия оброняющегося номер  1 оптимальная стратегия атакующего номер  2\n"
     ]
    },
    {
     "data": {
      "application/vnd.jupyter.widget-view+json": {
       "model_id": "ce58e946981c4d5793f5877ea544d912",
       "version_major": 2,
       "version_minor": 0
      },
      "text/plain": [
       "  0%|          | 0/50000 [00:00<?, ?it/s]"
      ]
     },
     "metadata": {},
     "output_type": "display_data"
    },
    {
     "name": "stdout",
     "output_type": "stream",
     "text": [
      "for s = 0.1 a = 2 sA =  1 sd = 1 Ei = 0.5\n",
      "Utility A = 20365.330000001148 utility D = -20933.470000001696\n",
      "equlibrium (array([1., 0., 0.]), array([0., 1.]))\n",
      "оптимальная стратегия оброняющегося номер  1 оптимальная стратегия атакующего номер  2\n"
     ]
    },
    {
     "data": {
      "application/vnd.jupyter.widget-view+json": {
       "model_id": "cb3b1ab1d05a42b584caa37ae4341c97",
       "version_major": 2,
       "version_minor": 0
      },
      "text/plain": [
       "  0%|          | 0/50000 [00:00<?, ?it/s]"
      ]
     },
     "metadata": {},
     "output_type": "display_data"
    },
    {
     "name": "stdout",
     "output_type": "stream",
     "text": [
      "for s = 0.1 a = 2 sA =  1 sd = 1 Ei = 0.6\n",
      "Utility A = 20278.430000001343 utility D = -20849.3100000019\n",
      "equlibrium (array([1., 0., 0.]), array([0., 1.]))\n",
      "оптимальная стратегия оброняющегося номер  1 оптимальная стратегия атакующего номер  2\n"
     ]
    },
    {
     "data": {
      "application/vnd.jupyter.widget-view+json": {
       "model_id": "64361ad5fce841d38f763360fa4931e5",
       "version_major": 2,
       "version_minor": 0
      },
      "text/plain": [
       "  0%|          | 0/50000 [00:00<?, ?it/s]"
      ]
     },
     "metadata": {},
     "output_type": "display_data"
    },
    {
     "name": "stdout",
     "output_type": "stream",
     "text": [
      "for s = 0.1 a = 2 sA =  1 sd = 1 Ei = 0.7\n",
      "Utility A = 20320.32000000127 utility D = -20889.44000000176\n",
      "equlibrium (array([1., 0., 0.]), array([0., 1.]))\n",
      "оптимальная стратегия оброняющегося номер  1 оптимальная стратегия атакующего номер  2\n"
     ]
    },
    {
     "data": {
      "application/vnd.jupyter.widget-view+json": {
       "model_id": "1843a7dc85f745eca9cfe52526a6470d",
       "version_major": 2,
       "version_minor": 0
      },
      "text/plain": [
       "  0%|          | 0/50000 [00:00<?, ?it/s]"
      ]
     },
     "metadata": {},
     "output_type": "display_data"
    },
    {
     "name": "stdout",
     "output_type": "stream",
     "text": [
      "for s = 0.1 a = 2 sA =  1 sd = 1 Ei = 0.8\n",
      "Utility A = 20364.15000000137 utility D = -20944.180000001925\n",
      "equlibrium (array([1., 0., 0.]), array([0., 1.]))\n",
      "оптимальная стратегия оброняющегося номер  1 оптимальная стратегия атакующего номер  2\n"
     ]
    },
    {
     "data": {
      "application/vnd.jupyter.widget-view+json": {
       "model_id": "890f12f87ab1482bbd21e18fb7d2f8a8",
       "version_major": 2,
       "version_minor": 0
      },
      "text/plain": [
       "  0%|          | 0/50000 [00:00<?, ?it/s]"
      ]
     },
     "metadata": {},
     "output_type": "display_data"
    },
    {
     "name": "stdout",
     "output_type": "stream",
     "text": [
      "for s = 0.1 a = 2 sA =  1 sd = 1 Ei = 0.9\n",
      "Utility A = 20320.76000000111 utility D = -20900.360000001838\n",
      "equlibrium (array([1., 0., 0.]), array([0., 1.]))\n",
      "оптимальная стратегия оброняющегося номер  1 оптимальная стратегия атакующего номер  2\n"
     ]
    },
    {
     "data": {
      "application/vnd.jupyter.widget-view+json": {
       "model_id": "ffeba7e7a0e14c3c9a8c99f7d4fc3acd",
       "version_major": 2,
       "version_minor": 0
      },
      "text/plain": [
       "  0%|          | 0/50000 [00:00<?, ?it/s]"
      ]
     },
     "metadata": {},
     "output_type": "display_data"
    },
    {
     "name": "stdout",
     "output_type": "stream",
     "text": [
      "for s = 0.1 a = 2 sA =  1 sd = 2 Ei = 0.1\n",
      "Utility A = 20878.00000000177 utility D = -20886.722655820595\n",
      "equlibrium (array([1., 0., 0.]), array([0., 1.]))\n",
      "оптимальная стратегия оброняющегося номер  1 оптимальная стратегия атакующего номер  2\n"
     ]
    },
    {
     "data": {
      "application/vnd.jupyter.widget-view+json": {
       "model_id": "7c60037dbf16447a8797eb6d7760e474",
       "version_major": 2,
       "version_minor": 0
      },
      "text/plain": [
       "  0%|          | 0/50000 [00:00<?, ?it/s]"
      ]
     },
     "metadata": {},
     "output_type": "display_data"
    },
    {
     "name": "stdout",
     "output_type": "stream",
     "text": [
      "for s = 0.1 a = 2 sA =  1 sd = 2 Ei = 0.2\n",
      "Utility A = 20881.53000000194 utility D = -20918.09077910438\n",
      "equlibrium (array([1., 0., 0.]), array([0., 1.]))\n",
      "оптимальная стратегия оброняющегося номер  1 оптимальная стратегия атакующего номер  2\n"
     ]
    },
    {
     "data": {
      "application/vnd.jupyter.widget-view+json": {
       "model_id": "c639343eb48847e0b1c3945ae74b4fd4",
       "version_major": 2,
       "version_minor": 0
      },
      "text/plain": [
       "  0%|          | 0/50000 [00:00<?, ?it/s]"
      ]
     },
     "metadata": {},
     "output_type": "display_data"
    },
    {
     "name": "stdout",
     "output_type": "stream",
     "text": [
      "for s = 0.1 a = 2 sA =  1 sd = 2 Ei = 0.3\n",
      "Utility A = 20909.260000002047 utility D = -20997.617770064982\n",
      "equlibrium (array([1., 0., 0.]), array([0., 1.]))\n",
      "оптимальная стратегия оброняющегося номер  1 оптимальная стратегия атакующего номер  2\n"
     ]
    },
    {
     "data": {
      "application/vnd.jupyter.widget-view+json": {
       "model_id": "d9bbf04d7f984f0a8d8428a41571bad1",
       "version_major": 2,
       "version_minor": 0
      },
      "text/plain": [
       "  0%|          | 0/50000 [00:00<?, ?it/s]"
      ]
     },
     "metadata": {},
     "output_type": "display_data"
    },
    {
     "name": "stdout",
     "output_type": "stream",
     "text": [
      "for s = 0.1 a = 2 sA =  1 sd = 2 Ei = 0.4\n",
      "Utility A = 20951.920000002185 utility D = -21131.799206724794\n",
      "equlibrium (array([1., 0., 0.]), array([0., 1.]))\n",
      "оптимальная стратегия оброняющегося номер  1 оптимальная стратегия атакующего номер  2\n"
     ]
    },
    {
     "data": {
      "application/vnd.jupyter.widget-view+json": {
       "model_id": "f389c16e008047c78d45ed6860e4ea2e",
       "version_major": 2,
       "version_minor": 0
      },
      "text/plain": [
       "  0%|          | 0/50000 [00:00<?, ?it/s]"
      ]
     },
     "metadata": {},
     "output_type": "display_data"
    },
    {
     "name": "stdout",
     "output_type": "stream",
     "text": [
      "for s = 0.1 a = 2 sA =  1 sd = 2 Ei = 0.5\n",
      "Utility A = 21009.420000001912 utility D = -21332.455948561957\n",
      "equlibrium (array([1., 0., 0.]), array([0., 1.]))\n",
      "оптимальная стратегия оброняющегося номер  1 оптимальная стратегия атакующего номер  2\n"
     ]
    },
    {
     "data": {
      "application/vnd.jupyter.widget-view+json": {
       "model_id": "3388580dd7f54f23b3655e5d50f064b1",
       "version_major": 2,
       "version_minor": 0
      },
      "text/plain": [
       "  0%|          | 0/50000 [00:00<?, ?it/s]"
      ]
     },
     "metadata": {},
     "output_type": "display_data"
    },
    {
     "name": "stdout",
     "output_type": "stream",
     "text": [
      "for s = 0.1 a = 2 sA =  1 sd = 2 Ei = 0.6\n",
      "Utility A = 21003.10000000146 utility D = -21558.6846995375\n",
      "equlibrium (array([1., 0., 0.]), array([0., 1.]))\n",
      "оптимальная стратегия оброняющегося номер  1 оптимальная стратегия атакующего номер  2\n"
     ]
    },
    {
     "data": {
      "application/vnd.jupyter.widget-view+json": {
       "model_id": "ec196e80187d47e1b6cb4f29f176e055",
       "version_major": 2,
       "version_minor": 0
      },
      "text/plain": [
       "  0%|          | 0/50000 [00:00<?, ?it/s]"
      ]
     },
     "metadata": {},
     "output_type": "display_data"
    },
    {
     "name": "stdout",
     "output_type": "stream",
     "text": [
      "for s = 0.1 a = 2 sA =  1 sd = 2 Ei = 0.7\n",
      "Utility A = 20933.53000000194 utility D = -21932.947284797334\n",
      "equlibrium (array([1., 0., 0.]), array([0., 1.]))\n",
      "оптимальная стратегия оброняющегося номер  1 оптимальная стратегия атакующего номер  2\n"
     ]
    },
    {
     "data": {
      "application/vnd.jupyter.widget-view+json": {
       "model_id": "56cf39d2c686449e81736aa400391b3b",
       "version_major": 2,
       "version_minor": 0
      },
      "text/plain": [
       "  0%|          | 0/50000 [00:00<?, ?it/s]"
      ]
     },
     "metadata": {},
     "output_type": "display_data"
    },
    {
     "name": "stdout",
     "output_type": "stream",
     "text": [
      "for s = 0.1 a = 2 sA =  1 sd = 2 Ei = 0.8\n",
      "Utility A = 21004.74000000219 utility D = -23383.060372927925\n",
      "equlibrium (array([1., 0., 0.]), array([0., 1.]))\n",
      "оптимальная стратегия оброняющегося номер  1 оптимальная стратегия атакующего номер  2\n"
     ]
    },
    {
     "data": {
      "application/vnd.jupyter.widget-view+json": {
       "model_id": "12f3fb0c07cc40c6ad78a5cd39b94929",
       "version_major": 2,
       "version_minor": 0
      },
      "text/plain": [
       "  0%|          | 0/50000 [00:00<?, ?it/s]"
      ]
     },
     "metadata": {},
     "output_type": "display_data"
    },
    {
     "name": "stdout",
     "output_type": "stream",
     "text": [
      "for s = 0.1 a = 2 sA =  1 sd = 2 Ei = 0.9\n",
      "Utility A = 21018.74000000193 utility D = -24082.216027366325\n",
      "equlibrium (array([1., 0., 0.]), array([0., 1.]))\n",
      "оптимальная стратегия оброняющегося номер  1 оптимальная стратегия атакующего номер  2\n"
     ]
    },
    {
     "data": {
      "application/vnd.jupyter.widget-view+json": {
       "model_id": "6317c35c9270424aa89547075b5ea11f",
       "version_major": 2,
       "version_minor": 0
      },
      "text/plain": [
       "  0%|          | 0/50000 [00:00<?, ?it/s]"
      ]
     },
     "metadata": {},
     "output_type": "display_data"
    },
    {
     "name": "stdout",
     "output_type": "stream",
     "text": [
      "for s = 0.1 a = 2 sA =  1 sd = 3 Ei = 0.1\n",
      "Utility A = 0 utility D = 0\n",
      "equlibrium (array([1., 0., 0.]), array([1., 0.]))\n",
      "оптимальная стратегия оброняющегося номер  1 оптимальная стратегия атакующего номер  1\n"
     ]
    },
    {
     "data": {
      "application/vnd.jupyter.widget-view+json": {
       "model_id": "8a5c0fd585ef4ee18c9de85eb4f4e550",
       "version_major": 2,
       "version_minor": 0
      },
      "text/plain": [
       "  0%|          | 0/50000 [00:00<?, ?it/s]"
      ]
     },
     "metadata": {},
     "output_type": "display_data"
    },
    {
     "name": "stdout",
     "output_type": "stream",
     "text": [
      "for s = 0.1 a = 2 sA =  1 sd = 3 Ei = 0.2\n",
      "Utility A = 0 utility D = 0\n",
      "equlibrium (array([1., 0., 0.]), array([1., 0.]))\n",
      "оптимальная стратегия оброняющегося номер  1 оптимальная стратегия атакующего номер  1\n"
     ]
    },
    {
     "data": {
      "application/vnd.jupyter.widget-view+json": {
       "model_id": "ba4285bfe46841a7857cc7b624ed24a5",
       "version_major": 2,
       "version_minor": 0
      },
      "text/plain": [
       "  0%|          | 0/50000 [00:00<?, ?it/s]"
      ]
     },
     "metadata": {},
     "output_type": "display_data"
    },
    {
     "name": "stdout",
     "output_type": "stream",
     "text": [
      "for s = 0.1 a = 2 sA =  1 sd = 3 Ei = 0.3\n",
      "Utility A = 0 utility D = 0\n",
      "equlibrium (array([1., 0., 0.]), array([1., 0.]))\n",
      "оптимальная стратегия оброняющегося номер  1 оптимальная стратегия атакующего номер  1\n"
     ]
    },
    {
     "data": {
      "application/vnd.jupyter.widget-view+json": {
       "model_id": "a7cbd5f99ea84bb39151803a5feed9ae",
       "version_major": 2,
       "version_minor": 0
      },
      "text/plain": [
       "  0%|          | 0/50000 [00:00<?, ?it/s]"
      ]
     },
     "metadata": {},
     "output_type": "display_data"
    },
    {
     "name": "stdout",
     "output_type": "stream",
     "text": [
      "for s = 0.1 a = 2 sA =  1 sd = 3 Ei = 0.4\n",
      "Utility A = 0 utility D = 0\n",
      "equlibrium (array([1., 0., 0.]), array([1., 0.]))\n",
      "оптимальная стратегия оброняющегося номер  1 оптимальная стратегия атакующего номер  1\n"
     ]
    },
    {
     "data": {
      "application/vnd.jupyter.widget-view+json": {
       "model_id": "25f67e8b9d3f47388855c73b62ba10f5",
       "version_major": 2,
       "version_minor": 0
      },
      "text/plain": [
       "  0%|          | 0/50000 [00:00<?, ?it/s]"
      ]
     },
     "metadata": {},
     "output_type": "display_data"
    },
    {
     "name": "stdout",
     "output_type": "stream",
     "text": [
      "for s = 0.1 a = 2 sA =  1 sd = 3 Ei = 0.5\n",
      "Utility A = 0 utility D = 0\n",
      "equlibrium (array([1., 0., 0.]), array([1., 0.]))\n",
      "оптимальная стратегия оброняющегося номер  1 оптимальная стратегия атакующего номер  1\n"
     ]
    },
    {
     "data": {
      "application/vnd.jupyter.widget-view+json": {
       "model_id": "5db7d508bb174648a47f864104553c22",
       "version_major": 2,
       "version_minor": 0
      },
      "text/plain": [
       "  0%|          | 0/50000 [00:00<?, ?it/s]"
      ]
     },
     "metadata": {},
     "output_type": "display_data"
    },
    {
     "name": "stdout",
     "output_type": "stream",
     "text": [
      "for s = 0.1 a = 2 sA =  1 sd = 3 Ei = 0.6\n",
      "Utility A = 0 utility D = 0\n",
      "equlibrium (array([1., 0., 0.]), array([1., 0.]))\n",
      "оптимальная стратегия оброняющегося номер  1 оптимальная стратегия атакующего номер  1\n"
     ]
    },
    {
     "data": {
      "application/vnd.jupyter.widget-view+json": {
       "model_id": "2086b92a3223491db524bd335bf90b55",
       "version_major": 2,
       "version_minor": 0
      },
      "text/plain": [
       "  0%|          | 0/50000 [00:00<?, ?it/s]"
      ]
     },
     "metadata": {},
     "output_type": "display_data"
    },
    {
     "name": "stdout",
     "output_type": "stream",
     "text": [
      "for s = 0.1 a = 2 sA =  1 sd = 3 Ei = 0.7\n",
      "Utility A = 0 utility D = 0\n",
      "equlibrium (array([1., 0., 0.]), array([1., 0.]))\n",
      "оптимальная стратегия оброняющегося номер  1 оптимальная стратегия атакующего номер  1\n"
     ]
    },
    {
     "data": {
      "application/vnd.jupyter.widget-view+json": {
       "model_id": "ca96f0f74dd84abba5086e3fa4891723",
       "version_major": 2,
       "version_minor": 0
      },
      "text/plain": [
       "  0%|          | 0/50000 [00:00<?, ?it/s]"
      ]
     },
     "metadata": {},
     "output_type": "display_data"
    },
    {
     "name": "stdout",
     "output_type": "stream",
     "text": [
      "for s = 0.1 a = 2 sA =  1 sd = 3 Ei = 0.8\n",
      "Utility A = 0 utility D = 0\n",
      "equlibrium (array([1., 0., 0.]), array([1., 0.]))\n",
      "оптимальная стратегия оброняющегося номер  1 оптимальная стратегия атакующего номер  1\n"
     ]
    },
    {
     "data": {
      "application/vnd.jupyter.widget-view+json": {
       "model_id": "ed54033839b04271bb9c011d19d149fd",
       "version_major": 2,
       "version_minor": 0
      },
      "text/plain": [
       "  0%|          | 0/50000 [00:00<?, ?it/s]"
      ]
     },
     "metadata": {},
     "output_type": "display_data"
    },
    {
     "name": "stdout",
     "output_type": "stream",
     "text": [
      "for s = 0.1 a = 2 sA =  1 sd = 3 Ei = 0.9\n",
      "Utility A = 0 utility D = 0\n",
      "equlibrium (array([1., 0., 0.]), array([1., 0.]))\n",
      "оптимальная стратегия оброняющегося номер  1 оптимальная стратегия атакующего номер  1\n"
     ]
    },
    {
     "data": {
      "application/vnd.jupyter.widget-view+json": {
       "model_id": "38e72d3ea43c4f55a8d0fa97ae2511ee",
       "version_major": 2,
       "version_minor": 0
      },
      "text/plain": [
       "  0%|          | 0/50000 [00:00<?, ?it/s]"
      ]
     },
     "metadata": {},
     "output_type": "display_data"
    },
    {
     "name": "stdout",
     "output_type": "stream",
     "text": [
      "for s = 0.1 a = 2 sA =  2 sd = 1 Ei = 0.1\n",
      "Utility A = 1971.9199999996783 utility D = -1976.9597114860826\n",
      "equlibrium (array([1., 0., 0.]), array([1., 0.]))\n",
      "оптимальная стратегия оброняющегося номер  1 оптимальная стратегия атакующего номер  1\n"
     ]
    },
    {
     "data": {
      "application/vnd.jupyter.widget-view+json": {
       "model_id": "3dae5fda897c48bc8fad4187b15de8b4",
       "version_major": 2,
       "version_minor": 0
      },
      "text/plain": [
       "  0%|          | 0/50000 [00:00<?, ?it/s]"
      ]
     },
     "metadata": {},
     "output_type": "display_data"
    },
    {
     "name": "stdout",
     "output_type": "stream",
     "text": [
      "for s = 0.1 a = 2 sA =  2 sd = 1 Ei = 0.2\n",
      "Utility A = 1991.7999999996553 utility D = -2014.2672098382875\n",
      "equlibrium (array([1., 0., 0.]), array([1., 0.]))\n",
      "оптимальная стратегия оброняющегося номер  1 оптимальная стратегия атакующего номер  1\n"
     ]
    },
    {
     "data": {
      "application/vnd.jupyter.widget-view+json": {
       "model_id": "f0aa66c0ef0a4fe6849f229594a54b8a",
       "version_major": 2,
       "version_minor": 0
      },
      "text/plain": [
       "  0%|          | 0/50000 [00:00<?, ?it/s]"
      ]
     },
     "metadata": {},
     "output_type": "display_data"
    },
    {
     "name": "stdout",
     "output_type": "stream",
     "text": [
      "for s = 0.1 a = 2 sA =  2 sd = 1 Ei = 0.3\n",
      "Utility A = 1983.7899999996805 utility D = -2041.270999970102\n",
      "equlibrium (array([1., 0., 0.]), array([1., 0.]))\n",
      "оптимальная стратегия оброняющегося номер  1 оптимальная стратегия атакующего номер  1\n"
     ]
    },
    {
     "data": {
      "application/vnd.jupyter.widget-view+json": {
       "model_id": "6cfd0c5bd2c94e8b9c7fcd6b527c8a08",
       "version_major": 2,
       "version_minor": 0
      },
      "text/plain": [
       "  0%|          | 0/50000 [00:00<?, ?it/s]"
      ]
     },
     "metadata": {},
     "output_type": "display_data"
    },
    {
     "name": "stdout",
     "output_type": "stream",
     "text": [
      "for s = 0.1 a = 2 sA =  2 sd = 1 Ei = 0.4\n",
      "Utility A = 1985.1099999996668 utility D = -2104.1684906804735\n",
      "equlibrium (array([1., 0., 0.]), array([1., 0.]))\n",
      "оптимальная стратегия оброняющегося номер  1 оптимальная стратегия атакующего номер  1\n"
     ]
    },
    {
     "data": {
      "application/vnd.jupyter.widget-view+json": {
       "model_id": "b63325b7350043c7a7c903a1466b6c2e",
       "version_major": 2,
       "version_minor": 0
      },
      "text/plain": [
       "  0%|          | 0/50000 [00:00<?, ?it/s]"
      ]
     },
     "metadata": {},
     "output_type": "display_data"
    },
    {
     "name": "stdout",
     "output_type": "stream",
     "text": [
      "for s = 0.1 a = 2 sA =  2 sd = 1 Ei = 0.5\n",
      "Utility A = 1992.9099999996774 utility D = -2216.381929094946\n",
      "equlibrium (array([1., 0., 0.]), array([1., 0.]))\n",
      "оптимальная стратегия оброняющегося номер  1 оптимальная стратегия атакующего номер  1\n"
     ]
    },
    {
     "data": {
      "application/vnd.jupyter.widget-view+json": {
       "model_id": "e894f39a759247b491a419612d9cfafc",
       "version_major": 2,
       "version_minor": 0
      },
      "text/plain": [
       "  0%|          | 0/50000 [00:00<?, ?it/s]"
      ]
     },
     "metadata": {},
     "output_type": "display_data"
    },
    {
     "name": "stdout",
     "output_type": "stream",
     "text": [
      "for s = 0.1 a = 2 sA =  2 sd = 1 Ei = 0.6\n",
      "Utility A = 1949.6099999996725 utility D = -2348.483603050222\n",
      "equlibrium (array([1., 0., 0.]), array([1., 0.]))\n",
      "оптимальная стратегия оброняющегося номер  1 оптимальная стратегия атакующего номер  1\n"
     ]
    },
    {
     "data": {
      "application/vnd.jupyter.widget-view+json": {
       "model_id": "b9902498ca9a4bbca2958339762eefb9",
       "version_major": 2,
       "version_minor": 0
      },
      "text/plain": [
       "  0%|          | 0/50000 [00:00<?, ?it/s]"
      ]
     },
     "metadata": {},
     "output_type": "display_data"
    },
    {
     "name": "stdout",
     "output_type": "stream",
     "text": [
      "for s = 0.1 a = 2 sA =  2 sd = 1 Ei = 0.7\n",
      "Utility A = 1980.6599999996738 utility D = -2767.6492286639686\n",
      "equlibrium (array([1., 0., 0.]), array([1., 0.]))\n",
      "оптимальная стратегия оброняющегося номер  1 оптимальная стратегия атакующего номер  1\n"
     ]
    },
    {
     "data": {
      "application/vnd.jupyter.widget-view+json": {
       "model_id": "99531824f8044abc864f40bd3e9be4ea",
       "version_major": 2,
       "version_minor": 0
      },
      "text/plain": [
       "  0%|          | 0/50000 [00:00<?, ?it/s]"
      ]
     },
     "metadata": {},
     "output_type": "display_data"
    },
    {
     "name": "stdout",
     "output_type": "stream",
     "text": [
      "for s = 0.1 a = 2 sA =  2 sd = 1 Ei = 0.8\n",
      "Utility A = 1963.5899999996723 utility D = -4005.0498828571426\n",
      "equlibrium (array([1., 0., 0.]), array([1., 0.]))\n",
      "оптимальная стратегия оброняющегося номер  1 оптимальная стратегия атакующего номер  1\n"
     ]
    },
    {
     "data": {
      "application/vnd.jupyter.widget-view+json": {
       "model_id": "6edd3e41802d449ca06b4b2cf75b94a3",
       "version_major": 2,
       "version_minor": 0
      },
      "text/plain": [
       "  0%|          | 0/50000 [00:00<?, ?it/s]"
      ]
     },
     "metadata": {},
     "output_type": "display_data"
    },
    {
     "name": "stdout",
     "output_type": "stream",
     "text": [
      "for s = 0.1 a = 2 sA =  2 sd = 1 Ei = 0.9\n",
      "Utility A = 1982.4399999996706 utility D = -4536.513185407995\n",
      "equlibrium (array([1., 0., 0.]), array([1., 0.]))\n",
      "оптимальная стратегия оброняющегося номер  1 оптимальная стратегия атакующего номер  1\n"
     ]
    },
    {
     "data": {
      "application/vnd.jupyter.widget-view+json": {
       "model_id": "af64ec2c6232486eb210dca84226c195",
       "version_major": 2,
       "version_minor": 0
      },
      "text/plain": [
       "  0%|          | 0/50000 [00:00<?, ?it/s]"
      ]
     },
     "metadata": {},
     "output_type": "display_data"
    },
    {
     "name": "stdout",
     "output_type": "stream",
     "text": [
      "for s = 0.1 a = 2 sA =  2 sd = 2 Ei = 0.1\n",
      "Utility A = 1977.289999999668 utility D = -2003.9224999993826\n",
      "equlibrium (array([1., 0., 0.]), array([1., 0.]))\n",
      "оптимальная стратегия оброняющегося номер  1 оптимальная стратегия атакующего номер  1\n"
     ]
    },
    {
     "data": {
      "application/vnd.jupyter.widget-view+json": {
       "model_id": "80a2d381e58a4b2790fb1a7d889a262e",
       "version_major": 2,
       "version_minor": 0
      },
      "text/plain": [
       "  0%|          | 0/50000 [00:00<?, ?it/s]"
      ]
     },
     "metadata": {},
     "output_type": "display_data"
    },
    {
     "name": "stdout",
     "output_type": "stream",
     "text": [
      "for s = 0.1 a = 2 sA =  2 sd = 2 Ei = 0.2\n",
      "Utility A = 1971.939999999657 utility D = -2113.946666666488\n",
      "equlibrium (array([1., 0., 0.]), array([1., 0.]))\n",
      "оптимальная стратегия оброняющегося номер  1 оптимальная стратегия атакующего номер  1\n"
     ]
    },
    {
     "data": {
      "application/vnd.jupyter.widget-view+json": {
       "model_id": "e7c51a391e764cf2ba014f4bf49027d2",
       "version_major": 2,
       "version_minor": 0
      },
      "text/plain": [
       "  0%|          | 0/50000 [00:00<?, ?it/s]"
      ]
     },
     "metadata": {},
     "output_type": "display_data"
    },
    {
     "name": "stdout",
     "output_type": "stream",
     "text": [
      "for s = 0.1 a = 2 sA =  2 sd = 2 Ei = 0.3\n",
      "Utility A = 1971.4399999996667 utility D = -2450.847499999793\n",
      "equlibrium (array([1., 0., 0.]), array([1., 0.]))\n",
      "оптимальная стратегия оброняющегося номер  1 оптимальная стратегия атакующего номер  1\n"
     ]
    },
    {
     "data": {
      "application/vnd.jupyter.widget-view+json": {
       "model_id": "bcea5bff6eaa4e07ba632a29bd4bdc84",
       "version_major": 2,
       "version_minor": 0
      },
      "text/plain": [
       "  0%|          | 0/50000 [00:00<?, ?it/s]"
      ]
     },
     "metadata": {},
     "output_type": "display_data"
    },
    {
     "name": "stdout",
     "output_type": "stream",
     "text": [
      "for s = 0.1 a = 2 sA =  2 sd = 2 Ei = 0.4\n",
      "Utility A = 1987.5699999996536 utility D = -3698.9299999998607\n",
      "equlibrium (array([1., 0., 0.]), array([1., 0.]))\n",
      "оптимальная стратегия оброняющегося номер  1 оптимальная стратегия атакующего номер  1\n"
     ]
    },
    {
     "data": {
      "application/vnd.jupyter.widget-view+json": {
       "model_id": "55fa4366deda45aa923c92ddb057c357",
       "version_major": 2,
       "version_minor": 0
      },
      "text/plain": [
       "  0%|          | 0/50000 [00:00<?, ?it/s]"
      ]
     },
     "metadata": {},
     "output_type": "display_data"
    },
    {
     "name": "stdout",
     "output_type": "stream",
     "text": [
      "for s = 0.1 a = 2 sA =  2 sd = 2 Ei = 0.5\n",
      "Utility A = 1964.0099999996696 utility D = -1964.0099999996696\n",
      "equlibrium (array([1., 0., 0.]), array([1., 0.]))\n",
      "оптимальная стратегия оброняющегося номер  1 оптимальная стратегия атакующего номер  1\n"
     ]
    },
    {
     "data": {
      "application/vnd.jupyter.widget-view+json": {
       "model_id": "4b60e20ec6374229aa62b366b96d1f43",
       "version_major": 2,
       "version_minor": 0
      },
      "text/plain": [
       "  0%|          | 0/50000 [00:00<?, ?it/s]"
      ]
     },
     "metadata": {},
     "output_type": "display_data"
    },
    {
     "name": "stdout",
     "output_type": "stream",
     "text": [
      "for s = 0.1 a = 2 sA =  2 sd = 2 Ei = 0.6\n",
      "Utility A = 1978.6299999996731 utility D = -1978.6299999996731\n",
      "equlibrium (array([1., 0., 0.]), array([1., 0.]))\n",
      "оптимальная стратегия оброняющегося номер  1 оптимальная стратегия атакующего номер  1\n"
     ]
    },
    {
     "data": {
      "application/vnd.jupyter.widget-view+json": {
       "model_id": "73da09fdaf71435ba7e30b3889a19710",
       "version_major": 2,
       "version_minor": 0
      },
      "text/plain": [
       "  0%|          | 0/50000 [00:00<?, ?it/s]"
      ]
     },
     "metadata": {},
     "output_type": "display_data"
    },
    {
     "name": "stdout",
     "output_type": "stream",
     "text": [
      "for s = 0.1 a = 2 sA =  2 sd = 2 Ei = 0.7\n",
      "Utility A = 1965.2499999996721 utility D = -1965.2499999996721\n",
      "equlibrium (array([1., 0., 0.]), array([1., 0.]))\n",
      "оптимальная стратегия оброняющегося номер  1 оптимальная стратегия атакующего номер  1\n"
     ]
    },
    {
     "data": {
      "application/vnd.jupyter.widget-view+json": {
       "model_id": "b34d5689ea434e7eb271ab929649071c",
       "version_major": 2,
       "version_minor": 0
      },
      "text/plain": [
       "  0%|          | 0/50000 [00:00<?, ?it/s]"
      ]
     },
     "metadata": {},
     "output_type": "display_data"
    },
    {
     "name": "stdout",
     "output_type": "stream",
     "text": [
      "for s = 0.1 a = 2 sA =  2 sd = 2 Ei = 0.8\n",
      "Utility A = 1985.4999999996674 utility D = -1985.4999999996674\n",
      "equlibrium (array([1., 0., 0.]), array([1., 0.]))\n",
      "оптимальная стратегия оброняющегося номер  1 оптимальная стратегия атакующего номер  1\n"
     ]
    },
    {
     "data": {
      "application/vnd.jupyter.widget-view+json": {
       "model_id": "4e9e8148819b4817b108b16d534d1c54",
       "version_major": 2,
       "version_minor": 0
      },
      "text/plain": [
       "  0%|          | 0/50000 [00:00<?, ?it/s]"
      ]
     },
     "metadata": {},
     "output_type": "display_data"
    },
    {
     "name": "stdout",
     "output_type": "stream",
     "text": [
      "for s = 0.1 a = 2 sA =  2 sd = 2 Ei = 0.9\n",
      "Utility A = 1980.8099999996696 utility D = -1980.8099999996696\n",
      "equlibrium (array([1., 0., 0.]), array([1., 0.]))\n",
      "оптимальная стратегия оброняющегося номер  1 оптимальная стратегия атакующего номер  1\n"
     ]
    },
    {
     "data": {
      "application/vnd.jupyter.widget-view+json": {
       "model_id": "c108bd3fc48749be8b7afa5e4879a864",
       "version_major": 2,
       "version_minor": 0
      },
      "text/plain": [
       "  0%|          | 0/50000 [00:00<?, ?it/s]"
      ]
     },
     "metadata": {},
     "output_type": "display_data"
    },
    {
     "name": "stdout",
     "output_type": "stream",
     "text": [
      "for s = 0.1 a = 2 sA =  2 sd = 3 Ei = 0.1\n",
      "Utility A = 1950.8299999996839 utility D = -1950.8299999996839\n",
      "equlibrium (array([1., 0., 0.]), array([1., 0.]))\n",
      "оптимальная стратегия оброняющегося номер  1 оптимальная стратегия атакующего номер  1\n"
     ]
    },
    {
     "data": {
      "application/vnd.jupyter.widget-view+json": {
       "model_id": "47de370a01ca406a8381d151eebeafde",
       "version_major": 2,
       "version_minor": 0
      },
      "text/plain": [
       "  0%|          | 0/50000 [00:00<?, ?it/s]"
      ]
     },
     "metadata": {},
     "output_type": "display_data"
    },
    {
     "name": "stdout",
     "output_type": "stream",
     "text": [
      "for s = 0.1 a = 2 sA =  2 sd = 3 Ei = 0.2\n",
      "Utility A = 1991.1399999996793 utility D = -1991.1399999996793\n",
      "equlibrium (array([1., 0., 0.]), array([1., 0.]))\n",
      "оптимальная стратегия оброняющегося номер  1 оптимальная стратегия атакующего номер  1\n"
     ]
    },
    {
     "data": {
      "application/vnd.jupyter.widget-view+json": {
       "model_id": "fbe7672ae30b46fe972c1a451f6f36c3",
       "version_major": 2,
       "version_minor": 0
      },
      "text/plain": [
       "  0%|          | 0/50000 [00:00<?, ?it/s]"
      ]
     },
     "metadata": {},
     "output_type": "display_data"
    },
    {
     "name": "stdout",
     "output_type": "stream",
     "text": [
      "for s = 0.1 a = 2 sA =  2 sd = 3 Ei = 0.3\n",
      "Utility A = 2005.439999999669 utility D = -2005.439999999669\n",
      "equlibrium (array([1., 0., 0.]), array([1., 0.]))\n",
      "оптимальная стратегия оброняющегося номер  1 оптимальная стратегия атакующего номер  1\n"
     ]
    },
    {
     "data": {
      "application/vnd.jupyter.widget-view+json": {
       "model_id": "c42dbaa12f034ad1b414232410159abf",
       "version_major": 2,
       "version_minor": 0
      },
      "text/plain": [
       "  0%|          | 0/50000 [00:00<?, ?it/s]"
      ]
     },
     "metadata": {},
     "output_type": "display_data"
    },
    {
     "name": "stdout",
     "output_type": "stream",
     "text": [
      "for s = 0.1 a = 2 sA =  2 sd = 3 Ei = 0.4\n",
      "Utility A = 1967.679999999659 utility D = -1967.679999999659\n",
      "equlibrium (array([1., 0., 0.]), array([1., 0.]))\n",
      "оптимальная стратегия оброняющегося номер  1 оптимальная стратегия атакующего номер  1\n"
     ]
    },
    {
     "data": {
      "application/vnd.jupyter.widget-view+json": {
       "model_id": "7379a988afeb4ff596c173e65f13a519",
       "version_major": 2,
       "version_minor": 0
      },
      "text/plain": [
       "  0%|          | 0/50000 [00:00<?, ?it/s]"
      ]
     },
     "metadata": {},
     "output_type": "display_data"
    },
    {
     "name": "stdout",
     "output_type": "stream",
     "text": [
      "for s = 0.1 a = 2 sA =  2 sd = 3 Ei = 0.5\n",
      "Utility A = 1966.589999999671 utility D = -1966.589999999671\n",
      "equlibrium (array([1., 0., 0.]), array([1., 0.]))\n",
      "оптимальная стратегия оброняющегося номер  1 оптимальная стратегия атакующего номер  1\n"
     ]
    },
    {
     "data": {
      "application/vnd.jupyter.widget-view+json": {
       "model_id": "bee3f764126840e6b285140513216345",
       "version_major": 2,
       "version_minor": 0
      },
      "text/plain": [
       "  0%|          | 0/50000 [00:00<?, ?it/s]"
      ]
     },
     "metadata": {},
     "output_type": "display_data"
    },
    {
     "name": "stdout",
     "output_type": "stream",
     "text": [
      "for s = 0.1 a = 2 sA =  2 sd = 3 Ei = 0.6\n",
      "Utility A = 1985.5899999996748 utility D = -1985.5899999996748\n",
      "equlibrium (array([1., 0., 0.]), array([1., 0.]))\n",
      "оптимальная стратегия оброняющегося номер  1 оптимальная стратегия атакующего номер  1\n"
     ]
    },
    {
     "data": {
      "application/vnd.jupyter.widget-view+json": {
       "model_id": "6f474f720aa346aab0fe9e057ebf5a20",
       "version_major": 2,
       "version_minor": 0
      },
      "text/plain": [
       "  0%|          | 0/50000 [00:00<?, ?it/s]"
      ]
     },
     "metadata": {},
     "output_type": "display_data"
    },
    {
     "name": "stdout",
     "output_type": "stream",
     "text": [
      "for s = 0.1 a = 2 sA =  2 sd = 3 Ei = 0.7\n",
      "Utility A = 1988.9099999996808 utility D = -1988.9099999996808\n",
      "equlibrium (array([1., 0., 0.]), array([1., 0.]))\n",
      "оптимальная стратегия оброняющегося номер  1 оптимальная стратегия атакующего номер  1\n"
     ]
    },
    {
     "data": {
      "application/vnd.jupyter.widget-view+json": {
       "model_id": "32774aa1e0cd4fb19d76f2699f30ac35",
       "version_major": 2,
       "version_minor": 0
      },
      "text/plain": [
       "  0%|          | 0/50000 [00:00<?, ?it/s]"
      ]
     },
     "metadata": {},
     "output_type": "display_data"
    },
    {
     "name": "stdout",
     "output_type": "stream",
     "text": [
      "for s = 0.1 a = 2 sA =  2 sd = 3 Ei = 0.8\n",
      "Utility A = 1975.7399999996708 utility D = -1975.7399999996708\n",
      "equlibrium (array([1., 0., 0.]), array([1., 0.]))\n",
      "оптимальная стратегия оброняющегося номер  1 оптимальная стратегия атакующего номер  1\n"
     ]
    },
    {
     "data": {
      "application/vnd.jupyter.widget-view+json": {
       "model_id": "15ca635e0e9b4b848c8f04de4695ef2c",
       "version_major": 2,
       "version_minor": 0
      },
      "text/plain": [
       "  0%|          | 0/50000 [00:00<?, ?it/s]"
      ]
     },
     "metadata": {},
     "output_type": "display_data"
    },
    {
     "name": "stdout",
     "output_type": "stream",
     "text": [
      "for s = 0.1 a = 2 sA =  2 sd = 3 Ei = 0.9\n",
      "Utility A = 1984.5999999996677 utility D = -1984.5999999996677\n",
      "equlibrium (array([1., 0., 0.]), array([1., 0.]))\n",
      "оптимальная стратегия оброняющегося номер  1 оптимальная стратегия атакующего номер  1\n"
     ]
    },
    {
     "data": {
      "application/vnd.jupyter.widget-view+json": {
       "model_id": "5f678d64e6184f2bb9ada8766791ac8b",
       "version_major": 2,
       "version_minor": 0
      },
      "text/plain": [
       "  0%|          | 0/50000 [00:00<?, ?it/s]"
      ]
     },
     "metadata": {},
     "output_type": "display_data"
    },
    {
     "name": "stdout",
     "output_type": "stream",
     "text": [
      "for s = 0.1 a = 3 sA =  1 sd = 1 Ei = 0.1\n",
      "Utility A = 20499.3000000013 utility D = -21106.505714286533\n",
      "equlibrium (array([1., 0., 0.]), array([0., 1.]))\n",
      "оптимальная стратегия оброняющегося номер  1 оптимальная стратегия атакующего номер  2\n"
     ]
    },
    {
     "data": {
      "application/vnd.jupyter.widget-view+json": {
       "model_id": "d4d049730006443c8139b108329b6a45",
       "version_major": 2,
       "version_minor": 0
      },
      "text/plain": [
       "  0%|          | 0/50000 [00:00<?, ?it/s]"
      ]
     },
     "metadata": {},
     "output_type": "display_data"
    },
    {
     "name": "stdout",
     "output_type": "stream",
     "text": [
      "for s = 0.1 a = 3 sA =  1 sd = 1 Ei = 0.2\n",
      "Utility A = 20412.41000000135 utility D = -21193.410000000415\n",
      "equlibrium (array([1., 0., 0.]), array([0., 1.]))\n",
      "оптимальная стратегия оброняющегося номер  1 оптимальная стратегия атакующего номер  2\n"
     ]
    },
    {
     "data": {
      "application/vnd.jupyter.widget-view+json": {
       "model_id": "7134299dba384a2793331555e862ee97",
       "version_major": 2,
       "version_minor": 0
      },
      "text/plain": [
       "  0%|          | 0/50000 [00:00<?, ?it/s]"
      ]
     },
     "metadata": {},
     "output_type": "display_data"
    },
    {
     "name": "stdout",
     "output_type": "stream",
     "text": [
      "for s = 0.1 a = 3 sA =  1 sd = 1 Ei = 0.3\n",
      "Utility A = 19776.310000001067 utility D = -22187.760000001068\n",
      "equlibrium (array([1., 0., 0.]), array([0., 1.]))\n",
      "оптимальная стратегия оброняющегося номер  1 оптимальная стратегия атакующего номер  2\n"
     ]
    },
    {
     "data": {
      "application/vnd.jupyter.widget-view+json": {
       "model_id": "bc01f82d7be94cb4ab4927d2f07d74a9",
       "version_major": 2,
       "version_minor": 0
      },
      "text/plain": [
       "  0%|          | 0/50000 [00:00<?, ?it/s]"
      ]
     },
     "metadata": {},
     "output_type": "display_data"
    },
    {
     "name": "stdout",
     "output_type": "stream",
     "text": [
      "for s = 0.1 a = 3 sA =  1 sd = 1 Ei = 0.4\n",
      "Utility A = 20316.350000001432 utility D = -20878.570000002106\n",
      "equlibrium (array([1., 0., 0.]), array([0., 1.]))\n",
      "оптимальная стратегия оброняющегося номер  1 оптимальная стратегия атакующего номер  2\n"
     ]
    },
    {
     "data": {
      "application/vnd.jupyter.widget-view+json": {
       "model_id": "864ba170bf994465824b9e7b5dc92512",
       "version_major": 2,
       "version_minor": 0
      },
      "text/plain": [
       "  0%|          | 0/50000 [00:00<?, ?it/s]"
      ]
     },
     "metadata": {},
     "output_type": "display_data"
    },
    {
     "name": "stdout",
     "output_type": "stream",
     "text": [
      "for s = 0.1 a = 3 sA =  1 sd = 1 Ei = 0.5\n",
      "Utility A = 20367.380000001212 utility D = -20938.42000000175\n",
      "equlibrium (array([1., 0., 0.]), array([0., 1.]))\n",
      "оптимальная стратегия оброняющегося номер  1 оптимальная стратегия атакующего номер  2\n"
     ]
    },
    {
     "data": {
      "application/vnd.jupyter.widget-view+json": {
       "model_id": "bd5e2d5555a64907aa645e0d84b57a67",
       "version_major": 2,
       "version_minor": 0
      },
      "text/plain": [
       "  0%|          | 0/50000 [00:00<?, ?it/s]"
      ]
     },
     "metadata": {},
     "output_type": "display_data"
    },
    {
     "name": "stdout",
     "output_type": "stream",
     "text": [
      "for s = 0.1 a = 3 sA =  1 sd = 1 Ei = 0.6\n",
      "Utility A = 20578.96000000138 utility D = -21139.180000001958\n",
      "equlibrium (array([1., 0., 0.]), array([0., 1.]))\n",
      "оптимальная стратегия оброняющегося номер  1 оптимальная стратегия атакующего номер  2\n"
     ]
    },
    {
     "data": {
      "application/vnd.jupyter.widget-view+json": {
       "model_id": "f20acf4eae5147a18284c2698c2ea150",
       "version_major": 2,
       "version_minor": 0
      },
      "text/plain": [
       "  0%|          | 0/50000 [00:00<?, ?it/s]"
      ]
     },
     "metadata": {},
     "output_type": "display_data"
    },
    {
     "name": "stdout",
     "output_type": "stream",
     "text": [
      "for s = 0.1 a = 3 sA =  1 sd = 1 Ei = 0.7\n",
      "Utility A = 20348.550000001404 utility D = -20920.600000002025\n",
      "equlibrium (array([1., 0., 0.]), array([0., 1.]))\n",
      "оптимальная стратегия оброняющегося номер  1 оптимальная стратегия атакующего номер  2\n"
     ]
    },
    {
     "data": {
      "application/vnd.jupyter.widget-view+json": {
       "model_id": "f6cb549d00be42b181b547021d305c16",
       "version_major": 2,
       "version_minor": 0
      },
      "text/plain": [
       "  0%|          | 0/50000 [00:00<?, ?it/s]"
      ]
     },
     "metadata": {},
     "output_type": "display_data"
    },
    {
     "name": "stdout",
     "output_type": "stream",
     "text": [
      "for s = 0.1 a = 3 sA =  1 sd = 1 Ei = 0.8\n",
      "Utility A = 20485.46000000121 utility D = -21070.650000001868\n",
      "equlibrium (array([1., 0., 0.]), array([0., 1.]))\n",
      "оптимальная стратегия оброняющегося номер  1 оптимальная стратегия атакующего номер  2\n"
     ]
    },
    {
     "data": {
      "application/vnd.jupyter.widget-view+json": {
       "model_id": "88eed9ab97b74782aebea70b1718c7c7",
       "version_major": 2,
       "version_minor": 0
      },
      "text/plain": [
       "  0%|          | 0/50000 [00:00<?, ?it/s]"
      ]
     },
     "metadata": {},
     "output_type": "display_data"
    },
    {
     "name": "stdout",
     "output_type": "stream",
     "text": [
      "for s = 0.1 a = 3 sA =  1 sd = 1 Ei = 0.9\n",
      "Utility A = 20376.54000000136 utility D = -20954.030000001916\n",
      "equlibrium (array([1., 0., 0.]), array([0., 1.]))\n",
      "оптимальная стратегия оброняющегося номер  1 оптимальная стратегия атакующего номер  2\n"
     ]
    },
    {
     "data": {
      "application/vnd.jupyter.widget-view+json": {
       "model_id": "50e9473a76924c3887236fc59a7b6c96",
       "version_major": 2,
       "version_minor": 0
      },
      "text/plain": [
       "  0%|          | 0/50000 [00:00<?, ?it/s]"
      ]
     },
     "metadata": {},
     "output_type": "display_data"
    },
    {
     "name": "stdout",
     "output_type": "stream",
     "text": [
      "for s = 0.1 a = 3 sA =  1 sd = 2 Ei = 0.1\n",
      "Utility A = 20933.630000001805 utility D = -20942.62268845228\n",
      "equlibrium (array([1., 0., 0.]), array([0., 1.]))\n",
      "оптимальная стратегия оброняющегося номер  1 оптимальная стратегия атакующего номер  2\n"
     ]
    },
    {
     "data": {
      "application/vnd.jupyter.widget-view+json": {
       "model_id": "ef631a9c84a340c98fde68e34eb91fc5",
       "version_major": 2,
       "version_minor": 0
      },
      "text/plain": [
       "  0%|          | 0/50000 [00:00<?, ?it/s]"
      ]
     },
     "metadata": {},
     "output_type": "display_data"
    },
    {
     "name": "stdout",
     "output_type": "stream",
     "text": [
      "for s = 0.1 a = 3 sA =  1 sd = 2 Ei = 0.2\n",
      "Utility A = 20892.86000000169 utility D = -20933.252210142284\n",
      "equlibrium (array([1., 0., 0.]), array([0., 1.]))\n",
      "оптимальная стратегия оброняющегося номер  1 оптимальная стратегия атакующего номер  2\n"
     ]
    },
    {
     "data": {
      "application/vnd.jupyter.widget-view+json": {
       "model_id": "1877a5ad561e479c8a2cbe459db194f8",
       "version_major": 2,
       "version_minor": 0
      },
      "text/plain": [
       "  0%|          | 0/50000 [00:00<?, ?it/s]"
      ]
     },
     "metadata": {},
     "output_type": "display_data"
    },
    {
     "name": "stdout",
     "output_type": "stream",
     "text": [
      "for s = 0.1 a = 3 sA =  1 sd = 2 Ei = 0.3\n",
      "Utility A = 20849.5000000019 utility D = -20955.109645457644\n",
      "equlibrium (array([1., 0., 0.]), array([0., 1.]))\n",
      "оптимальная стратегия оброняющегося номер  1 оптимальная стратегия атакующего номер  2\n"
     ]
    },
    {
     "data": {
      "application/vnd.jupyter.widget-view+json": {
       "model_id": "cc9c95697cc14f0d9b35d40d600d4977",
       "version_major": 2,
       "version_minor": 0
      },
      "text/plain": [
       "  0%|          | 0/50000 [00:00<?, ?it/s]"
      ]
     },
     "metadata": {},
     "output_type": "display_data"
    },
    {
     "name": "stdout",
     "output_type": "stream",
     "text": [
      "for s = 0.1 a = 3 sA =  1 sd = 2 Ei = 0.4\n",
      "Utility A = 21057.57000000181 utility D = -21305.373556125178\n",
      "equlibrium (array([1., 0., 0.]), array([0., 1.]))\n",
      "оптимальная стратегия оброняющегося номер  1 оптимальная стратегия атакующего номер  2\n"
     ]
    },
    {
     "data": {
      "application/vnd.jupyter.widget-view+json": {
       "model_id": "b13b359284a24048be7aef7919feee5c",
       "version_major": 2,
       "version_minor": 0
      },
      "text/plain": [
       "  0%|          | 0/50000 [00:00<?, ?it/s]"
      ]
     },
     "metadata": {},
     "output_type": "display_data"
    },
    {
     "name": "stdout",
     "output_type": "stream",
     "text": [
      "for s = 0.1 a = 3 sA =  1 sd = 2 Ei = 0.5\n",
      "Utility A = 20986.560000002024 utility D = -21622.587638316287\n",
      "equlibrium (array([1., 0., 0.]), array([0., 1.]))\n",
      "оптимальная стратегия оброняющегося номер  1 оптимальная стратегия атакующего номер  2\n"
     ]
    },
    {
     "data": {
      "application/vnd.jupyter.widget-view+json": {
       "model_id": "ca3022cf01084bf28840a37b32b970fe",
       "version_major": 2,
       "version_minor": 0
      },
      "text/plain": [
       "  0%|          | 0/50000 [00:00<?, ?it/s]"
      ]
     },
     "metadata": {},
     "output_type": "display_data"
    },
    {
     "name": "stdout",
     "output_type": "stream",
     "text": [
      "for s = 0.1 a = 3 sA =  1 sd = 2 Ei = 0.6\n",
      "Utility A = 20966.690000001607 utility D = -22884.855659150053\n",
      "equlibrium (array([1., 0., 0.]), array([0., 1.]))\n",
      "оптимальная стратегия оброняющегося номер  1 оптимальная стратегия атакующего номер  2\n"
     ]
    },
    {
     "data": {
      "application/vnd.jupyter.widget-view+json": {
       "model_id": "b87d792755114cbba8977c32ddfc6689",
       "version_major": 2,
       "version_minor": 0
      },
      "text/plain": [
       "  0%|          | 0/50000 [00:00<?, ?it/s]"
      ]
     },
     "metadata": {},
     "output_type": "display_data"
    },
    {
     "name": "stdout",
     "output_type": "stream",
     "text": [
      "for s = 0.1 a = 3 sA =  1 sd = 2 Ei = 0.7\n",
      "Utility A = 20948.880000002086 utility D = -22753.178200297603\n",
      "equlibrium (array([1., 0., 0.]), array([0., 1.]))\n",
      "оптимальная стратегия оброняющегося номер  1 оптимальная стратегия атакующего номер  2\n"
     ]
    },
    {
     "data": {
      "application/vnd.jupyter.widget-view+json": {
       "model_id": "16675dbc552943c68d273e4282fd71f4",
       "version_major": 2,
       "version_minor": 0
      },
      "text/plain": [
       "  0%|          | 0/50000 [00:00<?, ?it/s]"
      ]
     },
     "metadata": {},
     "output_type": "display_data"
    },
    {
     "name": "stdout",
     "output_type": "stream",
     "text": [
      "for s = 0.1 a = 3 sA =  1 sd = 2 Ei = 0.8\n",
      "Utility A = 20861.730000001695 utility D = -22648.81260778195\n",
      "equlibrium (array([1., 0., 0.]), array([0., 1.]))\n",
      "оптимальная стратегия оброняющегося номер  1 оптимальная стратегия атакующего номер  2\n"
     ]
    },
    {
     "data": {
      "application/vnd.jupyter.widget-view+json": {
       "model_id": "5a7af75e0d6d40f38467f8aac9470729",
       "version_major": 2,
       "version_minor": 0
      },
      "text/plain": [
       "  0%|          | 0/50000 [00:00<?, ?it/s]"
      ]
     },
     "metadata": {},
     "output_type": "display_data"
    },
    {
     "name": "stdout",
     "output_type": "stream",
     "text": [
      "for s = 0.1 a = 3 sA =  1 sd = 2 Ei = 0.9\n",
      "Utility A = 20985.49000000188 utility D = -22536.989176034982\n",
      "equlibrium (array([1., 0., 0.]), array([0., 1.]))\n",
      "оптимальная стратегия оброняющегося номер  1 оптимальная стратегия атакующего номер  2\n"
     ]
    },
    {
     "data": {
      "application/vnd.jupyter.widget-view+json": {
       "model_id": "f2d8d7e81f55439db5cb8cf571f5a965",
       "version_major": 2,
       "version_minor": 0
      },
      "text/plain": [
       "  0%|          | 0/50000 [00:00<?, ?it/s]"
      ]
     },
     "metadata": {},
     "output_type": "display_data"
    },
    {
     "name": "stdout",
     "output_type": "stream",
     "text": [
      "for s = 0.1 a = 3 sA =  1 sd = 3 Ei = 0.1\n",
      "Utility A = 0 utility D = 0\n",
      "equlibrium (array([1., 0., 0.]), array([1., 0.]))\n",
      "оптимальная стратегия оброняющегося номер  1 оптимальная стратегия атакующего номер  1\n"
     ]
    },
    {
     "data": {
      "application/vnd.jupyter.widget-view+json": {
       "model_id": "85850f6d277d41d48733b51930c4c85f",
       "version_major": 2,
       "version_minor": 0
      },
      "text/plain": [
       "  0%|          | 0/50000 [00:00<?, ?it/s]"
      ]
     },
     "metadata": {},
     "output_type": "display_data"
    },
    {
     "name": "stdout",
     "output_type": "stream",
     "text": [
      "for s = 0.1 a = 3 sA =  1 sd = 3 Ei = 0.2\n",
      "Utility A = 0 utility D = 0\n",
      "equlibrium (array([1., 0., 0.]), array([1., 0.]))\n",
      "оптимальная стратегия оброняющегося номер  1 оптимальная стратегия атакующего номер  1\n"
     ]
    },
    {
     "data": {
      "application/vnd.jupyter.widget-view+json": {
       "model_id": "1dccee9b81094e56a4de9c2aedff5b62",
       "version_major": 2,
       "version_minor": 0
      },
      "text/plain": [
       "  0%|          | 0/50000 [00:00<?, ?it/s]"
      ]
     },
     "metadata": {},
     "output_type": "display_data"
    },
    {
     "name": "stdout",
     "output_type": "stream",
     "text": [
      "for s = 0.1 a = 3 sA =  1 sd = 3 Ei = 0.3\n",
      "Utility A = 0 utility D = 0\n",
      "equlibrium (array([1., 0., 0.]), array([1., 0.]))\n",
      "оптимальная стратегия оброняющегося номер  1 оптимальная стратегия атакующего номер  1\n"
     ]
    },
    {
     "data": {
      "application/vnd.jupyter.widget-view+json": {
       "model_id": "4bd2d3e7c6f34f028bb23a0f47424db4",
       "version_major": 2,
       "version_minor": 0
      },
      "text/plain": [
       "  0%|          | 0/50000 [00:00<?, ?it/s]"
      ]
     },
     "metadata": {},
     "output_type": "display_data"
    },
    {
     "name": "stdout",
     "output_type": "stream",
     "text": [
      "for s = 0.1 a = 3 sA =  1 sd = 3 Ei = 0.4\n",
      "Utility A = 0 utility D = 0\n",
      "equlibrium (array([1., 0., 0.]), array([1., 0.]))\n",
      "оптимальная стратегия оброняющегося номер  1 оптимальная стратегия атакующего номер  1\n"
     ]
    },
    {
     "data": {
      "application/vnd.jupyter.widget-view+json": {
       "model_id": "1752456afc994f1688e43556e41b993b",
       "version_major": 2,
       "version_minor": 0
      },
      "text/plain": [
       "  0%|          | 0/50000 [00:00<?, ?it/s]"
      ]
     },
     "metadata": {},
     "output_type": "display_data"
    },
    {
     "name": "stdout",
     "output_type": "stream",
     "text": [
      "for s = 0.1 a = 3 sA =  1 sd = 3 Ei = 0.5\n",
      "Utility A = 0 utility D = 0\n",
      "equlibrium (array([1., 0., 0.]), array([1., 0.]))\n",
      "оптимальная стратегия оброняющегося номер  1 оптимальная стратегия атакующего номер  1\n"
     ]
    },
    {
     "data": {
      "application/vnd.jupyter.widget-view+json": {
       "model_id": "69776cb773834f90861e8bade9dd5577",
       "version_major": 2,
       "version_minor": 0
      },
      "text/plain": [
       "  0%|          | 0/50000 [00:00<?, ?it/s]"
      ]
     },
     "metadata": {},
     "output_type": "display_data"
    },
    {
     "name": "stdout",
     "output_type": "stream",
     "text": [
      "for s = 0.1 a = 3 sA =  1 sd = 3 Ei = 0.6\n",
      "Utility A = 0 utility D = 0\n",
      "equlibrium (array([1., 0., 0.]), array([1., 0.]))\n",
      "оптимальная стратегия оброняющегося номер  1 оптимальная стратегия атакующего номер  1\n"
     ]
    },
    {
     "data": {
      "application/vnd.jupyter.widget-view+json": {
       "model_id": "c73a96ddac4b4eeb8101ba13e0385771",
       "version_major": 2,
       "version_minor": 0
      },
      "text/plain": [
       "  0%|          | 0/50000 [00:00<?, ?it/s]"
      ]
     },
     "metadata": {},
     "output_type": "display_data"
    },
    {
     "name": "stdout",
     "output_type": "stream",
     "text": [
      "for s = 0.1 a = 3 sA =  1 sd = 3 Ei = 0.7\n",
      "Utility A = 0 utility D = 0\n",
      "equlibrium (array([1., 0., 0.]), array([1., 0.]))\n",
      "оптимальная стратегия оброняющегося номер  1 оптимальная стратегия атакующего номер  1\n"
     ]
    },
    {
     "data": {
      "application/vnd.jupyter.widget-view+json": {
       "model_id": "74bbfc884a0244219c5fd7c946e86490",
       "version_major": 2,
       "version_minor": 0
      },
      "text/plain": [
       "  0%|          | 0/50000 [00:00<?, ?it/s]"
      ]
     },
     "metadata": {},
     "output_type": "display_data"
    },
    {
     "name": "stdout",
     "output_type": "stream",
     "text": [
      "for s = 0.1 a = 3 sA =  1 sd = 3 Ei = 0.8\n",
      "Utility A = 0 utility D = 0\n",
      "equlibrium (array([1., 0., 0.]), array([1., 0.]))\n",
      "оптимальная стратегия оброняющегося номер  1 оптимальная стратегия атакующего номер  1\n"
     ]
    },
    {
     "data": {
      "application/vnd.jupyter.widget-view+json": {
       "model_id": "9965c9dae2204c3c848db14bc16ec1d6",
       "version_major": 2,
       "version_minor": 0
      },
      "text/plain": [
       "  0%|          | 0/50000 [00:00<?, ?it/s]"
      ]
     },
     "metadata": {},
     "output_type": "display_data"
    },
    {
     "name": "stdout",
     "output_type": "stream",
     "text": [
      "for s = 0.1 a = 3 sA =  1 sd = 3 Ei = 0.9\n",
      "Utility A = 0 utility D = 0\n",
      "equlibrium (array([1., 0., 0.]), array([1., 0.]))\n",
      "оптимальная стратегия оброняющегося номер  1 оптимальная стратегия атакующего номер  1\n"
     ]
    },
    {
     "data": {
      "application/vnd.jupyter.widget-view+json": {
       "model_id": "f472b5be68b24cba880b913e348cc73b",
       "version_major": 2,
       "version_minor": 0
      },
      "text/plain": [
       "  0%|          | 0/50000 [00:00<?, ?it/s]"
      ]
     },
     "metadata": {},
     "output_type": "display_data"
    },
    {
     "name": "stdout",
     "output_type": "stream",
     "text": [
      "for s = 0.1 a = 3 sA =  2 sd = 1 Ei = 0.1\n",
      "Utility A = 1972.119999999665 utility D = -1977.4426881812344\n",
      "equlibrium (array([1., 0., 0.]), array([1., 0.]))\n",
      "оптимальная стратегия оброняющегося номер  1 оптимальная стратегия атакующего номер  1\n"
     ]
    },
    {
     "data": {
      "application/vnd.jupyter.widget-view+json": {
       "model_id": "3c1661656adb42ce945867d1d34fed78",
       "version_major": 2,
       "version_minor": 0
      },
      "text/plain": [
       "  0%|          | 0/50000 [00:00<?, ?it/s]"
      ]
     },
     "metadata": {},
     "output_type": "display_data"
    },
    {
     "name": "stdout",
     "output_type": "stream",
     "text": [
      "for s = 0.1 a = 3 sA =  2 sd = 1 Ei = 0.2\n",
      "Utility A = 1959.8699999996825 utility D = -1985.156485218266\n",
      "equlibrium (array([1., 0., 0.]), array([1., 0.]))\n",
      "оптимальная стратегия оброняющегося номер  1 оптимальная стратегия атакующего номер  1\n"
     ]
    },
    {
     "data": {
      "application/vnd.jupyter.widget-view+json": {
       "model_id": "c014de2440364278815e5c6b8f8a639a",
       "version_major": 2,
       "version_minor": 0
      },
      "text/plain": [
       "  0%|          | 0/50000 [00:00<?, ?it/s]"
      ]
     },
     "metadata": {},
     "output_type": "display_data"
    },
    {
     "name": "stdout",
     "output_type": "stream",
     "text": [
      "for s = 0.1 a = 3 sA =  2 sd = 1 Ei = 0.3\n",
      "Utility A = 1976.9899999996674 utility D = -2049.826288804325\n",
      "equlibrium (array([1., 0., 0.]), array([1., 0.]))\n",
      "оптимальная стратегия оброняющегося номер  1 оптимальная стратегия атакующего номер  1\n"
     ]
    },
    {
     "data": {
      "application/vnd.jupyter.widget-view+json": {
       "model_id": "31f28226274d404ba742ae2ade241f04",
       "version_major": 2,
       "version_minor": 0
      },
      "text/plain": [
       "  0%|          | 0/50000 [00:00<?, ?it/s]"
      ]
     },
     "metadata": {},
     "output_type": "display_data"
    },
    {
     "name": "stdout",
     "output_type": "stream",
     "text": [
      "for s = 0.1 a = 3 sA =  2 sd = 1 Ei = 0.4\n",
      "Utility A = 1978.0299999996744 utility D = -2160.8492160873298\n",
      "equlibrium (array([1., 0., 0.]), array([1., 0.]))\n",
      "оптимальная стратегия оброняющегося номер  1 оптимальная стратегия атакующего номер  1\n"
     ]
    },
    {
     "data": {
      "application/vnd.jupyter.widget-view+json": {
       "model_id": "08ab981805094eecb301e6b1952ba519",
       "version_major": 2,
       "version_minor": 0
      },
      "text/plain": [
       "  0%|          | 0/50000 [00:00<?, ?it/s]"
      ]
     },
     "metadata": {},
     "output_type": "display_data"
    },
    {
     "name": "stdout",
     "output_type": "stream",
     "text": [
      "for s = 0.1 a = 3 sA =  2 sd = 1 Ei = 0.5\n",
      "Utility A = 1971.3799999996716 utility D = -2483.0593412496173\n",
      "equlibrium (array([1., 0., 0.]), array([1., 0.]))\n",
      "оптимальная стратегия оброняющегося номер  1 оптимальная стратегия атакующего номер  1\n"
     ]
    },
    {
     "data": {
      "application/vnd.jupyter.widget-view+json": {
       "model_id": "80ddc10431404816a39616ea7c76eddd",
       "version_major": 2,
       "version_minor": 0
      },
      "text/plain": [
       "  0%|          | 0/50000 [00:00<?, ?it/s]"
      ]
     },
     "metadata": {},
     "output_type": "display_data"
    },
    {
     "name": "stdout",
     "output_type": "stream",
     "text": [
      "for s = 0.1 a = 3 sA =  2 sd = 1 Ei = 0.6\n",
      "Utility A = 1984.5799999996666 utility D = -3689.7093524636084\n",
      "equlibrium (array([1., 0., 0.]), array([1., 0.]))\n",
      "оптимальная стратегия оброняющегося номер  1 оптимальная стратегия атакующего номер  1\n"
     ]
    },
    {
     "data": {
      "application/vnd.jupyter.widget-view+json": {
       "model_id": "d77e48530fc64364a165ec06bf7a7850",
       "version_major": 2,
       "version_minor": 0
      },
      "text/plain": [
       "  0%|          | 0/50000 [00:00<?, ?it/s]"
      ]
     },
     "metadata": {},
     "output_type": "display_data"
    },
    {
     "name": "stdout",
     "output_type": "stream",
     "text": [
      "for s = 0.1 a = 3 sA =  2 sd = 1 Ei = 0.7\n",
      "Utility A = 1985.7699999996755 utility D = -3576.893514964362\n",
      "equlibrium (array([1., 0., 0.]), array([1., 0.]))\n",
      "оптимальная стратегия оброняющегося номер  1 оптимальная стратегия атакующего номер  1\n"
     ]
    },
    {
     "data": {
      "application/vnd.jupyter.widget-view+json": {
       "model_id": "0094a471d64042d3ac9a424355e0e3cb",
       "version_major": 2,
       "version_minor": 0
      },
      "text/plain": [
       "  0%|          | 0/50000 [00:00<?, ?it/s]"
      ]
     },
     "metadata": {},
     "output_type": "display_data"
    },
    {
     "name": "stdout",
     "output_type": "stream",
     "text": [
      "for s = 0.1 a = 3 sA =  2 sd = 1 Ei = 0.8\n",
      "Utility A = 1991.4799999996646 utility D = -3293.4514884063483\n",
      "equlibrium (array([1., 0., 0.]), array([1., 0.]))\n",
      "оптимальная стратегия оброняющегося номер  1 оптимальная стратегия атакующего номер  1\n"
     ]
    },
    {
     "data": {
      "application/vnd.jupyter.widget-view+json": {
       "model_id": "fa127b26c9994c69975a0f8cdf55469e",
       "version_major": 2,
       "version_minor": 0
      },
      "text/plain": [
       "  0%|          | 0/50000 [00:00<?, ?it/s]"
      ]
     },
     "metadata": {},
     "output_type": "display_data"
    },
    {
     "name": "stdout",
     "output_type": "stream",
     "text": [
      "for s = 0.1 a = 3 sA =  2 sd = 1 Ei = 0.9\n",
      "Utility A = 1975.269999999666 utility D = -2577.958624638396\n",
      "equlibrium (array([1., 0., 0.]), array([1., 0.]))\n",
      "оптимальная стратегия оброняющегося номер  1 оптимальная стратегия атакующего номер  1\n"
     ]
    },
    {
     "data": {
      "application/vnd.jupyter.widget-view+json": {
       "model_id": "b57ac8cb1cdc449381b65fd6357f3666",
       "version_major": 2,
       "version_minor": 0
      },
      "text/plain": [
       "  0%|          | 0/50000 [00:00<?, ?it/s]"
      ]
     },
     "metadata": {},
     "output_type": "display_data"
    },
    {
     "name": "stdout",
     "output_type": "stream",
     "text": [
      "for s = 0.1 a = 3 sA =  2 sd = 2 Ei = 0.1\n",
      "Utility A = 1979.1699999996722 utility D = -2009.6171428574871\n",
      "equlibrium (array([1., 0., 0.]), array([1., 0.]))\n",
      "оптимальная стратегия оброняющегося номер  1 оптимальная стратегия атакующего номер  1\n"
     ]
    },
    {
     "data": {
      "application/vnd.jupyter.widget-view+json": {
       "model_id": "88203be4fca54c9eaa2d52bb743c8298",
       "version_major": 2,
       "version_minor": 0
      },
      "text/plain": [
       "  0%|          | 0/50000 [00:00<?, ?it/s]"
      ]
     },
     "metadata": {},
     "output_type": "display_data"
    },
    {
     "name": "stdout",
     "output_type": "stream",
     "text": [
      "for s = 0.1 a = 3 sA =  2 sd = 2 Ei = 0.2\n",
      "Utility A = 1979.8499999996548 utility D = -2191.7899999997876\n",
      "equlibrium (array([1., 0., 0.]), array([1., 0.]))\n",
      "оптимальная стратегия оброняющегося номер  1 оптимальная стратегия атакующего номер  1\n"
     ]
    },
    {
     "data": {
      "application/vnd.jupyter.widget-view+json": {
       "model_id": "c34775f14cd14abeb370bef31dc9118a",
       "version_major": 2,
       "version_minor": 0
      },
      "text/plain": [
       "  0%|          | 0/50000 [00:00<?, ?it/s]"
      ]
     },
     "metadata": {},
     "output_type": "display_data"
    },
    {
     "name": "stdout",
     "output_type": "stream",
     "text": [
      "for s = 0.1 a = 3 sA =  2 sd = 2 Ei = 0.3\n",
      "Utility A = 1982.6099999996834 utility D = -3894.4799999998177\n",
      "equlibrium (array([1., 0., 0.]), array([1., 0.]))\n",
      "оптимальная стратегия оброняющегося номер  1 оптимальная стратегия атакующего номер  1\n"
     ]
    },
    {
     "data": {
      "application/vnd.jupyter.widget-view+json": {
       "model_id": "b08a815b6418417380e2d61aa2d692c0",
       "version_major": 2,
       "version_minor": 0
      },
      "text/plain": [
       "  0%|          | 0/50000 [00:00<?, ?it/s]"
      ]
     },
     "metadata": {},
     "output_type": "display_data"
    },
    {
     "name": "stdout",
     "output_type": "stream",
     "text": [
      "for s = 0.1 a = 3 sA =  2 sd = 2 Ei = 0.4\n",
      "Utility A = 1960.059999999674 utility D = -1960.059999999674\n",
      "equlibrium (array([1., 0., 0.]), array([1., 0.]))\n",
      "оптимальная стратегия оброняющегося номер  1 оптимальная стратегия атакующего номер  1\n"
     ]
    },
    {
     "data": {
      "application/vnd.jupyter.widget-view+json": {
       "model_id": "9582967227a4408880b1a8052763c804",
       "version_major": 2,
       "version_minor": 0
      },
      "text/plain": [
       "  0%|          | 0/50000 [00:00<?, ?it/s]"
      ]
     },
     "metadata": {},
     "output_type": "display_data"
    },
    {
     "name": "stdout",
     "output_type": "stream",
     "text": [
      "for s = 0.1 a = 3 sA =  2 sd = 2 Ei = 0.5\n",
      "Utility A = 1976.7999999996969 utility D = -1976.7999999996969\n",
      "equlibrium (array([1., 0., 0.]), array([1., 0.]))\n",
      "оптимальная стратегия оброняющегося номер  1 оптимальная стратегия атакующего номер  1\n"
     ]
    },
    {
     "data": {
      "application/vnd.jupyter.widget-view+json": {
       "model_id": "8630b96c836447b89fd8b04c3bea1095",
       "version_major": 2,
       "version_minor": 0
      },
      "text/plain": [
       "  0%|          | 0/50000 [00:00<?, ?it/s]"
      ]
     },
     "metadata": {},
     "output_type": "display_data"
    },
    {
     "name": "stdout",
     "output_type": "stream",
     "text": [
      "for s = 0.1 a = 3 sA =  2 sd = 2 Ei = 0.6\n",
      "Utility A = 1980.8299999996707 utility D = -1980.8299999996707\n",
      "equlibrium (array([1., 0., 0.]), array([1., 0.]))\n",
      "оптимальная стратегия оброняющегося номер  1 оптимальная стратегия атакующего номер  1\n"
     ]
    },
    {
     "data": {
      "application/vnd.jupyter.widget-view+json": {
       "model_id": "2cbbc88cdbe54fc4a29550a0b5abd356",
       "version_major": 2,
       "version_minor": 0
      },
      "text/plain": [
       "  0%|          | 0/50000 [00:00<?, ?it/s]"
      ]
     },
     "metadata": {},
     "output_type": "display_data"
    },
    {
     "name": "stdout",
     "output_type": "stream",
     "text": [
      "for s = 0.1 a = 3 sA =  2 sd = 2 Ei = 0.7\n",
      "Utility A = 1978.8099999996557 utility D = -1978.8099999996557\n",
      "equlibrium (array([1., 0., 0.]), array([1., 0.]))\n",
      "оптимальная стратегия оброняющегося номер  1 оптимальная стратегия атакующего номер  1\n"
     ]
    },
    {
     "data": {
      "application/vnd.jupyter.widget-view+json": {
       "model_id": "b870a3761b3b4112a0d2656116081d5b",
       "version_major": 2,
       "version_minor": 0
      },
      "text/plain": [
       "  0%|          | 0/50000 [00:00<?, ?it/s]"
      ]
     },
     "metadata": {},
     "output_type": "display_data"
    },
    {
     "name": "stdout",
     "output_type": "stream",
     "text": [
      "for s = 0.1 a = 3 sA =  2 sd = 2 Ei = 0.8\n",
      "Utility A = 1974.2799999996698 utility D = -1974.2799999996698\n",
      "equlibrium (array([1., 0., 0.]), array([1., 0.]))\n",
      "оптимальная стратегия оброняющегося номер  1 оптимальная стратегия атакующего номер  1\n"
     ]
    },
    {
     "data": {
      "application/vnd.jupyter.widget-view+json": {
       "model_id": "cb46fa0d120b4712bfe333a3d50aeb87",
       "version_major": 2,
       "version_minor": 0
      },
      "text/plain": [
       "  0%|          | 0/50000 [00:00<?, ?it/s]"
      ]
     },
     "metadata": {},
     "output_type": "display_data"
    },
    {
     "name": "stdout",
     "output_type": "stream",
     "text": [
      "for s = 0.1 a = 3 sA =  2 sd = 2 Ei = 0.9\n",
      "Utility A = 1983.9099999996768 utility D = -1983.9099999996768\n",
      "equlibrium (array([1., 0., 0.]), array([1., 0.]))\n",
      "оптимальная стратегия оброняющегося номер  1 оптимальная стратегия атакующего номер  1\n"
     ]
    },
    {
     "data": {
      "application/vnd.jupyter.widget-view+json": {
       "model_id": "883981074f484618a32eae8cd4cb16a4",
       "version_major": 2,
       "version_minor": 0
      },
      "text/plain": [
       "  0%|          | 0/50000 [00:00<?, ?it/s]"
      ]
     },
     "metadata": {},
     "output_type": "display_data"
    },
    {
     "name": "stdout",
     "output_type": "stream",
     "text": [
      "for s = 0.1 a = 3 sA =  2 sd = 3 Ei = 0.1\n",
      "Utility A = 1996.0099999996755 utility D = -1996.0099999996755\n",
      "equlibrium (array([1., 0., 0.]), array([1., 0.]))\n",
      "оптимальная стратегия оброняющегося номер  1 оптимальная стратегия атакующего номер  1\n"
     ]
    },
    {
     "data": {
      "application/vnd.jupyter.widget-view+json": {
       "model_id": "60b2c546a4c84771b1d777b8b946d772",
       "version_major": 2,
       "version_minor": 0
      },
      "text/plain": [
       "  0%|          | 0/50000 [00:00<?, ?it/s]"
      ]
     },
     "metadata": {},
     "output_type": "display_data"
    },
    {
     "name": "stdout",
     "output_type": "stream",
     "text": [
      "for s = 0.1 a = 3 sA =  2 sd = 3 Ei = 0.2\n",
      "Utility A = 1981.08999999965 utility D = -1981.08999999965\n",
      "equlibrium (array([1., 0., 0.]), array([1., 0.]))\n",
      "оптимальная стратегия оброняющегося номер  1 оптимальная стратегия атакующего номер  1\n"
     ]
    },
    {
     "data": {
      "application/vnd.jupyter.widget-view+json": {
       "model_id": "48e76d7d5ce94c23b10d82bf76caa16e",
       "version_major": 2,
       "version_minor": 0
      },
      "text/plain": [
       "  0%|          | 0/50000 [00:00<?, ?it/s]"
      ]
     },
     "metadata": {},
     "output_type": "display_data"
    },
    {
     "name": "stdout",
     "output_type": "stream",
     "text": [
      "for s = 0.1 a = 3 sA =  2 sd = 3 Ei = 0.3\n",
      "Utility A = 1998.1799999996736 utility D = -1998.1799999996736\n",
      "equlibrium (array([1., 0., 0.]), array([1., 0.]))\n",
      "оптимальная стратегия оброняющегося номер  1 оптимальная стратегия атакующего номер  1\n"
     ]
    },
    {
     "data": {
      "application/vnd.jupyter.widget-view+json": {
       "model_id": "3cbb56469d1b45d8970a1291fd607bc9",
       "version_major": 2,
       "version_minor": 0
      },
      "text/plain": [
       "  0%|          | 0/50000 [00:00<?, ?it/s]"
      ]
     },
     "metadata": {},
     "output_type": "display_data"
    },
    {
     "name": "stdout",
     "output_type": "stream",
     "text": [
      "for s = 0.1 a = 3 sA =  2 sd = 3 Ei = 0.4\n",
      "Utility A = 1992.9799999996735 utility D = -1992.9799999996735\n",
      "equlibrium (array([1., 0., 0.]), array([1., 0.]))\n",
      "оптимальная стратегия оброняющегося номер  1 оптимальная стратегия атакующего номер  1\n"
     ]
    },
    {
     "data": {
      "application/vnd.jupyter.widget-view+json": {
       "model_id": "34c08b6541084a5081ff0d7d2cc826a9",
       "version_major": 2,
       "version_minor": 0
      },
      "text/plain": [
       "  0%|          | 0/50000 [00:00<?, ?it/s]"
      ]
     },
     "metadata": {},
     "output_type": "display_data"
    },
    {
     "name": "stdout",
     "output_type": "stream",
     "text": [
      "for s = 0.1 a = 3 sA =  2 sd = 3 Ei = 0.5\n",
      "Utility A = 1985.139999999663 utility D = -1985.139999999663\n",
      "equlibrium (array([1., 0., 0.]), array([1., 0.]))\n",
      "оптимальная стратегия оброняющегося номер  1 оптимальная стратегия атакующего номер  1\n"
     ]
    },
    {
     "data": {
      "application/vnd.jupyter.widget-view+json": {
       "model_id": "4408697c05e242e8a9f549e0875d03be",
       "version_major": 2,
       "version_minor": 0
      },
      "text/plain": [
       "  0%|          | 0/50000 [00:00<?, ?it/s]"
      ]
     },
     "metadata": {},
     "output_type": "display_data"
    },
    {
     "name": "stdout",
     "output_type": "stream",
     "text": [
      "for s = 0.1 a = 3 sA =  2 sd = 3 Ei = 0.6\n",
      "Utility A = 1981.309999999678 utility D = -1981.309999999678\n",
      "equlibrium (array([1., 0., 0.]), array([1., 0.]))\n",
      "оптимальная стратегия оброняющегося номер  1 оптимальная стратегия атакующего номер  1\n"
     ]
    },
    {
     "data": {
      "application/vnd.jupyter.widget-view+json": {
       "model_id": "5f012029176b4c1aacc587913c02b535",
       "version_major": 2,
       "version_minor": 0
      },
      "text/plain": [
       "  0%|          | 0/50000 [00:00<?, ?it/s]"
      ]
     },
     "metadata": {},
     "output_type": "display_data"
    },
    {
     "name": "stdout",
     "output_type": "stream",
     "text": [
      "for s = 0.1 a = 3 sA =  2 sd = 3 Ei = 0.7\n",
      "Utility A = 1976.1399999996574 utility D = -1976.1399999996574\n",
      "equlibrium (array([1., 0., 0.]), array([1., 0.]))\n",
      "оптимальная стратегия оброняющегося номер  1 оптимальная стратегия атакующего номер  1\n"
     ]
    },
    {
     "data": {
      "application/vnd.jupyter.widget-view+json": {
       "model_id": "1cf4a5d2fa044efe9f4f7abf80db3260",
       "version_major": 2,
       "version_minor": 0
      },
      "text/plain": [
       "  0%|          | 0/50000 [00:00<?, ?it/s]"
      ]
     },
     "metadata": {},
     "output_type": "display_data"
    },
    {
     "name": "stdout",
     "output_type": "stream",
     "text": [
      "for s = 0.1 a = 3 sA =  2 sd = 3 Ei = 0.8\n",
      "Utility A = 1988.1399999996688 utility D = -1988.1399999996688\n",
      "equlibrium (array([1., 0., 0.]), array([1., 0.]))\n",
      "оптимальная стратегия оброняющегося номер  1 оптимальная стратегия атакующего номер  1\n"
     ]
    },
    {
     "data": {
      "application/vnd.jupyter.widget-view+json": {
       "model_id": "1aa343595dd54ff1b0addba16c4b9b14",
       "version_major": 2,
       "version_minor": 0
      },
      "text/plain": [
       "  0%|          | 0/50000 [00:00<?, ?it/s]"
      ]
     },
     "metadata": {},
     "output_type": "display_data"
    },
    {
     "name": "stdout",
     "output_type": "stream",
     "text": [
      "for s = 0.1 a = 3 sA =  2 sd = 3 Ei = 0.9\n",
      "Utility A = 1971.9499999996658 utility D = -1971.9499999996658\n",
      "equlibrium (array([1., 0., 0.]), array([1., 0.]))\n",
      "оптимальная стратегия оброняющегося номер  1 оптимальная стратегия атакующего номер  1\n"
     ]
    },
    {
     "data": {
      "application/vnd.jupyter.widget-view+json": {
       "model_id": "6e6c1b9210da4ebfa190d8a194544e25",
       "version_major": 2,
       "version_minor": 0
      },
      "text/plain": [
       "  0%|          | 0/50000 [00:00<?, ?it/s]"
      ]
     },
     "metadata": {},
     "output_type": "display_data"
    },
    {
     "name": "stdout",
     "output_type": "stream",
     "text": [
      "for s = 0.1 a = 4 sA =  1 sd = 1 Ei = 0.1\n",
      "Utility A = 20387.98000000153 utility D = -20998.160000000786\n",
      "equlibrium (array([1., 0., 0.]), array([0., 1.]))\n",
      "оптимальная стратегия оброняющегося номер  1 оптимальная стратегия атакующего номер  2\n"
     ]
    },
    {
     "data": {
      "application/vnd.jupyter.widget-view+json": {
       "model_id": "446819466d1c4111ac44da25e497de4f",
       "version_major": 2,
       "version_minor": 0
      },
      "text/plain": [
       "  0%|          | 0/50000 [00:00<?, ?it/s]"
      ]
     },
     "metadata": {},
     "output_type": "display_data"
    },
    {
     "name": "stdout",
     "output_type": "stream",
     "text": [
      "for s = 0.1 a = 4 sA =  1 sd = 1 Ei = 0.2\n",
      "Utility A = 20443.370000001247 utility D = -21435.040000000383\n",
      "equlibrium (array([1., 0., 0.]), array([0., 1.]))\n",
      "оптимальная стратегия оброняющегося номер  1 оптимальная стратегия атакующего номер  2\n"
     ]
    },
    {
     "data": {
      "application/vnd.jupyter.widget-view+json": {
       "model_id": "efdea69ed0de4983b37763a1a448bf79",
       "version_major": 2,
       "version_minor": 0
      },
      "text/plain": [
       "  0%|          | 0/50000 [00:00<?, ?it/s]"
      ]
     },
     "metadata": {},
     "output_type": "display_data"
    },
    {
     "name": "stdout",
     "output_type": "stream",
     "text": [
      "for s = 0.1 a = 4 sA =  1 sd = 1 Ei = 0.3\n",
      "Utility A = 20529.860000001354 utility D = -21089.900000001977\n",
      "equlibrium (array([1., 0., 0.]), array([0., 1.]))\n",
      "оптимальная стратегия оброняющегося номер  1 оптимальная стратегия атакующего номер  2\n"
     ]
    },
    {
     "data": {
      "application/vnd.jupyter.widget-view+json": {
       "model_id": "4560449c5d2f4dbd99a6016cb9371c22",
       "version_major": 2,
       "version_minor": 0
      },
      "text/plain": [
       "  0%|          | 0/50000 [00:00<?, ?it/s]"
      ]
     },
     "metadata": {},
     "output_type": "display_data"
    },
    {
     "name": "stdout",
     "output_type": "stream",
     "text": [
      "for s = 0.1 a = 4 sA =  1 sd = 1 Ei = 0.4\n",
      "Utility A = 20378.840000001233 utility D = -20953.57000000183\n",
      "equlibrium (array([1., 0., 0.]), array([0., 1.]))\n",
      "оптимальная стратегия оброняющегося номер  1 оптимальная стратегия атакующего номер  2\n"
     ]
    },
    {
     "data": {
      "application/vnd.jupyter.widget-view+json": {
       "model_id": "b8a59e738516454da6917cd2c1bab40e",
       "version_major": 2,
       "version_minor": 0
      },
      "text/plain": [
       "  0%|          | 0/50000 [00:00<?, ?it/s]"
      ]
     },
     "metadata": {},
     "output_type": "display_data"
    },
    {
     "name": "stdout",
     "output_type": "stream",
     "text": [
      "for s = 0.1 a = 4 sA =  1 sd = 1 Ei = 0.5\n",
      "Utility A = 20398.82000000112 utility D = -20976.24000000179\n",
      "equlibrium (array([1., 0., 0.]), array([0., 1.]))\n",
      "оптимальная стратегия оброняющегося номер  1 оптимальная стратегия атакующего номер  2\n"
     ]
    },
    {
     "data": {
      "application/vnd.jupyter.widget-view+json": {
       "model_id": "f267adf7cdeb4de5ad8238aa8f404771",
       "version_major": 2,
       "version_minor": 0
      },
      "text/plain": [
       "  0%|          | 0/50000 [00:00<?, ?it/s]"
      ]
     },
     "metadata": {},
     "output_type": "display_data"
    },
    {
     "name": "stdout",
     "output_type": "stream",
     "text": [
      "for s = 0.1 a = 4 sA =  1 sd = 1 Ei = 0.6\n",
      "Utility A = 20440.4400000015 utility D = -21012.09000000225\n",
      "equlibrium (array([1., 0., 0.]), array([0., 1.]))\n",
      "оптимальная стратегия оброняющегося номер  1 оптимальная стратегия атакующего номер  2\n"
     ]
    },
    {
     "data": {
      "application/vnd.jupyter.widget-view+json": {
       "model_id": "f4494a933002449dbaaf20d69b072015",
       "version_major": 2,
       "version_minor": 0
      },
      "text/plain": [
       "  0%|          | 0/50000 [00:00<?, ?it/s]"
      ]
     },
     "metadata": {},
     "output_type": "display_data"
    },
    {
     "name": "stdout",
     "output_type": "stream",
     "text": [
      "for s = 0.1 a = 4 sA =  1 sd = 1 Ei = 0.7\n",
      "Utility A = 20365.150000001384 utility D = -20933.890000001993\n",
      "equlibrium (array([1., 0., 0.]), array([0., 1.]))\n",
      "оптимальная стратегия оброняющегося номер  1 оптимальная стратегия атакующего номер  2\n"
     ]
    },
    {
     "data": {
      "application/vnd.jupyter.widget-view+json": {
       "model_id": "7d378244194f43178bd4f6b381024029",
       "version_major": 2,
       "version_minor": 0
      },
      "text/plain": [
       "  0%|          | 0/50000 [00:00<?, ?it/s]"
      ]
     },
     "metadata": {},
     "output_type": "display_data"
    },
    {
     "name": "stdout",
     "output_type": "stream",
     "text": [
      "for s = 0.1 a = 4 sA =  1 sd = 1 Ei = 0.8\n",
      "Utility A = 20326.150000001362 utility D = -20898.68000000202\n",
      "equlibrium (array([1., 0., 0.]), array([0., 1.]))\n",
      "оптимальная стратегия оброняющегося номер  1 оптимальная стратегия атакующего номер  2\n"
     ]
    },
    {
     "data": {
      "application/vnd.jupyter.widget-view+json": {
       "model_id": "c7c92c36b5dc4698ab1de90bfb2e17de",
       "version_major": 2,
       "version_minor": 0
      },
      "text/plain": [
       "  0%|          | 0/50000 [00:00<?, ?it/s]"
      ]
     },
     "metadata": {},
     "output_type": "display_data"
    },
    {
     "name": "stdout",
     "output_type": "stream",
     "text": [
      "for s = 0.1 a = 4 sA =  1 sd = 1 Ei = 0.9\n",
      "Utility A = 20493.730000001487 utility D = -21061.89000000221\n",
      "equlibrium (array([1., 0., 0.]), array([0., 1.]))\n",
      "оптимальная стратегия оброняющегося номер  1 оптимальная стратегия атакующего номер  2\n"
     ]
    },
    {
     "data": {
      "application/vnd.jupyter.widget-view+json": {
       "model_id": "2f82ac3977c94eb4aca5fbe197a20b67",
       "version_major": 2,
       "version_minor": 0
      },
      "text/plain": [
       "  0%|          | 0/50000 [00:00<?, ?it/s]"
      ]
     },
     "metadata": {},
     "output_type": "display_data"
    },
    {
     "name": "stdout",
     "output_type": "stream",
     "text": [
      "for s = 0.1 a = 4 sA =  1 sd = 2 Ei = 0.1\n",
      "Utility A = 21053.030000001927 utility D = -21062.537030844356\n",
      "equlibrium (array([1., 0., 0.]), array([0., 1.]))\n",
      "оптимальная стратегия оброняющегося номер  1 оптимальная стратегия атакующего номер  2\n"
     ]
    },
    {
     "data": {
      "application/vnd.jupyter.widget-view+json": {
       "model_id": "9395af28c7c24e8b8f8b9b1ae6d8b028",
       "version_major": 2,
       "version_minor": 0
      },
      "text/plain": [
       "  0%|          | 0/50000 [00:00<?, ?it/s]"
      ]
     },
     "metadata": {},
     "output_type": "display_data"
    },
    {
     "name": "stdout",
     "output_type": "stream",
     "text": [
      "for s = 0.1 a = 4 sA =  1 sd = 2 Ei = 0.2\n",
      "Utility A = 20888.40000000177 utility D = -20933.678375146137\n",
      "equlibrium (array([1., 0., 0.]), array([0., 1.]))\n",
      "оптимальная стратегия оброняющегося номер  1 оптимальная стратегия атакующего номер  2\n"
     ]
    },
    {
     "data": {
      "application/vnd.jupyter.widget-view+json": {
       "model_id": "49b542d2a2cc40b58a99ac294f686f24",
       "version_major": 2,
       "version_minor": 0
      },
      "text/plain": [
       "  0%|          | 0/50000 [00:00<?, ?it/s]"
      ]
     },
     "metadata": {},
     "output_type": "display_data"
    },
    {
     "name": "stdout",
     "output_type": "stream",
     "text": [
      "for s = 0.1 a = 4 sA =  1 sd = 2 Ei = 0.3\n",
      "Utility A = 20875.780000002127 utility D = -21015.13283591483\n",
      "equlibrium (array([1., 0., 0.]), array([0., 1.]))\n",
      "оптимальная стратегия оброняющегося номер  1 оптимальная стратегия атакующего номер  2\n"
     ]
    },
    {
     "data": {
      "application/vnd.jupyter.widget-view+json": {
       "model_id": "29cd107dcf1a46d18a695e44b8611e40",
       "version_major": 2,
       "version_minor": 0
      },
      "text/plain": [
       "  0%|          | 0/50000 [00:00<?, ?it/s]"
      ]
     },
     "metadata": {},
     "output_type": "display_data"
    },
    {
     "name": "stdout",
     "output_type": "stream",
     "text": [
      "for s = 0.1 a = 4 sA =  1 sd = 2 Ei = 0.4\n",
      "Utility A = 20993.890000001957 utility D = -21622.053587478258\n",
      "equlibrium (array([1., 0., 0.]), array([0., 1.]))\n",
      "оптимальная стратегия оброняющегося номер  1 оптимальная стратегия атакующего номер  2\n"
     ]
    },
    {
     "data": {
      "application/vnd.jupyter.widget-view+json": {
       "model_id": "505daa0a70154fecbafb804d3cab116b",
       "version_major": 2,
       "version_minor": 0
      },
      "text/plain": [
       "  0%|          | 0/50000 [00:00<?, ?it/s]"
      ]
     },
     "metadata": {},
     "output_type": "display_data"
    },
    {
     "name": "stdout",
     "output_type": "stream",
     "text": [
      "for s = 0.1 a = 4 sA =  1 sd = 2 Ei = 0.5\n",
      "Utility A = 21106.96000000178 utility D = -21742.647242693456\n",
      "equlibrium (array([1., 0., 0.]), array([0., 1.]))\n",
      "оптимальная стратегия оброняющегося номер  1 оптимальная стратегия атакующего номер  2\n"
     ]
    },
    {
     "data": {
      "application/vnd.jupyter.widget-view+json": {
       "model_id": "dfc68c4b61604671832c441e83c7e16a",
       "version_major": 2,
       "version_minor": 0
      },
      "text/plain": [
       "  0%|          | 0/50000 [00:00<?, ?it/s]"
      ]
     },
     "metadata": {},
     "output_type": "display_data"
    },
    {
     "name": "stdout",
     "output_type": "stream",
     "text": [
      "for s = 0.1 a = 4 sA =  1 sd = 2 Ei = 0.6\n",
      "Utility A = 21039.37000000164 utility D = -21630.724908632583\n",
      "equlibrium (array([1., 0., 0.]), array([0., 1.]))\n",
      "оптимальная стратегия оброняющегося номер  1 оптимальная стратегия атакующего номер  2\n"
     ]
    },
    {
     "data": {
      "application/vnd.jupyter.widget-view+json": {
       "model_id": "b549c71f946648e79da5639a829743de",
       "version_major": 2,
       "version_minor": 0
      },
      "text/plain": [
       "  0%|          | 0/50000 [00:00<?, ?it/s]"
      ]
     },
     "metadata": {},
     "output_type": "display_data"
    },
    {
     "name": "stdout",
     "output_type": "stream",
     "text": [
      "for s = 0.1 a = 4 sA =  1 sd = 2 Ei = 0.7\n",
      "Utility A = 20945.810000001897 utility D = -21894.89531839738\n",
      "equlibrium (array([1., 0., 0.]), array([0., 1.]))\n",
      "оптимальная стратегия оброняющегося номер  1 оптимальная стратегия атакующего номер  2\n"
     ]
    },
    {
     "data": {
      "application/vnd.jupyter.widget-view+json": {
       "model_id": "02719e6cdde0460ebe0327e1b154167a",
       "version_major": 2,
       "version_minor": 0
      },
      "text/plain": [
       "  0%|          | 0/50000 [00:00<?, ?it/s]"
      ]
     },
     "metadata": {},
     "output_type": "display_data"
    },
    {
     "name": "stdout",
     "output_type": "stream",
     "text": [
      "for s = 0.1 a = 4 sA =  1 sd = 2 Ei = 0.8\n",
      "Utility A = 21053.04000000184 utility D = -21537.835811788467\n",
      "equlibrium (array([1., 0., 0.]), array([0., 1.]))\n",
      "оптимальная стратегия оброняющегося номер  1 оптимальная стратегия атакующего номер  2\n"
     ]
    },
    {
     "data": {
      "application/vnd.jupyter.widget-view+json": {
       "model_id": "ff4cf07cab204f4f95a2bd4fe9b5f3b7",
       "version_major": 2,
       "version_minor": 0
      },
      "text/plain": [
       "  0%|          | 0/50000 [00:00<?, ?it/s]"
      ]
     },
     "metadata": {},
     "output_type": "display_data"
    },
    {
     "name": "stdout",
     "output_type": "stream",
     "text": [
      "for s = 0.1 a = 4 sA =  1 sd = 2 Ei = 0.9\n",
      "Utility A = 20979.320000002033 utility D = -21845.168968785143\n",
      "equlibrium (array([1., 0., 0.]), array([0., 1.]))\n",
      "оптимальная стратегия оброняющегося номер  1 оптимальная стратегия атакующего номер  2\n"
     ]
    },
    {
     "data": {
      "application/vnd.jupyter.widget-view+json": {
       "model_id": "8faa58428d0049ddbf4f1aa72ba3c055",
       "version_major": 2,
       "version_minor": 0
      },
      "text/plain": [
       "  0%|          | 0/50000 [00:00<?, ?it/s]"
      ]
     },
     "metadata": {},
     "output_type": "display_data"
    },
    {
     "name": "stdout",
     "output_type": "stream",
     "text": [
      "for s = 0.1 a = 4 sA =  1 sd = 3 Ei = 0.1\n",
      "Utility A = 0 utility D = 0\n",
      "equlibrium (array([1., 0., 0.]), array([1., 0.]))\n",
      "оптимальная стратегия оброняющегося номер  1 оптимальная стратегия атакующего номер  1\n"
     ]
    },
    {
     "data": {
      "application/vnd.jupyter.widget-view+json": {
       "model_id": "b4d69baa24a048ebb43f93ae0af744e6",
       "version_major": 2,
       "version_minor": 0
      },
      "text/plain": [
       "  0%|          | 0/50000 [00:00<?, ?it/s]"
      ]
     },
     "metadata": {},
     "output_type": "display_data"
    },
    {
     "name": "stdout",
     "output_type": "stream",
     "text": [
      "for s = 0.1 a = 4 sA =  1 sd = 3 Ei = 0.2\n",
      "Utility A = 0 utility D = 0\n",
      "equlibrium (array([1., 0., 0.]), array([1., 0.]))\n",
      "оптимальная стратегия оброняющегося номер  1 оптимальная стратегия атакующего номер  1\n"
     ]
    },
    {
     "data": {
      "application/vnd.jupyter.widget-view+json": {
       "model_id": "3d592989815a41cd9364d0efe470fa7d",
       "version_major": 2,
       "version_minor": 0
      },
      "text/plain": [
       "  0%|          | 0/50000 [00:00<?, ?it/s]"
      ]
     },
     "metadata": {},
     "output_type": "display_data"
    },
    {
     "name": "stdout",
     "output_type": "stream",
     "text": [
      "for s = 0.1 a = 4 sA =  1 sd = 3 Ei = 0.3\n",
      "Utility A = 0 utility D = 0\n",
      "equlibrium (array([1., 0., 0.]), array([1., 0.]))\n",
      "оптимальная стратегия оброняющегося номер  1 оптимальная стратегия атакующего номер  1\n"
     ]
    },
    {
     "data": {
      "application/vnd.jupyter.widget-view+json": {
       "model_id": "4066d490b03442b78600173b246ee18f",
       "version_major": 2,
       "version_minor": 0
      },
      "text/plain": [
       "  0%|          | 0/50000 [00:00<?, ?it/s]"
      ]
     },
     "metadata": {},
     "output_type": "display_data"
    },
    {
     "name": "stdout",
     "output_type": "stream",
     "text": [
      "for s = 0.1 a = 4 sA =  1 sd = 3 Ei = 0.4\n",
      "Utility A = 0 utility D = 0\n",
      "equlibrium (array([1., 0., 0.]), array([1., 0.]))\n",
      "оптимальная стратегия оброняющегося номер  1 оптимальная стратегия атакующего номер  1\n"
     ]
    },
    {
     "data": {
      "application/vnd.jupyter.widget-view+json": {
       "model_id": "21ca6b8efe204457b6bd9bf946d4646d",
       "version_major": 2,
       "version_minor": 0
      },
      "text/plain": [
       "  0%|          | 0/50000 [00:00<?, ?it/s]"
      ]
     },
     "metadata": {},
     "output_type": "display_data"
    },
    {
     "name": "stdout",
     "output_type": "stream",
     "text": [
      "for s = 0.1 a = 4 sA =  1 sd = 3 Ei = 0.5\n",
      "Utility A = 0 utility D = 0\n",
      "equlibrium (array([1., 0., 0.]), array([1., 0.]))\n",
      "оптимальная стратегия оброняющегося номер  1 оптимальная стратегия атакующего номер  1\n"
     ]
    },
    {
     "data": {
      "application/vnd.jupyter.widget-view+json": {
       "model_id": "a8bf6cfe6c4e4068b253597ccf2baa4f",
       "version_major": 2,
       "version_minor": 0
      },
      "text/plain": [
       "  0%|          | 0/50000 [00:00<?, ?it/s]"
      ]
     },
     "metadata": {},
     "output_type": "display_data"
    },
    {
     "name": "stdout",
     "output_type": "stream",
     "text": [
      "for s = 0.1 a = 4 sA =  1 sd = 3 Ei = 0.6\n",
      "Utility A = 0 utility D = 0\n",
      "equlibrium (array([1., 0., 0.]), array([1., 0.]))\n",
      "оптимальная стратегия оброняющегося номер  1 оптимальная стратегия атакующего номер  1\n"
     ]
    },
    {
     "data": {
      "application/vnd.jupyter.widget-view+json": {
       "model_id": "33e6ff57762640ba81767934b8e5e713",
       "version_major": 2,
       "version_minor": 0
      },
      "text/plain": [
       "  0%|          | 0/50000 [00:00<?, ?it/s]"
      ]
     },
     "metadata": {},
     "output_type": "display_data"
    },
    {
     "name": "stdout",
     "output_type": "stream",
     "text": [
      "for s = 0.1 a = 4 sA =  1 sd = 3 Ei = 0.7\n",
      "Utility A = 0 utility D = 0\n",
      "equlibrium (array([1., 0., 0.]), array([1., 0.]))\n",
      "оптимальная стратегия оброняющегося номер  1 оптимальная стратегия атакующего номер  1\n"
     ]
    },
    {
     "data": {
      "application/vnd.jupyter.widget-view+json": {
       "model_id": "8c72ce0a044a40d087f714085f15d769",
       "version_major": 2,
       "version_minor": 0
      },
      "text/plain": [
       "  0%|          | 0/50000 [00:00<?, ?it/s]"
      ]
     },
     "metadata": {},
     "output_type": "display_data"
    },
    {
     "name": "stdout",
     "output_type": "stream",
     "text": [
      "for s = 0.1 a = 4 sA =  1 sd = 3 Ei = 0.8\n",
      "Utility A = 0 utility D = 0\n",
      "equlibrium (array([1., 0., 0.]), array([1., 0.]))\n",
      "оптимальная стратегия оброняющегося номер  1 оптимальная стратегия атакующего номер  1\n"
     ]
    },
    {
     "data": {
      "application/vnd.jupyter.widget-view+json": {
       "model_id": "d634a7da4c40409e9a2ba808e62ae76a",
       "version_major": 2,
       "version_minor": 0
      },
      "text/plain": [
       "  0%|          | 0/50000 [00:00<?, ?it/s]"
      ]
     },
     "metadata": {},
     "output_type": "display_data"
    },
    {
     "name": "stdout",
     "output_type": "stream",
     "text": [
      "for s = 0.1 a = 4 sA =  1 sd = 3 Ei = 0.9\n",
      "Utility A = 0 utility D = 0\n",
      "equlibrium (array([1., 0., 0.]), array([1., 0.]))\n",
      "оптимальная стратегия оброняющегося номер  1 оптимальная стратегия атакующего номер  1\n"
     ]
    },
    {
     "data": {
      "application/vnd.jupyter.widget-view+json": {
       "model_id": "97b6aec242fb4215a63dc8574cbbe323",
       "version_major": 2,
       "version_minor": 0
      },
      "text/plain": [
       "  0%|          | 0/50000 [00:00<?, ?it/s]"
      ]
     },
     "metadata": {},
     "output_type": "display_data"
    },
    {
     "name": "stdout",
     "output_type": "stream",
     "text": [
      "for s = 0.1 a = 4 sA =  2 sd = 1 Ei = 0.1\n",
      "Utility A = 1981.9799999996824 utility D = -1987.6881843244525\n",
      "equlibrium (array([1., 0., 0.]), array([1., 0.]))\n",
      "оптимальная стратегия оброняющегося номер  1 оптимальная стратегия атакующего номер  1\n"
     ]
    },
    {
     "data": {
      "application/vnd.jupyter.widget-view+json": {
       "model_id": "a467f4d9793e476e9dbf566e92e412bb",
       "version_major": 2,
       "version_minor": 0
      },
      "text/plain": [
       "  0%|          | 0/50000 [00:00<?, ?it/s]"
      ]
     },
     "metadata": {},
     "output_type": "display_data"
    },
    {
     "name": "stdout",
     "output_type": "stream",
     "text": [
      "for s = 0.1 a = 4 sA =  2 sd = 1 Ei = 0.2\n",
      "Utility A = 2003.0099999996655 utility D = -2033.0187882264113\n",
      "equlibrium (array([1., 0., 0.]), array([1., 0.]))\n",
      "оптимальная стратегия оброняющегося номер  1 оптимальная стратегия атакующего номер  1\n"
     ]
    },
    {
     "data": {
      "application/vnd.jupyter.widget-view+json": {
       "model_id": "4a8d3f5530054fe7b59273fa472485f6",
       "version_major": 2,
       "version_minor": 0
      },
      "text/plain": [
       "  0%|          | 0/50000 [00:00<?, ?it/s]"
      ]
     },
     "metadata": {},
     "output_type": "display_data"
    },
    {
     "name": "stdout",
     "output_type": "stream",
     "text": [
      "for s = 0.1 a = 4 sA =  2 sd = 1 Ei = 0.3\n",
      "Utility A = 1984.3399999996648 utility D = -2087.9053875966965\n",
      "equlibrium (array([1., 0., 0.]), array([1., 0.]))\n",
      "оптимальная стратегия оброняющегося номер  1 оптимальная стратегия атакующего номер  1\n"
     ]
    },
    {
     "data": {
      "application/vnd.jupyter.widget-view+json": {
       "model_id": "040d23f8bad9429bb4591d939d09a8e5",
       "version_major": 2,
       "version_minor": 0
      },
      "text/plain": [
       "  0%|          | 0/50000 [00:00<?, ?it/s]"
      ]
     },
     "metadata": {},
     "output_type": "display_data"
    },
    {
     "name": "stdout",
     "output_type": "stream",
     "text": [
      "for s = 0.1 a = 4 sA =  2 sd = 1 Ei = 0.4\n",
      "Utility A = 1984.3899999996531 utility D = -2532.6266084366343\n",
      "equlibrium (array([1., 0., 0.]), array([1., 0.]))\n",
      "оптимальная стратегия оброняющегося номер  1 оптимальная стратегия атакующего номер  1\n"
     ]
    },
    {
     "data": {
      "application/vnd.jupyter.widget-view+json": {
       "model_id": "8d5111b3b3594459b3cf7d32733d759f",
       "version_major": 2,
       "version_minor": 0
      },
      "text/plain": [
       "  0%|          | 0/50000 [00:00<?, ?it/s]"
      ]
     },
     "metadata": {},
     "output_type": "display_data"
    },
    {
     "name": "stdout",
     "output_type": "stream",
     "text": [
      "for s = 0.1 a = 4 sA =  2 sd = 1 Ei = 0.5\n",
      "Utility A = 1957.6699999996779 utility D = -2445.1365912697693\n",
      "equlibrium (array([1., 0., 0.]), array([1., 0.]))\n",
      "оптимальная стратегия оброняющегося номер  1 оптимальная стратегия атакующего номер  1\n"
     ]
    },
    {
     "data": {
      "application/vnd.jupyter.widget-view+json": {
       "model_id": "327ba5fc5e7f4afeade368aa428ca515",
       "version_major": 2,
       "version_minor": 0
      },
      "text/plain": [
       "  0%|          | 0/50000 [00:00<?, ?it/s]"
      ]
     },
     "metadata": {},
     "output_type": "display_data"
    },
    {
     "name": "stdout",
     "output_type": "stream",
     "text": [
      "for s = 0.1 a = 4 sA =  2 sd = 1 Ei = 0.6\n",
      "Utility A = 1965.8999999996706 utility D = -2295.2135803569518\n",
      "equlibrium (array([1., 0., 0.]), array([1., 0.]))\n",
      "оптимальная стратегия оброняющегося номер  1 оптимальная стратегия атакующего номер  1\n"
     ]
    },
    {
     "data": {
      "application/vnd.jupyter.widget-view+json": {
       "model_id": "7d9d1b9119e94e4b944579c6d8c298f4",
       "version_major": 2,
       "version_minor": 0
      },
      "text/plain": [
       "  0%|          | 0/50000 [00:00<?, ?it/s]"
      ]
     },
     "metadata": {},
     "output_type": "display_data"
    },
    {
     "name": "stdout",
     "output_type": "stream",
     "text": [
      "for s = 0.1 a = 4 sA =  2 sd = 1 Ei = 0.7\n",
      "Utility A = 1987.3199999996625 utility D = -2300.888291666436\n",
      "equlibrium (array([1., 0., 0.]), array([1., 0.]))\n",
      "оптимальная стратегия оброняющегося номер  1 оптимальная стратегия атакующего номер  1\n"
     ]
    },
    {
     "data": {
      "application/vnd.jupyter.widget-view+json": {
       "model_id": "406571e9badf4f39b2252f06e528dea4",
       "version_major": 2,
       "version_minor": 0
      },
      "text/plain": [
       "  0%|          | 0/50000 [00:00<?, ?it/s]"
      ]
     },
     "metadata": {},
     "output_type": "display_data"
    },
    {
     "name": "stdout",
     "output_type": "stream",
     "text": [
      "for s = 0.1 a = 4 sA =  2 sd = 1 Ei = 0.8\n",
      "Utility A = 1992.03999999966 utility D = -2087.799999999671\n",
      "equlibrium (array([1., 0., 0.]), array([1., 0.]))\n",
      "оптимальная стратегия оброняющегося номер  1 оптимальная стратегия атакующего номер  1\n"
     ]
    },
    {
     "data": {
      "application/vnd.jupyter.widget-view+json": {
       "model_id": "1e20f720d7854a79a485f7369a4aa002",
       "version_major": 2,
       "version_minor": 0
      },
      "text/plain": [
       "  0%|          | 0/50000 [00:00<?, ?it/s]"
      ]
     },
     "metadata": {},
     "output_type": "display_data"
    },
    {
     "name": "stdout",
     "output_type": "stream",
     "text": [
      "for s = 0.1 a = 4 sA =  2 sd = 1 Ei = 0.9\n",
      "Utility A = 1990.1799999996747 utility D = -1990.1799999996747\n",
      "equlibrium (array([1., 0., 0.]), array([1., 0.]))\n",
      "оптимальная стратегия оброняющегося номер  1 оптимальная стратегия атакующего номер  1\n"
     ]
    },
    {
     "data": {
      "application/vnd.jupyter.widget-view+json": {
       "model_id": "e12152207c424049a63d647b5c54be11",
       "version_major": 2,
       "version_minor": 0
      },
      "text/plain": [
       "  0%|          | 0/50000 [00:00<?, ?it/s]"
      ]
     },
     "metadata": {},
     "output_type": "display_data"
    },
    {
     "name": "stdout",
     "output_type": "stream",
     "text": [
      "for s = 0.1 a = 4 sA =  2 sd = 2 Ei = 0.1\n",
      "Utility A = 1988.5799999996618 utility D = -2024.1833333336042\n",
      "equlibrium (array([1., 0., 0.]), array([1., 0.]))\n",
      "оптимальная стратегия оброняющегося номер  1 оптимальная стратегия атакующего номер  1\n"
     ]
    },
    {
     "data": {
      "application/vnd.jupyter.widget-view+json": {
       "model_id": "2262e9f7d28f421d894daab0ca9b9542",
       "version_major": 2,
       "version_minor": 0
      },
      "text/plain": [
       "  0%|          | 0/50000 [00:00<?, ?it/s]"
      ]
     },
     "metadata": {},
     "output_type": "display_data"
    },
    {
     "name": "stdout",
     "output_type": "stream",
     "text": [
      "for s = 0.1 a = 4 sA =  2 sd = 2 Ei = 0.2\n",
      "Utility A = 1979.2199999996694 utility D = -2406.0999999999135\n",
      "equlibrium (array([1., 0., 0.]), array([1., 0.]))\n",
      "оптимальная стратегия оброняющегося номер  1 оптимальная стратегия атакующего номер  1\n"
     ]
    },
    {
     "data": {
      "application/vnd.jupyter.widget-view+json": {
       "model_id": "ed842d8df0bd44e299eaef7900c15c65",
       "version_major": 2,
       "version_minor": 0
      },
      "text/plain": [
       "  0%|          | 0/50000 [00:00<?, ?it/s]"
      ]
     },
     "metadata": {},
     "output_type": "display_data"
    },
    {
     "name": "stdout",
     "output_type": "stream",
     "text": [
      "for s = 0.1 a = 4 sA =  2 sd = 2 Ei = 0.3\n",
      "Utility A = 1997.1999999996744 utility D = -1997.1999999996744\n",
      "equlibrium (array([1., 0., 0.]), array([1., 0.]))\n",
      "оптимальная стратегия оброняющегося номер  1 оптимальная стратегия атакующего номер  1\n"
     ]
    },
    {
     "data": {
      "application/vnd.jupyter.widget-view+json": {
       "model_id": "ab3c832402dd404ebcdb9ae01dcee364",
       "version_major": 2,
       "version_minor": 0
      },
      "text/plain": [
       "  0%|          | 0/50000 [00:00<?, ?it/s]"
      ]
     },
     "metadata": {},
     "output_type": "display_data"
    },
    {
     "name": "stdout",
     "output_type": "stream",
     "text": [
      "for s = 0.1 a = 4 sA =  2 sd = 2 Ei = 0.4\n",
      "Utility A = 1990.239999999672 utility D = -1990.239999999672\n",
      "equlibrium (array([1., 0., 0.]), array([1., 0.]))\n",
      "оптимальная стратегия оброняющегося номер  1 оптимальная стратегия атакующего номер  1\n"
     ]
    },
    {
     "data": {
      "application/vnd.jupyter.widget-view+json": {
       "model_id": "dabc0fa7bcd943fc9c2cb0dd32a290c0",
       "version_major": 2,
       "version_minor": 0
      },
      "text/plain": [
       "  0%|          | 0/50000 [00:00<?, ?it/s]"
      ]
     },
     "metadata": {},
     "output_type": "display_data"
    },
    {
     "name": "stdout",
     "output_type": "stream",
     "text": [
      "for s = 0.1 a = 4 sA =  2 sd = 2 Ei = 0.5\n",
      "Utility A = 1972.119999999667 utility D = -1972.119999999667\n",
      "equlibrium (array([1., 0., 0.]), array([1., 0.]))\n",
      "оптимальная стратегия оброняющегося номер  1 оптимальная стратегия атакующего номер  1\n"
     ]
    },
    {
     "data": {
      "application/vnd.jupyter.widget-view+json": {
       "model_id": "eb79b882d0034ece95732147f1c8c9f9",
       "version_major": 2,
       "version_minor": 0
      },
      "text/plain": [
       "  0%|          | 0/50000 [00:00<?, ?it/s]"
      ]
     },
     "metadata": {},
     "output_type": "display_data"
    },
    {
     "name": "stdout",
     "output_type": "stream",
     "text": [
      "for s = 0.1 a = 4 sA =  2 sd = 2 Ei = 0.6\n",
      "Utility A = 1991.1199999996682 utility D = -1991.1199999996682\n",
      "equlibrium (array([1., 0., 0.]), array([1., 0.]))\n",
      "оптимальная стратегия оброняющегося номер  1 оптимальная стратегия атакующего номер  1\n"
     ]
    },
    {
     "data": {
      "application/vnd.jupyter.widget-view+json": {
       "model_id": "5380b45765924f328d52d2108f9a6d23",
       "version_major": 2,
       "version_minor": 0
      },
      "text/plain": [
       "  0%|          | 0/50000 [00:00<?, ?it/s]"
      ]
     },
     "metadata": {},
     "output_type": "display_data"
    },
    {
     "name": "stdout",
     "output_type": "stream",
     "text": [
      "for s = 0.1 a = 4 sA =  2 sd = 2 Ei = 0.7\n",
      "Utility A = 1986.2799999996719 utility D = -1986.2799999996719\n",
      "equlibrium (array([1., 0., 0.]), array([1., 0.]))\n",
      "оптимальная стратегия оброняющегося номер  1 оптимальная стратегия атакующего номер  1\n"
     ]
    },
    {
     "data": {
      "application/vnd.jupyter.widget-view+json": {
       "model_id": "2bd6abb1c74f49f28804e5d3b51f4eb6",
       "version_major": 2,
       "version_minor": 0
      },
      "text/plain": [
       "  0%|          | 0/50000 [00:00<?, ?it/s]"
      ]
     },
     "metadata": {},
     "output_type": "display_data"
    },
    {
     "name": "stdout",
     "output_type": "stream",
     "text": [
      "for s = 0.1 a = 4 sA =  2 sd = 2 Ei = 0.8\n",
      "Utility A = 1978.7799999996591 utility D = -1978.7799999996591\n",
      "equlibrium (array([1., 0., 0.]), array([1., 0.]))\n",
      "оптимальная стратегия оброняющегося номер  1 оптимальная стратегия атакующего номер  1\n"
     ]
    },
    {
     "data": {
      "application/vnd.jupyter.widget-view+json": {
       "model_id": "9126112bca7948b2980748c52a2b36fd",
       "version_major": 2,
       "version_minor": 0
      },
      "text/plain": [
       "  0%|          | 0/50000 [00:00<?, ?it/s]"
      ]
     },
     "metadata": {},
     "output_type": "display_data"
    },
    {
     "name": "stdout",
     "output_type": "stream",
     "text": [
      "for s = 0.1 a = 4 sA =  2 sd = 2 Ei = 0.9\n",
      "Utility A = 1977.2399999996685 utility D = -1977.2399999996685\n",
      "equlibrium (array([1., 0., 0.]), array([1., 0.]))\n",
      "оптимальная стратегия оброняющегося номер  1 оптимальная стратегия атакующего номер  1\n"
     ]
    },
    {
     "data": {
      "application/vnd.jupyter.widget-view+json": {
       "model_id": "68dd8ad2a3f341efad772ce51960e1a8",
       "version_major": 2,
       "version_minor": 0
      },
      "text/plain": [
       "  0%|          | 0/50000 [00:00<?, ?it/s]"
      ]
     },
     "metadata": {},
     "output_type": "display_data"
    },
    {
     "name": "stdout",
     "output_type": "stream",
     "text": [
      "for s = 0.1 a = 4 sA =  2 sd = 3 Ei = 0.1\n",
      "Utility A = 1959.969999999683 utility D = -1959.969999999683\n",
      "equlibrium (array([1., 0., 0.]), array([1., 0.]))\n",
      "оптимальная стратегия оброняющегося номер  1 оптимальная стратегия атакующего номер  1\n"
     ]
    },
    {
     "data": {
      "application/vnd.jupyter.widget-view+json": {
       "model_id": "eb57032689dd49d5babb1e5bd064d554",
       "version_major": 2,
       "version_minor": 0
      },
      "text/plain": [
       "  0%|          | 0/50000 [00:00<?, ?it/s]"
      ]
     },
     "metadata": {},
     "output_type": "display_data"
    },
    {
     "name": "stdout",
     "output_type": "stream",
     "text": [
      "for s = 0.1 a = 4 sA =  2 sd = 3 Ei = 0.2\n",
      "Utility A = 1976.9199999996706 utility D = -1976.9199999996706\n",
      "equlibrium (array([1., 0., 0.]), array([1., 0.]))\n",
      "оптимальная стратегия оброняющегося номер  1 оптимальная стратегия атакующего номер  1\n"
     ]
    },
    {
     "data": {
      "application/vnd.jupyter.widget-view+json": {
       "model_id": "8fbebe3c2c854315ab333561146d8964",
       "version_major": 2,
       "version_minor": 0
      },
      "text/plain": [
       "  0%|          | 0/50000 [00:00<?, ?it/s]"
      ]
     },
     "metadata": {},
     "output_type": "display_data"
    },
    {
     "name": "stdout",
     "output_type": "stream",
     "text": [
      "for s = 0.1 a = 4 sA =  2 sd = 3 Ei = 0.3\n",
      "Utility A = 1979.5299999996707 utility D = -1979.5299999996707\n",
      "equlibrium (array([1., 0., 0.]), array([1., 0.]))\n",
      "оптимальная стратегия оброняющегося номер  1 оптимальная стратегия атакующего номер  1\n"
     ]
    },
    {
     "data": {
      "application/vnd.jupyter.widget-view+json": {
       "model_id": "d74ab4cd05be45068b4bfc2c1995baff",
       "version_major": 2,
       "version_minor": 0
      },
      "text/plain": [
       "  0%|          | 0/50000 [00:00<?, ?it/s]"
      ]
     },
     "metadata": {},
     "output_type": "display_data"
    },
    {
     "name": "stdout",
     "output_type": "stream",
     "text": [
      "for s = 0.1 a = 4 sA =  2 sd = 3 Ei = 0.4\n",
      "Utility A = 1978.4799999996812 utility D = -1978.4799999996812\n",
      "equlibrium (array([1., 0., 0.]), array([1., 0.]))\n",
      "оптимальная стратегия оброняющегося номер  1 оптимальная стратегия атакующего номер  1\n"
     ]
    },
    {
     "data": {
      "application/vnd.jupyter.widget-view+json": {
       "model_id": "0e3cc47ad68a4829a25acd071d85fa40",
       "version_major": 2,
       "version_minor": 0
      },
      "text/plain": [
       "  0%|          | 0/50000 [00:00<?, ?it/s]"
      ]
     },
     "metadata": {},
     "output_type": "display_data"
    },
    {
     "name": "stdout",
     "output_type": "stream",
     "text": [
      "for s = 0.1 a = 4 sA =  2 sd = 3 Ei = 0.5\n",
      "Utility A = 1960.6599999996824 utility D = -1960.6599999996824\n",
      "equlibrium (array([1., 0., 0.]), array([1., 0.]))\n",
      "оптимальная стратегия оброняющегося номер  1 оптимальная стратегия атакующего номер  1\n"
     ]
    },
    {
     "data": {
      "application/vnd.jupyter.widget-view+json": {
       "model_id": "54bf91b1422841eaa34a864ed348eea6",
       "version_major": 2,
       "version_minor": 0
      },
      "text/plain": [
       "  0%|          | 0/50000 [00:00<?, ?it/s]"
      ]
     },
     "metadata": {},
     "output_type": "display_data"
    },
    {
     "name": "stdout",
     "output_type": "stream",
     "text": [
      "for s = 0.1 a = 4 sA =  2 sd = 3 Ei = 0.6\n",
      "Utility A = 1980.3799999996613 utility D = -1980.3799999996613\n",
      "equlibrium (array([1., 0., 0.]), array([1., 0.]))\n",
      "оптимальная стратегия оброняющегося номер  1 оптимальная стратегия атакующего номер  1\n"
     ]
    },
    {
     "data": {
      "application/vnd.jupyter.widget-view+json": {
       "model_id": "80e9007cb78944c6a51f586b28b6b02d",
       "version_major": 2,
       "version_minor": 0
      },
      "text/plain": [
       "  0%|          | 0/50000 [00:00<?, ?it/s]"
      ]
     },
     "metadata": {},
     "output_type": "display_data"
    },
    {
     "name": "stdout",
     "output_type": "stream",
     "text": [
      "for s = 0.1 a = 4 sA =  2 sd = 3 Ei = 0.7\n",
      "Utility A = 1984.7899999996835 utility D = -1984.7899999996835\n",
      "equlibrium (array([1., 0., 0.]), array([1., 0.]))\n",
      "оптимальная стратегия оброняющегося номер  1 оптимальная стратегия атакующего номер  1\n"
     ]
    },
    {
     "data": {
      "application/vnd.jupyter.widget-view+json": {
       "model_id": "03c454783f4441f69b08d575f0418deb",
       "version_major": 2,
       "version_minor": 0
      },
      "text/plain": [
       "  0%|          | 0/50000 [00:00<?, ?it/s]"
      ]
     },
     "metadata": {},
     "output_type": "display_data"
    },
    {
     "name": "stdout",
     "output_type": "stream",
     "text": [
      "for s = 0.1 a = 4 sA =  2 sd = 3 Ei = 0.8\n",
      "Utility A = 1989.3899999996697 utility D = -1989.3899999996697\n",
      "equlibrium (array([1., 0., 0.]), array([1., 0.]))\n",
      "оптимальная стратегия оброняющегося номер  1 оптимальная стратегия атакующего номер  1\n"
     ]
    },
    {
     "data": {
      "application/vnd.jupyter.widget-view+json": {
       "model_id": "005c454ee73d405484d76e73ea000e2e",
       "version_major": 2,
       "version_minor": 0
      },
      "text/plain": [
       "  0%|          | 0/50000 [00:00<?, ?it/s]"
      ]
     },
     "metadata": {},
     "output_type": "display_data"
    },
    {
     "name": "stdout",
     "output_type": "stream",
     "text": [
      "for s = 0.1 a = 4 sA =  2 sd = 3 Ei = 0.9\n",
      "Utility A = 1966.969999999687 utility D = -1966.969999999687\n",
      "equlibrium (array([1., 0., 0.]), array([1., 0.]))\n",
      "оптимальная стратегия оброняющегося номер  1 оптимальная стратегия атакующего номер  1\n"
     ]
    },
    {
     "data": {
      "application/vnd.jupyter.widget-view+json": {
       "model_id": "d44f3a3313b0448aaa24b2697ca79463",
       "version_major": 2,
       "version_minor": 0
      },
      "text/plain": [
       "  0%|          | 0/50000 [00:00<?, ?it/s]"
      ]
     },
     "metadata": {},
     "output_type": "display_data"
    },
    {
     "name": "stdout",
     "output_type": "stream",
     "text": [
      "for s = 0.1 a = 5 sA =  1 sd = 1 Ei = 0.1\n",
      "Utility A = 20284.310000001202 utility D = -20902.49999999998\n",
      "equlibrium (array([1., 0., 0.]), array([0., 1.]))\n",
      "оптимальная стратегия оброняющегося номер  1 оптимальная стратегия атакующего номер  2\n"
     ]
    },
    {
     "data": {
      "application/vnd.jupyter.widget-view+json": {
       "model_id": "eb7c6472ce68406693f7d0358a421844",
       "version_major": 2,
       "version_minor": 0
      },
      "text/plain": [
       "  0%|          | 0/50000 [00:00<?, ?it/s]"
      ]
     },
     "metadata": {},
     "output_type": "display_data"
    },
    {
     "name": "stdout",
     "output_type": "stream",
     "text": [
      "for s = 0.1 a = 5 sA =  1 sd = 1 Ei = 0.2\n",
      "Utility A = 20371.520000001266 utility D = -20952.940000001938\n",
      "equlibrium (array([1., 0., 0.]), array([0., 1.]))\n",
      "оптимальная стратегия оброняющегося номер  1 оптимальная стратегия атакующего номер  2\n"
     ]
    },
    {
     "data": {
      "application/vnd.jupyter.widget-view+json": {
       "model_id": "6028d321f5cc486eadbe04107f55d64f",
       "version_major": 2,
       "version_minor": 0
      },
      "text/plain": [
       "  0%|          | 0/50000 [00:00<?, ?it/s]"
      ]
     },
     "metadata": {},
     "output_type": "display_data"
    },
    {
     "name": "stdout",
     "output_type": "stream",
     "text": [
      "for s = 0.1 a = 5 sA =  1 sd = 1 Ei = 0.3\n",
      "Utility A = 20419.640000001367 utility D = -20987.700000001892\n",
      "equlibrium (array([1., 0., 0.]), array([0., 1.]))\n",
      "оптимальная стратегия оброняющегося номер  1 оптимальная стратегия атакующего номер  2\n"
     ]
    },
    {
     "data": {
      "application/vnd.jupyter.widget-view+json": {
       "model_id": "2581378815204088b8b46eadae4d1bb3",
       "version_major": 2,
       "version_minor": 0
      },
      "text/plain": [
       "  0%|          | 0/50000 [00:00<?, ?it/s]"
      ]
     },
     "metadata": {},
     "output_type": "display_data"
    },
    {
     "name": "stdout",
     "output_type": "stream",
     "text": [
      "for s = 0.1 a = 5 sA =  1 sd = 1 Ei = 0.4\n",
      "Utility A = 20461.870000001272 utility D = -21033.64000000183\n",
      "equlibrium (array([1., 0., 0.]), array([0., 1.]))\n",
      "оптимальная стратегия оброняющегося номер  1 оптимальная стратегия атакующего номер  2\n"
     ]
    },
    {
     "data": {
      "application/vnd.jupyter.widget-view+json": {
       "model_id": "b9c1de24b89648e7989966d97dcfee66",
       "version_major": 2,
       "version_minor": 0
      },
      "text/plain": [
       "  0%|          | 0/50000 [00:00<?, ?it/s]"
      ]
     },
     "metadata": {},
     "output_type": "display_data"
    },
    {
     "name": "stdout",
     "output_type": "stream",
     "text": [
      "for s = 0.1 a = 5 sA =  1 sd = 1 Ei = 0.5\n",
      "Utility A = 20283.480000001346 utility D = -20847.6800000019\n",
      "equlibrium (array([1., 0., 0.]), array([0., 1.]))\n",
      "оптимальная стратегия оброняющегося номер  1 оптимальная стратегия атакующего номер  2\n"
     ]
    },
    {
     "data": {
      "application/vnd.jupyter.widget-view+json": {
       "model_id": "1e426d0a147947ec95a5ff6fa0d2fbb8",
       "version_major": 2,
       "version_minor": 0
      },
      "text/plain": [
       "  0%|          | 0/50000 [00:00<?, ?it/s]"
      ]
     },
     "metadata": {},
     "output_type": "display_data"
    },
    {
     "name": "stdout",
     "output_type": "stream",
     "text": [
      "for s = 0.1 a = 5 sA =  1 sd = 1 Ei = 0.6\n",
      "Utility A = 20409.14000000115 utility D = -20982.520000001627\n",
      "equlibrium (array([1., 0., 0.]), array([0., 1.]))\n",
      "оптимальная стратегия оброняющегося номер  1 оптимальная стратегия атакующего номер  2\n"
     ]
    },
    {
     "data": {
      "application/vnd.jupyter.widget-view+json": {
       "model_id": "e8b5eda4166646878125c990b964f831",
       "version_major": 2,
       "version_minor": 0
      },
      "text/plain": [
       "  0%|          | 0/50000 [00:00<?, ?it/s]"
      ]
     },
     "metadata": {},
     "output_type": "display_data"
    },
    {
     "name": "stdout",
     "output_type": "stream",
     "text": [
      "for s = 0.1 a = 5 sA =  1 sd = 1 Ei = 0.7\n",
      "Utility A = 20469.48000000131 utility D = -21047.610000001947\n",
      "equlibrium (array([1., 0., 0.]), array([0., 1.]))\n",
      "оптимальная стратегия оброняющегося номер  1 оптимальная стратегия атакующего номер  2\n"
     ]
    },
    {
     "data": {
      "application/vnd.jupyter.widget-view+json": {
       "model_id": "c9219a30d86048aabe289feb3ceb91d4",
       "version_major": 2,
       "version_minor": 0
      },
      "text/plain": [
       "  0%|          | 0/50000 [00:00<?, ?it/s]"
      ]
     },
     "metadata": {},
     "output_type": "display_data"
    },
    {
     "name": "stdout",
     "output_type": "stream",
     "text": [
      "for s = 0.1 a = 5 sA =  1 sd = 1 Ei = 0.8\n",
      "Utility A = 20374.620000001323 utility D = -20943.390000001764\n",
      "equlibrium (array([1., 0., 0.]), array([0., 1.]))\n",
      "оптимальная стратегия оброняющегося номер  1 оптимальная стратегия атакующего номер  2\n"
     ]
    },
    {
     "data": {
      "application/vnd.jupyter.widget-view+json": {
       "model_id": "6d1f560ed41049188b47f785265e7f79",
       "version_major": 2,
       "version_minor": 0
      },
      "text/plain": [
       "  0%|          | 0/50000 [00:00<?, ?it/s]"
      ]
     },
     "metadata": {},
     "output_type": "display_data"
    },
    {
     "name": "stdout",
     "output_type": "stream",
     "text": [
      "for s = 0.1 a = 5 sA =  1 sd = 1 Ei = 0.9\n",
      "Utility A = 20265.55000000134 utility D = -20847.120000001985\n",
      "equlibrium (array([1., 0., 0.]), array([0., 1.]))\n",
      "оптимальная стратегия оброняющегося номер  1 оптимальная стратегия атакующего номер  2\n"
     ]
    },
    {
     "data": {
      "application/vnd.jupyter.widget-view+json": {
       "model_id": "51125e38a8724a6ea63615a131a5f24b",
       "version_major": 2,
       "version_minor": 0
      },
      "text/plain": [
       "  0%|          | 0/50000 [00:00<?, ?it/s]"
      ]
     },
     "metadata": {},
     "output_type": "display_data"
    },
    {
     "name": "stdout",
     "output_type": "stream",
     "text": [
      "for s = 0.1 a = 5 sA =  1 sd = 2 Ei = 0.1\n",
      "Utility A = 20943.07000000182 utility D = -20952.955802262077\n",
      "equlibrium (array([1., 0., 0.]), array([0., 1.]))\n",
      "оптимальная стратегия оброняющегося номер  1 оптимальная стратегия атакующего номер  2\n"
     ]
    },
    {
     "data": {
      "application/vnd.jupyter.widget-view+json": {
       "model_id": "54b58d3bad2440129019c6139789c975",
       "version_major": 2,
       "version_minor": 0
      },
      "text/plain": [
       "  0%|          | 0/50000 [00:00<?, ?it/s]"
      ]
     },
     "metadata": {},
     "output_type": "display_data"
    },
    {
     "name": "stdout",
     "output_type": "stream",
     "text": [
      "for s = 0.1 a = 5 sA =  1 sd = 2 Ei = 0.2\n",
      "Utility A = 20972.00000000165 utility D = -21024.26142777757\n",
      "equlibrium (array([1., 0., 0.]), array([0., 1.]))\n",
      "оптимальная стратегия оброняющегося номер  1 оптимальная стратегия атакующего номер  2\n"
     ]
    },
    {
     "data": {
      "application/vnd.jupyter.widget-view+json": {
       "model_id": "2b1dc0b8df6746dcafd1ef782b21a673",
       "version_major": 2,
       "version_minor": 0
      },
      "text/plain": [
       "  0%|          | 0/50000 [00:00<?, ?it/s]"
      ]
     },
     "metadata": {},
     "output_type": "display_data"
    },
    {
     "name": "stdout",
     "output_type": "stream",
     "text": [
      "for s = 0.1 a = 5 sA =  1 sd = 2 Ei = 0.3\n",
      "Utility A = 21201.580000001504 utility D = -21432.105810523968\n",
      "equlibrium (array([1., 0., 0.]), array([0., 1.]))\n",
      "оптимальная стратегия оброняющегося номер  1 оптимальная стратегия атакующего номер  2\n"
     ]
    },
    {
     "data": {
      "application/vnd.jupyter.widget-view+json": {
       "model_id": "60d02d75fa3b4dd69e37c38c850254c9",
       "version_major": 2,
       "version_minor": 0
      },
      "text/plain": [
       "  0%|          | 0/50000 [00:00<?, ?it/s]"
      ]
     },
     "metadata": {},
     "output_type": "display_data"
    },
    {
     "name": "stdout",
     "output_type": "stream",
     "text": [
      "for s = 0.1 a = 5 sA =  1 sd = 2 Ei = 0.4\n",
      "Utility A = 21036.75000000213 utility D = -21380.066546562593\n",
      "equlibrium (array([1., 0., 0.]), array([0., 1.]))\n",
      "оптимальная стратегия оброняющегося номер  1 оптимальная стратегия атакующего номер  2\n"
     ]
    },
    {
     "data": {
      "application/vnd.jupyter.widget-view+json": {
       "model_id": "2f4a2dc78828488099cfe82c00fe4750",
       "version_major": 2,
       "version_minor": 0
      },
      "text/plain": [
       "  0%|          | 0/50000 [00:00<?, ?it/s]"
      ]
     },
     "metadata": {},
     "output_type": "display_data"
    },
    {
     "name": "stdout",
     "output_type": "stream",
     "text": [
      "for s = 0.1 a = 5 sA =  1 sd = 2 Ei = 0.5\n",
      "Utility A = 20757.130000001875 utility D = -21142.804879721778\n",
      "equlibrium (array([1., 0., 0.]), array([0., 1.]))\n",
      "оптимальная стратегия оброняющегося номер  1 оптимальная стратегия атакующего номер  2\n"
     ]
    },
    {
     "data": {
      "application/vnd.jupyter.widget-view+json": {
       "model_id": "12670b63c3674979ad83de250ec89d3c",
       "version_major": 2,
       "version_minor": 0
      },
      "text/plain": [
       "  0%|          | 0/50000 [00:00<?, ?it/s]"
      ]
     },
     "metadata": {},
     "output_type": "display_data"
    },
    {
     "name": "stdout",
     "output_type": "stream",
     "text": [
      "for s = 0.1 a = 5 sA =  1 sd = 2 Ei = 0.6\n",
      "Utility A = 21083.12000000182 utility D = -21393.37742564606\n",
      "equlibrium (array([1., 0., 0.]), array([0., 1.]))\n",
      "оптимальная стратегия оброняющегося номер  1 оптимальная стратегия атакующего номер  2\n"
     ]
    },
    {
     "data": {
      "application/vnd.jupyter.widget-view+json": {
       "model_id": "238b1ddad4f9492dba4a29be6efb6cd2",
       "version_major": 2,
       "version_minor": 0
      },
      "text/plain": [
       "  0%|          | 0/50000 [00:00<?, ?it/s]"
      ]
     },
     "metadata": {},
     "output_type": "display_data"
    },
    {
     "name": "stdout",
     "output_type": "stream",
     "text": [
      "for s = 0.1 a = 5 sA =  1 sd = 2 Ei = 0.7\n",
      "Utility A = 20966.110000001587 utility D = -21320.8792146522\n",
      "equlibrium (array([1., 0., 0.]), array([0., 1.]))\n",
      "оптимальная стратегия оброняющегося номер  1 оптимальная стратегия атакующего номер  2\n"
     ]
    },
    {
     "data": {
      "application/vnd.jupyter.widget-view+json": {
       "model_id": "1279d2843ca04b83a45f804f8e34be0e",
       "version_major": 2,
       "version_minor": 0
      },
      "text/plain": [
       "  0%|          | 0/50000 [00:00<?, ?it/s]"
      ]
     },
     "metadata": {},
     "output_type": "display_data"
    },
    {
     "name": "stdout",
     "output_type": "stream",
     "text": [
      "for s = 0.1 a = 5 sA =  1 sd = 2 Ei = 0.8\n",
      "Utility A = 20993.390000002015 utility D = -21332.164385459462\n",
      "equlibrium (array([1., 0., 0.]), array([0., 1.]))\n",
      "оптимальная стратегия оброняющегося номер  1 оптимальная стратегия атакующего номер  2\n"
     ]
    },
    {
     "data": {
      "application/vnd.jupyter.widget-view+json": {
       "model_id": "4beabd0250334549bb2b4277c59cea2d",
       "version_major": 2,
       "version_minor": 0
      },
      "text/plain": [
       "  0%|          | 0/50000 [00:00<?, ?it/s]"
      ]
     },
     "metadata": {},
     "output_type": "display_data"
    },
    {
     "name": "stdout",
     "output_type": "stream",
     "text": [
      "for s = 0.1 a = 5 sA =  1 sd = 2 Ei = 0.9\n",
      "Utility A = 20855.08000000176 utility D = -21471.24307095221\n",
      "equlibrium (array([1., 0., 0.]), array([0., 1.]))\n",
      "оптимальная стратегия оброняющегося номер  1 оптимальная стратегия атакующего номер  2\n"
     ]
    },
    {
     "data": {
      "application/vnd.jupyter.widget-view+json": {
       "model_id": "e7b88596d9b646438cecd5ddca4a31e2",
       "version_major": 2,
       "version_minor": 0
      },
      "text/plain": [
       "  0%|          | 0/50000 [00:00<?, ?it/s]"
      ]
     },
     "metadata": {},
     "output_type": "display_data"
    },
    {
     "name": "stdout",
     "output_type": "stream",
     "text": [
      "for s = 0.1 a = 5 sA =  1 sd = 3 Ei = 0.1\n",
      "Utility A = 0 utility D = 0\n",
      "equlibrium (array([1., 0., 0.]), array([1., 0.]))\n",
      "оптимальная стратегия оброняющегося номер  1 оптимальная стратегия атакующего номер  1\n"
     ]
    },
    {
     "data": {
      "application/vnd.jupyter.widget-view+json": {
       "model_id": "7541eed0207e4310985918aba5f56961",
       "version_major": 2,
       "version_minor": 0
      },
      "text/plain": [
       "  0%|          | 0/50000 [00:00<?, ?it/s]"
      ]
     },
     "metadata": {},
     "output_type": "display_data"
    },
    {
     "name": "stdout",
     "output_type": "stream",
     "text": [
      "for s = 0.1 a = 5 sA =  1 sd = 3 Ei = 0.2\n",
      "Utility A = 0 utility D = 0\n",
      "equlibrium (array([1., 0., 0.]), array([1., 0.]))\n",
      "оптимальная стратегия оброняющегося номер  1 оптимальная стратегия атакующего номер  1\n"
     ]
    },
    {
     "data": {
      "application/vnd.jupyter.widget-view+json": {
       "model_id": "a1050a4c50d5471a9c5820737da46de5",
       "version_major": 2,
       "version_minor": 0
      },
      "text/plain": [
       "  0%|          | 0/50000 [00:00<?, ?it/s]"
      ]
     },
     "metadata": {},
     "output_type": "display_data"
    },
    {
     "name": "stdout",
     "output_type": "stream",
     "text": [
      "for s = 0.1 a = 5 sA =  1 sd = 3 Ei = 0.3\n",
      "Utility A = 0 utility D = 0\n",
      "equlibrium (array([1., 0., 0.]), array([1., 0.]))\n",
      "оптимальная стратегия оброняющегося номер  1 оптимальная стратегия атакующего номер  1\n"
     ]
    },
    {
     "data": {
      "application/vnd.jupyter.widget-view+json": {
       "model_id": "1b8ead3d995642a98f1395b20407f482",
       "version_major": 2,
       "version_minor": 0
      },
      "text/plain": [
       "  0%|          | 0/50000 [00:00<?, ?it/s]"
      ]
     },
     "metadata": {},
     "output_type": "display_data"
    },
    {
     "name": "stdout",
     "output_type": "stream",
     "text": [
      "for s = 0.1 a = 5 sA =  1 sd = 3 Ei = 0.4\n",
      "Utility A = 0 utility D = 0\n",
      "equlibrium (array([1., 0., 0.]), array([1., 0.]))\n",
      "оптимальная стратегия оброняющегося номер  1 оптимальная стратегия атакующего номер  1\n"
     ]
    },
    {
     "data": {
      "application/vnd.jupyter.widget-view+json": {
       "model_id": "f53b8840bf2f4c72b79b213c892df115",
       "version_major": 2,
       "version_minor": 0
      },
      "text/plain": [
       "  0%|          | 0/50000 [00:00<?, ?it/s]"
      ]
     },
     "metadata": {},
     "output_type": "display_data"
    },
    {
     "name": "stdout",
     "output_type": "stream",
     "text": [
      "for s = 0.1 a = 5 sA =  1 sd = 3 Ei = 0.5\n",
      "Utility A = 0 utility D = 0\n",
      "equlibrium (array([1., 0., 0.]), array([1., 0.]))\n",
      "оптимальная стратегия оброняющегося номер  1 оптимальная стратегия атакующего номер  1\n"
     ]
    },
    {
     "data": {
      "application/vnd.jupyter.widget-view+json": {
       "model_id": "9dab4b44e2654ba08afdf7d8de82f330",
       "version_major": 2,
       "version_minor": 0
      },
      "text/plain": [
       "  0%|          | 0/50000 [00:00<?, ?it/s]"
      ]
     },
     "metadata": {},
     "output_type": "display_data"
    },
    {
     "name": "stdout",
     "output_type": "stream",
     "text": [
      "for s = 0.1 a = 5 sA =  1 sd = 3 Ei = 0.6\n",
      "Utility A = 0 utility D = 0\n",
      "equlibrium (array([1., 0., 0.]), array([1., 0.]))\n",
      "оптимальная стратегия оброняющегося номер  1 оптимальная стратегия атакующего номер  1\n"
     ]
    },
    {
     "data": {
      "application/vnd.jupyter.widget-view+json": {
       "model_id": "6e772c52c38d490f950bf03fe1873b7b",
       "version_major": 2,
       "version_minor": 0
      },
      "text/plain": [
       "  0%|          | 0/50000 [00:00<?, ?it/s]"
      ]
     },
     "metadata": {},
     "output_type": "display_data"
    },
    {
     "name": "stdout",
     "output_type": "stream",
     "text": [
      "for s = 0.1 a = 5 sA =  1 sd = 3 Ei = 0.7\n",
      "Utility A = 0 utility D = 0\n",
      "equlibrium (array([1., 0., 0.]), array([1., 0.]))\n",
      "оптимальная стратегия оброняющегося номер  1 оптимальная стратегия атакующего номер  1\n"
     ]
    },
    {
     "data": {
      "application/vnd.jupyter.widget-view+json": {
       "model_id": "764631e1ca9140a694c4cc971b6fbf86",
       "version_major": 2,
       "version_minor": 0
      },
      "text/plain": [
       "  0%|          | 0/50000 [00:00<?, ?it/s]"
      ]
     },
     "metadata": {},
     "output_type": "display_data"
    },
    {
     "name": "stdout",
     "output_type": "stream",
     "text": [
      "for s = 0.1 a = 5 sA =  1 sd = 3 Ei = 0.8\n",
      "Utility A = 0 utility D = 0\n",
      "equlibrium (array([1., 0., 0.]), array([1., 0.]))\n",
      "оптимальная стратегия оброняющегося номер  1 оптимальная стратегия атакующего номер  1\n"
     ]
    },
    {
     "data": {
      "application/vnd.jupyter.widget-view+json": {
       "model_id": "4eb7f35beb794316b224b36d320c6a1b",
       "version_major": 2,
       "version_minor": 0
      },
      "text/plain": [
       "  0%|          | 0/50000 [00:00<?, ?it/s]"
      ]
     },
     "metadata": {},
     "output_type": "display_data"
    },
    {
     "name": "stdout",
     "output_type": "stream",
     "text": [
      "for s = 0.1 a = 5 sA =  1 sd = 3 Ei = 0.9\n",
      "Utility A = 0 utility D = 0\n",
      "equlibrium (array([1., 0., 0.]), array([1., 0.]))\n",
      "оптимальная стратегия оброняющегося номер  1 оптимальная стратегия атакующего номер  1\n"
     ]
    },
    {
     "data": {
      "application/vnd.jupyter.widget-view+json": {
       "model_id": "a0b90a930740480e8d62c1ab9e30c066",
       "version_major": 2,
       "version_minor": 0
      },
      "text/plain": [
       "  0%|          | 0/50000 [00:00<?, ?it/s]"
      ]
     },
     "metadata": {},
     "output_type": "display_data"
    },
    {
     "name": "stdout",
     "output_type": "stream",
     "text": [
      "for s = 0.1 a = 5 sA =  2 sd = 1 Ei = 0.1\n",
      "Utility A = 1964.8199999996625 utility D = -1970.8628767507532\n",
      "equlibrium (array([1., 0., 0.]), array([1., 0.]))\n",
      "оптимальная стратегия оброняющегося номер  1 оптимальная стратегия атакующего номер  1\n"
     ]
    },
    {
     "data": {
      "application/vnd.jupyter.widget-view+json": {
       "model_id": "a7a557076d7c45c2bc1f6eda4a5ce2d2",
       "version_major": 2,
       "version_minor": 0
      },
      "text/plain": [
       "  0%|          | 0/50000 [00:00<?, ?it/s]"
      ]
     },
     "metadata": {},
     "output_type": "display_data"
    },
    {
     "name": "stdout",
     "output_type": "stream",
     "text": [
      "for s = 0.1 a = 5 sA =  2 sd = 1 Ei = 0.2\n",
      "Utility A = 1973.4699999996662 utility D = -2009.2956901097884\n",
      "equlibrium (array([1., 0., 0.]), array([1., 0.]))\n",
      "оптимальная стратегия оброняющегося номер  1 оптимальная стратегия атакующего номер  1\n"
     ]
    },
    {
     "data": {
      "application/vnd.jupyter.widget-view+json": {
       "model_id": "20d1aeb015d54dbaa4f1e0d28362ca82",
       "version_major": 2,
       "version_minor": 0
      },
      "text/plain": [
       "  0%|          | 0/50000 [00:00<?, ?it/s]"
      ]
     },
     "metadata": {},
     "output_type": "display_data"
    },
    {
     "name": "stdout",
     "output_type": "stream",
     "text": [
      "for s = 0.1 a = 5 sA =  2 sd = 1 Ei = 0.3\n",
      "Utility A = 1986.1099999996857 utility D = -2176.0826430013262\n",
      "equlibrium (array([1., 0., 0.]), array([1., 0.]))\n",
      "оптимальная стратегия оброняющегося номер  1 оптимальная стратегия атакующего номер  1\n"
     ]
    },
    {
     "data": {
      "application/vnd.jupyter.widget-view+json": {
       "model_id": "32b11b9d6ad8475d8e8ac49a0d676c27",
       "version_major": 2,
       "version_minor": 0
      },
      "text/plain": [
       "  0%|          | 0/50000 [00:00<?, ?it/s]"
      ]
     },
     "metadata": {},
     "output_type": "display_data"
    },
    {
     "name": "stdout",
     "output_type": "stream",
     "text": [
      "for s = 0.1 a = 5 sA =  2 sd = 1 Ei = 0.4\n",
      "Utility A = 1979.7299999996685 utility D = -2241.6407904759776\n",
      "equlibrium (array([1., 0., 0.]), array([1., 0.]))\n",
      "оптимальная стратегия оброняющегося номер  1 оптимальная стратегия атакующего номер  1\n"
     ]
    },
    {
     "data": {
      "application/vnd.jupyter.widget-view+json": {
       "model_id": "23752fdd31854814a6b7cfe4c2d3433b",
       "version_major": 2,
       "version_minor": 0
      },
      "text/plain": [
       "  0%|          | 0/50000 [00:00<?, ?it/s]"
      ]
     },
     "metadata": {},
     "output_type": "display_data"
    },
    {
     "name": "stdout",
     "output_type": "stream",
     "text": [
      "for s = 0.1 a = 5 sA =  2 sd = 1 Ei = 0.5\n",
      "Utility A = 1978.5799999996593 utility D = -2131.3510666663374\n",
      "equlibrium (array([1., 0., 0.]), array([1., 0.]))\n",
      "оптимальная стратегия оброняющегося номер  1 оптимальная стратегия атакующего номер  1\n"
     ]
    },
    {
     "data": {
      "application/vnd.jupyter.widget-view+json": {
       "model_id": "032e954a9e29445baed0c7d4f906db7e",
       "version_major": 2,
       "version_minor": 0
      },
      "text/plain": [
       "  0%|          | 0/50000 [00:00<?, ?it/s]"
      ]
     },
     "metadata": {},
     "output_type": "display_data"
    },
    {
     "name": "stdout",
     "output_type": "stream",
     "text": [
      "for s = 0.1 a = 5 sA =  2 sd = 1 Ei = 0.6\n",
      "Utility A = 1979.5799999996648 utility D = -2101.4877999996834\n",
      "equlibrium (array([1., 0., 0.]), array([1., 0.]))\n",
      "оптимальная стратегия оброняющегося номер  1 оптимальная стратегия атакующего номер  1\n"
     ]
    },
    {
     "data": {
      "application/vnd.jupyter.widget-view+json": {
       "model_id": "bc0bc3785c534562b03766e29369cf58",
       "version_major": 2,
       "version_minor": 0
      },
      "text/plain": [
       "  0%|          | 0/50000 [00:00<?, ?it/s]"
      ]
     },
     "metadata": {},
     "output_type": "display_data"
    },
    {
     "name": "stdout",
     "output_type": "stream",
     "text": [
      "for s = 0.1 a = 5 sA =  2 sd = 1 Ei = 0.7\n",
      "Utility A = 2016.0699999996789 utility D = -2016.0699999996789\n",
      "equlibrium (array([1., 0., 0.]), array([1., 0.]))\n",
      "оптимальная стратегия оброняющегося номер  1 оптимальная стратегия атакующего номер  1\n"
     ]
    },
    {
     "data": {
      "application/vnd.jupyter.widget-view+json": {
       "model_id": "08c5940cb53c44a18d831771d00d2483",
       "version_major": 2,
       "version_minor": 0
      },
      "text/plain": [
       "  0%|          | 0/50000 [00:00<?, ?it/s]"
      ]
     },
     "metadata": {},
     "output_type": "display_data"
    },
    {
     "name": "stdout",
     "output_type": "stream",
     "text": [
      "for s = 0.1 a = 5 sA =  2 sd = 1 Ei = 0.8\n",
      "Utility A = 1980.5499999996657 utility D = -1980.5499999996657\n",
      "equlibrium (array([1., 0., 0.]), array([1., 0.]))\n",
      "оптимальная стратегия оброняющегося номер  1 оптимальная стратегия атакующего номер  1\n"
     ]
    },
    {
     "data": {
      "application/vnd.jupyter.widget-view+json": {
       "model_id": "422b1f2c3ecf40a9a8d8447608505ca1",
       "version_major": 2,
       "version_minor": 0
      },
      "text/plain": [
       "  0%|          | 0/50000 [00:00<?, ?it/s]"
      ]
     },
     "metadata": {},
     "output_type": "display_data"
    },
    {
     "name": "stdout",
     "output_type": "stream",
     "text": [
      "for s = 0.1 a = 5 sA =  2 sd = 1 Ei = 0.9\n",
      "Utility A = 1982.6099999996652 utility D = -1982.6099999996652\n",
      "equlibrium (array([1., 0., 0.]), array([1., 0.]))\n",
      "оптимальная стратегия оброняющегося номер  1 оптимальная стратегия атакующего номер  1\n"
     ]
    },
    {
     "data": {
      "application/vnd.jupyter.widget-view+json": {
       "model_id": "1aa541dff1d7491197a18800918800e4",
       "version_major": 2,
       "version_minor": 0
      },
      "text/plain": [
       "  0%|          | 0/50000 [00:00<?, ?it/s]"
      ]
     },
     "metadata": {},
     "output_type": "display_data"
    },
    {
     "name": "stdout",
     "output_type": "stream",
     "text": [
      "for s = 0.1 a = 5 sA =  2 sd = 2 Ei = 0.1\n",
      "Utility A = 2004.7999999996455 utility D = -2047.9840000001539\n",
      "equlibrium (array([1., 0., 0.]), array([1., 0.]))\n",
      "оптимальная стратегия оброняющегося номер  1 оптимальная стратегия атакующего номер  1\n"
     ]
    },
    {
     "data": {
      "application/vnd.jupyter.widget-view+json": {
       "model_id": "a00c093c924543d9b36ef41da7bc5374",
       "version_major": 2,
       "version_minor": 0
      },
      "text/plain": [
       "  0%|          | 0/50000 [00:00<?, ?it/s]"
      ]
     },
     "metadata": {},
     "output_type": "display_data"
    },
    {
     "name": "stdout",
     "output_type": "stream",
     "text": [
      "for s = 0.1 a = 5 sA =  2 sd = 2 Ei = 0.2\n",
      "Utility A = 1985.0799999996723 utility D = -1985.0799999996723\n",
      "equlibrium (array([1., 0., 0.]), array([1., 0.]))\n",
      "оптимальная стратегия оброняющегося номер  1 оптимальная стратегия атакующего номер  1\n"
     ]
    },
    {
     "data": {
      "application/vnd.jupyter.widget-view+json": {
       "model_id": "36da84d60d8349c488172e55ed52a231",
       "version_major": 2,
       "version_minor": 0
      },
      "text/plain": [
       "  0%|          | 0/50000 [00:00<?, ?it/s]"
      ]
     },
     "metadata": {},
     "output_type": "display_data"
    },
    {
     "name": "stdout",
     "output_type": "stream",
     "text": [
      "for s = 0.1 a = 5 sA =  2 sd = 2 Ei = 0.3\n",
      "Utility A = 1992.5299999996578 utility D = -1992.5299999996578\n",
      "equlibrium (array([1., 0., 0.]), array([1., 0.]))\n",
      "оптимальная стратегия оброняющегося номер  1 оптимальная стратегия атакующего номер  1\n"
     ]
    },
    {
     "data": {
      "application/vnd.jupyter.widget-view+json": {
       "model_id": "4347e0da4fca47af9c7ceec4e500d9e7",
       "version_major": 2,
       "version_minor": 0
      },
      "text/plain": [
       "  0%|          | 0/50000 [00:00<?, ?it/s]"
      ]
     },
     "metadata": {},
     "output_type": "display_data"
    },
    {
     "name": "stdout",
     "output_type": "stream",
     "text": [
      "for s = 0.1 a = 5 sA =  2 sd = 2 Ei = 0.4\n",
      "Utility A = 1981.9099999996508 utility D = -1981.9099999996508\n",
      "equlibrium (array([1., 0., 0.]), array([1., 0.]))\n",
      "оптимальная стратегия оброняющегося номер  1 оптимальная стратегия атакующего номер  1\n"
     ]
    },
    {
     "data": {
      "application/vnd.jupyter.widget-view+json": {
       "model_id": "a6a976c2b58440cfa4b3a62a2d016ff8",
       "version_major": 2,
       "version_minor": 0
      },
      "text/plain": [
       "  0%|          | 0/50000 [00:00<?, ?it/s]"
      ]
     },
     "metadata": {},
     "output_type": "display_data"
    },
    {
     "name": "stdout",
     "output_type": "stream",
     "text": [
      "for s = 0.1 a = 5 sA =  2 sd = 2 Ei = 0.5\n",
      "Utility A = 1988.259999999686 utility D = -1988.259999999686\n",
      "equlibrium (array([1., 0., 0.]), array([1., 0.]))\n",
      "оптимальная стратегия оброняющегося номер  1 оптимальная стратегия атакующего номер  1\n"
     ]
    },
    {
     "data": {
      "application/vnd.jupyter.widget-view+json": {
       "model_id": "d037f963a23d4a0f9d802b070bd298eb",
       "version_major": 2,
       "version_minor": 0
      },
      "text/plain": [
       "  0%|          | 0/50000 [00:00<?, ?it/s]"
      ]
     },
     "metadata": {},
     "output_type": "display_data"
    },
    {
     "name": "stdout",
     "output_type": "stream",
     "text": [
      "for s = 0.1 a = 5 sA =  2 sd = 2 Ei = 0.6\n",
      "Utility A = 1977.6199999996732 utility D = -1977.6199999996732\n",
      "equlibrium (array([1., 0., 0.]), array([1., 0.]))\n",
      "оптимальная стратегия оброняющегося номер  1 оптимальная стратегия атакующего номер  1\n"
     ]
    },
    {
     "data": {
      "application/vnd.jupyter.widget-view+json": {
       "model_id": "05019ef5e7274b509d2cd48d18fb6fef",
       "version_major": 2,
       "version_minor": 0
      },
      "text/plain": [
       "  0%|          | 0/50000 [00:00<?, ?it/s]"
      ]
     },
     "metadata": {},
     "output_type": "display_data"
    },
    {
     "name": "stdout",
     "output_type": "stream",
     "text": [
      "for s = 0.1 a = 5 sA =  2 sd = 2 Ei = 0.7\n",
      "Utility A = 1981.5999999996575 utility D = -1981.5999999996575\n",
      "equlibrium (array([1., 0., 0.]), array([1., 0.]))\n",
      "оптимальная стратегия оброняющегося номер  1 оптимальная стратегия атакующего номер  1\n"
     ]
    },
    {
     "data": {
      "application/vnd.jupyter.widget-view+json": {
       "model_id": "c3ecc0e3630b48a5b4af5d842ee6fb3a",
       "version_major": 2,
       "version_minor": 0
      },
      "text/plain": [
       "  0%|          | 0/50000 [00:00<?, ?it/s]"
      ]
     },
     "metadata": {},
     "output_type": "display_data"
    },
    {
     "name": "stdout",
     "output_type": "stream",
     "text": [
      "for s = 0.1 a = 5 sA =  2 sd = 2 Ei = 0.8\n",
      "Utility A = 1982.6999999996501 utility D = -1982.6999999996501\n",
      "equlibrium (array([1., 0., 0.]), array([1., 0.]))\n",
      "оптимальная стратегия оброняющегося номер  1 оптимальная стратегия атакующего номер  1\n"
     ]
    },
    {
     "data": {
      "application/vnd.jupyter.widget-view+json": {
       "model_id": "9823409794fb4f059a7a6a9708e88d43",
       "version_major": 2,
       "version_minor": 0
      },
      "text/plain": [
       "  0%|          | 0/50000 [00:00<?, ?it/s]"
      ]
     },
     "metadata": {},
     "output_type": "display_data"
    },
    {
     "name": "stdout",
     "output_type": "stream",
     "text": [
      "for s = 0.1 a = 5 sA =  2 sd = 2 Ei = 0.9\n",
      "Utility A = 1988.7099999996738 utility D = -1988.7099999996738\n",
      "equlibrium (array([1., 0., 0.]), array([1., 0.]))\n",
      "оптимальная стратегия оброняющегося номер  1 оптимальная стратегия атакующего номер  1\n"
     ]
    },
    {
     "data": {
      "application/vnd.jupyter.widget-view+json": {
       "model_id": "9369872bd2c8461e889ffbc1b51263c8",
       "version_major": 2,
       "version_minor": 0
      },
      "text/plain": [
       "  0%|          | 0/50000 [00:00<?, ?it/s]"
      ]
     },
     "metadata": {},
     "output_type": "display_data"
    },
    {
     "name": "stdout",
     "output_type": "stream",
     "text": [
      "for s = 0.1 a = 5 sA =  2 sd = 3 Ei = 0.1\n",
      "Utility A = 1976.3999999996588 utility D = -1976.3999999996588\n",
      "equlibrium (array([1., 0., 0.]), array([1., 0.]))\n",
      "оптимальная стратегия оброняющегося номер  1 оптимальная стратегия атакующего номер  1\n"
     ]
    },
    {
     "data": {
      "application/vnd.jupyter.widget-view+json": {
       "model_id": "a9ed51591e7747bcb867e2d8e74e4b65",
       "version_major": 2,
       "version_minor": 0
      },
      "text/plain": [
       "  0%|          | 0/50000 [00:00<?, ?it/s]"
      ]
     },
     "metadata": {},
     "output_type": "display_data"
    },
    {
     "name": "stdout",
     "output_type": "stream",
     "text": [
      "for s = 0.1 a = 5 sA =  2 sd = 3 Ei = 0.2\n",
      "Utility A = 1982.0799999996805 utility D = -1982.0799999996805\n",
      "equlibrium (array([1., 0., 0.]), array([1., 0.]))\n",
      "оптимальная стратегия оброняющегося номер  1 оптимальная стратегия атакующего номер  1\n"
     ]
    },
    {
     "data": {
      "application/vnd.jupyter.widget-view+json": {
       "model_id": "a7dc46551d424e119a4078bc73b817e6",
       "version_major": 2,
       "version_minor": 0
      },
      "text/plain": [
       "  0%|          | 0/50000 [00:00<?, ?it/s]"
      ]
     },
     "metadata": {},
     "output_type": "display_data"
    },
    {
     "name": "stdout",
     "output_type": "stream",
     "text": [
      "for s = 0.1 a = 5 sA =  2 sd = 3 Ei = 0.3\n",
      "Utility A = 1959.949999999669 utility D = -1959.949999999669\n",
      "equlibrium (array([1., 0., 0.]), array([1., 0.]))\n",
      "оптимальная стратегия оброняющегося номер  1 оптимальная стратегия атакующего номер  1\n"
     ]
    },
    {
     "data": {
      "application/vnd.jupyter.widget-view+json": {
       "model_id": "a07117b6fddd4c3f9deaac5061ef3e0f",
       "version_major": 2,
       "version_minor": 0
      },
      "text/plain": [
       "  0%|          | 0/50000 [00:00<?, ?it/s]"
      ]
     },
     "metadata": {},
     "output_type": "display_data"
    },
    {
     "name": "stdout",
     "output_type": "stream",
     "text": [
      "for s = 0.1 a = 5 sA =  2 sd = 3 Ei = 0.4\n",
      "Utility A = 1985.7399999996735 utility D = -1985.7399999996735\n",
      "equlibrium (array([1., 0., 0.]), array([1., 0.]))\n",
      "оптимальная стратегия оброняющегося номер  1 оптимальная стратегия атакующего номер  1\n"
     ]
    },
    {
     "data": {
      "application/vnd.jupyter.widget-view+json": {
       "model_id": "9ade90cbad3946aebb277d34e128fc3e",
       "version_major": 2,
       "version_minor": 0
      },
      "text/plain": [
       "  0%|          | 0/50000 [00:00<?, ?it/s]"
      ]
     },
     "metadata": {},
     "output_type": "display_data"
    },
    {
     "name": "stdout",
     "output_type": "stream",
     "text": [
      "for s = 0.1 a = 5 sA =  2 sd = 3 Ei = 0.5\n",
      "Utility A = 1988.3699999996718 utility D = -1988.3699999996718\n",
      "equlibrium (array([1., 0., 0.]), array([1., 0.]))\n",
      "оптимальная стратегия оброняющегося номер  1 оптимальная стратегия атакующего номер  1\n"
     ]
    },
    {
     "data": {
      "application/vnd.jupyter.widget-view+json": {
       "model_id": "efdcdc03e11543faa0b003b3fb3c71fe",
       "version_major": 2,
       "version_minor": 0
      },
      "text/plain": [
       "  0%|          | 0/50000 [00:00<?, ?it/s]"
      ]
     },
     "metadata": {},
     "output_type": "display_data"
    },
    {
     "name": "stdout",
     "output_type": "stream",
     "text": [
      "for s = 0.1 a = 5 sA =  2 sd = 3 Ei = 0.6\n",
      "Utility A = 1978.52999999967 utility D = -1978.52999999967\n",
      "equlibrium (array([1., 0., 0.]), array([1., 0.]))\n",
      "оптимальная стратегия оброняющегося номер  1 оптимальная стратегия атакующего номер  1\n"
     ]
    },
    {
     "data": {
      "application/vnd.jupyter.widget-view+json": {
       "model_id": "138d871e198e4da5981ac08eff3c2536",
       "version_major": 2,
       "version_minor": 0
      },
      "text/plain": [
       "  0%|          | 0/50000 [00:00<?, ?it/s]"
      ]
     },
     "metadata": {},
     "output_type": "display_data"
    },
    {
     "name": "stdout",
     "output_type": "stream",
     "text": [
      "for s = 0.1 a = 5 sA =  2 sd = 3 Ei = 0.7\n",
      "Utility A = 1988.3399999996789 utility D = -1988.3399999996789\n",
      "equlibrium (array([1., 0., 0.]), array([1., 0.]))\n",
      "оптимальная стратегия оброняющегося номер  1 оптимальная стратегия атакующего номер  1\n"
     ]
    },
    {
     "data": {
      "application/vnd.jupyter.widget-view+json": {
       "model_id": "193ec09f50b54f4e97cb92ecaf292fb4",
       "version_major": 2,
       "version_minor": 0
      },
      "text/plain": [
       "  0%|          | 0/50000 [00:00<?, ?it/s]"
      ]
     },
     "metadata": {},
     "output_type": "display_data"
    },
    {
     "name": "stdout",
     "output_type": "stream",
     "text": [
      "for s = 0.1 a = 5 sA =  2 sd = 3 Ei = 0.8\n",
      "Utility A = 1980.1499999996788 utility D = -1980.1499999996788\n",
      "equlibrium (array([1., 0., 0.]), array([1., 0.]))\n",
      "оптимальная стратегия оброняющегося номер  1 оптимальная стратегия атакующего номер  1\n"
     ]
    },
    {
     "data": {
      "application/vnd.jupyter.widget-view+json": {
       "model_id": "7e39fb95ce424a1c944652944298f654",
       "version_major": 2,
       "version_minor": 0
      },
      "text/plain": [
       "  0%|          | 0/50000 [00:00<?, ?it/s]"
      ]
     },
     "metadata": {},
     "output_type": "display_data"
    },
    {
     "name": "stdout",
     "output_type": "stream",
     "text": [
      "for s = 0.1 a = 5 sA =  2 sd = 3 Ei = 0.9\n",
      "Utility A = 1974.3799999996534 utility D = -1974.3799999996534\n",
      "equlibrium (array([1., 0., 0.]), array([1., 0.]))\n",
      "оптимальная стратегия оброняющегося номер  1 оптимальная стратегия атакующего номер  1\n"
     ]
    },
    {
     "data": {
      "application/vnd.jupyter.widget-view+json": {
       "model_id": "da107931140340bb89e52aa348600de8",
       "version_major": 2,
       "version_minor": 0
      },
      "text/plain": [
       "  0%|          | 0/50000 [00:00<?, ?it/s]"
      ]
     },
     "metadata": {},
     "output_type": "display_data"
    },
    {
     "name": "stdout",
     "output_type": "stream",
     "text": [
      "for s = 0.1 a = 6 sA =  1 sd = 1 Ei = 0.1\n",
      "Utility A = 20412.67000000148 utility D = -21035.297500001587\n",
      "equlibrium (array([1., 0., 0.]), array([0., 1.]))\n",
      "оптимальная стратегия оброняющегося номер  1 оптимальная стратегия атакующего номер  2\n"
     ]
    },
    {
     "data": {
      "application/vnd.jupyter.widget-view+json": {
       "model_id": "bec62d7f5be6465cb1c99baad6a78044",
       "version_major": 2,
       "version_minor": 0
      },
      "text/plain": [
       "  0%|          | 0/50000 [00:00<?, ?it/s]"
      ]
     },
     "metadata": {},
     "output_type": "display_data"
    },
    {
     "name": "stdout",
     "output_type": "stream",
     "text": [
      "for s = 0.1 a = 6 sA =  1 sd = 1 Ei = 0.2\n",
      "Utility A = 20447.26000000111 utility D = -21020.170000001664\n",
      "equlibrium (array([1., 0., 0.]), array([0., 1.]))\n",
      "оптимальная стратегия оброняющегося номер  1 оптимальная стратегия атакующего номер  2\n"
     ]
    },
    {
     "data": {
      "application/vnd.jupyter.widget-view+json": {
       "model_id": "2320e95d2e904e82afc2619da13d596b",
       "version_major": 2,
       "version_minor": 0
      },
      "text/plain": [
       "  0%|          | 0/50000 [00:00<?, ?it/s]"
      ]
     },
     "metadata": {},
     "output_type": "display_data"
    },
    {
     "name": "stdout",
     "output_type": "stream",
     "text": [
      "for s = 0.1 a = 6 sA =  1 sd = 1 Ei = 0.3\n",
      "Utility A = 20315.88000000132 utility D = -20880.960000001825\n",
      "equlibrium (array([1., 0., 0.]), array([0., 1.]))\n",
      "оптимальная стратегия оброняющегося номер  1 оптимальная стратегия атакующего номер  2\n"
     ]
    },
    {
     "data": {
      "application/vnd.jupyter.widget-view+json": {
       "model_id": "c7b9299d253c43cb844e386f22decf32",
       "version_major": 2,
       "version_minor": 0
      },
      "text/plain": [
       "  0%|          | 0/50000 [00:00<?, ?it/s]"
      ]
     },
     "metadata": {},
     "output_type": "display_data"
    },
    {
     "name": "stdout",
     "output_type": "stream",
     "text": [
      "for s = 0.1 a = 6 sA =  1 sd = 1 Ei = 0.4\n",
      "Utility A = 20341.63000000124 utility D = -20929.830000001813\n",
      "equlibrium (array([1., 0., 0.]), array([0., 1.]))\n",
      "оптимальная стратегия оброняющегося номер  1 оптимальная стратегия атакующего номер  2\n"
     ]
    },
    {
     "data": {
      "application/vnd.jupyter.widget-view+json": {
       "model_id": "4412147f20304965b7592b6fa7c976e5",
       "version_major": 2,
       "version_minor": 0
      },
      "text/plain": [
       "  0%|          | 0/50000 [00:00<?, ?it/s]"
      ]
     },
     "metadata": {},
     "output_type": "display_data"
    },
    {
     "name": "stdout",
     "output_type": "stream",
     "text": [
      "for s = 0.1 a = 6 sA =  1 sd = 1 Ei = 0.5\n",
      "Utility A = 20361.80000000126 utility D = -20936.780000001952\n",
      "equlibrium (array([1., 0., 0.]), array([0., 1.]))\n",
      "оптимальная стратегия оброняющегося номер  1 оптимальная стратегия атакующего номер  2\n"
     ]
    },
    {
     "data": {
      "application/vnd.jupyter.widget-view+json": {
       "model_id": "ede6ecc98d1a4daf87decdda5ef643a3",
       "version_major": 2,
       "version_minor": 0
      },
      "text/plain": [
       "  0%|          | 0/50000 [00:00<?, ?it/s]"
      ]
     },
     "metadata": {},
     "output_type": "display_data"
    },
    {
     "name": "stdout",
     "output_type": "stream",
     "text": [
      "for s = 0.1 a = 6 sA =  1 sd = 1 Ei = 0.6\n",
      "Utility A = 20583.69000000124 utility D = -21138.86000000179\n",
      "equlibrium (array([1., 0., 0.]), array([0., 1.]))\n",
      "оптимальная стратегия оброняющегося номер  1 оптимальная стратегия атакующего номер  2\n"
     ]
    },
    {
     "data": {
      "application/vnd.jupyter.widget-view+json": {
       "model_id": "087eb08d354f433f8f4cb665faae6c88",
       "version_major": 2,
       "version_minor": 0
      },
      "text/plain": [
       "  0%|          | 0/50000 [00:00<?, ?it/s]"
      ]
     },
     "metadata": {},
     "output_type": "display_data"
    },
    {
     "name": "stdout",
     "output_type": "stream",
     "text": [
      "for s = 0.1 a = 6 sA =  1 sd = 1 Ei = 0.7\n",
      "Utility A = 20514.590000001263 utility D = -21086.020000001834\n",
      "equlibrium (array([1., 0., 0.]), array([0., 1.]))\n",
      "оптимальная стратегия оброняющегося номер  1 оптимальная стратегия атакующего номер  2\n"
     ]
    },
    {
     "data": {
      "application/vnd.jupyter.widget-view+json": {
       "model_id": "e0178d34dea24d519b9cfb7a3b5cb0d0",
       "version_major": 2,
       "version_minor": 0
      },
      "text/plain": [
       "  0%|          | 0/50000 [00:00<?, ?it/s]"
      ]
     },
     "metadata": {},
     "output_type": "display_data"
    },
    {
     "name": "stdout",
     "output_type": "stream",
     "text": [
      "for s = 0.1 a = 6 sA =  1 sd = 1 Ei = 0.8\n",
      "Utility A = 20604.72000000126 utility D = -21172.060000001857\n",
      "equlibrium (array([1., 0., 0.]), array([0., 1.]))\n",
      "оптимальная стратегия оброняющегося номер  1 оптимальная стратегия атакующего номер  2\n"
     ]
    },
    {
     "data": {
      "application/vnd.jupyter.widget-view+json": {
       "model_id": "37a24b227924409c939136c16b91f785",
       "version_major": 2,
       "version_minor": 0
      },
      "text/plain": [
       "  0%|          | 0/50000 [00:00<?, ?it/s]"
      ]
     },
     "metadata": {},
     "output_type": "display_data"
    },
    {
     "name": "stdout",
     "output_type": "stream",
     "text": [
      "for s = 0.1 a = 6 sA =  1 sd = 1 Ei = 0.9\n",
      "Utility A = 20229.93000000128 utility D = -20806.350000001876\n",
      "equlibrium (array([1., 0., 0.]), array([0., 1.]))\n",
      "оптимальная стратегия оброняющегося номер  1 оптимальная стратегия атакующего номер  2\n"
     ]
    },
    {
     "data": {
      "application/vnd.jupyter.widget-view+json": {
       "model_id": "3b0cfb9966ca41f5b7bdd1debbc35216",
       "version_major": 2,
       "version_minor": 0
      },
      "text/plain": [
       "  0%|          | 0/50000 [00:00<?, ?it/s]"
      ]
     },
     "metadata": {},
     "output_type": "display_data"
    },
    {
     "name": "stdout",
     "output_type": "stream",
     "text": [
      "for s = 0.1 a = 6 sA =  1 sd = 2 Ei = 0.1\n",
      "Utility A = 20872.49000000172 utility D = -20882.85067163664\n",
      "equlibrium (array([1., 0., 0.]), array([0., 1.]))\n",
      "оптимальная стратегия оброняющегося номер  1 оптимальная стратегия атакующего номер  2\n"
     ]
    },
    {
     "data": {
      "application/vnd.jupyter.widget-view+json": {
       "model_id": "7a78563d7c2b48e783d1cc0d84ae1875",
       "version_major": 2,
       "version_minor": 0
      },
      "text/plain": [
       "  0%|          | 0/50000 [00:00<?, ?it/s]"
      ]
     },
     "metadata": {},
     "output_type": "display_data"
    },
    {
     "name": "stdout",
     "output_type": "stream",
     "text": [
      "for s = 0.1 a = 6 sA =  1 sd = 2 Ei = 0.2\n",
      "Utility A = 20931.570000001826 utility D = -20994.594059187468\n",
      "equlibrium (array([1., 0., 0.]), array([0., 1.]))\n",
      "оптимальная стратегия оброняющегося номер  1 оптимальная стратегия атакующего номер  2\n"
     ]
    },
    {
     "data": {
      "application/vnd.jupyter.widget-view+json": {
       "model_id": "afa3238a91c34409a645baa074774fe7",
       "version_major": 2,
       "version_minor": 0
      },
      "text/plain": [
       "  0%|          | 0/50000 [00:00<?, ?it/s]"
      ]
     },
     "metadata": {},
     "output_type": "display_data"
    },
    {
     "name": "stdout",
     "output_type": "stream",
     "text": [
      "for s = 0.1 a = 6 sA =  1 sd = 2 Ei = 0.3\n",
      "Utility A = 20934.64000000171 utility D = -21136.06461884361\n",
      "equlibrium (array([1., 0., 0.]), array([0., 1.]))\n",
      "оптимальная стратегия оброняющегося номер  1 оптимальная стратегия атакующего номер  2\n"
     ]
    },
    {
     "data": {
      "application/vnd.jupyter.widget-view+json": {
       "model_id": "417681f4ca2540f5a4996b718dd986c9",
       "version_major": 2,
       "version_minor": 0
      },
      "text/plain": [
       "  0%|          | 0/50000 [00:00<?, ?it/s]"
      ]
     },
     "metadata": {},
     "output_type": "display_data"
    },
    {
     "name": "stdout",
     "output_type": "stream",
     "text": [
      "for s = 0.1 a = 6 sA =  1 sd = 2 Ei = 0.4\n",
      "Utility A = 21072.960000002 utility D = -21394.302308181737\n",
      "equlibrium (array([1., 0., 0.]), array([0., 1.]))\n",
      "оптимальная стратегия оброняющегося номер  1 оптимальная стратегия атакующего номер  2\n"
     ]
    },
    {
     "data": {
      "application/vnd.jupyter.widget-view+json": {
       "model_id": "749ad7c222354b8bb3795f12e9a818f8",
       "version_major": 2,
       "version_minor": 0
      },
      "text/plain": [
       "  0%|          | 0/50000 [00:00<?, ?it/s]"
      ]
     },
     "metadata": {},
     "output_type": "display_data"
    },
    {
     "name": "stdout",
     "output_type": "stream",
     "text": [
      "for s = 0.1 a = 6 sA =  1 sd = 2 Ei = 0.5\n",
      "Utility A = 20822.630000001896 utility D = -20060.897866643754\n",
      "equlibrium (array([1., 0., 0.]), array([0., 1.]))\n",
      "оптимальная стратегия оброняющегося номер  1 оптимальная стратегия атакующего номер  2\n"
     ]
    },
    {
     "data": {
      "application/vnd.jupyter.widget-view+json": {
       "model_id": "86ba6fe1635d40099743a2cf4cb7cfbd",
       "version_major": 2,
       "version_minor": 0
      },
      "text/plain": [
       "  0%|          | 0/50000 [00:00<?, ?it/s]"
      ]
     },
     "metadata": {},
     "output_type": "display_data"
    },
    {
     "name": "stdout",
     "output_type": "stream",
     "text": [
      "for s = 0.1 a = 6 sA =  1 sd = 2 Ei = 0.6\n",
      "Utility A = 20825.27000000182 utility D = -21151.719912981276\n",
      "equlibrium (array([1., 0., 0.]), array([0., 1.]))\n",
      "оптимальная стратегия оброняющегося номер  1 оптимальная стратегия атакующего номер  2\n"
     ]
    },
    {
     "data": {
      "application/vnd.jupyter.widget-view+json": {
       "model_id": "eb4e6e8cf6ea483e8e7cc71190d81804",
       "version_major": 2,
       "version_minor": 0
      },
      "text/plain": [
       "  0%|          | 0/50000 [00:00<?, ?it/s]"
      ]
     },
     "metadata": {},
     "output_type": "display_data"
    },
    {
     "name": "stdout",
     "output_type": "stream",
     "text": [
      "for s = 0.1 a = 6 sA =  1 sd = 2 Ei = 0.7\n",
      "Utility A = 20949.600000001912 utility D = -21243.29051127459\n",
      "equlibrium (array([1., 0., 0.]), array([0., 1.]))\n",
      "оптимальная стратегия оброняющегося номер  1 оптимальная стратегия атакующего номер  2\n"
     ]
    },
    {
     "data": {
      "application/vnd.jupyter.widget-view+json": {
       "model_id": "3da3abc8dcfe44f692b17c6fa9fa32f3",
       "version_major": 2,
       "version_minor": 0
      },
      "text/plain": [
       "  0%|          | 0/50000 [00:00<?, ?it/s]"
      ]
     },
     "metadata": {},
     "output_type": "display_data"
    },
    {
     "name": "stdout",
     "output_type": "stream",
     "text": [
      "for s = 0.1 a = 6 sA =  1 sd = 2 Ei = 0.8\n",
      "Utility A = 20956.920000001584 utility D = -21883.981549197353\n",
      "equlibrium (array([1., 0., 0.]), array([0., 1.]))\n",
      "оптимальная стратегия оброняющегося номер  1 оптимальная стратегия атакующего номер  2\n"
     ]
    },
    {
     "data": {
      "application/vnd.jupyter.widget-view+json": {
       "model_id": "d6db0e9c6c27419bb71a92a9c2394ee5",
       "version_major": 2,
       "version_minor": 0
      },
      "text/plain": [
       "  0%|          | 0/50000 [00:00<?, ?it/s]"
      ]
     },
     "metadata": {},
     "output_type": "display_data"
    },
    {
     "name": "stdout",
     "output_type": "stream",
     "text": [
      "for s = 0.1 a = 6 sA =  1 sd = 2 Ei = 0.9\n",
      "Utility A = 20925.040000001547 utility D = -21455.8762965223\n",
      "equlibrium (array([1., 0., 0.]), array([0., 1.]))\n",
      "оптимальная стратегия оброняющегося номер  1 оптимальная стратегия атакующего номер  2\n"
     ]
    },
    {
     "data": {
      "application/vnd.jupyter.widget-view+json": {
       "model_id": "2f17b1c670e6411ab779d72fe2774da9",
       "version_major": 2,
       "version_minor": 0
      },
      "text/plain": [
       "  0%|          | 0/50000 [00:00<?, ?it/s]"
      ]
     },
     "metadata": {},
     "output_type": "display_data"
    },
    {
     "name": "stdout",
     "output_type": "stream",
     "text": [
      "for s = 0.1 a = 6 sA =  1 sd = 3 Ei = 0.1\n",
      "Utility A = 0 utility D = 0\n",
      "equlibrium (array([1., 0., 0.]), array([1., 0.]))\n",
      "оптимальная стратегия оброняющегося номер  1 оптимальная стратегия атакующего номер  1\n"
     ]
    },
    {
     "data": {
      "application/vnd.jupyter.widget-view+json": {
       "model_id": "57b1f6d61d3e4f73a3144488b8e3816a",
       "version_major": 2,
       "version_minor": 0
      },
      "text/plain": [
       "  0%|          | 0/50000 [00:00<?, ?it/s]"
      ]
     },
     "metadata": {},
     "output_type": "display_data"
    },
    {
     "name": "stdout",
     "output_type": "stream",
     "text": [
      "for s = 0.1 a = 6 sA =  1 sd = 3 Ei = 0.2\n",
      "Utility A = 0 utility D = 0\n",
      "equlibrium (array([1., 0., 0.]), array([1., 0.]))\n",
      "оптимальная стратегия оброняющегося номер  1 оптимальная стратегия атакующего номер  1\n"
     ]
    },
    {
     "data": {
      "application/vnd.jupyter.widget-view+json": {
       "model_id": "edf7996150ac4098bfe6096c01f96567",
       "version_major": 2,
       "version_minor": 0
      },
      "text/plain": [
       "  0%|          | 0/50000 [00:00<?, ?it/s]"
      ]
     },
     "metadata": {},
     "output_type": "display_data"
    },
    {
     "name": "stdout",
     "output_type": "stream",
     "text": [
      "for s = 0.1 a = 6 sA =  1 sd = 3 Ei = 0.3\n",
      "Utility A = 0 utility D = 0\n",
      "equlibrium (array([1., 0., 0.]), array([1., 0.]))\n",
      "оптимальная стратегия оброняющегося номер  1 оптимальная стратегия атакующего номер  1\n"
     ]
    },
    {
     "data": {
      "application/vnd.jupyter.widget-view+json": {
       "model_id": "1eca68be560e4507beb8b5f1b35b5670",
       "version_major": 2,
       "version_minor": 0
      },
      "text/plain": [
       "  0%|          | 0/50000 [00:00<?, ?it/s]"
      ]
     },
     "metadata": {},
     "output_type": "display_data"
    },
    {
     "name": "stdout",
     "output_type": "stream",
     "text": [
      "for s = 0.1 a = 6 sA =  1 sd = 3 Ei = 0.4\n",
      "Utility A = 0 utility D = 0\n",
      "equlibrium (array([1., 0., 0.]), array([1., 0.]))\n",
      "оптимальная стратегия оброняющегося номер  1 оптимальная стратегия атакующего номер  1\n"
     ]
    },
    {
     "data": {
      "application/vnd.jupyter.widget-view+json": {
       "model_id": "250529e532d64c85a2b0cebc48840686",
       "version_major": 2,
       "version_minor": 0
      },
      "text/plain": [
       "  0%|          | 0/50000 [00:00<?, ?it/s]"
      ]
     },
     "metadata": {},
     "output_type": "display_data"
    },
    {
     "name": "stdout",
     "output_type": "stream",
     "text": [
      "for s = 0.1 a = 6 sA =  1 sd = 3 Ei = 0.5\n",
      "Utility A = 0 utility D = 0\n",
      "equlibrium (array([1., 0., 0.]), array([1., 0.]))\n",
      "оптимальная стратегия оброняющегося номер  1 оптимальная стратегия атакующего номер  1\n"
     ]
    },
    {
     "data": {
      "application/vnd.jupyter.widget-view+json": {
       "model_id": "644989c102fd4e1fb4c3c9bf9ec28a9d",
       "version_major": 2,
       "version_minor": 0
      },
      "text/plain": [
       "  0%|          | 0/50000 [00:00<?, ?it/s]"
      ]
     },
     "metadata": {},
     "output_type": "display_data"
    },
    {
     "name": "stdout",
     "output_type": "stream",
     "text": [
      "for s = 0.1 a = 6 sA =  1 sd = 3 Ei = 0.6\n",
      "Utility A = 0 utility D = 0\n",
      "equlibrium (array([1., 0., 0.]), array([1., 0.]))\n",
      "оптимальная стратегия оброняющегося номер  1 оптимальная стратегия атакующего номер  1\n"
     ]
    },
    {
     "data": {
      "application/vnd.jupyter.widget-view+json": {
       "model_id": "c3c7c41ebfc74bd3ad2932335081f688",
       "version_major": 2,
       "version_minor": 0
      },
      "text/plain": [
       "  0%|          | 0/50000 [00:00<?, ?it/s]"
      ]
     },
     "metadata": {},
     "output_type": "display_data"
    },
    {
     "name": "stdout",
     "output_type": "stream",
     "text": [
      "for s = 0.1 a = 6 sA =  1 sd = 3 Ei = 0.7\n",
      "Utility A = 0 utility D = 0\n",
      "equlibrium (array([1., 0., 0.]), array([1., 0.]))\n",
      "оптимальная стратегия оброняющегося номер  1 оптимальная стратегия атакующего номер  1\n"
     ]
    },
    {
     "data": {
      "application/vnd.jupyter.widget-view+json": {
       "model_id": "79274433adb3488fbf45d63da9949d72",
       "version_major": 2,
       "version_minor": 0
      },
      "text/plain": [
       "  0%|          | 0/50000 [00:00<?, ?it/s]"
      ]
     },
     "metadata": {},
     "output_type": "display_data"
    },
    {
     "name": "stdout",
     "output_type": "stream",
     "text": [
      "for s = 0.1 a = 6 sA =  1 sd = 3 Ei = 0.8\n",
      "Utility A = 0 utility D = 0\n",
      "equlibrium (array([1., 0., 0.]), array([1., 0.]))\n",
      "оптимальная стратегия оброняющегося номер  1 оптимальная стратегия атакующего номер  1\n"
     ]
    },
    {
     "data": {
      "application/vnd.jupyter.widget-view+json": {
       "model_id": "22d6bd2308eb46c4994200f70debae16",
       "version_major": 2,
       "version_minor": 0
      },
      "text/plain": [
       "  0%|          | 0/50000 [00:00<?, ?it/s]"
      ]
     },
     "metadata": {},
     "output_type": "display_data"
    },
    {
     "name": "stdout",
     "output_type": "stream",
     "text": [
      "for s = 0.1 a = 6 sA =  1 sd = 3 Ei = 0.9\n",
      "Utility A = 0 utility D = 0\n",
      "equlibrium (array([1., 0., 0.]), array([1., 0.]))\n",
      "оптимальная стратегия оброняющегося номер  1 оптимальная стратегия атакующего номер  1\n"
     ]
    },
    {
     "data": {
      "application/vnd.jupyter.widget-view+json": {
       "model_id": "1ce893fe1de14912aba373012208c965",
       "version_major": 2,
       "version_minor": 0
      },
      "text/plain": [
       "  0%|          | 0/50000 [00:00<?, ?it/s]"
      ]
     },
     "metadata": {},
     "output_type": "display_data"
    },
    {
     "name": "stdout",
     "output_type": "stream",
     "text": [
      "for s = 0.1 a = 6 sA =  2 sd = 1 Ei = 0.1\n",
      "Utility A = 1983.359999999668 utility D = -1989.913197402624\n",
      "equlibrium (array([1., 0., 0.]), array([1., 0.]))\n",
      "оптимальная стратегия оброняющегося номер  1 оптимальная стратегия атакующего номер  1\n"
     ]
    },
    {
     "data": {
      "application/vnd.jupyter.widget-view+json": {
       "model_id": "acde565cc3ec4989861aa84879f87a29",
       "version_major": 2,
       "version_minor": 0
      },
      "text/plain": [
       "  0%|          | 0/50000 [00:00<?, ?it/s]"
      ]
     },
     "metadata": {},
     "output_type": "display_data"
    },
    {
     "name": "stdout",
     "output_type": "stream",
     "text": [
      "for s = 0.1 a = 6 sA =  2 sd = 1 Ei = 0.2\n",
      "Utility A = 1990.1199999996613 utility D = -2035.8913592393753\n",
      "equlibrium (array([1., 0., 0.]), array([1., 0.]))\n",
      "оптимальная стратегия оброняющегося номер  1 оптимальная стратегия атакующего номер  1\n"
     ]
    },
    {
     "data": {
      "application/vnd.jupyter.widget-view+json": {
       "model_id": "9eb94df46b154a8387fd59f7cb20959c",
       "version_major": 2,
       "version_minor": 0
      },
      "text/plain": [
       "  0%|          | 0/50000 [00:00<?, ?it/s]"
      ]
     },
     "metadata": {},
     "output_type": "display_data"
    },
    {
     "name": "stdout",
     "output_type": "stream",
     "text": [
      "for s = 0.1 a = 6 sA =  2 sd = 1 Ei = 0.3\n",
      "Utility A = 1966.8299999996823 utility D = -2116.9420585161715\n",
      "equlibrium (array([1., 0., 0.]), array([1., 0.]))\n",
      "оптимальная стратегия оброняющегося номер  1 оптимальная стратегия атакующего номер  1\n"
     ]
    },
    {
     "data": {
      "application/vnd.jupyter.widget-view+json": {
       "model_id": "848df7de2b3e47d9b29a73bfd1623226",
       "version_major": 2,
       "version_minor": 0
      },
      "text/plain": [
       "  0%|          | 0/50000 [00:00<?, ?it/s]"
      ]
     },
     "metadata": {},
     "output_type": "display_data"
    },
    {
     "name": "stdout",
     "output_type": "stream",
     "text": [
      "for s = 0.1 a = 6 sA =  2 sd = 1 Ei = 0.4\n",
      "Utility A = 1986.5299999996614 utility D = -2193.7435422076\n",
      "equlibrium (array([1., 0., 0.]), array([1., 0.]))\n",
      "оптимальная стратегия оброняющегося номер  1 оптимальная стратегия атакующего номер  1\n"
     ]
    },
    {
     "data": {
      "application/vnd.jupyter.widget-view+json": {
       "model_id": "6537207148d34c5ab0793801ffb12695",
       "version_major": 2,
       "version_minor": 0
      },
      "text/plain": [
       "  0%|          | 0/50000 [00:00<?, ?it/s]"
      ]
     },
     "metadata": {},
     "output_type": "display_data"
    },
    {
     "name": "stdout",
     "output_type": "stream",
     "text": [
      "for s = 0.1 a = 6 sA =  2 sd = 1 Ei = 0.5\n",
      "Utility A = 1977.5099999996653 utility D = -1956.1084999996888\n",
      "equlibrium (array([1., 0., 0.]), array([1., 0.]))\n",
      "оптимальная стратегия оброняющегося номер  1 оптимальная стратегия атакующего номер  1\n"
     ]
    },
    {
     "data": {
      "application/vnd.jupyter.widget-view+json": {
       "model_id": "2e03e13f8ef24015bca4d2b4606d799c",
       "version_major": 2,
       "version_minor": 0
      },
      "text/plain": [
       "  0%|          | 0/50000 [00:00<?, ?it/s]"
      ]
     },
     "metadata": {},
     "output_type": "display_data"
    },
    {
     "name": "stdout",
     "output_type": "stream",
     "text": [
      "for s = 0.1 a = 6 sA =  2 sd = 1 Ei = 0.6\n",
      "Utility A = 1979.2999999996684 utility D = -1979.2999999996684\n",
      "equlibrium (array([1., 0., 0.]), array([1., 0.]))\n",
      "оптимальная стратегия оброняющегося номер  1 оптимальная стратегия атакующего номер  1\n"
     ]
    },
    {
     "data": {
      "application/vnd.jupyter.widget-view+json": {
       "model_id": "1962e8dc55e24730aa72c00e7bb8244c",
       "version_major": 2,
       "version_minor": 0
      },
      "text/plain": [
       "  0%|          | 0/50000 [00:00<?, ?it/s]"
      ]
     },
     "metadata": {},
     "output_type": "display_data"
    },
    {
     "name": "stdout",
     "output_type": "stream",
     "text": [
      "for s = 0.1 a = 6 sA =  2 sd = 1 Ei = 0.7\n",
      "Utility A = 1982.3999999996556 utility D = -1982.3999999996556\n",
      "equlibrium (array([1., 0., 0.]), array([1., 0.]))\n",
      "оптимальная стратегия оброняющегося номер  1 оптимальная стратегия атакующего номер  1\n"
     ]
    },
    {
     "data": {
      "application/vnd.jupyter.widget-view+json": {
       "model_id": "dfdb6c72fd474779ae07e37a308ff6fa",
       "version_major": 2,
       "version_minor": 0
      },
      "text/plain": [
       "  0%|          | 0/50000 [00:00<?, ?it/s]"
      ]
     },
     "metadata": {},
     "output_type": "display_data"
    },
    {
     "name": "stdout",
     "output_type": "stream",
     "text": [
      "for s = 0.1 a = 6 sA =  2 sd = 1 Ei = 0.8\n",
      "Utility A = 1951.269999999669 utility D = -1951.269999999669\n",
      "equlibrium (array([1., 0., 0.]), array([1., 0.]))\n",
      "оптимальная стратегия оброняющегося номер  1 оптимальная стратегия атакующего номер  1\n"
     ]
    },
    {
     "data": {
      "application/vnd.jupyter.widget-view+json": {
       "model_id": "d23cb3ec366245209c65aa52ff184d09",
       "version_major": 2,
       "version_minor": 0
      },
      "text/plain": [
       "  0%|          | 0/50000 [00:00<?, ?it/s]"
      ]
     },
     "metadata": {},
     "output_type": "display_data"
    },
    {
     "name": "stdout",
     "output_type": "stream",
     "text": [
      "for s = 0.1 a = 6 sA =  2 sd = 1 Ei = 0.9\n",
      "Utility A = 1991.329999999675 utility D = -1991.329999999675\n",
      "equlibrium (array([1., 0., 0.]), array([1., 0.]))\n",
      "оптимальная стратегия оброняющегося номер  1 оптимальная стратегия атакующего номер  1\n"
     ]
    },
    {
     "data": {
      "application/vnd.jupyter.widget-view+json": {
       "model_id": "93c954ab09be43e5a588a8afa506878c",
       "version_major": 2,
       "version_minor": 0
      },
      "text/plain": [
       "  0%|          | 0/50000 [00:00<?, ?it/s]"
      ]
     },
     "metadata": {},
     "output_type": "display_data"
    },
    {
     "name": "stdout",
     "output_type": "stream",
     "text": [
      "for s = 0.1 a = 6 sA =  2 sd = 2 Ei = 0.1\n",
      "Utility A = 1976.6899999996776 utility D = -2029.834999999659\n",
      "equlibrium (array([1., 0., 0.]), array([1., 0.]))\n",
      "оптимальная стратегия оброняющегося номер  1 оптимальная стратегия атакующего номер  1\n"
     ]
    },
    {
     "data": {
      "application/vnd.jupyter.widget-view+json": {
       "model_id": "f0393252652c4007ada70ef0625bdec6",
       "version_major": 2,
       "version_minor": 0
      },
      "text/plain": [
       "  0%|          | 0/50000 [00:00<?, ?it/s]"
      ]
     },
     "metadata": {},
     "output_type": "display_data"
    },
    {
     "name": "stdout",
     "output_type": "stream",
     "text": [
      "for s = 0.1 a = 6 sA =  2 sd = 2 Ei = 0.2\n",
      "Utility A = 1999.9499999996694 utility D = -1999.9499999996694\n",
      "equlibrium (array([1., 0., 0.]), array([1., 0.]))\n",
      "оптимальная стратегия оброняющегося номер  1 оптимальная стратегия атакующего номер  1\n"
     ]
    },
    {
     "data": {
      "application/vnd.jupyter.widget-view+json": {
       "model_id": "2a138a87adfe4e2ab977cf8394fa0b3f",
       "version_major": 2,
       "version_minor": 0
      },
      "text/plain": [
       "  0%|          | 0/50000 [00:00<?, ?it/s]"
      ]
     },
     "metadata": {},
     "output_type": "display_data"
    },
    {
     "name": "stdout",
     "output_type": "stream",
     "text": [
      "for s = 0.1 a = 6 sA =  2 sd = 2 Ei = 0.3\n",
      "Utility A = 1970.239999999683 utility D = -1970.239999999683\n",
      "equlibrium (array([1., 0., 0.]), array([1., 0.]))\n",
      "оптимальная стратегия оброняющегося номер  1 оптимальная стратегия атакующего номер  1\n"
     ]
    },
    {
     "data": {
      "application/vnd.jupyter.widget-view+json": {
       "model_id": "d6f3b4ce58b94484a19182cb768b431e",
       "version_major": 2,
       "version_minor": 0
      },
      "text/plain": [
       "  0%|          | 0/50000 [00:00<?, ?it/s]"
      ]
     },
     "metadata": {},
     "output_type": "display_data"
    },
    {
     "name": "stdout",
     "output_type": "stream",
     "text": [
      "for s = 0.1 a = 6 sA =  2 sd = 2 Ei = 0.4\n",
      "Utility A = 1962.4599999996653 utility D = -1962.4599999996653\n",
      "equlibrium (array([1., 0., 0.]), array([1., 0.]))\n",
      "оптимальная стратегия оброняющегося номер  1 оптимальная стратегия атакующего номер  1\n"
     ]
    },
    {
     "data": {
      "application/vnd.jupyter.widget-view+json": {
       "model_id": "8022bd5ba07a49189ee60b24ff00a883",
       "version_major": 2,
       "version_minor": 0
      },
      "text/plain": [
       "  0%|          | 0/50000 [00:00<?, ?it/s]"
      ]
     },
     "metadata": {},
     "output_type": "display_data"
    },
    {
     "name": "stdout",
     "output_type": "stream",
     "text": [
      "for s = 0.1 a = 6 sA =  2 sd = 2 Ei = 0.5\n",
      "Utility A = 1988.789999999667 utility D = -1988.789999999667\n",
      "equlibrium (array([1., 0., 0.]), array([1., 0.]))\n",
      "оптимальная стратегия оброняющегося номер  1 оптимальная стратегия атакующего номер  1\n"
     ]
    },
    {
     "data": {
      "application/vnd.jupyter.widget-view+json": {
       "model_id": "c8185f2b7af348799e80f2e7f089b80b",
       "version_major": 2,
       "version_minor": 0
      },
      "text/plain": [
       "  0%|          | 0/50000 [00:00<?, ?it/s]"
      ]
     },
     "metadata": {},
     "output_type": "display_data"
    },
    {
     "name": "stdout",
     "output_type": "stream",
     "text": [
      "for s = 0.1 a = 6 sA =  2 sd = 2 Ei = 0.6\n",
      "Utility A = 1983.8299999996805 utility D = -1983.8299999996805\n",
      "equlibrium (array([1., 0., 0.]), array([1., 0.]))\n",
      "оптимальная стратегия оброняющегося номер  1 оптимальная стратегия атакующего номер  1\n"
     ]
    },
    {
     "data": {
      "application/vnd.jupyter.widget-view+json": {
       "model_id": "2a0ab0050595479488261e69ee708a32",
       "version_major": 2,
       "version_minor": 0
      },
      "text/plain": [
       "  0%|          | 0/50000 [00:00<?, ?it/s]"
      ]
     },
     "metadata": {},
     "output_type": "display_data"
    },
    {
     "name": "stdout",
     "output_type": "stream",
     "text": [
      "for s = 0.1 a = 6 sA =  2 sd = 2 Ei = 0.7\n",
      "Utility A = 2000.1499999996508 utility D = -2000.1499999996508\n",
      "equlibrium (array([1., 0., 0.]), array([1., 0.]))\n",
      "оптимальная стратегия оброняющегося номер  1 оптимальная стратегия атакующего номер  1\n"
     ]
    },
    {
     "data": {
      "application/vnd.jupyter.widget-view+json": {
       "model_id": "4a97bc243e61492e980a20170d83ed48",
       "version_major": 2,
       "version_minor": 0
      },
      "text/plain": [
       "  0%|          | 0/50000 [00:00<?, ?it/s]"
      ]
     },
     "metadata": {},
     "output_type": "display_data"
    },
    {
     "name": "stdout",
     "output_type": "stream",
     "text": [
      "for s = 0.1 a = 6 sA =  2 sd = 2 Ei = 0.8\n",
      "Utility A = 1982.2899999996628 utility D = -1982.2899999996628\n",
      "equlibrium (array([1., 0., 0.]), array([1., 0.]))\n",
      "оптимальная стратегия оброняющегося номер  1 оптимальная стратегия атакующего номер  1\n"
     ]
    },
    {
     "data": {
      "application/vnd.jupyter.widget-view+json": {
       "model_id": "240206b2ba1b48e4a09e89d62f389f30",
       "version_major": 2,
       "version_minor": 0
      },
      "text/plain": [
       "  0%|          | 0/50000 [00:00<?, ?it/s]"
      ]
     },
     "metadata": {},
     "output_type": "display_data"
    },
    {
     "name": "stdout",
     "output_type": "stream",
     "text": [
      "for s = 0.1 a = 6 sA =  2 sd = 2 Ei = 0.9\n",
      "Utility A = 1993.169999999664 utility D = -1993.169999999664\n",
      "equlibrium (array([1., 0., 0.]), array([1., 0.]))\n",
      "оптимальная стратегия оброняющегося номер  1 оптимальная стратегия атакующего номер  1\n"
     ]
    },
    {
     "data": {
      "application/vnd.jupyter.widget-view+json": {
       "model_id": "117191d7d72a41b9adebc885dcfdf7bf",
       "version_major": 2,
       "version_minor": 0
      },
      "text/plain": [
       "  0%|          | 0/50000 [00:00<?, ?it/s]"
      ]
     },
     "metadata": {},
     "output_type": "display_data"
    },
    {
     "name": "stdout",
     "output_type": "stream",
     "text": [
      "for s = 0.1 a = 6 sA =  2 sd = 3 Ei = 0.1\n",
      "Utility A = 1963.7699999996662 utility D = -1963.7699999996662\n",
      "equlibrium (array([1., 0., 0.]), array([1., 0.]))\n",
      "оптимальная стратегия оброняющегося номер  1 оптимальная стратегия атакующего номер  1\n"
     ]
    },
    {
     "data": {
      "application/vnd.jupyter.widget-view+json": {
       "model_id": "7a8b2ff6553d4d5e8b5d1f4d4abd338e",
       "version_major": 2,
       "version_minor": 0
      },
      "text/plain": [
       "  0%|          | 0/50000 [00:00<?, ?it/s]"
      ]
     },
     "metadata": {},
     "output_type": "display_data"
    },
    {
     "name": "stdout",
     "output_type": "stream",
     "text": [
      "for s = 0.1 a = 6 sA =  2 sd = 3 Ei = 0.2\n",
      "Utility A = 1980.3399999996664 utility D = -1980.3399999996664\n",
      "equlibrium (array([1., 0., 0.]), array([1., 0.]))\n",
      "оптимальная стратегия оброняющегося номер  1 оптимальная стратегия атакующего номер  1\n"
     ]
    },
    {
     "data": {
      "application/vnd.jupyter.widget-view+json": {
       "model_id": "08937eb99c1f43aaa28b53014d231704",
       "version_major": 2,
       "version_minor": 0
      },
      "text/plain": [
       "  0%|          | 0/50000 [00:00<?, ?it/s]"
      ]
     },
     "metadata": {},
     "output_type": "display_data"
    },
    {
     "name": "stdout",
     "output_type": "stream",
     "text": [
      "for s = 0.1 a = 6 sA =  2 sd = 3 Ei = 0.3\n",
      "Utility A = 1987.1199999996627 utility D = -1987.1199999996627\n",
      "equlibrium (array([1., 0., 0.]), array([1., 0.]))\n",
      "оптимальная стратегия оброняющегося номер  1 оптимальная стратегия атакующего номер  1\n"
     ]
    },
    {
     "data": {
      "application/vnd.jupyter.widget-view+json": {
       "model_id": "743a2bae746048ba85e588cfff5fb927",
       "version_major": 2,
       "version_minor": 0
      },
      "text/plain": [
       "  0%|          | 0/50000 [00:00<?, ?it/s]"
      ]
     },
     "metadata": {},
     "output_type": "display_data"
    },
    {
     "name": "stdout",
     "output_type": "stream",
     "text": [
      "for s = 0.1 a = 6 sA =  2 sd = 3 Ei = 0.4\n",
      "Utility A = 1984.1699999996927 utility D = -1984.1699999996927\n",
      "equlibrium (array([1., 0., 0.]), array([1., 0.]))\n",
      "оптимальная стратегия оброняющегося номер  1 оптимальная стратегия атакующего номер  1\n"
     ]
    },
    {
     "data": {
      "application/vnd.jupyter.widget-view+json": {
       "model_id": "40719249c61043a5815929b697c9497a",
       "version_major": 2,
       "version_minor": 0
      },
      "text/plain": [
       "  0%|          | 0/50000 [00:00<?, ?it/s]"
      ]
     },
     "metadata": {},
     "output_type": "display_data"
    },
    {
     "name": "stdout",
     "output_type": "stream",
     "text": [
      "for s = 0.1 a = 6 sA =  2 sd = 3 Ei = 0.5\n",
      "Utility A = 1963.8399999996589 utility D = -1963.8399999996589\n",
      "equlibrium (array([1., 0., 0.]), array([1., 0.]))\n",
      "оптимальная стратегия оброняющегося номер  1 оптимальная стратегия атакующего номер  1\n"
     ]
    },
    {
     "data": {
      "application/vnd.jupyter.widget-view+json": {
       "model_id": "98ddd86ac6924a30a5d1bb3d2f937a26",
       "version_major": 2,
       "version_minor": 0
      },
      "text/plain": [
       "  0%|          | 0/50000 [00:00<?, ?it/s]"
      ]
     },
     "metadata": {},
     "output_type": "display_data"
    },
    {
     "name": "stdout",
     "output_type": "stream",
     "text": [
      "for s = 0.1 a = 6 sA =  2 sd = 3 Ei = 0.6\n",
      "Utility A = 1977.2999999996512 utility D = -1977.2999999996512\n",
      "equlibrium (array([1., 0., 0.]), array([1., 0.]))\n",
      "оптимальная стратегия оброняющегося номер  1 оптимальная стратегия атакующего номер  1\n"
     ]
    },
    {
     "data": {
      "application/vnd.jupyter.widget-view+json": {
       "model_id": "f19da94cbc044caa9c4df362f0c405a7",
       "version_major": 2,
       "version_minor": 0
      },
      "text/plain": [
       "  0%|          | 0/50000 [00:00<?, ?it/s]"
      ]
     },
     "metadata": {},
     "output_type": "display_data"
    },
    {
     "name": "stdout",
     "output_type": "stream",
     "text": [
      "for s = 0.1 a = 6 sA =  2 sd = 3 Ei = 0.7\n",
      "Utility A = 1986.3899999996643 utility D = -1986.3899999996643\n",
      "equlibrium (array([1., 0., 0.]), array([1., 0.]))\n",
      "оптимальная стратегия оброняющегося номер  1 оптимальная стратегия атакующего номер  1\n"
     ]
    },
    {
     "data": {
      "application/vnd.jupyter.widget-view+json": {
       "model_id": "7476876f38f54f22aa256cc213fe0fd3",
       "version_major": 2,
       "version_minor": 0
      },
      "text/plain": [
       "  0%|          | 0/50000 [00:00<?, ?it/s]"
      ]
     },
     "metadata": {},
     "output_type": "display_data"
    },
    {
     "name": "stdout",
     "output_type": "stream",
     "text": [
      "for s = 0.1 a = 6 sA =  2 sd = 3 Ei = 0.8\n",
      "Utility A = 1971.989999999655 utility D = -1971.989999999655\n",
      "equlibrium (array([1., 0., 0.]), array([1., 0.]))\n",
      "оптимальная стратегия оброняющегося номер  1 оптимальная стратегия атакующего номер  1\n"
     ]
    },
    {
     "data": {
      "application/vnd.jupyter.widget-view+json": {
       "model_id": "0117a98515444f3eab610344147572e3",
       "version_major": 2,
       "version_minor": 0
      },
      "text/plain": [
       "  0%|          | 0/50000 [00:00<?, ?it/s]"
      ]
     },
     "metadata": {},
     "output_type": "display_data"
    },
    {
     "name": "stdout",
     "output_type": "stream",
     "text": [
      "for s = 0.1 a = 6 sA =  2 sd = 3 Ei = 0.9\n",
      "Utility A = 1982.9899999996567 utility D = -1982.9899999996567\n",
      "equlibrium (array([1., 0., 0.]), array([1., 0.]))\n",
      "оптимальная стратегия оброняющегося номер  1 оптимальная стратегия атакующего номер  1\n"
     ]
    },
    {
     "data": {
      "application/vnd.jupyter.widget-view+json": {
       "model_id": "dcc37b0be2d347b6b7a8fb5cad1842d5",
       "version_major": 2,
       "version_minor": 0
      },
      "text/plain": [
       "  0%|          | 0/50000 [00:00<?, ?it/s]"
      ]
     },
     "metadata": {},
     "output_type": "display_data"
    },
    {
     "name": "stdout",
     "output_type": "stream",
     "text": [
      "for s = 0.1 a = 7 sA =  1 sd = 1 Ei = 0.1\n",
      "Utility A = 20351.170000001046 utility D = -20999.566666666746\n",
      "equlibrium (array([1., 0., 0.]), array([0., 1.]))\n",
      "оптимальная стратегия оброняющегося номер  1 оптимальная стратегия атакующего номер  2\n"
     ]
    },
    {
     "data": {
      "application/vnd.jupyter.widget-view+json": {
       "model_id": "15847d37c9014eac9ab72eebcd7506d1",
       "version_major": 2,
       "version_minor": 0
      },
      "text/plain": [
       "  0%|          | 0/50000 [00:00<?, ?it/s]"
      ]
     },
     "metadata": {},
     "output_type": "display_data"
    },
    {
     "name": "stdout",
     "output_type": "stream",
     "text": [
      "for s = 0.1 a = 7 sA =  1 sd = 1 Ei = 0.2\n",
      "Utility A = 20395.980000001102 utility D = -20962.34000000171\n",
      "equlibrium (array([1., 0., 0.]), array([0., 1.]))\n",
      "оптимальная стратегия оброняющегося номер  1 оптимальная стратегия атакующего номер  2\n"
     ]
    },
    {
     "data": {
      "application/vnd.jupyter.widget-view+json": {
       "model_id": "5aef15a6ad24458e9b1bd579bf880511",
       "version_major": 2,
       "version_minor": 0
      },
      "text/plain": [
       "  0%|          | 0/50000 [00:00<?, ?it/s]"
      ]
     },
     "metadata": {},
     "output_type": "display_data"
    },
    {
     "name": "stdout",
     "output_type": "stream",
     "text": [
      "for s = 0.1 a = 7 sA =  1 sd = 1 Ei = 0.3\n",
      "Utility A = 20298.560000001155 utility D = -20875.370000001727\n",
      "equlibrium (array([1., 0., 0.]), array([0., 1.]))\n",
      "оптимальная стратегия оброняющегося номер  1 оптимальная стратегия атакующего номер  2\n"
     ]
    },
    {
     "data": {
      "application/vnd.jupyter.widget-view+json": {
       "model_id": "55fd24ac69f140a0a29a57b960822f74",
       "version_major": 2,
       "version_minor": 0
      },
      "text/plain": [
       "  0%|          | 0/50000 [00:00<?, ?it/s]"
      ]
     },
     "metadata": {},
     "output_type": "display_data"
    },
    {
     "name": "stdout",
     "output_type": "stream",
     "text": [
      "for s = 0.1 a = 7 sA =  1 sd = 1 Ei = 0.4\n",
      "Utility A = 20467.25000000127 utility D = -21036.790000001798\n",
      "equlibrium (array([1., 0., 0.]), array([0., 1.]))\n",
      "оптимальная стратегия оброняющегося номер  1 оптимальная стратегия атакующего номер  2\n"
     ]
    },
    {
     "data": {
      "application/vnd.jupyter.widget-view+json": {
       "model_id": "74f9513410294399a0715ced4e82a4e0",
       "version_major": 2,
       "version_minor": 0
      },
      "text/plain": [
       "  0%|          | 0/50000 [00:00<?, ?it/s]"
      ]
     },
     "metadata": {},
     "output_type": "display_data"
    },
    {
     "name": "stdout",
     "output_type": "stream",
     "text": [
      "for s = 0.1 a = 7 sA =  1 sd = 1 Ei = 0.5\n",
      "Utility A = 20350.450000001296 utility D = -20927.780000002\n",
      "equlibrium (array([1., 0., 0.]), array([0., 1.]))\n",
      "оптимальная стратегия оброняющегося номер  1 оптимальная стратегия атакующего номер  2\n"
     ]
    },
    {
     "data": {
      "application/vnd.jupyter.widget-view+json": {
       "model_id": "c6e6d2717e5b46ddbcc8b5548bf74221",
       "version_major": 2,
       "version_minor": 0
      },
      "text/plain": [
       "  0%|          | 0/50000 [00:00<?, ?it/s]"
      ]
     },
     "metadata": {},
     "output_type": "display_data"
    },
    {
     "name": "stdout",
     "output_type": "stream",
     "text": [
      "for s = 0.1 a = 7 sA =  1 sd = 1 Ei = 0.6\n",
      "Utility A = 20318.830000001242 utility D = -20886.130000001773\n",
      "equlibrium (array([1., 0., 0.]), array([0., 1.]))\n",
      "оптимальная стратегия оброняющегося номер  1 оптимальная стратегия атакующего номер  2\n"
     ]
    },
    {
     "data": {
      "application/vnd.jupyter.widget-view+json": {
       "model_id": "493344d7d93743daa05f2cab98f3b715",
       "version_major": 2,
       "version_minor": 0
      },
      "text/plain": [
       "  0%|          | 0/50000 [00:00<?, ?it/s]"
      ]
     },
     "metadata": {},
     "output_type": "display_data"
    },
    {
     "name": "stdout",
     "output_type": "stream",
     "text": [
      "for s = 0.1 a = 7 sA =  1 sd = 1 Ei = 0.7\n",
      "Utility A = 20379.460000001305 utility D = -20946.790000002024\n",
      "equlibrium (array([1., 0., 0.]), array([0., 1.]))\n",
      "оптимальная стратегия оброняющегося номер  1 оптимальная стратегия атакующего номер  2\n"
     ]
    },
    {
     "data": {
      "application/vnd.jupyter.widget-view+json": {
       "model_id": "9ab8ed0a398f4fcdbf1f123cf0b2d156",
       "version_major": 2,
       "version_minor": 0
      },
      "text/plain": [
       "  0%|          | 0/50000 [00:00<?, ?it/s]"
      ]
     },
     "metadata": {},
     "output_type": "display_data"
    },
    {
     "name": "stdout",
     "output_type": "stream",
     "text": [
      "for s = 0.1 a = 7 sA =  1 sd = 1 Ei = 0.8\n",
      "Utility A = 20448.60000000143 utility D = -21014.820000002\n",
      "equlibrium (array([1., 0., 0.]), array([0., 1.]))\n",
      "оптимальная стратегия оброняющегося номер  1 оптимальная стратегия атакующего номер  2\n"
     ]
    },
    {
     "data": {
      "application/vnd.jupyter.widget-view+json": {
       "model_id": "eb3c459cf86944a8a982ed19f5462660",
       "version_major": 2,
       "version_minor": 0
      },
      "text/plain": [
       "  0%|          | 0/50000 [00:00<?, ?it/s]"
      ]
     },
     "metadata": {},
     "output_type": "display_data"
    },
    {
     "name": "stdout",
     "output_type": "stream",
     "text": [
      "for s = 0.1 a = 7 sA =  1 sd = 1 Ei = 0.9\n",
      "Utility A = 20450.5100000012 utility D = -21010.720000001707\n",
      "equlibrium (array([1., 0., 0.]), array([0., 1.]))\n",
      "оптимальная стратегия оброняющегося номер  1 оптимальная стратегия атакующего номер  2\n"
     ]
    },
    {
     "data": {
      "application/vnd.jupyter.widget-view+json": {
       "model_id": "c12cd86b214d4ebbae3e910507ef0bc1",
       "version_major": 2,
       "version_minor": 0
      },
      "text/plain": [
       "  0%|          | 0/50000 [00:00<?, ?it/s]"
      ]
     },
     "metadata": {},
     "output_type": "display_data"
    },
    {
     "name": "stdout",
     "output_type": "stream",
     "text": [
      "for s = 0.1 a = 7 sA =  1 sd = 2 Ei = 0.1\n",
      "Utility A = 20768.87000000197 utility D = -20779.87844856975\n",
      "equlibrium (array([1., 0., 0.]), array([0., 1.]))\n",
      "оптимальная стратегия оброняющегося номер  1 оптимальная стратегия атакующего номер  2\n"
     ]
    },
    {
     "data": {
      "application/vnd.jupyter.widget-view+json": {
       "model_id": "1abaa31845a54114bd5d27199f992a65",
       "version_major": 2,
       "version_minor": 0
      },
      "text/plain": [
       "  0%|          | 0/50000 [00:00<?, ?it/s]"
      ]
     },
     "metadata": {},
     "output_type": "display_data"
    },
    {
     "name": "stdout",
     "output_type": "stream",
     "text": [
      "for s = 0.1 a = 7 sA =  1 sd = 2 Ei = 0.2\n",
      "Utility A = 20940.840000002045 utility D = -21023.861555668955\n",
      "equlibrium (array([1., 0., 0.]), array([0., 1.]))\n",
      "оптимальная стратегия оброняющегося номер  1 оптимальная стратегия атакующего номер  2\n"
     ]
    },
    {
     "data": {
      "application/vnd.jupyter.widget-view+json": {
       "model_id": "8f4bcbe56bb1486cac46f9b2aa46167e",
       "version_major": 2,
       "version_minor": 0
      },
      "text/plain": [
       "  0%|          | 0/50000 [00:00<?, ?it/s]"
      ]
     },
     "metadata": {},
     "output_type": "display_data"
    },
    {
     "name": "stdout",
     "output_type": "stream",
     "text": [
      "for s = 0.1 a = 7 sA =  1 sd = 2 Ei = 0.3\n",
      "Utility A = 21054.700000001885 utility D = -21394.879990786954\n",
      "equlibrium (array([1., 0., 0.]), array([0., 1.]))\n",
      "оптимальная стратегия оброняющегося номер  1 оптимальная стратегия атакующего номер  2\n"
     ]
    },
    {
     "data": {
      "application/vnd.jupyter.widget-view+json": {
       "model_id": "8c87028a030f476c9c39a47c1a5235ef",
       "version_major": 2,
       "version_minor": 0
      },
      "text/plain": [
       "  0%|          | 0/50000 [00:00<?, ?it/s]"
      ]
     },
     "metadata": {},
     "output_type": "display_data"
    },
    {
     "name": "stdout",
     "output_type": "stream",
     "text": [
      "for s = 0.1 a = 7 sA =  1 sd = 2 Ei = 0.4\n",
      "Utility A = 21110.41000000182 utility D = -21475.93937169403\n",
      "equlibrium (array([1., 0., 0.]), array([0., 1.]))\n",
      "оптимальная стратегия оброняющегося номер  1 оптимальная стратегия атакующего номер  2\n"
     ]
    },
    {
     "data": {
      "application/vnd.jupyter.widget-view+json": {
       "model_id": "e1d67406e2224f3692e2343796ac3968",
       "version_major": 2,
       "version_minor": 0
      },
      "text/plain": [
       "  0%|          | 0/50000 [00:00<?, ?it/s]"
      ]
     },
     "metadata": {},
     "output_type": "display_data"
    },
    {
     "name": "stdout",
     "output_type": "stream",
     "text": [
      "for s = 0.1 a = 7 sA =  1 sd = 2 Ei = 0.5\n",
      "Utility A = 21081.09000000181 utility D = -21260.086476557182\n",
      "equlibrium (array([1., 0., 0.]), array([0., 1.]))\n",
      "оптимальная стратегия оброняющегося номер  1 оптимальная стратегия атакующего номер  2\n"
     ]
    },
    {
     "data": {
      "application/vnd.jupyter.widget-view+json": {
       "model_id": "8d7c21590f8048e79f47f7f9443a21d1",
       "version_major": 2,
       "version_minor": 0
      },
      "text/plain": [
       "  0%|          | 0/50000 [00:00<?, ?it/s]"
      ]
     },
     "metadata": {},
     "output_type": "display_data"
    },
    {
     "name": "stdout",
     "output_type": "stream",
     "text": [
      "for s = 0.1 a = 7 sA =  1 sd = 2 Ei = 0.6\n",
      "Utility A = 20964.140000001884 utility D = -21168.678618850812\n",
      "equlibrium (array([1., 0., 0.]), array([0., 1.]))\n",
      "оптимальная стратегия оброняющегося номер  1 оптимальная стратегия атакующего номер  2\n"
     ]
    },
    {
     "data": {
      "application/vnd.jupyter.widget-view+json": {
       "model_id": "9d14f6f7efd44f518c16b21fdfe98802",
       "version_major": 2,
       "version_minor": 0
      },
      "text/plain": [
       "  0%|          | 0/50000 [00:00<?, ?it/s]"
      ]
     },
     "metadata": {},
     "output_type": "display_data"
    },
    {
     "name": "stdout",
     "output_type": "stream",
     "text": [
      "for s = 0.1 a = 7 sA =  1 sd = 2 Ei = 0.7\n",
      "Utility A = 20892.23000000196 utility D = -22044.35399960388\n",
      "equlibrium (array([1., 0., 0.]), array([0., 1.]))\n",
      "оптимальная стратегия оброняющегося номер  1 оптимальная стратегия атакующего номер  2\n"
     ]
    },
    {
     "data": {
      "application/vnd.jupyter.widget-view+json": {
       "model_id": "cad5db9c752b44f69e283fcc632f1b40",
       "version_major": 2,
       "version_minor": 0
      },
      "text/plain": [
       "  0%|          | 0/50000 [00:00<?, ?it/s]"
      ]
     },
     "metadata": {},
     "output_type": "display_data"
    },
    {
     "name": "stdout",
     "output_type": "stream",
     "text": [
      "for s = 0.1 a = 7 sA =  1 sd = 2 Ei = 0.8\n",
      "Utility A = 21115.680000001856 utility D = -22399.48389950196\n",
      "equlibrium (array([1., 0., 0.]), array([0., 1.]))\n",
      "оптимальная стратегия оброняющегося номер  1 оптимальная стратегия атакующего номер  2\n"
     ]
    },
    {
     "data": {
      "application/vnd.jupyter.widget-view+json": {
       "model_id": "071009444cdb4c22a658f64210423fb2",
       "version_major": 2,
       "version_minor": 0
      },
      "text/plain": [
       "  0%|          | 0/50000 [00:00<?, ?it/s]"
      ]
     },
     "metadata": {},
     "output_type": "display_data"
    },
    {
     "name": "stdout",
     "output_type": "stream",
     "text": [
      "for s = 0.1 a = 7 sA =  1 sd = 2 Ei = 0.9\n",
      "Utility A = 21018.30000000196 utility D = -21495.01932633204\n",
      "equlibrium (array([1., 0., 0.]), array([0., 1.]))\n",
      "оптимальная стратегия оброняющегося номер  1 оптимальная стратегия атакующего номер  2\n"
     ]
    },
    {
     "data": {
      "application/vnd.jupyter.widget-view+json": {
       "model_id": "8aed0d7bd30b4864964522499ee89b45",
       "version_major": 2,
       "version_minor": 0
      },
      "text/plain": [
       "  0%|          | 0/50000 [00:00<?, ?it/s]"
      ]
     },
     "metadata": {},
     "output_type": "display_data"
    },
    {
     "name": "stdout",
     "output_type": "stream",
     "text": [
      "for s = 0.1 a = 7 sA =  1 sd = 3 Ei = 0.1\n",
      "Utility A = 0 utility D = 0\n",
      "equlibrium (array([1., 0., 0.]), array([1., 0.]))\n",
      "оптимальная стратегия оброняющегося номер  1 оптимальная стратегия атакующего номер  1\n"
     ]
    },
    {
     "data": {
      "application/vnd.jupyter.widget-view+json": {
       "model_id": "127df81f4e32448db7227f7fdf4a9980",
       "version_major": 2,
       "version_minor": 0
      },
      "text/plain": [
       "  0%|          | 0/50000 [00:00<?, ?it/s]"
      ]
     },
     "metadata": {},
     "output_type": "display_data"
    },
    {
     "name": "stdout",
     "output_type": "stream",
     "text": [
      "for s = 0.1 a = 7 sA =  1 sd = 3 Ei = 0.2\n",
      "Utility A = 0 utility D = 0\n",
      "equlibrium (array([1., 0., 0.]), array([1., 0.]))\n",
      "оптимальная стратегия оброняющегося номер  1 оптимальная стратегия атакующего номер  1\n"
     ]
    },
    {
     "data": {
      "application/vnd.jupyter.widget-view+json": {
       "model_id": "1053a12a04414c3b8a68117e5d0ed568",
       "version_major": 2,
       "version_minor": 0
      },
      "text/plain": [
       "  0%|          | 0/50000 [00:00<?, ?it/s]"
      ]
     },
     "metadata": {},
     "output_type": "display_data"
    },
    {
     "name": "stdout",
     "output_type": "stream",
     "text": [
      "for s = 0.1 a = 7 sA =  1 sd = 3 Ei = 0.3\n",
      "Utility A = 0 utility D = 0\n",
      "equlibrium (array([1., 0., 0.]), array([1., 0.]))\n",
      "оптимальная стратегия оброняющегося номер  1 оптимальная стратегия атакующего номер  1\n"
     ]
    },
    {
     "data": {
      "application/vnd.jupyter.widget-view+json": {
       "model_id": "969c535ac4e4410ca3ec2dbca157bfde",
       "version_major": 2,
       "version_minor": 0
      },
      "text/plain": [
       "  0%|          | 0/50000 [00:00<?, ?it/s]"
      ]
     },
     "metadata": {},
     "output_type": "display_data"
    },
    {
     "name": "stdout",
     "output_type": "stream",
     "text": [
      "for s = 0.1 a = 7 sA =  1 sd = 3 Ei = 0.4\n",
      "Utility A = 0 utility D = 0\n",
      "equlibrium (array([1., 0., 0.]), array([1., 0.]))\n",
      "оптимальная стратегия оброняющегося номер  1 оптимальная стратегия атакующего номер  1\n"
     ]
    },
    {
     "data": {
      "application/vnd.jupyter.widget-view+json": {
       "model_id": "9fa1c5679782462580d5d0fde95be93a",
       "version_major": 2,
       "version_minor": 0
      },
      "text/plain": [
       "  0%|          | 0/50000 [00:00<?, ?it/s]"
      ]
     },
     "metadata": {},
     "output_type": "display_data"
    },
    {
     "name": "stdout",
     "output_type": "stream",
     "text": [
      "for s = 0.1 a = 7 sA =  1 sd = 3 Ei = 0.5\n",
      "Utility A = 0 utility D = 0\n",
      "equlibrium (array([1., 0., 0.]), array([1., 0.]))\n",
      "оптимальная стратегия оброняющегося номер  1 оптимальная стратегия атакующего номер  1\n"
     ]
    },
    {
     "data": {
      "application/vnd.jupyter.widget-view+json": {
       "model_id": "0d38339bb73b4bef9fce664d2205a0e6",
       "version_major": 2,
       "version_minor": 0
      },
      "text/plain": [
       "  0%|          | 0/50000 [00:00<?, ?it/s]"
      ]
     },
     "metadata": {},
     "output_type": "display_data"
    },
    {
     "name": "stdout",
     "output_type": "stream",
     "text": [
      "for s = 0.1 a = 7 sA =  1 sd = 3 Ei = 0.6\n",
      "Utility A = 0 utility D = 0\n",
      "equlibrium (array([1., 0., 0.]), array([1., 0.]))\n",
      "оптимальная стратегия оброняющегося номер  1 оптимальная стратегия атакующего номер  1\n"
     ]
    },
    {
     "data": {
      "application/vnd.jupyter.widget-view+json": {
       "model_id": "a427239b066d431588a5b5d89ede2c28",
       "version_major": 2,
       "version_minor": 0
      },
      "text/plain": [
       "  0%|          | 0/50000 [00:00<?, ?it/s]"
      ]
     },
     "metadata": {},
     "output_type": "display_data"
    },
    {
     "name": "stdout",
     "output_type": "stream",
     "text": [
      "for s = 0.1 a = 7 sA =  1 sd = 3 Ei = 0.7\n",
      "Utility A = 0 utility D = 0\n",
      "equlibrium (array([1., 0., 0.]), array([1., 0.]))\n",
      "оптимальная стратегия оброняющегося номер  1 оптимальная стратегия атакующего номер  1\n"
     ]
    },
    {
     "data": {
      "application/vnd.jupyter.widget-view+json": {
       "model_id": "b010fd3407254d96b07cf1ce8bb45de3",
       "version_major": 2,
       "version_minor": 0
      },
      "text/plain": [
       "  0%|          | 0/50000 [00:00<?, ?it/s]"
      ]
     },
     "metadata": {},
     "output_type": "display_data"
    },
    {
     "name": "stdout",
     "output_type": "stream",
     "text": [
      "for s = 0.1 a = 7 sA =  1 sd = 3 Ei = 0.8\n",
      "Utility A = 0 utility D = 0\n",
      "equlibrium (array([1., 0., 0.]), array([1., 0.]))\n",
      "оптимальная стратегия оброняющегося номер  1 оптимальная стратегия атакующего номер  1\n"
     ]
    },
    {
     "data": {
      "application/vnd.jupyter.widget-view+json": {
       "model_id": "f608e00459e844438c24c46e216f3387",
       "version_major": 2,
       "version_minor": 0
      },
      "text/plain": [
       "  0%|          | 0/50000 [00:00<?, ?it/s]"
      ]
     },
     "metadata": {},
     "output_type": "display_data"
    },
    {
     "name": "stdout",
     "output_type": "stream",
     "text": [
      "for s = 0.1 a = 7 sA =  1 sd = 3 Ei = 0.9\n",
      "Utility A = 0 utility D = 0\n",
      "equlibrium (array([1., 0., 0.]), array([1., 0.]))\n",
      "оптимальная стратегия оброняющегося номер  1 оптимальная стратегия атакующего номер  1\n"
     ]
    },
    {
     "data": {
      "application/vnd.jupyter.widget-view+json": {
       "model_id": "d9d9bceed10d40a788c72bb2729f6e00",
       "version_major": 2,
       "version_minor": 0
      },
      "text/plain": [
       "  0%|          | 0/50000 [00:00<?, ?it/s]"
      ]
     },
     "metadata": {},
     "output_type": "display_data"
    },
    {
     "name": "stdout",
     "output_type": "stream",
     "text": [
      "for s = 0.1 a = 7 sA =  2 sd = 1 Ei = 0.1\n",
      "Utility A = 1986.759999999661 utility D = -1993.7808508137925\n",
      "equlibrium (array([1., 0., 0.]), array([1., 0.]))\n",
      "оптимальная стратегия оброняющегося номер  1 оптимальная стратегия атакующего номер  1\n"
     ]
    },
    {
     "data": {
      "application/vnd.jupyter.widget-view+json": {
       "model_id": "c3a8289d5f44409a8ca6f8039aea3c35",
       "version_major": 2,
       "version_minor": 0
      },
      "text/plain": [
       "  0%|          | 0/50000 [00:00<?, ?it/s]"
      ]
     },
     "metadata": {},
     "output_type": "display_data"
    },
    {
     "name": "stdout",
     "output_type": "stream",
     "text": [
      "for s = 0.1 a = 7 sA =  2 sd = 1 Ei = 0.2\n",
      "Utility A = 1965.7599999996673 utility D = -2030.7091009950943\n",
      "equlibrium (array([1., 0., 0.]), array([1., 0.]))\n",
      "оптимальная стратегия оброняющегося номер  1 оптимальная стратегия атакующего номер  1\n"
     ]
    },
    {
     "data": {
      "application/vnd.jupyter.widget-view+json": {
       "model_id": "affe5bbb718c4e62b81280a2ed2fe858",
       "version_major": 2,
       "version_minor": 0
      },
      "text/plain": [
       "  0%|          | 0/50000 [00:00<?, ?it/s]"
      ]
     },
     "metadata": {},
     "output_type": "display_data"
    },
    {
     "name": "stdout",
     "output_type": "stream",
     "text": [
      "for s = 0.1 a = 7 sA =  2 sd = 1 Ei = 0.3\n",
      "Utility A = 1971.6299999996622 utility D = -2253.021830917657\n",
      "equlibrium (array([1., 0., 0.]), array([1., 0.]))\n",
      "оптимальная стратегия оброняющегося номер  1 оптимальная стратегия атакующего номер  1\n"
     ]
    },
    {
     "data": {
      "application/vnd.jupyter.widget-view+json": {
       "model_id": "1153ec71724747eab8b6860342c02400",
       "version_major": 2,
       "version_minor": 0
      },
      "text/plain": [
       "  0%|          | 0/50000 [00:00<?, ?it/s]"
      ]
     },
     "metadata": {},
     "output_type": "display_data"
    },
    {
     "name": "stdout",
     "output_type": "stream",
     "text": [
      "for s = 0.1 a = 7 sA =  2 sd = 1 Ei = 0.4\n",
      "Utility A = 1985.849999999658 utility D = -2161.414111110816\n",
      "equlibrium (array([1., 0., 0.]), array([1., 0.]))\n",
      "оптимальная стратегия оброняющегося номер  1 оптимальная стратегия атакующего номер  1\n"
     ]
    },
    {
     "data": {
      "application/vnd.jupyter.widget-view+json": {
       "model_id": "6f7664e585e54e7bacf22e8c7b5737ca",
       "version_major": 2,
       "version_minor": 0
      },
      "text/plain": [
       "  0%|          | 0/50000 [00:00<?, ?it/s]"
      ]
     },
     "metadata": {},
     "output_type": "display_data"
    },
    {
     "name": "stdout",
     "output_type": "stream",
     "text": [
      "for s = 0.1 a = 7 sA =  2 sd = 1 Ei = 0.5\n",
      "Utility A = 1971.8099999996803 utility D = -1971.8099999996803\n",
      "equlibrium (array([1., 0., 0.]), array([1., 0.]))\n",
      "оптимальная стратегия оброняющегося номер  1 оптимальная стратегия атакующего номер  1\n"
     ]
    },
    {
     "data": {
      "application/vnd.jupyter.widget-view+json": {
       "model_id": "4760409dbd3a44d8b1742cbdd06d3f41",
       "version_major": 2,
       "version_minor": 0
      },
      "text/plain": [
       "  0%|          | 0/50000 [00:00<?, ?it/s]"
      ]
     },
     "metadata": {},
     "output_type": "display_data"
    },
    {
     "name": "stdout",
     "output_type": "stream",
     "text": [
      "for s = 0.1 a = 7 sA =  2 sd = 1 Ei = 0.6\n",
      "Utility A = 1966.4999999996703 utility D = -1966.4999999996703\n",
      "equlibrium (array([1., 0., 0.]), array([1., 0.]))\n",
      "оптимальная стратегия оброняющегося номер  1 оптимальная стратегия атакующего номер  1\n"
     ]
    },
    {
     "data": {
      "application/vnd.jupyter.widget-view+json": {
       "model_id": "aa291b0816da4b1d831206da6fc864bc",
       "version_major": 2,
       "version_minor": 0
      },
      "text/plain": [
       "  0%|          | 0/50000 [00:00<?, ?it/s]"
      ]
     },
     "metadata": {},
     "output_type": "display_data"
    },
    {
     "name": "stdout",
     "output_type": "stream",
     "text": [
      "for s = 0.1 a = 7 sA =  2 sd = 1 Ei = 0.7\n",
      "Utility A = 1989.9199999996638 utility D = -1989.9199999996638\n",
      "equlibrium (array([1., 0., 0.]), array([1., 0.]))\n",
      "оптимальная стратегия оброняющегося номер  1 оптимальная стратегия атакующего номер  1\n"
     ]
    },
    {
     "data": {
      "application/vnd.jupyter.widget-view+json": {
       "model_id": "fea96b6e57974aec9785e5f3eaafb959",
       "version_major": 2,
       "version_minor": 0
      },
      "text/plain": [
       "  0%|          | 0/50000 [00:00<?, ?it/s]"
      ]
     },
     "metadata": {},
     "output_type": "display_data"
    },
    {
     "name": "stdout",
     "output_type": "stream",
     "text": [
      "for s = 0.1 a = 7 sA =  2 sd = 1 Ei = 0.8\n",
      "Utility A = 1988.6399999996697 utility D = -1988.6399999996697\n",
      "equlibrium (array([1., 0., 0.]), array([1., 0.]))\n",
      "оптимальная стратегия оброняющегося номер  1 оптимальная стратегия атакующего номер  1\n"
     ]
    },
    {
     "data": {
      "application/vnd.jupyter.widget-view+json": {
       "model_id": "89fa739172b94334b28dc407620425c6",
       "version_major": 2,
       "version_minor": 0
      },
      "text/plain": [
       "  0%|          | 0/50000 [00:00<?, ?it/s]"
      ]
     },
     "metadata": {},
     "output_type": "display_data"
    },
    {
     "name": "stdout",
     "output_type": "stream",
     "text": [
      "for s = 0.1 a = 7 sA =  2 sd = 1 Ei = 0.9\n",
      "Utility A = 1970.93999999968 utility D = -1970.93999999968\n",
      "equlibrium (array([1., 0., 0.]), array([1., 0.]))\n",
      "оптимальная стратегия оброняющегося номер  1 оптимальная стратегия атакующего номер  1\n"
     ]
    },
    {
     "data": {
      "application/vnd.jupyter.widget-view+json": {
       "model_id": "d59ef500648d4193963419c27cd8169a",
       "version_major": 2,
       "version_minor": 0
      },
      "text/plain": [
       "  0%|          | 0/50000 [00:00<?, ?it/s]"
      ]
     },
     "metadata": {},
     "output_type": "display_data"
    },
    {
     "name": "stdout",
     "output_type": "stream",
     "text": [
      "for s = 0.1 a = 7 sA =  2 sd = 2 Ei = 0.1\n",
      "Utility A = 1984.329999999685 utility D = -2055.1133333330063\n",
      "equlibrium (array([1., 0., 0.]), array([1., 0.]))\n",
      "оптимальная стратегия оброняющегося номер  1 оптимальная стратегия атакующего номер  1\n"
     ]
    },
    {
     "data": {
      "application/vnd.jupyter.widget-view+json": {
       "model_id": "fd9a2c9fc50745ea8572675c3ada9f5e",
       "version_major": 2,
       "version_minor": 0
      },
      "text/plain": [
       "  0%|          | 0/50000 [00:00<?, ?it/s]"
      ]
     },
     "metadata": {},
     "output_type": "display_data"
    },
    {
     "name": "stdout",
     "output_type": "stream",
     "text": [
      "for s = 0.1 a = 7 sA =  2 sd = 2 Ei = 0.2\n",
      "Utility A = 1965.8299999996832 utility D = -1965.8299999996832\n",
      "equlibrium (array([1., 0., 0.]), array([1., 0.]))\n",
      "оптимальная стратегия оброняющегося номер  1 оптимальная стратегия атакующего номер  1\n"
     ]
    },
    {
     "data": {
      "application/vnd.jupyter.widget-view+json": {
       "model_id": "c8a85026e7494cd5834258fce6634dd1",
       "version_major": 2,
       "version_minor": 0
      },
      "text/plain": [
       "  0%|          | 0/50000 [00:00<?, ?it/s]"
      ]
     },
     "metadata": {},
     "output_type": "display_data"
    },
    {
     "name": "stdout",
     "output_type": "stream",
     "text": [
      "for s = 0.1 a = 7 sA =  2 sd = 2 Ei = 0.3\n",
      "Utility A = 1959.6499999996727 utility D = -1959.6499999996727\n",
      "equlibrium (array([1., 0., 0.]), array([1., 0.]))\n",
      "оптимальная стратегия оброняющегося номер  1 оптимальная стратегия атакующего номер  1\n"
     ]
    },
    {
     "data": {
      "application/vnd.jupyter.widget-view+json": {
       "model_id": "ac62ed11ba154b52be52fb9ba51ad8fb",
       "version_major": 2,
       "version_minor": 0
      },
      "text/plain": [
       "  0%|          | 0/50000 [00:00<?, ?it/s]"
      ]
     },
     "metadata": {},
     "output_type": "display_data"
    },
    {
     "name": "stdout",
     "output_type": "stream",
     "text": [
      "for s = 0.1 a = 7 sA =  2 sd = 2 Ei = 0.4\n",
      "Utility A = 1981.289999999674 utility D = -1981.289999999674\n",
      "equlibrium (array([1., 0., 0.]), array([1., 0.]))\n",
      "оптимальная стратегия оброняющегося номер  1 оптимальная стратегия атакующего номер  1\n"
     ]
    },
    {
     "data": {
      "application/vnd.jupyter.widget-view+json": {
       "model_id": "5e992460ab594746a4b4bb846d0bee4c",
       "version_major": 2,
       "version_minor": 0
      },
      "text/plain": [
       "  0%|          | 0/50000 [00:00<?, ?it/s]"
      ]
     },
     "metadata": {},
     "output_type": "display_data"
    },
    {
     "name": "stdout",
     "output_type": "stream",
     "text": [
      "for s = 0.1 a = 7 sA =  2 sd = 2 Ei = 0.5\n",
      "Utility A = 1960.7399999996894 utility D = -1960.7399999996894\n",
      "equlibrium (array([1., 0., 0.]), array([1., 0.]))\n",
      "оптимальная стратегия оброняющегося номер  1 оптимальная стратегия атакующего номер  1\n"
     ]
    },
    {
     "data": {
      "application/vnd.jupyter.widget-view+json": {
       "model_id": "58651396b7c848f3a2b955a2bd112236",
       "version_major": 2,
       "version_minor": 0
      },
      "text/plain": [
       "  0%|          | 0/50000 [00:00<?, ?it/s]"
      ]
     },
     "metadata": {},
     "output_type": "display_data"
    },
    {
     "name": "stdout",
     "output_type": "stream",
     "text": [
      "for s = 0.1 a = 7 sA =  2 sd = 2 Ei = 0.6\n",
      "Utility A = 1987.8699999996627 utility D = -1987.8699999996627\n",
      "equlibrium (array([1., 0., 0.]), array([1., 0.]))\n",
      "оптимальная стратегия оброняющегося номер  1 оптимальная стратегия атакующего номер  1\n"
     ]
    },
    {
     "data": {
      "application/vnd.jupyter.widget-view+json": {
       "model_id": "6d6aafb92b174ef4bcbe08d0e8e6c116",
       "version_major": 2,
       "version_minor": 0
      },
      "text/plain": [
       "  0%|          | 0/50000 [00:00<?, ?it/s]"
      ]
     },
     "metadata": {},
     "output_type": "display_data"
    },
    {
     "name": "stdout",
     "output_type": "stream",
     "text": [
      "for s = 0.1 a = 7 sA =  2 sd = 2 Ei = 0.7\n",
      "Utility A = 2009.4999999996685 utility D = -2009.4999999996685\n",
      "equlibrium (array([1., 0., 0.]), array([1., 0.]))\n",
      "оптимальная стратегия оброняющегося номер  1 оптимальная стратегия атакующего номер  1\n"
     ]
    },
    {
     "data": {
      "application/vnd.jupyter.widget-view+json": {
       "model_id": "a40d0ced643c4d6a853deda7703574e2",
       "version_major": 2,
       "version_minor": 0
      },
      "text/plain": [
       "  0%|          | 0/50000 [00:00<?, ?it/s]"
      ]
     },
     "metadata": {},
     "output_type": "display_data"
    },
    {
     "name": "stdout",
     "output_type": "stream",
     "text": [
      "for s = 0.1 a = 7 sA =  2 sd = 2 Ei = 0.8\n",
      "Utility A = 1961.389999999661 utility D = -1961.389999999661\n",
      "equlibrium (array([1., 0., 0.]), array([1., 0.]))\n",
      "оптимальная стратегия оброняющегося номер  1 оптимальная стратегия атакующего номер  1\n"
     ]
    },
    {
     "data": {
      "application/vnd.jupyter.widget-view+json": {
       "model_id": "84a5dd92ae584db7919ac83d6347661b",
       "version_major": 2,
       "version_minor": 0
      },
      "text/plain": [
       "  0%|          | 0/50000 [00:00<?, ?it/s]"
      ]
     },
     "metadata": {},
     "output_type": "display_data"
    },
    {
     "name": "stdout",
     "output_type": "stream",
     "text": [
      "for s = 0.1 a = 7 sA =  2 sd = 2 Ei = 0.9\n",
      "Utility A = 1972.2199999996665 utility D = -1972.2199999996665\n",
      "equlibrium (array([1., 0., 0.]), array([1., 0.]))\n",
      "оптимальная стратегия оброняющегося номер  1 оптимальная стратегия атакующего номер  1\n"
     ]
    },
    {
     "data": {
      "application/vnd.jupyter.widget-view+json": {
       "model_id": "b608067c9b5548cab530831070aec32c",
       "version_major": 2,
       "version_minor": 0
      },
      "text/plain": [
       "  0%|          | 0/50000 [00:00<?, ?it/s]"
      ]
     },
     "metadata": {},
     "output_type": "display_data"
    },
    {
     "name": "stdout",
     "output_type": "stream",
     "text": [
      "for s = 0.1 a = 7 sA =  2 sd = 3 Ei = 0.1\n",
      "Utility A = 1979.6499999996743 utility D = -1979.6499999996743\n",
      "equlibrium (array([1., 0., 0.]), array([1., 0.]))\n",
      "оптимальная стратегия оброняющегося номер  1 оптимальная стратегия атакующего номер  1\n"
     ]
    },
    {
     "data": {
      "application/vnd.jupyter.widget-view+json": {
       "model_id": "f48e4e64ac51485badf0f9bc8e2eb70c",
       "version_major": 2,
       "version_minor": 0
      },
      "text/plain": [
       "  0%|          | 0/50000 [00:00<?, ?it/s]"
      ]
     },
     "metadata": {},
     "output_type": "display_data"
    },
    {
     "name": "stdout",
     "output_type": "stream",
     "text": [
      "for s = 0.1 a = 7 sA =  2 sd = 3 Ei = 0.2\n",
      "Utility A = 1999.8899999996638 utility D = -1999.8899999996638\n",
      "equlibrium (array([1., 0., 0.]), array([1., 0.]))\n",
      "оптимальная стратегия оброняющегося номер  1 оптимальная стратегия атакующего номер  1\n"
     ]
    },
    {
     "data": {
      "application/vnd.jupyter.widget-view+json": {
       "model_id": "48732270baba4d5f919ba9051fc7b50d",
       "version_major": 2,
       "version_minor": 0
      },
      "text/plain": [
       "  0%|          | 0/50000 [00:00<?, ?it/s]"
      ]
     },
     "metadata": {},
     "output_type": "display_data"
    },
    {
     "name": "stdout",
     "output_type": "stream",
     "text": [
      "for s = 0.1 a = 7 sA =  2 sd = 3 Ei = 0.3\n",
      "Utility A = 1993.0099999996535 utility D = -1993.0099999996535\n",
      "equlibrium (array([1., 0., 0.]), array([1., 0.]))\n",
      "оптимальная стратегия оброняющегося номер  1 оптимальная стратегия атакующего номер  1\n"
     ]
    },
    {
     "data": {
      "application/vnd.jupyter.widget-view+json": {
       "model_id": "a0406820a5ac47bf90fdc511478ee81f",
       "version_major": 2,
       "version_minor": 0
      },
      "text/plain": [
       "  0%|          | 0/50000 [00:00<?, ?it/s]"
      ]
     },
     "metadata": {},
     "output_type": "display_data"
    },
    {
     "name": "stdout",
     "output_type": "stream",
     "text": [
      "for s = 0.1 a = 7 sA =  2 sd = 3 Ei = 0.4\n",
      "Utility A = 1984.1399999996718 utility D = -1984.1399999996718\n",
      "equlibrium (array([1., 0., 0.]), array([1., 0.]))\n",
      "оптимальная стратегия оброняющегося номер  1 оптимальная стратегия атакующего номер  1\n"
     ]
    },
    {
     "data": {
      "application/vnd.jupyter.widget-view+json": {
       "model_id": "441182f118db49b5ab337c9e630329dd",
       "version_major": 2,
       "version_minor": 0
      },
      "text/plain": [
       "  0%|          | 0/50000 [00:00<?, ?it/s]"
      ]
     },
     "metadata": {},
     "output_type": "display_data"
    },
    {
     "name": "stdout",
     "output_type": "stream",
     "text": [
      "for s = 0.1 a = 7 sA =  2 sd = 3 Ei = 0.5\n",
      "Utility A = 1974.5499999996607 utility D = -1974.5499999996607\n",
      "equlibrium (array([1., 0., 0.]), array([1., 0.]))\n",
      "оптимальная стратегия оброняющегося номер  1 оптимальная стратегия атакующего номер  1\n"
     ]
    },
    {
     "data": {
      "application/vnd.jupyter.widget-view+json": {
       "model_id": "fb691f02850c4efdb76142a00e7df223",
       "version_major": 2,
       "version_minor": 0
      },
      "text/plain": [
       "  0%|          | 0/50000 [00:00<?, ?it/s]"
      ]
     },
     "metadata": {},
     "output_type": "display_data"
    },
    {
     "name": "stdout",
     "output_type": "stream",
     "text": [
      "for s = 0.1 a = 7 sA =  2 sd = 3 Ei = 0.6\n",
      "Utility A = 1972.8799999996586 utility D = -1972.8799999996586\n",
      "equlibrium (array([1., 0., 0.]), array([1., 0.]))\n",
      "оптимальная стратегия оброняющегося номер  1 оптимальная стратегия атакующего номер  1\n"
     ]
    },
    {
     "data": {
      "application/vnd.jupyter.widget-view+json": {
       "model_id": "a47bb0df7a104311b2691e72bf5c7d97",
       "version_major": 2,
       "version_minor": 0
      },
      "text/plain": [
       "  0%|          | 0/50000 [00:00<?, ?it/s]"
      ]
     },
     "metadata": {},
     "output_type": "display_data"
    },
    {
     "name": "stdout",
     "output_type": "stream",
     "text": [
      "for s = 0.1 a = 7 sA =  2 sd = 3 Ei = 0.7\n",
      "Utility A = 1989.7699999996637 utility D = -1989.7699999996637\n",
      "equlibrium (array([1., 0., 0.]), array([1., 0.]))\n",
      "оптимальная стратегия оброняющегося номер  1 оптимальная стратегия атакующего номер  1\n"
     ]
    },
    {
     "data": {
      "application/vnd.jupyter.widget-view+json": {
       "model_id": "199b6701cd3b403db8508f74c951be3e",
       "version_major": 2,
       "version_minor": 0
      },
      "text/plain": [
       "  0%|          | 0/50000 [00:00<?, ?it/s]"
      ]
     },
     "metadata": {},
     "output_type": "display_data"
    },
    {
     "name": "stdout",
     "output_type": "stream",
     "text": [
      "for s = 0.1 a = 7 sA =  2 sd = 3 Ei = 0.8\n",
      "Utility A = 1985.4099999996631 utility D = -1985.4099999996631\n",
      "equlibrium (array([1., 0., 0.]), array([1., 0.]))\n",
      "оптимальная стратегия оброняющегося номер  1 оптимальная стратегия атакующего номер  1\n"
     ]
    },
    {
     "data": {
      "application/vnd.jupyter.widget-view+json": {
       "model_id": "1bae05466617403591bc57c88d159235",
       "version_major": 2,
       "version_minor": 0
      },
      "text/plain": [
       "  0%|          | 0/50000 [00:00<?, ?it/s]"
      ]
     },
     "metadata": {},
     "output_type": "display_data"
    },
    {
     "name": "stdout",
     "output_type": "stream",
     "text": [
      "for s = 0.1 a = 7 sA =  2 sd = 3 Ei = 0.9\n",
      "Utility A = 1967.8299999996602 utility D = -1967.8299999996602\n",
      "equlibrium (array([1., 0., 0.]), array([1., 0.]))\n",
      "оптимальная стратегия оброняющегося номер  1 оптимальная стратегия атакующего номер  1\n"
     ]
    },
    {
     "data": {
      "application/vnd.jupyter.widget-view+json": {
       "model_id": "47713118e6094622ac5a9ceff81d137e",
       "version_major": 2,
       "version_minor": 0
      },
      "text/plain": [
       "  0%|          | 0/50000 [00:00<?, ?it/s]"
      ]
     },
     "metadata": {},
     "output_type": "display_data"
    },
    {
     "name": "stdout",
     "output_type": "stream",
     "text": [
      "for s = 0.1 a = 8 sA =  1 sd = 1 Ei = 0.1\n",
      "Utility A = 20395.010000001264 utility D = -21071.105000001335\n",
      "equlibrium (array([1., 0., 0.]), array([0., 1.]))\n",
      "оптимальная стратегия оброняющегося номер  1 оптимальная стратегия атакующего номер  2\n"
     ]
    },
    {
     "data": {
      "application/vnd.jupyter.widget-view+json": {
       "model_id": "9a611280a8fc41698db0730231909cf6",
       "version_major": 2,
       "version_minor": 0
      },
      "text/plain": [
       "  0%|          | 0/50000 [00:00<?, ?it/s]"
      ]
     },
     "metadata": {},
     "output_type": "display_data"
    },
    {
     "name": "stdout",
     "output_type": "stream",
     "text": [
      "for s = 0.1 a = 8 sA =  1 sd = 1 Ei = 0.2\n",
      "Utility A = 20403.230000001357 utility D = -20975.69000000206\n",
      "equlibrium (array([1., 0., 0.]), array([0., 1.]))\n",
      "оптимальная стратегия оброняющегося номер  1 оптимальная стратегия атакующего номер  2\n"
     ]
    },
    {
     "data": {
      "application/vnd.jupyter.widget-view+json": {
       "model_id": "fbc7ea82ab11483c93aa2ff3df5a3071",
       "version_major": 2,
       "version_minor": 0
      },
      "text/plain": [
       "  0%|          | 0/50000 [00:00<?, ?it/s]"
      ]
     },
     "metadata": {},
     "output_type": "display_data"
    },
    {
     "name": "stdout",
     "output_type": "stream",
     "text": [
      "for s = 0.1 a = 8 sA =  1 sd = 1 Ei = 0.3\n",
      "Utility A = 20390.0900000015 utility D = -20948.430000001965\n",
      "equlibrium (array([1., 0., 0.]), array([0., 1.]))\n",
      "оптимальная стратегия оброняющегося номер  1 оптимальная стратегия атакующего номер  2\n"
     ]
    },
    {
     "data": {
      "application/vnd.jupyter.widget-view+json": {
       "model_id": "5e2fa1b86861492d998aba4138745c01",
       "version_major": 2,
       "version_minor": 0
      },
      "text/plain": [
       "  0%|          | 0/50000 [00:00<?, ?it/s]"
      ]
     },
     "metadata": {},
     "output_type": "display_data"
    },
    {
     "name": "stdout",
     "output_type": "stream",
     "text": [
      "for s = 0.1 a = 8 sA =  1 sd = 1 Ei = 0.4\n",
      "Utility A = 20349.170000001457 utility D = -20917.330000002083\n",
      "equlibrium (array([1., 0., 0.]), array([0., 1.]))\n",
      "оптимальная стратегия оброняющегося номер  1 оптимальная стратегия атакующего номер  2\n"
     ]
    },
    {
     "data": {
      "application/vnd.jupyter.widget-view+json": {
       "model_id": "f4c67debd9bc444d95e5caac5919daac",
       "version_major": 2,
       "version_minor": 0
      },
      "text/plain": [
       "  0%|          | 0/50000 [00:00<?, ?it/s]"
      ]
     },
     "metadata": {},
     "output_type": "display_data"
    },
    {
     "name": "stdout",
     "output_type": "stream",
     "text": [
      "for s = 0.1 a = 8 sA =  1 sd = 1 Ei = 0.5\n",
      "Utility A = 20619.360000001285 utility D = -21191.350000001843\n",
      "equlibrium (array([1., 0., 0.]), array([0., 1.]))\n",
      "оптимальная стратегия оброняющегося номер  1 оптимальная стратегия атакующего номер  2\n"
     ]
    },
    {
     "data": {
      "application/vnd.jupyter.widget-view+json": {
       "model_id": "72c34709042e4ac4b19cd40f007f4890",
       "version_major": 2,
       "version_minor": 0
      },
      "text/plain": [
       "  0%|          | 0/50000 [00:00<?, ?it/s]"
      ]
     },
     "metadata": {},
     "output_type": "display_data"
    },
    {
     "name": "stdout",
     "output_type": "stream",
     "text": [
      "for s = 0.1 a = 8 sA =  1 sd = 1 Ei = 0.6\n",
      "Utility A = 20456.190000001483 utility D = -21036.84000000206\n",
      "equlibrium (array([1., 0., 0.]), array([0., 1.]))\n",
      "оптимальная стратегия оброняющегося номер  1 оптимальная стратегия атакующего номер  2\n"
     ]
    },
    {
     "data": {
      "application/vnd.jupyter.widget-view+json": {
       "model_id": "c46f4d1520a643c283ebe217d95707f2",
       "version_major": 2,
       "version_minor": 0
      },
      "text/plain": [
       "  0%|          | 0/50000 [00:00<?, ?it/s]"
      ]
     },
     "metadata": {},
     "output_type": "display_data"
    },
    {
     "name": "stdout",
     "output_type": "stream",
     "text": [
      "for s = 0.1 a = 8 sA =  1 sd = 1 Ei = 0.7\n",
      "Utility A = 20342.780000001214 utility D = -20924.79000000173\n",
      "equlibrium (array([1., 0., 0.]), array([0., 1.]))\n",
      "оптимальная стратегия оброняющегося номер  1 оптимальная стратегия атакующего номер  2\n"
     ]
    },
    {
     "data": {
      "application/vnd.jupyter.widget-view+json": {
       "model_id": "4d1d9d29bc8a4f18b237b915d2fe3502",
       "version_major": 2,
       "version_minor": 0
      },
      "text/plain": [
       "  0%|          | 0/50000 [00:00<?, ?it/s]"
      ]
     },
     "metadata": {},
     "output_type": "display_data"
    },
    {
     "name": "stdout",
     "output_type": "stream",
     "text": [
      "for s = 0.1 a = 8 sA =  1 sd = 1 Ei = 0.8\n",
      "Utility A = 20350.590000001383 utility D = -20918.70000000201\n",
      "equlibrium (array([1., 0., 0.]), array([0., 1.]))\n",
      "оптимальная стратегия оброняющегося номер  1 оптимальная стратегия атакующего номер  2\n"
     ]
    },
    {
     "data": {
      "application/vnd.jupyter.widget-view+json": {
       "model_id": "d271991329504697bd4b1a1fcca48844",
       "version_major": 2,
       "version_minor": 0
      },
      "text/plain": [
       "  0%|          | 0/50000 [00:00<?, ?it/s]"
      ]
     },
     "metadata": {},
     "output_type": "display_data"
    },
    {
     "name": "stdout",
     "output_type": "stream",
     "text": [
      "for s = 0.1 a = 8 sA =  1 sd = 1 Ei = 0.9\n",
      "Utility A = 20300.810000001326 utility D = -20879.770000001874\n",
      "equlibrium (array([1., 0., 0.]), array([0., 1.]))\n",
      "оптимальная стратегия оброняющегося номер  1 оптимальная стратегия атакующего номер  2\n"
     ]
    },
    {
     "data": {
      "application/vnd.jupyter.widget-view+json": {
       "model_id": "917d477594bd463bb1b933b32eb47126",
       "version_major": 2,
       "version_minor": 0
      },
      "text/plain": [
       "  0%|          | 0/50000 [00:00<?, ?it/s]"
      ]
     },
     "metadata": {},
     "output_type": "display_data"
    },
    {
     "name": "stdout",
     "output_type": "stream",
     "text": [
      "for s = 0.1 a = 8 sA =  1 sd = 2 Ei = 0.1\n",
      "Utility A = 21109.31000000188 utility D = -21121.131262674717\n",
      "equlibrium (array([1., 0., 0.]), array([0., 1.]))\n",
      "оптимальная стратегия оброняющегося номер  1 оптимальная стратегия атакующего номер  2\n"
     ]
    },
    {
     "data": {
      "application/vnd.jupyter.widget-view+json": {
       "model_id": "5dfea35131654baeb5357a26f7626d19",
       "version_major": 2,
       "version_minor": 0
      },
      "text/plain": [
       "  0%|          | 0/50000 [00:00<?, ?it/s]"
      ]
     },
     "metadata": {},
     "output_type": "display_data"
    },
    {
     "name": "stdout",
     "output_type": "stream",
     "text": [
      "for s = 0.1 a = 8 sA =  1 sd = 2 Ei = 0.2\n",
      "Utility A = 21140.940000001992 utility D = -21307.821344657517\n",
      "equlibrium (array([1., 0., 0.]), array([0., 1.]))\n",
      "оптимальная стратегия оброняющегося номер  1 оптимальная стратегия атакующего номер  2\n"
     ]
    },
    {
     "data": {
      "application/vnd.jupyter.widget-view+json": {
       "model_id": "7b813726e37c42a1863efdccee9ca9f4",
       "version_major": 2,
       "version_minor": 0
      },
      "text/plain": [
       "  0%|          | 0/50000 [00:00<?, ?it/s]"
      ]
     },
     "metadata": {},
     "output_type": "display_data"
    },
    {
     "name": "stdout",
     "output_type": "stream",
     "text": [
      "for s = 0.1 a = 8 sA =  1 sd = 2 Ei = 0.3\n",
      "Utility A = 21060.240000002 utility D = -21239.853960270273\n",
      "equlibrium (array([1., 0., 0.]), array([0., 1.]))\n",
      "оптимальная стратегия оброняющегося номер  1 оптимальная стратегия атакующего номер  2\n"
     ]
    },
    {
     "data": {
      "application/vnd.jupyter.widget-view+json": {
       "model_id": "8ec0760ffe90419aae4a77c541385307",
       "version_major": 2,
       "version_minor": 0
      },
      "text/plain": [
       "  0%|          | 0/50000 [00:00<?, ?it/s]"
      ]
     },
     "metadata": {},
     "output_type": "display_data"
    },
    {
     "name": "stdout",
     "output_type": "stream",
     "text": [
      "for s = 0.1 a = 8 sA =  1 sd = 2 Ei = 0.4\n",
      "Utility A = 20875.780000002054 utility D = -21026.495744914107\n",
      "equlibrium (array([1., 0., 0.]), array([0., 1.]))\n",
      "оптимальная стратегия оброняющегося номер  1 оптимальная стратегия атакующего номер  2\n"
     ]
    },
    {
     "data": {
      "application/vnd.jupyter.widget-view+json": {
       "model_id": "33b8ec4908344fae83ad505607310208",
       "version_major": 2,
       "version_minor": 0
      },
      "text/plain": [
       "  0%|          | 0/50000 [00:00<?, ?it/s]"
      ]
     },
     "metadata": {},
     "output_type": "display_data"
    },
    {
     "name": "stdout",
     "output_type": "stream",
     "text": [
      "for s = 0.1 a = 8 sA =  1 sd = 2 Ei = 0.5\n",
      "Utility A = 20758.950000001867 utility D = -20899.612006195974\n",
      "equlibrium (array([1., 0., 0.]), array([0., 1.]))\n",
      "оптимальная стратегия оброняющегося номер  1 оптимальная стратегия атакующего номер  2\n"
     ]
    },
    {
     "data": {
      "application/vnd.jupyter.widget-view+json": {
       "model_id": "8ca63f6ee88f44d29af12e5fff51e704",
       "version_major": 2,
       "version_minor": 0
      },
      "text/plain": [
       "  0%|          | 0/50000 [00:00<?, ?it/s]"
      ]
     },
     "metadata": {},
     "output_type": "display_data"
    },
    {
     "name": "stdout",
     "output_type": "stream",
     "text": [
      "for s = 0.1 a = 8 sA =  1 sd = 2 Ei = 0.6\n",
      "Utility A = 20939.30000000193 utility D = -21424.917529082904\n",
      "equlibrium (array([1., 0., 0.]), array([0., 1.]))\n",
      "оптимальная стратегия оброняющегося номер  1 оптимальная стратегия атакующего номер  2\n"
     ]
    },
    {
     "data": {
      "application/vnd.jupyter.widget-view+json": {
       "model_id": "5b23be67de0e4184a0476d920a401339",
       "version_major": 2,
       "version_minor": 0
      },
      "text/plain": [
       "  0%|          | 0/50000 [00:00<?, ?it/s]"
      ]
     },
     "metadata": {},
     "output_type": "display_data"
    },
    {
     "name": "stdout",
     "output_type": "stream",
     "text": [
      "for s = 0.1 a = 8 sA =  1 sd = 2 Ei = 0.7\n",
      "Utility A = 21056.640000001786 utility D = -21628.27729623158\n",
      "equlibrium (array([1., 0., 0.]), array([0., 1.]))\n",
      "оптимальная стратегия оброняющегося номер  1 оптимальная стратегия атакующего номер  2\n"
     ]
    },
    {
     "data": {
      "application/vnd.jupyter.widget-view+json": {
       "model_id": "e3de1d9d6eaf4de8bdca93a53eed899b",
       "version_major": 2,
       "version_minor": 0
      },
      "text/plain": [
       "  0%|          | 0/50000 [00:00<?, ?it/s]"
      ]
     },
     "metadata": {},
     "output_type": "display_data"
    },
    {
     "name": "stdout",
     "output_type": "stream",
     "text": [
      "for s = 0.1 a = 8 sA =  1 sd = 2 Ei = 0.8\n",
      "Utility A = 21186.330000001744 utility D = -21524.84600241309\n",
      "equlibrium (array([1., 0., 0.]), array([0., 1.]))\n",
      "оптимальная стратегия оброняющегося номер  1 оптимальная стратегия атакующего номер  2\n"
     ]
    },
    {
     "data": {
      "application/vnd.jupyter.widget-view+json": {
       "model_id": "3d67670cb2d64461a094d0687f3b5cc8",
       "version_major": 2,
       "version_minor": 0
      },
      "text/plain": [
       "  0%|          | 0/50000 [00:00<?, ?it/s]"
      ]
     },
     "metadata": {},
     "output_type": "display_data"
    },
    {
     "name": "stdout",
     "output_type": "stream",
     "text": [
      "for s = 0.1 a = 8 sA =  1 sd = 2 Ei = 0.9\n",
      "Utility A = 20996.32000000163 utility D = -21358.182387474055\n",
      "equlibrium (array([1., 0., 0.]), array([0., 1.]))\n",
      "оптимальная стратегия оброняющегося номер  1 оптимальная стратегия атакующего номер  2\n"
     ]
    },
    {
     "data": {
      "application/vnd.jupyter.widget-view+json": {
       "model_id": "554c8abc86bb4775b642defa1f3c8f77",
       "version_major": 2,
       "version_minor": 0
      },
      "text/plain": [
       "  0%|          | 0/50000 [00:00<?, ?it/s]"
      ]
     },
     "metadata": {},
     "output_type": "display_data"
    },
    {
     "name": "stdout",
     "output_type": "stream",
     "text": [
      "for s = 0.1 a = 8 sA =  1 sd = 3 Ei = 0.1\n",
      "Utility A = 0 utility D = 0\n",
      "equlibrium (array([1., 0., 0.]), array([1., 0.]))\n",
      "оптимальная стратегия оброняющегося номер  1 оптимальная стратегия атакующего номер  1\n"
     ]
    },
    {
     "data": {
      "application/vnd.jupyter.widget-view+json": {
       "model_id": "4aebee54534748d38967bf3025257e2c",
       "version_major": 2,
       "version_minor": 0
      },
      "text/plain": [
       "  0%|          | 0/50000 [00:00<?, ?it/s]"
      ]
     },
     "metadata": {},
     "output_type": "display_data"
    },
    {
     "name": "stdout",
     "output_type": "stream",
     "text": [
      "for s = 0.1 a = 8 sA =  1 sd = 3 Ei = 0.2\n",
      "Utility A = 0 utility D = 0\n",
      "equlibrium (array([1., 0., 0.]), array([1., 0.]))\n",
      "оптимальная стратегия оброняющегося номер  1 оптимальная стратегия атакующего номер  1\n"
     ]
    },
    {
     "data": {
      "application/vnd.jupyter.widget-view+json": {
       "model_id": "9206fcbd6b8747eeb66fde137d5feb04",
       "version_major": 2,
       "version_minor": 0
      },
      "text/plain": [
       "  0%|          | 0/50000 [00:00<?, ?it/s]"
      ]
     },
     "metadata": {},
     "output_type": "display_data"
    },
    {
     "name": "stdout",
     "output_type": "stream",
     "text": [
      "for s = 0.1 a = 8 sA =  1 sd = 3 Ei = 0.3\n",
      "Utility A = 0 utility D = 0\n",
      "equlibrium (array([1., 0., 0.]), array([1., 0.]))\n",
      "оптимальная стратегия оброняющегося номер  1 оптимальная стратегия атакующего номер  1\n"
     ]
    },
    {
     "data": {
      "application/vnd.jupyter.widget-view+json": {
       "model_id": "fe6aac48f46c4cbdb173c5af8633991a",
       "version_major": 2,
       "version_minor": 0
      },
      "text/plain": [
       "  0%|          | 0/50000 [00:00<?, ?it/s]"
      ]
     },
     "metadata": {},
     "output_type": "display_data"
    },
    {
     "name": "stdout",
     "output_type": "stream",
     "text": [
      "for s = 0.1 a = 8 sA =  1 sd = 3 Ei = 0.4\n",
      "Utility A = 0 utility D = 0\n",
      "equlibrium (array([1., 0., 0.]), array([1., 0.]))\n",
      "оптимальная стратегия оброняющегося номер  1 оптимальная стратегия атакующего номер  1\n"
     ]
    },
    {
     "data": {
      "application/vnd.jupyter.widget-view+json": {
       "model_id": "581d6c06bcf4495c9e5a9d656374d4e7",
       "version_major": 2,
       "version_minor": 0
      },
      "text/plain": [
       "  0%|          | 0/50000 [00:00<?, ?it/s]"
      ]
     },
     "metadata": {},
     "output_type": "display_data"
    },
    {
     "name": "stdout",
     "output_type": "stream",
     "text": [
      "for s = 0.1 a = 8 sA =  1 sd = 3 Ei = 0.5\n",
      "Utility A = 0 utility D = 0\n",
      "equlibrium (array([1., 0., 0.]), array([1., 0.]))\n",
      "оптимальная стратегия оброняющегося номер  1 оптимальная стратегия атакующего номер  1\n"
     ]
    },
    {
     "data": {
      "application/vnd.jupyter.widget-view+json": {
       "model_id": "588d000438234fb6928ac5cf259a80f1",
       "version_major": 2,
       "version_minor": 0
      },
      "text/plain": [
       "  0%|          | 0/50000 [00:00<?, ?it/s]"
      ]
     },
     "metadata": {},
     "output_type": "display_data"
    },
    {
     "name": "stdout",
     "output_type": "stream",
     "text": [
      "for s = 0.1 a = 8 sA =  1 sd = 3 Ei = 0.6\n",
      "Utility A = 0 utility D = 0\n",
      "equlibrium (array([1., 0., 0.]), array([1., 0.]))\n",
      "оптимальная стратегия оброняющегося номер  1 оптимальная стратегия атакующего номер  1\n"
     ]
    },
    {
     "data": {
      "application/vnd.jupyter.widget-view+json": {
       "model_id": "801c68272fe444fc94a1a776de5f2589",
       "version_major": 2,
       "version_minor": 0
      },
      "text/plain": [
       "  0%|          | 0/50000 [00:00<?, ?it/s]"
      ]
     },
     "metadata": {},
     "output_type": "display_data"
    },
    {
     "name": "stdout",
     "output_type": "stream",
     "text": [
      "for s = 0.1 a = 8 sA =  1 sd = 3 Ei = 0.7\n",
      "Utility A = 0 utility D = 0\n",
      "equlibrium (array([1., 0., 0.]), array([1., 0.]))\n",
      "оптимальная стратегия оброняющегося номер  1 оптимальная стратегия атакующего номер  1\n"
     ]
    },
    {
     "data": {
      "application/vnd.jupyter.widget-view+json": {
       "model_id": "a9a9604e2d8d40f78c3e82af1ff4f459",
       "version_major": 2,
       "version_minor": 0
      },
      "text/plain": [
       "  0%|          | 0/50000 [00:00<?, ?it/s]"
      ]
     },
     "metadata": {},
     "output_type": "display_data"
    },
    {
     "name": "stdout",
     "output_type": "stream",
     "text": [
      "for s = 0.1 a = 8 sA =  1 sd = 3 Ei = 0.8\n",
      "Utility A = 0 utility D = 0\n",
      "equlibrium (array([1., 0., 0.]), array([1., 0.]))\n",
      "оптимальная стратегия оброняющегося номер  1 оптимальная стратегия атакующего номер  1\n"
     ]
    },
    {
     "data": {
      "application/vnd.jupyter.widget-view+json": {
       "model_id": "cef71b35a6eb420faa6983025d6beec7",
       "version_major": 2,
       "version_minor": 0
      },
      "text/plain": [
       "  0%|          | 0/50000 [00:00<?, ?it/s]"
      ]
     },
     "metadata": {},
     "output_type": "display_data"
    },
    {
     "name": "stdout",
     "output_type": "stream",
     "text": [
      "for s = 0.1 a = 8 sA =  1 sd = 3 Ei = 0.9\n",
      "Utility A = 0 utility D = 0\n",
      "equlibrium (array([1., 0., 0.]), array([1., 0.]))\n",
      "оптимальная стратегия оброняющегося номер  1 оптимальная стратегия атакующего номер  1\n"
     ]
    },
    {
     "data": {
      "application/vnd.jupyter.widget-view+json": {
       "model_id": "223720bddd434747aa7c78534581e37e",
       "version_major": 2,
       "version_minor": 0
      },
      "text/plain": [
       "  0%|          | 0/50000 [00:00<?, ?it/s]"
      ]
     },
     "metadata": {},
     "output_type": "display_data"
    },
    {
     "name": "stdout",
     "output_type": "stream",
     "text": [
      "for s = 0.1 a = 8 sA =  2 sd = 1 Ei = 0.1\n",
      "Utility A = 1994.3199999996639 utility D = -2002.029557771796\n",
      "equlibrium (array([1., 0., 0.]), array([1., 0.]))\n",
      "оптимальная стратегия оброняющегося номер  1 оптимальная стратегия атакующего номер  1\n"
     ]
    },
    {
     "data": {
      "application/vnd.jupyter.widget-view+json": {
       "model_id": "092e015397ff4857b5c4bfa88894caa7",
       "version_major": 2,
       "version_minor": 0
      },
      "text/plain": [
       "  0%|          | 0/50000 [00:00<?, ?it/s]"
      ]
     },
     "metadata": {},
     "output_type": "display_data"
    },
    {
     "name": "stdout",
     "output_type": "stream",
     "text": [
      "for s = 0.1 a = 8 sA =  2 sd = 1 Ei = 0.2\n",
      "Utility A = 1974.9299999996604 utility D = -2122.044070040999\n",
      "equlibrium (array([1., 0., 0.]), array([1., 0.]))\n",
      "оптимальная стратегия оброняющегося номер  1 оптимальная стратегия атакующего номер  1\n"
     ]
    },
    {
     "data": {
      "application/vnd.jupyter.widget-view+json": {
       "model_id": "40bfea32f00a41808dbba14c73cbbc23",
       "version_major": 2,
       "version_minor": 0
      },
      "text/plain": [
       "  0%|          | 0/50000 [00:00<?, ?it/s]"
      ]
     },
     "metadata": {},
     "output_type": "display_data"
    },
    {
     "name": "stdout",
     "output_type": "stream",
     "text": [
      "for s = 0.1 a = 8 sA =  2 sd = 1 Ei = 0.3\n",
      "Utility A = 1977.9799999996633 utility D = -2089.211785714083\n",
      "equlibrium (array([1., 0., 0.]), array([1., 0.]))\n",
      "оптимальная стратегия оброняющегося номер  1 оптимальная стратегия атакующего номер  1\n"
     ]
    },
    {
     "data": {
      "application/vnd.jupyter.widget-view+json": {
       "model_id": "4cc86b32a2084f5f91dd44759d4fb7b1",
       "version_major": 2,
       "version_minor": 0
      },
      "text/plain": [
       "  0%|          | 0/50000 [00:00<?, ?it/s]"
      ]
     },
     "metadata": {},
     "output_type": "display_data"
    },
    {
     "name": "stdout",
     "output_type": "stream",
     "text": [
      "for s = 0.1 a = 8 sA =  2 sd = 1 Ei = 0.4\n",
      "Utility A = 1976.3199999996823 utility D = -2026.2519999996737\n",
      "equlibrium (array([1., 0., 0.]), array([1., 0.]))\n",
      "оптимальная стратегия оброняющегося номер  1 оптимальная стратегия атакующего номер  1\n"
     ]
    },
    {
     "data": {
      "application/vnd.jupyter.widget-view+json": {
       "model_id": "c4b9914851e64c79b3b2ff3b063970ba",
       "version_major": 2,
       "version_minor": 0
      },
      "text/plain": [
       "  0%|          | 0/50000 [00:00<?, ?it/s]"
      ]
     },
     "metadata": {},
     "output_type": "display_data"
    },
    {
     "name": "stdout",
     "output_type": "stream",
     "text": [
      "for s = 0.1 a = 8 sA =  2 sd = 1 Ei = 0.5\n",
      "Utility A = 1975.429999999672 utility D = -1975.429999999672\n",
      "equlibrium (array([1., 0., 0.]), array([1., 0.]))\n",
      "оптимальная стратегия оброняющегося номер  1 оптимальная стратегия атакующего номер  1\n"
     ]
    },
    {
     "data": {
      "application/vnd.jupyter.widget-view+json": {
       "model_id": "4a21a906fded45f2bfc8aec5fac55cb7",
       "version_major": 2,
       "version_minor": 0
      },
      "text/plain": [
       "  0%|          | 0/50000 [00:00<?, ?it/s]"
      ]
     },
     "metadata": {},
     "output_type": "display_data"
    },
    {
     "name": "stdout",
     "output_type": "stream",
     "text": [
      "for s = 0.1 a = 8 sA =  2 sd = 1 Ei = 0.6\n",
      "Utility A = 1980.9399999996674 utility D = -1980.9399999996674\n",
      "equlibrium (array([1., 0., 0.]), array([1., 0.]))\n",
      "оптимальная стратегия оброняющегося номер  1 оптимальная стратегия атакующего номер  1\n"
     ]
    },
    {
     "data": {
      "application/vnd.jupyter.widget-view+json": {
       "model_id": "1b1e3ce081504e01be1d2d5d61775564",
       "version_major": 2,
       "version_minor": 0
      },
      "text/plain": [
       "  0%|          | 0/50000 [00:00<?, ?it/s]"
      ]
     },
     "metadata": {},
     "output_type": "display_data"
    },
    {
     "name": "stdout",
     "output_type": "stream",
     "text": [
      "for s = 0.1 a = 8 sA =  2 sd = 1 Ei = 0.7\n",
      "Utility A = 1979.4499999996776 utility D = -1979.4499999996776\n",
      "equlibrium (array([1., 0., 0.]), array([1., 0.]))\n",
      "оптимальная стратегия оброняющегося номер  1 оптимальная стратегия атакующего номер  1\n"
     ]
    },
    {
     "data": {
      "application/vnd.jupyter.widget-view+json": {
       "model_id": "c7ebb24640e4478c833b772aa09b61e2",
       "version_major": 2,
       "version_minor": 0
      },
      "text/plain": [
       "  0%|          | 0/50000 [00:00<?, ?it/s]"
      ]
     },
     "metadata": {},
     "output_type": "display_data"
    },
    {
     "name": "stdout",
     "output_type": "stream",
     "text": [
      "for s = 0.1 a = 8 sA =  2 sd = 1 Ei = 0.8\n",
      "Utility A = 1956.649999999674 utility D = -1956.649999999674\n",
      "equlibrium (array([1., 0., 0.]), array([1., 0.]))\n",
      "оптимальная стратегия оброняющегося номер  1 оптимальная стратегия атакующего номер  1\n"
     ]
    },
    {
     "data": {
      "application/vnd.jupyter.widget-view+json": {
       "model_id": "e4904c97665044a8b91c2ff5f1401239",
       "version_major": 2,
       "version_minor": 0
      },
      "text/plain": [
       "  0%|          | 0/50000 [00:00<?, ?it/s]"
      ]
     },
     "metadata": {},
     "output_type": "display_data"
    },
    {
     "name": "stdout",
     "output_type": "stream",
     "text": [
      "for s = 0.1 a = 8 sA =  2 sd = 1 Ei = 0.9\n",
      "Utility A = 1966.799999999679 utility D = -1966.799999999679\n",
      "equlibrium (array([1., 0., 0.]), array([1., 0.]))\n",
      "оптимальная стратегия оброняющегося номер  1 оптимальная стратегия атакующего номер  1\n"
     ]
    },
    {
     "data": {
      "application/vnd.jupyter.widget-view+json": {
       "model_id": "98b0f204018e42f1a7d4abd014ef764f",
       "version_major": 2,
       "version_minor": 0
      },
      "text/plain": [
       "  0%|          | 0/50000 [00:00<?, ?it/s]"
      ]
     },
     "metadata": {},
     "output_type": "display_data"
    },
    {
     "name": "stdout",
     "output_type": "stream",
     "text": [
      "for s = 0.1 a = 8 sA =  2 sd = 2 Ei = 0.1\n",
      "Utility A = 1997.7999999996637 utility D = -2105.1200000002614\n",
      "equlibrium (array([1., 0., 0.]), array([1., 0.]))\n",
      "оптимальная стратегия оброняющегося номер  1 оптимальная стратегия атакующего номер  1\n"
     ]
    },
    {
     "data": {
      "application/vnd.jupyter.widget-view+json": {
       "model_id": "dfefcb89fe604ffdb23cb6ee83cfda3a",
       "version_major": 2,
       "version_minor": 0
      },
      "text/plain": [
       "  0%|          | 0/50000 [00:00<?, ?it/s]"
      ]
     },
     "metadata": {},
     "output_type": "display_data"
    },
    {
     "name": "stdout",
     "output_type": "stream",
     "text": [
      "for s = 0.1 a = 8 sA =  2 sd = 2 Ei = 0.2\n",
      "Utility A = 1989.0599999996602 utility D = -1989.0599999996602\n",
      "equlibrium (array([1., 0., 0.]), array([1., 0.]))\n",
      "оптимальная стратегия оброняющегося номер  1 оптимальная стратегия атакующего номер  1\n"
     ]
    },
    {
     "data": {
      "application/vnd.jupyter.widget-view+json": {
       "model_id": "b2ded5d50fbb49998c2a0ba647b1d699",
       "version_major": 2,
       "version_minor": 0
      },
      "text/plain": [
       "  0%|          | 0/50000 [00:00<?, ?it/s]"
      ]
     },
     "metadata": {},
     "output_type": "display_data"
    },
    {
     "name": "stdout",
     "output_type": "stream",
     "text": [
      "for s = 0.1 a = 8 sA =  2 sd = 2 Ei = 0.3\n",
      "Utility A = 1983.319999999672 utility D = -1983.319999999672\n",
      "equlibrium (array([1., 0., 0.]), array([1., 0.]))\n",
      "оптимальная стратегия оброняющегося номер  1 оптимальная стратегия атакующего номер  1\n"
     ]
    },
    {
     "data": {
      "application/vnd.jupyter.widget-view+json": {
       "model_id": "fafcfee686624081b41b04f4048306a9",
       "version_major": 2,
       "version_minor": 0
      },
      "text/plain": [
       "  0%|          | 0/50000 [00:00<?, ?it/s]"
      ]
     },
     "metadata": {},
     "output_type": "display_data"
    },
    {
     "name": "stdout",
     "output_type": "stream",
     "text": [
      "for s = 0.1 a = 8 sA =  2 sd = 2 Ei = 0.4\n",
      "Utility A = 1979.7799999996685 utility D = -1979.7799999996685\n",
      "equlibrium (array([1., 0., 0.]), array([1., 0.]))\n",
      "оптимальная стратегия оброняющегося номер  1 оптимальная стратегия атакующего номер  1\n"
     ]
    },
    {
     "data": {
      "application/vnd.jupyter.widget-view+json": {
       "model_id": "10ea86ddea5b49838e1e5f9477f0ef58",
       "version_major": 2,
       "version_minor": 0
      },
      "text/plain": [
       "  0%|          | 0/50000 [00:00<?, ?it/s]"
      ]
     },
     "metadata": {},
     "output_type": "display_data"
    },
    {
     "name": "stdout",
     "output_type": "stream",
     "text": [
      "for s = 0.1 a = 8 sA =  2 sd = 2 Ei = 0.5\n",
      "Utility A = 1966.4399999996797 utility D = -1966.4399999996797\n",
      "equlibrium (array([1., 0., 0.]), array([1., 0.]))\n",
      "оптимальная стратегия оброняющегося номер  1 оптимальная стратегия атакующего номер  1\n"
     ]
    },
    {
     "data": {
      "application/vnd.jupyter.widget-view+json": {
       "model_id": "6444b2b4b2ac4a339a9ceb8e5c7552e8",
       "version_major": 2,
       "version_minor": 0
      },
      "text/plain": [
       "  0%|          | 0/50000 [00:00<?, ?it/s]"
      ]
     },
     "metadata": {},
     "output_type": "display_data"
    },
    {
     "name": "stdout",
     "output_type": "stream",
     "text": [
      "for s = 0.1 a = 8 sA =  2 sd = 2 Ei = 0.6\n",
      "Utility A = 1988.1199999996604 utility D = -1988.1199999996604\n",
      "equlibrium (array([1., 0., 0.]), array([1., 0.]))\n",
      "оптимальная стратегия оброняющегося номер  1 оптимальная стратегия атакующего номер  1\n"
     ]
    },
    {
     "data": {
      "application/vnd.jupyter.widget-view+json": {
       "model_id": "1458815bc8734610b5af367747a991ed",
       "version_major": 2,
       "version_minor": 0
      },
      "text/plain": [
       "  0%|          | 0/50000 [00:00<?, ?it/s]"
      ]
     },
     "metadata": {},
     "output_type": "display_data"
    },
    {
     "name": "stdout",
     "output_type": "stream",
     "text": [
      "for s = 0.1 a = 8 sA =  2 sd = 2 Ei = 0.7\n",
      "Utility A = 1991.829999999663 utility D = -1991.829999999663\n",
      "equlibrium (array([1., 0., 0.]), array([1., 0.]))\n",
      "оптимальная стратегия оброняющегося номер  1 оптимальная стратегия атакующего номер  1\n"
     ]
    },
    {
     "data": {
      "application/vnd.jupyter.widget-view+json": {
       "model_id": "48883e3b4e424272a3612fe05ac8cb70",
       "version_major": 2,
       "version_minor": 0
      },
      "text/plain": [
       "  0%|          | 0/50000 [00:00<?, ?it/s]"
      ]
     },
     "metadata": {},
     "output_type": "display_data"
    },
    {
     "name": "stdout",
     "output_type": "stream",
     "text": [
      "for s = 0.1 a = 8 sA =  2 sd = 2 Ei = 0.8\n",
      "Utility A = 1974.6399999996727 utility D = -1974.6399999996727\n",
      "equlibrium (array([1., 0., 0.]), array([1., 0.]))\n",
      "оптимальная стратегия оброняющегося номер  1 оптимальная стратегия атакующего номер  1\n"
     ]
    },
    {
     "data": {
      "application/vnd.jupyter.widget-view+json": {
       "model_id": "b0b10c267a914c55a3a6904dc267cf82",
       "version_major": 2,
       "version_minor": 0
      },
      "text/plain": [
       "  0%|          | 0/50000 [00:00<?, ?it/s]"
      ]
     },
     "metadata": {},
     "output_type": "display_data"
    },
    {
     "name": "stdout",
     "output_type": "stream",
     "text": [
      "for s = 0.1 a = 8 sA =  2 sd = 2 Ei = 0.9\n",
      "Utility A = 1975.929999999653 utility D = -1975.929999999653\n",
      "equlibrium (array([1., 0., 0.]), array([1., 0.]))\n",
      "оптимальная стратегия оброняющегося номер  1 оптимальная стратегия атакующего номер  1\n"
     ]
    },
    {
     "data": {
      "application/vnd.jupyter.widget-view+json": {
       "model_id": "d5d59aeddb6c4bf080e4b728081a6679",
       "version_major": 2,
       "version_minor": 0
      },
      "text/plain": [
       "  0%|          | 0/50000 [00:00<?, ?it/s]"
      ]
     },
     "metadata": {},
     "output_type": "display_data"
    },
    {
     "name": "stdout",
     "output_type": "stream",
     "text": [
      "for s = 0.1 a = 8 sA =  2 sd = 3 Ei = 0.1\n",
      "Utility A = 1991.79999999967 utility D = -1991.79999999967\n",
      "equlibrium (array([1., 0., 0.]), array([1., 0.]))\n",
      "оптимальная стратегия оброняющегося номер  1 оптимальная стратегия атакующего номер  1\n"
     ]
    },
    {
     "data": {
      "application/vnd.jupyter.widget-view+json": {
       "model_id": "749759a1b89e4b36982b2553d869322f",
       "version_major": 2,
       "version_minor": 0
      },
      "text/plain": [
       "  0%|          | 0/50000 [00:00<?, ?it/s]"
      ]
     },
     "metadata": {},
     "output_type": "display_data"
    },
    {
     "name": "stdout",
     "output_type": "stream",
     "text": [
      "for s = 0.1 a = 8 sA =  2 sd = 3 Ei = 0.2\n",
      "Utility A = 1961.6799999996658 utility D = -1961.6799999996658\n",
      "equlibrium (array([1., 0., 0.]), array([1., 0.]))\n",
      "оптимальная стратегия оброняющегося номер  1 оптимальная стратегия атакующего номер  1\n"
     ]
    },
    {
     "data": {
      "application/vnd.jupyter.widget-view+json": {
       "model_id": "008ac1e0ab0645fab4372d8c752c2b23",
       "version_major": 2,
       "version_minor": 0
      },
      "text/plain": [
       "  0%|          | 0/50000 [00:00<?, ?it/s]"
      ]
     },
     "metadata": {},
     "output_type": "display_data"
    },
    {
     "name": "stdout",
     "output_type": "stream",
     "text": [
      "for s = 0.1 a = 8 sA =  2 sd = 3 Ei = 0.3\n",
      "Utility A = 1975.1199999996634 utility D = -1975.1199999996634\n",
      "equlibrium (array([1., 0., 0.]), array([1., 0.]))\n",
      "оптимальная стратегия оброняющегося номер  1 оптимальная стратегия атакующего номер  1\n"
     ]
    },
    {
     "data": {
      "application/vnd.jupyter.widget-view+json": {
       "model_id": "500f98a93be747479294931169f37792",
       "version_major": 2,
       "version_minor": 0
      },
      "text/plain": [
       "  0%|          | 0/50000 [00:00<?, ?it/s]"
      ]
     },
     "metadata": {},
     "output_type": "display_data"
    },
    {
     "name": "stdout",
     "output_type": "stream",
     "text": [
      "for s = 0.1 a = 8 sA =  2 sd = 3 Ei = 0.4\n",
      "Utility A = 1976.369999999662 utility D = -1976.369999999662\n",
      "equlibrium (array([1., 0., 0.]), array([1., 0.]))\n",
      "оптимальная стратегия оброняющегося номер  1 оптимальная стратегия атакующего номер  1\n"
     ]
    },
    {
     "data": {
      "application/vnd.jupyter.widget-view+json": {
       "model_id": "1a8963dfbaac4cf99369f45a133327a3",
       "version_major": 2,
       "version_minor": 0
      },
      "text/plain": [
       "  0%|          | 0/50000 [00:00<?, ?it/s]"
      ]
     },
     "metadata": {},
     "output_type": "display_data"
    },
    {
     "name": "stdout",
     "output_type": "stream",
     "text": [
      "for s = 0.1 a = 8 sA =  2 sd = 3 Ei = 0.5\n",
      "Utility A = 1977.7899999996644 utility D = -1977.7899999996644\n",
      "equlibrium (array([1., 0., 0.]), array([1., 0.]))\n",
      "оптимальная стратегия оброняющегося номер  1 оптимальная стратегия атакующего номер  1\n"
     ]
    },
    {
     "data": {
      "application/vnd.jupyter.widget-view+json": {
       "model_id": "0c4da0c1ecc24b5c90670887924c0c50",
       "version_major": 2,
       "version_minor": 0
      },
      "text/plain": [
       "  0%|          | 0/50000 [00:00<?, ?it/s]"
      ]
     },
     "metadata": {},
     "output_type": "display_data"
    },
    {
     "ename": "KeyboardInterrupt",
     "evalue": "",
     "output_type": "error",
     "traceback": [
      "\u001b[0;31m---------------------------------------------------------------------------\u001b[0m",
      "\u001b[0;31mKeyboardInterrupt\u001b[0m                         Traceback (most recent call last)",
      "\u001b[0;32m/tmp/ipykernel_8895/3697425355.py\u001b[0m in \u001b[0;36m<module>\u001b[0;34m\u001b[0m\n\u001b[1;32m    364\u001b[0m                             \u001b[0mvulnerableMachineValues\u001b[0m \u001b[0;34m=\u001b[0m \u001b[0mGetVulnerableMachineValues\u001b[0m\u001b[0;34m(\u001b[0m\u001b[0mmachineValues\u001b[0m\u001b[0;34m)\u001b[0m\u001b[0;34m\u001b[0m\u001b[0;34m\u001b[0m\u001b[0m\n\u001b[1;32m    365\u001b[0m                             \u001b[0mimportantMachineValues\u001b[0m \u001b[0;34m=\u001b[0m \u001b[0mGetImportantMachineValues\u001b[0m\u001b[0;34m(\u001b[0m\u001b[0mmachineValues\u001b[0m\u001b[0;34m)\u001b[0m\u001b[0;34m\u001b[0m\u001b[0;34m\u001b[0m\u001b[0m\n\u001b[0;32m--> 366\u001b[0;31m                             \u001b[0mmachineArray\u001b[0m \u001b[0;34m=\u001b[0m \u001b[0mGetMachineArray\u001b[0m\u001b[0;34m(\u001b[0m\u001b[0mmachineValues\u001b[0m\u001b[0;34m,\u001b[0m \u001b[0mvulnerableMachineValues\u001b[0m\u001b[0;34m,\u001b[0m \u001b[0mimportantMachineValues\u001b[0m\u001b[0;34m)\u001b[0m\u001b[0;34m\u001b[0m\u001b[0;34m\u001b[0m\u001b[0m\n\u001b[0m\u001b[1;32m    367\u001b[0m                             \u001b[0mtmp\u001b[0m \u001b[0;34m=\u001b[0m \u001b[0mComparsionStrategyHN\u001b[0m\u001b[0;34m(\u001b[0m\u001b[0mmachineArray\u001b[0m\u001b[0;34m,\u001b[0m \u001b[0mimportantMachineValues\u001b[0m\u001b[0;34m)\u001b[0m\u001b[0;34m\u001b[0m\u001b[0;34m\u001b[0m\u001b[0m\n\u001b[1;32m    368\u001b[0m                             \u001b[0;32mif\u001b[0m \u001b[0mtmp\u001b[0m \u001b[0;34m==\u001b[0m \u001b[0;32mTrue\u001b[0m\u001b[0;34m:\u001b[0m\u001b[0;34m\u001b[0m\u001b[0;34m\u001b[0m\u001b[0m\n",
      "\u001b[0;32m/tmp/ipykernel_8895/3697425355.py\u001b[0m in \u001b[0;36mGetMachineArray\u001b[0;34m(machineValues, vulnerableMachineValues, importantMachineValues)\u001b[0m\n\u001b[1;32m     62\u001b[0m             \u001b[0mtmp\u001b[0m \u001b[0;34m=\u001b[0m \u001b[0mMachine\u001b[0m\u001b[0;34m(\u001b[0m\u001b[0;32mFalse\u001b[0m\u001b[0;34m,\u001b[0m \u001b[0mfloat\u001b[0m\u001b[0;34m(\u001b[0m\u001b[0mpercentValue\u001b[0m\u001b[0;34m)\u001b[0m\u001b[0;34m,\u001b[0m \u001b[0;32mFalse\u001b[0m\u001b[0;34m,\u001b[0m \u001b[0mfloat\u001b[0m\u001b[0;34m(\u001b[0m\u001b[0;36m0.0\u001b[0m\u001b[0;34m)\u001b[0m\u001b[0;34m,\u001b[0m \u001b[0;32mFalse\u001b[0m\u001b[0;34m)\u001b[0m\u001b[0;34m\u001b[0m\u001b[0;34m\u001b[0m\u001b[0m\n\u001b[1;32m     63\u001b[0m         \u001b[0;32melse\u001b[0m\u001b[0;34m:\u001b[0m\u001b[0;34m\u001b[0m\u001b[0;34m\u001b[0m\u001b[0m\n\u001b[0;32m---> 64\u001b[0;31m             \u001b[0mtmp\u001b[0m \u001b[0;34m=\u001b[0m \u001b[0mMachine\u001b[0m\u001b[0;34m(\u001b[0m\u001b[0;32mFalse\u001b[0m\u001b[0;34m,\u001b[0m \u001b[0mfloat\u001b[0m\u001b[0;34m(\u001b[0m\u001b[0mreversePercent\u001b[0m\u001b[0;34m)\u001b[0m\u001b[0;34m,\u001b[0m \u001b[0;32mFalse\u001b[0m\u001b[0;34m,\u001b[0m \u001b[0mfloat\u001b[0m\u001b[0;34m(\u001b[0m\u001b[0;36m0.0\u001b[0m\u001b[0;34m)\u001b[0m\u001b[0;34m,\u001b[0m \u001b[0;32mFalse\u001b[0m\u001b[0;34m)\u001b[0m\u001b[0;34m\u001b[0m\u001b[0;34m\u001b[0m\u001b[0m\n\u001b[0m\u001b[1;32m     65\u001b[0m         \u001b[0mmachineArray\u001b[0m\u001b[0;34m.\u001b[0m\u001b[0mappend\u001b[0m\u001b[0;34m(\u001b[0m\u001b[0mtmp\u001b[0m\u001b[0;34m)\u001b[0m\u001b[0;34m\u001b[0m\u001b[0;34m\u001b[0m\u001b[0m\n\u001b[1;32m     66\u001b[0m     \u001b[0;31m#здесь баг - может 2 и более раз сгенерироваться\u001b[0m\u001b[0;34m\u001b[0m\u001b[0;34m\u001b[0m\u001b[0;34m\u001b[0m\u001b[0m\n",
      "\u001b[0;32m/tmp/ipykernel_8895/3697425355.py\u001b[0m in \u001b[0;36m__init__\u001b[0;34m(self, vulnerable, percentValue, penetrate, protectionLevel, possibilityProtection)\u001b[0m\n\u001b[1;32m      9\u001b[0m \u001b[0;34m\u001b[0m\u001b[0m\n\u001b[1;32m     10\u001b[0m     \u001b[0;32mdef\u001b[0m \u001b[0m__init__\u001b[0m\u001b[0;34m(\u001b[0m\u001b[0mself\u001b[0m\u001b[0;34m,\u001b[0m \u001b[0mvulnerable\u001b[0m\u001b[0;34m,\u001b[0m \u001b[0mpercentValue\u001b[0m\u001b[0;34m,\u001b[0m \u001b[0mpenetrate\u001b[0m\u001b[0;34m,\u001b[0m \u001b[0mprotectionLevel\u001b[0m\u001b[0;34m,\u001b[0m \u001b[0mpossibilityProtection\u001b[0m\u001b[0;34m)\u001b[0m\u001b[0;34m:\u001b[0m\u001b[0;34m\u001b[0m\u001b[0;34m\u001b[0m\u001b[0m\n\u001b[0;32m---> 11\u001b[0;31m         \u001b[0mself\u001b[0m\u001b[0;34m.\u001b[0m\u001b[0mvulnerable\u001b[0m \u001b[0;34m=\u001b[0m \u001b[0mvulnerable\u001b[0m\u001b[0;34m\u001b[0m\u001b[0;34m\u001b[0m\u001b[0m\n\u001b[0m\u001b[1;32m     12\u001b[0m         \u001b[0mself\u001b[0m\u001b[0;34m.\u001b[0m\u001b[0mpercentValue\u001b[0m \u001b[0;34m=\u001b[0m \u001b[0mpercentValue\u001b[0m\u001b[0;34m\u001b[0m\u001b[0;34m\u001b[0m\u001b[0m\n\u001b[1;32m     13\u001b[0m         \u001b[0mself\u001b[0m\u001b[0;34m.\u001b[0m\u001b[0mpenetrate\u001b[0m \u001b[0;34m=\u001b[0m \u001b[0mpenetrate\u001b[0m\u001b[0;34m\u001b[0m\u001b[0;34m\u001b[0m\u001b[0m\n",
      "\u001b[0;31mKeyboardInterrupt\u001b[0m: "
     ]
    }
   ],
   "source": [
    "import time\n",
    "import numpy as np\n",
    "import random\n",
    "from tqdm.notebook import tqdm\n",
    "import nashpy as nash\n",
    "\n",
    "\n",
    "class Machine:\n",
    "    \n",
    "    def __init__(self, vulnerable, percentValue, penetrate, protectionLevel, possibilityProtection):\n",
    "        self.vulnerable = vulnerable\n",
    "        self.percentValue = percentValue\n",
    "        self.penetrate = penetrate\n",
    "        self.protectionLevel = protectionLevel\n",
    "        self.possibilityProtection = possibilityProtection\n",
    "        \n",
    "    def changeVulnerable(self, vulnerable):\n",
    "        self.vulnerable = vulnerable\n",
    "    \n",
    "    def changeCost(self, percentValue):\n",
    "        self.percentValue = float(percentValue)\n",
    "        \n",
    "    def changePenetrate(self, penetrate):\n",
    "        self.penetrate = penetrate\n",
    "    \n",
    "    def changeProtectionLevel(self, protectionLevel):\n",
    "        self.protectionLevel = float(protectionLevel)\n",
    "    \n",
    "    def changePossibilityProtection(self, possibilityProtection):\n",
    "        self.possibilityProtection = possibilityProtection\n",
    "        \n",
    "    def pr(self):\n",
    "        print(self.vulnerable, self.percentValue, self.penetrate)\n",
    "\n",
    "        \n",
    "def printAllvalues(machineValues, vulnerableMachineValues, importantMachineValues):\n",
    "    print('machine values = ', machineValues, 'vulnerable machine values = ', vulnerableMachineValues, 'important machine values =', importantMachineValues)\n",
    "#получаем кол-во машин\n",
    "def GetMachineValues():\n",
    "    machineValues = random.randint(4, 15)\n",
    "    return machineValues\n",
    "#получаем кол-во уязвимых машин \n",
    "def GetVulnerableMachineValues(machineValues):\n",
    "    vulnerableMachineValues = random.randint(1, machineValues)\n",
    "    return vulnerableMachineValues\n",
    "#получаем номер главной машины\n",
    "def GetImportantMachineValues(machineValues):\n",
    "    importantMachineValues = random.randint(1, machineValues)\n",
    "    return importantMachineValues\n",
    "#получаем процент, который занимает главная машина \n",
    "def GetPercentValue():\n",
    "    percentValue = random.randint(30, 60)\n",
    "    return percentValue\n",
    "\n",
    "def GetMachineArray(machineValues, vulnerableMachineValues, importantMachineValues):\n",
    "    machineArray = []\n",
    "    percentValue = GetPercentValue() / 100\n",
    "    reversePercent = ((100 - percentValue) / (machineValues - 1)) / 100\n",
    "    reversePercent = (\"%.2f\" % reversePercent)\n",
    "    for i in range(machineValues):\n",
    "        if i == (importantMachineValues - 1):\n",
    "            tmp = Machine(False, float(percentValue), False, float(0.0), False)\n",
    "        else:\n",
    "            tmp = Machine(False, float(reversePercent), False, float(0.0), False)\n",
    "        machineArray.append(tmp)\n",
    "    #здесь баг - может 2 и более раз сгенерироваться\n",
    "    #одинаковое число и поэтому кол-во машин будет неточным\n",
    "    for i in range(0, vulnerableMachineValues):\n",
    "        j = random.randint(0, machineValues - 1)\n",
    "        machineArray[j].changeVulnerable(True)\n",
    "    return machineArray\n",
    "#возвращает число уязвимых машин, так как из-за бага\n",
    "#прошлое число уязвимых != новому\n",
    "def GetVulnerableMachine(machineValues, machineArray):\n",
    "    vulnerableMachine = 0\n",
    "    for i in range(machineValues):\n",
    "        if machineArray[i].vulnerable == True:\n",
    "            vulnerableMachine += 1\n",
    "    return vulnerableMachine\n",
    "#это все возможные разрывы функции стоимости на данном промежутке 1-10\n",
    "def CheckCost(a):\n",
    "    BreakFunc = {\n",
    "        '1':'1',\n",
    "        '2':'0.5',\n",
    "        '3':'0.333',\n",
    "        '4':'0.25',\n",
    "        '5':'0.2',\n",
    "        '6':'0.166',\n",
    "        '7':'0.142',\n",
    "        '8':'0.125',\n",
    "        '9':'0.111',\n",
    "        '10':'0.1'\n",
    "    }\n",
    "    return BreakFunc[a]\n",
    "#в этой функции есть разрыв, то что справа от него по x\n",
    "#то не получится защитить, так как не хватит ресурсов\n",
    "#этот разрыв в той точке, где знаменатель обращается в 0\n",
    "def CostFunction(s, a, Ei):\n",
    "    try:\n",
    "        return -(s * Ei * Ei)/(a * Ei - 1)\n",
    "    except ZeroDivisionError:\n",
    "        return 0\n",
    "\n",
    "def UtilityDefender(s, a, Ei, machineArray):\n",
    "    # l - процент понесенных потерь машин\n",
    "    tmp = 0\n",
    "    percent = len(machineArray) / 100\n",
    "    l = 0\n",
    "    for i in range(len(machineArray)):\n",
    "        if machineArray[i].penetrate == True:\n",
    "            l += percent\n",
    "            tmp += CostFunction(s, a, machineArray[i].protectionLevel)\n",
    "    return - l - tmp\n",
    "\n",
    "def UtilityAttacker(machineArray):\n",
    "    percent = len(machineArray) / 100\n",
    "    l = 0\n",
    "    for i in range(len(machineArray)):\n",
    "        if machineArray[i].penetrate == True:\n",
    "            l += percent\n",
    "    return l\n",
    "    \n",
    "def AttackerStrategyProportional(machineArray):\n",
    "    attackerProportionalEffort = []\n",
    "    for i in range(len(machineArray)):\n",
    "        tmp = machineArray[i].percentValue\n",
    "        attackerProportionalEffort.append(tmp)\n",
    "    return attackerProportionalEffort\n",
    "#Если в пером раунде атакующий взломал >= 1 машины\n",
    "#То он перераспределяет свои ресурсы\n",
    "#отложи эту функцию, пока что протестируем без перераспределения\n",
    "def AttackerStrategyProportionalRedistribution(machineArray):\n",
    "    attackerProportionalEffort = []\n",
    "    for i in range(len(machineArray)):\n",
    "        if machineArray[i].penetrate == False:\n",
    "            tmp = machineArray[i].percentValue\n",
    "            attackerProportionalEffort.append(tmp)\n",
    "        else:\n",
    "            attackerProportionalEffort.append(0)\n",
    "    return attackerProportionalEffort\n",
    "        \n",
    "def AttackerStrategyHigh():\n",
    "    attackerHighEffort = 1\n",
    "    return attackerHighEffort\n",
    "        \n",
    "def DefenderStrategyNothing():\n",
    "    return None\n",
    "    \n",
    "def DefenderStrategyProportional(machineArray, Ei, a):\n",
    "    a = str(a)\n",
    "    for i in range(len(machineArray)):\n",
    "        if float(CheckCost(a)) <= machineArray[i].percentValue * Ei:\n",
    "            machineArray[i].changePossibilityProtection(False)\n",
    "        else:\n",
    "            machineArray[i].changePossibilityProtection(True)\n",
    "            machineArray[i].changeProtectionLevel(\"%.2f\" % (machineArray[i].percentValue * Ei))\n",
    "    \n",
    "def DefenderStrategyHigh(Ei, importantMachineValues, machineArray, a):\n",
    "    if float(CheckCost(str(a))) <= Ei:\n",
    "        machineArray[importantMachineValues - 1].changePossibilityProtection(False)\n",
    "    else:\n",
    "        machineArray[importantMachineValues - 1].changePossibilityProtection(True)\n",
    "        machineArray[importantMachineValues - 1].changeProtectionLevel(Ei)\n",
    "#P-атакующий H-защитник\n",
    "def ComparisonStrategyPH(machineArray, importantMachineValues, Ei):\n",
    "    attackerProportionalEffort = AttackerStrategyProportional(machineArray)\n",
    "    DefenderStrategyHigh(Ei, importantMachineValues, machineArray, a)\n",
    "    count = 0\n",
    "    for i in range(len(machineArray)):\n",
    "        if machineArray[i].vulnerable == True:\n",
    "            if attackerProportionalEffort[i] > machineArray[i].percentValue or attackerProportionalEffort[importantMachineValues - 1] > machineArray[importantMachineValues - 1].protectionLevel:\n",
    "                machineArray[i].changePenetrate(True)\n",
    "                count += 1\n",
    "    if count > 1:\n",
    "        return True\n",
    "    else:\n",
    "        return False\n",
    "#P-атакующий P-защитник\n",
    "def ComparisonStrategyPP(machineArray, Ei, a):\n",
    "    attackerProportionalEffort = AttackerStrategyProportional(machineArray)\n",
    "    DefenderStrategyProportional(machineArray, Ei, a)\n",
    "    count = 0\n",
    "    for i in range(len(machineArray)):\n",
    "        if attackerProportionalEffort[i] > machineArray[i].protectionLevel:\n",
    "            if machineArray[i].vulnerable == True:\n",
    "                machineArray[i].changePenetrate(True)\n",
    "                count += 1\n",
    "    if count > 0:\n",
    "        return True\n",
    "    else:\n",
    "        return False\n",
    "#P - атакующий N - защитник\n",
    "def ComparisonStrategyPN(machineArray):\n",
    "    attackerProportionalEffort = AttackerStrategyProportional(machineArray)\n",
    "    count = 0\n",
    "    for i in range(len(machineArray)):\n",
    "        if attackerProportionalEffort[i] > machineArray[i].percentValue:\n",
    "            if machineArray[i].vulnerable == True:\n",
    "                machineArray[i].changePenetrate(True)\n",
    "                count += 1\n",
    "    if count > 0:\n",
    "        return True\n",
    "    else:\n",
    "        return False\n",
    "#H-атакующий P-защитник\n",
    "def ComparisonStrategyHP(machineArray, Ei, importantMachineValues, a):\n",
    "    attackerHighEffort = AttackerStrategyHigh()\n",
    "    DefenderStrategyProportional(machineArray, Ei, a)\n",
    "    if attackerHighEffort > machineArray[importantMachineValues - 1].protectionLevel:\n",
    "        if machineArray[importantMachineValues - 1].vulnerable == True:\n",
    "            machineArray[importantMachineValues - 1].changePenetrate(True)\n",
    "            return True\n",
    "        else:\n",
    "            return False\n",
    "#H-атакующий H-защитник\n",
    "def ComparsionStrategyHH(Ei, importantMachineValues, machineArray, a):\n",
    "    attackerHighEffort = AttackerStrategyHigh()\n",
    "    DefenderStrategyHigh(Ei, importantMachineValues, machineArray, a)\n",
    "    if attackerHighEffort > machineArray[importantMachineValues - 1].protectionLevel:\n",
    "        if machineArray[importantMachineValues - 1].vulnerable == True:\n",
    "            machineArray[importantMachineValues - 1].changePenetrate(True)\n",
    "            return True\n",
    "        else:\n",
    "            return False\n",
    "#H-Атакующий N-защитник\n",
    "def ComparsionStrategyHN(machineArray, importantMachineValues):\n",
    "    attackerHighEffort = AttackerStrategyHigh()\n",
    "    if attackerHighEffort > machineArray[importantMachineValues - 1].percentValue:\n",
    "        if machineArray[importantMachineValues - 1].vulnerable == True:\n",
    "            machineArray[importantMachineValues - 1].changePenetrate(True)\n",
    "            return True\n",
    "        else:\n",
    "            return False\n",
    "\n",
    "for s in (0.1, 0.2, 0.3, 0.4, 0.5, 0.6, 0.7, 0.8, 0.9):\n",
    "    for a in range(1, 11, 1): \n",
    "        for strategyA in (1, 2):\n",
    "            for strategyD in (1, 2, 3):\n",
    "                for Ei in (0.1, 0.2, 0.3, 0.4, 0.5, 0.6, 0.7, 0.8, 0.9):\n",
    "                    shape = (3,2) #матрица игры\n",
    "                    Attacker = np.zeros(shape=shape)\n",
    "                    Defender = np.zeros(shape=shape)\n",
    "                    if strategyA == 1 and strategyD == 1:\n",
    "                        j = 0\n",
    "                        utilityDefender = 0\n",
    "                        utilityAttacker = 0\n",
    "                        for j in tqdm(range(50000)):\n",
    "                            machineValues = GetMachineValues()\n",
    "                            vulnerableMachineValues = GetVulnerableMachineValues(machineValues)\n",
    "                            importantMachineValues = GetImportantMachineValues(machineValues)\n",
    "                            machineArray = GetMachineArray(machineValues, vulnerableMachineValues, importantMachineValues)\n",
    "                            tmp = ComparisonStrategyPH(machineArray, importantMachineValues, Ei)\n",
    "                            if tmp == True:\n",
    "                                utilityDefender += UtilityDefender(s, a, Ei, machineArray)\n",
    "                                utilityAttacker += UtilityAttacker(machineArray)\n",
    "                            else:\n",
    "                                utilityDefender += UtilityDefender(s, a, Ei, machineArray)\n",
    "                        Attacker[strategyD - 1, strategyA - 1] = utilityAttacker\n",
    "                        Defender[strategyD - 1, strategyA - 1] = utilityDefender\n",
    "                        game = nash.Game(Attacker, Defender)\n",
    "                        equlibrium = list(game.support_enumeration())[0]\n",
    "                        print('for s =', s,'a =', a, 'sA = ', strategyA, 'sd =', strategyD, 'Ei =', Ei)\n",
    "                        print('Utility A =', utilityAttacker, 'utility D =', utilityDefender)\n",
    "                        print(\"equlibrium\", equlibrium )\n",
    "                        print(\"оптимальная стратегия оброняющегося номер \", np.argmax(equlibrium[0])+1, \"оптимальная стратегия атакующего номер \", np.argmax(equlibrium[1])+1)\n",
    "                    elif strategyA == 1 and strategyD == 2:\n",
    "                        j = 0\n",
    "                        utilityDefender = 0\n",
    "                        utilityAttacker = 0\n",
    "                        for j in tqdm(range(50000)):\n",
    "                            machineValues = GetMachineValues()\n",
    "                            vulnerableMachineValues = GetVulnerableMachineValues(machineValues)\n",
    "                            importantMachineValues = GetImportantMachineValues(machineValues)\n",
    "                            machineArray = GetMachineArray(machineValues, vulnerableMachineValues, importantMachineValues)\n",
    "                            tmp = ComparisonStrategyPP(machineArray, Ei, a)\n",
    "                            if tmp == True:\n",
    "                                utilityDefender += UtilityDefender(s, a, Ei, machineArray)\n",
    "                                utilityAttacker += UtilityAttacker(machineArray)\n",
    "                            else:\n",
    "                                utilityDefender += UtilityDefender(s, a, Ei, machineArray)\n",
    "                        Attacker[strategyD - 1, strategyA - 1] = utilityAttacker\n",
    "                        Defender[strategyD - 1, strategyA - 1] = utilityDefender\n",
    "                        game = nash.Game(Attacker, Defender)\n",
    "                        equlibrium = list(game.support_enumeration())[0]\n",
    "                        print('for s =', s,'a =', a, 'sA = ', strategyA, 'sd =', strategyD, 'Ei =', Ei)\n",
    "                        print('Utility A =', utilityAttacker, 'utility D =', utilityDefender)\n",
    "                        print(\"equlibrium\", equlibrium )\n",
    "                        print(\"оптимальная стратегия оброняющегося номер \", np.argmax(equlibrium[0])+1, \"оптимальная стратегия атакующего номер \", np.argmax(equlibrium[1])+1)\n",
    "                    elif strategyA == 1 and strategyD == 3:\n",
    "                        j = 0\n",
    "                        utilityDefender = 0\n",
    "                        utilityAttacker = 0\n",
    "                        for j in tqdm(range(50000)):\n",
    "                            machineValues = GetMachineValues()\n",
    "                            vulnerableMachineValues = GetVulnerableMachineValues(machineValues)\n",
    "                            importantMachineValues = GetImportantMachineValues(machineValues)\n",
    "                            machineArray = GetMachineArray(machineValues, vulnerableMachineValues, importantMachineValues)\n",
    "                            tmp = ComparisonStrategyPN(machineArray)\n",
    "                            if tmp == True:\n",
    "                                utilityDefender += UtilityDefender(s, a, Ei, machineArray)\n",
    "                                utilityAttacker += UtilityAttacker(machineArray)\n",
    "                            else:\n",
    "                                utilityDefender += UtilityDefender(s, a, Ei, machineArray)\n",
    "                        Attacker[strategyD - 1, strategyA - 1] = utilityAttacker\n",
    "                        Defender[strategyD - 1, strategyA - 1] = utilityDefender\n",
    "                        game = nash.Game(Attacker, Defender)\n",
    "                        equlibrium = list(game.support_enumeration())[0]\n",
    "                        print('for s =', s,'a =', a, 'sA = ', strategyA, 'sd =', strategyD, 'Ei =', Ei)\n",
    "                        print('Utility A =', utilityAttacker, 'utility D =', utilityDefender)\n",
    "                        print(\"equlibrium\", equlibrium )\n",
    "                        print(\"оптимальная стратегия оброняющегося номер \", np.argmax(equlibrium[0])+1, \"оптимальная стратегия атакующего номер \", np.argmax(equlibrium[1])+1)\n",
    "                    elif strategyA == 2 and strategyD == 1:\n",
    "                        j = 0\n",
    "                        utilityDefender = 0\n",
    "                        utilityAttacker = 0\n",
    "                        for j in tqdm(range(50000)):\n",
    "                            machineValues = GetMachineValues()\n",
    "                            vulnerableMachineValues = GetVulnerableMachineValues(machineValues)\n",
    "                            importantMachineValues = GetImportantMachineValues(machineValues)\n",
    "                            machineArray = GetMachineArray(machineValues, vulnerableMachineValues, importantMachineValues)\n",
    "                            tmp = ComparisonStrategyHP(machineArray, Ei, importantMachineValues, a)\n",
    "                            if tmp == True:\n",
    "                                utilityDefender += UtilityDefender(s, a, Ei, machineArray)\n",
    "                                utilityAttacker += UtilityAttacker(machineArray)\n",
    "                            else:\n",
    "                                utilityDefender += UtilityDefender(s, a, Ei, machineArray)\n",
    "                        Attacker[strategyD - 1, strategyA - 1] = utilityAttacker\n",
    "                        Defender[strategyD - 1, strategyA - 1] = utilityDefender\n",
    "                        game = nash.Game(Attacker, Defender)\n",
    "                        equlibrium = list(game.support_enumeration())[0]\n",
    "                        print('for s =', s,'a =', a, 'sA = ', strategyA, 'sd =', strategyD, 'Ei =', Ei)\n",
    "                        print('Utility A =', utilityAttacker, 'utility D =', utilityDefender)\n",
    "                        print(\"equlibrium\", equlibrium )\n",
    "                        print(\"оптимальная стратегия оброняющегося номер \", np.argmax(equlibrium[0])+1, \"оптимальная стратегия атакующего номер \", np.argmax(equlibrium[1])+1)\n",
    "                    elif strategyA == 2 and strategyD == 2:\n",
    "                        j = 0\n",
    "                        utilityDefender = 0\n",
    "                        utilityAttacker = 0\n",
    "                        for j in tqdm(range(50000)):\n",
    "                            machineValues = GetMachineValues()\n",
    "                            vulnerableMachineValues = GetVulnerableMachineValues(machineValues)\n",
    "                            importantMachineValues = GetImportantMachineValues(machineValues)\n",
    "                            machineArray = GetMachineArray(machineValues, vulnerableMachineValues, importantMachineValues)\n",
    "                            tmp = ComparsionStrategyHH(Ei, importantMachineValues, machineArray, a)\n",
    "                            if tmp == True:\n",
    "                                utilityDefender += UtilityDefender(s, a, Ei, machineArray)\n",
    "                                utilityAttacker += UtilityAttacker(machineArray)\n",
    "                            else:\n",
    "                                utilityDefender += UtilityDefender(s, a, Ei, machineArray)\n",
    "                        Attacker[strategyD - 1, strategyA - 1] = utilityAttacker\n",
    "                        Defender[strategyD - 1, strategyA - 1] = utilityDefender\n",
    "                        game = nash.Game(Attacker, Defender)\n",
    "                        equlibrium = list(game.support_enumeration())[0]\n",
    "                        print('for s =', s,'a =', a, 'sA = ', strategyA, 'sd =', strategyD, 'Ei =', Ei)\n",
    "                        print('Utility A =', utilityAttacker, 'utility D =', utilityDefender)\n",
    "                        print(\"equlibrium\", equlibrium )\n",
    "                        print(\"оптимальная стратегия оброняющегося номер \", np.argmax(equlibrium[0])+1, \"оптимальная стратегия атакующего номер \", np.argmax(equlibrium[1])+1)\n",
    "                    elif strategyA == 2 and strategyD == 3:\n",
    "                        j = 0\n",
    "                        utilityDefender = 0\n",
    "                        utilityAttacker = 0\n",
    "                        for j in tqdm(range(50000)):\n",
    "                            machineValues = GetMachineValues()\n",
    "                            vulnerableMachineValues = GetVulnerableMachineValues(machineValues)\n",
    "                            importantMachineValues = GetImportantMachineValues(machineValues)\n",
    "                            machineArray = GetMachineArray(machineValues, vulnerableMachineValues, importantMachineValues)\n",
    "                            tmp = ComparsionStrategyHN(machineArray, importantMachineValues)\n",
    "                            if tmp == True:\n",
    "                                utilityDefender += UtilityDefender(s, a, Ei, machineArray)\n",
    "                                utilityAttacker += UtilityAttacker(machineArray)\n",
    "                            else:\n",
    "                                utilityDefender += UtilityDefender(s, a, Ei, machineArray)\n",
    "                        Attacker[strategyD - 1, strategyA - 1] = utilityAttacker\n",
    "                        Defender[strategyD - 1, strategyA - 1] = utilityDefender\n",
    "                        game = nash.Game(Attacker, Defender)\n",
    "                        equlibrium = list(game.support_enumeration())[0]\n",
    "                        print('for s =', s,'a =', a, 'sA = ', strategyA, 'sd =', strategyD, 'Ei =', Ei)\n",
    "                        print('Utility A =', utilityAttacker, 'utility D =', utilityDefender)\n",
    "                        print(\"equlibrium\", equlibrium )\n",
    "                        print(\"оптимальная стратегия оброняющегося номер \", np.argmax(equlibrium[0])+1, \"оптимальная стратегия атакующего номер \", np.argmax(equlibrium[1])+1)"
   ]
  },
  {
   "cell_type": "code",
   "execution_count": 5,
   "id": "dec533eb",
   "metadata": {},
   "outputs": [
    {
     "name": "stdout",
     "output_type": "stream",
     "text": [
      "<class 'float'>\n"
     ]
    }
   ],
   "source": [
    "class Machine:\n",
    "    \n",
    "    def __init__(self, vulnerable, percentValue, penetrate, protectionLevel, possibilityProtection):\n",
    "        self.vulnerable = vulnerable\n",
    "        self.percentValue = percentValue\n",
    "        self.penetrate = penetrate\n",
    "        self.protectionLevel = protectionLevel\n",
    "        self.possibilityProtection = possibilityProtection\n",
    "        \n",
    "    def changeVulnerable(self, vulnerable):\n",
    "        self.vulnerable = vulnerable\n",
    "    \n",
    "    def changeCost(self, percentValue):\n",
    "        self.percentValue = percentValue\n",
    "        \n",
    "    def changePenetrate(self, penetrate):\n",
    "        self.penetrate = penetrate\n",
    "    \n",
    "    def changeProtectionLevel(self, protectionLevel):\n",
    "        self.protectionLevel = float(protectionLevel)\n",
    "    \n",
    "    def changePossibilityProtection(self, possibilityProtection):\n",
    "        self.possibilityProtection = possibilityProtection\n",
    "    \n",
    "    def pr(self):\n",
    "        print(type(self.protectionLevel))\n",
    "        \n",
    "\n",
    "def DefenderStrategyProportional(machineArray, Ei):\n",
    "    for i in range(len(machineArray)):\n",
    "        machineArray[i].changeProtectionLevel(\"%.2f\" % (float(machineArray[i].percentValue) * Ei))\n",
    "\n",
    "machineArray = []\n",
    "tmp = Machine(False, 0.1, False, 0, False)\n",
    "machineArray.append(tmp)\n",
    "Ei = 12354\n",
    "DefenderStrategyProportional(machineArray, Ei)\n",
    "machineArray[0].pr()\n"
   ]
  },
  {
   "cell_type": "code",
   "execution_count": 2,
   "id": "54fab7e7",
   "metadata": {},
   "outputs": [
    {
     "name": "stdout",
     "output_type": "stream",
     "text": [
      "Collecting nashpy\n",
      "  Downloading nashpy-0.0.28-py3-none-any.whl (22 kB)\n",
      "Collecting scipy>=0.19.0\n",
      "  Downloading scipy-1.7.2-cp38-cp38-manylinux_2_17_x86_64.manylinux2014_x86_64.whl (39.3 MB)\n",
      "\u001b[K     |████████████████████████████████| 39.3 MB 4.4 MB/s eta 0:00:01    |██▏                             | 2.6 MB 1.6 MB/s eta 0:00:24     |███████████████████████▉        | 29.2 MB 6.2 MB/s eta 0:00:02     |█████████████████████████████▊  | 36.5 MB 4.8 MB/s eta 0:00:01\n",
      "\u001b[?25hRequirement already satisfied: numpy>=1.15.4 in /home/bkozeev/notebook/notebook/lib/python3.8/site-packages (from nashpy) (1.21.2)\n",
      "Installing collected packages: scipy, nashpy\n",
      "Successfully installed nashpy-0.0.28 scipy-1.7.2\n",
      "\u001b[33mWARNING: You are using pip version 21.2.3; however, version 21.3.1 is available.\n",
      "You should consider upgrading via the '/home/bkozeev/notebook/notebook/bin/python -m pip install --upgrade pip' command.\u001b[0m\n",
      "Note: you may need to restart the kernel to use updated packages.\n"
     ]
    }
   ],
   "source": [
    "pip install nashpy"
   ]
  },
  {
   "cell_type": "code",
   "execution_count": null,
   "id": "2f15ad4a",
   "metadata": {},
   "outputs": [],
   "source": []
  }
 ],
 "metadata": {
  "kernelspec": {
   "display_name": "Python 3 (ipykernel)",
   "language": "python",
   "name": "python3"
  },
  "language_info": {
   "codemirror_mode": {
    "name": "ipython",
    "version": 3
   },
   "file_extension": ".py",
   "mimetype": "text/x-python",
   "name": "python",
   "nbconvert_exporter": "python",
   "pygments_lexer": "ipython3",
   "version": "3.8.10"
  }
 },
 "nbformat": 4,
 "nbformat_minor": 5
}
