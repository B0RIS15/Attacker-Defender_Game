{
 "cells": [
  {
   "cell_type": "code",
   "execution_count": 8,
   "id": "1299e310",
   "metadata": {},
   "outputs": [
    {
     "data": {
      "application/vnd.jupyter.widget-view+json": {
       "model_id": "1f92f3401bc041f69f6024a50e23ace2",
       "version_major": 2,
       "version_minor": 0
      },
      "text/plain": [
       "  0%|          | 0/50000 [00:00<?, ?it/s]"
      ]
     },
     "metadata": {},
     "output_type": "display_data"
    },
    {
     "name": "stdout",
     "output_type": "stream",
     "text": [
      "for s = 0.1 a = 1 sA =  1 sd = 1 Ei = 0.1\n",
      "Utility A = 20326.180000001346 utility D = -21434.299999998202\n"
     ]
    },
    {
     "data": {
      "application/vnd.jupyter.widget-view+json": {
       "model_id": "0b21795907f34ee593dcdb97cab03933",
       "version_major": 2,
       "version_minor": 0
      },
      "text/plain": [
       "  0%|          | 0/50000 [00:00<?, ?it/s]"
      ]
     },
     "metadata": {},
     "output_type": "display_data"
    },
    {
     "name": "stdout",
     "output_type": "stream",
     "text": [
      "for s = 0.1 a = 1 sA =  1 sd = 1 Ei = 0.2\n",
      "Utility A = 20285.86000000112 utility D = -23238.454999997924\n"
     ]
    },
    {
     "data": {
      "application/vnd.jupyter.widget-view+json": {
       "model_id": "b3bad9e3133247068581dbb0026471f4",
       "version_major": 2,
       "version_minor": 0
      },
      "text/plain": [
       "  0%|          | 0/50000 [00:00<?, ?it/s]"
      ]
     },
     "metadata": {},
     "output_type": "display_data"
    },
    {
     "name": "stdout",
     "output_type": "stream",
     "text": [
      "for s = 0.1 a = 1 sA =  1 sd = 1 Ei = 0.3\n",
      "Utility A = 19661.730000001156 utility D = -26323.664285713257\n"
     ]
    },
    {
     "data": {
      "application/vnd.jupyter.widget-view+json": {
       "model_id": "c4d2234cfb724bc0b02d6872a3900c6e",
       "version_major": 2,
       "version_minor": 0
      },
      "text/plain": [
       "  0%|          | 0/50000 [00:00<?, ?it/s]"
      ]
     },
     "metadata": {},
     "output_type": "display_data"
    },
    {
     "name": "stdout",
     "output_type": "stream",
     "text": [
      "for s = 0.1 a = 1 sA =  1 sd = 1 Ei = 0.4\n",
      "Utility A = 13053.600000000364 utility D = -26083.933333336314\n"
     ]
    },
    {
     "data": {
      "application/vnd.jupyter.widget-view+json": {
       "model_id": "ecfd575dff744cfd9161fe03fd773db1",
       "version_major": 2,
       "version_minor": 0
      },
      "text/plain": [
       "  0%|          | 0/50000 [00:00<?, ?it/s]"
      ]
     },
     "metadata": {},
     "output_type": "display_data"
    },
    {
     "name": "stdout",
     "output_type": "stream",
     "text": [
      "for s = 0.1 a = 1 sA =  1 sd = 1 Ei = 0.5\n",
      "Utility A = 6528.889999999806 utility D = -30467.22000000185\n"
     ]
    },
    {
     "data": {
      "application/vnd.jupyter.widget-view+json": {
       "model_id": "c467ab06ffb841f1b135644d7c4705eb",
       "version_major": 2,
       "version_minor": 0
      },
      "text/plain": [
       "  0%|          | 0/50000 [00:00<?, ?it/s]"
      ]
     },
     "metadata": {},
     "output_type": "display_data"
    },
    {
     "name": "stdout",
     "output_type": "stream",
     "text": [
      "for s = 0.1 a = 1 sA =  1 sd = 1 Ei = 0.6\n",
      "Utility A = 0 utility D = -42707.88000000487\n"
     ]
    },
    {
     "data": {
      "application/vnd.jupyter.widget-view+json": {
       "model_id": "eb674b502e4f4661ad7bc621ae73629f",
       "version_major": 2,
       "version_minor": 0
      },
      "text/plain": [
       "  0%|          | 0/50000 [00:00<?, ?it/s]"
      ]
     },
     "metadata": {},
     "output_type": "display_data"
    },
    {
     "name": "stdout",
     "output_type": "stream",
     "text": [
      "for s = 0.1 a = 1 sA =  1 sd = 1 Ei = 0.7\n",
      "Utility A = 0 utility D = -77834.21333333339\n"
     ]
    },
    {
     "data": {
      "application/vnd.jupyter.widget-view+json": {
       "model_id": "63fc71a5eb764ec69698e7526336a970",
       "version_major": 2,
       "version_minor": 0
      },
      "text/plain": [
       "  0%|          | 0/50000 [00:00<?, ?it/s]"
      ]
     },
     "metadata": {},
     "output_type": "display_data"
    },
    {
     "name": "stdout",
     "output_type": "stream",
     "text": [
      "for s = 0.1 a = 1 sA =  1 sd = 1 Ei = 0.8\n",
      "Utility A = 0 utility D = -151817.28000001409\n"
     ]
    },
    {
     "data": {
      "application/vnd.jupyter.widget-view+json": {
       "model_id": "55c3fb840c13475083f01ccfaa857a60",
       "version_major": 2,
       "version_minor": 0
      },
      "text/plain": [
       "  0%|          | 0/50000 [00:00<?, ?it/s]"
      ]
     },
     "metadata": {},
     "output_type": "display_data"
    },
    {
     "name": "stdout",
     "output_type": "stream",
     "text": [
      "for s = 0.1 a = 1 sA =  1 sd = 1 Ei = 0.9\n",
      "Utility A = 0 utility D = -384803.45999987744\n"
     ]
    },
    {
     "data": {
      "application/vnd.jupyter.widget-view+json": {
       "model_id": "4e41c7da15ed4686838a3eb20e9cd4d2",
       "version_major": 2,
       "version_minor": 0
      },
      "text/plain": [
       "  0%|          | 0/50000 [00:00<?, ?it/s]"
      ]
     },
     "metadata": {},
     "output_type": "display_data"
    },
    {
     "name": "stdout",
     "output_type": "stream",
     "text": [
      "for s = 0.1 a = 1 sA =  1 sd = 2 Ei = 0.1\n",
      "Utility A = 20913.82000000162 utility D = -21441.041111109418\n"
     ]
    },
    {
     "data": {
      "application/vnd.jupyter.widget-view+json": {
       "model_id": "550eb8053730410d83db52c7f206035b",
       "version_major": 2,
       "version_minor": 0
      },
      "text/plain": [
       "  0%|          | 0/50000 [00:00<?, ?it/s]"
      ]
     },
     "metadata": {},
     "output_type": "display_data"
    },
    {
     "name": "stdout",
     "output_type": "stream",
     "text": [
      "for s = 0.1 a = 1 sA =  1 sd = 2 Ei = 0.2\n",
      "Utility A = 20960.650000002028 utility D = -23330.89499999787\n"
     ]
    },
    {
     "data": {
      "application/vnd.jupyter.widget-view+json": {
       "model_id": "0762874151d64682a7f3d19e92ba7953",
       "version_major": 2,
       "version_minor": 0
      },
      "text/plain": [
       "  0%|          | 0/50000 [00:00<?, ?it/s]"
      ]
     },
     "metadata": {},
     "output_type": "display_data"
    },
    {
     "name": "stdout",
     "output_type": "stream",
     "text": [
      "for s = 0.1 a = 1 sA =  1 sd = 2 Ei = 0.3\n",
      "Utility A = 21115.15000000182 utility D = -27236.127142856232\n"
     ]
    },
    {
     "data": {
      "application/vnd.jupyter.widget-view+json": {
       "model_id": "959dd7ce4e264070b88fd080cba6e34a",
       "version_major": 2,
       "version_minor": 0
      },
      "text/plain": [
       "  0%|          | 0/50000 [00:00<?, ?it/s]"
      ]
     },
     "metadata": {},
     "output_type": "display_data"
    },
    {
     "name": "stdout",
     "output_type": "stream",
     "text": [
      "for s = 0.1 a = 1 sA =  1 sd = 2 Ei = 0.4\n",
      "Utility A = 20992.390000001855 utility D = -33652.71000000121\n"
     ]
    },
    {
     "data": {
      "application/vnd.jupyter.widget-view+json": {
       "model_id": "001c457d68604331a6047c070d3fc999",
       "version_major": 2,
       "version_minor": 0
      },
      "text/plain": [
       "  0%|          | 0/50000 [00:00<?, ?it/s]"
      ]
     },
     "metadata": {},
     "output_type": "display_data"
    },
    {
     "name": "stdout",
     "output_type": "stream",
     "text": [
      "for s = 0.1 a = 1 sA =  1 sd = 2 Ei = 0.5\n",
      "Utility A = 20934.18000000171 utility D = -44669.67999999812\n"
     ]
    },
    {
     "data": {
      "application/vnd.jupyter.widget-view+json": {
       "model_id": "d1b61f34307140e2bb687b672cd8ae7d",
       "version_major": 2,
       "version_minor": 0
      },
      "text/plain": [
       "  0%|          | 0/50000 [00:00<?, ?it/s]"
      ]
     },
     "metadata": {},
     "output_type": "display_data"
    },
    {
     "name": "stdout",
     "output_type": "stream",
     "text": [
      "for s = 0.1 a = 1 sA =  1 sd = 2 Ei = 0.6\n",
      "Utility A = 20956.99000000164 utility D = -63681.25000000484\n"
     ]
    },
    {
     "data": {
      "application/vnd.jupyter.widget-view+json": {
       "model_id": "b224452f9ae24e7098069223e1f4da39",
       "version_major": 2,
       "version_minor": 0
      },
      "text/plain": [
       "  0%|          | 0/50000 [00:00<?, ?it/s]"
      ]
     },
     "metadata": {},
     "output_type": "display_data"
    },
    {
     "name": "stdout",
     "output_type": "stream",
     "text": [
      "for s = 0.1 a = 1 sA =  1 sd = 2 Ei = 0.7\n",
      "Utility A = 20831.280000001712 utility D = -98092.19333332287\n"
     ]
    },
    {
     "data": {
      "application/vnd.jupyter.widget-view+json": {
       "model_id": "dcd75af96ed7442ca178fd0ad63caa8b",
       "version_major": 2,
       "version_minor": 0
      },
      "text/plain": [
       "  0%|          | 0/50000 [00:00<?, ?it/s]"
      ]
     },
     "metadata": {},
     "output_type": "display_data"
    },
    {
     "name": "stdout",
     "output_type": "stream",
     "text": [
      "for s = 0.1 a = 1 sA =  1 sd = 2 Ei = 0.8\n",
      "Utility A = 20901.950000001845 utility D = -172663.23000000557\n"
     ]
    },
    {
     "data": {
      "application/vnd.jupyter.widget-view+json": {
       "model_id": "09f4feba78fe4ed4850f8ded6581d088",
       "version_major": 2,
       "version_minor": 0
      },
      "text/plain": [
       "  0%|          | 0/50000 [00:00<?, ?it/s]"
      ]
     },
     "metadata": {},
     "output_type": "display_data"
    },
    {
     "name": "stdout",
     "output_type": "stream",
     "text": [
      "for s = 0.1 a = 1 sA =  1 sd = 2 Ei = 0.9\n",
      "Utility A = 21053.200000001816 utility D = -405100.12000000465\n"
     ]
    },
    {
     "data": {
      "application/vnd.jupyter.widget-view+json": {
       "model_id": "2e80c9e73b914328821f3e2ab2c5cdc1",
       "version_major": 2,
       "version_minor": 0
      },
      "text/plain": [
       "  0%|          | 0/50000 [00:00<?, ?it/s]"
      ]
     },
     "metadata": {},
     "output_type": "display_data"
    },
    {
     "name": "stdout",
     "output_type": "stream",
     "text": [
      "for s = 0.1 a = 1 sA =  1 sd = 3 Ei = 0.1\n",
      "Utility A = 0 utility D = -528.4233333333116\n"
     ]
    },
    {
     "data": {
      "application/vnd.jupyter.widget-view+json": {
       "model_id": "7d532347878b4217bac44ea3006cb150",
       "version_major": 2,
       "version_minor": 0
      },
      "text/plain": [
       "  0%|          | 0/50000 [00:00<?, ?it/s]"
      ]
     },
     "metadata": {},
     "output_type": "display_data"
    },
    {
     "name": "stdout",
     "output_type": "stream",
     "text": [
      "for s = 0.1 a = 1 sA =  1 sd = 3 Ei = 0.2\n",
      "Utility A = 0 utility D = -2379.130000000234\n"
     ]
    },
    {
     "data": {
      "application/vnd.jupyter.widget-view+json": {
       "model_id": "02213f1852e945089efd672494b79ff0",
       "version_major": 2,
       "version_minor": 0
      },
      "text/plain": [
       "  0%|          | 0/50000 [00:00<?, ?it/s]"
      ]
     },
     "metadata": {},
     "output_type": "display_data"
    },
    {
     "name": "stdout",
     "output_type": "stream",
     "text": [
      "for s = 0.1 a = 1 sA =  1 sd = 3 Ei = 0.3\n",
      "Utility A = 0 utility D = -6118.997142856312\n"
     ]
    },
    {
     "data": {
      "application/vnd.jupyter.widget-view+json": {
       "model_id": "6a85629d3f1e4fb4b4036db530076745",
       "version_major": 2,
       "version_minor": 0
      },
      "text/plain": [
       "  0%|          | 0/50000 [00:00<?, ?it/s]"
      ]
     },
     "metadata": {},
     "output_type": "display_data"
    },
    {
     "name": "stdout",
     "output_type": "stream",
     "text": [
      "for s = 0.1 a = 1 sA =  1 sd = 3 Ei = 0.4\n",
      "Utility A = 0 utility D = -12663.706666658807\n"
     ]
    },
    {
     "data": {
      "application/vnd.jupyter.widget-view+json": {
       "model_id": "fc42e06586c64234a3ed5dead1e44318",
       "version_major": 2,
       "version_minor": 0
      },
      "text/plain": [
       "  0%|          | 0/50000 [00:00<?, ?it/s]"
      ]
     },
     "metadata": {},
     "output_type": "display_data"
    },
    {
     "name": "stdout",
     "output_type": "stream",
     "text": [
      "for s = 0.1 a = 1 sA =  1 sd = 3 Ei = 0.5\n",
      "Utility A = 0 utility D = -23742.100000001683\n"
     ]
    },
    {
     "data": {
      "application/vnd.jupyter.widget-view+json": {
       "model_id": "f7b96edfcb4843b0b300133ce960ae41",
       "version_major": 2,
       "version_minor": 0
      },
      "text/plain": [
       "  0%|          | 0/50000 [00:00<?, ?it/s]"
      ]
     },
     "metadata": {},
     "output_type": "display_data"
    },
    {
     "name": "stdout",
     "output_type": "stream",
     "text": [
      "for s = 0.1 a = 1 sA =  1 sd = 3 Ei = 0.6\n",
      "Utility A = 0 utility D = -42633.90000000431\n"
     ]
    },
    {
     "data": {
      "application/vnd.jupyter.widget-view+json": {
       "model_id": "83bea38412df4d59b4d2f428a3b9786a",
       "version_major": 2,
       "version_minor": 0
      },
      "text/plain": [
       "  0%|          | 0/50000 [00:00<?, ?it/s]"
      ]
     },
     "metadata": {},
     "output_type": "display_data"
    },
    {
     "name": "stdout",
     "output_type": "stream",
     "text": [
      "for s = 0.1 a = 1 sA =  1 sd = 3 Ei = 0.7\n",
      "Utility A = 0 utility D = -77485.82333333518\n"
     ]
    },
    {
     "data": {
      "application/vnd.jupyter.widget-view+json": {
       "model_id": "b4a1396220d14992bdd1208985a41c75",
       "version_major": 2,
       "version_minor": 0
      },
      "text/plain": [
       "  0%|          | 0/50000 [00:00<?, ?it/s]"
      ]
     },
     "metadata": {},
     "output_type": "display_data"
    },
    {
     "name": "stdout",
     "output_type": "stream",
     "text": [
      "for s = 0.1 a = 1 sA =  1 sd = 3 Ei = 0.8\n",
      "Utility A = 0 utility D = -151587.52000001384\n"
     ]
    },
    {
     "data": {
      "application/vnd.jupyter.widget-view+json": {
       "model_id": "90a0ce002f4649d39577fb7e61748141",
       "version_major": 2,
       "version_minor": 0
      },
      "text/plain": [
       "  0%|          | 0/50000 [00:00<?, ?it/s]"
      ]
     },
     "metadata": {},
     "output_type": "display_data"
    },
    {
     "name": "stdout",
     "output_type": "stream",
     "text": [
      "for s = 0.1 a = 1 sA =  1 sd = 3 Ei = 0.9\n",
      "Utility A = 0 utility D = -383268.5099998781\n"
     ]
    },
    {
     "data": {
      "application/vnd.jupyter.widget-view+json": {
       "model_id": "4566c1cc12a842eaa3812ca9bd22bec0",
       "version_major": 2,
       "version_minor": 0
      },
      "text/plain": [
       "  0%|          | 0/50000 [00:00<?, ?it/s]"
      ]
     },
     "metadata": {},
     "output_type": "display_data"
    },
    {
     "name": "stdout",
     "output_type": "stream",
     "text": [
      "for s = 0.1 a = 1 sA =  2 sd = 1 Ei = 0.1\n",
      "Utility A = 0 utility D = -528.0811111110868\n"
     ]
    },
    {
     "data": {
      "application/vnd.jupyter.widget-view+json": {
       "model_id": "6db4e2de4fba40cc9b8e25ea68961dfa",
       "version_major": 2,
       "version_minor": 0
      },
      "text/plain": [
       "  0%|          | 0/50000 [00:00<?, ?it/s]"
      ]
     },
     "metadata": {},
     "output_type": "display_data"
    },
    {
     "name": "stdout",
     "output_type": "stream",
     "text": [
      "for s = 0.1 a = 1 sA =  2 sd = 1 Ei = 0.2\n",
      "Utility A = 0 utility D = -2370.390000000252\n"
     ]
    },
    {
     "data": {
      "application/vnd.jupyter.widget-view+json": {
       "model_id": "41926d63b7114ba4838250aae2e9ee23",
       "version_major": 2,
       "version_minor": 0
      },
      "text/plain": [
       "  0%|          | 0/50000 [00:00<?, ?it/s]"
      ]
     },
     "metadata": {},
     "output_type": "display_data"
    },
    {
     "name": "stdout",
     "output_type": "stream",
     "text": [
      "for s = 0.1 a = 1 sA =  2 sd = 1 Ei = 0.3\n",
      "Utility A = 0 utility D = -6122.828571427797\n"
     ]
    },
    {
     "data": {
      "application/vnd.jupyter.widget-view+json": {
       "model_id": "e22e5ec1ba4949b58d37502b41cfb2ed",
       "version_major": 2,
       "version_minor": 0
      },
      "text/plain": [
       "  0%|          | 0/50000 [00:00<?, ?it/s]"
      ]
     },
     "metadata": {},
     "output_type": "display_data"
    },
    {
     "name": "stdout",
     "output_type": "stream",
     "text": [
      "for s = 0.1 a = 1 sA =  2 sd = 1 Ei = 0.4\n",
      "Utility A = 0 utility D = -12651.70666665884\n"
     ]
    },
    {
     "data": {
      "application/vnd.jupyter.widget-view+json": {
       "model_id": "27a414049b0d43638077364fb9cf77a6",
       "version_major": 2,
       "version_minor": 0
      },
      "text/plain": [
       "  0%|          | 0/50000 [00:00<?, ?it/s]"
      ]
     },
     "metadata": {},
     "output_type": "display_data"
    },
    {
     "name": "stdout",
     "output_type": "stream",
     "text": [
      "for s = 0.1 a = 1 sA =  2 sd = 1 Ei = 0.5\n",
      "Utility A = 0 utility D = -23713.550000001687\n"
     ]
    },
    {
     "data": {
      "application/vnd.jupyter.widget-view+json": {
       "model_id": "c88b90956a574a2b9e89787dc9caee3d",
       "version_major": 2,
       "version_minor": 0
      },
      "text/plain": [
       "  0%|          | 0/50000 [00:00<?, ?it/s]"
      ]
     },
     "metadata": {},
     "output_type": "display_data"
    },
    {
     "name": "stdout",
     "output_type": "stream",
     "text": [
      "for s = 0.1 a = 1 sA =  2 sd = 1 Ei = 0.6\n",
      "Utility A = 0 utility D = -42763.14000000417\n"
     ]
    },
    {
     "data": {
      "application/vnd.jupyter.widget-view+json": {
       "model_id": "4359fa3070c5489e9424d9bff0db735c",
       "version_major": 2,
       "version_minor": 0
      },
      "text/plain": [
       "  0%|          | 0/50000 [00:00<?, ?it/s]"
      ]
     },
     "metadata": {},
     "output_type": "display_data"
    },
    {
     "name": "stdout",
     "output_type": "stream",
     "text": [
      "for s = 0.1 a = 1 sA =  2 sd = 1 Ei = 0.7\n",
      "Utility A = 0 utility D = -77715.63333333399\n"
     ]
    },
    {
     "data": {
      "application/vnd.jupyter.widget-view+json": {
       "model_id": "3462741bd01f44868a33451cbf246362",
       "version_major": 2,
       "version_minor": 0
      },
      "text/plain": [
       "  0%|          | 0/50000 [00:00<?, ?it/s]"
      ]
     },
     "metadata": {},
     "output_type": "display_data"
    },
    {
     "name": "stdout",
     "output_type": "stream",
     "text": [
      "for s = 0.1 a = 1 sA =  2 sd = 1 Ei = 0.8\n",
      "Utility A = 0 utility D = -151482.8800000153\n"
     ]
    },
    {
     "data": {
      "application/vnd.jupyter.widget-view+json": {
       "model_id": "499ec2c03994471f94189bce04914cb1",
       "version_major": 2,
       "version_minor": 0
      },
      "text/plain": [
       "  0%|          | 0/50000 [00:00<?, ?it/s]"
      ]
     },
     "metadata": {},
     "output_type": "display_data"
    },
    {
     "name": "stdout",
     "output_type": "stream",
     "text": [
      "for s = 0.1 a = 1 sA =  2 sd = 1 Ei = 0.9\n",
      "Utility A = 0 utility D = -385061.8499998737\n"
     ]
    },
    {
     "data": {
      "application/vnd.jupyter.widget-view+json": {
       "model_id": "1f12820420944a8283bfbb5d2f904e73",
       "version_major": 2,
       "version_minor": 0
      },
      "text/plain": [
       "  0%|          | 0/50000 [00:00<?, ?it/s]"
      ]
     },
     "metadata": {},
     "output_type": "display_data"
    },
    {
     "name": "stdout",
     "output_type": "stream",
     "text": [
      "for s = 0.1 a = 1 sA =  2 sd = 2 Ei = 0.1\n",
      "Utility A = 0 utility D = -527.624444444422\n"
     ]
    },
    {
     "data": {
      "application/vnd.jupyter.widget-view+json": {
       "model_id": "1216bd6e044c4e1c85b81b74b8af5c0c",
       "version_major": 2,
       "version_minor": 0
      },
      "text/plain": [
       "  0%|          | 0/50000 [00:00<?, ?it/s]"
      ]
     },
     "metadata": {},
     "output_type": "display_data"
    },
    {
     "name": "stdout",
     "output_type": "stream",
     "text": [
      "for s = 0.1 a = 1 sA =  2 sd = 2 Ei = 0.2\n",
      "Utility A = 0 utility D = -2381.4500000002113\n"
     ]
    },
    {
     "data": {
      "application/vnd.jupyter.widget-view+json": {
       "model_id": "0783f27689c54cd3a56fac9033eb31d1",
       "version_major": 2,
       "version_minor": 0
      },
      "text/plain": [
       "  0%|          | 0/50000 [00:00<?, ?it/s]"
      ]
     },
     "metadata": {},
     "output_type": "display_data"
    },
    {
     "name": "stdout",
     "output_type": "stream",
     "text": [
      "for s = 0.1 a = 1 sA =  2 sd = 2 Ei = 0.3\n",
      "Utility A = 0 utility D = -6134.631428570548\n"
     ]
    },
    {
     "data": {
      "application/vnd.jupyter.widget-view+json": {
       "model_id": "feb1b131551a49db8fb62efd338a500e",
       "version_major": 2,
       "version_minor": 0
      },
      "text/plain": [
       "  0%|          | 0/50000 [00:00<?, ?it/s]"
      ]
     },
     "metadata": {},
     "output_type": "display_data"
    },
    {
     "name": "stdout",
     "output_type": "stream",
     "text": [
      "for s = 0.1 a = 1 sA =  2 sd = 2 Ei = 0.4\n",
      "Utility A = 0 utility D = -12657.066666658846\n"
     ]
    },
    {
     "data": {
      "application/vnd.jupyter.widget-view+json": {
       "model_id": "9ec703502a814d5985fb1523954f279a",
       "version_major": 2,
       "version_minor": 0
      },
      "text/plain": [
       "  0%|          | 0/50000 [00:00<?, ?it/s]"
      ]
     },
     "metadata": {},
     "output_type": "display_data"
    },
    {
     "name": "stdout",
     "output_type": "stream",
     "text": [
      "for s = 0.1 a = 1 sA =  2 sd = 2 Ei = 0.5\n",
      "Utility A = 0 utility D = -23721.950000001772\n"
     ]
    },
    {
     "data": {
      "application/vnd.jupyter.widget-view+json": {
       "model_id": "cdf257d1467d41d4ab6b8561f76b7d76",
       "version_major": 2,
       "version_minor": 0
      },
      "text/plain": [
       "  0%|          | 0/50000 [00:00<?, ?it/s]"
      ]
     },
     "metadata": {},
     "output_type": "display_data"
    },
    {
     "name": "stdout",
     "output_type": "stream",
     "text": [
      "for s = 0.1 a = 1 sA =  2 sd = 2 Ei = 0.6\n",
      "Utility A = 0 utility D = -42730.020000004166\n"
     ]
    },
    {
     "data": {
      "application/vnd.jupyter.widget-view+json": {
       "model_id": "dfa579bf537f4a0b925e550bc9ca3dcb",
       "version_major": 2,
       "version_minor": 0
      },
      "text/plain": [
       "  0%|          | 0/50000 [00:00<?, ?it/s]"
      ]
     },
     "metadata": {},
     "output_type": "display_data"
    },
    {
     "name": "stdout",
     "output_type": "stream",
     "text": [
      "for s = 0.1 a = 1 sA =  2 sd = 2 Ei = 0.7\n",
      "Utility A = 0 utility D = -77776.06666666777\n"
     ]
    },
    {
     "data": {
      "application/vnd.jupyter.widget-view+json": {
       "model_id": "910df7c69d4c43f781b1599ae7321885",
       "version_major": 2,
       "version_minor": 0
      },
      "text/plain": [
       "  0%|          | 0/50000 [00:00<?, ?it/s]"
      ]
     },
     "metadata": {},
     "output_type": "display_data"
    },
    {
     "name": "stdout",
     "output_type": "stream",
     "text": [
      "for s = 0.1 a = 1 sA =  2 sd = 2 Ei = 0.8\n",
      "Utility A = 0 utility D = -152124.1600000145\n"
     ]
    },
    {
     "data": {
      "application/vnd.jupyter.widget-view+json": {
       "model_id": "23f8f885e49e47a9aced131a22d4128f",
       "version_major": 2,
       "version_minor": 0
      },
      "text/plain": [
       "  0%|          | 0/50000 [00:00<?, ?it/s]"
      ]
     },
     "metadata": {},
     "output_type": "display_data"
    },
    {
     "name": "stdout",
     "output_type": "stream",
     "text": [
      "for s = 0.1 a = 1 sA =  2 sd = 2 Ei = 0.9\n",
      "Utility A = 0 utility D = -384021.809999872\n"
     ]
    },
    {
     "data": {
      "application/vnd.jupyter.widget-view+json": {
       "model_id": "04644ee5e4084ce7bce748d6e74fc65e",
       "version_major": 2,
       "version_minor": 0
      },
      "text/plain": [
       "  0%|          | 0/50000 [00:00<?, ?it/s]"
      ]
     },
     "metadata": {},
     "output_type": "display_data"
    },
    {
     "name": "stdout",
     "output_type": "stream",
     "text": [
      "for s = 0.1 a = 1 sA =  2 sd = 3 Ei = 0.1\n",
      "Utility A = 0 utility D = -528.8922222222033\n"
     ]
    },
    {
     "data": {
      "application/vnd.jupyter.widget-view+json": {
       "model_id": "f5c2e09b7198411989c0df920b8b8f24",
       "version_major": 2,
       "version_minor": 0
      },
      "text/plain": [
       "  0%|          | 0/50000 [00:00<?, ?it/s]"
      ]
     },
     "metadata": {},
     "output_type": "display_data"
    },
    {
     "name": "stdout",
     "output_type": "stream",
     "text": [
      "for s = 0.1 a = 1 sA =  2 sd = 3 Ei = 0.2\n",
      "Utility A = 0 utility D = -2367.0950000002204\n"
     ]
    },
    {
     "data": {
      "application/vnd.jupyter.widget-view+json": {
       "model_id": "e2ccd45e606243ea8063c5a277886abb",
       "version_major": 2,
       "version_minor": 0
      },
      "text/plain": [
       "  0%|          | 0/50000 [00:00<?, ?it/s]"
      ]
     },
     "metadata": {},
     "output_type": "display_data"
    },
    {
     "name": "stdout",
     "output_type": "stream",
     "text": [
      "for s = 0.1 a = 1 sA =  2 sd = 3 Ei = 0.3\n",
      "Utility A = 0 utility D = -6117.698571427766\n"
     ]
    },
    {
     "data": {
      "application/vnd.jupyter.widget-view+json": {
       "model_id": "6b2bac22ac084cf69cec1375e9ad7143",
       "version_major": 2,
       "version_minor": 0
      },
      "text/plain": [
       "  0%|          | 0/50000 [00:00<?, ?it/s]"
      ]
     },
     "metadata": {},
     "output_type": "display_data"
    },
    {
     "name": "stdout",
     "output_type": "stream",
     "text": [
      "for s = 0.1 a = 1 sA =  2 sd = 3 Ei = 0.4\n",
      "Utility A = 0 utility D = -12672.533333325504\n"
     ]
    },
    {
     "data": {
      "application/vnd.jupyter.widget-view+json": {
       "model_id": "876475e914cc455caddabd61ba7edfb1",
       "version_major": 2,
       "version_minor": 0
      },
      "text/plain": [
       "  0%|          | 0/50000 [00:00<?, ?it/s]"
      ]
     },
     "metadata": {},
     "output_type": "display_data"
    },
    {
     "name": "stdout",
     "output_type": "stream",
     "text": [
      "for s = 0.1 a = 1 sA =  2 sd = 3 Ei = 0.5\n",
      "Utility A = 0 utility D = -23749.600000002007\n"
     ]
    },
    {
     "data": {
      "application/vnd.jupyter.widget-view+json": {
       "model_id": "ebd52fed3b5a4a408ba0f1c928fe50a6",
       "version_major": 2,
       "version_minor": 0
      },
      "text/plain": [
       "  0%|          | 0/50000 [00:00<?, ?it/s]"
      ]
     },
     "metadata": {},
     "output_type": "display_data"
    },
    {
     "name": "stdout",
     "output_type": "stream",
     "text": [
      "for s = 0.1 a = 1 sA =  2 sd = 3 Ei = 0.6\n",
      "Utility A = 0 utility D = -42748.65000000399\n"
     ]
    },
    {
     "data": {
      "application/vnd.jupyter.widget-view+json": {
       "model_id": "06438937fbc64349b42dae6934d90d43",
       "version_major": 2,
       "version_minor": 0
      },
      "text/plain": [
       "  0%|          | 0/50000 [00:00<?, ?it/s]"
      ]
     },
     "metadata": {},
     "output_type": "display_data"
    },
    {
     "name": "stdout",
     "output_type": "stream",
     "text": [
      "for s = 0.1 a = 1 sA =  2 sd = 3 Ei = 0.7\n",
      "Utility A = 0 utility D = -77514.5700000015\n"
     ]
    },
    {
     "data": {
      "application/vnd.jupyter.widget-view+json": {
       "model_id": "b0405793db884cd6a781d9567e68c720",
       "version_major": 2,
       "version_minor": 0
      },
      "text/plain": [
       "  0%|          | 0/50000 [00:00<?, ?it/s]"
      ]
     },
     "metadata": {},
     "output_type": "display_data"
    },
    {
     "name": "stdout",
     "output_type": "stream",
     "text": [
      "for s = 0.1 a = 1 sA =  2 sd = 3 Ei = 0.8\n",
      "Utility A = 0 utility D = -152313.9200000144\n"
     ]
    },
    {
     "data": {
      "application/vnd.jupyter.widget-view+json": {
       "model_id": "6b4c28b7953546a4acc3e6052bdbacc0",
       "version_major": 2,
       "version_minor": 0
      },
      "text/plain": [
       "  0%|          | 0/50000 [00:00<?, ?it/s]"
      ]
     },
     "metadata": {},
     "output_type": "display_data"
    },
    {
     "name": "stdout",
     "output_type": "stream",
     "text": [
      "for s = 0.1 a = 1 sA =  2 sd = 3 Ei = 0.9\n",
      "Utility A = 0 utility D = -384353.0999998687\n"
     ]
    },
    {
     "data": {
      "application/vnd.jupyter.widget-view+json": {
       "model_id": "7547ffec06634875919c34665e6dc776",
       "version_major": 2,
       "version_minor": 0
      },
      "text/plain": [
       "  0%|          | 0/50000 [00:00<?, ?it/s]"
      ]
     },
     "metadata": {},
     "output_type": "display_data"
    },
    {
     "name": "stdout",
     "output_type": "stream",
     "text": [
      "for s = 0.1 a = 2 sA =  1 sd = 1 Ei = 0.1\n",
      "Utility A = 20349.810000001362 utility D = -21508.982499999907\n"
     ]
    },
    {
     "data": {
      "application/vnd.jupyter.widget-view+json": {
       "model_id": "2a320094b11b4e59a9a4765e8c9e99b6",
       "version_major": 2,
       "version_minor": 0
      },
      "text/plain": [
       "  0%|          | 0/50000 [00:00<?, ?it/s]"
      ]
     },
     "metadata": {},
     "output_type": "display_data"
    },
    {
     "name": "stdout",
     "output_type": "stream",
     "text": [
      "for s = 0.1 a = 2 sA =  1 sd = 1 Ei = 0.2\n",
      "Utility A = 20497.130000001318 utility D = -24255.946666667678\n"
     ]
    },
    {
     "data": {
      "application/vnd.jupyter.widget-view+json": {
       "model_id": "73cb95c12f3c48b0bf0745e6a2627857",
       "version_major": 2,
       "version_minor": 0
      },
      "text/plain": [
       "  0%|          | 0/50000 [00:00<?, ?it/s]"
      ]
     },
     "metadata": {},
     "output_type": "display_data"
    },
    {
     "name": "stdout",
     "output_type": "stream",
     "text": [
      "for s = 0.1 a = 2 sA =  1 sd = 1 Ei = 0.3\n",
      "Utility A = 19682.440000001112 utility D = -30892.229999999156\n"
     ]
    },
    {
     "data": {
      "application/vnd.jupyter.widget-view+json": {
       "model_id": "eb376c43910e48a5a1c9a284485a5f3a",
       "version_major": 2,
       "version_minor": 0
      },
      "text/plain": [
       "  0%|          | 0/50000 [00:00<?, ?it/s]"
      ]
     },
     "metadata": {},
     "output_type": "display_data"
    },
    {
     "name": "stdout",
     "output_type": "stream",
     "text": [
      "for s = 0.1 a = 2 sA =  1 sd = 1 Ei = 0.4\n",
      "Utility A = 13129.220000000396 utility D = -51401.23000000319\n"
     ]
    },
    {
     "data": {
      "application/vnd.jupyter.widget-view+json": {
       "model_id": "3712ef5706a6442fb72e16fe6ce7a02b",
       "version_major": 2,
       "version_minor": 0
      },
      "text/plain": [
       "  0%|          | 0/50000 [00:00<?, ?it/s]"
      ]
     },
     "metadata": {},
     "output_type": "display_data"
    },
    {
     "ename": "ZeroDivisionError",
     "evalue": "float division by zero",
     "output_type": "error",
     "traceback": [
      "\u001b[0;31m---------------------------------------------------------------------------\u001b[0m",
      "\u001b[0;31mZeroDivisionError\u001b[0m                         Traceback (most recent call last)",
      "\u001b[0;32m/tmp/ipykernel_17553/3919772167.py\u001b[0m in \u001b[0;36m<module>\u001b[0;34m\u001b[0m\n\u001b[1;32m    214\u001b[0m                                 \u001b[0mutilityAttacker\u001b[0m \u001b[0;34m+=\u001b[0m \u001b[0mUtilityAttacker\u001b[0m\u001b[0;34m(\u001b[0m\u001b[0mmachineValues\u001b[0m\u001b[0;34m,\u001b[0m \u001b[0mmachineArray\u001b[0m\u001b[0;34m)\u001b[0m\u001b[0;34m\u001b[0m\u001b[0;34m\u001b[0m\u001b[0m\n\u001b[1;32m    215\u001b[0m                             \u001b[0;32melse\u001b[0m\u001b[0;34m:\u001b[0m\u001b[0;34m\u001b[0m\u001b[0;34m\u001b[0m\u001b[0m\n\u001b[0;32m--> 216\u001b[0;31m                                 \u001b[0mutilityDefender\u001b[0m \u001b[0;34m+=\u001b[0m \u001b[0mUtilityDefender\u001b[0m\u001b[0;34m(\u001b[0m\u001b[0ms\u001b[0m\u001b[0;34m,\u001b[0m \u001b[0ma\u001b[0m\u001b[0;34m,\u001b[0m \u001b[0mEi\u001b[0m\u001b[0;34m,\u001b[0m \u001b[0mmachineValues\u001b[0m\u001b[0;34m,\u001b[0m \u001b[0mmachineArray\u001b[0m\u001b[0;34m)\u001b[0m\u001b[0;34m\u001b[0m\u001b[0;34m\u001b[0m\u001b[0m\n\u001b[0m\u001b[1;32m    217\u001b[0m                         \u001b[0mprint\u001b[0m\u001b[0;34m(\u001b[0m\u001b[0;34m'for s ='\u001b[0m\u001b[0;34m,\u001b[0m \u001b[0ms\u001b[0m\u001b[0;34m,\u001b[0m\u001b[0;34m'a ='\u001b[0m\u001b[0;34m,\u001b[0m \u001b[0ma\u001b[0m\u001b[0;34m,\u001b[0m \u001b[0;34m'sA = '\u001b[0m\u001b[0;34m,\u001b[0m \u001b[0mstrategyA\u001b[0m\u001b[0;34m,\u001b[0m \u001b[0;34m'sd ='\u001b[0m\u001b[0;34m,\u001b[0m \u001b[0mstrategyD\u001b[0m\u001b[0;34m,\u001b[0m \u001b[0;34m'Ei ='\u001b[0m\u001b[0;34m,\u001b[0m \u001b[0mEi\u001b[0m\u001b[0;34m)\u001b[0m\u001b[0;34m\u001b[0m\u001b[0;34m\u001b[0m\u001b[0m\n\u001b[1;32m    218\u001b[0m                         \u001b[0mprint\u001b[0m\u001b[0;34m(\u001b[0m\u001b[0;34m'Utility A ='\u001b[0m\u001b[0;34m,\u001b[0m \u001b[0mutilityAttacker\u001b[0m\u001b[0;34m,\u001b[0m \u001b[0;34m'utility D ='\u001b[0m\u001b[0;34m,\u001b[0m \u001b[0mutilityDefender\u001b[0m\u001b[0;34m)\u001b[0m\u001b[0;34m\u001b[0m\u001b[0;34m\u001b[0m\u001b[0m\n",
      "\u001b[0;32m/tmp/ipykernel_17553/3919772167.py\u001b[0m in \u001b[0;36mUtilityDefender\u001b[0;34m(s, a, Ei, machineValues, machineArray)\u001b[0m\n\u001b[1;32m     87\u001b[0m             \u001b[0ml\u001b[0m \u001b[0;34m+=\u001b[0m \u001b[0mpercent\u001b[0m\u001b[0;34m\u001b[0m\u001b[0;34m\u001b[0m\u001b[0m\n\u001b[1;32m     88\u001b[0m     \u001b[0;32mfor\u001b[0m \u001b[0mi\u001b[0m \u001b[0;32min\u001b[0m \u001b[0mrange\u001b[0m\u001b[0;34m(\u001b[0m\u001b[0mmachineValues\u001b[0m\u001b[0;34m)\u001b[0m\u001b[0;34m:\u001b[0m\u001b[0;34m\u001b[0m\u001b[0;34m\u001b[0m\u001b[0m\n\u001b[0;32m---> 89\u001b[0;31m         \u001b[0mtmp\u001b[0m \u001b[0;34m+=\u001b[0m \u001b[0mCostFunction\u001b[0m\u001b[0;34m(\u001b[0m\u001b[0ms\u001b[0m\u001b[0;34m,\u001b[0m \u001b[0ma\u001b[0m\u001b[0;34m,\u001b[0m \u001b[0mEi\u001b[0m\u001b[0;34m)\u001b[0m\u001b[0;34m\u001b[0m\u001b[0;34m\u001b[0m\u001b[0m\n\u001b[0m\u001b[1;32m     90\u001b[0m     \u001b[0;32mreturn\u001b[0m \u001b[0;34m-\u001b[0m \u001b[0ml\u001b[0m \u001b[0;34m-\u001b[0m \u001b[0mtmp\u001b[0m\u001b[0;34m\u001b[0m\u001b[0;34m\u001b[0m\u001b[0m\n\u001b[1;32m     91\u001b[0m \u001b[0;34m\u001b[0m\u001b[0m\n",
      "\u001b[0;32m/tmp/ipykernel_17553/3919772167.py\u001b[0m in \u001b[0;36mCostFunction\u001b[0;34m(s, a, Ei)\u001b[0m\n\u001b[1;32m     76\u001b[0m \u001b[0;34m\u001b[0m\u001b[0m\n\u001b[1;32m     77\u001b[0m \u001b[0;32mdef\u001b[0m \u001b[0mCostFunction\u001b[0m\u001b[0;34m(\u001b[0m\u001b[0ms\u001b[0m\u001b[0;34m,\u001b[0m \u001b[0ma\u001b[0m\u001b[0;34m,\u001b[0m \u001b[0mEi\u001b[0m\u001b[0;34m)\u001b[0m\u001b[0;34m:\u001b[0m\u001b[0;34m\u001b[0m\u001b[0;34m\u001b[0m\u001b[0m\n\u001b[0;32m---> 78\u001b[0;31m     \u001b[0;32mreturn\u001b[0m \u001b[0;34m-\u001b[0m\u001b[0;34m(\u001b[0m\u001b[0ms\u001b[0m \u001b[0;34m*\u001b[0m \u001b[0mEi\u001b[0m \u001b[0;34m*\u001b[0m \u001b[0mEi\u001b[0m\u001b[0;34m)\u001b[0m\u001b[0;34m/\u001b[0m\u001b[0;34m(\u001b[0m\u001b[0ma\u001b[0m \u001b[0;34m*\u001b[0m \u001b[0mEi\u001b[0m \u001b[0;34m-\u001b[0m \u001b[0;36m1\u001b[0m\u001b[0;34m)\u001b[0m\u001b[0;34m\u001b[0m\u001b[0;34m\u001b[0m\u001b[0m\n\u001b[0m\u001b[1;32m     79\u001b[0m \u001b[0;34m\u001b[0m\u001b[0m\n\u001b[1;32m     80\u001b[0m \u001b[0;32mdef\u001b[0m \u001b[0mUtilityDefender\u001b[0m\u001b[0;34m(\u001b[0m\u001b[0ms\u001b[0m\u001b[0;34m,\u001b[0m \u001b[0ma\u001b[0m\u001b[0;34m,\u001b[0m \u001b[0mEi\u001b[0m\u001b[0;34m,\u001b[0m \u001b[0mmachineValues\u001b[0m\u001b[0;34m,\u001b[0m \u001b[0mmachineArray\u001b[0m\u001b[0;34m)\u001b[0m\u001b[0;34m:\u001b[0m\u001b[0;34m\u001b[0m\u001b[0;34m\u001b[0m\u001b[0m\n",
      "\u001b[0;31mZeroDivisionError\u001b[0m: float division by zero"
     ]
    }
   ],
   "source": [
    "import numpy as np\n",
    "import random\n",
    "from tqdm.notebook import tqdm\n",
    "\n",
    "\n",
    "class Machine:\n",
    "    \n",
    "    def __init__(self, vulnerable, percentValue, penetrate):\n",
    "        self.vulnerable = vulnerable\n",
    "        self.percentValue = percentValue\n",
    "        self.penetrate = penetrate\n",
    "        \n",
    "    def changeVulnerable(self, vulnerable):\n",
    "        self.vulnerable = vulnerable\n",
    "    \n",
    "    def changeCost(self, percentValue):\n",
    "        self.percentValue = percentValue\n",
    "        \n",
    "    def changePenetrate(self, penetrate):\n",
    "        self.penetrate = penetrate\n",
    "        \n",
    "    def pr(self):\n",
    "        print(self.vulnerable, self.percentValue, self.penetrate)\n",
    "\n",
    "        \n",
    "def printAllvalues(machineValues, vulnerableMachineValues, importantMachineValues):\n",
    "    print('machine values = ', machineValues, 'vulnerable machine values = ', vulnerableMachineValues, 'important machine values =', importantMachineValues)\n",
    "#получаем кол-во машин\n",
    "def GetMachineValues():\n",
    "    machineValues = random.randint(4, 15)\n",
    "    return machineValues\n",
    "#получаем кол-во уязвимых машин \n",
    "def GetVulnerableMachineValues(machineValues):\n",
    "    vulnerableMachineValues = random.randint(1, machineValues)\n",
    "    return vulnerableMachineValues\n",
    "\n",
    "#получаем номер главной машины\n",
    "def GetImportantMachineValues(machineValues):\n",
    "    importantMachineValues = random.randint(1, machineValues)\n",
    "    return importantMachineValues\n",
    "\n",
    "#получаем процент, который занимает главная машина \n",
    "def GetPercentValue():\n",
    "    percentValue = random.randint(30, 60)\n",
    "    return percentValue\n",
    "\n",
    "def GetMachineArray(machineValues, vulnerableMachineValues, importantMachineValues):\n",
    "    #пока что сделаем цену cost фиксированной\n",
    "    #дальше придумаем фукнцию для нее\n",
    "    machineArray = []\n",
    "    percentValue = GetPercentValue()\n",
    "    reversePercent = (100 - percentValue) / (machineValues - 1)\n",
    "    percentValue = percentValue / 100\n",
    "    reversePercent = reversePercent / 100\n",
    "    reversePercent = (\"%.2f\" % reversePercent)\n",
    "    for i in range(machineValues):\n",
    "        if i == (importantMachineValues - 1):\n",
    "            tmp = Machine(False, percentValue, False)\n",
    "        else:\n",
    "            tmp = Machine(False, reversePercent, False)\n",
    "        machineArray.append(tmp)\n",
    "    #здесь баг - может 2 и более раз сгенерироваться\n",
    "    #одинаковое число и поэтому кол-во машин будет неточным\n",
    "    for i in range(0, vulnerableMachineValues):\n",
    "        j = random.randint(0, machineValues - 1)\n",
    "        machineArray[j].changeVulnerable(True)\n",
    "    return machineArray\n",
    "#возвращает число уязвимых машин, так как из-за бага\n",
    "#прошлое число уязвимых != новому\n",
    "def GetVulnerableMachine(machineValues, machineArray):\n",
    "    vulnerableMachine = 0\n",
    "    for i in range(machineValues):\n",
    "        if machineArray[i].vulnerable == True:\n",
    "            vulnerableMachine += 1\n",
    "    return vulnerableMachine\n",
    "\n",
    "def CostFunction(s, a, Ei):\n",
    "    return -(s * Ei * Ei)/(a * Ei - 1)\n",
    "\n",
    "def UtilityDefender(s, a, Ei, machineValues, machineArray):\n",
    "    # l - процент понесенных потерь машин\n",
    "    tmp = 0\n",
    "    percent = machineValues / 100\n",
    "    l = 0\n",
    "    for i in range(len(machineArray)):\n",
    "        if machineArray[i].penetrate == True:\n",
    "            l += percent\n",
    "    for i in range(machineValues):\n",
    "        tmp += CostFunction(s, a, Ei)\n",
    "    return - l - tmp\n",
    "\n",
    "def UtilityAttacker(machineValues, machineArray):\n",
    "    percent = machineValues / 100\n",
    "    l = 0\n",
    "    for i in range(len(machineArray)):\n",
    "        if machineArray[i].penetrate == True:\n",
    "            l += percent\n",
    "    return l\n",
    "    \n",
    "def AttackerStrategyProportional(machineArray):\n",
    "    attackerProportionalEffort = []\n",
    "    for i in range(len(machineArray)):\n",
    "        tmp = machineArray[i].percentValue\n",
    "        attackerProportionalEffort.append(tmp)\n",
    "    return attackerProportionalEffort\n",
    "        \n",
    "def AttackerStrategyHigh():\n",
    "    attackerHighEffort = 1\n",
    "    return attackerHighEffort\n",
    "        \n",
    "def DefenderStrategyNothing():\n",
    "    return None\n",
    "    \n",
    "def DefenderStrategyProportional(machineArray, Ei):\n",
    "    defenderProportionalEffort = []\n",
    "    for i in range(len(machineArray)):\n",
    "        tmp = float(machineArray[i].percentValue) * Ei\n",
    "        defenderProportionalEffort.append(tmp)\n",
    "    return defenderProportionalEffort\n",
    "    \n",
    "def DefenderStrategyHigh(Ei):\n",
    "    defenderHighEffort = Ei\n",
    "    return defenderHighEffort\n",
    "#P-атакующий H-защитник\n",
    "def ComparisonStrategyPH(machineArray, importantMachineValues, Ei):\n",
    "    attackerProportionalEffort = AttackerStrategyProportional(machineArray)\n",
    "    defenderHighEffort = DefenderStrategyHigh(Ei)\n",
    "    count = 0\n",
    "    for i in range(len(machineArray)):\n",
    "        if machineArray[i].vulnerable == True:\n",
    "            if attackerProportionalEffort[i] > machineArray[i].percentValue or attackerProportionalEffort[importantMachineValues - 1] > defenderHighEffort:\n",
    "                machineArray[i].changePenetrate(True)\n",
    "                count += 1\n",
    "    if count > 1:\n",
    "        return True\n",
    "    else:\n",
    "        return False\n",
    "#P-атакующий P-защитник\n",
    "def ComparisonStrategyPP(machineArray, Ei):\n",
    "    attackerProportionalEffort = AttackerStrategyProportional(machineArray)\n",
    "    defenderProportionalEffort = DefenderStrategyProportional(machineArray, Ei)\n",
    "    count = 0\n",
    "    for i in range(len(machineArray)):\n",
    "        if float(attackerProportionalEffort[i]) > defenderProportionalEffort[i]:\n",
    "            if machineArray[i].vulnerable == True:\n",
    "                machineArray[i].changePenetrate(True)\n",
    "                count += 1\n",
    "    if count > 0:\n",
    "        return True\n",
    "    else:\n",
    "        return False\n",
    "#P - атакующий N - защитник\n",
    "def ComparisonStrategyPN(machineArray):\n",
    "    attackerProportionalEffort = AttackerStrategyProportional(machineArray)\n",
    "    #Дописать, так как атакующий может взломать более 1 машины\n",
    "    #Дописал\n",
    "    count = 0\n",
    "    for i in range(len(machineArray)):\n",
    "        if float(attackerProportionalEffort[i]) > float(machineArray[i].percentValue):\n",
    "            machineArray[i].changePenetrate(True)\n",
    "            count += 1\n",
    "    if count > 0:\n",
    "        return True\n",
    "    else:\n",
    "        return False\n",
    "#H-атакующий P-защитник\n",
    "def ComparisonStrategyHP(machineArray, Ei, importantMachineValues):\n",
    "    attackerHighEffort = AttackerStrategyHigh()\n",
    "    defenderProportionalEffort = DefenderStrategyProportional(machineArray, Ei)\n",
    "    if attackerHighEffort > defenderProportionalEffort[importantMachineValues - 1]:\n",
    "        return True\n",
    "    else:\n",
    "        return False\n",
    "#H-атакующий H-защитник\n",
    "def ComparsionStrategyHH(machineArray, Ei):\n",
    "    attackerHighEffort = AttackerStrategyHigh()\n",
    "    defenderHighEffort = DefenderStrategyHigh(Ei)\n",
    "    if attackerHighEffort > defenderHighEffort:\n",
    "        return True\n",
    "    else:\n",
    "        return False\n",
    "#H-Атакующий N-защитник\n",
    "def ComparsionStrategyHN(machineArray, importantMachineValues):\n",
    "    attackerHighEffort = AttackerStrategyHigh()\n",
    "    if float(attackerHighEffort) > machineArray[importantMachineValues - 1].percentValue:\n",
    "        return True\n",
    "    else:\n",
    "        return False\n",
    "\n",
    "def generateParameters():\n",
    "    machineValues = GetMachineValues()\n",
    "    vulnerableMachineValues = GetVulnerableMachineValues(machineValues)\n",
    "    importantMachineValues = GetImportantMachineValues(machineValues)\n",
    "    machineArray = GetMachineArray(machineValues, vulnerableMachineValues, importantMachineValues)\n",
    "\n",
    "\n",
    "for s in (0.1, 0.2, 0.3, 0.4, 0.5, 0.6, 0.7, 0.8, 0.9):\n",
    "    for a in range(1, 11, 1):\n",
    "        for strategyA in (1, 2):\n",
    "            for strategyD in (1, 2, 3):\n",
    "                for Ei in (0.1, 0.2, 0.3, 0.4, 0.5, 0.6, 0.7, 0.8, 0.9):\n",
    "                    if strategyA == 1 and strategyD == 1:\n",
    "                        j = 0\n",
    "                        utilityDefender = 0\n",
    "                        utilityAttacker = 0\n",
    "                        for j in tqdm(range(50000)):\n",
    "                            machineValues = GetMachineValues()\n",
    "                            vulnerableMachineValues = GetVulnerableMachineValues(machineValues)\n",
    "                            importantMachineValues = GetImportantMachineValues(machineValues)\n",
    "                            machineArray = GetMachineArray(machineValues, vulnerableMachineValues, importantMachineValues)\n",
    "                            tmp = ComparisonStrategyPH(machineArray, importantMachineValues, Ei)\n",
    "                            if tmp == True:\n",
    "                                utilityDefender += UtilityDefender(s, a, Ei, machineValues, machineArray)\n",
    "                                utilityAttacker += UtilityAttacker(machineValues, machineArray)\n",
    "                            else:\n",
    "                                utilityDefender += UtilityDefender(s, a, Ei, machineValues, machineArray)\n",
    "                        print('for s =', s,'a =', a, 'sA = ', strategyA, 'sd =', strategyD, 'Ei =', Ei)\n",
    "                        print('Utility A =', utilityAttacker, 'utility D =', utilityDefender)\n",
    "                    elif strategyA == 1 and strategyD == 2:\n",
    "                        j = 0\n",
    "                        utilityDefender = 0\n",
    "                        utilityAttacker = 0\n",
    "                        for j in tqdm(range(50000)):\n",
    "                            machineValues = GetMachineValues()\n",
    "                            vulnerableMachineValues = GetVulnerableMachineValues(machineValues)\n",
    "                            importantMachineValues = GetImportantMachineValues(machineValues)\n",
    "                            machineArray = GetMachineArray(machineValues, vulnerableMachineValues, importantMachineValues)\n",
    "                            tmp = ComparisonStrategyPP(machineArray, Ei)\n",
    "                            if tmp == True:\n",
    "                                utilityDefender += UtilityDefender(s, a, Ei, machineValues, machineArray)\n",
    "                                utilityAttacker += UtilityAttacker(machineValues, machineArray)\n",
    "                            else:\n",
    "                                utilityDefender += UtilityDefender(s, a, Ei, machineValues, machineArray)\n",
    "                        print('for s =', s,'a =', a, 'sA = ', strategyA, 'sd =', strategyD, 'Ei =', Ei)\n",
    "                        print('Utility A =', utilityAttacker, 'utility D =', utilityDefender)\n",
    "                    elif strategyA == 1 and strategyD == 3:\n",
    "                        j = 0\n",
    "                        utilityDefender = 0\n",
    "                        utilityAttacker = 0\n",
    "                        for j in tqdm(range(50000)):\n",
    "                            machineValues = GetMachineValues()\n",
    "                            vulnerableMachineValues = GetVulnerableMachineValues(machineValues)\n",
    "                            importantMachineValues = GetImportantMachineValues(machineValues)\n",
    "                            machineArray = GetMachineArray(machineValues, vulnerableMachineValues, importantMachineValues)\n",
    "                            tmp = ComparisonStrategyPN(machineArray)\n",
    "                            if tmp == True:\n",
    "                                utilityDefender += UtilityDefender(s, a, Ei, machineValues, machineArray)\n",
    "                                utilityAttacker += UtilityAttacker(machineValues, machineArray)\n",
    "                            else:\n",
    "                                utilityDefender += UtilityDefender(s, a, Ei, machineValues, machineArray)\n",
    "                        print('for s =', s,'a =', a, 'sA = ', strategyA, 'sd =', strategyD, 'Ei =', Ei)\n",
    "                        print('Utility A =', utilityAttacker, 'utility D =', utilityDefender)\n",
    "                    elif strategyA == 2 and strategyD == 1:\n",
    "                        j = 0\n",
    "                        utilityDefender = 0\n",
    "                        utilityAttacker = 0\n",
    "                        for j in tqdm(range(50000)):\n",
    "                            machineValues = GetMachineValues()\n",
    "                            vulnerableMachineValues = GetVulnerableMachineValues(machineValues)\n",
    "                            importantMachineValues = GetImportantMachineValues(machineValues)\n",
    "                            machineArray = GetMachineArray(machineValues, vulnerableMachineValues, importantMachineValues)\n",
    "                            tmp = ComparisonStrategyHP(machineArray, Ei, importantMachineValues)\n",
    "                            if tmp == True:\n",
    "                                utilityDefender += UtilityDefender(s, a, Ei, machineValues, machineArray)\n",
    "                                utilityAttacker += UtilityAttacker(machineValues, machineArray)\n",
    "                            else:\n",
    "                                utilityDefender += UtilityDefender(s, a, Ei, machineValues, machineArray)\n",
    "                        print('for s =', s,'a =', a, 'sA = ', strategyA, 'sd =', strategyD, 'Ei =', Ei)\n",
    "                        print('Utility A =', utilityAttacker, 'utility D =', utilityDefender)\n",
    "                    elif strategyA == 2 and strategyD == 2:\n",
    "                        j = 0\n",
    "                        utilityDefender = 0\n",
    "                        utilityAttacker = 0\n",
    "                        for j in tqdm(range(50000)):\n",
    "                            machineValues = GetMachineValues()\n",
    "                            vulnerableMachineValues = GetVulnerableMachineValues(machineValues)\n",
    "                            importantMachineValues = GetImportantMachineValues(machineValues)\n",
    "                            machineArray = GetMachineArray(machineValues, vulnerableMachineValues, importantMachineValues)\n",
    "                            tmp = ComparsionStrategyHH(machineArray, Ei)\n",
    "                            if tmp == True:\n",
    "                                utilityDefender += UtilityDefender(s, a, Ei, machineValues, machineArray)\n",
    "                                utilityAttacker += UtilityAttacker(machineValues, machineArray)\n",
    "                            else:\n",
    "                                utilityDefender += UtilityDefender(s, a, Ei, machineValues, machineArray)\n",
    "                        print('for s =', s,'a =', a, 'sA = ', strategyA, 'sd =', strategyD, 'Ei =', Ei)\n",
    "                        print('Utility A =', utilityAttacker, 'utility D =', utilityDefender)\n",
    "                    elif strategyA == 2 and strategyD == 3:\n",
    "                        j = 0\n",
    "                        utilityDefender = 0\n",
    "                        utilityAttacker = 0\n",
    "                        for j in tqdm(range(50000)):\n",
    "                            machineValues = GetMachineValues()\n",
    "                            vulnerableMachineValues = GetVulnerableMachineValues(machineValues)\n",
    "                            importantMachineValues = GetImportantMachineValues(machineValues)\n",
    "                            machineArray = GetMachineArray(machineValues, vulnerableMachineValues, importantMachineValues)\n",
    "                            tmp = ComparsionStrategyHN(machineArray, importantMachineValues)\n",
    "                            if tmp == True:\n",
    "                                utilityDefender += UtilityDefender(s, a, Ei, machineValues, machineArray)\n",
    "                                utilityAttacker += UtilityAttacker(machineValues, machineArray)\n",
    "                            else:\n",
    "                                utilityDefender += UtilityDefender(s, a, Ei, machineValues, machineArray)\n",
    "                        print('for s =', s,'a =', a, 'sA = ', strategyA, 'sd =', strategyD, 'Ei =', Ei)\n",
    "                        print('Utility A =', utilityAttacker, 'utility D =', utilityDefender)"
   ]
  },
  {
   "cell_type": "code",
   "execution_count": 4,
   "id": "03cddd63",
   "metadata": {},
   "outputs": [
    {
     "name": "stdout",
     "output_type": "stream",
     "text": [
      "\u001b[31mERROR: Could not find a version that satisfies the requirement json (from versions: none)\u001b[0m\n",
      "\u001b[31mERROR: No matching distribution found for json\u001b[0m\n",
      "\u001b[33mWARNING: You are using pip version 21.2.3; however, version 21.3.1 is available.\n",
      "You should consider upgrading via the '/home/bkozeev/notebook/notebook/bin/python -m pip install --upgrade pip' command.\u001b[0m\n",
      "Note: you may need to restart the kernel to use updated packages.\n"
     ]
    }
   ],
   "source": [
    "pip install json"
   ]
  },
  {
   "cell_type": "code",
   "execution_count": null,
   "id": "bf967e8f",
   "metadata": {},
   "outputs": [],
   "source": [
    "import sys\n",
    "\n",
    "class Machine:\n",
    "    \n",
    "    def __init__(self, v, cost):\n",
    "        self.v = v\n",
    "        self.cost = cost\n",
    "        \n",
    "    def change(self, v, cost):\n",
    "        self.v = v\n",
    "        self.cost = cost\n",
    "        \n",
    "    def pr(self):\n",
    "        print(self.v, self.cost)\n",
    "\n",
    "        \n",
    "aM = []\n",
    "cost = 13\n",
    "for i in range(10):\n",
    "    tmp = Machine(False, cost)\n",
    "    aM.append(tmp)\n",
    "for i in range(10):\n",
    "    aM[i].pr()\n",
    "print('_____')\n",
    "for i in range(10):\n",
    "    if i == 0 or i == 3 or i == 5 or i == 9:\n",
    "        aM[i].change(True, 16)\n",
    "    aM[i].pr()\n",
    "\n",
    "#machine1 = Machine(True, 45)\n",
    "#machine1.pr()\n",
    "#print(machine1.__sizeof__())\n",
    "#print(sys.getsizeof(machine1))\n",
    "#print('__________')\n",
    "#a = (True, 45)\n",
    "#print(a.__sizeof__())\n",
    "#print(sys.getsizeof(a))"
   ]
  },
  {
   "cell_type": "code",
   "execution_count": null,
   "id": "93fbf045",
   "metadata": {},
   "outputs": [],
   "source": [
    "class Machine:\n",
    "    \n",
    "    def __init__(self, vulnerable, percentValue, penetrate):\n",
    "        self.vulnerable = vulnerable\n",
    "        self.percentValue = percentValue\n",
    "        self.penetrate = penetrate\n",
    "    \n",
    "    def pr(self):\n",
    "        print('v =', self.vulnerable, 'pv =', self.percentValue, 'p =', self.penetrate)\n",
    "        \n",
    "        \n",
    "def eee(arr):\n",
    "    for i in range(len(arr)):\n",
    "        arr[i].penetrate = False\n",
    "    return True\n",
    "    \n",
    "arr = []\n",
    "for i in range(5):\n",
    "    tmp = Machine(True, 1, True)\n",
    "    arr.append(tmp)\n",
    "for i in range(5):\n",
    "    arr[i].pr()\n",
    "a = eee(arr)\n",
    "for i in range(5):\n",
    "    arr[i].pr()"
   ]
  },
  {
   "cell_type": "code",
   "execution_count": null,
   "id": "dec533eb",
   "metadata": {},
   "outputs": [],
   "source": []
  }
 ],
 "metadata": {
  "kernelspec": {
   "display_name": "Python 3 (ipykernel)",
   "language": "python",
   "name": "python3"
  },
  "language_info": {
   "codemirror_mode": {
    "name": "ipython",
    "version": 3
   },
   "file_extension": ".py",
   "mimetype": "text/x-python",
   "name": "python",
   "nbconvert_exporter": "python",
   "pygments_lexer": "ipython3",
   "version": "3.8.10"
  }
 },
 "nbformat": 4,
 "nbformat_minor": 5
}
