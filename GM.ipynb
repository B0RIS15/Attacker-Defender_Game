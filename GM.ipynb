{
 "cells": [
  {
   "cell_type": "code",
   "execution_count": 8,
   "metadata": {
    "colab": {
     "base_uri": "https://localhost:8080/",
     "height": 135
    },
    "executionInfo": {
     "elapsed": 440,
     "status": "error",
     "timestamp": 1634741805635,
     "user": {
      "displayName": "B K",
      "photoUrl": "https://lh3.googleusercontent.com/a/default-user=s64",
      "userId": "07688114746748460946"
     },
     "user_tz": -180
    },
    "id": "ud3yWRqxqJUH",
    "outputId": "4580701f-efbc-4165-beb4-c13a734307a0"
   },
   "outputs": [
    {
     "name": "stdout",
     "output_type": "stream",
     "text": [
      "26\n",
      "tmp = 74\n",
      "tmp = 37\n",
      "tmp = 24\n",
      "tmp = 18\n",
      "tmp = 14\n",
      "tmp = 12\n",
      "tmp = 10\n",
      "tmp = 9\n",
      "tmp = 8\n",
      "tmp = 7\n",
      "tmp = 6\n",
      "tmp = 6\n",
      "tmp = 5\n",
      "tmp = 5\n",
      "tmp = 4\n",
      "tmp = 4\n",
      "tmp = 4\n",
      "tmp = 4\n",
      "tmp = 3\n",
      "tmp = 3\n",
      "tmp = 3\n",
      "tmp = 3\n",
      "tmp = 3\n",
      "tmp = 3\n",
      "tmp = 2\n",
      "tmp = 2\n",
      "tmp = 2\n",
      "tmp = 2\n",
      "tmp = 2\n",
      "tmp = 2\n",
      "tmp = 2\n",
      "tmp = 2\n",
      "tmp = 2\n",
      "tmp = 2\n",
      "tmp = 2\n",
      "tmp = 2\n",
      "tmp = 2\n",
      "tmp = 1\n",
      "tmp = 1\n",
      "tmp = 1\n",
      "tmp = 1\n",
      "tmp = 1\n",
      "tmp = 1\n",
      "tmp = 1\n",
      "tmp = 1\n",
      "tmp = 1\n",
      "tmp = 1\n",
      "tmp = 1\n",
      "tmp = 1\n",
      "307\n"
     ]
    }
   ],
   "source": [
    "import random\n",
    "\n",
    "count = 0\n",
    "a = random.randint(1, 80)\n",
    "print(a)\n",
    "for i in range(1, 50):\n",
    "    tmp = (100 - a)//i\n",
    "    print('tmp =', tmp)\n",
    "    count += tmp\n",
    "print(count)"
   ]
  },
  {
   "cell_type": "code",
   "execution_count": 2,
   "metadata": {
    "colab": {
     "base_uri": "https://localhost:8080/"
    },
    "executionInfo": {
     "elapsed": 378,
     "status": "ok",
     "timestamp": 1634742015711,
     "user": {
      "displayName": "B K",
      "photoUrl": "https://lh3.googleusercontent.com/a/default-user=s64",
      "userId": "07688114746748460946"
     },
     "user_tz": -180
    },
    "id": "tw0wyDGI98Fu",
    "outputId": "3dc66023-8a44-4d42-ed0d-00c77412e29e"
   },
   "outputs": [
    {
     "ename": "NameError",
     "evalue": "name 'Counter' is not defined",
     "output_type": "error",
     "traceback": [
      "\u001b[0;31m---------------------------------------------------------------------------\u001b[0m",
      "\u001b[0;31mNameError\u001b[0m                                 Traceback (most recent call last)",
      "\u001b[0;32m/tmp/ipykernel_13434/177432544.py\u001b[0m in \u001b[0;36m<module>\u001b[0;34m\u001b[0m\n\u001b[0;32m----> 1\u001b[0;31m \u001b[0mprint\u001b[0m\u001b[0;34m(\u001b[0m\u001b[0mCounter\u001b[0m\u001b[0;34m(\u001b[0m\u001b[0mrandom\u001b[0m\u001b[0;34m.\u001b[0m\u001b[0mchoices\u001b[0m\u001b[0;34m(\u001b[0m\u001b[0;34m[\u001b[0m\u001b[0;34m'vulnerable'\u001b[0m\u001b[0;34m,\u001b[0m\u001b[0;34m'unbreakable'\u001b[0m\u001b[0;34m]\u001b[0m\u001b[0;34m,\u001b[0m \u001b[0mweights\u001b[0m\u001b[0;34m=\u001b[0m\u001b[0;34m[\u001b[0m\u001b[0;36m1\u001b[0m\u001b[0;34m,\u001b[0m\u001b[0;36m6\u001b[0m\u001b[0;34m]\u001b[0m\u001b[0;34m)\u001b[0m\u001b[0;34m[\u001b[0m\u001b[0;36m0\u001b[0m\u001b[0;34m]\u001b[0m\u001b[0;32mfor\u001b[0m \u001b[0mi\u001b[0m \u001b[0;32min\u001b[0m \u001b[0mrange\u001b[0m\u001b[0;34m(\u001b[0m\u001b[0;36m10000\u001b[0m\u001b[0;34m)\u001b[0m\u001b[0;34m)\u001b[0m\u001b[0;34m)\u001b[0m\u001b[0;34m\u001b[0m\u001b[0;34m\u001b[0m\u001b[0m\n\u001b[0m",
      "\u001b[0;31mNameError\u001b[0m: name 'Counter' is not defined"
     ]
    }
   ],
   "source": [
    "print(Counter(random.choices(['vulnerable','unbreakable'], weights=[1,6])[0]for i in range(10000)))"
   ]
  },
  {
   "cell_type": "code",
   "execution_count": null,
   "metadata": {},
   "outputs": [],
   "source": []
  }
 ],
 "metadata": {
  "colab": {
   "authorship_tag": "ABX9TyM+fvmID18vi1To7nSqFlGe",
   "name": "GM.ipynb",
   "provenance": []
  },
  "kernelspec": {
   "display_name": "Python 3 (ipykernel)",
   "language": "python",
   "name": "python3"
  },
  "language_info": {
   "codemirror_mode": {
    "name": "ipython",
    "version": 3
   },
   "file_extension": ".py",
   "mimetype": "text/x-python",
   "name": "python",
   "nbconvert_exporter": "python",
   "pygments_lexer": "ipython3",
   "version": "3.8.10"
  }
 },
 "nbformat": 4,
 "nbformat_minor": 1
}
