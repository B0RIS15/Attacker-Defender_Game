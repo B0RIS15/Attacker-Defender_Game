{
 "cells": [
  {
   "cell_type": "code",
   "execution_count": 1,
   "metadata": {
    "colab": {
     "base_uri": "https://localhost:8080/",
     "height": 135
    },
    "executionInfo": {
     "elapsed": 440,
     "status": "error",
     "timestamp": 1634741805635,
     "user": {
      "displayName": "B K",
      "photoUrl": "https://lh3.googleusercontent.com/a/default-user=s64",
      "userId": "07688114746748460946"
     },
     "user_tz": -180
    },
    "id": "ud3yWRqxqJUH",
    "outputId": "4580701f-efbc-4165-beb4-c13a734307a0"
   },
   "outputs": [
    {
     "name": "stdout",
     "output_type": "stream",
     "text": [
      "делай давай\n"
     ]
    }
   ],
   "source": [
    "import random\n",
    "from tqdm.notebook import tqdm\n",
    "\n",
    "\n",
    "class Machine:\n",
    "    \n",
    "    def __init__(self, vulnerable, percentValue, penetrate, protectionLevel):\n",
    "        self.vulnerable = vulnerable\n",
    "        self.percentValue = percentValue\n",
    "        self.penetrate = penetrate\n",
    "        self.protectionLevel = protectionLevel\n",
    "        \n",
    "    def changeVulnerable(self, vulnerable):\n",
    "        self.vulnerable = vulnerable\n",
    "    \n",
    "    def changeCost(self, percentValue):\n",
    "        self.percentValue = percentValue\n",
    "        \n",
    "    def changePenetrate(self, penetrate):\n",
    "        self.penetrate = penetrate\n",
    "        \n",
    "    def pr(self):\n",
    "        print(self.vulnerable, self.percentValue, self.penetrate)\n",
    "\n",
    "    \n",
    "def GetMachineValues():\n",
    "    machineValues = random.randint(4, 15)\n",
    "    return machineValues\n",
    "\n",
    "def GetVulnerableMachineValues(machineValues):\n",
    "    vulnerableMachineValues = random.randint(1, machineValues)\n",
    "    return vulnerableMachineValues\n",
    "\n",
    "def GetImportantMachineValues(machineValues):\n",
    "    importantMachineValues = random.randint(1, machineValues)\n",
    "    return importantMachineValues\n",
    "\n",
    "def GetPercentValue():\n",
    "    percentValue = random.randint(30, 60) / 100\n",
    "    return percentValue \n",
    "\n",
    "def GetMachineArray(machineValues, vulnerableMachineValues, importantMachineValues):\n",
    "    machineArray = []\n",
    "    percentValue = GetPercentValue()\n",
    "    reversePercent = ((100 - percentValue) / (machineValues - 1)) / 100\n",
    "    reversePercent = (\"%.2f\" % reversePercent)\n",
    "    for i in range(machineValues):\n",
    "        if i == (importantMachineValues - 1):\n",
    "            tmp = Machine(False, percentValue, False, 0)\n",
    "        else:\n",
    "            tmp = Machine(False, reversePercent, False, 0)\n",
    "        machineArray.append(tmp)\n",
    "    for i in range(0, vulnerableMachineValues):\n",
    "        j = random.randint(0, machineValues - 1)\n",
    "        machineArray[j].changeVulnerable(True)\n",
    "    return machineArray\n",
    "\n",
    "def CostFunction(s, a, Ei):\n",
    "    try:\n",
    "        return -(s * Ei * Ei)/(a * Ei - 1)\n",
    "    except ZeroDivisionError:\n",
    "        return 0.00000001\n",
    "\n",
    "def UtilityDefender(s, a, Ei, machineValues, machineArray):\n",
    "    tmp = 0\n",
    "    percent = machineValues / 100\n",
    "    l = 0\n",
    "    for i in range(len(machineArray)):\n",
    "        if machineArray[i].penetrate == True:\n",
    "            l += percent\n",
    "    for i in range(machineValues):\n",
    "        tmp += CostFunction(s, a, Ei)\n",
    "    return - l - tmp\n",
    "\n",
    "def UtilityAttacker(machineValues, machineArray):\n",
    "    percent = machineValues / 100\n",
    "    l = 0\n",
    "    for i in range(len(machineArray)):\n",
    "        if machineArray[i].penetrate == True:\n",
    "            l += percent\n",
    "    return l\n",
    "    \n",
    "def AttackerStrategyProportional(machineArray):\n",
    "    attackerProportionalEffort = []\n",
    "    for i in range(len(machineArray)):\n",
    "        tmp = machineArray[i].percentValue\n",
    "        attackerProportionalEffort.append(tmp)\n",
    "    return attackerProportionalEffort\n",
    "        \n",
    "def AttackerStrategyHigh():\n",
    "    attackerHighEffort = 1\n",
    "    return attackerHighEffort\n",
    "        \n",
    "def DefenderStrategyNothing():\n",
    "    return None\n",
    "\n",
    "def DefenderStrategyProportional(machineArray, Ei, s, a):\n",
    "    defenderProportionalEffort = []\n",
    "    for i in range(len(machineArray)):\n",
    "        tmp = float(machineArray[i].percentValue) * Ei\n",
    "        if CostFunction(s, a, tmp) > 0:\n",
    "            defenderProportionalEffort.append()\n",
    "        defenderProportionalEffort.append(tmp)\n",
    "    return defenderProportionalEffort\n",
    "    \n",
    "def DefenderStrategyHigh(s, a, Ei):\n",
    "    if CostFunction(s, a, Ei) > 0:\n",
    "        return machineArray[i].percentValue\n",
    "    else:\n",
    "        return Ei\n",
    "\n",
    "def CheckCost(s, a, Ei, machineArray):\n",
    "    for i in range(len(machineArray)):\n",
    "        if CostFunction(s, a, Ei) > 0 and CostFunction(s, a, float(machineArray[i].percentValue)) > 0:\n",
    "            return False\n",
    "        elif CostFunction(s, a, Ei) > 0 and CostFunction(s, a, float(machineArray[i].percentValue)) < 0:\n",
    "            return 0\n",
    "        elif CostFunction(s, a, Ei) < 0 and CostFunction(s, a, float(machineArray[i].percentValue)) < 0:\n",
    "            return True\n",
    "    \n"
   ]
  },
  {
   "cell_type": "code",
   "execution_count": 3,
   "metadata": {},
   "outputs": [
    {
     "name": "stdout",
     "output_type": "stream",
     "text": [
      "0.56\n"
     ]
    }
   ],
   "source": [
    "import random\n",
    "\n",
    "percentValue = random.randint(30, 60) / 100\n",
    "print(percentValue)"
   ]
  },
  {
   "cell_type": "code",
   "execution_count": null,
   "metadata": {},
   "outputs": [],
   "source": []
  }
 ],
 "metadata": {
  "colab": {
   "authorship_tag": "ABX9TyM+fvmID18vi1To7nSqFlGe",
   "name": "GM.ipynb",
   "provenance": []
  },
  "kernelspec": {
   "display_name": "Python 3 (ipykernel)",
   "language": "python",
   "name": "python3"
  },
  "language_info": {
   "codemirror_mode": {
    "name": "ipython",
    "version": 3
   },
   "file_extension": ".py",
   "mimetype": "text/x-python",
   "name": "python",
   "nbconvert_exporter": "python",
   "pygments_lexer": "ipython3",
   "version": "3.8.10"
  }
 },
 "nbformat": 4,
 "nbformat_minor": 1
}
