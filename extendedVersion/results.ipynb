{
 "cells": [
  {
   "cell_type": "code",
   "execution_count": 8,
   "id": "e3227c06",
   "metadata": {},
   "outputs": [
    {
     "data": {
      "image/png": "[encoded data removed]",
      "text/plain": [
       "<Figure size 720x720 with 1 Axes>"
      ]
     },
     "metadata": {},
     "output_type": "display_data"
    }
   ],
   "source": [
    "import matplotlib.pyplot as plt\n",
    "\n",
    "def CheckStrategyDefender(b):\n",
    "    NumberStrategy = {\n",
    "        '1':'Nothing',\n",
    "        '2':'High',\n",
    "        '3':'High',\n",
    "        '4':'High',\n",
    "        '5':'High',\n",
    "        '6':'High',\n",
    "        '7':'High',\n",
    "        '8':'High',\n",
    "        '9':'High',\n",
    "        '10':'High',\n",
    "        '11':'Proportional',\n",
    "        '12':'Proportional',\n",
    "        '13':'Proportional',\n",
    "        '14':'Proportional',\n",
    "        '15':'Proportional',\n",
    "        '16':'Proportional',\n",
    "        '17':'Proportional',\n",
    "        '18':'Proportional',\n",
    "        '19':'Proportional'\n",
    "    }\n",
    "    return NumberStrategy[b]\n",
    "\n",
    "\n",
    "c = [[0, 0, 0, 0, 0, 0, 0, 0, 0, 0],\n",
    "     [0, 0, 0, 0, 0, 0, 0, 0, 0, 0],\n",
    "     [0, 0, 0, 0, 0, 0, 0, 0, 0, 0],\n",
    "     [0, 0, 0, 0, 0, 0, 0, 0, 0, 0],\n",
    "     [0, 0, 0, 0, 0, 0, 0, 0, 0, 0],\n",
    "     [0, 0, 0, 0, 0, 0, 0, 0, 0, 0],\n",
    "     [0, 0, 0, 0, 0, 0, 0, 0, 0, 0],\n",
    "     [0, 0, 0, 0, 0, 0, 0, 0, 0, 0],\n",
    "     [0, 0, 0, 0, 0, 0, 0, 0, 0, 0]]\n",
    "\n",
    "\n",
    "x = [1, 2, 3, 4, 5, 6, 7, 8, 9, 10, 11]\n",
    "y = [0.1, 0.2, 0.3, 0.4, 0.5, 0.6, 0.7, 0.8, 0.9, 1]\n",
    "\n",
    "arrayEqlibrium = [19, 1, 1, 1, 1, 19, 19, 1, 1, 19, 19, 6, 1, 19, 1, 19, 19, 1, 19, 1, 1, 1, 1, 19, 19, 1, 19, 19, 19, 19, 11, 1, 1, 1, 19, 1, 19, 19, 1, 2, 11, 1, 5, 19, 19, 19, 19, 1, 19, 2, 11, 1, 5, 1, 1, 1, 19, 1, 1, 1, 11, 6, 1, 4, 1, 1, 1, 1, 3, 1, 11, 6, 5, 1, 1, 1, 1, 1, 3, 2, 1, 6, 1, 4, 3, 1, 3, 3, 1, 1]\n",
    "\n",
    "i = 0\n",
    "for s in range(0, 9, 1):\n",
    "    for a in range(0, 10, 1):\n",
    "        if arrayEqlibrium[i] != None:\n",
    "            if CheckStrategyDefender(str(arrayEqlibrium[i])) == 'Nothing':\n",
    "                c[s][a] = 5\n",
    "            if CheckStrategyDefender(str(arrayEqlibrium[i])) == 'Proportional':\n",
    "                c[s][a] = 15\n",
    "            if CheckStrategyDefender(str(arrayEqlibrium[i])) == 'High':\n",
    "                c[s][a] = 10  \n",
    "        i += 1\n",
    "                \n",
    "\n",
    "fig, ax = plt.subplots()\n",
    "\n",
    "ax.pcolormesh(x, y, c)\n",
    "\n",
    "fig.set_figwidth(10)    #  ширина и\n",
    "fig.set_figheight(10)    #  высота \"Figure\"\n",
    "fig.set_facecolor('floralwhite')\n",
    "ax.set_facecolor('seashell')\n",
    "\n",
    "plt.show()"
   ]
  },
  {
   "cell_type": "code",
   "execution_count": 5,
   "id": "cdcdc684",
   "metadata": {},
   "outputs": [
    {
     "name": "stdout",
     "output_type": "stream",
     "text": [
      "-7\n",
      "-11\n"
     ]
    }
   ],
   "source": [
    "a = -3\n",
    "a += -4\n",
    "b = 4\n",
    "print(a)\n",
    "print( -b + a)"
   ]
  },
  {
   "cell_type": "code",
   "execution_count": null,
   "id": "4a532f50",
   "metadata": {},
   "outputs": [],
   "source": []
  }
 ],
 "metadata": {
  "kernelspec": {
   "display_name": "Python 3 (ipykernel)",
   "language": "python",
   "name": "python3"
  },
  "language_info": {
   "codemirror_mode": {
    "name": "ipython",
    "version": 3
   },
   "file_extension": ".py",
   "mimetype": "text/x-python",
   "name": "python",
   "nbconvert_exporter": "python",
   "pygments_lexer": "ipython3",
   "version": "3.8.10"
  }
 },
 "nbformat": 4,
 "nbformat_minor": 5
}
