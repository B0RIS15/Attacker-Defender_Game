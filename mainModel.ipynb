{
 "cells": [
  {
   "cell_type": "code",
   "execution_count": 9,
   "id": "b266798f",
   "metadata": {
    "scrolled": true
   },
   "outputs": [
    {
     "data": {
      "application/vnd.jupyter.widget-view+json": {
       "model_id": "596290c2d1c94dae8a0dac928796cff7",
       "version_major": 2,
       "version_minor": 0
      },
      "text/plain": [
       "  0%|          | 0/50000 [00:00<?, ?it/s]"
      ]
     },
     "metadata": {},
     "output_type": "display_data"
    },
    {
     "name": "stdout",
     "output_type": "stream",
     "text": [
      "for s = 0.1 a = 1 sA =  1 sd = 1 Ei = 0.1\n",
      "Utility A = 68211.03000000307 utility D = -68155.47444443716\n"
     ]
    },
    {
     "data": {
      "application/vnd.jupyter.widget-view+json": {
       "model_id": "d5dbe3708f914131aa4bc5ed549ccbf8",
       "version_major": 2,
       "version_minor": 0
      },
      "text/plain": [
       "  0%|          | 0/50000 [00:00<?, ?it/s]"
      ]
     },
     "metadata": {},
     "output_type": "display_data"
    },
    {
     "name": "stdout",
     "output_type": "stream",
     "text": [
      "for s = 0.1 a = 1 sA =  1 sd = 1 Ei = 0.2\n",
      "Utility A = 68044.3800000018 utility D = -67794.6599999985\n"
     ]
    },
    {
     "data": {
      "application/vnd.jupyter.widget-view+json": {
       "model_id": "6a76449850be48eb89b471ddfac8ca82",
       "version_major": 2,
       "version_minor": 0
      },
      "text/plain": [
       "  0%|          | 0/50000 [00:00<?, ?it/s]"
      ]
     },
     "metadata": {},
     "output_type": "display_data"
    },
    {
     "name": "stdout",
     "output_type": "stream",
     "text": [
      "for s = 0.1 a = 1 sA =  1 sd = 1 Ei = 0.3\n",
      "Utility A = 67103.97000000291 utility D = -66462.81000000161\n"
     ]
    },
    {
     "data": {
      "application/vnd.jupyter.widget-view+json": {
       "model_id": "e13fcb4b2ddf4972a5b7402707c338df",
       "version_major": 2,
       "version_minor": 0
      },
      "text/plain": [
       "  0%|          | 0/50000 [00:00<?, ?it/s]"
      ]
     },
     "metadata": {},
     "output_type": "display_data"
    },
    {
     "name": "stdout",
     "output_type": "stream",
     "text": [
      "for s = 0.1 a = 1 sA =  1 sd = 1 Ei = 0.4\n",
      "Utility A = 66713.01000000302 utility D = -65385.3566666708\n"
     ]
    },
    {
     "data": {
      "application/vnd.jupyter.widget-view+json": {
       "model_id": "3dcae74f8b244c3b94f9f23ff875e8cc",
       "version_major": 2,
       "version_minor": 0
      },
      "text/plain": [
       "  0%|          | 0/50000 [00:00<?, ?it/s]"
      ]
     },
     "metadata": {},
     "output_type": "display_data"
    },
    {
     "name": "stdout",
     "output_type": "stream",
     "text": [
      "for s = 0.1 a = 1 sA =  1 sd = 1 Ei = 0.5\n",
      "Utility A = 66204.41000000268 utility D = -63722.259999996924\n"
     ]
    },
    {
     "data": {
      "application/vnd.jupyter.widget-view+json": {
       "model_id": "e1fb699024494592877b707506c70100",
       "version_major": 2,
       "version_minor": 0
      },
      "text/plain": [
       "  0%|          | 0/50000 [00:00<?, ?it/s]"
      ]
     },
     "metadata": {},
     "output_type": "display_data"
    },
    {
     "name": "stdout",
     "output_type": "stream",
     "text": [
      "for s = 0.1 a = 1 sA =  1 sd = 1 Ei = 0.6\n",
      "Utility A = 66080.69000000201 utility D = -61619.21000000024\n"
     ]
    },
    {
     "data": {
      "application/vnd.jupyter.widget-view+json": {
       "model_id": "fa0a107f0c9045bba57df81e00d8825b",
       "version_major": 2,
       "version_minor": 0
      },
      "text/plain": [
       "  0%|          | 0/50000 [00:00<?, ?it/s]"
      ]
     },
     "metadata": {},
     "output_type": "display_data"
    },
    {
     "name": "stdout",
     "output_type": "stream",
     "text": [
      "for s = 0.1 a = 1 sA =  1 sd = 1 Ei = 0.7\n",
      "Utility A = 65234.28000000235 utility D = -57153.19999999835\n"
     ]
    },
    {
     "data": {
      "application/vnd.jupyter.widget-view+json": {
       "model_id": "c20d795a79bd4d54af576f0118bfcdea",
       "version_major": 2,
       "version_minor": 0
      },
      "text/plain": [
       "  0%|          | 0/50000 [00:00<?, ?it/s]"
      ]
     },
     "metadata": {},
     "output_type": "display_data"
    },
    {
     "name": "stdout",
     "output_type": "stream",
     "text": [
      "for s = 0.1 a = 1 sA =  1 sd = 1 Ei = 0.8\n",
      "Utility A = 65443.130000002544 utility D = -49616.57000000213\n"
     ]
    },
    {
     "data": {
      "application/vnd.jupyter.widget-view+json": {
       "model_id": "b13303f0680c408c9cab7f6eaf4923be",
       "version_major": 2,
       "version_minor": 0
      },
      "text/plain": [
       "  0%|          | 0/50000 [00:00<?, ?it/s]"
      ]
     },
     "metadata": {},
     "output_type": "display_data"
    },
    {
     "name": "stdout",
     "output_type": "stream",
     "text": [
      "for s = 0.1 a = 1 sA =  1 sd = 1 Ei = 0.9\n",
      "Utility A = 64509.52000000258 utility D = -24447.730000001524\n"
     ]
    },
    {
     "data": {
      "application/vnd.jupyter.widget-view+json": {
       "model_id": "ea51011b20f345728805257b2123dddf",
       "version_major": 2,
       "version_minor": 0
      },
      "text/plain": [
       "  0%|          | 0/50000 [00:00<?, ?it/s]"
      ]
     },
     "metadata": {},
     "output_type": "display_data"
    },
    {
     "name": "stdout",
     "output_type": "stream",
     "text": [
      "for s = 0.1 a = 1 sA =  1 sd = 2 Ei = 0.1\n",
      "Utility A = 68419.3400000028 utility D = -68404.9702955568\n"
     ]
    },
    {
     "data": {
      "application/vnd.jupyter.widget-view+json": {
       "model_id": "55df1ef772da46738e83fa0f1c6314ed",
       "version_major": 2,
       "version_minor": 0
      },
      "text/plain": [
       "  0%|          | 0/50000 [00:00<?, ?it/s]"
      ]
     },
     "metadata": {},
     "output_type": "display_data"
    },
    {
     "name": "stdout",
     "output_type": "stream",
     "text": [
      "for s = 0.1 a = 1 sA =  1 sd = 2 Ei = 0.2\n",
      "Utility A = 68426.06000000275 utility D = -68365.77915915403\n"
     ]
    },
    {
     "data": {
      "application/vnd.jupyter.widget-view+json": {
       "model_id": "4529b3bce742434db529a1ba61220f83",
       "version_major": 2,
       "version_minor": 0
      },
      "text/plain": [
       "  0%|          | 0/50000 [00:00<?, ?it/s]"
      ]
     },
     "metadata": {},
     "output_type": "display_data"
    },
    {
     "name": "stdout",
     "output_type": "stream",
     "text": [
      "for s = 0.1 a = 1 sA =  1 sd = 2 Ei = 0.3\n",
      "Utility A = 67917.57000000209 utility D = -67775.38031813667\n"
     ]
    },
    {
     "data": {
      "application/vnd.jupyter.widget-view+json": {
       "model_id": "e03e190fe17c4186ba3a2b5013e15cea",
       "version_major": 2,
       "version_minor": 0
      },
      "text/plain": [
       "  0%|          | 0/50000 [00:00<?, ?it/s]"
      ]
     },
     "metadata": {},
     "output_type": "display_data"
    },
    {
     "ename": "KeyboardInterrupt",
     "evalue": "",
     "output_type": "error",
     "traceback": [
      "\u001b[0;31m---------------------------------------------------------------------------\u001b[0m",
      "\u001b[0;31mKeyboardInterrupt\u001b[0m                         Traceback (most recent call last)",
      "\u001b[0;32m/tmp/ipykernel_12048/734260367.py\u001b[0m in \u001b[0;36m<module>\u001b[0;34m\u001b[0m\n\u001b[1;32m    376\u001b[0m                         \u001b[0mutilityAttacker\u001b[0m \u001b[0;34m=\u001b[0m \u001b[0;36m0\u001b[0m\u001b[0;34m\u001b[0m\u001b[0;34m\u001b[0m\u001b[0m\n\u001b[1;32m    377\u001b[0m                         \u001b[0;32mfor\u001b[0m \u001b[0mj\u001b[0m \u001b[0;32min\u001b[0m \u001b[0mtqdm\u001b[0m\u001b[0;34m(\u001b[0m\u001b[0mrange\u001b[0m\u001b[0;34m(\u001b[0m\u001b[0;36m50000\u001b[0m\u001b[0;34m)\u001b[0m\u001b[0;34m)\u001b[0m\u001b[0;34m:\u001b[0m\u001b[0;34m\u001b[0m\u001b[0;34m\u001b[0m\u001b[0m\n\u001b[0;32m--> 378\u001b[0;31m                             \u001b[0mmachineValues\u001b[0m \u001b[0;34m=\u001b[0m \u001b[0mGetMachineValues\u001b[0m\u001b[0;34m(\u001b[0m\u001b[0;34m)\u001b[0m\u001b[0;34m\u001b[0m\u001b[0;34m\u001b[0m\u001b[0m\n\u001b[0m\u001b[1;32m    379\u001b[0m                             \u001b[0mvulnerableMachineValues\u001b[0m \u001b[0;34m=\u001b[0m \u001b[0mGetVulnerableMachineValues\u001b[0m\u001b[0;34m(\u001b[0m\u001b[0mmachineValues\u001b[0m\u001b[0;34m)\u001b[0m\u001b[0;34m\u001b[0m\u001b[0;34m\u001b[0m\u001b[0m\n\u001b[1;32m    380\u001b[0m                             \u001b[0mimportantMachineValues\u001b[0m \u001b[0;34m=\u001b[0m \u001b[0mGetImportantMachineValues\u001b[0m\u001b[0;34m(\u001b[0m\u001b[0mmachineValues\u001b[0m\u001b[0;34m)\u001b[0m\u001b[0;34m\u001b[0m\u001b[0;34m\u001b[0m\u001b[0m\n",
      "\u001b[0;32m/tmp/ipykernel_12048/734260367.py\u001b[0m in \u001b[0;36mGetMachineValues\u001b[0;34m()\u001b[0m\n\u001b[1;32m     45\u001b[0m \u001b[0;31m#получаем кол-во машин\u001b[0m\u001b[0;34m\u001b[0m\u001b[0;34m\u001b[0m\u001b[0;34m\u001b[0m\u001b[0m\n\u001b[1;32m     46\u001b[0m \u001b[0;32mdef\u001b[0m \u001b[0mGetMachineValues\u001b[0m\u001b[0;34m(\u001b[0m\u001b[0;34m)\u001b[0m\u001b[0;34m:\u001b[0m\u001b[0;34m\u001b[0m\u001b[0;34m\u001b[0m\u001b[0m\n\u001b[0;32m---> 47\u001b[0;31m     \u001b[0mmachineValues\u001b[0m \u001b[0;34m=\u001b[0m \u001b[0mrandom\u001b[0m\u001b[0;34m.\u001b[0m\u001b[0mrandint\u001b[0m\u001b[0;34m(\u001b[0m\u001b[0;36m4\u001b[0m\u001b[0;34m,\u001b[0m \u001b[0;36m30\u001b[0m\u001b[0;34m)\u001b[0m\u001b[0;34m\u001b[0m\u001b[0;34m\u001b[0m\u001b[0m\n\u001b[0m\u001b[1;32m     48\u001b[0m     \u001b[0;32mreturn\u001b[0m \u001b[0mmachineValues\u001b[0m\u001b[0;34m\u001b[0m\u001b[0;34m\u001b[0m\u001b[0m\n\u001b[1;32m     49\u001b[0m \u001b[0;31m#получаем кол-во уязвимых машин\u001b[0m\u001b[0;34m\u001b[0m\u001b[0;34m\u001b[0m\u001b[0;34m\u001b[0m\u001b[0m\n",
      "\u001b[0;32m/usr/lib/python3.8/random.py\u001b[0m in \u001b[0;36mrandint\u001b[0;34m(self, a, b)\u001b[0m\n\u001b[1;32m    246\u001b[0m         \"\"\"\n\u001b[1;32m    247\u001b[0m \u001b[0;34m\u001b[0m\u001b[0m\n\u001b[0;32m--> 248\u001b[0;31m         \u001b[0;32mreturn\u001b[0m \u001b[0mself\u001b[0m\u001b[0;34m.\u001b[0m\u001b[0mrandrange\u001b[0m\u001b[0;34m(\u001b[0m\u001b[0ma\u001b[0m\u001b[0;34m,\u001b[0m \u001b[0mb\u001b[0m\u001b[0;34m+\u001b[0m\u001b[0;36m1\u001b[0m\u001b[0;34m)\u001b[0m\u001b[0;34m\u001b[0m\u001b[0;34m\u001b[0m\u001b[0m\n\u001b[0m\u001b[1;32m    249\u001b[0m \u001b[0;34m\u001b[0m\u001b[0m\n\u001b[1;32m    250\u001b[0m     \u001b[0;32mdef\u001b[0m \u001b[0m_randbelow_with_getrandbits\u001b[0m\u001b[0;34m(\u001b[0m\u001b[0mself\u001b[0m\u001b[0;34m,\u001b[0m \u001b[0mn\u001b[0m\u001b[0;34m)\u001b[0m\u001b[0;34m:\u001b[0m\u001b[0;34m\u001b[0m\u001b[0;34m\u001b[0m\u001b[0m\n",
      "\u001b[0;32m/usr/lib/python3.8/random.py\u001b[0m in \u001b[0;36mrandrange\u001b[0;34m(self, start, stop, step, _int)\u001b[0m\n\u001b[1;32m    222\u001b[0m         \u001b[0mwidth\u001b[0m \u001b[0;34m=\u001b[0m \u001b[0mistop\u001b[0m \u001b[0;34m-\u001b[0m \u001b[0mistart\u001b[0m\u001b[0;34m\u001b[0m\u001b[0;34m\u001b[0m\u001b[0m\n\u001b[1;32m    223\u001b[0m         \u001b[0;32mif\u001b[0m \u001b[0mstep\u001b[0m \u001b[0;34m==\u001b[0m \u001b[0;36m1\u001b[0m \u001b[0;32mand\u001b[0m \u001b[0mwidth\u001b[0m \u001b[0;34m>\u001b[0m \u001b[0;36m0\u001b[0m\u001b[0;34m:\u001b[0m\u001b[0;34m\u001b[0m\u001b[0;34m\u001b[0m\u001b[0m\n\u001b[0;32m--> 224\u001b[0;31m             \u001b[0;32mreturn\u001b[0m \u001b[0mistart\u001b[0m \u001b[0;34m+\u001b[0m \u001b[0mself\u001b[0m\u001b[0;34m.\u001b[0m\u001b[0m_randbelow\u001b[0m\u001b[0;34m(\u001b[0m\u001b[0mwidth\u001b[0m\u001b[0;34m)\u001b[0m\u001b[0;34m\u001b[0m\u001b[0;34m\u001b[0m\u001b[0m\n\u001b[0m\u001b[1;32m    225\u001b[0m         \u001b[0;32mif\u001b[0m \u001b[0mstep\u001b[0m \u001b[0;34m==\u001b[0m \u001b[0;36m1\u001b[0m\u001b[0;34m:\u001b[0m\u001b[0;34m\u001b[0m\u001b[0;34m\u001b[0m\u001b[0m\n\u001b[1;32m    226\u001b[0m             \u001b[0;32mraise\u001b[0m \u001b[0mValueError\u001b[0m\u001b[0;34m(\u001b[0m\u001b[0;34m\"empty range for randrange() (%d, %d, %d)\"\u001b[0m \u001b[0;34m%\u001b[0m \u001b[0;34m(\u001b[0m\u001b[0mistart\u001b[0m\u001b[0;34m,\u001b[0m \u001b[0mistop\u001b[0m\u001b[0;34m,\u001b[0m \u001b[0mwidth\u001b[0m\u001b[0;34m)\u001b[0m\u001b[0;34m)\u001b[0m\u001b[0;34m\u001b[0m\u001b[0;34m\u001b[0m\u001b[0m\n",
      "\u001b[0;32m/usr/lib/python3.8/random.py\u001b[0m in \u001b[0;36m_randbelow_with_getrandbits\u001b[0;34m(self, n)\u001b[0m\n\u001b[1;32m    253\u001b[0m         \u001b[0mgetrandbits\u001b[0m \u001b[0;34m=\u001b[0m \u001b[0mself\u001b[0m\u001b[0;34m.\u001b[0m\u001b[0mgetrandbits\u001b[0m\u001b[0;34m\u001b[0m\u001b[0;34m\u001b[0m\u001b[0m\n\u001b[1;32m    254\u001b[0m         \u001b[0mk\u001b[0m \u001b[0;34m=\u001b[0m \u001b[0mn\u001b[0m\u001b[0;34m.\u001b[0m\u001b[0mbit_length\u001b[0m\u001b[0;34m(\u001b[0m\u001b[0;34m)\u001b[0m  \u001b[0;31m# don't use (n-1) here because n can be 1\u001b[0m\u001b[0;34m\u001b[0m\u001b[0;34m\u001b[0m\u001b[0m\n\u001b[0;32m--> 255\u001b[0;31m         \u001b[0mr\u001b[0m \u001b[0;34m=\u001b[0m \u001b[0mgetrandbits\u001b[0m\u001b[0;34m(\u001b[0m\u001b[0mk\u001b[0m\u001b[0;34m)\u001b[0m          \u001b[0;31m# 0 <= r < 2**k\u001b[0m\u001b[0;34m\u001b[0m\u001b[0;34m\u001b[0m\u001b[0m\n\u001b[0m\u001b[1;32m    256\u001b[0m         \u001b[0;32mwhile\u001b[0m \u001b[0mr\u001b[0m \u001b[0;34m>=\u001b[0m \u001b[0mn\u001b[0m\u001b[0;34m:\u001b[0m\u001b[0;34m\u001b[0m\u001b[0;34m\u001b[0m\u001b[0m\n\u001b[1;32m    257\u001b[0m             \u001b[0mr\u001b[0m \u001b[0;34m=\u001b[0m \u001b[0mgetrandbits\u001b[0m\u001b[0;34m(\u001b[0m\u001b[0mk\u001b[0m\u001b[0;34m)\u001b[0m\u001b[0;34m\u001b[0m\u001b[0;34m\u001b[0m\u001b[0m\n",
      "\u001b[0;31mKeyboardInterrupt\u001b[0m: "
     ]
    }
   ],
   "source": [
    "import math\n",
    "import numpy as np\n",
    "import random\n",
    "from tqdm.notebook import tqdm\n",
    "import nashpy as nash\n",
    "import matplotlib.pyplot as plt\n",
    "import json\n",
    "\n",
    "\n",
    "class Machine:\n",
    "    \n",
    "    def __init__(self, vulnerable, percentValue, penetrate, protectionLevel, possibilityProtection):\n",
    "        #Уязвима или нет - bool\n",
    "        self.vulnerable = vulnerable\n",
    "        #Значение в сети - %\n",
    "        self.percentValue = percentValue\n",
    "        #Взломана или нет -bool\n",
    "        self.penetrate = penetrate\n",
    "        #Защита - E' * percentValue\n",
    "        self.protectionLevel = protectionLevel\n",
    "        #Возможно ли ее защитить - bool\n",
    "        self.possibilityProtection = possibilityProtection\n",
    "        \n",
    "    def changeVulnerable(self, vulnerable):\n",
    "        self.vulnerable = vulnerable\n",
    "    \n",
    "    def changeCost(self, percentValue):\n",
    "        self.percentValue = float(percentValue)\n",
    "        \n",
    "    def changePenetrate(self, penetrate):\n",
    "        self.penetrate = penetrate\n",
    "    \n",
    "    def changeProtectionLevel(self, protectionLevel):\n",
    "        self.protectionLevel = float(protectionLevel)\n",
    "    \n",
    "    def changePossibilityProtection(self, possibilityProtection):\n",
    "        self.possibilityProtection = possibilityProtection\n",
    "        \n",
    "    def pr(self):\n",
    "        print(self.vulnerable, self.percentValue, self.penetrate)\n",
    "\n",
    "        \n",
    "def printAllvalues(machineValues, vulnerableMachineValues, importantMachineValues):\n",
    "    print('machine values = ', machineValues, 'vulnerable machine values = ', vulnerableMachineValues, 'important machine values =', importantMachineValues)\n",
    "#получаем кол-во машин\n",
    "def GetMachineValues():\n",
    "    machineValues = random.randint(4, 30)\n",
    "    return machineValues\n",
    "#получаем кол-во уязвимых машин \n",
    "def GetVulnerableMachineValues(machineValues):\n",
    "    vulnerableMachineValues = random.randint(1, machineValues)\n",
    "    return vulnerableMachineValues\n",
    "#получаем номер главной машины\n",
    "def GetImportantMachineValues(machineValues):\n",
    "    importantMachineValues = random.randint(1, machineValues)\n",
    "    return importantMachineValues\n",
    "#получаем процент, который занимает главная машина \n",
    "def GetPercentValue():\n",
    "    percentValue = random.randint(15, 75)\n",
    "    return percentValue\n",
    "\n",
    "def GetMachineArray(machineValues, vulnerableMachineValues, importantMachineValues):\n",
    "    machineArray = []\n",
    "    percentValue = GetPercentValue()\n",
    "    reversePercent = ((100 - percentValue) / (machineValues - 1)) / 100\n",
    "    reversePercent = (\"%.2f\" % reversePercent)\n",
    "    for i in range(machineValues):\n",
    "        if i == (importantMachineValues - 1):\n",
    "            tmp = Machine(False, float(percentValue / 100), False, float(0.0), False)\n",
    "        else:\n",
    "            tmp = Machine(False, float(reversePercent), False, float(0.0), False)\n",
    "        machineArray.append(tmp)\n",
    "    #здесь баг - может 2 и более раз сгенерироваться\n",
    "    #одинаковое число и поэтому кол-во машин будет неточным\n",
    "    for i in range(0, vulnerableMachineValues):\n",
    "        j = random.randint(0, machineValues - 1)\n",
    "        machineArray[j].changeVulnerable(True)\n",
    "    return machineArray\n",
    "#возвращает число уязвимых машин, так как из-за бага\n",
    "#прошлое число уязвимых != новому\n",
    "def GetVulnerableMachine(machineValues, machineArray):\n",
    "    vulnerableMachine = 0\n",
    "    for i in range(machineValues):\n",
    "        if machineArray[i].vulnerable == True:\n",
    "            vulnerableMachine += 1\n",
    "    return vulnerableMachine\n",
    "#это все возможные разрывы функции стоимости на данном промежутке 1-10\n",
    "def CheckCost(a):\n",
    "    BreakFunc = {\n",
    "        '1':'1',\n",
    "        '2':'0.5',\n",
    "        '3':'0.333',\n",
    "        '4':'0.25',\n",
    "        '5':'0.2',\n",
    "        '6':'0.166',\n",
    "        '7':'0.142',\n",
    "        '8':'0.125',\n",
    "        '9':'0.111',\n",
    "        '10':'0.1'\n",
    "    }\n",
    "    return BreakFunc[a]\n",
    "\n",
    "def CostFunction(s, a, Ei):\n",
    "    try:\n",
    "        return -(s * Ei * Ei)/(a * Ei - 1)\n",
    "    except ZeroDivisionError:\n",
    "        return 0\n",
    "    #С условием в распределении уровней защиты в стратегиях - не должно быть деления на 0\n",
    "    \n",
    "def UtilityDefender(s, a, Ei, machineArray):\n",
    "    tmp = 0\n",
    "    percent = len(machineArray) / 100\n",
    "    l = 0\n",
    "    for i in range(len(machineArray)):\n",
    "        if machineArray[i].penetrate == True:\n",
    "            l += percent\n",
    "        if machineArray[i].possibilityProtection == True:\n",
    "            tmp += CostFunction(s, a, machineArray[i].protectionLevel)\n",
    "    return - l - tmp\n",
    "\n",
    "def UtilityAttacker(machineArray):\n",
    "    percent = len(machineArray) / 100\n",
    "    l = 0\n",
    "    for i in range(len(machineArray)):\n",
    "        if machineArray[i].penetrate == True:\n",
    "            l += percent\n",
    "    return l\n",
    "    \n",
    "def AttackerStrategyProportional(machineArray):\n",
    "    attackerProportionalEffort = []\n",
    "    for i in range(len(machineArray)):\n",
    "        tmp = machineArray[i].percentValue\n",
    "        attackerProportionalEffort.append(tmp)\n",
    "    return attackerProportionalEffort\n",
    "\n",
    "def AttackerStrategyProportionalRedistribution(machineArray):\n",
    "    attackerProportionalEffort = []\n",
    "    for i in range(len(machineArray)):\n",
    "        if machineArray[i].penetrate == False:\n",
    "            tmp = machineArray[i].percentValue\n",
    "            attackerProportionalEffort.append(tmp)\n",
    "        else:\n",
    "            attackerProportionalEffort.append(0)\n",
    "    return attackerProportionalEffort\n",
    "        \n",
    "def AttackerStrategyHigh():\n",
    "    attackerHighEffort = 1\n",
    "    return attackerHighEffort\n",
    "\n",
    "def AttackerStrategyHighRedistribution():\n",
    "    attackerHighEffort = 1\n",
    "    return attackerHighEffort\n",
    "        \n",
    "def DefenderStrategyNothing():\n",
    "    return None\n",
    "    \n",
    "def DefenderStrategyProportional(machineArray, Ei, a):\n",
    "    for i in range(len(machineArray)):\n",
    "        if float(CheckCost(str(a))) <= machineArray[i].percentValue * Ei:\n",
    "            machineArray[i].changePossibilityProtection(False)\n",
    "            machineArray[i].changeProtectionLevel(0)\n",
    "        else:\n",
    "            machineArray[i].changePossibilityProtection(True)\n",
    "            machineArray[i].changeProtectionLevel(\"%.2f\" % (machineArray[i].percentValue * Ei))\n",
    "    \n",
    "def DefenderStrategyHigh(Ei, importantMachineValues, machineArray, a):\n",
    "    for i in range(len(machineArray)):\n",
    "        machineArray[i].changePossibilityProtection(False)\n",
    "        machineArray[i].changeProtectionLevel(0)\n",
    "    if float(CheckCost(str(a))) > Ei:\n",
    "        machineArray[importantMachineValues - 1].changePossibilityProtection(True)\n",
    "        machineArray[importantMachineValues - 1].changeProtectionLevel(Ei)       \n",
    "#P-атакующий H-защитник\n",
    "def ComparisonStrategyPH(machineArray, importantMachineValues, Ei):\n",
    "    attackerProportionalEffort = AttackerStrategyProportional(machineArray)\n",
    "    DefenderStrategyHigh(Ei, importantMachineValues, machineArray, a)\n",
    "    count = 0\n",
    "    for i in range(len(machineArray)):\n",
    "        if machineArray[i].vulnerable == True:\n",
    "            if attackerProportionalEffort[i] > machineArray[i].protectionLevel:\n",
    "                machineArray[i].changePenetrate(True)\n",
    "                count += 1\n",
    "    if count > 0:\n",
    "        return True\n",
    "    else:\n",
    "        return False\n",
    "#RP - Redistribution Proportional атакующий H - защитник        \n",
    "def ComparisonStrategyRPH(machineArray, importantMachineValues, Ei):\n",
    "    DefenderStrategyHigh(Ei, importantMachineValues, machineArray, a) \n",
    "    attackerRedistributionProportionalEffort = AttackerStrategyProportionalRedistribution(machineArray)\n",
    "    count = 0\n",
    "    for i in range(len(machineArray)):\n",
    "        if machineArray[i].vulnerable == True and machineArray[i].penetrate == False:\n",
    "            if attackerRedistributionProportionalEffort[i] > machineArray[i].protectionLevel:\n",
    "                machineArray[i].changePenetrate(True)\n",
    "                count += 1\n",
    "    if count > 0:\n",
    "        return True\n",
    "    else:\n",
    "        return False \n",
    "#P-атакующий P-защитник\n",
    "def ComparisonStrategyPP(machineArray, Ei, a):\n",
    "    attackerProportionalEffort = AttackerStrategyProportional(machineArray)\n",
    "    DefenderStrategyProportional(machineArray, Ei, a)\n",
    "    count = 0\n",
    "    for i in range(len(machineArray)):\n",
    "        if machineArray[i].vulnerable == True:\n",
    "            if attackerProportionalEffort[i] > machineArray[i].protectionLevel:\n",
    "                machineArray[i].changePenetrate(True)\n",
    "                count += 1\n",
    "    if count > 0:\n",
    "        return True\n",
    "    else:\n",
    "        return False\n",
    "#RP - атакующий P - защитник\n",
    "def ComparisonStrategyRPP(machineArray, Ei, a):\n",
    "    DefenderStrategyProportional(machineArray, Ei, a)\n",
    "    attackerRedistributionProportionalEffort =  AttackerStrategyProportionalRedistribution(machineArray)\n",
    "    count = 0\n",
    "    for i in range(len(machineArray)):\n",
    "        if machineArray[i].vulnerable == True and machineArray[i].penetrate == False:\n",
    "            if attackerRedistributionProportionalEffort[i] > machineArray[i].protectionLevel:\n",
    "                machineArray[i].changePenetrate(True)\n",
    "                count += 1\n",
    "    if count > 0:\n",
    "        return True\n",
    "    else:\n",
    "        return False\n",
    "#P - атакующий N - защитник\n",
    "def ComparisonStrategyPN(machineArray):\n",
    "    attackerProportionalEffort = AttackerStrategyProportional(machineArray)\n",
    "    count = 0\n",
    "    for i in range(len(machineArray)):\n",
    "        if machineArray[i].vulnerable == True:\n",
    "            if attackerProportionalEffort[i] > machineArray[i].protectionLevel:\n",
    "                machineArray[i].changePenetrate(True)\n",
    "                count += 1\n",
    "    if count > 0:\n",
    "        return True\n",
    "    else:\n",
    "        return False\n",
    "#RP - атакующий N - защитник\n",
    "def ComparisonStrategyRPN(machineArray):\n",
    "    attackerRedistributionProportionalEffort =  AttackerStrategyProportionalRedistribution(machineArray)\n",
    "    count = 0\n",
    "    for i in range(len(machineArray)):\n",
    "        if machineArray[i].vulnerable == True and machineArray[i].penetrate == False:\n",
    "            if attackerRedistributionProportionalEffort[i] > machineArray[i].protectionLevel:\n",
    "                machineArray[i].changePenetrate(True)\n",
    "                count += 1\n",
    "    if count > 0:\n",
    "        return True\n",
    "    else:\n",
    "        return False\n",
    "#H-атакующий P-защитник\n",
    "def ComparisonStrategyHP(machineArray, Ei, importantMachineValues, a):\n",
    "    attackerHighEffort = AttackerStrategyHigh()\n",
    "    DefenderStrategyProportional(machineArray, Ei, a)\n",
    "    if attackerHighEffort > machineArray[importantMachineValues - 1].protectionLevel:\n",
    "        if machineArray[importantMachineValues - 1].vulnerable == True:\n",
    "            machineArray[importantMachineValues - 1].changePenetrate(True)\n",
    "            return True\n",
    "        else:\n",
    "            return False\n",
    "#RH-атакующий P-защитник\n",
    "def ComparisonStrategyRHP(machineArray, Ei, importantMachineValues, a):\n",
    "    attackerHighRedistributionEffort = AttackerStrategyHighRedistribution()\n",
    "    DefenderStrategyProportional(machineArray, Ei, a)\n",
    "    if machineArray[importantMachineValues - 1].vulnerable == True and machineArray[importantMachineValues - 1].penetrate == False:\n",
    "        if attackerHighRedistributionEffort > machineArray[importantMachineValues - 1].protectionLevel:\n",
    "            machineArray[importantMachineValues - 1].changePenetrate(True)\n",
    "            return True\n",
    "        else:\n",
    "            return False\n",
    "#H-атакующий H-защитник\n",
    "def ComparsionStrategyHH(Ei, importantMachineValues, machineArray, a):\n",
    "    attackerHighEffort = AttackerStrategyHigh()\n",
    "    DefenderStrategyHigh(Ei, importantMachineValues, machineArray, a)\n",
    "    if attackerHighEffort > machineArray[importantMachineValues - 1].protectionLevel:\n",
    "        if machineArray[importantMachineValues - 1].vulnerable == True:\n",
    "            machineArray[importantMachineValues - 1].changePenetrate(True)\n",
    "            return True\n",
    "        else:\n",
    "            return False\n",
    "#RH-атакующий H-защитник\n",
    "def ComparsionStrategyRHH(Ei, importantMachineValues, machineArray, a):\n",
    "    attackerHighRedistributionEffort = AttackerStrategyHighRedistribution()\n",
    "    DefenderStrategyHigh(Ei, importantMachineValues, machineArray, a)\n",
    "    if attackerHighRedistributionEffort > machineArray[importantMachineValues - 1].protectionLevel:\n",
    "        if machineArray[importantMachineValues - 1].vulnerable == True and machineArray[importantMachineValues - 1].penetrate == False:\n",
    "            machineArray[importantMachineValues - 1].changePenetrate(True)\n",
    "            return True\n",
    "        else:\n",
    "            return False\n",
    "#H-Атакующий N-защитник\n",
    "def ComparsionStrategyHN(machineArray, importantMachineValues):\n",
    "    attackerHighEffort = AttackerStrategyHigh()\n",
    "    if attackerHighEffort > machineArray[importantMachineValues - 1].percentValue:\n",
    "        if machineArray[importantMachineValues - 1].vulnerable == True:\n",
    "            machineArray[importantMachineValues - 1].changePenetrate(True)\n",
    "            return True\n",
    "        else:\n",
    "            return False\n",
    "#RH-Атакующий N-защитник\n",
    "def ComparsionStrategyRHN(machineArray, importantMachineValues):\n",
    "    attackerHighRedistributionEffort = AttackerStrategyHighRedistribution()\n",
    "    if attackerHighRedistributionEffort > machineArray[importantMachineValues - 1].percentValue:\n",
    "        if machineArray[importantMachineValues - 1].vulnerable == True and machineArray[importantMachineValues - 1].penetrate == False:\n",
    "            machineArray[importantMachineValues - 1].changePenetrate(True)\n",
    "            return True\n",
    "        else:\n",
    "            return False\n",
    "        \n",
    "def CheckStrategyDefender(b):\n",
    "    NumberStrategy = {\n",
    "        '1':'Noting',\n",
    "        '2':'High',\n",
    "        '3':'High',\n",
    "        '4':'High',\n",
    "        '5':'High',\n",
    "        '6':'High',\n",
    "        '7':'High',\n",
    "        '8':'High',\n",
    "        '9':'High',\n",
    "        '10':'High',\n",
    "        '11':'Proportional',\n",
    "        '12':'Proportional',\n",
    "        '13':'Proportional',\n",
    "        '14':'Proportional',\n",
    "        '15':'Proportional',\n",
    "        '16':'Proportional',\n",
    "        '17':'Proportional',\n",
    "        '18':'Proportional',\n",
    "        '19':'Proportional'\n",
    "    }\n",
    "    return NumberStrategy[b]\n",
    "    \n",
    "#def JsonCheck():\n",
    "    \n",
    "    \n",
    "arrayEqlibriumDefender = []\n",
    "arrayEqlibriumAttecker = []\n",
    "\n",
    "for s in (0.1, 0.2, 0.3, 0.4, 0.5, 0.6, 0.7, 0.8, 0.9):\n",
    "    for a in range(1, 11, 1):\n",
    "        shape = (19,2) #матрица игры\n",
    "        Attacker = np.zeros(shape=shape)\n",
    "        Defender = np.zeros(shape=shape)\n",
    "        #1 - Proportional 2 - High\n",
    "        for strategyA in (1, 2):\n",
    "            #1 - High 2 - Proportional 3 - Nothing\n",
    "            for strategyD in (1, 2, 3):\n",
    "                for Ei in (0.1, 0.2, 0.3, 0.4, 0.5, 0.6, 0.7, 0.8, 0.9):\n",
    "                    if strategyA == 1 and strategyD == 1: #A -Proportional, D - High\n",
    "                        j = 0\n",
    "                        utilityDefender = 0\n",
    "                        utilityAttacker = 0\n",
    "                        for j in tqdm(range(50000)):\n",
    "                            machineValues = GetMachineValues()\n",
    "                            vulnerableMachineValues = GetVulnerableMachineValues(machineValues)\n",
    "                            importantMachineValues = GetImportantMachineValues(machineValues)\n",
    "                            machineArray = GetMachineArray(machineValues, vulnerableMachineValues, importantMachineValues)\n",
    "                            tmp = ComparisonStrategyPH(machineArray, importantMachineValues, Ei)\n",
    "                            while tmp == True:\n",
    "                                if tmp == True:\n",
    "                                    utilityDefender += UtilityDefender(s, a, Ei, machineArray)\n",
    "                                    utilityAttacker += UtilityAttacker(machineArray)\n",
    "                                    tmp = ComparisonStrategyRPH(machineArray, importantMachineValues, Ei)\n",
    "                                else:\n",
    "                                    utilityDefender += UtilityDefender(s, a, Ei, machineArray)\n",
    "                        print('for s =', s,'a =', a, 'sA = ', strategyA, 'sd =', strategyD, 'Ei =', Ei)\n",
    "                        print('Utility A =', utilityAttacker, 'utility D =', utilityDefender)\n",
    "                    elif strategyA == 1 and strategyD == 2:\n",
    "                        j = 0\n",
    "                        utilityDefender = 0\n",
    "                        utilityAttacker = 0\n",
    "                        for j in tqdm(range(50000)):\n",
    "                            machineValues = GetMachineValues()\n",
    "                            vulnerableMachineValues = GetVulnerableMachineValues(machineValues)\n",
    "                            importantMachineValues = GetImportantMachineValues(machineValues)\n",
    "                            machineArray = GetMachineArray(machineValues, vulnerableMachineValues, importantMachineValues)\n",
    "                            tmp = ComparisonStrategyPP(machineArray, Ei, a)\n",
    "                            while tmp == True:\n",
    "                                if tmp == True:\n",
    "                                    utilityDefender += UtilityDefender(s, a, Ei, machineArray)\n",
    "                                    utilityAttacker += UtilityAttacker(machineArray)\n",
    "                                    tmp = ComparisonStrategyRPP(machineArray, Ei, a)\n",
    "                                else:\n",
    "                                    utilityDefender += UtilityDefender(s, a, Ei, machineArray)\n",
    "                        print('for s =', s,'a =', a, 'sA = ', strategyA, 'sd =', strategyD, 'Ei =', Ei)\n",
    "                        print('Utility A =', utilityAttacker, 'utility D =', utilityDefender)\n",
    "                    elif strategyA == 1 and strategyD == 3:\n",
    "                        j = 0\n",
    "                        utilityDefender = 0\n",
    "                        utilityAttacker = 0\n",
    "                        for j in tqdm(range(50000)):\n",
    "                            machineValues = GetMachineValues()\n",
    "                            vulnerableMachineValues = GetVulnerableMachineValues(machineValues)\n",
    "                            importantMachineValues = GetImportantMachineValues(machineValues)\n",
    "                            machineArray = GetMachineArray(machineValues, vulnerableMachineValues, importantMachineValues)\n",
    "                            tmp = ComparisonStrategyPN(machineArray)\n",
    "                            while tmp ==True:\n",
    "                                if tmp == True:\n",
    "                                    utilityDefender += UtilityDefender(s, a, Ei, machineArray)\n",
    "                                    utilityAttacker += UtilityAttacker(machineArray)\n",
    "                                    tmp = ComparisonStrategyRPN(machineArray)\n",
    "                                else:\n",
    "                                    utilityDefender += UtilityDefender(s, a, Ei, machineArray)\n",
    "                                    break\n",
    "                        print('for s =', s,'a =', a, 'sA = ', strategyA, 'sd =', strategyD, 'Ei =', Ei)\n",
    "                        print('Utility A =', utilityAttacker, 'utility D =', utilityDefender)\n",
    "                    elif strategyA == 2 and strategyD == 1:\n",
    "                        j = 0\n",
    "                        utilityDefender = 0\n",
    "                        utilityAttacker = 0\n",
    "                        for j in tqdm(range(50000)):\n",
    "                            machineValues = GetMachineValues()\n",
    "                            vulnerableMachineValues = GetVulnerableMachineValues(machineValues)\n",
    "                            importantMachineValues = GetImportantMachineValues(machineValues)\n",
    "                            machineArray = GetMachineArray(machineValues, vulnerableMachineValues, importantMachineValues)\n",
    "                            tmp = ComparsionStrategyHH(Ei, importantMachineValues, machineArray, a)\n",
    "                            while True:\n",
    "                                if tmp == True:\n",
    "                                    utilityDefender += UtilityDefender(s, a, Ei, machineArray)\n",
    "                                    utilityAttacker += UtilityAttacker(machineArray)\n",
    "                                    tmp = ComparsionStrategyRHH(Ei, importantMachineValues, machineArray, a)\n",
    "                                else:\n",
    "                                    utilityDefender += UtilityDefender(s, a, Ei, machineArray)\n",
    "                                    break\n",
    "                        print('for s =', s,'a =', a, 'sA = ', strategyA, 'sd =', strategyD, 'Ei =', Ei)\n",
    "                        print('Utility A =', utilityAttacker, 'utility D =', utilityDefender) \n",
    "                    elif strategyA == 2 and strategyD == 2:\n",
    "                        j = 0\n",
    "                        utilityDefender = 0\n",
    "                        utilityAttacker = 0\n",
    "                        for j in tqdm(range(50000)):\n",
    "                            machineValues = GetMachineValues()\n",
    "                            vulnerableMachineValues = GetVulnerableMachineValues(machineValues)\n",
    "                            importantMachineValues = GetImportantMachineValues(machineValues)\n",
    "                            machineArray = GetMachineArray(machineValues, vulnerableMachineValues, importantMachineValues)\n",
    "                            tmp = ComparisonStrategyHP(machineArray, Ei, importantMachineValues, a)\n",
    "                            while True:\n",
    "                                if tmp == True:\n",
    "                                    utilityDefender += UtilityDefender(s, a, Ei, machineArray)\n",
    "                                    utilityAttacker += UtilityAttacker(machineArray)\n",
    "                                    tmp = ComparisonStrategyRHP(machineArray, Ei, importantMachineValues, a)\n",
    "                                else:\n",
    "                                    utilityDefender += UtilityDefender(s, a, Ei, machineArray)\n",
    "                                    break\n",
    "                        print('for s =', s,'a =', a, 'sA = ', strategyA, 'sd =', strategyD, 'Ei =', Ei)\n",
    "                        print('Utility A =', utilityAttacker, 'utility D =', utilityDefender)\n",
    "                    elif strategyA == 2 and strategyD == 3:\n",
    "                        j = 0\n",
    "                        utilityDefender = 0\n",
    "                        utilityAttacker = 0\n",
    "                        for j in tqdm(range(50000)):\n",
    "                            machineValues = GetMachineValues()\n",
    "                            vulnerableMachineValues = GetVulnerableMachineValues(machineValues)\n",
    "                            importantMachineValues = GetImportantMachineValues(machineValues)\n",
    "                            machineArray = GetMachineArray(machineValues, vulnerableMachineValues, importantMachineValues)\n",
    "                            tmp = ComparsionStrategyHN(machineArray, importantMachineValues)\n",
    "                            while True:\n",
    "                                if tmp == True:\n",
    "                                    utilityDefender += UtilityDefender(s, a, Ei, machineArray)\n",
    "                                    utilityAttacker += UtilityAttacker(machineArray)\n",
    "                                    tmp = ComparsionStrategyRHN(machineArray, importantMachineValues)\n",
    "                                else:\n",
    "                                    utilityDefender += UtilityDefender(s, a, Ei, machineArray)\n",
    "                                    break\n",
    "                        print('for s =', s,'a =', a, 'sA = ', strategyA, 'sd =', strategyD, 'Ei =', Ei)\n",
    "                        print('Utility A =', utilityAttacker, 'utility D =', utilityDefender)\n",
    "                    if strategyD == 3:\n",
    "                        Attacker[0, strategyA - 1] = round(utilityAttacker)\n",
    "                        Defender[0, strategyA - 1] = round(utilityDefender)\n",
    "                    elif strategyD == 1:\n",
    "                        index = int(Ei * 10)\n",
    "                        Attacker[index, strategyA - 1] = round(utilityAttacker)\n",
    "                        Defender[index, strategyA - 1] = round(utilityDefender)\n",
    "                    elif strategyD == 2:\n",
    "                        index = int(Ei * 10) + 9\n",
    "                        Attacker[index, strategyA - 1] = round(utilityAttacker)\n",
    "                        Defender[index, strategyA - 1] = round(utilityDefender)\n",
    "        degenGameTest = False\n",
    "        game = nash.Game(Defender, Attacker)\n",
    "        print(\"Утилиты атакующего -\", Attacker)\n",
    "        print(\"Утилиты обороняющегося -\", Defender)\n",
    "        try:\n",
    "            equlibrium = list(game.support_enumeration())[0]\n",
    "        except IndexError:\n",
    "            try:\n",
    "                equlibrium = list(game.support_enumeration(non_degenerate=True))[0]\n",
    "            except:\n",
    "                equlibrium = list(game.support_enumeration(non_degenerate=True))\n",
    "                degenGameTest = True\n",
    "        print(\"equlibrium\", equlibrium)\n",
    "        if degenGameTest == False:\n",
    "            numEqulibriumDefender = np.argmax(equlibrium[0])+1\n",
    "            numEqulibriumAttacker = np.argmax(equlibrium[1])+1\n",
    "        else:\n",
    "            numEqulibriumDefender = equlibrium\n",
    "            numEqulibriumAttacker = equlibrium\n",
    "        print(\"оптимальная стратегия оброняющегося номер \", numEqulibriumDefender, \"оптимальная стратегия атакующего номер \", numEqulibriumAttacker)\n",
    "        arrayEqlibriumDefender.append(numEqulibriumDefender)\n",
    "        arrayEqlibriumAttecker.append(numEqulibriumAttacker)\n",
    "\n",
    "print('array Defender - ', '\\n', arrayEqlibriumDefender)\n",
    "print('arrau Attacker - ', '\\n', arrayEqlibriumAttecker)"
   ]
  },
  {
   "cell_type": "code",
   "execution_count": 10,
   "id": "e9623afc",
   "metadata": {},
   "outputs": [
    {
     "data": {
      "application/vnd.jupyter.widget-view+json": {
       "model_id": "56540bc9f1024e5e9d921f6db7c2704e",
       "version_major": 2,
       "version_minor": 0
      },
      "text/plain": [
       "  0%|          | 0/50000 [00:00<?, ?it/s]"
      ]
     },
     "metadata": {},
     "output_type": "display_data"
    },
    {
     "name": "stdout",
     "output_type": "stream",
     "text": [
      "for s = 0.5 a = 10 sA =  1 sd = 1 Ei = 0.1\n",
      "Utility A = 68138.79000000295 utility D = -68138.79000000295\n"
     ]
    },
    {
     "data": {
      "application/vnd.jupyter.widget-view+json": {
       "model_id": "80af3623eae441fb9c39556b7d1cfcec",
       "version_major": 2,
       "version_minor": 0
      },
      "text/plain": [
       "  0%|          | 0/50000 [00:00<?, ?it/s]"
      ]
     },
     "metadata": {},
     "output_type": "display_data"
    },
    {
     "name": "stdout",
     "output_type": "stream",
     "text": [
      "for s = 0.5 a = 10 sA =  1 sd = 1 Ei = 0.2\n",
      "Utility A = 67708.92000000303 utility D = -67708.92000000303\n"
     ]
    },
    {
     "data": {
      "application/vnd.jupyter.widget-view+json": {
       "model_id": "adfe460fbe49464fbac3f02a17d83d3e",
       "version_major": 2,
       "version_minor": 0
      },
      "text/plain": [
       "  0%|          | 0/50000 [00:00<?, ?it/s]"
      ]
     },
     "metadata": {},
     "output_type": "display_data"
    },
    {
     "name": "stdout",
     "output_type": "stream",
     "text": [
      "for s = 0.5 a = 10 sA =  1 sd = 1 Ei = 0.3\n",
      "Utility A = 68005.2800000026 utility D = -68005.2800000026\n"
     ]
    },
    {
     "data": {
      "application/vnd.jupyter.widget-view+json": {
       "model_id": "7b8e991317344bdbac490811eb9806ba",
       "version_major": 2,
       "version_minor": 0
      },
      "text/plain": [
       "  0%|          | 0/50000 [00:00<?, ?it/s]"
      ]
     },
     "metadata": {},
     "output_type": "display_data"
    },
    {
     "name": "stdout",
     "output_type": "stream",
     "text": [
      "for s = 0.5 a = 10 sA =  1 sd = 1 Ei = 0.4\n",
      "Utility A = 68101.1000000024 utility D = -68101.1000000024\n"
     ]
    },
    {
     "data": {
      "application/vnd.jupyter.widget-view+json": {
       "model_id": "512cb24849c44f17aac7500bd642b976",
       "version_major": 2,
       "version_minor": 0
      },
      "text/plain": [
       "  0%|          | 0/50000 [00:00<?, ?it/s]"
      ]
     },
     "metadata": {},
     "output_type": "display_data"
    },
    {
     "name": "stdout",
     "output_type": "stream",
     "text": [
      "for s = 0.5 a = 10 sA =  1 sd = 1 Ei = 0.5\n",
      "Utility A = 68142.68000000255 utility D = -68142.68000000255\n"
     ]
    },
    {
     "data": {
      "application/vnd.jupyter.widget-view+json": {
       "model_id": "e91530d3d9f743f6a16eb3b27ccb5974",
       "version_major": 2,
       "version_minor": 0
      },
      "text/plain": [
       "  0%|          | 0/50000 [00:00<?, ?it/s]"
      ]
     },
     "metadata": {},
     "output_type": "display_data"
    },
    {
     "name": "stdout",
     "output_type": "stream",
     "text": [
      "for s = 0.5 a = 10 sA =  1 sd = 1 Ei = 0.6\n",
      "Utility A = 68336.45000000227 utility D = -68336.45000000227\n"
     ]
    },
    {
     "data": {
      "application/vnd.jupyter.widget-view+json": {
       "model_id": "dc9197789fb440609d4b3a89ce5d16dd",
       "version_major": 2,
       "version_minor": 0
      },
      "text/plain": [
       "  0%|          | 0/50000 [00:00<?, ?it/s]"
      ]
     },
     "metadata": {},
     "output_type": "display_data"
    },
    {
     "name": "stdout",
     "output_type": "stream",
     "text": [
      "for s = 0.5 a = 10 sA =  1 sd = 1 Ei = 0.7\n",
      "Utility A = 68123.95000000275 utility D = -68123.95000000275\n"
     ]
    },
    {
     "data": {
      "application/vnd.jupyter.widget-view+json": {
       "model_id": "1bec27af5a054669b11c033e66b72973",
       "version_major": 2,
       "version_minor": 0
      },
      "text/plain": [
       "  0%|          | 0/50000 [00:00<?, ?it/s]"
      ]
     },
     "metadata": {},
     "output_type": "display_data"
    },
    {
     "name": "stdout",
     "output_type": "stream",
     "text": [
      "for s = 0.5 a = 10 sA =  1 sd = 1 Ei = 0.8\n",
      "Utility A = 67747.61000000183 utility D = -67747.61000000183\n"
     ]
    },
    {
     "data": {
      "application/vnd.jupyter.widget-view+json": {
       "model_id": "44a7a9f511f941b1a1bf8d3e8d731466",
       "version_major": 2,
       "version_minor": 0
      },
      "text/plain": [
       "  0%|          | 0/50000 [00:00<?, ?it/s]"
      ]
     },
     "metadata": {},
     "output_type": "display_data"
    },
    {
     "name": "stdout",
     "output_type": "stream",
     "text": [
      "for s = 0.5 a = 10 sA =  1 sd = 1 Ei = 0.9\n",
      "Utility A = 68348.900000003 utility D = -68348.900000003\n"
     ]
    },
    {
     "data": {
      "application/vnd.jupyter.widget-view+json": {
       "model_id": "63aa687be68a44f9808587c450a9b200",
       "version_major": 2,
       "version_minor": 0
      },
      "text/plain": [
       "  0%|          | 0/50000 [00:00<?, ?it/s]"
      ]
     },
     "metadata": {},
     "output_type": "display_data"
    },
    {
     "name": "stdout",
     "output_type": "stream",
     "text": [
      "for s = 0.5 a = 10 sA =  1 sd = 2 Ei = 0.1\n",
      "Utility A = 68208.21000000236 utility D = -68043.71384127204\n"
     ]
    },
    {
     "data": {
      "application/vnd.jupyter.widget-view+json": {
       "model_id": "66938112e54943a5b5dabaec331029d7",
       "version_major": 2,
       "version_minor": 0
      },
      "text/plain": [
       "  0%|          | 0/50000 [00:00<?, ?it/s]"
      ]
     },
     "metadata": {},
     "output_type": "display_data"
    },
    {
     "name": "stdout",
     "output_type": "stream",
     "text": [
      "for s = 0.5 a = 10 sA =  1 sd = 2 Ei = 0.2\n",
      "Utility A = 68042.82000000235 utility D = -67696.42954365164\n"
     ]
    },
    {
     "data": {
      "application/vnd.jupyter.widget-view+json": {
       "model_id": "7a459822e3974992ac9af64ca6d2a66f",
       "version_major": 2,
       "version_minor": 0
      },
      "text/plain": [
       "  0%|          | 0/50000 [00:00<?, ?it/s]"
      ]
     },
     "metadata": {},
     "output_type": "display_data"
    },
    {
     "name": "stdout",
     "output_type": "stream",
     "text": [
      "for s = 0.5 a = 10 sA =  1 sd = 2 Ei = 0.3\n",
      "Utility A = 67813.2000000022 utility D = -67517.01381746096\n"
     ]
    },
    {
     "data": {
      "application/vnd.jupyter.widget-view+json": {
       "model_id": "9fa1654bfbe14f709701ad34a6bc1e70",
       "version_major": 2,
       "version_minor": 0
      },
      "text/plain": [
       "  0%|          | 0/50000 [00:00<?, ?it/s]"
      ]
     },
     "metadata": {},
     "output_type": "display_data"
    },
    {
     "name": "stdout",
     "output_type": "stream",
     "text": [
      "for s = 0.5 a = 10 sA =  1 sd = 2 Ei = 0.4\n",
      "Utility A = 67788.72000000239 utility D = -67432.27532936585\n"
     ]
    },
    {
     "data": {
      "application/vnd.jupyter.widget-view+json": {
       "model_id": "7884e49d923c4ce7bd7edec6d0efe7b7",
       "version_major": 2,
       "version_minor": 0
      },
      "text/plain": [
       "  0%|          | 0/50000 [00:00<?, ?it/s]"
      ]
     },
     "metadata": {},
     "output_type": "display_data"
    },
    {
     "name": "stdout",
     "output_type": "stream",
     "text": [
      "for s = 0.5 a = 10 sA =  1 sd = 2 Ei = 0.5\n",
      "Utility A = 57434.970000002344 utility D = -56980.27747619187\n"
     ]
    },
    {
     "data": {
      "application/vnd.jupyter.widget-view+json": {
       "model_id": "094ce2fff65b4eae91b4f47d6a1f7cdc",
       "version_major": 2,
       "version_minor": 0
      },
      "text/plain": [
       "  0%|          | 0/50000 [00:00<?, ?it/s]"
      ]
     },
     "metadata": {},
     "output_type": "display_data"
    },
    {
     "name": "stdout",
     "output_type": "stream",
     "text": [
      "for s = 0.5 a = 10 sA =  1 sd = 2 Ei = 0.6\n",
      "Utility A = 57865.50000000242 utility D = -57352.30901984343\n"
     ]
    },
    {
     "data": {
      "application/vnd.jupyter.widget-view+json": {
       "model_id": "b36cac3141844162a7169dfbd6f9edd8",
       "version_major": 2,
       "version_minor": 0
      },
      "text/plain": [
       "  0%|          | 0/50000 [00:00<?, ?it/s]"
      ]
     },
     "metadata": {},
     "output_type": "display_data"
    },
    {
     "name": "stdout",
     "output_type": "stream",
     "text": [
      "for s = 0.5 a = 10 sA =  1 sd = 2 Ei = 0.7\n",
      "Utility A = 57986.45000000256 utility D = -57370.71407936702\n"
     ]
    },
    {
     "data": {
      "application/vnd.jupyter.widget-view+json": {
       "model_id": "ba5f5532f16e41e9996871cf0d482743",
       "version_major": 2,
       "version_minor": 0
      },
      "text/plain": [
       "  0%|          | 0/50000 [00:00<?, ?it/s]"
      ]
     },
     "metadata": {},
     "output_type": "display_data"
    },
    {
     "name": "stdout",
     "output_type": "stream",
     "text": [
      "for s = 0.5 a = 10 sA =  1 sd = 2 Ei = 0.8\n",
      "Utility A = 36354.77000000065 utility D = -35604.07613492141\n"
     ]
    },
    {
     "data": {
      "application/vnd.jupyter.widget-view+json": {
       "model_id": "dc1bdfdb6a9f49149998036f757be4ce",
       "version_major": 2,
       "version_minor": 0
      },
      "text/plain": [
       "  0%|          | 0/50000 [00:00<?, ?it/s]"
      ]
     },
     "metadata": {},
     "output_type": "display_data"
    },
    {
     "name": "stdout",
     "output_type": "stream",
     "text": [
      "for s = 0.5 a = 10 sA =  1 sd = 2 Ei = 0.9\n",
      "Utility A = 7167.1799999997775 utility D = -6343.133579365012\n"
     ]
    },
    {
     "data": {
      "application/vnd.jupyter.widget-view+json": {
       "model_id": "c46b88093cb74ddc8d6ffca8a1002368",
       "version_major": 2,
       "version_minor": 0
      },
      "text/plain": [
       "  0%|          | 0/50000 [00:00<?, ?it/s]"
      ]
     },
     "metadata": {},
     "output_type": "display_data"
    },
    {
     "name": "stdout",
     "output_type": "stream",
     "text": [
      "for s = 0.5 a = 10 sA =  1 sd = 3 Ei = 0.1\n",
      "Utility A = 68104.04000000253 utility D = -68104.04000000253\n"
     ]
    },
    {
     "data": {
      "application/vnd.jupyter.widget-view+json": {
       "model_id": "885db45e3fcc4d3b81121830a328c91e",
       "version_major": 2,
       "version_minor": 0
      },
      "text/plain": [
       "  0%|          | 0/50000 [00:00<?, ?it/s]"
      ]
     },
     "metadata": {},
     "output_type": "display_data"
    },
    {
     "name": "stdout",
     "output_type": "stream",
     "text": [
      "for s = 0.5 a = 10 sA =  1 sd = 3 Ei = 0.2\n",
      "Utility A = 67467.39000000228 utility D = -67467.39000000228\n"
     ]
    },
    {
     "data": {
      "application/vnd.jupyter.widget-view+json": {
       "model_id": "2faf7aca768644c891663176671ab5ae",
       "version_major": 2,
       "version_minor": 0
      },
      "text/plain": [
       "  0%|          | 0/50000 [00:00<?, ?it/s]"
      ]
     },
     "metadata": {},
     "output_type": "display_data"
    },
    {
     "name": "stdout",
     "output_type": "stream",
     "text": [
      "for s = 0.5 a = 10 sA =  1 sd = 3 Ei = 0.3\n",
      "Utility A = 68231.45000000298 utility D = -68231.45000000298\n"
     ]
    },
    {
     "data": {
      "application/vnd.jupyter.widget-view+json": {
       "model_id": "9228ffee60384e3d921bd5c03625afee",
       "version_major": 2,
       "version_minor": 0
      },
      "text/plain": [
       "  0%|          | 0/50000 [00:00<?, ?it/s]"
      ]
     },
     "metadata": {},
     "output_type": "display_data"
    },
    {
     "name": "stdout",
     "output_type": "stream",
     "text": [
      "for s = 0.5 a = 10 sA =  1 sd = 3 Ei = 0.4\n",
      "Utility A = 68331.6100000026 utility D = -68331.6100000026\n"
     ]
    },
    {
     "data": {
      "application/vnd.jupyter.widget-view+json": {
       "model_id": "deb8bc1281024918a2cadfdbc37ddf41",
       "version_major": 2,
       "version_minor": 0
      },
      "text/plain": [
       "  0%|          | 0/50000 [00:00<?, ?it/s]"
      ]
     },
     "metadata": {},
     "output_type": "display_data"
    },
    {
     "name": "stdout",
     "output_type": "stream",
     "text": [
      "for s = 0.5 a = 10 sA =  1 sd = 3 Ei = 0.5\n",
      "Utility A = 68206.81000000243 utility D = -68206.81000000243\n"
     ]
    },
    {
     "data": {
      "application/vnd.jupyter.widget-view+json": {
       "model_id": "4334f2b61a4f40f29c706730963f4773",
       "version_major": 2,
       "version_minor": 0
      },
      "text/plain": [
       "  0%|          | 0/50000 [00:00<?, ?it/s]"
      ]
     },
     "metadata": {},
     "output_type": "display_data"
    },
    {
     "name": "stdout",
     "output_type": "stream",
     "text": [
      "for s = 0.5 a = 10 sA =  1 sd = 3 Ei = 0.6\n",
      "Utility A = 68015.92000000263 utility D = -68015.92000000263\n"
     ]
    },
    {
     "data": {
      "application/vnd.jupyter.widget-view+json": {
       "model_id": "a5637cb41cc440b3b1f11ea9ed7156f6",
       "version_major": 2,
       "version_minor": 0
      },
      "text/plain": [
       "  0%|          | 0/50000 [00:00<?, ?it/s]"
      ]
     },
     "metadata": {},
     "output_type": "display_data"
    },
    {
     "name": "stdout",
     "output_type": "stream",
     "text": [
      "for s = 0.5 a = 10 sA =  1 sd = 3 Ei = 0.7\n",
      "Utility A = 68290.76000000224 utility D = -68290.76000000224\n"
     ]
    },
    {
     "data": {
      "application/vnd.jupyter.widget-view+json": {
       "model_id": "176e5f4246424f1386e4e54705d49ff5",
       "version_major": 2,
       "version_minor": 0
      },
      "text/plain": [
       "  0%|          | 0/50000 [00:00<?, ?it/s]"
      ]
     },
     "metadata": {},
     "output_type": "display_data"
    },
    {
     "name": "stdout",
     "output_type": "stream",
     "text": [
      "for s = 0.5 a = 10 sA =  1 sd = 3 Ei = 0.8\n",
      "Utility A = 68195.03000000234 utility D = -68195.03000000234\n"
     ]
    },
    {
     "data": {
      "application/vnd.jupyter.widget-view+json": {
       "model_id": "a97e2847188c4f3ebc1b938e34ea3bd1",
       "version_major": 2,
       "version_minor": 0
      },
      "text/plain": [
       "  0%|          | 0/50000 [00:00<?, ?it/s]"
      ]
     },
     "metadata": {},
     "output_type": "display_data"
    },
    {
     "name": "stdout",
     "output_type": "stream",
     "text": [
      "for s = 0.5 a = 10 sA =  1 sd = 3 Ei = 0.9\n",
      "Utility A = 68805.6500000024 utility D = -68805.6500000024\n"
     ]
    },
    {
     "data": {
      "application/vnd.jupyter.widget-view+json": {
       "model_id": "a29792af2478461c802a9443dc24d481",
       "version_major": 2,
       "version_minor": 0
      },
      "text/plain": [
       "  0%|          | 0/50000 [00:00<?, ?it/s]"
      ]
     },
     "metadata": {},
     "output_type": "display_data"
    },
    {
     "name": "stdout",
     "output_type": "stream",
     "text": [
      "for s = 0.5 a = 10 sA =  2 sd = 1 Ei = 0.1\n",
      "Utility A = 3371.780000000029 utility D = -6743.560000000216\n"
     ]
    },
    {
     "data": {
      "application/vnd.jupyter.widget-view+json": {
       "model_id": "842c98f1b4a34b32be565fc5d130ed79",
       "version_major": 2,
       "version_minor": 0
      },
      "text/plain": [
       "  0%|          | 0/50000 [00:00<?, ?it/s]"
      ]
     },
     "metadata": {},
     "output_type": "display_data"
    },
    {
     "name": "stdout",
     "output_type": "stream",
     "text": [
      "for s = 0.5 a = 10 sA =  2 sd = 1 Ei = 0.2\n",
      "Utility A = 3343.1300000000147 utility D = -6686.260000000175\n"
     ]
    },
    {
     "data": {
      "application/vnd.jupyter.widget-view+json": {
       "model_id": "027062b695324f40ba6e44017b627dec",
       "version_major": 2,
       "version_minor": 0
      },
      "text/plain": [
       "  0%|          | 0/50000 [00:00<?, ?it/s]"
      ]
     },
     "metadata": {},
     "output_type": "display_data"
    },
    {
     "name": "stdout",
     "output_type": "stream",
     "text": [
      "for s = 0.5 a = 10 sA =  2 sd = 1 Ei = 0.3\n",
      "Utility A = 3351.1300000000288 utility D = -6702.260000000173\n"
     ]
    },
    {
     "data": {
      "application/vnd.jupyter.widget-view+json": {
       "model_id": "7fca52f56ba14734a978aa76653e05de",
       "version_major": 2,
       "version_minor": 0
      },
      "text/plain": [
       "  0%|          | 0/50000 [00:00<?, ?it/s]"
      ]
     },
     "metadata": {},
     "output_type": "display_data"
    },
    {
     "name": "stdout",
     "output_type": "stream",
     "text": [
      "for s = 0.5 a = 10 sA =  2 sd = 1 Ei = 0.4\n",
      "Utility A = 3351.6100000000065 utility D = -6703.220000000182\n"
     ]
    },
    {
     "data": {
      "application/vnd.jupyter.widget-view+json": {
       "model_id": "8f3eb1a03d8d406091a26b26dcfaf9e5",
       "version_major": 2,
       "version_minor": 0
      },
      "text/plain": [
       "  0%|          | 0/50000 [00:00<?, ?it/s]"
      ]
     },
     "metadata": {},
     "output_type": "display_data"
    },
    {
     "name": "stdout",
     "output_type": "stream",
     "text": [
      "for s = 0.5 a = 10 sA =  2 sd = 1 Ei = 0.5\n",
      "Utility A = 3344.5199999999763 utility D = -6689.040000000098\n"
     ]
    },
    {
     "data": {
      "application/vnd.jupyter.widget-view+json": {
       "model_id": "5e57f4aa5e8945fca0e1a344b157dd4b",
       "version_major": 2,
       "version_minor": 0
      },
      "text/plain": [
       "  0%|          | 0/50000 [00:00<?, ?it/s]"
      ]
     },
     "metadata": {},
     "output_type": "display_data"
    },
    {
     "name": "stdout",
     "output_type": "stream",
     "text": [
      "for s = 0.5 a = 10 sA =  2 sd = 1 Ei = 0.6\n",
      "Utility A = 3361.460000000026 utility D = -6722.92000000017\n"
     ]
    },
    {
     "data": {
      "application/vnd.jupyter.widget-view+json": {
       "model_id": "71301351f6ed48da94b55344239af62c",
       "version_major": 2,
       "version_minor": 0
      },
      "text/plain": [
       "  0%|          | 0/50000 [00:00<?, ?it/s]"
      ]
     },
     "metadata": {},
     "output_type": "display_data"
    },
    {
     "name": "stdout",
     "output_type": "stream",
     "text": [
      "for s = 0.5 a = 10 sA =  2 sd = 1 Ei = 0.7\n",
      "Utility A = 3398.1100000000065 utility D = -6796.220000000294\n"
     ]
    },
    {
     "data": {
      "application/vnd.jupyter.widget-view+json": {
       "model_id": "96dc436373764e9a997b8c0520a4902a",
       "version_major": 2,
       "version_minor": 0
      },
      "text/plain": [
       "  0%|          | 0/50000 [00:00<?, ?it/s]"
      ]
     },
     "metadata": {},
     "output_type": "display_data"
    },
    {
     "name": "stdout",
     "output_type": "stream",
     "text": [
      "for s = 0.5 a = 10 sA =  2 sd = 1 Ei = 0.8\n",
      "Utility A = 3361.9300000000108 utility D = -6723.860000000161\n"
     ]
    },
    {
     "data": {
      "application/vnd.jupyter.widget-view+json": {
       "model_id": "c83d3ca5e5914928a3930ce073021a64",
       "version_major": 2,
       "version_minor": 0
      },
      "text/plain": [
       "  0%|          | 0/50000 [00:00<?, ?it/s]"
      ]
     },
     "metadata": {},
     "output_type": "display_data"
    },
    {
     "name": "stdout",
     "output_type": "stream",
     "text": [
      "for s = 0.5 a = 10 sA =  2 sd = 1 Ei = 0.9\n",
      "Utility A = 3375.1000000000154 utility D = -6750.200000000252\n"
     ]
    },
    {
     "data": {
      "application/vnd.jupyter.widget-view+json": {
       "model_id": "452951af0d5643a4aa2a831684465385",
       "version_major": 2,
       "version_minor": 0
      },
      "text/plain": [
       "  0%|          | 0/50000 [00:00<?, ?it/s]"
      ]
     },
     "metadata": {},
     "output_type": "display_data"
    },
    {
     "name": "stdout",
     "output_type": "stream",
     "text": [
      "for s = 0.5 a = 10 sA =  2 sd = 2 Ei = 0.1\n",
      "Utility A = 3370.850000000026 utility D = -6509.510321428972\n"
     ]
    },
    {
     "data": {
      "application/vnd.jupyter.widget-view+json": {
       "model_id": "18e97c21c1f04ea5985b037195e7912d",
       "version_major": 2,
       "version_minor": 0
      },
      "text/plain": [
       "  0%|          | 0/50000 [00:00<?, ?it/s]"
      ]
     },
     "metadata": {},
     "output_type": "display_data"
    },
    {
     "name": "stdout",
     "output_type": "stream",
     "text": [
      "for s = 0.5 a = 10 sA =  2 sd = 2 Ei = 0.2\n",
      "Utility A = 3343.1800000000057 utility D = -6194.309186507684\n"
     ]
    },
    {
     "data": {
      "application/vnd.jupyter.widget-view+json": {
       "model_id": "9e0c90043daa4136a414a0f1c9c4d85c",
       "version_major": 2,
       "version_minor": 0
      },
      "text/plain": [
       "  0%|          | 0/50000 [00:00<?, ?it/s]"
      ]
     },
     "metadata": {},
     "output_type": "display_data"
    },
    {
     "name": "stdout",
     "output_type": "stream",
     "text": [
      "for s = 0.5 a = 10 sA =  2 sd = 2 Ei = 0.3\n",
      "Utility A = 3346.1699999999923 utility D = -6263.608634920737\n"
     ]
    },
    {
     "data": {
      "application/vnd.jupyter.widget-view+json": {
       "model_id": "20921b689bb24891be0c702177e45e7f",
       "version_major": 2,
       "version_minor": 0
      },
      "text/plain": [
       "  0%|          | 0/50000 [00:00<?, ?it/s]"
      ]
     },
     "metadata": {},
     "output_type": "display_data"
    },
    {
     "name": "stdout",
     "output_type": "stream",
     "text": [
      "for s = 0.5 a = 10 sA =  2 sd = 2 Ei = 0.4\n",
      "Utility A = 3362.090000000032 utility D = -6210.954392857303\n"
     ]
    },
    {
     "data": {
      "application/vnd.jupyter.widget-view+json": {
       "model_id": "660d88e0cef34d448191121435533dc1",
       "version_major": 2,
       "version_minor": 0
      },
      "text/plain": [
       "  0%|          | 0/50000 [00:00<?, ?it/s]"
      ]
     },
     "metadata": {},
     "output_type": "display_data"
    },
    {
     "name": "stdout",
     "output_type": "stream",
     "text": [
      "for s = 0.5 a = 10 sA =  2 sd = 2 Ei = 0.5\n",
      "Utility A = 3370.0900000000192 utility D = -6088.8758095233125\n"
     ]
    },
    {
     "data": {
      "application/vnd.jupyter.widget-view+json": {
       "model_id": "8fd55a8d84b4469da1b9918e151844df",
       "version_major": 2,
       "version_minor": 0
      },
      "text/plain": [
       "  0%|          | 0/50000 [00:00<?, ?it/s]"
      ]
     },
     "metadata": {},
     "output_type": "display_data"
    },
    {
     "name": "stdout",
     "output_type": "stream",
     "text": [
      "for s = 0.5 a = 10 sA =  2 sd = 2 Ei = 0.6\n",
      "Utility A = 3364.560000000012 utility D = -5999.714170634793\n"
     ]
    },
    {
     "data": {
      "application/vnd.jupyter.widget-view+json": {
       "model_id": "89d7802c5e954fec87d0604f467c9973",
       "version_major": 2,
       "version_minor": 0
      },
      "text/plain": [
       "  0%|          | 0/50000 [00:00<?, ?it/s]"
      ]
     },
     "metadata": {},
     "output_type": "display_data"
    },
    {
     "name": "stdout",
     "output_type": "stream",
     "text": [
      "for s = 0.5 a = 10 sA =  2 sd = 2 Ei = 0.7\n",
      "Utility A = 3352.7500000000255 utility D = -5811.785535714031\n"
     ]
    },
    {
     "data": {
      "application/vnd.jupyter.widget-view+json": {
       "model_id": "03b0d59041a54181b4ea6f723aa35525",
       "version_major": 2,
       "version_minor": 0
      },
      "text/plain": [
       "  0%|          | 0/50000 [00:00<?, ?it/s]"
      ]
     },
     "metadata": {},
     "output_type": "display_data"
    },
    {
     "name": "stdout",
     "output_type": "stream",
     "text": [
      "for s = 0.5 a = 10 sA =  2 sd = 2 Ei = 0.8\n",
      "Utility A = 3355.98000000003 utility D = -5578.602543650668\n"
     ]
    },
    {
     "data": {
      "application/vnd.jupyter.widget-view+json": {
       "model_id": "fa9019a8897541d18ac13144fe40c76c",
       "version_major": 2,
       "version_minor": 0
      },
      "text/plain": [
       "  0%|          | 0/50000 [00:00<?, ?it/s]"
      ]
     },
     "metadata": {},
     "output_type": "display_data"
    },
    {
     "name": "stdout",
     "output_type": "stream",
     "text": [
      "for s = 0.5 a = 10 sA =  2 sd = 2 Ei = 0.9\n",
      "Utility A = 3385.0700000000047 utility D = -5169.879460317595\n"
     ]
    },
    {
     "data": {
      "application/vnd.jupyter.widget-view+json": {
       "model_id": "98afecc71b3647afa98bb0e04d52d870",
       "version_major": 2,
       "version_minor": 0
      },
      "text/plain": [
       "  0%|          | 0/50000 [00:00<?, ?it/s]"
      ]
     },
     "metadata": {},
     "output_type": "display_data"
    },
    {
     "name": "stdout",
     "output_type": "stream",
     "text": [
      "for s = 0.5 a = 10 sA =  2 sd = 3 Ei = 0.1\n",
      "Utility A = 3357.9300000000135 utility D = -6715.860000000118\n"
     ]
    },
    {
     "data": {
      "application/vnd.jupyter.widget-view+json": {
       "model_id": "d9b19d4eb91841f5936a2587d6da26b2",
       "version_major": 2,
       "version_minor": 0
      },
      "text/plain": [
       "  0%|          | 0/50000 [00:00<?, ?it/s]"
      ]
     },
     "metadata": {},
     "output_type": "display_data"
    },
    {
     "name": "stdout",
     "output_type": "stream",
     "text": [
      "for s = 0.5 a = 10 sA =  2 sd = 3 Ei = 0.2\n",
      "Utility A = 3359.0200000000123 utility D = -6718.040000000172\n"
     ]
    },
    {
     "data": {
      "application/vnd.jupyter.widget-view+json": {
       "model_id": "c0760e4d7c154238ab12d5e11cc59079",
       "version_major": 2,
       "version_minor": 0
      },
      "text/plain": [
       "  0%|          | 0/50000 [00:00<?, ?it/s]"
      ]
     },
     "metadata": {},
     "output_type": "display_data"
    },
    {
     "name": "stdout",
     "output_type": "stream",
     "text": [
      "for s = 0.5 a = 10 sA =  2 sd = 3 Ei = 0.3\n",
      "Utility A = 3332.500000000001 utility D = -6665.000000000167\n"
     ]
    },
    {
     "data": {
      "application/vnd.jupyter.widget-view+json": {
       "model_id": "443eaabe719a4dd299cb598b2bbffd90",
       "version_major": 2,
       "version_minor": 0
      },
      "text/plain": [
       "  0%|          | 0/50000 [00:00<?, ?it/s]"
      ]
     },
     "metadata": {},
     "output_type": "display_data"
    },
    {
     "name": "stdout",
     "output_type": "stream",
     "text": [
      "for s = 0.5 a = 10 sA =  2 sd = 3 Ei = 0.4\n",
      "Utility A = 3335.7300000000123 utility D = -6671.460000000177\n"
     ]
    },
    {
     "data": {
      "application/vnd.jupyter.widget-view+json": {
       "model_id": "5fe9a62102b54808907d2080c0107e3a",
       "version_major": 2,
       "version_minor": 0
      },
      "text/plain": [
       "  0%|          | 0/50000 [00:00<?, ?it/s]"
      ]
     },
     "metadata": {},
     "output_type": "display_data"
    },
    {
     "name": "stdout",
     "output_type": "stream",
     "text": [
      "for s = 0.5 a = 10 sA =  2 sd = 3 Ei = 0.5\n",
      "Utility A = 3375.4300000000135 utility D = -6750.860000000115\n"
     ]
    },
    {
     "data": {
      "application/vnd.jupyter.widget-view+json": {
       "model_id": "535b8ae0ec77464abefb7c994332d2cd",
       "version_major": 2,
       "version_minor": 0
      },
      "text/plain": [
       "  0%|          | 0/50000 [00:00<?, ?it/s]"
      ]
     },
     "metadata": {},
     "output_type": "display_data"
    },
    {
     "name": "stdout",
     "output_type": "stream",
     "text": [
      "for s = 0.5 a = 10 sA =  2 sd = 3 Ei = 0.6\n",
      "Utility A = 3366.6700000000187 utility D = -6733.340000000186\n"
     ]
    },
    {
     "data": {
      "application/vnd.jupyter.widget-view+json": {
       "model_id": "508c81d7128747549adbb43ef714ab9f",
       "version_major": 2,
       "version_minor": 0
      },
      "text/plain": [
       "  0%|          | 0/50000 [00:00<?, ?it/s]"
      ]
     },
     "metadata": {},
     "output_type": "display_data"
    },
    {
     "name": "stdout",
     "output_type": "stream",
     "text": [
      "for s = 0.5 a = 10 sA =  2 sd = 3 Ei = 0.7\n",
      "Utility A = 3390.059999999994 utility D = -6780.120000000142\n"
     ]
    },
    {
     "data": {
      "application/vnd.jupyter.widget-view+json": {
       "model_id": "aabf14cce21845759470070724d2ed3f",
       "version_major": 2,
       "version_minor": 0
      },
      "text/plain": [
       "  0%|          | 0/50000 [00:00<?, ?it/s]"
      ]
     },
     "metadata": {},
     "output_type": "display_data"
    },
    {
     "name": "stdout",
     "output_type": "stream",
     "text": [
      "for s = 0.5 a = 10 sA =  2 sd = 3 Ei = 0.8\n",
      "Utility A = 3368.340000000026 utility D = -6736.680000000174\n"
     ]
    },
    {
     "data": {
      "application/vnd.jupyter.widget-view+json": {
       "model_id": "e8379a1c06cc49a9bb5ccf9f83d08680",
       "version_major": 2,
       "version_minor": 0
      },
      "text/plain": [
       "  0%|          | 0/50000 [00:00<?, ?it/s]"
      ]
     },
     "metadata": {},
     "output_type": "display_data"
    },
    {
     "name": "stdout",
     "output_type": "stream",
     "text": [
      "for s = 0.5 a = 10 sA =  2 sd = 3 Ei = 0.9\n",
      "Utility A = 3393.6500000000096 utility D = -6787.3000000001475\n",
      "Утилиты атакующего - [[68806.  3394.]\n",
      " [68139.  3372.]\n",
      " [67709.  3343.]\n",
      " [68005.  3351.]\n",
      " [68101.  3352.]\n",
      " [68143.  3345.]\n",
      " [68336.  3361.]\n",
      " [68124.  3398.]\n",
      " [67748.  3362.]\n",
      " [68349.  3375.]\n",
      " [68208.  3371.]\n",
      " [68043.  3343.]\n",
      " [67813.  3346.]\n",
      " [67789.  3362.]\n",
      " [57435.  3370.]\n",
      " [57866.  3365.]\n",
      " [57986.  3353.]\n",
      " [36355.  3356.]\n",
      " [ 7167.  3385.]]\n",
      "Утилиты обороняющегося - [[-68806.  -6787.]\n",
      " [-68139.  -6744.]\n",
      " [-67709.  -6686.]\n",
      " [-68005.  -6702.]\n",
      " [-68101.  -6703.]\n",
      " [-68143.  -6689.]\n",
      " [-68336.  -6723.]\n",
      " [-68124.  -6796.]\n",
      " [-67748.  -6724.]\n",
      " [-68349.  -6750.]\n",
      " [-68044.  -6510.]\n",
      " [-67696.  -6194.]\n",
      " [-67517.  -6264.]\n",
      " [-67432.  -6211.]\n",
      " [-56980.  -6089.]\n",
      " [-57352.  -6000.]\n",
      " [-57371.  -5812.]\n",
      " [-35604.  -5579.]\n",
      " [ -6343.  -5170.]]\n"
     ]
    },
    {
     "ename": "KeyboardInterrupt",
     "evalue": "",
     "output_type": "error",
     "traceback": [
      "\u001b[0;31m---------------------------------------------------------------------------\u001b[0m",
      "\u001b[0;31mKeyboardInterrupt\u001b[0m                         Traceback (most recent call last)",
      "\u001b[0;32m/tmp/ipykernel_12048/1454761435.py\u001b[0m in \u001b[0;36m<module>\u001b[0;34m\u001b[0m\n\u001b[1;32m    145\u001b[0m \u001b[0mprint\u001b[0m\u001b[0;34m(\u001b[0m\u001b[0;34m\"Утилиты обороняющегося -\"\u001b[0m\u001b[0;34m,\u001b[0m \u001b[0mDefender\u001b[0m\u001b[0;34m)\u001b[0m\u001b[0;34m\u001b[0m\u001b[0;34m\u001b[0m\u001b[0m\n\u001b[1;32m    146\u001b[0m \u001b[0;32mtry\u001b[0m\u001b[0;34m:\u001b[0m\u001b[0;34m\u001b[0m\u001b[0;34m\u001b[0m\u001b[0m\n\u001b[0;32m--> 147\u001b[0;31m     \u001b[0mequlibrium\u001b[0m \u001b[0;34m=\u001b[0m \u001b[0mlist\u001b[0m\u001b[0;34m(\u001b[0m\u001b[0mgame\u001b[0m\u001b[0;34m.\u001b[0m\u001b[0msupport_enumeration\u001b[0m\u001b[0;34m(\u001b[0m\u001b[0;34m)\u001b[0m\u001b[0;34m)\u001b[0m\u001b[0;34m[\u001b[0m\u001b[0;36m0\u001b[0m\u001b[0;34m]\u001b[0m\u001b[0;34m\u001b[0m\u001b[0;34m\u001b[0m\u001b[0m\n\u001b[0m\u001b[1;32m    148\u001b[0m \u001b[0;32mexcept\u001b[0m \u001b[0mIndexError\u001b[0m\u001b[0;34m:\u001b[0m\u001b[0;34m\u001b[0m\u001b[0;34m\u001b[0m\u001b[0m\n\u001b[1;32m    149\u001b[0m     \u001b[0;32mtry\u001b[0m\u001b[0;34m:\u001b[0m\u001b[0;34m\u001b[0m\u001b[0;34m\u001b[0m\u001b[0m\n",
      "\u001b[0;32m~/notebook/notebook/lib/python3.8/site-packages/nashpy/algorithms/support_enumeration.py\u001b[0m in \u001b[0;36msupport_enumeration\u001b[0;34m(A, B, non_degenerate, tol)\u001b[0m\n\u001b[1;32m    243\u001b[0m     \"\"\"\n\u001b[1;32m    244\u001b[0m     \u001b[0mcount\u001b[0m \u001b[0;34m=\u001b[0m \u001b[0;36m0\u001b[0m\u001b[0;34m\u001b[0m\u001b[0;34m\u001b[0m\u001b[0m\n\u001b[0;32m--> 245\u001b[0;31m     for s1, s2, sup1, sup2 in indifference_strategies(\n\u001b[0m\u001b[1;32m    246\u001b[0m         \u001b[0mA\u001b[0m\u001b[0;34m,\u001b[0m \u001b[0mB\u001b[0m\u001b[0;34m,\u001b[0m \u001b[0mnon_degenerate\u001b[0m\u001b[0;34m=\u001b[0m\u001b[0mnon_degenerate\u001b[0m\u001b[0;34m,\u001b[0m \u001b[0mtol\u001b[0m\u001b[0;34m=\u001b[0m\u001b[0mtol\u001b[0m\u001b[0;34m\u001b[0m\u001b[0;34m\u001b[0m\u001b[0m\n\u001b[1;32m    247\u001b[0m     ):\n",
      "\u001b[0;32m~/notebook/notebook/lib/python3.8/site-packages/nashpy/algorithms/support_enumeration.py\u001b[0m in \u001b[0;36mindifference_strategies\u001b[0;34m(A, B, non_degenerate, tol)\u001b[0m\n\u001b[1;32m    137\u001b[0m \u001b[0;34m\u001b[0m\u001b[0m\n\u001b[1;32m    138\u001b[0m     \u001b[0;32mfor\u001b[0m \u001b[0mpair\u001b[0m \u001b[0;32min\u001b[0m \u001b[0mpotential_support_pairs\u001b[0m\u001b[0;34m(\u001b[0m\u001b[0mA\u001b[0m\u001b[0;34m,\u001b[0m \u001b[0mB\u001b[0m\u001b[0;34m,\u001b[0m \u001b[0mnon_degenerate\u001b[0m\u001b[0;34m=\u001b[0m\u001b[0mnon_degenerate\u001b[0m\u001b[0;34m)\u001b[0m\u001b[0;34m:\u001b[0m\u001b[0;34m\u001b[0m\u001b[0;34m\u001b[0m\u001b[0m\n\u001b[0;32m--> 139\u001b[0;31m         \u001b[0ms1\u001b[0m \u001b[0;34m=\u001b[0m \u001b[0msolve_indifference\u001b[0m\u001b[0;34m(\u001b[0m\u001b[0mB\u001b[0m\u001b[0;34m.\u001b[0m\u001b[0mT\u001b[0m\u001b[0;34m,\u001b[0m \u001b[0;34m*\u001b[0m\u001b[0;34m(\u001b[0m\u001b[0mpair\u001b[0m\u001b[0;34m[\u001b[0m\u001b[0;34m:\u001b[0m\u001b[0;34m:\u001b[0m\u001b[0;34m-\u001b[0m\u001b[0;36m1\u001b[0m\u001b[0;34m]\u001b[0m\u001b[0;34m)\u001b[0m\u001b[0;34m)\u001b[0m\u001b[0;34m\u001b[0m\u001b[0;34m\u001b[0m\u001b[0m\n\u001b[0m\u001b[1;32m    140\u001b[0m         \u001b[0ms2\u001b[0m \u001b[0;34m=\u001b[0m \u001b[0msolve_indifference\u001b[0m\u001b[0;34m(\u001b[0m\u001b[0mA\u001b[0m\u001b[0;34m,\u001b[0m \u001b[0;34m*\u001b[0m\u001b[0mpair\u001b[0m\u001b[0;34m)\u001b[0m\u001b[0;34m\u001b[0m\u001b[0;34m\u001b[0m\u001b[0m\n\u001b[1;32m    141\u001b[0m \u001b[0;34m\u001b[0m\u001b[0m\n",
      "\u001b[0;32m~/notebook/notebook/lib/python3.8/site-packages/nashpy/algorithms/support_enumeration.py\u001b[0m in \u001b[0;36msolve_indifference\u001b[0;34m(A, rows, columns)\u001b[0m\n\u001b[1;32m     57\u001b[0m \u001b[0;34m\u001b[0m\u001b[0m\n\u001b[1;32m     58\u001b[0m     \u001b[0;32mif\u001b[0m \u001b[0mzero_columns\u001b[0m \u001b[0;34m!=\u001b[0m \u001b[0mset\u001b[0m\u001b[0;34m(\u001b[0m\u001b[0;34m)\u001b[0m\u001b[0;34m:\u001b[0m\u001b[0;34m\u001b[0m\u001b[0;34m\u001b[0m\u001b[0m\n\u001b[0;32m---> 59\u001b[0;31m         M = np.append(\n\u001b[0m\u001b[1;32m     60\u001b[0m             \u001b[0mM\u001b[0m\u001b[0;34m,\u001b[0m\u001b[0;34m\u001b[0m\u001b[0;34m\u001b[0m\u001b[0m\n\u001b[1;32m     61\u001b[0m             \u001b[0;34m[\u001b[0m\u001b[0;34m[\u001b[0m\u001b[0mint\u001b[0m\u001b[0;34m(\u001b[0m\u001b[0mi\u001b[0m \u001b[0;34m==\u001b[0m \u001b[0mj\u001b[0m\u001b[0;34m)\u001b[0m \u001b[0;32mfor\u001b[0m \u001b[0mi\u001b[0m\u001b[0;34m,\u001b[0m \u001b[0mcol\u001b[0m \u001b[0;32min\u001b[0m \u001b[0menumerate\u001b[0m\u001b[0;34m(\u001b[0m\u001b[0mM\u001b[0m\u001b[0;34m.\u001b[0m\u001b[0mT\u001b[0m\u001b[0;34m)\u001b[0m\u001b[0;34m]\u001b[0m \u001b[0;32mfor\u001b[0m \u001b[0mj\u001b[0m \u001b[0;32min\u001b[0m \u001b[0mzero_columns\u001b[0m\u001b[0;34m]\u001b[0m\u001b[0;34m,\u001b[0m\u001b[0;34m\u001b[0m\u001b[0;34m\u001b[0m\u001b[0m\n",
      "\u001b[0;32m<__array_function__ internals>\u001b[0m in \u001b[0;36mappend\u001b[0;34m(*args, **kwargs)\u001b[0m\n",
      "\u001b[0;32m~/notebook/notebook/lib/python3.8/site-packages/numpy/lib/function_base.py\u001b[0m in \u001b[0;36mappend\u001b[0;34m(arr, values, axis)\u001b[0m\n\u001b[1;32m   4815\u001b[0m         \u001b[0mvalues\u001b[0m \u001b[0;34m=\u001b[0m \u001b[0mravel\u001b[0m\u001b[0;34m(\u001b[0m\u001b[0mvalues\u001b[0m\u001b[0;34m)\u001b[0m\u001b[0;34m\u001b[0m\u001b[0;34m\u001b[0m\u001b[0m\n\u001b[1;32m   4816\u001b[0m         \u001b[0maxis\u001b[0m \u001b[0;34m=\u001b[0m \u001b[0marr\u001b[0m\u001b[0;34m.\u001b[0m\u001b[0mndim\u001b[0m\u001b[0;34m-\u001b[0m\u001b[0;36m1\u001b[0m\u001b[0;34m\u001b[0m\u001b[0;34m\u001b[0m\u001b[0m\n\u001b[0;32m-> 4817\u001b[0;31m     \u001b[0;32mreturn\u001b[0m \u001b[0mconcatenate\u001b[0m\u001b[0;34m(\u001b[0m\u001b[0;34m(\u001b[0m\u001b[0marr\u001b[0m\u001b[0;34m,\u001b[0m \u001b[0mvalues\u001b[0m\u001b[0;34m)\u001b[0m\u001b[0;34m,\u001b[0m \u001b[0maxis\u001b[0m\u001b[0;34m=\u001b[0m\u001b[0maxis\u001b[0m\u001b[0;34m)\u001b[0m\u001b[0;34m\u001b[0m\u001b[0;34m\u001b[0m\u001b[0m\n\u001b[0m\u001b[1;32m   4818\u001b[0m \u001b[0;34m\u001b[0m\u001b[0m\n\u001b[1;32m   4819\u001b[0m \u001b[0;34m\u001b[0m\u001b[0m\n",
      "\u001b[0;32m<__array_function__ internals>\u001b[0m in \u001b[0;36mconcatenate\u001b[0;34m(*args, **kwargs)\u001b[0m\n",
      "\u001b[0;31mKeyboardInterrupt\u001b[0m: "
     ]
    }
   ],
   "source": [
    "#for s in (0.1, 0.2, 0.3, 0.4, 0.5, 0.6, 0.7, 0.8, 0.9):\n",
    "#    for a in range(1, 11, 1):\n",
    "s = 0.5\n",
    "a = 10\n",
    "shape = (19,2) #матрица игры\n",
    "Attacker = np.zeros(shape=shape)\n",
    "Defender = np.zeros(shape=shape)\n",
    "#1 - Proportional 2 - High\n",
    "for strategyA in (1, 2):\n",
    "    #1 - High 2 - Proportional 3 - Nothing\n",
    "    for strategyD in (1, 2, 3):\n",
    "        for Ei in (0.1, 0.2, 0.3, 0.4, 0.5, 0.6, 0.7, 0.8, 0.9):\n",
    "            if strategyA == 1 and strategyD == 1: #A -Proportional, D - High\n",
    "                j = 0\n",
    "                utilityDefender = 0\n",
    "                utilityAttacker = 0\n",
    "                for j in tqdm(range(50000)):\n",
    "                    machineValues = GetMachineValues()\n",
    "                    vulnerableMachineValues = GetVulnerableMachineValues(machineValues)\n",
    "                    importantMachineValues = GetImportantMachineValues(machineValues)\n",
    "                    machineArray = GetMachineArray(machineValues, vulnerableMachineValues, importantMachineValues)\n",
    "                    tmp = ComparisonStrategyPH(machineArray, importantMachineValues, Ei)\n",
    "                    while tmp == True:\n",
    "                        if tmp == True:\n",
    "                            utilityDefender += UtilityDefender(s, a, Ei, machineArray)\n",
    "                            utilityAttacker += UtilityAttacker(machineArray)\n",
    "                            tmp = ComparisonStrategyRPH(machineArray, importantMachineValues, Ei)\n",
    "                        else:\n",
    "                            utilityDefender += UtilityDefender(s, a, Ei, machineArray)\n",
    "                print('for s =', s,'a =', a, 'sA = ', strategyA, 'sd =', strategyD, 'Ei =', Ei)\n",
    "                print('Utility A =', utilityAttacker, 'utility D =', utilityDefender)\n",
    "            elif strategyA == 1 and strategyD == 2:\n",
    "                j = 0\n",
    "                utilityDefender = 0\n",
    "                utilityAttacker = 0\n",
    "                for j in tqdm(range(50000)):\n",
    "                    machineValues = GetMachineValues()\n",
    "                    vulnerableMachineValues = GetVulnerableMachineValues(machineValues)\n",
    "                    importantMachineValues = GetImportantMachineValues(machineValues)\n",
    "                    machineArray = GetMachineArray(machineValues, vulnerableMachineValues, importantMachineValues)\n",
    "                    tmp = ComparisonStrategyPP(machineArray, Ei, a)\n",
    "                    while tmp == True:\n",
    "                        if tmp == True:\n",
    "                            utilityDefender += UtilityDefender(s, a, Ei, machineArray)\n",
    "                            utilityAttacker += UtilityAttacker(machineArray)\n",
    "                            tmp = ComparisonStrategyRPP(machineArray, Ei, a)\n",
    "                        else:\n",
    "                            utilityDefender += UtilityDefender(s, a, Ei, machineArray)\n",
    "                print('for s =', s,'a =', a, 'sA = ', strategyA, 'sd =', strategyD, 'Ei =', Ei)\n",
    "                print('Utility A =', utilityAttacker, 'utility D =', utilityDefender)\n",
    "            elif strategyA == 1 and strategyD == 3:\n",
    "                j = 0\n",
    "                utilityDefender = 0\n",
    "                utilityAttacker = 0\n",
    "                for j in tqdm(range(50000)):\n",
    "                    machineValues = GetMachineValues()\n",
    "                    vulnerableMachineValues = GetVulnerableMachineValues(machineValues)\n",
    "                    importantMachineValues = GetImportantMachineValues(machineValues)\n",
    "                    machineArray = GetMachineArray(machineValues, vulnerableMachineValues, importantMachineValues)\n",
    "                    tmp = ComparisonStrategyPN(machineArray)\n",
    "                    while tmp ==True:\n",
    "                        if tmp == True:\n",
    "                            utilityDefender += UtilityDefender(s, a, Ei, machineArray)\n",
    "                            utilityAttacker += UtilityAttacker(machineArray)\n",
    "                            tmp = ComparisonStrategyRPN(machineArray)\n",
    "                        else:\n",
    "                            utilityDefender += UtilityDefender(s, a, Ei, machineArray)\n",
    "                            break\n",
    "                print('for s =', s,'a =', a, 'sA = ', strategyA, 'sd =', strategyD, 'Ei =', Ei)\n",
    "                print('Utility A =', utilityAttacker, 'utility D =', utilityDefender)\n",
    "            elif strategyA == 2 and strategyD == 1:\n",
    "                j = 0\n",
    "                utilityDefender = 0\n",
    "                utilityAttacker = 0\n",
    "                for j in tqdm(range(50000)):\n",
    "                    machineValues = GetMachineValues()\n",
    "                    vulnerableMachineValues = GetVulnerableMachineValues(machineValues)\n",
    "                    importantMachineValues = GetImportantMachineValues(machineValues)\n",
    "                    machineArray = GetMachineArray(machineValues, vulnerableMachineValues, importantMachineValues)\n",
    "                    tmp = ComparsionStrategyHH(Ei, importantMachineValues, machineArray, a)\n",
    "                    while True:\n",
    "                        if tmp == True:\n",
    "                            utilityDefender += UtilityDefender(s, a, Ei, machineArray)\n",
    "                            utilityAttacker += UtilityAttacker(machineArray)\n",
    "                            tmp = ComparsionStrategyRHH(Ei, importantMachineValues, machineArray, a)\n",
    "                        else:\n",
    "                            utilityDefender += UtilityDefender(s, a, Ei, machineArray)\n",
    "                            break\n",
    "                print('for s =', s,'a =', a, 'sA = ', strategyA, 'sd =', strategyD, 'Ei =', Ei)\n",
    "                print('Utility A =', utilityAttacker, 'utility D =', utilityDefender) \n",
    "            elif strategyA == 2 and strategyD == 2:\n",
    "                j = 0\n",
    "                utilityDefender = 0\n",
    "                utilityAttacker = 0\n",
    "                for j in tqdm(range(50000)):\n",
    "                    machineValues = GetMachineValues()\n",
    "                    vulnerableMachineValues = GetVulnerableMachineValues(machineValues)\n",
    "                    importantMachineValues = GetImportantMachineValues(machineValues)\n",
    "                    machineArray = GetMachineArray(machineValues, vulnerableMachineValues, importantMachineValues)\n",
    "                    tmp = ComparisonStrategyHP(machineArray, Ei, importantMachineValues, a)\n",
    "                    while True:\n",
    "                        if tmp == True:\n",
    "                            utilityDefender += UtilityDefender(s, a, Ei, machineArray)\n",
    "                            utilityAttacker += UtilityAttacker(machineArray)\n",
    "                            tmp = ComparisonStrategyRHP(machineArray, Ei, importantMachineValues, a)\n",
    "                        else:\n",
    "                            utilityDefender += UtilityDefender(s, a, Ei, machineArray)\n",
    "                            break\n",
    "                print('for s =', s,'a =', a, 'sA = ', strategyA, 'sd =', strategyD, 'Ei =', Ei)\n",
    "                print('Utility A =', utilityAttacker, 'utility D =', utilityDefender)\n",
    "            elif strategyA == 2 and strategyD == 3:\n",
    "                j = 0\n",
    "                utilityDefender = 0\n",
    "                utilityAttacker = 0\n",
    "                for j in tqdm(range(50000)):\n",
    "                    machineValues = GetMachineValues()\n",
    "                    vulnerableMachineValues = GetVulnerableMachineValues(machineValues)\n",
    "                    importantMachineValues = GetImportantMachineValues(machineValues)\n",
    "                    machineArray = GetMachineArray(machineValues, vulnerableMachineValues, importantMachineValues)\n",
    "                    tmp = ComparsionStrategyHN(machineArray, importantMachineValues)\n",
    "                    while True:\n",
    "                        if tmp == True:\n",
    "                            utilityDefender += UtilityDefender(s, a, Ei, machineArray)\n",
    "                            utilityAttacker += UtilityAttacker(machineArray)\n",
    "                            tmp = ComparsionStrategyRHN(machineArray, importantMachineValues)\n",
    "                        else:\n",
    "                            utilityDefender += UtilityDefender(s, a, Ei, machineArray)\n",
    "                            break\n",
    "                print('for s =', s,'a =', a, 'sA = ', strategyA, 'sd =', strategyD, 'Ei =', Ei)\n",
    "                print('Utility A =', utilityAttacker, 'utility D =', utilityDefender)\n",
    "            if strategyD == 3:\n",
    "                Attacker[0, strategyA - 1] = round(utilityAttacker)\n",
    "                Defender[0, strategyA - 1] = round(utilityDefender)\n",
    "            elif strategyD == 1:\n",
    "                index = int(Ei * 10)\n",
    "                Attacker[index, strategyA - 1] = round(utilityAttacker)\n",
    "                Defender[index, strategyA - 1] = round(utilityDefender)\n",
    "            elif strategyD == 2:\n",
    "                index = int(Ei * 10) + 9\n",
    "                Attacker[index, strategyA - 1] = round(utilityAttacker)\n",
    "                Defender[index, strategyA - 1] = round(utilityDefender)\n",
    "degenGameTest = False\n",
    "game = nash.Game(Defender, Attacker)\n",
    "print(\"Утилиты атакующего -\", Attacker)\n",
    "print(\"Утилиты обороняющегося -\", Defender)\n",
    "try:\n",
    "    equlibrium = list(game.support_enumeration())[0]\n",
    "except IndexError:\n",
    "    try:\n",
    "        equlibrium = list(game.support_enumeration(non_degenerate=True))[0]\n",
    "    except:\n",
    "        equlibrium = list(game.support_enumeration(non_degenerate=True))\n",
    "        degenGameTest = True\n",
    "print(\"equlibrium\", equlibrium)\n",
    "if degenGameTest == False:\n",
    "    numEqulibriumDefender = np.argmax(equlibrium[0])+1\n",
    "    numEqulibriumAttacker = np.argmax(equlibrium[1])+1\n",
    "else:\n",
    "    numEqulibriumDefender = equlibrium\n",
    "    numEqulibriumAttacker = equlibrium\n",
    "print(\"оптимальная стратегия оброняющегося номер \", numEqulibriumDefender, \"оптимальная стратегия атакующего номер \", numEqulibriumAttacker)\n",
    "\n",
    "#arrayEqlibriumDefender.append(numEqulibriumDefender)\n",
    "#arrayEqlibriumAttecker.append(numEqulibriumAttacker)\n",
    "\n",
    "#print('array Defender - ', '\\n', arrayEqlibriumDefender)\n",
    "#print('arrau Attacker - ', '\\n', arrayEqlibriumAttecker)"
   ]
  },
  {
   "cell_type": "code",
   "execution_count": null,
   "id": "95ccfb4f",
   "metadata": {},
   "outputs": [],
   "source": []
  }
 ],
 "metadata": {
  "kernelspec": {
   "display_name": "Python 3 (ipykernel)",
   "language": "python",
   "name": "python3"
  },
  "language_info": {
   "codemirror_mode": {
    "name": "ipython",
    "version": 3
   },
   "file_extension": ".py",
   "mimetype": "text/x-python",
   "name": "python",
   "nbconvert_exporter": "python",
   "pygments_lexer": "ipython3",
   "version": "3.8.10"
  }
 },
 "nbformat": 4,
 "nbformat_minor": 5
}
