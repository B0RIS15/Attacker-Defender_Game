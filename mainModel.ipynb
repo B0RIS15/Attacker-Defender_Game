{
 "cells": [
  {
   "cell_type": "code",
   "execution_count": 1,
   "id": "b266798f",
   "metadata": {
    "scrolled": true
   },
   "outputs": [
    {
     "data": {
      "application/vnd.jupyter.widget-view+json": {
       "model_id": "99b02de587c34eed83f73956777ab5f8",
       "version_major": 2,
       "version_minor": 0
      },
      "text/plain": [
       "  0%|          | 0/50000 [00:00<?, ?it/s]"
      ]
     },
     "metadata": {},
     "output_type": "display_data"
    },
    {
     "name": "stdout",
     "output_type": "stream",
     "text": [
      "for s = 0.1 a = 1 sA =  1 sd = 1 Ei = 0.1\n",
      "Utility A = 21026.110000001947 utility D = -21049.59666666695\n"
     ]
    },
    {
     "data": {
      "application/vnd.jupyter.widget-view+json": {
       "model_id": "6227b96964a847b48d0bc7a5ca2c2baf",
       "version_major": 2,
       "version_minor": 0
      },
      "text/plain": [
       "  0%|          | 0/50000 [00:00<?, ?it/s]"
      ]
     },
     "metadata": {},
     "output_type": "display_data"
    },
    {
     "name": "stdout",
     "output_type": "stream",
     "text": [
      "for s = 0.1 a = 1 sA =  1 sd = 1 Ei = 0.2\n",
      "Utility A = 20975.490000002057 utility D = -21081.755000001118\n"
     ]
    },
    {
     "data": {
      "application/vnd.jupyter.widget-view+json": {
       "model_id": "85f960795e684f42bcf3881ca24f1269",
       "version_major": 2,
       "version_minor": 0
      },
      "text/plain": [
       "  0%|          | 0/50000 [00:00<?, ?it/s]"
      ]
     },
     "metadata": {},
     "output_type": "display_data"
    },
    {
     "name": "stdout",
     "output_type": "stream",
     "text": [
      "for s = 0.1 a = 1 sA =  1 sd = 1 Ei = 0.3\n",
      "Utility A = 20962.59000000178 utility D = -21232.834285715042\n"
     ]
    },
    {
     "data": {
      "application/vnd.jupyter.widget-view+json": {
       "model_id": "9004c76dcfcd46c696e993a9732b80eb",
       "version_major": 2,
       "version_minor": 0
      },
      "text/plain": [
       "  0%|          | 0/50000 [00:00<?, ?it/s]"
      ]
     },
     "metadata": {},
     "output_type": "display_data"
    },
    {
     "ename": "KeyboardInterrupt",
     "evalue": "",
     "output_type": "error",
     "traceback": [
      "\u001b[0;31m---------------------------------------------------------------------------\u001b[0m",
      "\u001b[0;31mKeyboardInterrupt\u001b[0m                         Traceback (most recent call last)",
      "\u001b[0;32m/tmp/ipykernel_10981/2981346859.py\u001b[0m in \u001b[0;36m<module>\u001b[0;34m\u001b[0m\n\u001b[1;32m    360\u001b[0m                             \u001b[0mimportantMachineValues\u001b[0m \u001b[0;34m=\u001b[0m \u001b[0mGetImportantMachineValues\u001b[0m\u001b[0;34m(\u001b[0m\u001b[0mmachineValues\u001b[0m\u001b[0;34m)\u001b[0m\u001b[0;34m\u001b[0m\u001b[0;34m\u001b[0m\u001b[0m\n\u001b[1;32m    361\u001b[0m                             \u001b[0mmachineArray\u001b[0m \u001b[0;34m=\u001b[0m \u001b[0mGetMachineArray\u001b[0m\u001b[0;34m(\u001b[0m\u001b[0mmachineValues\u001b[0m\u001b[0;34m,\u001b[0m \u001b[0mvulnerableMachineValues\u001b[0m\u001b[0;34m,\u001b[0m \u001b[0mimportantMachineValues\u001b[0m\u001b[0;34m)\u001b[0m\u001b[0;34m\u001b[0m\u001b[0;34m\u001b[0m\u001b[0m\n\u001b[0;32m--> 362\u001b[0;31m                             \u001b[0mtmp\u001b[0m \u001b[0;34m=\u001b[0m \u001b[0mComparisonStrategyPH\u001b[0m\u001b[0;34m(\u001b[0m\u001b[0mmachineArray\u001b[0m\u001b[0;34m,\u001b[0m \u001b[0mimportantMachineValues\u001b[0m\u001b[0;34m,\u001b[0m \u001b[0mEi\u001b[0m\u001b[0;34m)\u001b[0m\u001b[0;34m\u001b[0m\u001b[0;34m\u001b[0m\u001b[0m\n\u001b[0m\u001b[1;32m    363\u001b[0m                             \u001b[0;32mwhile\u001b[0m \u001b[0mtmp\u001b[0m \u001b[0;34m==\u001b[0m \u001b[0;32mTrue\u001b[0m\u001b[0;34m:\u001b[0m\u001b[0;34m\u001b[0m\u001b[0;34m\u001b[0m\u001b[0m\n\u001b[1;32m    364\u001b[0m                                 \u001b[0;32mif\u001b[0m \u001b[0mtmp\u001b[0m \u001b[0;34m==\u001b[0m \u001b[0;32mTrue\u001b[0m\u001b[0;34m:\u001b[0m\u001b[0;34m\u001b[0m\u001b[0;34m\u001b[0m\u001b[0m\n",
      "\u001b[0;32m/tmp/ipykernel_10981/2981346859.py\u001b[0m in \u001b[0;36mComparisonStrategyPH\u001b[0;34m(machineArray, importantMachineValues, Ei)\u001b[0m\n\u001b[1;32m    173\u001b[0m \u001b[0;32mdef\u001b[0m \u001b[0mComparisonStrategyPH\u001b[0m\u001b[0;34m(\u001b[0m\u001b[0mmachineArray\u001b[0m\u001b[0;34m,\u001b[0m \u001b[0mimportantMachineValues\u001b[0m\u001b[0;34m,\u001b[0m \u001b[0mEi\u001b[0m\u001b[0;34m)\u001b[0m\u001b[0;34m:\u001b[0m\u001b[0;34m\u001b[0m\u001b[0;34m\u001b[0m\u001b[0m\n\u001b[1;32m    174\u001b[0m     \u001b[0mattackerProportionalEffort\u001b[0m \u001b[0;34m=\u001b[0m \u001b[0mAttackerStrategyProportional\u001b[0m\u001b[0;34m(\u001b[0m\u001b[0mmachineArray\u001b[0m\u001b[0;34m)\u001b[0m\u001b[0;34m\u001b[0m\u001b[0;34m\u001b[0m\u001b[0m\n\u001b[0;32m--> 175\u001b[0;31m     \u001b[0mDefenderStrategyHigh\u001b[0m\u001b[0;34m(\u001b[0m\u001b[0mEi\u001b[0m\u001b[0;34m,\u001b[0m \u001b[0mimportantMachineValues\u001b[0m\u001b[0;34m,\u001b[0m \u001b[0mmachineArray\u001b[0m\u001b[0;34m,\u001b[0m \u001b[0ma\u001b[0m\u001b[0;34m)\u001b[0m\u001b[0;34m\u001b[0m\u001b[0;34m\u001b[0m\u001b[0m\n\u001b[0m\u001b[1;32m    176\u001b[0m     \u001b[0mcount\u001b[0m \u001b[0;34m=\u001b[0m \u001b[0;36m0\u001b[0m\u001b[0;34m\u001b[0m\u001b[0;34m\u001b[0m\u001b[0m\n\u001b[1;32m    177\u001b[0m     \u001b[0;32mfor\u001b[0m \u001b[0mi\u001b[0m \u001b[0;32min\u001b[0m \u001b[0mrange\u001b[0m\u001b[0;34m(\u001b[0m\u001b[0mlen\u001b[0m\u001b[0;34m(\u001b[0m\u001b[0mmachineArray\u001b[0m\u001b[0;34m)\u001b[0m\u001b[0;34m)\u001b[0m\u001b[0;34m:\u001b[0m\u001b[0;34m\u001b[0m\u001b[0;34m\u001b[0m\u001b[0m\n",
      "\u001b[0;32m/tmp/ipykernel_10981/2981346859.py\u001b[0m in \u001b[0;36mDefenderStrategyHigh\u001b[0;34m(Ei, importantMachineValues, machineArray, a)\u001b[0m\n\u001b[1;32m    167\u001b[0m         \u001b[0mmachineArray\u001b[0m\u001b[0;34m[\u001b[0m\u001b[0mi\u001b[0m\u001b[0;34m]\u001b[0m\u001b[0;34m.\u001b[0m\u001b[0mchangePossibilityProtection\u001b[0m\u001b[0;34m(\u001b[0m\u001b[0;32mFalse\u001b[0m\u001b[0;34m)\u001b[0m\u001b[0;34m\u001b[0m\u001b[0;34m\u001b[0m\u001b[0m\n\u001b[1;32m    168\u001b[0m         \u001b[0mmachineArray\u001b[0m\u001b[0;34m[\u001b[0m\u001b[0mi\u001b[0m\u001b[0;34m]\u001b[0m\u001b[0;34m.\u001b[0m\u001b[0mchangeProtectionLevel\u001b[0m\u001b[0;34m(\u001b[0m\u001b[0;36m0\u001b[0m\u001b[0;34m)\u001b[0m\u001b[0;34m\u001b[0m\u001b[0;34m\u001b[0m\u001b[0m\n\u001b[0;32m--> 169\u001b[0;31m     \u001b[0;32mif\u001b[0m \u001b[0mfloat\u001b[0m\u001b[0;34m(\u001b[0m\u001b[0mCheckCost\u001b[0m\u001b[0;34m(\u001b[0m\u001b[0mstr\u001b[0m\u001b[0;34m(\u001b[0m\u001b[0ma\u001b[0m\u001b[0;34m)\u001b[0m\u001b[0;34m)\u001b[0m\u001b[0;34m)\u001b[0m \u001b[0;34m>\u001b[0m \u001b[0mEi\u001b[0m\u001b[0;34m:\u001b[0m\u001b[0;34m\u001b[0m\u001b[0;34m\u001b[0m\u001b[0m\n\u001b[0m\u001b[1;32m    170\u001b[0m         \u001b[0mmachineArray\u001b[0m\u001b[0;34m[\u001b[0m\u001b[0mimportantMachineValues\u001b[0m \u001b[0;34m-\u001b[0m \u001b[0;36m1\u001b[0m\u001b[0;34m]\u001b[0m\u001b[0;34m.\u001b[0m\u001b[0mchangePossibilityProtection\u001b[0m\u001b[0;34m(\u001b[0m\u001b[0;32mTrue\u001b[0m\u001b[0;34m)\u001b[0m\u001b[0;34m\u001b[0m\u001b[0;34m\u001b[0m\u001b[0m\n\u001b[1;32m    171\u001b[0m         \u001b[0mmachineArray\u001b[0m\u001b[0;34m[\u001b[0m\u001b[0mimportantMachineValues\u001b[0m \u001b[0;34m-\u001b[0m \u001b[0;36m1\u001b[0m\u001b[0;34m]\u001b[0m\u001b[0;34m.\u001b[0m\u001b[0mchangeProtectionLevel\u001b[0m\u001b[0;34m(\u001b[0m\u001b[0mEi\u001b[0m\u001b[0;34m)\u001b[0m\u001b[0;34m\u001b[0m\u001b[0;34m\u001b[0m\u001b[0m\n",
      "\u001b[0;31mKeyboardInterrupt\u001b[0m: "
     ]
    }
   ],
   "source": [
    "import math\n",
    "import numpy as np\n",
    "import random\n",
    "from tqdm.notebook import tqdm\n",
    "import nashpy as nash\n",
    "import matplotlib.pyplot as plt\n",
    "import json\n",
    "\n",
    "\n",
    "class Machine:\n",
    "    \n",
    "    def __init__(self, vulnerable, percentValue, penetrate, protectionLevel, possibilityProtection):\n",
    "        #Уязвима или нет - bool\n",
    "        self.vulnerable = vulnerable\n",
    "        #Значение в сети - %\n",
    "        self.percentValue = percentValue\n",
    "        #Взломана или нет -bool\n",
    "        self.penetrate = penetrate\n",
    "        #Защита - E' * percentValue\n",
    "        self.protectionLevel = protectionLevel\n",
    "        #Возможно ли ее защитить - bool\n",
    "        self.possibilityProtection = possibilityProtection\n",
    "        \n",
    "    def changeVulnerable(self, vulnerable):\n",
    "        self.vulnerable = vulnerable\n",
    "    \n",
    "    def changeCost(self, percentValue):\n",
    "        self.percentValue = float(percentValue)\n",
    "        \n",
    "    def changePenetrate(self, penetrate):\n",
    "        self.penetrate = penetrate\n",
    "    \n",
    "    def changeProtectionLevel(self, protectionLevel):\n",
    "        self.protectionLevel = float(protectionLevel)\n",
    "    \n",
    "    def changePossibilityProtection(self, possibilityProtection):\n",
    "        self.possibilityProtection = possibilityProtection\n",
    "        \n",
    "    def pr(self):\n",
    "        print(self.vulnerable, self.percentValue, self.penetrate)\n",
    "\n",
    "        \n",
    "def printAllvalues(machineValues, vulnerableMachineValues, importantMachineValues):\n",
    "    print('machine values = ', machineValues, 'vulnerable machine values = ', vulnerableMachineValues, 'important machine values =', importantMachineValues)\n",
    "#получаем кол-во машин\n",
    "def GetMachineValues():\n",
    "    machineValues = random.randint(4, 15)\n",
    "    return machineValues\n",
    "#получаем кол-во уязвимых машин \n",
    "def GetVulnerableMachineValues(machineValues):\n",
    "    vulnerableMachineValues = random.randint(1, machineValues)\n",
    "    return vulnerableMachineValues\n",
    "#получаем номер главной машины\n",
    "def GetImportantMachineValues(machineValues):\n",
    "    importantMachineValues = random.randint(1, machineValues)\n",
    "    return importantMachineValues\n",
    "#получаем процент, который занимает главная машина \n",
    "def GetPercentValue():\n",
    "    percentValue = random.randint(30, 65)\n",
    "    return percentValue\n",
    "\n",
    "def GetMachineArray(machineValues, vulnerableMachineValues, importantMachineValues):\n",
    "    machineArray = []\n",
    "    percentValue = GetPercentValue()\n",
    "    reversePercent = ((100 - percentValue) / (machineValues - 1)) / 100\n",
    "    reversePercent = (\"%.2f\" % reversePercent)\n",
    "    for i in range(machineValues):\n",
    "        if i == (importantMachineValues - 1):\n",
    "            tmp = Machine(False, float(percentValue / 100), False, float(0.0), False)\n",
    "        else:\n",
    "            tmp = Machine(False, float(reversePercent), False, float(0.0), False)\n",
    "        machineArray.append(tmp)\n",
    "    #здесь баг - может 2 и более раз сгенерироваться\n",
    "    #одинаковое число и поэтому кол-во машин будет неточным\n",
    "    for i in range(0, vulnerableMachineValues):\n",
    "        j = random.randint(0, machineValues - 1)\n",
    "        machineArray[j].changeVulnerable(True)\n",
    "    return machineArray\n",
    "#возвращает число уязвимых машин, так как из-за бага\n",
    "#прошлое число уязвимых != новому\n",
    "def GetVulnerableMachine(machineValues, machineArray):\n",
    "    vulnerableMachine = 0\n",
    "    for i in range(machineValues):\n",
    "        if machineArray[i].vulnerable == True:\n",
    "            vulnerableMachine += 1\n",
    "    return vulnerableMachine\n",
    "#это все возможные разрывы функции стоимости на данном промежутке 1-10\n",
    "def CheckCost(a):\n",
    "    BreakFunc = {\n",
    "        '1':'1',\n",
    "        '2':'0.5',\n",
    "        '3':'0.333',\n",
    "        '4':'0.25',\n",
    "        '5':'0.2',\n",
    "        '6':'0.166',\n",
    "        '7':'0.142',\n",
    "        '8':'0.125',\n",
    "        '9':'0.111',\n",
    "        '10':'0.1'\n",
    "    }\n",
    "    return BreakFunc[a]\n",
    "\n",
    "def CostFunction(s, a, Ei):\n",
    "    try:\n",
    "        return -(s * Ei * Ei)/(a * Ei - 1)\n",
    "    except ZeroDivisionError:\n",
    "        return 0\n",
    "    #С условием в распределении уровней защиты в стратегиях - не должно быть деления на 0\n",
    "    \n",
    "def UtilityDefender(s, a, Ei, machineArray):\n",
    "    tmp = 0\n",
    "    percent = len(machineArray) / 100\n",
    "    l = 0\n",
    "    for i in range(len(machineArray)):\n",
    "        if machineArray[i].penetrate == True:\n",
    "            l += percent\n",
    "            tmp += CostFunction(s, a, machineArray[i].protectionLevel)\n",
    "    return - l - tmp\n",
    "\n",
    "def UtilityAttacker(machineArray):\n",
    "    percent = len(machineArray) / 100\n",
    "    l = 0\n",
    "    for i in range(len(machineArray)):\n",
    "        if machineArray[i].penetrate == True:\n",
    "            l += percent\n",
    "    return l\n",
    "    \n",
    "def AttackerStrategyProportional(machineArray):\n",
    "    attackerProportionalEffort = []\n",
    "    for i in range(len(machineArray)):\n",
    "        tmp = machineArray[i].percentValue\n",
    "        attackerProportionalEffort.append(tmp)\n",
    "    return attackerProportionalEffort\n",
    "\n",
    "def AttackerStrategyProportionalRedistribution(machineArray):\n",
    "    attackerProportionalEffort = []\n",
    "    for i in range(len(machineArray)):\n",
    "        if machineArray[i].penetrate == False:\n",
    "            tmp = machineArray[i].percentValue\n",
    "            attackerProportionalEffort.append(tmp)\n",
    "        else:\n",
    "            attackerProportionalEffort.append(0)\n",
    "    return attackerProportionalEffort\n",
    "        \n",
    "def AttackerStrategyHigh():\n",
    "    attackerHighEffort = 1\n",
    "    return attackerHighEffort\n",
    "\n",
    "def AttackerStrategyHighRedistribution():\n",
    "    attackerHighEffort = 1\n",
    "    return attackerHighEffort\n",
    "        \n",
    "def DefenderStrategyNothing():\n",
    "    return None\n",
    "    \n",
    "def DefenderStrategyProportional(machineArray, Ei, a):\n",
    "    for i in range(len(machineArray)):\n",
    "        if float(CheckCost(str(a))) < machineArray[i].percentValue * Ei:\n",
    "            machineArray[i].changePossibilityProtection(False)\n",
    "            machineArray[i].changeProtectionLevel(0)\n",
    "        else:\n",
    "            machineArray[i].changePossibilityProtection(True)\n",
    "            machineArray[i].changeProtectionLevel(\"%.2f\" % (machineArray[i].percentValue * Ei))\n",
    "    \n",
    "def DefenderStrategyHigh(Ei, importantMachineValues, machineArray, a):\n",
    "    for i in range(len(machineArray)):\n",
    "        machineArray[i].changePossibilityProtection(False)\n",
    "        machineArray[i].changeProtectionLevel(0)\n",
    "    if float(CheckCost(str(a))) > Ei:\n",
    "        machineArray[importantMachineValues - 1].changePossibilityProtection(True)\n",
    "        machineArray[importantMachineValues - 1].changeProtectionLevel(Ei)       \n",
    "#P-атакующий H-защитник\n",
    "def ComparisonStrategyPH(machineArray, importantMachineValues, Ei):\n",
    "    attackerProportionalEffort = AttackerStrategyProportional(machineArray)\n",
    "    DefenderStrategyHigh(Ei, importantMachineValues, machineArray, a)\n",
    "    count = 0\n",
    "    for i in range(len(machineArray)):\n",
    "        if machineArray[i].vulnerable == True:\n",
    "            if attackerProportionalEffort[i] > machineArray[i].protectionLevel:\n",
    "                machineArray[i].changePenetrate(True)\n",
    "                count += 1\n",
    "    if count > 0:\n",
    "        return True\n",
    "    else:\n",
    "        return False\n",
    "#RP - Redistribution Proportional атакующий H - защитник        \n",
    "def ComparisonStrategyRPH(machineArray, importantMachineValues, Ei):\n",
    "    DefenderStrategyHigh(Ei, importantMachineValues, machineArray, a) \n",
    "    attackerRedistributionProportionalEffort = AttackerStrategyProportionalRedistribution(machineArray)\n",
    "    count = 0\n",
    "    for i in range(len(machineArray)):\n",
    "        if machineArray[i].vulnerable == True and machineArray[i].penetrate == False:\n",
    "            if attackerRedistributionProportionalEffort[i] > machineArray[i].protectionLevel:\n",
    "                machineArray[i].changePenetrate(True)\n",
    "                count += 1\n",
    "    if count > 0:\n",
    "        return True\n",
    "    else:\n",
    "        return False \n",
    "#P-атакующий P-защитник\n",
    "def ComparisonStrategyPP(machineArray, Ei, a):\n",
    "    attackerProportionalEffort = AttackerStrategyProportional(machineArray)\n",
    "    DefenderStrategyProportional(machineArray, Ei, a)\n",
    "    count = 0\n",
    "    for i in range(len(machineArray)):\n",
    "        if machineArray[i].vulnerable == True:\n",
    "            if attackerProportionalEffort[i] > machineArray[i].protectionLevel:\n",
    "                machineArray[i].changePenetrate(True)\n",
    "                count += 1\n",
    "    if count > 0:\n",
    "        return True\n",
    "    else:\n",
    "        return False\n",
    "#RP - атакующий P - защитник\n",
    "def ComparisonStrategyRPP(machineArray, Ei, a):\n",
    "    DefenderStrategyProportional(machineArray, Ei, a)\n",
    "    attackerRedistributionProportionalEffort =  AttackerStrategyProportionalRedistribution(machineArray)\n",
    "    count = 0\n",
    "    for i in range(len(machineArray)):\n",
    "        if machineArray[i].vulnerable == True and machineArray[i].penetrate == False:\n",
    "            if attackerRedistributionProportionalEffort[i] > machineArray[i].protectionLevel:\n",
    "                machineArray[i].changePenetrate(True)\n",
    "                count += 1\n",
    "    if count > 0:\n",
    "        return True\n",
    "    else:\n",
    "        return False\n",
    "#P - атакующий N - защитник\n",
    "def ComparisonStrategyPN(machineArray):\n",
    "    attackerProportionalEffort = AttackerStrategyProportional(machineArray)\n",
    "    count = 0\n",
    "    for i in range(len(machineArray)):\n",
    "        if machineArray[i].vulnerable == True:\n",
    "            if attackerProportionalEffort[i] > machineArray[i].protectionLevel:\n",
    "                machineArray[i].changePenetrate(True)\n",
    "                count += 1\n",
    "    if count > 0:\n",
    "        return True\n",
    "    else:\n",
    "        return False\n",
    "#RP - атакующий N - защитник\n",
    "def ComparisonStrategyRPN(machineArray):\n",
    "    attackerRedistributionProportionalEffort =  AttackerStrategyProportionalRedistribution(machineArray)\n",
    "    count = 0\n",
    "    for i in range(len(machineArray)):\n",
    "        if machineArray[i].vulnerable == True and machineArray[i].penetrate == False:\n",
    "            if attackerRedistributionProportionalEffort[i] > machineArray[i].protectionLevel:\n",
    "                machineArray[i].changePenetrate(True)\n",
    "                count += 1\n",
    "    if count > 0:\n",
    "        return True\n",
    "    else:\n",
    "        return False\n",
    "#H-атакующий P-защитник\n",
    "def ComparisonStrategyHP(machineArray, Ei, importantMachineValues, a):\n",
    "    attackerHighEffort = AttackerStrategyHigh()\n",
    "    DefenderStrategyProportional(machineArray, Ei, a)\n",
    "    if attackerHighEffort > machineArray[importantMachineValues - 1].protectionLevel:\n",
    "        if machineArray[importantMachineValues - 1].vulnerable == True:\n",
    "            machineArray[importantMachineValues - 1].changePenetrate(True)\n",
    "            return True\n",
    "        else:\n",
    "            return False\n",
    "#RH-атакующий P-защитник\n",
    "def ComparisonStrategyRHP(machineArray, Ei, importantMachineValues, a):\n",
    "    attackerHighRedistributionEffort = AttackerStrategyHighRedistribution()\n",
    "    DefenderStrategyProportional(machineArray, Ei, a)\n",
    "    if machineArray[importantMachineValues - 1].vulnerable == True and machineArray[importantMachineValues - 1].penetrate == False:\n",
    "        if attackerHighRedistributionEffort > machineArray[importantMachineValues - 1].protectionLevel:\n",
    "            machineArray[importantMachineValues - 1].changePenetrate(True)\n",
    "            return True\n",
    "        else:\n",
    "            return False\n",
    "#H-атакующий H-защитник\n",
    "def ComparsionStrategyHH(Ei, importantMachineValues, machineArray, a):\n",
    "    attackerHighEffort = AttackerStrategyHigh()\n",
    "    DefenderStrategyHigh(Ei, importantMachineValues, machineArray, a)\n",
    "    if attackerHighEffort > machineArray[importantMachineValues - 1].protectionLevel:\n",
    "        if machineArray[importantMachineValues - 1].vulnerable == True:\n",
    "            machineArray[importantMachineValues - 1].changePenetrate(True)\n",
    "            return True\n",
    "        else:\n",
    "            return False\n",
    "#RH-атакующий H-защитник\n",
    "def ComparsionStrategyRHH(Ei, importantMachineValues, machineArray, a):\n",
    "    attackerHighRedistributionEffort = AttackerStrategyHighRedistribution()\n",
    "    DefenderStrategyHigh(Ei, importantMachineValues, machineArray, a)\n",
    "    if attackerHighRedistributionEffort > machineArray[importantMachineValues - 1].protectionLevel:\n",
    "        if machineArray[importantMachineValues - 1].vulnerable == True and machineArray[importantMachineValues - 1].penetrate == False:\n",
    "            machineArray[importantMachineValues - 1].changePenetrate(True)\n",
    "            return True\n",
    "        else:\n",
    "            return False\n",
    "#H-Атакующий N-защитник\n",
    "def ComparsionStrategyHN(machineArray, importantMachineValues):\n",
    "    attackerHighEffort = AttackerStrategyHigh()\n",
    "    if attackerHighEffort > machineArray[importantMachineValues - 1].percentValue:\n",
    "        if machineArray[importantMachineValues - 1].vulnerable == True:\n",
    "            machineArray[importantMachineValues - 1].changePenetrate(True)\n",
    "            return True\n",
    "        else:\n",
    "            return False\n",
    "#RH-Атакующий N-защитник\n",
    "def ComparsionStrategyRHN(machineArray, importantMachineValues):\n",
    "    attackerHighRedistributionEffort = AttackerStrategyHighRedistribution()\n",
    "    if attackerHighRedistributionEffort > machineArray[importantMachineValues - 1].percentValue:\n",
    "        if machineArray[importantMachineValues - 1].vulnerable == True and machineArray[importantMachineValues - 1].penetrate == False:\n",
    "            machineArray[importantMachineValues - 1].changePenetrate(True)\n",
    "            return True\n",
    "        else:\n",
    "            return False\n",
    "        \n",
    "def CheckStrategyDefender(b):\n",
    "    NumberStrategy = {\n",
    "        '1':'Noting',\n",
    "        '2':'High',\n",
    "        '3':'High',\n",
    "        '4':'High',\n",
    "        '5':'High',\n",
    "        '6':'High',\n",
    "        '7':'High',\n",
    "        '8':'High',\n",
    "        '9':'High',\n",
    "        '10':'High',\n",
    "        '11':'Proportional',\n",
    "        '12':'Proportional',\n",
    "        '13':'Proportional',\n",
    "        '14':'Proportional',\n",
    "        '15':'Proportional',\n",
    "        '16':'Proportional',\n",
    "        '17':'Proportional',\n",
    "        '18':'Proportional',\n",
    "        '19':'Proportional'\n",
    "    }\n",
    "    return NumberStrategy[b]\n",
    "    \n",
    "#def JsonCheck():\n",
    "    \n",
    "    \n",
    "arrayEqlibriumDefender = []\n",
    "arrayEqlibriumAttecker = []\n",
    "\n",
    "for s in (0.1, 0.2, 0.3, 0.4, 0.5, 0.6, 0.7, 0.8, 0.9):\n",
    "    for a in range(1, 11, 1):\n",
    "        shape = (19,2) #матрица игры\n",
    "        Attacker = np.zeros(shape=shape)\n",
    "        Defender = np.zeros(shape=shape)\n",
    "        #1 - Proportional 2 - High\n",
    "        for strategyA in (1, 2):\n",
    "            #1 - High 2 - Proportional 3 - Nothing\n",
    "            for strategyD in (1, 2, 3):\n",
    "                for Ei in (0.1, 0.2, 0.3, 0.4, 0.5, 0.6, 0.7, 0.8, 0.9):\n",
    "                    if strategyA == 1 and strategyD == 1: #A -Proportional, D - High\n",
    "                        j = 0\n",
    "                        utilityDefender = 0\n",
    "                        utilityAttacker = 0\n",
    "                        for j in tqdm(range(50000)):\n",
    "                            machineValues = GetMachineValues()\n",
    "                            vulnerableMachineValues = GetVulnerableMachineValues(machineValues)\n",
    "                            importantMachineValues = GetImportantMachineValues(machineValues)\n",
    "                            machineArray = GetMachineArray(machineValues, vulnerableMachineValues, importantMachineValues)\n",
    "                            tmp = ComparisonStrategyPH(machineArray, importantMachineValues, Ei)\n",
    "                            while tmp == True:\n",
    "                                if tmp == True:\n",
    "                                    utilityDefender += UtilityDefender(s, a, Ei, machineArray)\n",
    "                                    utilityAttacker += UtilityAttacker(machineArray)\n",
    "                                    tmp = ComparisonStrategyRPH(machineArray, importantMachineValues, Ei)\n",
    "                                else:\n",
    "                                    utilityDefender += UtilityDefender(s, a, Ei, machineArray)\n",
    "                        print('for s =', s,'a =', a, 'sA = ', strategyA, 'sd =', strategyD, 'Ei =', Ei)\n",
    "                        print('Utility A =', utilityAttacker, 'utility D =', utilityDefender)\n",
    "                    elif strategyA == 1 and strategyD == 2:\n",
    "                        j = 0\n",
    "                        utilityDefender = 0\n",
    "                        utilityAttacker = 0\n",
    "                        for j in tqdm(range(50000)):\n",
    "                            machineValues = GetMachineValues()\n",
    "                            vulnerableMachineValues = GetVulnerableMachineValues(machineValues)\n",
    "                            importantMachineValues = GetImportantMachineValues(machineValues)\n",
    "                            machineArray = GetMachineArray(machineValues, vulnerableMachineValues, importantMachineValues)\n",
    "                            tmp = ComparisonStrategyPP(machineArray, Ei, a)\n",
    "                            while tmp == True:\n",
    "                                if tmp == True:\n",
    "                                    utilityDefender += UtilityDefender(s, a, Ei, machineArray)\n",
    "                                    utilityAttacker += UtilityAttacker(machineArray)\n",
    "                                    tmp = ComparisonStrategyRPP(machineArray, Ei, a)\n",
    "                                else:\n",
    "                                    utilityDefender += UtilityDefender(s, a, Ei, machineArray)\n",
    "                        print('for s =', s,'a =', a, 'sA = ', strategyA, 'sd =', strategyD, 'Ei =', Ei)\n",
    "                        print('Utility A =', utilityAttacker, 'utility D =', utilityDefender)\n",
    "                    elif strategyA == 1 and strategyD == 3:\n",
    "                        j = 0\n",
    "                        utilityDefender = 0\n",
    "                        utilityAttacker = 0\n",
    "                        for j in tqdm(range(50000)):\n",
    "                            machineValues = GetMachineValues()\n",
    "                            vulnerableMachineValues = GetVulnerableMachineValues(machineValues)\n",
    "                            importantMachineValues = GetImportantMachineValues(machineValues)\n",
    "                            machineArray = GetMachineArray(machineValues, vulnerableMachineValues, importantMachineValues)\n",
    "                            tmp = ComparisonStrategyPN(machineArray)\n",
    "                            while tmp ==True:\n",
    "                                if tmp == True:\n",
    "                                    utilityDefender += UtilityDefender(s, a, Ei, machineArray)\n",
    "                                    utilityAttacker += UtilityAttacker(machineArray)\n",
    "                                    tmp = ComparisonStrategyRPN(machineArray)\n",
    "                                else:\n",
    "                                    utilityDefender += UtilityDefender(s, a, Ei, machineArray)\n",
    "                                    break\n",
    "                        print('for s =', s,'a =', a, 'sA = ', strategyA, 'sd =', strategyD, 'Ei =', Ei)\n",
    "                        print('Utility A =', utilityAttacker, 'utility D =', utilityDefender)\n",
    "                    elif strategyA == 2 and strategyD == 1:\n",
    "                        j = 0\n",
    "                        utilityDefender = 0\n",
    "                        utilityAttacker = 0\n",
    "                        for j in tqdm(range(50000)):\n",
    "                            machineValues = GetMachineValues()\n",
    "                            vulnerableMachineValues = GetVulnerableMachineValues(machineValues)\n",
    "                            importantMachineValues = GetImportantMachineValues(machineValues)\n",
    "                            machineArray = GetMachineArray(machineValues, vulnerableMachineValues, importantMachineValues)\n",
    "                            tmp = ComparsionStrategyHH(Ei, importantMachineValues, machineArray, a)\n",
    "                            while True:\n",
    "                                if tmp == True:\n",
    "                                    utilityDefender += UtilityDefender(s, a, Ei, machineArray)\n",
    "                                    utilityAttacker += UtilityAttacker(machineArray)\n",
    "                                    tmp = ComparsionStrategyRHH(Ei, importantMachineValues, machineArray, a)\n",
    "                                else:\n",
    "                                    utilityDefender += UtilityDefender(s, a, Ei, machineArray)\n",
    "                                    break\n",
    "                        print('for s =', s,'a =', a, 'sA = ', strategyA, 'sd =', strategyD, 'Ei =', Ei)\n",
    "                        print('Utility A =', utilityAttacker, 'utility D =', utilityDefender) \n",
    "                    elif strategyA == 2 and strategyD == 2:\n",
    "                        j = 0\n",
    "                        utilityDefender = 0\n",
    "                        utilityAttacker = 0\n",
    "                        for j in tqdm(range(50000)):\n",
    "                            machineValues = GetMachineValues()\n",
    "                            vulnerableMachineValues = GetVulnerableMachineValues(machineValues)\n",
    "                            importantMachineValues = GetImportantMachineValues(machineValues)\n",
    "                            machineArray = GetMachineArray(machineValues, vulnerableMachineValues, importantMachineValues)\n",
    "                            tmp = ComparisonStrategyHP(machineArray, Ei, importantMachineValues, a)\n",
    "                            while True:\n",
    "                                if tmp == True:\n",
    "                                    utilityDefender += UtilityDefender(s, a, Ei, machineArray)\n",
    "                                    utilityAttacker += UtilityAttacker(machineArray)\n",
    "                                    tmp = ComparisonStrategyRHP(machineArray, Ei, importantMachineValues, a)\n",
    "                                else:\n",
    "                                    utilityDefender += UtilityDefender(s, a, Ei, machineArray)\n",
    "                                    break\n",
    "                        print('for s =', s,'a =', a, 'sA = ', strategyA, 'sd =', strategyD, 'Ei =', Ei)\n",
    "                        print('Utility A =', utilityAttacker, 'utility D =', utilityDefender)\n",
    "                    elif strategyA == 2 and strategyD == 3:\n",
    "                        j = 0\n",
    "                        utilityDefender = 0\n",
    "                        utilityAttacker = 0\n",
    "                        for j in tqdm(range(50000)):\n",
    "                            machineValues = GetMachineValues()\n",
    "                            vulnerableMachineValues = GetVulnerableMachineValues(machineValues)\n",
    "                            importantMachineValues = GetImportantMachineValues(machineValues)\n",
    "                            machineArray = GetMachineArray(machineValues, vulnerableMachineValues, importantMachineValues)\n",
    "                            tmp = ComparsionStrategyHN(machineArray, importantMachineValues)\n",
    "                            while True:\n",
    "                                if tmp == True:\n",
    "                                    utilityDefender += UtilityDefender(s, a, Ei, machineArray)\n",
    "                                    utilityAttacker += UtilityAttacker(machineArray)\n",
    "                                    tmp = ComparsionStrategyRHN(machineArray, importantMachineValues)\n",
    "                                else:\n",
    "                                    utilityDefender += UtilityDefender(s, a, Ei, machineArray)\n",
    "                                    break\n",
    "                        print('for s =', s,'a =', a, 'sA = ', strategyA, 'sd =', strategyD, 'Ei =', Ei)\n",
    "                        print('Utility A =', utilityAttacker, 'utility D =', utilityDefender)\n",
    "                    if strategyD == 3:\n",
    "                        Attacker[0, strategyA - 1] = round(utilityAttacker)\n",
    "                        Defender[0, strategyA - 1] = round(utilityDefender)\n",
    "                    elif strategyD == 1:\n",
    "                        index = int(Ei * 10)\n",
    "                        Attacker[index, strategyA - 1] = round(utilityAttacker)\n",
    "                        Defender[index, strategyA - 1] = round(utilityDefender)\n",
    "                    elif strategyD == 2:\n",
    "                        index = int(Ei * 10) + 9\n",
    "                        Attacker[index, strategyA - 1] = round(utilityAttacker)\n",
    "                        Defender[index, strategyA - 1] = round(utilityDefender)\n",
    "        degenGameTest = False\n",
    "        game = nash.Game(Defender, Attacker)\n",
    "        print(\"Утилиты атакующего -\", Attacker)\n",
    "        print(\"Утилиты обороняющегося -\", Defender)\n",
    "        try:\n",
    "            equlibrium = list(game.support_enumeration())[0]\n",
    "        except IndexError:\n",
    "            try:\n",
    "                equlibrium = list(game.support_enumeration(non_degenerate=True))[0]\n",
    "            except:\n",
    "                equlibrium = list(game.support_enumeration(non_degenerate=True))\n",
    "                degenGameTest = True\n",
    "        print(\"equlibrium\", equlibrium)\n",
    "        if degenGameTest == False:\n",
    "            numEqulibriumDefender = np.argmax(equlibrium[0])+1\n",
    "            numEqulibriumAttacker = np.argmax(equlibrium[1])+1\n",
    "        else:\n",
    "            numEqulibriumDefender = equlibrium\n",
    "            numEqulibriumAttacker = equlibrium\n",
    "        print(\"оптимальная стратегия оброняющегося номер \", numEqulibriumDefender, \"оптимальная стратегия атакующего номер \", numEqulibriumAttacker)\n",
    "        arrayEqlibriumDefender.append(numEqulibriumDefender)\n",
    "        arrayEqlibriumAttecker.append(numEqulibriumAttacker)\n",
    "\n",
    "print('array Defender - ', '\\n', arrayEqlibriumDefender)\n",
    "print('arrau Attacker - ', '\\n', arrayEqlibriumAttecker)"
   ]
  },
  {
   "cell_type": "code",
   "execution_count": 4,
   "id": "e9623afc",
   "metadata": {},
   "outputs": [
    {
     "data": {
      "application/vnd.jupyter.widget-view+json": {
       "model_id": "064f6936357d44a4acba79c098e8e6fe",
       "version_major": 2,
       "version_minor": 0
      },
      "text/plain": [
       "  0%|          | 0/50000 [00:00<?, ?it/s]"
      ]
     },
     "metadata": {},
     "output_type": "display_data"
    },
    {
     "name": "stdout",
     "output_type": "stream",
     "text": [
      "for s = 0.3 a = 9 sA =  1 sd = 1 Ei = 0.1\n",
      "Utility A = 20979.96000000171 utility D = -21620.190000001123\n"
     ]
    },
    {
     "data": {
      "application/vnd.jupyter.widget-view+json": {
       "model_id": "9e6c69de9b604f73b2f822440e5050f8",
       "version_major": 2,
       "version_minor": 0
      },
      "text/plain": [
       "  0%|          | 0/50000 [00:00<?, ?it/s]"
      ]
     },
     "metadata": {},
     "output_type": "display_data"
    },
    {
     "name": "stdout",
     "output_type": "stream",
     "text": [
      "for s = 0.3 a = 9 sA =  1 sd = 1 Ei = 0.2\n",
      "Utility A = 20961.23000000181 utility D = -20961.23000000181\n"
     ]
    },
    {
     "data": {
      "application/vnd.jupyter.widget-view+json": {
       "model_id": "0f464f6f15f447b0b21940fcc2e995ed",
       "version_major": 2,
       "version_minor": 0
      },
      "text/plain": [
       "  0%|          | 0/50000 [00:00<?, ?it/s]"
      ]
     },
     "metadata": {},
     "output_type": "display_data"
    },
    {
     "name": "stdout",
     "output_type": "stream",
     "text": [
      "for s = 0.3 a = 9 sA =  1 sd = 1 Ei = 0.3\n",
      "Utility A = 20888.610000001852 utility D = -20888.610000001852\n"
     ]
    },
    {
     "data": {
      "application/vnd.jupyter.widget-view+json": {
       "model_id": "11a2455fcea5418ab0a6c86ab518b0ad",
       "version_major": 2,
       "version_minor": 0
      },
      "text/plain": [
       "  0%|          | 0/50000 [00:00<?, ?it/s]"
      ]
     },
     "metadata": {},
     "output_type": "display_data"
    },
    {
     "name": "stdout",
     "output_type": "stream",
     "text": [
      "for s = 0.3 a = 9 sA =  1 sd = 1 Ei = 0.4\n",
      "Utility A = 21096.960000001895 utility D = -21096.960000001895\n"
     ]
    },
    {
     "data": {
      "application/vnd.jupyter.widget-view+json": {
       "model_id": "c7af080ab9c94fa992cdd00849d3fa2d",
       "version_major": 2,
       "version_minor": 0
      },
      "text/plain": [
       "  0%|          | 0/50000 [00:00<?, ?it/s]"
      ]
     },
     "metadata": {},
     "output_type": "display_data"
    },
    {
     "name": "stdout",
     "output_type": "stream",
     "text": [
      "for s = 0.3 a = 9 sA =  1 sd = 1 Ei = 0.5\n",
      "Utility A = 20980.110000001834 utility D = -20980.110000001834\n"
     ]
    },
    {
     "data": {
      "application/vnd.jupyter.widget-view+json": {
       "model_id": "38d5d17c3946487094d3cd10a1e170c1",
       "version_major": 2,
       "version_minor": 0
      },
      "text/plain": [
       "  0%|          | 0/50000 [00:00<?, ?it/s]"
      ]
     },
     "metadata": {},
     "output_type": "display_data"
    },
    {
     "name": "stdout",
     "output_type": "stream",
     "text": [
      "for s = 0.3 a = 9 sA =  1 sd = 1 Ei = 0.6\n",
      "Utility A = 20951.49000000195 utility D = -20951.49000000195\n"
     ]
    },
    {
     "data": {
      "application/vnd.jupyter.widget-view+json": {
       "model_id": "5c09299a19924f9bbe0df79324138169",
       "version_major": 2,
       "version_minor": 0
      },
      "text/plain": [
       "  0%|          | 0/50000 [00:00<?, ?it/s]"
      ]
     },
     "metadata": {},
     "output_type": "display_data"
    },
    {
     "name": "stdout",
     "output_type": "stream",
     "text": [
      "for s = 0.3 a = 9 sA =  1 sd = 1 Ei = 0.7\n",
      "Utility A = 21015.25000000174 utility D = -21015.25000000174\n"
     ]
    },
    {
     "data": {
      "application/vnd.jupyter.widget-view+json": {
       "model_id": "30ecdcadd7564d1dbfe54ae160b8a8b2",
       "version_major": 2,
       "version_minor": 0
      },
      "text/plain": [
       "  0%|          | 0/50000 [00:00<?, ?it/s]"
      ]
     },
     "metadata": {},
     "output_type": "display_data"
    },
    {
     "name": "stdout",
     "output_type": "stream",
     "text": [
      "for s = 0.3 a = 9 sA =  1 sd = 1 Ei = 0.8\n",
      "Utility A = 20933.12000000186 utility D = -20933.12000000186\n"
     ]
    },
    {
     "data": {
      "application/vnd.jupyter.widget-view+json": {
       "model_id": "7899eea2683446f0a2ee55b0a4f88f52",
       "version_major": 2,
       "version_minor": 0
      },
      "text/plain": [
       "  0%|          | 0/50000 [00:00<?, ?it/s]"
      ]
     },
     "metadata": {},
     "output_type": "display_data"
    },
    {
     "name": "stdout",
     "output_type": "stream",
     "text": [
      "for s = 0.3 a = 9 sA =  1 sd = 1 Ei = 0.9\n",
      "Utility A = 21058.790000001973 utility D = -21058.790000001973\n"
     ]
    },
    {
     "data": {
      "application/vnd.jupyter.widget-view+json": {
       "model_id": "64e53909a74040e4bbb2ad86a13bd843",
       "version_major": 2,
       "version_minor": 0
      },
      "text/plain": [
       "  0%|          | 0/50000 [00:00<?, ?it/s]"
      ]
     },
     "metadata": {},
     "output_type": "display_data"
    },
    {
     "name": "stdout",
     "output_type": "stream",
     "text": [
      "for s = 0.3 a = 9 sA =  1 sd = 2 Ei = 0.1\n",
      "Utility A = 20861.240000001857 utility D = -20895.118659375086\n"
     ]
    },
    {
     "data": {
      "application/vnd.jupyter.widget-view+json": {
       "model_id": "cb7f74cb479449c9b10ff4b17ff40e27",
       "version_major": 2,
       "version_minor": 0
      },
      "text/plain": [
       "  0%|          | 0/50000 [00:00<?, ?it/s]"
      ]
     },
     "metadata": {},
     "output_type": "display_data"
    },
    {
     "name": "stdout",
     "output_type": "stream",
     "text": [
      "for s = 0.3 a = 9 sA =  1 sd = 2 Ei = 0.2\n",
      "Utility A = 20898.100000001796 utility D = -21738.78497436471\n"
     ]
    },
    {
     "data": {
      "application/vnd.jupyter.widget-view+json": {
       "model_id": "d3560dd085434682a06ec73edceb69d6",
       "version_major": 2,
       "version_minor": 0
      },
      "text/plain": [
       "  0%|          | 0/50000 [00:00<?, ?it/s]"
      ]
     },
     "metadata": {},
     "output_type": "display_data"
    },
    {
     "name": "stdout",
     "output_type": "stream",
     "text": [
      "for s = 0.3 a = 9 sA =  1 sd = 2 Ei = 0.3\n",
      "Utility A = 21177.690000001643 utility D = -21741.32031391858\n"
     ]
    },
    {
     "data": {
      "application/vnd.jupyter.widget-view+json": {
       "model_id": "68bc9561d5bd4d8185bc8efc14486f9c",
       "version_major": 2,
       "version_minor": 0
      },
      "text/plain": [
       "  0%|          | 0/50000 [00:00<?, ?it/s]"
      ]
     },
     "metadata": {},
     "output_type": "display_data"
    },
    {
     "name": "stdout",
     "output_type": "stream",
     "text": [
      "for s = 0.3 a = 9 sA =  1 sd = 2 Ei = 0.4\n",
      "Utility A = 21158.920000001806 utility D = -21246.765832322282\n"
     ]
    },
    {
     "data": {
      "application/vnd.jupyter.widget-view+json": {
       "model_id": "d076682d1b384e438b6b295c76e9607d",
       "version_major": 2,
       "version_minor": 0
      },
      "text/plain": [
       "  0%|          | 0/50000 [00:00<?, ?it/s]"
      ]
     },
     "metadata": {},
     "output_type": "display_data"
    },
    {
     "name": "stdout",
     "output_type": "stream",
     "text": [
      "for s = 0.3 a = 9 sA =  1 sd = 2 Ei = 0.5\n",
      "Utility A = 20975.330000001704 utility D = -21354.93084220638\n"
     ]
    },
    {
     "data": {
      "application/vnd.jupyter.widget-view+json": {
       "model_id": "1a180142f7504978a665f7a3daf740c9",
       "version_major": 2,
       "version_minor": 0
      },
      "text/plain": [
       "  0%|          | 0/50000 [00:00<?, ?it/s]"
      ]
     },
     "metadata": {},
     "output_type": "display_data"
    },
    {
     "name": "stdout",
     "output_type": "stream",
     "text": [
      "for s = 0.3 a = 9 sA =  1 sd = 2 Ei = 0.6\n",
      "Utility A = 21056.390000001957 utility D = -21497.3261389377\n"
     ]
    },
    {
     "data": {
      "application/vnd.jupyter.widget-view+json": {
       "model_id": "9b7f16ba0ffe4ad595768bdc72328644",
       "version_major": 2,
       "version_minor": 0
      },
      "text/plain": [
       "  0%|          | 0/50000 [00:00<?, ?it/s]"
      ]
     },
     "metadata": {},
     "output_type": "display_data"
    },
    {
     "name": "stdout",
     "output_type": "stream",
     "text": [
      "for s = 0.3 a = 9 sA =  1 sd = 2 Ei = 0.7\n",
      "Utility A = 20979.19000000204 utility D = -21301.58231146339\n"
     ]
    },
    {
     "data": {
      "application/vnd.jupyter.widget-view+json": {
       "model_id": "3589d619bc0c451bbbc2685c5a4dc4b8",
       "version_major": 2,
       "version_minor": 0
      },
      "text/plain": [
       "  0%|          | 0/50000 [00:00<?, ?it/s]"
      ]
     },
     "metadata": {},
     "output_type": "display_data"
    },
    {
     "name": "stdout",
     "output_type": "stream",
     "text": [
      "for s = 0.3 a = 9 sA =  1 sd = 2 Ei = 0.8\n",
      "Utility A = 21083.630000001693 utility D = -21510.698116837008\n"
     ]
    },
    {
     "data": {
      "application/vnd.jupyter.widget-view+json": {
       "model_id": "f42102b1eff944fab15cb5e57394980e",
       "version_major": 2,
       "version_minor": 0
      },
      "text/plain": [
       "  0%|          | 0/50000 [00:00<?, ?it/s]"
      ]
     },
     "metadata": {},
     "output_type": "display_data"
    },
    {
     "name": "stdout",
     "output_type": "stream",
     "text": [
      "for s = 0.3 a = 9 sA =  1 sd = 2 Ei = 0.9\n",
      "Utility A = 8451.889999999696 utility D = -10123.448896860336\n"
     ]
    },
    {
     "data": {
      "application/vnd.jupyter.widget-view+json": {
       "model_id": "422583cfe1764022a2344e27701f9107",
       "version_major": 2,
       "version_minor": 0
      },
      "text/plain": [
       "  0%|          | 0/50000 [00:00<?, ?it/s]"
      ]
     },
     "metadata": {},
     "output_type": "display_data"
    },
    {
     "name": "stdout",
     "output_type": "stream",
     "text": [
      "for s = 0.3 a = 9 sA =  1 sd = 3 Ei = 0.1\n",
      "Utility A = 21043.020000001696 utility D = -21043.020000001696\n"
     ]
    },
    {
     "data": {
      "application/vnd.jupyter.widget-view+json": {
       "model_id": "0a65cf8f60f7487e935e8853fdef7b2b",
       "version_major": 2,
       "version_minor": 0
      },
      "text/plain": [
       "  0%|          | 0/50000 [00:00<?, ?it/s]"
      ]
     },
     "metadata": {},
     "output_type": "display_data"
    },
    {
     "name": "stdout",
     "output_type": "stream",
     "text": [
      "for s = 0.3 a = 9 sA =  1 sd = 3 Ei = 0.2\n",
      "Utility A = 20915.090000001695 utility D = -20915.090000001695\n"
     ]
    },
    {
     "data": {
      "application/vnd.jupyter.widget-view+json": {
       "model_id": "5638ec78eca7491c871f771ff05b332b",
       "version_major": 2,
       "version_minor": 0
      },
      "text/plain": [
       "  0%|          | 0/50000 [00:00<?, ?it/s]"
      ]
     },
     "metadata": {},
     "output_type": "display_data"
    },
    {
     "name": "stdout",
     "output_type": "stream",
     "text": [
      "for s = 0.3 a = 9 sA =  1 sd = 3 Ei = 0.3\n",
      "Utility A = 20979.080000001868 utility D = -20979.080000001868\n"
     ]
    },
    {
     "data": {
      "application/vnd.jupyter.widget-view+json": {
       "model_id": "e651d655e87643cc9a530001ed81e6eb",
       "version_major": 2,
       "version_minor": 0
      },
      "text/plain": [
       "  0%|          | 0/50000 [00:00<?, ?it/s]"
      ]
     },
     "metadata": {},
     "output_type": "display_data"
    },
    {
     "name": "stdout",
     "output_type": "stream",
     "text": [
      "for s = 0.3 a = 9 sA =  1 sd = 3 Ei = 0.4\n",
      "Utility A = 21060.850000001952 utility D = -21060.850000001952\n"
     ]
    },
    {
     "data": {
      "application/vnd.jupyter.widget-view+json": {
       "model_id": "8dff1659b05e4ac487043c3852d33320",
       "version_major": 2,
       "version_minor": 0
      },
      "text/plain": [
       "  0%|          | 0/50000 [00:00<?, ?it/s]"
      ]
     },
     "metadata": {},
     "output_type": "display_data"
    },
    {
     "name": "stdout",
     "output_type": "stream",
     "text": [
      "for s = 0.3 a = 9 sA =  1 sd = 3 Ei = 0.5\n",
      "Utility A = 20909.710000001825 utility D = -20909.710000001825\n"
     ]
    },
    {
     "data": {
      "application/vnd.jupyter.widget-view+json": {
       "model_id": "5cc61dde9f4c41ba929e5a7cc6948790",
       "version_major": 2,
       "version_minor": 0
      },
      "text/plain": [
       "  0%|          | 0/50000 [00:00<?, ?it/s]"
      ]
     },
     "metadata": {},
     "output_type": "display_data"
    },
    {
     "name": "stdout",
     "output_type": "stream",
     "text": [
      "for s = 0.3 a = 9 sA =  1 sd = 3 Ei = 0.6\n",
      "Utility A = 20907.510000001734 utility D = -20907.510000001734\n"
     ]
    },
    {
     "data": {
      "application/vnd.jupyter.widget-view+json": {
       "model_id": "5eb76dcd6ade4f7cbfe639136aa7786c",
       "version_major": 2,
       "version_minor": 0
      },
      "text/plain": [
       "  0%|          | 0/50000 [00:00<?, ?it/s]"
      ]
     },
     "metadata": {},
     "output_type": "display_data"
    },
    {
     "name": "stdout",
     "output_type": "stream",
     "text": [
      "for s = 0.3 a = 9 sA =  1 sd = 3 Ei = 0.7\n",
      "Utility A = 20988.890000001957 utility D = -20988.890000001957\n"
     ]
    },
    {
     "data": {
      "application/vnd.jupyter.widget-view+json": {
       "model_id": "18ad3a88b21a41dd8c99fa723ac04093",
       "version_major": 2,
       "version_minor": 0
      },
      "text/plain": [
       "  0%|          | 0/50000 [00:00<?, ?it/s]"
      ]
     },
     "metadata": {},
     "output_type": "display_data"
    },
    {
     "name": "stdout",
     "output_type": "stream",
     "text": [
      "for s = 0.3 a = 9 sA =  1 sd = 3 Ei = 0.8\n",
      "Utility A = 20957.230000001873 utility D = -20957.230000001873\n"
     ]
    },
    {
     "data": {
      "application/vnd.jupyter.widget-view+json": {
       "model_id": "101e3dd62aa14c28886e69637c4ec2fa",
       "version_major": 2,
       "version_minor": 0
      },
      "text/plain": [
       "  0%|          | 0/50000 [00:00<?, ?it/s]"
      ]
     },
     "metadata": {},
     "output_type": "display_data"
    },
    {
     "name": "stdout",
     "output_type": "stream",
     "text": [
      "for s = 0.3 a = 9 sA =  1 sd = 3 Ei = 0.9\n",
      "Utility A = 20918.35000000173 utility D = -20918.35000000173\n"
     ]
    },
    {
     "data": {
      "application/vnd.jupyter.widget-view+json": {
       "model_id": "dab19a81f4fe4627b1182711d4b3c367",
       "version_major": 2,
       "version_minor": 0
      },
      "text/plain": [
       "  0%|          | 0/50000 [00:00<?, ?it/s]"
      ]
     },
     "metadata": {},
     "output_type": "display_data"
    },
    {
     "name": "stdout",
     "output_type": "stream",
     "text": [
      "for s = 0.3 a = 9 sA =  2 sd = 1 Ei = 0.1\n",
      "Utility A = 1987.0199999996664 utility D = -5260.679999999973\n"
     ]
    },
    {
     "data": {
      "application/vnd.jupyter.widget-view+json": {
       "model_id": "7cc19daab8ea48e6a30c65004e3650fb",
       "version_major": 2,
       "version_minor": 0
      },
      "text/plain": [
       "  0%|          | 0/50000 [00:00<?, ?it/s]"
      ]
     },
     "metadata": {},
     "output_type": "display_data"
    },
    {
     "name": "stdout",
     "output_type": "stream",
     "text": [
      "for s = 0.3 a = 9 sA =  2 sd = 1 Ei = 0.2\n",
      "Utility A = 1968.619999999672 utility D = -3937.240000000158\n"
     ]
    },
    {
     "data": {
      "application/vnd.jupyter.widget-view+json": {
       "model_id": "83026ba1efc54634848ff03a299fc4af",
       "version_major": 2,
       "version_minor": 0
      },
      "text/plain": [
       "  0%|          | 0/50000 [00:00<?, ?it/s]"
      ]
     },
     "metadata": {},
     "output_type": "display_data"
    },
    {
     "name": "stdout",
     "output_type": "stream",
     "text": [
      "for s = 0.3 a = 9 sA =  2 sd = 1 Ei = 0.3\n",
      "Utility A = 1971.3599999996634 utility D = -3942.72000000026\n"
     ]
    },
    {
     "data": {
      "application/vnd.jupyter.widget-view+json": {
       "model_id": "4aec25f20d134bfda09bbd132a9753b6",
       "version_major": 2,
       "version_minor": 0
      },
      "text/plain": [
       "  0%|          | 0/50000 [00:00<?, ?it/s]"
      ]
     },
     "metadata": {},
     "output_type": "display_data"
    },
    {
     "name": "stdout",
     "output_type": "stream",
     "text": [
      "for s = 0.3 a = 9 sA =  2 sd = 1 Ei = 0.4\n",
      "Utility A = 1971.1999999996572 utility D = -3942.4000000002284\n"
     ]
    },
    {
     "data": {
      "application/vnd.jupyter.widget-view+json": {
       "model_id": "e279507e016a4338998b9f4ed708ba31",
       "version_major": 2,
       "version_minor": 0
      },
      "text/plain": [
       "  0%|          | 0/50000 [00:00<?, ?it/s]"
      ]
     },
     "metadata": {},
     "output_type": "display_data"
    },
    {
     "name": "stdout",
     "output_type": "stream",
     "text": [
      "for s = 0.3 a = 9 sA =  2 sd = 1 Ei = 0.5\n",
      "Utility A = 1974.8899999996784 utility D = -3949.780000000211\n"
     ]
    },
    {
     "data": {
      "application/vnd.jupyter.widget-view+json": {
       "model_id": "03ee17dda7244c439f1e2e2a8ba8bd49",
       "version_major": 2,
       "version_minor": 0
      },
      "text/plain": [
       "  0%|          | 0/50000 [00:00<?, ?it/s]"
      ]
     },
     "metadata": {},
     "output_type": "display_data"
    },
    {
     "name": "stdout",
     "output_type": "stream",
     "text": [
      "for s = 0.3 a = 9 sA =  2 sd = 1 Ei = 0.6\n",
      "Utility A = 1981.4299999996654 utility D = -3962.8600000002234\n"
     ]
    },
    {
     "data": {
      "application/vnd.jupyter.widget-view+json": {
       "model_id": "317a82e570084960b433cf72b1b95709",
       "version_major": 2,
       "version_minor": 0
      },
      "text/plain": [
       "  0%|          | 0/50000 [00:00<?, ?it/s]"
      ]
     },
     "metadata": {},
     "output_type": "display_data"
    },
    {
     "name": "stdout",
     "output_type": "stream",
     "text": [
      "for s = 0.3 a = 9 sA =  2 sd = 1 Ei = 0.7\n",
      "Utility A = 1963.6799999996651 utility D = -3927.3600000001798\n"
     ]
    },
    {
     "data": {
      "application/vnd.jupyter.widget-view+json": {
       "model_id": "e7009d13f5944458b3cbc8edc3d6f30b",
       "version_major": 2,
       "version_minor": 0
      },
      "text/plain": [
       "  0%|          | 0/50000 [00:00<?, ?it/s]"
      ]
     },
     "metadata": {},
     "output_type": "display_data"
    },
    {
     "name": "stdout",
     "output_type": "stream",
     "text": [
      "for s = 0.3 a = 9 sA =  2 sd = 1 Ei = 0.8\n",
      "Utility A = 1968.9399999996815 utility D = -3937.880000000222\n"
     ]
    },
    {
     "data": {
      "application/vnd.jupyter.widget-view+json": {
       "model_id": "4124e96f79e4446aa1e1cfaf0d9262c2",
       "version_major": 2,
       "version_minor": 0
      },
      "text/plain": [
       "  0%|          | 0/50000 [00:00<?, ?it/s]"
      ]
     },
     "metadata": {},
     "output_type": "display_data"
    },
    {
     "name": "stdout",
     "output_type": "stream",
     "text": [
      "for s = 0.3 a = 9 sA =  2 sd = 1 Ei = 0.9\n",
      "Utility A = 1995.0399999996628 utility D = -3990.080000000231\n"
     ]
    },
    {
     "data": {
      "application/vnd.jupyter.widget-view+json": {
       "model_id": "c2f957a473e342a09bf35881701667a4",
       "version_major": 2,
       "version_minor": 0
      },
      "text/plain": [
       "  0%|          | 0/50000 [00:00<?, ?it/s]"
      ]
     },
     "metadata": {},
     "output_type": "display_data"
    },
    {
     "name": "stdout",
     "output_type": "stream",
     "text": [
      "for s = 0.3 a = 9 sA =  2 sd = 2 Ei = 0.1\n",
      "Utility A = 1979.6199999996625 utility D = -4018.220833726977\n"
     ]
    },
    {
     "data": {
      "application/vnd.jupyter.widget-view+json": {
       "model_id": "f870c3a7ef7f46e3bab6256fc331f026",
       "version_major": 2,
       "version_minor": 0
      },
      "text/plain": [
       "  0%|          | 0/50000 [00:00<?, ?it/s]"
      ]
     },
     "metadata": {},
     "output_type": "display_data"
    },
    {
     "name": "stdout",
     "output_type": "stream",
     "text": [
      "for s = 0.3 a = 9 sA =  2 sd = 2 Ei = 0.2\n",
      "Utility A = 1983.7299999996899 utility D = -5529.672898050131\n"
     ]
    },
    {
     "data": {
      "application/vnd.jupyter.widget-view+json": {
       "model_id": "073b1cab6d674937b9b005c2df106615",
       "version_major": 2,
       "version_minor": 0
      },
      "text/plain": [
       "  0%|          | 0/50000 [00:00<?, ?it/s]"
      ]
     },
     "metadata": {},
     "output_type": "display_data"
    },
    {
     "name": "stdout",
     "output_type": "stream",
     "text": [
      "for s = 0.3 a = 9 sA =  2 sd = 2 Ei = 0.3\n",
      "Utility A = 1976.7899999996632 utility D = -4988.044421052958\n"
     ]
    },
    {
     "data": {
      "application/vnd.jupyter.widget-view+json": {
       "model_id": "efd134add6c54343a6be2922e4a26451",
       "version_major": 2,
       "version_minor": 0
      },
      "text/plain": [
       "  0%|          | 0/50000 [00:00<?, ?it/s]"
      ]
     },
     "metadata": {},
     "output_type": "display_data"
    },
    {
     "name": "stdout",
     "output_type": "stream",
     "text": [
      "for s = 0.3 a = 9 sA =  2 sd = 2 Ei = 0.4\n",
      "Utility A = 1981.509999999648 utility D = -3963.020000000237\n"
     ]
    },
    {
     "data": {
      "application/vnd.jupyter.widget-view+json": {
       "model_id": "d8613692f9cc405489c6ee0a5ee51c59",
       "version_major": 2,
       "version_minor": 0
      },
      "text/plain": [
       "  0%|          | 0/50000 [00:00<?, ?it/s]"
      ]
     },
     "metadata": {},
     "output_type": "display_data"
    },
    {
     "name": "stdout",
     "output_type": "stream",
     "text": [
      "for s = 0.3 a = 9 sA =  2 sd = 2 Ei = 0.5\n",
      "Utility A = 1979.9799999996756 utility D = -3959.960000000273\n"
     ]
    },
    {
     "data": {
      "application/vnd.jupyter.widget-view+json": {
       "model_id": "c4758aa62846419393c4534f79f765e7",
       "version_major": 2,
       "version_minor": 0
      },
      "text/plain": [
       "  0%|          | 0/50000 [00:00<?, ?it/s]"
      ]
     },
     "metadata": {},
     "output_type": "display_data"
    },
    {
     "name": "stdout",
     "output_type": "stream",
     "text": [
      "for s = 0.3 a = 9 sA =  2 sd = 2 Ei = 0.6\n",
      "Utility A = 2000.3999999996606 utility D = -4000.8000000002\n"
     ]
    },
    {
     "data": {
      "application/vnd.jupyter.widget-view+json": {
       "model_id": "7c39ccf6f2b44c6b8bf7e9a33149e10c",
       "version_major": 2,
       "version_minor": 0
      },
      "text/plain": [
       "  0%|          | 0/50000 [00:00<?, ?it/s]"
      ]
     },
     "metadata": {},
     "output_type": "display_data"
    },
    {
     "name": "stdout",
     "output_type": "stream",
     "text": [
      "for s = 0.3 a = 9 sA =  2 sd = 2 Ei = 0.7\n",
      "Utility A = 1977.1099999996682 utility D = -3954.220000000234\n"
     ]
    },
    {
     "data": {
      "application/vnd.jupyter.widget-view+json": {
       "model_id": "18f768a60ce342bda01f90cc4101d07e",
       "version_major": 2,
       "version_minor": 0
      },
      "text/plain": [
       "  0%|          | 0/50000 [00:00<?, ?it/s]"
      ]
     },
     "metadata": {},
     "output_type": "display_data"
    },
    {
     "name": "stdout",
     "output_type": "stream",
     "text": [
      "for s = 0.3 a = 9 sA =  2 sd = 2 Ei = 0.8\n",
      "Utility A = 1990.419999999648 utility D = -3980.840000000246\n"
     ]
    },
    {
     "data": {
      "application/vnd.jupyter.widget-view+json": {
       "model_id": "8f529032c68a434e994e61f25ef405ef",
       "version_major": 2,
       "version_minor": 0
      },
      "text/plain": [
       "  0%|          | 0/50000 [00:00<?, ?it/s]"
      ]
     },
     "metadata": {},
     "output_type": "display_data"
    },
    {
     "name": "stdout",
     "output_type": "stream",
     "text": [
      "for s = 0.3 a = 9 sA =  2 sd = 2 Ei = 0.9\n",
      "Utility A = 1963.2799999996812 utility D = -3926.5600000001928\n"
     ]
    },
    {
     "data": {
      "application/vnd.jupyter.widget-view+json": {
       "model_id": "4a63a8cc021643269d2c3ab2ecf361a9",
       "version_major": 2,
       "version_minor": 0
      },
      "text/plain": [
       "  0%|          | 0/50000 [00:00<?, ?it/s]"
      ]
     },
     "metadata": {},
     "output_type": "display_data"
    },
    {
     "name": "stdout",
     "output_type": "stream",
     "text": [
      "for s = 0.3 a = 9 sA =  2 sd = 3 Ei = 0.1\n",
      "Utility A = 1976.599999999675 utility D = -3953.200000000227\n"
     ]
    },
    {
     "data": {
      "application/vnd.jupyter.widget-view+json": {
       "model_id": "00ef6e1c5f5e44baa0f732d50218a216",
       "version_major": 2,
       "version_minor": 0
      },
      "text/plain": [
       "  0%|          | 0/50000 [00:00<?, ?it/s]"
      ]
     },
     "metadata": {},
     "output_type": "display_data"
    },
    {
     "name": "stdout",
     "output_type": "stream",
     "text": [
      "for s = 0.3 a = 9 sA =  2 sd = 3 Ei = 0.2\n",
      "Utility A = 1981.139999999671 utility D = -3962.280000000207\n"
     ]
    },
    {
     "data": {
      "application/vnd.jupyter.widget-view+json": {
       "model_id": "15807873bea644d396e55d3a927c8871",
       "version_major": 2,
       "version_minor": 0
      },
      "text/plain": [
       "  0%|          | 0/50000 [00:00<?, ?it/s]"
      ]
     },
     "metadata": {},
     "output_type": "display_data"
    },
    {
     "name": "stdout",
     "output_type": "stream",
     "text": [
      "for s = 0.3 a = 9 sA =  2 sd = 3 Ei = 0.3\n",
      "Utility A = 2008.1099999996695 utility D = -4016.2200000002094\n"
     ]
    },
    {
     "data": {
      "application/vnd.jupyter.widget-view+json": {
       "model_id": "cd021de9730e4279b9e34ec577c4fb7d",
       "version_major": 2,
       "version_minor": 0
      },
      "text/plain": [
       "  0%|          | 0/50000 [00:00<?, ?it/s]"
      ]
     },
     "metadata": {},
     "output_type": "display_data"
    },
    {
     "name": "stdout",
     "output_type": "stream",
     "text": [
      "for s = 0.3 a = 9 sA =  2 sd = 3 Ei = 0.4\n",
      "Utility A = 1955.6799999996847 utility D = -3911.3600000002293\n"
     ]
    },
    {
     "data": {
      "application/vnd.jupyter.widget-view+json": {
       "model_id": "b24466e9cd1e4938a34459d2e7fa2632",
       "version_major": 2,
       "version_minor": 0
      },
      "text/plain": [
       "  0%|          | 0/50000 [00:00<?, ?it/s]"
      ]
     },
     "metadata": {},
     "output_type": "display_data"
    },
    {
     "name": "stdout",
     "output_type": "stream",
     "text": [
      "for s = 0.3 a = 9 sA =  2 sd = 3 Ei = 0.5\n",
      "Utility A = 1985.7899999996678 utility D = -3971.5800000002046\n"
     ]
    },
    {
     "data": {
      "application/vnd.jupyter.widget-view+json": {
       "model_id": "ab93866c347a4ceb8a7c7077ecd6ebba",
       "version_major": 2,
       "version_minor": 0
      },
      "text/plain": [
       "  0%|          | 0/50000 [00:00<?, ?it/s]"
      ]
     },
     "metadata": {},
     "output_type": "display_data"
    },
    {
     "name": "stdout",
     "output_type": "stream",
     "text": [
      "for s = 0.3 a = 9 sA =  2 sd = 3 Ei = 0.6\n",
      "Utility A = 1969.4999999996803 utility D = -3939.0000000002296\n"
     ]
    },
    {
     "data": {
      "application/vnd.jupyter.widget-view+json": {
       "model_id": "c0e557ecfe7941a99b124ec07cddfef1",
       "version_major": 2,
       "version_minor": 0
      },
      "text/plain": [
       "  0%|          | 0/50000 [00:00<?, ?it/s]"
      ]
     },
     "metadata": {},
     "output_type": "display_data"
    },
    {
     "name": "stdout",
     "output_type": "stream",
     "text": [
      "for s = 0.3 a = 9 sA =  2 sd = 3 Ei = 0.7\n",
      "Utility A = 1996.319999999679 utility D = -3992.6400000002277\n"
     ]
    },
    {
     "data": {
      "application/vnd.jupyter.widget-view+json": {
       "model_id": "d5e464f9c184423aa9cb4e0f577f45f5",
       "version_major": 2,
       "version_minor": 0
      },
      "text/plain": [
       "  0%|          | 0/50000 [00:00<?, ?it/s]"
      ]
     },
     "metadata": {},
     "output_type": "display_data"
    },
    {
     "name": "stdout",
     "output_type": "stream",
     "text": [
      "for s = 0.3 a = 9 sA =  2 sd = 3 Ei = 0.8\n",
      "Utility A = 1975.9699999996656 utility D = -3951.940000000254\n"
     ]
    },
    {
     "data": {
      "application/vnd.jupyter.widget-view+json": {
       "model_id": "43f69b754c1e4c6f8816bb3b5764d24f",
       "version_major": 2,
       "version_minor": 0
      },
      "text/plain": [
       "  0%|          | 0/50000 [00:00<?, ?it/s]"
      ]
     },
     "metadata": {},
     "output_type": "display_data"
    },
    {
     "name": "stdout",
     "output_type": "stream",
     "text": [
      "for s = 0.3 a = 9 sA =  2 sd = 3 Ei = 0.9\n",
      "Utility A = 1984.2599999996653 utility D = -3968.5200000002633\n",
      "Утилиты атакующего - [[20918.  1984.]\n",
      " [20980.  1987.]\n",
      " [20961.  1969.]\n",
      " [20889.  1971.]\n",
      " [21097.  1971.]\n",
      " [20980.  1975.]\n",
      " [20951.  1981.]\n",
      " [21015.  1964.]\n",
      " [20933.  1969.]\n",
      " [21059.  1995.]\n",
      " [20861.  1980.]\n",
      " [20898.  1984.]\n",
      " [21178.  1977.]\n",
      " [21159.  1982.]\n",
      " [20975.  1980.]\n",
      " [21056.  2000.]\n",
      " [20979.  1977.]\n",
      " [21084.  1990.]\n",
      " [ 8452.  1963.]]\n",
      "Утилиты обороняющегося - [[-20918.  -3969.]\n",
      " [-21620.  -5261.]\n",
      " [-20961.  -3937.]\n",
      " [-20889.  -3943.]\n",
      " [-21097.  -3942.]\n",
      " [-20980.  -3950.]\n",
      " [-20951.  -3963.]\n",
      " [-21015.  -3927.]\n",
      " [-20933.  -3938.]\n",
      " [-21059.  -3990.]\n",
      " [-20895.  -4018.]\n",
      " [-21739.  -5530.]\n",
      " [-21741.  -4988.]\n",
      " [-21247.  -3963.]\n",
      " [-21355.  -3960.]\n",
      " [-21497.  -4001.]\n",
      " [-21302.  -3954.]\n",
      " [-21511.  -3981.]\n",
      " [-10123.  -3927.]]\n",
      "equlibrium (array([0., 0., 0., 0., 0., 0., 0., 0., 0., 0., 0., 0., 0., 0., 0., 0., 0.,\n",
      "       0., 1.]), array([1., 0.]))\n",
      "оптимальная стратегия оброняющегося номер  19 оптимальная стратегия атакующего номер  1\n"
     ]
    }
   ],
   "source": [
    "#for s in (0.1, 0.2, 0.3, 0.4, 0.5, 0.6, 0.7, 0.8, 0.9):\n",
    "#    for a in range(1, 11, 1):\n",
    "s = 0.3 \n",
    "a = 9\n",
    "shape = (19,2) #матрица игры\n",
    "Attacker = np.zeros(shape=shape)\n",
    "Defender = np.zeros(shape=shape)\n",
    "#1 - Proportional 2 - High\n",
    "for strategyA in (1, 2):\n",
    "    #1 - High 2 - Proportional 3 - Nothing\n",
    "    for strategyD in (1, 2, 3):\n",
    "        for Ei in (0.1, 0.2, 0.3, 0.4, 0.5, 0.6, 0.7, 0.8, 0.9):\n",
    "            if strategyA == 1 and strategyD == 1: #A -Proportional, D - High\n",
    "                j = 0\n",
    "                utilityDefender = 0\n",
    "                utilityAttacker = 0\n",
    "                for j in tqdm(range(50000)):\n",
    "                    machineValues = GetMachineValues()\n",
    "                    vulnerableMachineValues = GetVulnerableMachineValues(machineValues)\n",
    "                    importantMachineValues = GetImportantMachineValues(machineValues)\n",
    "                    machineArray = GetMachineArray(machineValues, vulnerableMachineValues, importantMachineValues)\n",
    "                    tmp = ComparisonStrategyPH(machineArray, importantMachineValues, Ei)\n",
    "                    while tmp == True:\n",
    "                        if tmp == True:\n",
    "                            utilityDefender += UtilityDefender(s, a, Ei, machineArray)\n",
    "                            utilityAttacker += UtilityAttacker(machineArray)\n",
    "                            tmp = ComparisonStrategyRPH(machineArray, importantMachineValues, Ei)\n",
    "                        else:\n",
    "                            utilityDefender += UtilityDefender(s, a, Ei, machineArray)\n",
    "                print('for s =', s,'a =', a, 'sA = ', strategyA, 'sd =', strategyD, 'Ei =', Ei)\n",
    "                print('Utility A =', utilityAttacker, 'utility D =', utilityDefender)\n",
    "            elif strategyA == 1 and strategyD == 2:\n",
    "                j = 0\n",
    "                utilityDefender = 0\n",
    "                utilityAttacker = 0\n",
    "                for j in tqdm(range(50000)):\n",
    "                    machineValues = GetMachineValues()\n",
    "                    vulnerableMachineValues = GetVulnerableMachineValues(machineValues)\n",
    "                    importantMachineValues = GetImportantMachineValues(machineValues)\n",
    "                    machineArray = GetMachineArray(machineValues, vulnerableMachineValues, importantMachineValues)\n",
    "                    tmp = ComparisonStrategyPP(machineArray, Ei, a)\n",
    "                    while tmp == True:\n",
    "                        if tmp == True:\n",
    "                            utilityDefender += UtilityDefender(s, a, Ei, machineArray)\n",
    "                            utilityAttacker += UtilityAttacker(machineArray)\n",
    "                            tmp = ComparisonStrategyRPP(machineArray, Ei, a)\n",
    "                        else:\n",
    "                            utilityDefender += UtilityDefender(s, a, Ei, machineArray)\n",
    "                print('for s =', s,'a =', a, 'sA = ', strategyA, 'sd =', strategyD, 'Ei =', Ei)\n",
    "                print('Utility A =', utilityAttacker, 'utility D =', utilityDefender)\n",
    "            elif strategyA == 1 and strategyD == 3:\n",
    "                j = 0\n",
    "                utilityDefender = 0\n",
    "                utilityAttacker = 0\n",
    "                for j in tqdm(range(50000)):\n",
    "                    machineValues = GetMachineValues()\n",
    "                    vulnerableMachineValues = GetVulnerableMachineValues(machineValues)\n",
    "                    importantMachineValues = GetImportantMachineValues(machineValues)\n",
    "                    machineArray = GetMachineArray(machineValues, vulnerableMachineValues, importantMachineValues)\n",
    "                    tmp = ComparisonStrategyPN(machineArray)\n",
    "                    while tmp ==True:\n",
    "                        if tmp == True:\n",
    "                            utilityDefender += UtilityDefender(s, a, Ei, machineArray)\n",
    "                            utilityAttacker += UtilityAttacker(machineArray)\n",
    "                            tmp = ComparisonStrategyRPN(machineArray)\n",
    "                        else:\n",
    "                            utilityDefender += UtilityDefender(s, a, Ei, machineArray)\n",
    "                            break\n",
    "                print('for s =', s,'a =', a, 'sA = ', strategyA, 'sd =', strategyD, 'Ei =', Ei)\n",
    "                print('Utility A =', utilityAttacker, 'utility D =', utilityDefender)\n",
    "            elif strategyA == 2 and strategyD == 1:\n",
    "                j = 0\n",
    "                utilityDefender = 0\n",
    "                utilityAttacker = 0\n",
    "                for j in tqdm(range(50000)):\n",
    "                    machineValues = GetMachineValues()\n",
    "                    vulnerableMachineValues = GetVulnerableMachineValues(machineValues)\n",
    "                    importantMachineValues = GetImportantMachineValues(machineValues)\n",
    "                    machineArray = GetMachineArray(machineValues, vulnerableMachineValues, importantMachineValues)\n",
    "                    tmp = ComparsionStrategyHH(Ei, importantMachineValues, machineArray, a)\n",
    "                    while True:\n",
    "                        if tmp == True:\n",
    "                            utilityDefender += UtilityDefender(s, a, Ei, machineArray)\n",
    "                            utilityAttacker += UtilityAttacker(machineArray)\n",
    "                            tmp = ComparsionStrategyRHH(Ei, importantMachineValues, machineArray, a)\n",
    "                        else:\n",
    "                            utilityDefender += UtilityDefender(s, a, Ei, machineArray)\n",
    "                            break\n",
    "                print('for s =', s,'a =', a, 'sA = ', strategyA, 'sd =', strategyD, 'Ei =', Ei)\n",
    "                print('Utility A =', utilityAttacker, 'utility D =', utilityDefender) \n",
    "            elif strategyA == 2 and strategyD == 2:\n",
    "                j = 0\n",
    "                utilityDefender = 0\n",
    "                utilityAttacker = 0\n",
    "                for j in tqdm(range(50000)):\n",
    "                    machineValues = GetMachineValues()\n",
    "                    vulnerableMachineValues = GetVulnerableMachineValues(machineValues)\n",
    "                    importantMachineValues = GetImportantMachineValues(machineValues)\n",
    "                    machineArray = GetMachineArray(machineValues, vulnerableMachineValues, importantMachineValues)\n",
    "                    tmp = ComparisonStrategyHP(machineArray, Ei, importantMachineValues, a)\n",
    "                    while True:\n",
    "                        if tmp == True:\n",
    "                            utilityDefender += UtilityDefender(s, a, Ei, machineArray)\n",
    "                            utilityAttacker += UtilityAttacker(machineArray)\n",
    "                            tmp = ComparisonStrategyRHP(machineArray, Ei, importantMachineValues, a)\n",
    "                        else:\n",
    "                            utilityDefender += UtilityDefender(s, a, Ei, machineArray)\n",
    "                            break\n",
    "                print('for s =', s,'a =', a, 'sA = ', strategyA, 'sd =', strategyD, 'Ei =', Ei)\n",
    "                print('Utility A =', utilityAttacker, 'utility D =', utilityDefender)\n",
    "            elif strategyA == 2 and strategyD == 3:\n",
    "                j = 0\n",
    "                utilityDefender = 0\n",
    "                utilityAttacker = 0\n",
    "                for j in tqdm(range(50000)):\n",
    "                    machineValues = GetMachineValues()\n",
    "                    vulnerableMachineValues = GetVulnerableMachineValues(machineValues)\n",
    "                    importantMachineValues = GetImportantMachineValues(machineValues)\n",
    "                    machineArray = GetMachineArray(machineValues, vulnerableMachineValues, importantMachineValues)\n",
    "                    tmp = ComparsionStrategyHN(machineArray, importantMachineValues)\n",
    "                    while True:\n",
    "                        if tmp == True:\n",
    "                            utilityDefender += UtilityDefender(s, a, Ei, machineArray)\n",
    "                            utilityAttacker += UtilityAttacker(machineArray)\n",
    "                            tmp = ComparsionStrategyRHN(machineArray, importantMachineValues)\n",
    "                        else:\n",
    "                            utilityDefender += UtilityDefender(s, a, Ei, machineArray)\n",
    "                            break\n",
    "                print('for s =', s,'a =', a, 'sA = ', strategyA, 'sd =', strategyD, 'Ei =', Ei)\n",
    "                print('Utility A =', utilityAttacker, 'utility D =', utilityDefender)\n",
    "            if strategyD == 3:\n",
    "                Attacker[0, strategyA - 1] = round(utilityAttacker)\n",
    "                Defender[0, strategyA - 1] = round(utilityDefender)\n",
    "            elif strategyD == 1:\n",
    "                index = int(Ei * 10)\n",
    "                Attacker[index, strategyA - 1] = round(utilityAttacker)\n",
    "                Defender[index, strategyA - 1] = round(utilityDefender)\n",
    "            elif strategyD == 2:\n",
    "                index = int(Ei * 10) + 9\n",
    "                Attacker[index, strategyA - 1] = round(utilityAttacker)\n",
    "                Defender[index, strategyA - 1] = round(utilityDefender)\n",
    "degenGameTest = False\n",
    "game = nash.Game(Defender, Attacker)\n",
    "print(\"Утилиты атакующего -\", Attacker)\n",
    "print(\"Утилиты обороняющегося -\", Defender)\n",
    "try:\n",
    "    equlibrium = list(game.support_enumeration())[0]\n",
    "except IndexError:\n",
    "    try:\n",
    "        equlibrium = list(game.support_enumeration(non_degenerate=True))[0]\n",
    "    except:\n",
    "        equlibrium = list(game.support_enumeration(non_degenerate=True))\n",
    "        degenGameTest = True\n",
    "print(\"equlibrium\", equlibrium)\n",
    "if degenGameTest == False:\n",
    "    numEqulibriumDefender = np.argmax(equlibrium[0])+1\n",
    "    numEqulibriumAttacker = np.argmax(equlibrium[1])+1\n",
    "else:\n",
    "    numEqulibriumDefender = equlibrium\n",
    "    numEqulibriumAttacker = equlibrium\n",
    "print(\"оптимальная стратегия оброняющегося номер \", numEqulibriumDefender, \"оптимальная стратегия атакующего номер \", numEqulibriumAttacker)\n",
    "\n",
    "#arrayEqlibriumDefender.append(numEqulibriumDefender)\n",
    "#arrayEqlibriumAttecker.append(numEqulibriumAttacker)\n",
    "\n",
    "#print('array Defender - ', '\\n', arrayEqlibriumDefender)\n",
    "#print('arrau Attacker - ', '\\n', arrayEqlibriumAttecker)"
   ]
  },
  {
   "cell_type": "code",
   "execution_count": null,
   "id": "95ccfb4f",
   "metadata": {},
   "outputs": [],
   "source": []
  }
 ],
 "metadata": {
  "kernelspec": {
   "display_name": "Python 3 (ipykernel)",
   "language": "python",
   "name": "python3"
  },
  "language_info": {
   "codemirror_mode": {
    "name": "ipython",
    "version": 3
   },
   "file_extension": ".py",
   "mimetype": "text/x-python",
   "name": "python",
   "nbconvert_exporter": "python",
   "pygments_lexer": "ipython3",
   "version": "3.8.10"
  }
 },
 "nbformat": 4,
 "nbformat_minor": 5
}
