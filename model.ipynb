{
 "cells": [
  {
   "cell_type": "code",
   "execution_count": 10,
   "id": "1299e310",
   "metadata": {},
   "outputs": [
    {
     "data": {
      "application/vnd.jupyter.widget-view+json": {
       "model_id": "803fbe8850ca424699ba7b7bfeccbd7e",
       "version_major": 2,
       "version_minor": 0
      },
      "text/plain": [
       "  0%|          | 0/50000 [00:00<?, ?it/s]"
      ]
     },
     "metadata": {},
     "output_type": "display_data"
    },
    {
     "name": "stdout",
     "output_type": "stream",
     "text": [
      "for s = 0.1 a = 1 sA =  1 sd = 1 Ei = 0.1\n",
      "Utility A = 20356.4000000013 utility D = -20951.094444444938\n"
     ]
    },
    {
     "data": {
      "application/vnd.jupyter.widget-view+json": {
       "model_id": "16c8ef7631834db090e54273d925d420",
       "version_major": 2,
       "version_minor": 0
      },
      "text/plain": [
       "  0%|          | 0/50000 [00:00<?, ?it/s]"
      ]
     },
     "metadata": {},
     "output_type": "display_data"
    },
    {
     "name": "stdout",
     "output_type": "stream",
     "text": [
      "for s = 0.1 a = 1 sA =  1 sd = 1 Ei = 0.2\n",
      "Utility A = 20381.790000001412 utility D = -21055.34500000112\n"
     ]
    },
    {
     "data": {
      "application/vnd.jupyter.widget-view+json": {
       "model_id": "93a1479d7a9c43539adec7fbb6aa1459",
       "version_major": 2,
       "version_minor": 0
      },
      "text/plain": [
       "  0%|          | 0/50000 [00:00<?, ?it/s]"
      ]
     },
     "metadata": {},
     "output_type": "display_data"
    },
    {
     "name": "stdout",
     "output_type": "stream",
     "text": [
      "for s = 0.1 a = 1 sA =  1 sd = 1 Ei = 0.3\n",
      "Utility A = 19692.090000001415 utility D = -20501.882857143737\n"
     ]
    },
    {
     "data": {
      "application/vnd.jupyter.widget-view+json": {
       "model_id": "9de8946e5586483fb67054d3f40b0845",
       "version_major": 2,
       "version_minor": 0
      },
      "text/plain": [
       "  0%|          | 0/50000 [00:00<?, ?it/s]"
      ]
     },
     "metadata": {},
     "output_type": "display_data"
    },
    {
     "name": "stdout",
     "output_type": "stream",
     "text": [
      "for s = 0.1 a = 1 sA =  1 sd = 1 Ei = 0.4\n",
      "Utility A = 13153.020000000455 utility D = -13889.230000000442\n"
     ]
    },
    {
     "data": {
      "application/vnd.jupyter.widget-view+json": {
       "model_id": "b9a36ba46c97444b98932f890aab55d2",
       "version_major": 2,
       "version_minor": 0
      },
      "text/plain": [
       "  0%|          | 0/50000 [00:00<?, ?it/s]"
      ]
     },
     "metadata": {},
     "output_type": "display_data"
    },
    {
     "name": "stdout",
     "output_type": "stream",
     "text": [
      "for s = 0.1 a = 1 sA =  1 sd = 1 Ei = 0.5\n",
      "Utility A = 6591.929999999763 utility D = -7125.399999999903\n"
     ]
    },
    {
     "data": {
      "application/vnd.jupyter.widget-view+json": {
       "model_id": "e1c6187c798841e88293ef37cfeee822",
       "version_major": 2,
       "version_minor": 0
      },
      "text/plain": [
       "  0%|          | 0/50000 [00:00<?, ?it/s]"
      ]
     },
     "metadata": {},
     "output_type": "display_data"
    },
    {
     "name": "stdout",
     "output_type": "stream",
     "text": [
      "for s = 0.1 a = 1 sA =  1 sd = 1 Ei = 0.6\n",
      "Utility A = 0 utility D = 0\n"
     ]
    },
    {
     "data": {
      "application/vnd.jupyter.widget-view+json": {
       "model_id": "dcc85368f169408f9ca8fe07a99e8dec",
       "version_major": 2,
       "version_minor": 0
      },
      "text/plain": [
       "  0%|          | 0/50000 [00:00<?, ?it/s]"
      ]
     },
     "metadata": {},
     "output_type": "display_data"
    },
    {
     "name": "stdout",
     "output_type": "stream",
     "text": [
      "for s = 0.1 a = 1 sA =  1 sd = 1 Ei = 0.7\n",
      "Utility A = 0 utility D = 0\n"
     ]
    },
    {
     "data": {
      "application/vnd.jupyter.widget-view+json": {
       "model_id": "09f1da10ffd844daa92007ef6e3a7474",
       "version_major": 2,
       "version_minor": 0
      },
      "text/plain": [
       "  0%|          | 0/50000 [00:00<?, ?it/s]"
      ]
     },
     "metadata": {},
     "output_type": "display_data"
    },
    {
     "name": "stdout",
     "output_type": "stream",
     "text": [
      "for s = 0.1 a = 1 sA =  1 sd = 1 Ei = 0.8\n",
      "Utility A = 0 utility D = 0\n"
     ]
    },
    {
     "data": {
      "application/vnd.jupyter.widget-view+json": {
       "model_id": "795c70bfaf3244d499c0b68796c9a19f",
       "version_major": 2,
       "version_minor": 0
      },
      "text/plain": [
       "  0%|          | 0/50000 [00:00<?, ?it/s]"
      ]
     },
     "metadata": {},
     "output_type": "display_data"
    },
    {
     "name": "stdout",
     "output_type": "stream",
     "text": [
      "for s = 0.1 a = 1 sA =  1 sd = 1 Ei = 0.9\n",
      "Utility A = 0 utility D = 0\n"
     ]
    },
    {
     "data": {
      "application/vnd.jupyter.widget-view+json": {
       "model_id": "771bd8e109664d40b937052d2bfd8107",
       "version_major": 2,
       "version_minor": 0
      },
      "text/plain": [
       "  0%|          | 0/50000 [00:00<?, ?it/s]"
      ]
     },
     "metadata": {},
     "output_type": "display_data"
    },
    {
     "name": "stdout",
     "output_type": "stream",
     "text": [
      "for s = 0.1 a = 1 sA =  1 sd = 2 Ei = 0.1\n",
      "Utility A = 20948.560000001762 utility D = -20956.88891165109\n"
     ]
    },
    {
     "data": {
      "application/vnd.jupyter.widget-view+json": {
       "model_id": "408ac5eaeab64f99b7598f1bbeb26359",
       "version_major": 2,
       "version_minor": 0
      },
      "text/plain": [
       "  0%|          | 0/50000 [00:00<?, ?it/s]"
      ]
     },
     "metadata": {},
     "output_type": "display_data"
    },
    {
     "name": "stdout",
     "output_type": "stream",
     "text": [
      "for s = 0.1 a = 1 sA =  1 sd = 2 Ei = 0.2\n",
      "Utility A = 20989.150000001937 utility D = -21022.77383214566\n"
     ]
    },
    {
     "data": {
      "application/vnd.jupyter.widget-view+json": {
       "model_id": "7b019559dccc41b1afde2db69de0553c",
       "version_major": 2,
       "version_minor": 0
      },
      "text/plain": [
       "  0%|          | 0/50000 [00:00<?, ?it/s]"
      ]
     },
     "metadata": {},
     "output_type": "display_data"
    },
    {
     "name": "stdout",
     "output_type": "stream",
     "text": [
      "for s = 0.1 a = 1 sA =  1 sd = 2 Ei = 0.3\n",
      "Utility A = 21042.340000001717 utility D = -21118.41850703104\n"
     ]
    },
    {
     "data": {
      "application/vnd.jupyter.widget-view+json": {
       "model_id": "b35fd6b0899a4ddba80846e0814f2bd7",
       "version_major": 2,
       "version_minor": 0
      },
      "text/plain": [
       "  0%|          | 0/50000 [00:00<?, ?it/s]"
      ]
     },
     "metadata": {},
     "output_type": "display_data"
    },
    {
     "name": "stdout",
     "output_type": "stream",
     "text": [
      "for s = 0.1 a = 1 sA =  1 sd = 2 Ei = 0.4\n",
      "Utility A = 20876.60000000201 utility D = -21020.752645866705\n"
     ]
    },
    {
     "data": {
      "application/vnd.jupyter.widget-view+json": {
       "model_id": "e343c41e6488478d9f6b80f8fb9c8496",
       "version_major": 2,
       "version_minor": 0
      },
      "text/plain": [
       "  0%|          | 0/50000 [00:00<?, ?it/s]"
      ]
     },
     "metadata": {},
     "output_type": "display_data"
    },
    {
     "name": "stdout",
     "output_type": "stream",
     "text": [
      "for s = 0.1 a = 1 sA =  1 sd = 2 Ei = 0.5\n",
      "Utility A = 20898.280000002145 utility D = -21137.225605684616\n"
     ]
    },
    {
     "data": {
      "application/vnd.jupyter.widget-view+json": {
       "model_id": "79650a9f39cf480b97f15b9d6ae0835b",
       "version_major": 2,
       "version_minor": 0
      },
      "text/plain": [
       "  0%|          | 0/50000 [00:00<?, ?it/s]"
      ]
     },
     "metadata": {},
     "output_type": "display_data"
    },
    {
     "name": "stdout",
     "output_type": "stream",
     "text": [
      "for s = 0.1 a = 1 sA =  1 sd = 2 Ei = 0.6\n",
      "Utility A = 21037.080000002126 utility D = -21394.707819144012\n"
     ]
    },
    {
     "data": {
      "application/vnd.jupyter.widget-view+json": {
       "model_id": "13af019e54694bdba65fe2002f5c8a0f",
       "version_major": 2,
       "version_minor": 0
      },
      "text/plain": [
       "  0%|          | 0/50000 [00:00<?, ?it/s]"
      ]
     },
     "metadata": {},
     "output_type": "display_data"
    },
    {
     "name": "stdout",
     "output_type": "stream",
     "text": [
      "for s = 0.1 a = 1 sA =  1 sd = 2 Ei = 0.7\n",
      "Utility A = 20947.460000001487 utility D = -21466.42921623065\n"
     ]
    },
    {
     "data": {
      "application/vnd.jupyter.widget-view+json": {
       "model_id": "b7257077554646399cf3bab546f9196d",
       "version_major": 2,
       "version_minor": 0
      },
      "text/plain": [
       "  0%|          | 0/50000 [00:00<?, ?it/s]"
      ]
     },
     "metadata": {},
     "output_type": "display_data"
    },
    {
     "name": "stdout",
     "output_type": "stream",
     "text": [
      "for s = 0.1 a = 1 sA =  1 sd = 2 Ei = 0.8\n",
      "Utility A = 20920.420000001828 utility D = -21637.341194481363\n"
     ]
    },
    {
     "data": {
      "application/vnd.jupyter.widget-view+json": {
       "model_id": "c939b9a1db7845ae882ef844964075bd",
       "version_major": 2,
       "version_minor": 0
      },
      "text/plain": [
       "  0%|          | 0/50000 [00:00<?, ?it/s]"
      ]
     },
     "metadata": {},
     "output_type": "display_data"
    },
    {
     "name": "stdout",
     "output_type": "stream",
     "text": [
      "for s = 0.1 a = 1 sA =  1 sd = 2 Ei = 0.9\n",
      "Utility A = 20958.150000001886 utility D = -21924.095117854522\n"
     ]
    },
    {
     "data": {
      "application/vnd.jupyter.widget-view+json": {
       "model_id": "0badcdf6fb0842688e12404402302a1a",
       "version_major": 2,
       "version_minor": 0
      },
      "text/plain": [
       "  0%|          | 0/50000 [00:00<?, ?it/s]"
      ]
     },
     "metadata": {},
     "output_type": "display_data"
    },
    {
     "name": "stdout",
     "output_type": "stream",
     "text": [
      "for s = 0.1 a = 1 sA =  1 sd = 3 Ei = 0.1\n",
      "Utility A = 0 utility D = 0\n"
     ]
    },
    {
     "data": {
      "application/vnd.jupyter.widget-view+json": {
       "model_id": "48053afa143c4abe9f1eee90df255fb7",
       "version_major": 2,
       "version_minor": 0
      },
      "text/plain": [
       "  0%|          | 0/50000 [00:00<?, ?it/s]"
      ]
     },
     "metadata": {},
     "output_type": "display_data"
    },
    {
     "name": "stdout",
     "output_type": "stream",
     "text": [
      "for s = 0.1 a = 1 sA =  1 sd = 3 Ei = 0.2\n",
      "Utility A = 0 utility D = 0\n"
     ]
    },
    {
     "data": {
      "application/vnd.jupyter.widget-view+json": {
       "model_id": "c53db79aa2dc4085b9c0195be68838f2",
       "version_major": 2,
       "version_minor": 0
      },
      "text/plain": [
       "  0%|          | 0/50000 [00:00<?, ?it/s]"
      ]
     },
     "metadata": {},
     "output_type": "display_data"
    },
    {
     "name": "stdout",
     "output_type": "stream",
     "text": [
      "for s = 0.1 a = 1 sA =  1 sd = 3 Ei = 0.3\n",
      "Utility A = 0 utility D = 0\n"
     ]
    },
    {
     "data": {
      "application/vnd.jupyter.widget-view+json": {
       "model_id": "d6614e19ee79499b882f2c18d47691f7",
       "version_major": 2,
       "version_minor": 0
      },
      "text/plain": [
       "  0%|          | 0/50000 [00:00<?, ?it/s]"
      ]
     },
     "metadata": {},
     "output_type": "display_data"
    },
    {
     "name": "stdout",
     "output_type": "stream",
     "text": [
      "for s = 0.1 a = 1 sA =  1 sd = 3 Ei = 0.4\n",
      "Utility A = 0 utility D = 0\n"
     ]
    },
    {
     "data": {
      "application/vnd.jupyter.widget-view+json": {
       "model_id": "5370d11fcdab40f3a88918f56db368b9",
       "version_major": 2,
       "version_minor": 0
      },
      "text/plain": [
       "  0%|          | 0/50000 [00:00<?, ?it/s]"
      ]
     },
     "metadata": {},
     "output_type": "display_data"
    },
    {
     "name": "stdout",
     "output_type": "stream",
     "text": [
      "for s = 0.1 a = 1 sA =  1 sd = 3 Ei = 0.5\n",
      "Utility A = 0 utility D = 0\n"
     ]
    },
    {
     "data": {
      "application/vnd.jupyter.widget-view+json": {
       "model_id": "f37a3a9043d44ce2985bd0c6e80dd5e2",
       "version_major": 2,
       "version_minor": 0
      },
      "text/plain": [
       "  0%|          | 0/50000 [00:00<?, ?it/s]"
      ]
     },
     "metadata": {},
     "output_type": "display_data"
    },
    {
     "name": "stdout",
     "output_type": "stream",
     "text": [
      "for s = 0.1 a = 1 sA =  1 sd = 3 Ei = 0.6\n",
      "Utility A = 0 utility D = 0\n"
     ]
    },
    {
     "data": {
      "application/vnd.jupyter.widget-view+json": {
       "model_id": "caac3af8779d4f7ab7f8c699463ac5e3",
       "version_major": 2,
       "version_minor": 0
      },
      "text/plain": [
       "  0%|          | 0/50000 [00:00<?, ?it/s]"
      ]
     },
     "metadata": {},
     "output_type": "display_data"
    },
    {
     "name": "stdout",
     "output_type": "stream",
     "text": [
      "for s = 0.1 a = 1 sA =  1 sd = 3 Ei = 0.7\n",
      "Utility A = 0 utility D = 0\n"
     ]
    },
    {
     "data": {
      "application/vnd.jupyter.widget-view+json": {
       "model_id": "787d12d6099444d9bad36128a2053d58",
       "version_major": 2,
       "version_minor": 0
      },
      "text/plain": [
       "  0%|          | 0/50000 [00:00<?, ?it/s]"
      ]
     },
     "metadata": {},
     "output_type": "display_data"
    },
    {
     "name": "stdout",
     "output_type": "stream",
     "text": [
      "for s = 0.1 a = 1 sA =  1 sd = 3 Ei = 0.8\n",
      "Utility A = 0 utility D = 0\n"
     ]
    },
    {
     "data": {
      "application/vnd.jupyter.widget-view+json": {
       "model_id": "54025eb392a643078b4ef6b26d4a46d9",
       "version_major": 2,
       "version_minor": 0
      },
      "text/plain": [
       "  0%|          | 0/50000 [00:00<?, ?it/s]"
      ]
     },
     "metadata": {},
     "output_type": "display_data"
    },
    {
     "name": "stdout",
     "output_type": "stream",
     "text": [
      "for s = 0.1 a = 1 sA =  1 sd = 3 Ei = 0.9\n",
      "Utility A = 0 utility D = 0\n"
     ]
    },
    {
     "data": {
      "application/vnd.jupyter.widget-view+json": {
       "model_id": "2f85be9971ba4db18e9bd8cba5cc2423",
       "version_major": 2,
       "version_minor": 0
      },
      "text/plain": [
       "  0%|          | 0/50000 [00:00<?, ?it/s]"
      ]
     },
     "metadata": {},
     "output_type": "display_data"
    },
    {
     "name": "stdout",
     "output_type": "stream",
     "text": [
      "for s = 0.1 a = 1 sA =  2 sd = 1 Ei = 0.1\n",
      "Utility A = 1974.5799999996668 utility D = -1979.4052990958266\n"
     ]
    },
    {
     "data": {
      "application/vnd.jupyter.widget-view+json": {
       "model_id": "9bffe9590e3740269b4119a4704c09b9",
       "version_major": 2,
       "version_minor": 0
      },
      "text/plain": [
       "  0%|          | 0/50000 [00:00<?, ?it/s]"
      ]
     },
     "metadata": {},
     "output_type": "display_data"
    },
    {
     "name": "stdout",
     "output_type": "stream",
     "text": [
      "for s = 0.1 a = 1 sA =  2 sd = 1 Ei = 0.2\n",
      "Utility A = 1983.7699999996682 utility D = -2003.7689427739301\n"
     ]
    },
    {
     "data": {
      "application/vnd.jupyter.widget-view+json": {
       "model_id": "761b3e6ef9a545e9ad80ea7e2e49437f",
       "version_major": 2,
       "version_minor": 0
      },
      "text/plain": [
       "  0%|          | 0/50000 [00:00<?, ?it/s]"
      ]
     },
     "metadata": {},
     "output_type": "display_data"
    },
    {
     "name": "stdout",
     "output_type": "stream",
     "text": [
      "for s = 0.1 a = 1 sA =  2 sd = 1 Ei = 0.3\n",
      "Utility A = 1973.7499999996655 utility D = -2021.2591304535636\n"
     ]
    },
    {
     "data": {
      "application/vnd.jupyter.widget-view+json": {
       "model_id": "a909dcaba9cc42b29a7fff8e114faad8",
       "version_major": 2,
       "version_minor": 0
      },
      "text/plain": [
       "  0%|          | 0/50000 [00:00<?, ?it/s]"
      ]
     },
     "metadata": {},
     "output_type": "display_data"
    },
    {
     "name": "stdout",
     "output_type": "stream",
     "text": [
      "for s = 0.1 a = 1 sA =  2 sd = 1 Ei = 0.4\n",
      "Utility A = 1985.3099999996693 utility D = -2074.6699837945516\n"
     ]
    },
    {
     "data": {
      "application/vnd.jupyter.widget-view+json": {
       "model_id": "b4ae177e52b94a10b5e3e5929606c824",
       "version_major": 2,
       "version_minor": 0
      },
      "text/plain": [
       "  0%|          | 0/50000 [00:00<?, ?it/s]"
      ]
     },
     "metadata": {},
     "output_type": "display_data"
    },
    {
     "name": "stdout",
     "output_type": "stream",
     "text": [
      "for s = 0.1 a = 1 sA =  2 sd = 1 Ei = 0.5\n",
      "Utility A = 1985.2699999996696 utility D = -2132.6455208714847\n"
     ]
    },
    {
     "data": {
      "application/vnd.jupyter.widget-view+json": {
       "model_id": "57d52a3102b84b40af0146668c499619",
       "version_major": 2,
       "version_minor": 0
      },
      "text/plain": [
       "  0%|          | 0/50000 [00:00<?, ?it/s]"
      ]
     },
     "metadata": {},
     "output_type": "display_data"
    },
    {
     "name": "stdout",
     "output_type": "stream",
     "text": [
      "for s = 0.1 a = 1 sA =  2 sd = 1 Ei = 0.6\n",
      "Utility A = 1985.3299999996593 utility D = -2214.086223314862\n"
     ]
    },
    {
     "data": {
      "application/vnd.jupyter.widget-view+json": {
       "model_id": "77a31c3abcbf486bb27fdacece511623",
       "version_major": 2,
       "version_minor": 0
      },
      "text/plain": [
       "  0%|          | 0/50000 [00:00<?, ?it/s]"
      ]
     },
     "metadata": {},
     "output_type": "display_data"
    },
    {
     "name": "stdout",
     "output_type": "stream",
     "text": [
      "for s = 0.1 a = 1 sA =  2 sd = 1 Ei = 0.7\n",
      "Utility A = 1958.089999999681 utility D = -2290.533340563696\n"
     ]
    },
    {
     "data": {
      "application/vnd.jupyter.widget-view+json": {
       "model_id": "cb8f01950c1b444c805e2f94afbce550",
       "version_major": 2,
       "version_minor": 0
      },
      "text/plain": [
       "  0%|          | 0/50000 [00:00<?, ?it/s]"
      ]
     },
     "metadata": {},
     "output_type": "display_data"
    },
    {
     "name": "stdout",
     "output_type": "stream",
     "text": [
      "for s = 0.1 a = 1 sA =  2 sd = 1 Ei = 0.8\n",
      "Utility A = 1958.6299999996734 utility D = -2430.3648588965475\n"
     ]
    },
    {
     "data": {
      "application/vnd.jupyter.widget-view+json": {
       "model_id": "5cfb74b001af4afd875a8c003eb04ff0",
       "version_major": 2,
       "version_minor": 0
      },
      "text/plain": [
       "  0%|          | 0/50000 [00:00<?, ?it/s]"
      ]
     },
     "metadata": {},
     "output_type": "display_data"
    },
    {
     "name": "stdout",
     "output_type": "stream",
     "text": [
      "for s = 0.1 a = 1 sA =  2 sd = 1 Ei = 0.9\n",
      "Utility A = 1992.0999999996664 utility D = -2651.152936234\n"
     ]
    },
    {
     "data": {
      "application/vnd.jupyter.widget-view+json": {
       "model_id": "8e0840ab1d6b4a8b9ef5581b930a4fd5",
       "version_major": 2,
       "version_minor": 0
      },
      "text/plain": [
       "  0%|          | 0/50000 [00:00<?, ?it/s]"
      ]
     },
     "metadata": {},
     "output_type": "display_data"
    },
    {
     "name": "stdout",
     "output_type": "stream",
     "text": [
      "for s = 0.1 a = 1 sA =  2 sd = 2 Ei = 0.1\n",
      "Utility A = 1979.3299999996725 utility D = -2003.046666666559\n"
     ]
    },
    {
     "data": {
      "application/vnd.jupyter.widget-view+json": {
       "model_id": "3b6ead5a7eff43cc9e51e03cc06ac631",
       "version_major": 2,
       "version_minor": 0
      },
      "text/plain": [
       "  0%|          | 0/50000 [00:00<?, ?it/s]"
      ]
     },
     "metadata": {},
     "output_type": "display_data"
    },
    {
     "name": "stdout",
     "output_type": "stream",
     "text": [
      "for s = 0.1 a = 1 sA =  2 sd = 2 Ei = 0.2\n",
      "Utility A = 1985.159999999672 utility D = -2091.490000000265\n"
     ]
    },
    {
     "data": {
      "application/vnd.jupyter.widget-view+json": {
       "model_id": "c86decb7f61b4a9a9ce3ef2b79ee24c3",
       "version_major": 2,
       "version_minor": 0
      },
      "text/plain": [
       "  0%|          | 0/50000 [00:00<?, ?it/s]"
      ]
     },
     "metadata": {},
     "output_type": "display_data"
    },
    {
     "name": "stdout",
     "output_type": "stream",
     "text": [
      "for s = 0.1 a = 1 sA =  2 sd = 2 Ei = 0.3\n",
      "Utility A = 1961.4399999996626 utility D = -2232.2114285714347\n"
     ]
    },
    {
     "data": {
      "application/vnd.jupyter.widget-view+json": {
       "model_id": "459791ab7efa4f36b6051162bbcea42b",
       "version_major": 2,
       "version_minor": 0
      },
      "text/plain": [
       "  0%|          | 0/50000 [00:00<?, ?it/s]"
      ]
     },
     "metadata": {},
     "output_type": "display_data"
    },
    {
     "name": "stdout",
     "output_type": "stream",
     "text": [
      "for s = 0.1 a = 1 sA =  2 sd = 2 Ei = 0.4\n",
      "Utility A = 1994.139999999653 utility D = -2565.260000000047\n"
     ]
    },
    {
     "data": {
      "application/vnd.jupyter.widget-view+json": {
       "model_id": "3a2930b8fa4042a6b867588a2c47a0c7",
       "version_major": 2,
       "version_minor": 0
      },
      "text/plain": [
       "  0%|          | 0/50000 [00:00<?, ?it/s]"
      ]
     },
     "metadata": {},
     "output_type": "display_data"
    },
    {
     "name": "stdout",
     "output_type": "stream",
     "text": [
      "for s = 0.1 a = 1 sA =  2 sd = 2 Ei = 0.5\n",
      "Utility A = 1973.2899999996832 utility D = -3035.4900000000102\n"
     ]
    },
    {
     "data": {
      "application/vnd.jupyter.widget-view+json": {
       "model_id": "78ad2ca0267a4988ba177e5d5f644208",
       "version_major": 2,
       "version_minor": 0
      },
      "text/plain": [
       "  0%|          | 0/50000 [00:00<?, ?it/s]"
      ]
     },
     "metadata": {},
     "output_type": "display_data"
    },
    {
     "name": "stdout",
     "output_type": "stream",
     "text": [
      "for s = 0.1 a = 1 sA =  2 sd = 2 Ei = 0.6\n",
      "Utility A = 1981.609999999673 utility D = -3905.6299999998187\n"
     ]
    },
    {
     "data": {
      "application/vnd.jupyter.widget-view+json": {
       "model_id": "a65e7c20ae4042e7b1d3aa28302bdbc5",
       "version_major": 2,
       "version_minor": 0
      },
      "text/plain": [
       "  0%|          | 0/50000 [00:00<?, ?it/s]"
      ]
     },
     "metadata": {},
     "output_type": "display_data"
    },
    {
     "name": "stdout",
     "output_type": "stream",
     "text": [
      "for s = 0.1 a = 1 sA =  2 sd = 2 Ei = 0.7\n",
      "Utility A = 1992.4999999996592 utility D = -5480.319999999932\n"
     ]
    },
    {
     "data": {
      "application/vnd.jupyter.widget-view+json": {
       "model_id": "8dfcb5890c664107905c12c7b872a0a7",
       "version_major": 2,
       "version_minor": 0
      },
      "text/plain": [
       "  0%|          | 0/50000 [00:00<?, ?it/s]"
      ]
     },
     "metadata": {},
     "output_type": "display_data"
    },
    {
     "name": "stdout",
     "output_type": "stream",
     "text": [
      "for s = 0.1 a = 1 sA =  2 sd = 2 Ei = 0.8\n",
      "Utility A = 1966.989999999675 utility D = -8750.34999999947\n"
     ]
    },
    {
     "data": {
      "application/vnd.jupyter.widget-view+json": {
       "model_id": "af9b6092f3f1454db371fdfdb430d5a8",
       "version_major": 2,
       "version_minor": 0
      },
      "text/plain": [
       "  0%|          | 0/50000 [00:00<?, ?it/s]"
      ]
     },
     "metadata": {},
     "output_type": "display_data"
    },
    {
     "name": "stdout",
     "output_type": "stream",
     "text": [
      "for s = 0.1 a = 1 sA =  2 sd = 2 Ei = 0.9\n",
      "Utility A = 1986.9299999996588 utility D = -19329.8399999996\n"
     ]
    },
    {
     "data": {
      "application/vnd.jupyter.widget-view+json": {
       "model_id": "398f733a7a9648ed932628ad5cdafe2e",
       "version_major": 2,
       "version_minor": 0
      },
      "text/plain": [
       "  0%|          | 0/50000 [00:00<?, ?it/s]"
      ]
     },
     "metadata": {},
     "output_type": "display_data"
    },
    {
     "name": "stdout",
     "output_type": "stream",
     "text": [
      "for s = 0.1 a = 1 sA =  2 sd = 3 Ei = 0.1\n",
      "Utility A = 1989.2399999996567 utility D = -1989.2399999996567\n"
     ]
    },
    {
     "data": {
      "application/vnd.jupyter.widget-view+json": {
       "model_id": "0ef0b89ec6344ed5a3fe4735c8d9051f",
       "version_major": 2,
       "version_minor": 0
      },
      "text/plain": [
       "  0%|          | 0/50000 [00:00<?, ?it/s]"
      ]
     },
     "metadata": {},
     "output_type": "display_data"
    },
    {
     "name": "stdout",
     "output_type": "stream",
     "text": [
      "for s = 0.1 a = 1 sA =  2 sd = 3 Ei = 0.2\n",
      "Utility A = 1981.7599999996696 utility D = -1981.7599999996696\n"
     ]
    },
    {
     "data": {
      "application/vnd.jupyter.widget-view+json": {
       "model_id": "40ee0a5664a64ab9bdcaa8c8f6d5b542",
       "version_major": 2,
       "version_minor": 0
      },
      "text/plain": [
       "  0%|          | 0/50000 [00:00<?, ?it/s]"
      ]
     },
     "metadata": {},
     "output_type": "display_data"
    },
    {
     "name": "stdout",
     "output_type": "stream",
     "text": [
      "for s = 0.1 a = 1 sA =  2 sd = 3 Ei = 0.3\n",
      "Utility A = 1981.3399999996789 utility D = -1981.3399999996789\n"
     ]
    },
    {
     "data": {
      "application/vnd.jupyter.widget-view+json": {
       "model_id": "b90afc88590a41eeb9b4e1fefd322cd4",
       "version_major": 2,
       "version_minor": 0
      },
      "text/plain": [
       "  0%|          | 0/50000 [00:00<?, ?it/s]"
      ]
     },
     "metadata": {},
     "output_type": "display_data"
    },
    {
     "name": "stdout",
     "output_type": "stream",
     "text": [
      "for s = 0.1 a = 1 sA =  2 sd = 3 Ei = 0.4\n",
      "Utility A = 1987.2999999996746 utility D = -1987.2999999996746\n"
     ]
    },
    {
     "data": {
      "application/vnd.jupyter.widget-view+json": {
       "model_id": "93ea71872f924f7e8e659f1fa5dc5c5b",
       "version_major": 2,
       "version_minor": 0
      },
      "text/plain": [
       "  0%|          | 0/50000 [00:00<?, ?it/s]"
      ]
     },
     "metadata": {},
     "output_type": "display_data"
    },
    {
     "name": "stdout",
     "output_type": "stream",
     "text": [
      "for s = 0.1 a = 1 sA =  2 sd = 3 Ei = 0.5\n",
      "Utility A = 1988.9699999996556 utility D = -1988.9699999996556\n"
     ]
    },
    {
     "data": {
      "application/vnd.jupyter.widget-view+json": {
       "model_id": "af155e8dea6d46a198b8cb2e348e4138",
       "version_major": 2,
       "version_minor": 0
      },
      "text/plain": [
       "  0%|          | 0/50000 [00:00<?, ?it/s]"
      ]
     },
     "metadata": {},
     "output_type": "display_data"
    },
    {
     "name": "stdout",
     "output_type": "stream",
     "text": [
      "for s = 0.1 a = 1 sA =  2 sd = 3 Ei = 0.6\n",
      "Utility A = 1966.289999999665 utility D = -1966.289999999665\n"
     ]
    },
    {
     "data": {
      "application/vnd.jupyter.widget-view+json": {
       "model_id": "98a1f9187c9f4cb1ae415550e00c7bf2",
       "version_major": 2,
       "version_minor": 0
      },
      "text/plain": [
       "  0%|          | 0/50000 [00:00<?, ?it/s]"
      ]
     },
     "metadata": {},
     "output_type": "display_data"
    },
    {
     "name": "stdout",
     "output_type": "stream",
     "text": [
      "for s = 0.1 a = 1 sA =  2 sd = 3 Ei = 0.7\n",
      "Utility A = 1979.6599999996636 utility D = -1979.6599999996636\n"
     ]
    },
    {
     "data": {
      "application/vnd.jupyter.widget-view+json": {
       "model_id": "3b0ab1c139e249058ef429d917c5d0d9",
       "version_major": 2,
       "version_minor": 0
      },
      "text/plain": [
       "  0%|          | 0/50000 [00:00<?, ?it/s]"
      ]
     },
     "metadata": {},
     "output_type": "display_data"
    },
    {
     "name": "stdout",
     "output_type": "stream",
     "text": [
      "for s = 0.1 a = 1 sA =  2 sd = 3 Ei = 0.8\n",
      "Utility A = 1971.469999999663 utility D = -1971.469999999663\n"
     ]
    },
    {
     "data": {
      "application/vnd.jupyter.widget-view+json": {
       "model_id": "9f2b1b40101e4133bf368b0183980834",
       "version_major": 2,
       "version_minor": 0
      },
      "text/plain": [
       "  0%|          | 0/50000 [00:00<?, ?it/s]"
      ]
     },
     "metadata": {},
     "output_type": "display_data"
    },
    {
     "name": "stdout",
     "output_type": "stream",
     "text": [
      "for s = 0.1 a = 1 sA =  2 sd = 3 Ei = 0.9\n",
      "Utility A = 1999.0199999996667 utility D = -1999.0199999996667\n"
     ]
    },
    {
     "data": {
      "application/vnd.jupyter.widget-view+json": {
       "model_id": "db78ad5ce234416397c9ade152a60565",
       "version_major": 2,
       "version_minor": 0
      },
      "text/plain": [
       "  0%|          | 0/50000 [00:00<?, ?it/s]"
      ]
     },
     "metadata": {},
     "output_type": "display_data"
    },
    {
     "name": "stdout",
     "output_type": "stream",
     "text": [
      "for s = 0.1 a = 2 sA =  1 sd = 1 Ei = 0.1\n",
      "Utility A = 20348.37000000129 utility D = -20950.807500000697\n"
     ]
    },
    {
     "data": {
      "application/vnd.jupyter.widget-view+json": {
       "model_id": "ee0e4c95d452449995e6fcd917d06694",
       "version_major": 2,
       "version_minor": 0
      },
      "text/plain": [
       "  0%|          | 0/50000 [00:00<?, ?it/s]"
      ]
     },
     "metadata": {},
     "output_type": "display_data"
    },
    {
     "name": "stdout",
     "output_type": "stream",
     "text": [
      "for s = 0.1 a = 2 sA =  1 sd = 1 Ei = 0.2\n",
      "Utility A = 20442.540000001 utility D = -21155.52000000005\n"
     ]
    },
    {
     "data": {
      "application/vnd.jupyter.widget-view+json": {
       "model_id": "e744f44883bc40ac822367fbdba10287",
       "version_major": 2,
       "version_minor": 0
      },
      "text/plain": [
       "  0%|          | 0/50000 [00:00<?, ?it/s]"
      ]
     },
     "metadata": {},
     "output_type": "display_data"
    },
    {
     "name": "stdout",
     "output_type": "stream",
     "text": [
      "for s = 0.1 a = 2 sA =  1 sd = 1 Ei = 0.3\n",
      "Utility A = 19853.470000001238 utility D = -20868.090000001604\n"
     ]
    },
    {
     "data": {
      "application/vnd.jupyter.widget-view+json": {
       "model_id": "a9a4d097b65c4a77806b07fd240e9062",
       "version_major": 2,
       "version_minor": 0
      },
      "text/plain": [
       "  0%|          | 0/50000 [00:00<?, ?it/s]"
      ]
     },
     "metadata": {},
     "output_type": "display_data"
    },
    {
     "name": "stdout",
     "output_type": "stream",
     "text": [
      "for s = 0.1 a = 2 sA =  1 sd = 1 Ei = 0.4\n",
      "Utility A = 13155.890000000385 utility D = -14625.09000000042\n"
     ]
    },
    {
     "data": {
      "application/vnd.jupyter.widget-view+json": {
       "model_id": "3c690a1ca2b94c37b4afbdcdd8843bfb",
       "version_major": 2,
       "version_minor": 0
      },
      "text/plain": [
       "  0%|          | 0/50000 [00:00<?, ?it/s]"
      ]
     },
     "metadata": {},
     "output_type": "display_data"
    },
    {
     "name": "stdout",
     "output_type": "stream",
     "text": [
      "for s = 0.1 a = 2 sA =  1 sd = 1 Ei = 0.5\n",
      "Utility A = 20491.060000001355 utility D = -21063.720000002042\n"
     ]
    },
    {
     "data": {
      "application/vnd.jupyter.widget-view+json": {
       "model_id": "4a3340dc41f0475496646f63adab0569",
       "version_major": 2,
       "version_minor": 0
      },
      "text/plain": [
       "  0%|          | 0/50000 [00:00<?, ?it/s]"
      ]
     },
     "metadata": {},
     "output_type": "display_data"
    },
    {
     "name": "stdout",
     "output_type": "stream",
     "text": [
      "for s = 0.1 a = 2 sA =  1 sd = 1 Ei = 0.6\n",
      "Utility A = 20559.220000001085 utility D = -21130.600000001763\n"
     ]
    },
    {
     "data": {
      "application/vnd.jupyter.widget-view+json": {
       "model_id": "e49aeedad19f42f6961868fc6f3947fe",
       "version_major": 2,
       "version_minor": 0
      },
      "text/plain": [
       "  0%|          | 0/50000 [00:00<?, ?it/s]"
      ]
     },
     "metadata": {},
     "output_type": "display_data"
    },
    {
     "name": "stdout",
     "output_type": "stream",
     "text": [
      "for s = 0.1 a = 2 sA =  1 sd = 1 Ei = 0.7\n",
      "Utility A = 20385.750000001415 utility D = -20963.22000000206\n"
     ]
    },
    {
     "data": {
      "application/vnd.jupyter.widget-view+json": {
       "model_id": "7162c5f5b8da47e19441c81716418330",
       "version_major": 2,
       "version_minor": 0
      },
      "text/plain": [
       "  0%|          | 0/50000 [00:00<?, ?it/s]"
      ]
     },
     "metadata": {},
     "output_type": "display_data"
    },
    {
     "name": "stdout",
     "output_type": "stream",
     "text": [
      "for s = 0.1 a = 2 sA =  1 sd = 1 Ei = 0.8\n",
      "Utility A = 20390.510000001123 utility D = -20964.890000001673\n"
     ]
    },
    {
     "data": {
      "application/vnd.jupyter.widget-view+json": {
       "model_id": "613726c1e83d4668a80671538d7708f1",
       "version_major": 2,
       "version_minor": 0
      },
      "text/plain": [
       "  0%|          | 0/50000 [00:00<?, ?it/s]"
      ]
     },
     "metadata": {},
     "output_type": "display_data"
    },
    {
     "name": "stdout",
     "output_type": "stream",
     "text": [
      "for s = 0.1 a = 2 sA =  1 sd = 1 Ei = 0.9\n",
      "Utility A = 20428.470000001285 utility D = -20993.290000001733\n"
     ]
    },
    {
     "data": {
      "application/vnd.jupyter.widget-view+json": {
       "model_id": "82463b3a2f0d4723a0a0718dcfca50f7",
       "version_major": 2,
       "version_minor": 0
      },
      "text/plain": [
       "  0%|          | 0/50000 [00:00<?, ?it/s]"
      ]
     },
     "metadata": {},
     "output_type": "display_data"
    },
    {
     "name": "stdout",
     "output_type": "stream",
     "text": [
      "for s = 0.1 a = 2 sA =  1 sd = 2 Ei = 0.1\n",
      "Utility A = 20949.57000000182 utility D = -20958.165090508777\n"
     ]
    },
    {
     "data": {
      "application/vnd.jupyter.widget-view+json": {
       "model_id": "80d2d54f73374ece9d6bcf39e8efc914",
       "version_major": 2,
       "version_minor": 0
      },
      "text/plain": [
       "  0%|          | 0/50000 [00:00<?, ?it/s]"
      ]
     },
     "metadata": {},
     "output_type": "display_data"
    },
    {
     "ename": "KeyboardInterrupt",
     "evalue": "",
     "output_type": "error",
     "traceback": [
      "\u001b[0;31m---------------------------------------------------------------------------\u001b[0m",
      "\u001b[0;31mKeyboardInterrupt\u001b[0m                         Traceback (most recent call last)",
      "\u001b[0;32m/tmp/ipykernel_6164/1064939286.py\u001b[0m in \u001b[0;36m<module>\u001b[0;34m\u001b[0m\n\u001b[1;32m    261\u001b[0m                             \u001b[0mimportantMachineValues\u001b[0m \u001b[0;34m=\u001b[0m \u001b[0mGetImportantMachineValues\u001b[0m\u001b[0;34m(\u001b[0m\u001b[0mmachineValues\u001b[0m\u001b[0;34m)\u001b[0m\u001b[0;34m\u001b[0m\u001b[0;34m\u001b[0m\u001b[0m\n\u001b[1;32m    262\u001b[0m                             \u001b[0mmachineArray\u001b[0m \u001b[0;34m=\u001b[0m \u001b[0mGetMachineArray\u001b[0m\u001b[0;34m(\u001b[0m\u001b[0mmachineValues\u001b[0m\u001b[0;34m,\u001b[0m \u001b[0mvulnerableMachineValues\u001b[0m\u001b[0;34m,\u001b[0m \u001b[0mimportantMachineValues\u001b[0m\u001b[0;34m)\u001b[0m\u001b[0;34m\u001b[0m\u001b[0;34m\u001b[0m\u001b[0m\n\u001b[0;32m--> 263\u001b[0;31m                             \u001b[0mtmp\u001b[0m \u001b[0;34m=\u001b[0m \u001b[0mComparisonStrategyPP\u001b[0m\u001b[0;34m(\u001b[0m\u001b[0mmachineArray\u001b[0m\u001b[0;34m,\u001b[0m \u001b[0mEi\u001b[0m\u001b[0;34m,\u001b[0m \u001b[0ma\u001b[0m\u001b[0;34m)\u001b[0m\u001b[0;34m\u001b[0m\u001b[0;34m\u001b[0m\u001b[0m\n\u001b[0m\u001b[1;32m    264\u001b[0m                             \u001b[0;32mif\u001b[0m \u001b[0mtmp\u001b[0m \u001b[0;34m==\u001b[0m \u001b[0;32mTrue\u001b[0m\u001b[0;34m:\u001b[0m\u001b[0;34m\u001b[0m\u001b[0;34m\u001b[0m\u001b[0m\n\u001b[1;32m    265\u001b[0m                                 \u001b[0mutilityDefender\u001b[0m \u001b[0;34m+=\u001b[0m \u001b[0mUtilityDefender\u001b[0m\u001b[0;34m(\u001b[0m\u001b[0ms\u001b[0m\u001b[0;34m,\u001b[0m \u001b[0ma\u001b[0m\u001b[0;34m,\u001b[0m \u001b[0mEi\u001b[0m\u001b[0;34m,\u001b[0m \u001b[0mmachineArray\u001b[0m\u001b[0;34m)\u001b[0m\u001b[0;34m\u001b[0m\u001b[0;34m\u001b[0m\u001b[0m\n",
      "\u001b[0;32m/tmp/ipykernel_6164/1064939286.py\u001b[0m in \u001b[0;36mComparisonStrategyPP\u001b[0;34m(machineArray, Ei, a)\u001b[0m\n\u001b[1;32m    176\u001b[0m \u001b[0;32mdef\u001b[0m \u001b[0mComparisonStrategyPP\u001b[0m\u001b[0;34m(\u001b[0m\u001b[0mmachineArray\u001b[0m\u001b[0;34m,\u001b[0m \u001b[0mEi\u001b[0m\u001b[0;34m,\u001b[0m \u001b[0ma\u001b[0m\u001b[0;34m)\u001b[0m\u001b[0;34m:\u001b[0m\u001b[0;34m\u001b[0m\u001b[0;34m\u001b[0m\u001b[0m\n\u001b[1;32m    177\u001b[0m     \u001b[0mattackerProportionalEffort\u001b[0m \u001b[0;34m=\u001b[0m \u001b[0mAttackerStrategyProportional\u001b[0m\u001b[0;34m(\u001b[0m\u001b[0mmachineArray\u001b[0m\u001b[0;34m)\u001b[0m\u001b[0;34m\u001b[0m\u001b[0;34m\u001b[0m\u001b[0m\n\u001b[0;32m--> 178\u001b[0;31m     \u001b[0mDefenderStrategyProportional\u001b[0m\u001b[0;34m(\u001b[0m\u001b[0mmachineArray\u001b[0m\u001b[0;34m,\u001b[0m \u001b[0mEi\u001b[0m\u001b[0;34m,\u001b[0m \u001b[0ma\u001b[0m\u001b[0;34m)\u001b[0m\u001b[0;34m\u001b[0m\u001b[0;34m\u001b[0m\u001b[0m\n\u001b[0m\u001b[1;32m    179\u001b[0m     \u001b[0mcount\u001b[0m \u001b[0;34m=\u001b[0m \u001b[0;36m0\u001b[0m\u001b[0;34m\u001b[0m\u001b[0;34m\u001b[0m\u001b[0m\n\u001b[1;32m    180\u001b[0m     \u001b[0;32mfor\u001b[0m \u001b[0mi\u001b[0m \u001b[0;32min\u001b[0m \u001b[0mrange\u001b[0m\u001b[0;34m(\u001b[0m\u001b[0mlen\u001b[0m\u001b[0;34m(\u001b[0m\u001b[0mmachineArray\u001b[0m\u001b[0;34m)\u001b[0m\u001b[0;34m)\u001b[0m\u001b[0;34m:\u001b[0m\u001b[0;34m\u001b[0m\u001b[0;34m\u001b[0m\u001b[0m\n",
      "\u001b[0;32m/tmp/ipykernel_6164/1064939286.py\u001b[0m in \u001b[0;36mDefenderStrategyProportional\u001b[0;34m(machineArray, Ei, a)\u001b[0m\n\u001b[1;32m    147\u001b[0m \u001b[0;32mdef\u001b[0m \u001b[0mDefenderStrategyProportional\u001b[0m\u001b[0;34m(\u001b[0m\u001b[0mmachineArray\u001b[0m\u001b[0;34m,\u001b[0m \u001b[0mEi\u001b[0m\u001b[0;34m,\u001b[0m \u001b[0ma\u001b[0m\u001b[0;34m)\u001b[0m\u001b[0;34m:\u001b[0m\u001b[0;34m\u001b[0m\u001b[0;34m\u001b[0m\u001b[0m\n\u001b[1;32m    148\u001b[0m     \u001b[0;32mfor\u001b[0m \u001b[0mi\u001b[0m \u001b[0;32min\u001b[0m \u001b[0mrange\u001b[0m\u001b[0;34m(\u001b[0m\u001b[0mlen\u001b[0m\u001b[0;34m(\u001b[0m\u001b[0mmachineArray\u001b[0m\u001b[0;34m)\u001b[0m\u001b[0;34m)\u001b[0m\u001b[0;34m:\u001b[0m\u001b[0;34m\u001b[0m\u001b[0;34m\u001b[0m\u001b[0m\n\u001b[0;32m--> 149\u001b[0;31m         \u001b[0;32mif\u001b[0m \u001b[0mfloat\u001b[0m\u001b[0;34m(\u001b[0m\u001b[0mCheckCost\u001b[0m\u001b[0;34m(\u001b[0m\u001b[0mstr\u001b[0m\u001b[0;34m(\u001b[0m\u001b[0ma\u001b[0m\u001b[0;34m)\u001b[0m\u001b[0;34m)\u001b[0m\u001b[0;34m)\u001b[0m \u001b[0;34m<=\u001b[0m \u001b[0mfloat\u001b[0m\u001b[0;34m(\u001b[0m\u001b[0mmachineArray\u001b[0m\u001b[0;34m[\u001b[0m\u001b[0mi\u001b[0m\u001b[0;34m]\u001b[0m\u001b[0;34m.\u001b[0m\u001b[0mpercentValue\u001b[0m\u001b[0;34m)\u001b[0m \u001b[0;34m*\u001b[0m \u001b[0mEi\u001b[0m\u001b[0;34m:\u001b[0m\u001b[0;34m\u001b[0m\u001b[0;34m\u001b[0m\u001b[0m\n\u001b[0m\u001b[1;32m    150\u001b[0m             \u001b[0mmachineArray\u001b[0m\u001b[0;34m[\u001b[0m\u001b[0mi\u001b[0m\u001b[0;34m]\u001b[0m\u001b[0;34m.\u001b[0m\u001b[0mchangePossibilityProtection\u001b[0m\u001b[0;34m(\u001b[0m\u001b[0;32mFalse\u001b[0m\u001b[0;34m)\u001b[0m\u001b[0;34m\u001b[0m\u001b[0;34m\u001b[0m\u001b[0m\n\u001b[1;32m    151\u001b[0m         \u001b[0;32melse\u001b[0m\u001b[0;34m:\u001b[0m\u001b[0;34m\u001b[0m\u001b[0;34m\u001b[0m\u001b[0m\n",
      "\u001b[0;32m/tmp/ipykernel_6164/1064939286.py\u001b[0m in \u001b[0;36mCheckCost\u001b[0;34m(a)\u001b[0m\n\u001b[1;32m     78\u001b[0m \u001b[0;31m#это все возможные разрывы функции стоимости на данном промежутке 1-10\u001b[0m\u001b[0;34m\u001b[0m\u001b[0;34m\u001b[0m\u001b[0;34m\u001b[0m\u001b[0m\n\u001b[1;32m     79\u001b[0m \u001b[0;32mdef\u001b[0m \u001b[0mCheckCost\u001b[0m\u001b[0;34m(\u001b[0m\u001b[0ma\u001b[0m\u001b[0;34m)\u001b[0m\u001b[0;34m:\u001b[0m\u001b[0;34m\u001b[0m\u001b[0;34m\u001b[0m\u001b[0m\n\u001b[0;32m---> 80\u001b[0;31m     BreakFunc = {\n\u001b[0m\u001b[1;32m     81\u001b[0m         \u001b[0;34m'1'\u001b[0m\u001b[0;34m:\u001b[0m\u001b[0;34m'1'\u001b[0m\u001b[0;34m,\u001b[0m\u001b[0;34m\u001b[0m\u001b[0;34m\u001b[0m\u001b[0m\n\u001b[1;32m     82\u001b[0m         \u001b[0;34m'2'\u001b[0m\u001b[0;34m:\u001b[0m\u001b[0;34m'0.5'\u001b[0m\u001b[0;34m,\u001b[0m\u001b[0;34m\u001b[0m\u001b[0;34m\u001b[0m\u001b[0m\n",
      "\u001b[0;31mKeyboardInterrupt\u001b[0m: "
     ]
    }
   ],
   "source": [
    "import time\n",
    "import random\n",
    "from tqdm.notebook import tqdm\n",
    "\n",
    "\n",
    "class Machine:\n",
    "    \n",
    "    def __init__(self, vulnerable, percentValue, penetrate, protectionLevel, possibilityProtection):\n",
    "        self.vulnerable = vulnerable\n",
    "        self.percentValue = percentValue\n",
    "        self.penetrate = penetrate\n",
    "        self.protectionLevel = protectionLevel\n",
    "        self.possibilityProtection = possibilityProtection\n",
    "        \n",
    "    def changeVulnerable(self, vulnerable):\n",
    "        self.vulnerable = vulnerable\n",
    "    \n",
    "    def changeCost(self, percentValue):\n",
    "        self.percentValue = percentValue\n",
    "        \n",
    "    def changePenetrate(self, penetrate):\n",
    "        self.penetrate = penetrate\n",
    "    \n",
    "    def changeProtectionLevel(self, protectionLevel):\n",
    "        self.protectionLevel = protectionLevel\n",
    "    \n",
    "    def changePossibilityProtection(self, possibilityProtection):\n",
    "        self.possibilityProtection = possibilityProtection\n",
    "        \n",
    "    def pr(self):\n",
    "        print(self.vulnerable, self.percentValue, self.penetrate)\n",
    "\n",
    "        \n",
    "def printAllvalues(machineValues, vulnerableMachineValues, importantMachineValues):\n",
    "    print('machine values = ', machineValues, 'vulnerable machine values = ', vulnerableMachineValues, 'important machine values =', importantMachineValues)\n",
    "#получаем кол-во машин\n",
    "def GetMachineValues():\n",
    "    machineValues = random.randint(4, 15)\n",
    "    return machineValues\n",
    "#получаем кол-во уязвимых машин \n",
    "def GetVulnerableMachineValues(machineValues):\n",
    "    vulnerableMachineValues = random.randint(1, machineValues)\n",
    "    return vulnerableMachineValues\n",
    "#получаем номер главной машины\n",
    "def GetImportantMachineValues(machineValues):\n",
    "    importantMachineValues = random.randint(1, machineValues)\n",
    "    return importantMachineValues\n",
    "#получаем процент, который занимает главная машина \n",
    "def GetPercentValue():\n",
    "    percentValue = random.randint(30, 60)\n",
    "    return percentValue\n",
    "\n",
    "def GetMachineArray(machineValues, vulnerableMachineValues, importantMachineValues):\n",
    "    machineArray = []\n",
    "    percentValue = GetPercentValue() / 100\n",
    "    reversePercent = ((100 - percentValue) / (machineValues - 1)) / 100\n",
    "    reversePercent = (\"%.2f\" % reversePercent)\n",
    "    for i in range(machineValues):\n",
    "        if i == (importantMachineValues - 1):\n",
    "            tmp = Machine(False, percentValue, False, 0, False)\n",
    "        else:\n",
    "            tmp = Machine(False, reversePercent, False, 0, False)\n",
    "        machineArray.append(tmp)\n",
    "    #здесь баг - может 2 и более раз сгенерироваться\n",
    "    #одинаковое число и поэтому кол-во машин будет неточным\n",
    "    for i in range(0, vulnerableMachineValues):\n",
    "        j = random.randint(0, machineValues - 1)\n",
    "        machineArray[j].changeVulnerable(True)\n",
    "    return machineArray\n",
    "#возвращает число уязвимых машин, так как из-за бага\n",
    "#прошлое число уязвимых != новому\n",
    "def GetVulnerableMachine(machineValues, machineArray):\n",
    "    vulnerableMachine = 0\n",
    "    for i in range(machineValues):\n",
    "        if machineArray[i].vulnerable == True:\n",
    "            vulnerableMachine += 1\n",
    "    return vulnerableMachine\n",
    "#это все возможные разрывы функции стоимости на данном промежутке 1-10\n",
    "def CheckCost(a):\n",
    "    BreakFunc = {\n",
    "        '1':'1',\n",
    "        '2':'0.5',\n",
    "        '3':'0.333',\n",
    "        '4':'0.25',\n",
    "        '5':'0.2',\n",
    "        '6':'0.166',\n",
    "        '7':'0.142',\n",
    "        '8':'0.125',\n",
    "        '9':'0.111',\n",
    "        '10':'0.1'\n",
    "    }\n",
    "    return BreakFunc[a]\n",
    "#в этой функции есть разрыв, то что справа от него по x\n",
    "#то не получится защитить, так как не хватит ресурсов\n",
    "#этот разрыв в той точке, где знаменатель обращается в 0\n",
    "def CostFunction(s, a, Ei):\n",
    "    try:\n",
    "        return -(s * Ei * Ei)/(a * Ei - 1)\n",
    "    except ZeroDivisionError:\n",
    "        return 0\n",
    "\n",
    "def UtilityDefender(s, a, Ei, machineArray):\n",
    "    # l - процент понесенных потерь машин\n",
    "    tmp = 0\n",
    "    percent = len(machineArray) / 100\n",
    "    l = 0\n",
    "    for i in range(len(machineArray)):\n",
    "        if machineArray[i].penetrate == True:\n",
    "            l += percent\n",
    "            tmp += CostFunction(s, a, float(machineArray[i].protectionLevel))\n",
    "    return - l - tmp\n",
    "\n",
    "def UtilityAttacker(machineValues, machineArray):\n",
    "    percent = machineValues / 100\n",
    "    l = 0\n",
    "    for i in range(len(machineArray)):\n",
    "        if machineArray[i].penetrate == True:\n",
    "            l += percent\n",
    "    return l\n",
    "    \n",
    "def AttackerStrategyProportional(machineArray):\n",
    "    attackerProportionalEffort = []\n",
    "    for i in range(len(machineArray)):\n",
    "        tmp = machineArray[i].percentValue\n",
    "        attackerProportionalEffort.append(tmp)\n",
    "    return attackerProportionalEffort\n",
    "#Если в пером раунде атакующий взломал >= 1 машины\n",
    "#То он перераспределяет свои ресурсы\n",
    "#отложи эту функцию, пока что протестируем без перераспределения\n",
    "def AttackerStrategyProportionalRedistribution(machineArray):\n",
    "    attackerProportionalEffort = []\n",
    "    for i in range(len(machineArray)):\n",
    "        if machineArray[i].penetrate == False:\n",
    "            tmp = machineArray[i].percentValue\n",
    "            attackerProportionalEffort.append(tmp)\n",
    "        else:\n",
    "            attackerProportionalEffort.append(0)\n",
    "    return attackerProportionalEffort\n",
    "        \n",
    "def AttackerStrategyHigh():\n",
    "    attackerHighEffort = 1\n",
    "    return attackerHighEffort\n",
    "        \n",
    "def DefenderStrategyNothing():\n",
    "    return None\n",
    "    \n",
    "def DefenderStrategyProportional(machineArray, Ei, a):\n",
    "    for i in range(len(machineArray)):\n",
    "        if float(CheckCost(str(a))) <= float(machineArray[i].percentValue) * Ei:\n",
    "            machineArray[i].changePossibilityProtection(False)\n",
    "        else:\n",
    "            machineArray[i].changePossibilityProtection(True)\n",
    "            machineArray[i].changeProtectionLevel(\"%.2f\" % (float(machineArray[i].percentValue) * Ei))\n",
    "    \n",
    "def DefenderStrategyHigh(Ei, importantMachineValues, machineArray, a):\n",
    "    if float(CheckCost(str(a))) <= Ei:\n",
    "        machineArray[importantMachineValues - 1].changePossibilityProtection(False)\n",
    "    else:\n",
    "        machineArray[importantMachineValues - 1].changePossibilityProtection(True)\n",
    "        machineArray[importantMachineValues - 1].changeProtectionLevel(Ei)\n",
    "#P-атакующий H-защитник\n",
    "def ComparisonStrategyPH(machineArray, importantMachineValues, Ei):\n",
    "    attackerProportionalEffort = AttackerStrategyProportional(machineArray)\n",
    "    DefenderStrategyHigh(Ei, importantMachineValues, machineArray, a)\n",
    "    count = 0\n",
    "    for i in range(len(machineArray)):\n",
    "        if machineArray[i].vulnerable == True:\n",
    "            if attackerProportionalEffort[i] > machineArray[i].percentValue or attackerProportionalEffort[importantMachineValues - 1] > machineArray[importantMachineValues - 1].protectionLevel:\n",
    "                machineArray[i].changePenetrate(True)\n",
    "                count += 1\n",
    "    if count > 1:\n",
    "        return True\n",
    "    else:\n",
    "        return False\n",
    "#P-атакующий P-защитник\n",
    "def ComparisonStrategyPP(machineArray, Ei, a):\n",
    "    attackerProportionalEffort = AttackerStrategyProportional(machineArray)\n",
    "    DefenderStrategyProportional(machineArray, Ei, a)\n",
    "    count = 0\n",
    "    for i in range(len(machineArray)):\n",
    "        if float(attackerProportionalEffort[i]) > float(machineArray[i].protectionLevel):\n",
    "            if machineArray[i].vulnerable == True:\n",
    "                machineArray[i].changePenetrate(True)\n",
    "                count += 1\n",
    "    if count > 0:\n",
    "        return True\n",
    "    else:\n",
    "        return False\n",
    "#P - атакующий N - защитник\n",
    "def ComparisonStrategyPN(machineArray):\n",
    "    attackerProportionalEffort = AttackerStrategyProportional(machineArray)\n",
    "    count = 0\n",
    "    for i in range(len(machineArray)):\n",
    "        if float(attackerProportionalEffort[i]) > float(machineArray[i].percentValue):\n",
    "            if machineArray[i].vulnerable == True:\n",
    "                machineArray[i].changePenetrate(True)\n",
    "                count += 1\n",
    "    if count > 0:\n",
    "        return True\n",
    "    else:\n",
    "        return False\n",
    "#H-атакующий P-защитник\n",
    "def ComparisonStrategyHP(machineArray, Ei, importantMachineValues, a):\n",
    "    attackerHighEffort = AttackerStrategyHigh()\n",
    "    DefenderStrategyProportional(machineArray, Ei, a)\n",
    "    if attackerHighEffort > float(machineArray[importantMachineValues - 1].protectionLevel):\n",
    "        if machineArray[importantMachineValues - 1].vulnerable == True:\n",
    "            machineArray[importantMachineValues - 1].changePenetrate(True)\n",
    "            return True\n",
    "        else:\n",
    "            return False\n",
    "#H-атакующий H-защитник\n",
    "def ComparsionStrategyHH(Ei, importantMachineValues, machineArray, a):\n",
    "    attackerHighEffort = AttackerStrategyHigh()\n",
    "    DefenderStrategyHigh(Ei, importantMachineValues, machineArray, a)\n",
    "    if attackerHighEffort > float(machineArray[importantMachineValues - 1].protectionLevel):\n",
    "        if machineArray[importantMachineValues - 1].vulnerable == True:\n",
    "            machineArray[importantMachineValues - 1].changePenetrate(True)\n",
    "            return True\n",
    "        else:\n",
    "            return False\n",
    "#H-Атакующий N-защитник\n",
    "def ComparsionStrategyHN(machineArray, importantMachineValues):\n",
    "    attackerHighEffort = AttackerStrategyHigh()\n",
    "    if float(attackerHighEffort) > float(machineArray[importantMachineValues - 1].percentValue):\n",
    "        if machineArray[importantMachineValues - 1].vulnerable == True:\n",
    "            machineArray[importantMachineValues - 1].changePenetrate(True)\n",
    "            return True\n",
    "        else:\n",
    "            return False\n",
    "\n",
    "for s in (0.1, 0.2, 0.3, 0.4, 0.5, 0.6, 0.7, 0.8, 0.9):\n",
    "    for a in range(1, 11, 1):\n",
    "        for strategyA in (1, 2):\n",
    "            for strategyD in (1, 2, 3):\n",
    "                for Ei in (0.1, 0.2, 0.3, 0.4, 0.5, 0.6, 0.7, 0.8, 0.9):\n",
    "                    if strategyA == 1 and strategyD == 1:\n",
    "                        j = 0\n",
    "                        utilityDefender = 0\n",
    "                        utilityAttacker = 0\n",
    "                        for j in tqdm(range(50000)):\n",
    "                            machineValues = GetMachineValues()\n",
    "                            vulnerableMachineValues = GetVulnerableMachineValues(machineValues)\n",
    "                            importantMachineValues = GetImportantMachineValues(machineValues)\n",
    "                            machineArray = GetMachineArray(machineValues, vulnerableMachineValues, importantMachineValues)\n",
    "                            tmp = ComparisonStrategyPH(machineArray, importantMachineValues, Ei)\n",
    "                            if tmp == True:\n",
    "                                utilityDefender += UtilityDefender(s, a, Ei, machineArray)\n",
    "                                utilityAttacker += UtilityAttacker(machineValues, machineArray)\n",
    "                            else:\n",
    "                                utilityDefender += UtilityDefender(s, a, Ei, machineArray)\n",
    "                        print('for s =', s,'a =', a, 'sA = ', strategyA, 'sd =', strategyD, 'Ei =', Ei)\n",
    "                        print('Utility A =', utilityAttacker, 'utility D =', utilityDefender)\n",
    "                    elif strategyA == 1 and strategyD == 2:\n",
    "                        j = 0\n",
    "                        utilityDefender = 0\n",
    "                        utilityAttacker = 0\n",
    "                        for j in tqdm(range(50000)):\n",
    "                            machineValues = GetMachineValues()\n",
    "                            vulnerableMachineValues = GetVulnerableMachineValues(machineValues)\n",
    "                            importantMachineValues = GetImportantMachineValues(machineValues)\n",
    "                            machineArray = GetMachineArray(machineValues, vulnerableMachineValues, importantMachineValues)\n",
    "                            tmp = ComparisonStrategyPP(machineArray, Ei, a)\n",
    "                            if tmp == True:\n",
    "                                utilityDefender += UtilityDefender(s, a, Ei, machineArray)\n",
    "                                utilityAttacker += UtilityAttacker(machineValues, machineArray)\n",
    "                            else:\n",
    "                                utilityDefender += UtilityDefender(s, a, Ei, machineArray)\n",
    "                        print('for s =', s,'a =', a, 'sA = ', strategyA, 'sd =', strategyD, 'Ei =', Ei)\n",
    "                        print('Utility A =', utilityAttacker, 'utility D =', utilityDefender)\n",
    "                    elif strategyA == 1 and strategyD == 3:\n",
    "                        j = 0\n",
    "                        utilityDefender = 0\n",
    "                        utilityAttacker = 0\n",
    "                        for j in tqdm(range(50000)):\n",
    "                            machineValues = GetMachineValues()\n",
    "                            vulnerableMachineValues = GetVulnerableMachineValues(machineValues)\n",
    "                            importantMachineValues = GetImportantMachineValues(machineValues)\n",
    "                            machineArray = GetMachineArray(machineValues, vulnerableMachineValues, importantMachineValues)\n",
    "                            tmp = ComparisonStrategyPN(machineArray)\n",
    "                            if tmp == True:\n",
    "                                utilityDefender += UtilityDefender(s, a, Ei, machineArray)\n",
    "                                utilityAttacker += UtilityAttacker(machineValues, machineArray)\n",
    "                            else:\n",
    "                                utilityDefender += UtilityDefender(s, a, Ei, machineArray)\n",
    "                        print('for s =', s,'a =', a, 'sA = ', strategyA, 'sd =', strategyD, 'Ei =', Ei)\n",
    "                        print('Utility A =', utilityAttacker, 'utility D =', utilityDefender)\n",
    "                    elif strategyA == 2 and strategyD == 1:\n",
    "                        j = 0\n",
    "                        utilityDefender = 0\n",
    "                        utilityAttacker = 0\n",
    "                        for j in tqdm(range(50000)):\n",
    "                            machineValues = GetMachineValues()\n",
    "                            vulnerableMachineValues = GetVulnerableMachineValues(machineValues)\n",
    "                            importantMachineValues = GetImportantMachineValues(machineValues)\n",
    "                            machineArray = GetMachineArray(machineValues, vulnerableMachineValues, importantMachineValues)\n",
    "                            tmp = ComparisonStrategyHP(machineArray, Ei, importantMachineValues, a)\n",
    "                            if tmp == True:\n",
    "                                utilityDefender += UtilityDefender(s, a, Ei, machineArray)\n",
    "                                utilityAttacker += UtilityAttacker(machineValues, machineArray)\n",
    "                            else:\n",
    "                                utilityDefender += UtilityDefender(s, a, Ei, machineArray)\n",
    "                        print('for s =', s,'a =', a, 'sA = ', strategyA, 'sd =', strategyD, 'Ei =', Ei)\n",
    "                        print('Utility A =', utilityAttacker, 'utility D =', utilityDefender)\n",
    "                    elif strategyA == 2 and strategyD == 2:\n",
    "                        j = 0\n",
    "                        utilityDefender = 0\n",
    "                        utilityAttacker = 0\n",
    "                        for j in tqdm(range(50000)):\n",
    "                            machineValues = GetMachineValues()\n",
    "                            vulnerableMachineValues = GetVulnerableMachineValues(machineValues)\n",
    "                            importantMachineValues = GetImportantMachineValues(machineValues)\n",
    "                            machineArray = GetMachineArray(machineValues, vulnerableMachineValues, importantMachineValues)\n",
    "                            tmp = ComparsionStrategyHH(Ei, importantMachineValues, machineArray, a)\n",
    "                            if tmp == True:\n",
    "                                utilityDefender += UtilityDefender(s, a, Ei, machineArray)\n",
    "                                utilityAttacker += UtilityAttacker(machineValues, machineArray)\n",
    "                            else:\n",
    "                                utilityDefender += UtilityDefender(s, a, Ei, machineArray)\n",
    "                        print('for s =', s,'a =', a, 'sA = ', strategyA, 'sd =', strategyD, 'Ei =', Ei)\n",
    "                        print('Utility A =', utilityAttacker, 'utility D =', utilityDefender)\n",
    "                    elif strategyA == 2 and strategyD == 3:\n",
    "                        j = 0\n",
    "                        utilityDefender = 0\n",
    "                        utilityAttacker = 0\n",
    "                        for j in tqdm(range(50000)):\n",
    "                            machineValues = GetMachineValues()\n",
    "                            vulnerableMachineValues = GetVulnerableMachineValues(machineValues)\n",
    "                            importantMachineValues = GetImportantMachineValues(machineValues)\n",
    "                            machineArray = GetMachineArray(machineValues, vulnerableMachineValues, importantMachineValues)\n",
    "                            tmp = ComparsionStrategyHN(machineArray, importantMachineValues)\n",
    "                            if tmp == True:\n",
    "                                utilityDefender += UtilityDefender(s, a, Ei, machineArray)\n",
    "                                utilityAttacker += UtilityAttacker(machineValues, machineArray)\n",
    "                            else:\n",
    "                                utilityDefender += UtilityDefender(s, a, Ei, machineArray)\n",
    "                        print('for s =', s,'a =', a, 'sA = ', strategyA, 'sd =', strategyD, 'Ei =', Ei)\n",
    "                        print('Utility A =', utilityAttacker, 'utility D =', utilityDefender)"
   ]
  },
  {
   "cell_type": "code",
   "execution_count": 14,
   "id": "dec533eb",
   "metadata": {},
   "outputs": [
    {
     "name": "stdout",
     "output_type": "stream",
     "text": [
      "1235.40\n"
     ]
    }
   ],
   "source": [
    "class Machine:\n",
    "    \n",
    "    def __init__(self, vulnerable, percentValue, penetrate, protectionLevel, possibilityProtection):\n",
    "        self.vulnerable = vulnerable\n",
    "        self.percentValue = percentValue\n",
    "        self.penetrate = penetrate\n",
    "        self.protectionLevel = protectionLevel\n",
    "        self.possibilityProtection = possibilityProtection\n",
    "        \n",
    "    def changeVulnerable(self, vulnerable):\n",
    "        self.vulnerable = vulnerable\n",
    "    \n",
    "    def changeCost(self, percentValue):\n",
    "        self.percentValue = percentValue\n",
    "        \n",
    "    def changePenetrate(self, penetrate):\n",
    "        self.penetrate = penetrate\n",
    "    \n",
    "    def changeProtectionLevel(self, protectionLevel):\n",
    "        self.protectionLevel = protectionLevel\n",
    "    \n",
    "    def changePossibilityProtection(self, possibilityProtection):\n",
    "        self.possibilityProtection = possibilityProtection\n",
    "    \n",
    "    def pr(self):\n",
    "        print(self.protectionLevel)\n",
    "        \n",
    "\n",
    "def DefenderStrategyProportional(machineArray, Ei):\n",
    "    for i in range(len(machineArray)):\n",
    "        machineArray[i].changeProtectionLevel(\"%.2f\" % (float(machineArray[i].percentValue) * Ei))\n",
    "\n",
    "machineArray = []\n",
    "tmp = Machine(False, 0.1, False, 0, False)\n",
    "machineArray.append(tmp)\n",
    "Ei = 12354\n",
    "DefenderStrategyProportional(machineArray, Ei)\n",
    "machineArray[0].pr()"
   ]
  },
  {
   "cell_type": "code",
   "execution_count": 6,
   "id": "54fab7e7",
   "metadata": {},
   "outputs": [
    {
     "name": "stdout",
     "output_type": "stream",
     "text": [
      "\u001b[31mERROR: Could not find a version that satisfies the requirement time (from versions: none)\u001b[0m\n",
      "\u001b[31mERROR: No matching distribution found for time\u001b[0m\n",
      "\u001b[33mWARNING: You are using pip version 21.2.3; however, version 21.3.1 is available.\n",
      "You should consider upgrading via the '/home/bkozeev/notebook/notebook/bin/python -m pip install --upgrade pip' command.\u001b[0m\n",
      "Note: you may need to restart the kernel to use updated packages.\n"
     ]
    }
   ],
   "source": []
  },
  {
   "cell_type": "code",
   "execution_count": null,
   "id": "2f15ad4a",
   "metadata": {},
   "outputs": [],
   "source": []
  }
 ],
 "metadata": {
  "kernelspec": {
   "display_name": "Python 3 (ipykernel)",
   "language": "python",
   "name": "python3"
  },
  "language_info": {
   "codemirror_mode": {
    "name": "ipython",
    "version": 3
   },
   "file_extension": ".py",
   "mimetype": "text/x-python",
   "name": "python",
   "nbconvert_exporter": "python",
   "pygments_lexer": "ipython3",
   "version": "3.8.10"
  }
 },
 "nbformat": 4,
 "nbformat_minor": 5
}
