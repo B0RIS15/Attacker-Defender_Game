{
 "cells": [
  {
   "cell_type": "code",
   "execution_count": 10,
   "id": "1299e310",
   "metadata": {},
   "outputs": [
    {
     "data": {
      "application/vnd.jupyter.widget-view+json": {
       "model_id": "5c392665a4124403953aa81544c3491e",
       "version_major": 2,
       "version_minor": 0
      },
      "text/plain": [
       "  0%|          | 0/50000 [00:00<?, ?it/s]"
      ]
     },
     "metadata": {},
     "output_type": "display_data"
    },
    {
     "name": "stdout",
     "output_type": "stream",
     "text": [
      "for s = 0.1 a = 1 sA =  1 sd = 1 Ei = 0.1\n",
      "Utility A = 20434.81000000122 utility D = -21039.203333333735\n"
     ]
    },
    {
     "data": {
      "application/vnd.jupyter.widget-view+json": {
       "model_id": "6915db9d54514321a3ddc0294ad55dfb",
       "version_major": 2,
       "version_minor": 0
      },
      "text/plain": [
       "  0%|          | 0/50000 [00:00<?, ?it/s]"
      ]
     },
     "metadata": {},
     "output_type": "display_data"
    },
    {
     "name": "stdout",
     "output_type": "stream",
     "text": [
      "for s = 0.1 a = 1 sA =  1 sd = 1 Ei = 0.2\n",
      "Utility A = 20374.700000001354 utility D = -21054.7650000012\n"
     ]
    },
    {
     "data": {
      "application/vnd.jupyter.widget-view+json": {
       "model_id": "72e50c7b2b1a47b4a7d9348ac247e662",
       "version_major": 2,
       "version_minor": 0
      },
      "text/plain": [
       "  0%|          | 0/50000 [00:00<?, ?it/s]"
      ]
     },
     "metadata": {},
     "output_type": "display_data"
    },
    {
     "name": "stdout",
     "output_type": "stream",
     "text": [
      "for s = 0.1 a = 1 sA =  1 sd = 1 Ei = 0.3\n",
      "Utility A = 19831.860000001452 utility D = -20640.838571429485\n"
     ]
    },
    {
     "data": {
      "application/vnd.jupyter.widget-view+json": {
       "model_id": "fde783bab6da45ee8248ae9d1f064f27",
       "version_major": 2,
       "version_minor": 0
      },
      "text/plain": [
       "  0%|          | 0/50000 [00:00<?, ?it/s]"
      ]
     },
     "metadata": {},
     "output_type": "display_data"
    },
    {
     "name": "stdout",
     "output_type": "stream",
     "text": [
      "for s = 0.1 a = 1 sA =  1 sd = 1 Ei = 0.4\n",
      "Utility A = 13175.650000000305 utility D = -13908.940000000319\n"
     ]
    },
    {
     "data": {
      "application/vnd.jupyter.widget-view+json": {
       "model_id": "a925a9dafd94493083c493596fa21858",
       "version_major": 2,
       "version_minor": 0
      },
      "text/plain": [
       "  0%|          | 0/50000 [00:00<?, ?it/s]"
      ]
     },
     "metadata": {},
     "output_type": "display_data"
    },
    {
     "name": "stdout",
     "output_type": "stream",
     "text": [
      "for s = 0.1 a = 1 sA =  1 sd = 1 Ei = 0.5\n",
      "Utility A = 6731.939999999776 utility D = -7268.6099999999\n"
     ]
    },
    {
     "data": {
      "application/vnd.jupyter.widget-view+json": {
       "model_id": "e1fbf5b9c89a43acbd2ebad081b0e0c4",
       "version_major": 2,
       "version_minor": 0
      },
      "text/plain": [
       "  0%|          | 0/50000 [00:00<?, ?it/s]"
      ]
     },
     "metadata": {},
     "output_type": "display_data"
    },
    {
     "name": "stdout",
     "output_type": "stream",
     "text": [
      "for s = 0.1 a = 1 sA =  1 sd = 1 Ei = 0.6\n",
      "Utility A = 0 utility D = 0\n"
     ]
    },
    {
     "data": {
      "application/vnd.jupyter.widget-view+json": {
       "model_id": "98bb527e266c4eceb879b261a5b530da",
       "version_major": 2,
       "version_minor": 0
      },
      "text/plain": [
       "  0%|          | 0/50000 [00:00<?, ?it/s]"
      ]
     },
     "metadata": {},
     "output_type": "display_data"
    },
    {
     "name": "stdout",
     "output_type": "stream",
     "text": [
      "for s = 0.1 a = 1 sA =  1 sd = 1 Ei = 0.7\n",
      "Utility A = 0 utility D = 0\n"
     ]
    },
    {
     "data": {
      "application/vnd.jupyter.widget-view+json": {
       "model_id": "bccf1b8f756842838a1df88925a70292",
       "version_major": 2,
       "version_minor": 0
      },
      "text/plain": [
       "  0%|          | 0/50000 [00:00<?, ?it/s]"
      ]
     },
     "metadata": {},
     "output_type": "display_data"
    },
    {
     "name": "stdout",
     "output_type": "stream",
     "text": [
      "for s = 0.1 a = 1 sA =  1 sd = 1 Ei = 0.8\n",
      "Utility A = 0 utility D = 0\n"
     ]
    },
    {
     "data": {
      "application/vnd.jupyter.widget-view+json": {
       "model_id": "3e590550446742f7b7584b8c2d8fc3aa",
       "version_major": 2,
       "version_minor": 0
      },
      "text/plain": [
       "  0%|          | 0/50000 [00:00<?, ?it/s]"
      ]
     },
     "metadata": {},
     "output_type": "display_data"
    },
    {
     "name": "stdout",
     "output_type": "stream",
     "text": [
      "for s = 0.1 a = 1 sA =  1 sd = 1 Ei = 0.9\n",
      "Utility A = 0 utility D = 0\n"
     ]
    },
    {
     "data": {
      "application/vnd.jupyter.widget-view+json": {
       "model_id": "b4015f83b3bb4eb69f0975c321bc70c3",
       "version_major": 2,
       "version_minor": 0
      },
      "text/plain": [
       "  0%|          | 0/50000 [00:00<?, ?it/s]"
      ]
     },
     "metadata": {},
     "output_type": "display_data"
    },
    {
     "name": "stdout",
     "output_type": "stream",
     "text": [
      "for s = 0.1 a = 1 sA =  1 sd = 2 Ei = 0.1\n",
      "Utility A = 20975.60000000192 utility D = -20983.913694761242\n"
     ]
    },
    {
     "data": {
      "application/vnd.jupyter.widget-view+json": {
       "model_id": "0f1d66d78d154fa1bbd2ed5ec64cb9fc",
       "version_major": 2,
       "version_minor": 0
      },
      "text/plain": [
       "  0%|          | 0/50000 [00:00<?, ?it/s]"
      ]
     },
     "metadata": {},
     "output_type": "display_data"
    },
    {
     "name": "stdout",
     "output_type": "stream",
     "text": [
      "for s = 0.1 a = 1 sA =  1 sd = 2 Ei = 0.2\n",
      "Utility A = 20955.27000000202 utility D = -20988.532083868547\n"
     ]
    },
    {
     "data": {
      "application/vnd.jupyter.widget-view+json": {
       "model_id": "290d58b57cf44581bc959a86f9ccf50b",
       "version_major": 2,
       "version_minor": 0
      },
      "text/plain": [
       "  0%|          | 0/50000 [00:00<?, ?it/s]"
      ]
     },
     "metadata": {},
     "output_type": "display_data"
    },
    {
     "name": "stdout",
     "output_type": "stream",
     "text": [
      "for s = 0.1 a = 1 sA =  1 sd = 2 Ei = 0.3\n",
      "Utility A = 20987.65000000203 utility D = -21063.40683559676\n"
     ]
    },
    {
     "data": {
      "application/vnd.jupyter.widget-view+json": {
       "model_id": "da2fc9df009d4552837dd532a4f61f99",
       "version_major": 2,
       "version_minor": 0
      },
      "text/plain": [
       "  0%|          | 0/50000 [00:00<?, ?it/s]"
      ]
     },
     "metadata": {},
     "output_type": "display_data"
    },
    {
     "name": "stdout",
     "output_type": "stream",
     "text": [
      "for s = 0.1 a = 1 sA =  1 sd = 2 Ei = 0.4\n",
      "Utility A = 20800.140000002015 utility D = -20944.238576579428\n"
     ]
    },
    {
     "data": {
      "application/vnd.jupyter.widget-view+json": {
       "model_id": "9fccc0610ffb43a78d6d07e3f932fb20",
       "version_major": 2,
       "version_minor": 0
      },
      "text/plain": [
       "  0%|          | 0/50000 [00:00<?, ?it/s]"
      ]
     },
     "metadata": {},
     "output_type": "display_data"
    },
    {
     "name": "stdout",
     "output_type": "stream",
     "text": [
      "for s = 0.1 a = 1 sA =  1 sd = 2 Ei = 0.5\n",
      "Utility A = 20854.93000000186 utility D = -21093.681961325525\n"
     ]
    },
    {
     "data": {
      "application/vnd.jupyter.widget-view+json": {
       "model_id": "9a0b27d28b504e8494783375fe0998d8",
       "version_major": 2,
       "version_minor": 0
      },
      "text/plain": [
       "  0%|          | 0/50000 [00:00<?, ?it/s]"
      ]
     },
     "metadata": {},
     "output_type": "display_data"
    },
    {
     "name": "stdout",
     "output_type": "stream",
     "text": [
      "for s = 0.1 a = 1 sA =  1 sd = 2 Ei = 0.6\n",
      "Utility A = 21050.18000000176 utility D = -21409.241223833375\n"
     ]
    },
    {
     "data": {
      "application/vnd.jupyter.widget-view+json": {
       "model_id": "e716fc932f654d68a2d7105692cdb8cd",
       "version_major": 2,
       "version_minor": 0
      },
      "text/plain": [
       "  0%|          | 0/50000 [00:00<?, ?it/s]"
      ]
     },
     "metadata": {},
     "output_type": "display_data"
    },
    {
     "name": "stdout",
     "output_type": "stream",
     "text": [
      "for s = 0.1 a = 1 sA =  1 sd = 2 Ei = 0.7\n",
      "Utility A = 20982.90000000199 utility D = -21498.21765074802\n"
     ]
    },
    {
     "data": {
      "application/vnd.jupyter.widget-view+json": {
       "model_id": "abb31a223a1041dbb9b541767b5a3930",
       "version_major": 2,
       "version_minor": 0
      },
      "text/plain": [
       "  0%|          | 0/50000 [00:00<?, ?it/s]"
      ]
     },
     "metadata": {},
     "output_type": "display_data"
    },
    {
     "name": "stdout",
     "output_type": "stream",
     "text": [
      "for s = 0.1 a = 1 sA =  1 sd = 2 Ei = 0.8\n",
      "Utility A = 20956.02000000184 utility D = -21667.222565142787\n"
     ]
    },
    {
     "data": {
      "application/vnd.jupyter.widget-view+json": {
       "model_id": "1be35b30660048708f97141cbf0bda36",
       "version_major": 2,
       "version_minor": 0
      },
      "text/plain": [
       "  0%|          | 0/50000 [00:00<?, ?it/s]"
      ]
     },
     "metadata": {},
     "output_type": "display_data"
    },
    {
     "name": "stdout",
     "output_type": "stream",
     "text": [
      "for s = 0.1 a = 1 sA =  1 sd = 2 Ei = 0.9\n",
      "Utility A = 21066.00000000178 utility D = -22035.330338621876\n"
     ]
    },
    {
     "data": {
      "application/vnd.jupyter.widget-view+json": {
       "model_id": "82f33c81765f4ae0a29427a5003adde7",
       "version_major": 2,
       "version_minor": 0
      },
      "text/plain": [
       "  0%|          | 0/50000 [00:00<?, ?it/s]"
      ]
     },
     "metadata": {},
     "output_type": "display_data"
    },
    {
     "name": "stdout",
     "output_type": "stream",
     "text": [
      "for s = 0.1 a = 1 sA =  1 sd = 3 Ei = 0.1\n",
      "Utility A = 0 utility D = 0\n"
     ]
    },
    {
     "data": {
      "application/vnd.jupyter.widget-view+json": {
       "model_id": "58a2a472d72d4b368370326e21b7ed4c",
       "version_major": 2,
       "version_minor": 0
      },
      "text/plain": [
       "  0%|          | 0/50000 [00:00<?, ?it/s]"
      ]
     },
     "metadata": {},
     "output_type": "display_data"
    },
    {
     "name": "stdout",
     "output_type": "stream",
     "text": [
      "for s = 0.1 a = 1 sA =  1 sd = 3 Ei = 0.2\n",
      "Utility A = 0 utility D = 0\n"
     ]
    },
    {
     "data": {
      "application/vnd.jupyter.widget-view+json": {
       "model_id": "403529c0a6a8468b82ca6b98b108bdd6",
       "version_major": 2,
       "version_minor": 0
      },
      "text/plain": [
       "  0%|          | 0/50000 [00:00<?, ?it/s]"
      ]
     },
     "metadata": {},
     "output_type": "display_data"
    },
    {
     "name": "stdout",
     "output_type": "stream",
     "text": [
      "for s = 0.1 a = 1 sA =  1 sd = 3 Ei = 0.3\n",
      "Utility A = 0 utility D = 0\n"
     ]
    },
    {
     "data": {
      "application/vnd.jupyter.widget-view+json": {
       "model_id": "6b0b459a92f04353b1454fc148919ebf",
       "version_major": 2,
       "version_minor": 0
      },
      "text/plain": [
       "  0%|          | 0/50000 [00:00<?, ?it/s]"
      ]
     },
     "metadata": {},
     "output_type": "display_data"
    },
    {
     "name": "stdout",
     "output_type": "stream",
     "text": [
      "for s = 0.1 a = 1 sA =  1 sd = 3 Ei = 0.4\n",
      "Utility A = 0 utility D = 0\n"
     ]
    },
    {
     "data": {
      "application/vnd.jupyter.widget-view+json": {
       "model_id": "4b6e7b41a10e4dddb7bde366bd4497b4",
       "version_major": 2,
       "version_minor": 0
      },
      "text/plain": [
       "  0%|          | 0/50000 [00:00<?, ?it/s]"
      ]
     },
     "metadata": {},
     "output_type": "display_data"
    },
    {
     "name": "stdout",
     "output_type": "stream",
     "text": [
      "for s = 0.1 a = 1 sA =  1 sd = 3 Ei = 0.5\n",
      "Utility A = 0 utility D = 0\n"
     ]
    },
    {
     "data": {
      "application/vnd.jupyter.widget-view+json": {
       "model_id": "ede28018559444caaffdb91965e0123b",
       "version_major": 2,
       "version_minor": 0
      },
      "text/plain": [
       "  0%|          | 0/50000 [00:00<?, ?it/s]"
      ]
     },
     "metadata": {},
     "output_type": "display_data"
    },
    {
     "name": "stdout",
     "output_type": "stream",
     "text": [
      "for s = 0.1 a = 1 sA =  1 sd = 3 Ei = 0.6\n",
      "Utility A = 0 utility D = 0\n"
     ]
    },
    {
     "data": {
      "application/vnd.jupyter.widget-view+json": {
       "model_id": "c0e7f89f177346b394c2c97d453852bd",
       "version_major": 2,
       "version_minor": 0
      },
      "text/plain": [
       "  0%|          | 0/50000 [00:00<?, ?it/s]"
      ]
     },
     "metadata": {},
     "output_type": "display_data"
    },
    {
     "name": "stdout",
     "output_type": "stream",
     "text": [
      "for s = 0.1 a = 1 sA =  1 sd = 3 Ei = 0.7\n",
      "Utility A = 0 utility D = 0\n"
     ]
    },
    {
     "data": {
      "application/vnd.jupyter.widget-view+json": {
       "model_id": "ef37d97765a24727a3ec66e7ea6377bd",
       "version_major": 2,
       "version_minor": 0
      },
      "text/plain": [
       "  0%|          | 0/50000 [00:00<?, ?it/s]"
      ]
     },
     "metadata": {},
     "output_type": "display_data"
    },
    {
     "name": "stdout",
     "output_type": "stream",
     "text": [
      "for s = 0.1 a = 1 sA =  1 sd = 3 Ei = 0.8\n",
      "Utility A = 0 utility D = 0\n"
     ]
    },
    {
     "data": {
      "application/vnd.jupyter.widget-view+json": {
       "model_id": "fdd899242ee64434bd48d9a18ad8644c",
       "version_major": 2,
       "version_minor": 0
      },
      "text/plain": [
       "  0%|          | 0/50000 [00:00<?, ?it/s]"
      ]
     },
     "metadata": {},
     "output_type": "display_data"
    },
    {
     "name": "stdout",
     "output_type": "stream",
     "text": [
      "for s = 0.1 a = 1 sA =  1 sd = 3 Ei = 0.9\n",
      "Utility A = 0 utility D = 0\n"
     ]
    },
    {
     "data": {
      "application/vnd.jupyter.widget-view+json": {
       "model_id": "b4f750931b8f44f0859a80715119fad0",
       "version_major": 2,
       "version_minor": 0
      },
      "text/plain": [
       "  0%|          | 0/50000 [00:00<?, ?it/s]"
      ]
     },
     "metadata": {},
     "output_type": "display_data"
    },
    {
     "name": "stdout",
     "output_type": "stream",
     "text": [
      "for s = 0.1 a = 1 sA =  2 sd = 1 Ei = 0.1\n",
      "Utility A = 1982.4099999996627 utility D = -1987.2024532693702\n"
     ]
    },
    {
     "data": {
      "application/vnd.jupyter.widget-view+json": {
       "model_id": "18e37e986623418fa38309bf9944ec43",
       "version_major": 2,
       "version_minor": 0
      },
      "text/plain": [
       "  0%|          | 0/50000 [00:00<?, ?it/s]"
      ]
     },
     "metadata": {},
     "output_type": "display_data"
    },
    {
     "name": "stdout",
     "output_type": "stream",
     "text": [
      "for s = 0.1 a = 1 sA =  2 sd = 1 Ei = 0.2\n",
      "Utility A = 1982.3399999996775 utility D = -2002.334234719936\n"
     ]
    },
    {
     "data": {
      "application/vnd.jupyter.widget-view+json": {
       "model_id": "c94e5e4edc3d4ce7ad8c2e16e866a2a7",
       "version_major": 2,
       "version_minor": 0
      },
      "text/plain": [
       "  0%|          | 0/50000 [00:00<?, ?it/s]"
      ]
     },
     "metadata": {},
     "output_type": "display_data"
    },
    {
     "name": "stdout",
     "output_type": "stream",
     "text": [
      "for s = 0.1 a = 1 sA =  2 sd = 1 Ei = 0.3\n",
      "Utility A = 1984.5299999996714 utility D = -2032.3700856203232\n"
     ]
    },
    {
     "data": {
      "application/vnd.jupyter.widget-view+json": {
       "model_id": "9bc9de78bacb4681b84560b1b2b2674b",
       "version_major": 2,
       "version_minor": 0
      },
      "text/plain": [
       "  0%|          | 0/50000 [00:00<?, ?it/s]"
      ]
     },
     "metadata": {},
     "output_type": "display_data"
    },
    {
     "name": "stdout",
     "output_type": "stream",
     "text": [
      "for s = 0.1 a = 1 sA =  2 sd = 1 Ei = 0.4\n",
      "Utility A = 1977.9299999996692 utility D = -2067.1161362949165\n"
     ]
    },
    {
     "data": {
      "application/vnd.jupyter.widget-view+json": {
       "model_id": "28490ff12c6a460f932baf1e358051d8",
       "version_major": 2,
       "version_minor": 0
      },
      "text/plain": [
       "  0%|          | 0/50000 [00:00<?, ?it/s]"
      ]
     },
     "metadata": {},
     "output_type": "display_data"
    },
    {
     "name": "stdout",
     "output_type": "stream",
     "text": [
      "for s = 0.1 a = 1 sA =  2 sd = 1 Ei = 0.5\n",
      "Utility A = 1997.3699999996682 utility D = -2145.7490261006924\n"
     ]
    },
    {
     "data": {
      "application/vnd.jupyter.widget-view+json": {
       "model_id": "04a628a7c92a43a1aa1bfad45d8aae08",
       "version_major": 2,
       "version_minor": 0
      },
      "text/plain": [
       "  0%|          | 0/50000 [00:00<?, ?it/s]"
      ]
     },
     "metadata": {},
     "output_type": "display_data"
    },
    {
     "name": "stdout",
     "output_type": "stream",
     "text": [
      "for s = 0.1 a = 1 sA =  2 sd = 1 Ei = 0.6\n",
      "Utility A = 1975.8999999996784 utility D = -2203.7233885528663\n"
     ]
    },
    {
     "data": {
      "application/vnd.jupyter.widget-view+json": {
       "model_id": "9d3d48fb1b5e40bf84be17f99fc4126a",
       "version_major": 2,
       "version_minor": 0
      },
      "text/plain": [
       "  0%|          | 0/50000 [00:00<?, ?it/s]"
      ]
     },
     "metadata": {},
     "output_type": "display_data"
    },
    {
     "name": "stdout",
     "output_type": "stream",
     "text": [
      "for s = 0.1 a = 1 sA =  2 sd = 1 Ei = 0.7\n",
      "Utility A = 1957.339999999678 utility D = -2290.4100711292317\n"
     ]
    },
    {
     "data": {
      "application/vnd.jupyter.widget-view+json": {
       "model_id": "93626a3df46d43ee9e7031888ea373fe",
       "version_major": 2,
       "version_minor": 0
      },
      "text/plain": [
       "  0%|          | 0/50000 [00:00<?, ?it/s]"
      ]
     },
     "metadata": {},
     "output_type": "display_data"
    },
    {
     "name": "stdout",
     "output_type": "stream",
     "text": [
      "for s = 0.1 a = 1 sA =  2 sd = 1 Ei = 0.8\n",
      "Utility A = 1983.6199999996616 utility D = -2454.1896333837026\n"
     ]
    },
    {
     "data": {
      "application/vnd.jupyter.widget-view+json": {
       "model_id": "8879d9b558a64167a971c7a24d03fc7f",
       "version_major": 2,
       "version_minor": 0
      },
      "text/plain": [
       "  0%|          | 0/50000 [00:00<?, ?it/s]"
      ]
     },
     "metadata": {},
     "output_type": "display_data"
    },
    {
     "name": "stdout",
     "output_type": "stream",
     "text": [
      "for s = 0.1 a = 1 sA =  2 sd = 1 Ei = 0.9\n",
      "Utility A = 1973.109999999662 utility D = -2624.959348847812\n"
     ]
    },
    {
     "data": {
      "application/vnd.jupyter.widget-view+json": {
       "model_id": "f528cc8ace914713904cc6f091ef7f2e",
       "version_major": 2,
       "version_minor": 0
      },
      "text/plain": [
       "  0%|          | 0/50000 [00:00<?, ?it/s]"
      ]
     },
     "metadata": {},
     "output_type": "display_data"
    },
    {
     "name": "stdout",
     "output_type": "stream",
     "text": [
      "for s = 0.1 a = 1 sA =  2 sd = 2 Ei = 0.1\n",
      "Utility A = 1976.9199999996636 utility D = -2000.5311111110007\n"
     ]
    },
    {
     "data": {
      "application/vnd.jupyter.widget-view+json": {
       "model_id": "0b726e7c8d7448f28f209c99f19ec5c1",
       "version_major": 2,
       "version_minor": 0
      },
      "text/plain": [
       "  0%|          | 0/50000 [00:00<?, ?it/s]"
      ]
     },
     "metadata": {},
     "output_type": "display_data"
    },
    {
     "name": "stdout",
     "output_type": "stream",
     "text": [
      "for s = 0.1 a = 1 sA =  2 sd = 2 Ei = 0.2\n",
      "Utility A = 1964.1899999996665 utility D = -2069.740000000264\n"
     ]
    },
    {
     "data": {
      "application/vnd.jupyter.widget-view+json": {
       "model_id": "91a425679cae406abc6bda2c2149c1ac",
       "version_major": 2,
       "version_minor": 0
      },
      "text/plain": [
       "  0%|          | 0/50000 [00:00<?, ?it/s]"
      ]
     },
     "metadata": {},
     "output_type": "display_data"
    },
    {
     "name": "stdout",
     "output_type": "stream",
     "text": [
      "for s = 0.1 a = 1 sA =  2 sd = 2 Ei = 0.3\n",
      "Utility A = 1979.4099999996583 utility D = -2253.7300000000055\n"
     ]
    },
    {
     "data": {
      "application/vnd.jupyter.widget-view+json": {
       "model_id": "3336bd2d06b8471c83545f75eb475c9e",
       "version_major": 2,
       "version_minor": 0
      },
      "text/plain": [
       "  0%|          | 0/50000 [00:00<?, ?it/s]"
      ]
     },
     "metadata": {},
     "output_type": "display_data"
    },
    {
     "name": "stdout",
     "output_type": "stream",
     "text": [
      "for s = 0.1 a = 1 sA =  2 sd = 2 Ei = 0.4\n",
      "Utility A = 1971.3199999996664 utility D = -2537.7733333333663\n"
     ]
    },
    {
     "data": {
      "application/vnd.jupyter.widget-view+json": {
       "model_id": "f84ec8f667e84a96b0bc5629734cbf03",
       "version_major": 2,
       "version_minor": 0
      },
      "text/plain": [
       "  0%|          | 0/50000 [00:00<?, ?it/s]"
      ]
     },
     "metadata": {},
     "output_type": "display_data"
    },
    {
     "name": "stdout",
     "output_type": "stream",
     "text": [
      "for s = 0.1 a = 1 sA =  2 sd = 2 Ei = 0.5\n",
      "Utility A = 1975.319999999682 utility D = -3036.020000000018\n"
     ]
    },
    {
     "data": {
      "application/vnd.jupyter.widget-view+json": {
       "model_id": "248c13903b7e41218e17c28b2abb97da",
       "version_major": 2,
       "version_minor": 0
      },
      "text/plain": [
       "  0%|          | 0/50000 [00:00<?, ?it/s]"
      ]
     },
     "metadata": {},
     "output_type": "display_data"
    },
    {
     "name": "stdout",
     "output_type": "stream",
     "text": [
      "for s = 0.1 a = 1 sA =  2 sd = 2 Ei = 0.6\n",
      "Utility A = 1995.5199999996837 utility D = -3922.0599999997876\n"
     ]
    },
    {
     "data": {
      "application/vnd.jupyter.widget-view+json": {
       "model_id": "0f5586e9811341bca5725d4aae8b5dad",
       "version_major": 2,
       "version_minor": 0
      },
      "text/plain": [
       "  0%|          | 0/50000 [00:00<?, ?it/s]"
      ]
     },
     "metadata": {},
     "output_type": "display_data"
    },
    {
     "name": "stdout",
     "output_type": "stream",
     "text": [
      "for s = 0.1 a = 1 sA =  2 sd = 2 Ei = 0.7\n",
      "Utility A = 1979.91999999967 utility D = -5452.223333333253\n"
     ]
    },
    {
     "data": {
      "application/vnd.jupyter.widget-view+json": {
       "model_id": "bf7682e94cfb4a7694c4ddd072582d6b",
       "version_major": 2,
       "version_minor": 0
      },
      "text/plain": [
       "  0%|          | 0/50000 [00:00<?, ?it/s]"
      ]
     },
     "metadata": {},
     "output_type": "display_data"
    },
    {
     "name": "stdout",
     "output_type": "stream",
     "text": [
      "for s = 0.1 a = 1 sA =  2 sd = 2 Ei = 0.8\n",
      "Utility A = 1967.9499999996644 utility D = -8732.109999999455\n"
     ]
    },
    {
     "data": {
      "application/vnd.jupyter.widget-view+json": {
       "model_id": "36baac9758054862b0390d8a4c81efc3",
       "version_major": 2,
       "version_minor": 0
      },
      "text/plain": [
       "  0%|          | 0/50000 [00:00<?, ?it/s]"
      ]
     },
     "metadata": {},
     "output_type": "display_data"
    },
    {
     "name": "stdout",
     "output_type": "stream",
     "text": [
      "for s = 0.1 a = 1 sA =  2 sd = 2 Ei = 0.9\n",
      "Utility A = 1966.1299999996882 utility D = -19072.51999999967\n"
     ]
    },
    {
     "data": {
      "application/vnd.jupyter.widget-view+json": {
       "model_id": "ad455957ea5241ad87de8765f9a7bba7",
       "version_major": 2,
       "version_minor": 0
      },
      "text/plain": [
       "  0%|          | 0/50000 [00:00<?, ?it/s]"
      ]
     },
     "metadata": {},
     "output_type": "display_data"
    },
    {
     "name": "stdout",
     "output_type": "stream",
     "text": [
      "for s = 0.1 a = 1 sA =  2 sd = 3 Ei = 0.1\n",
      "Utility A = 1984.139999999674 utility D = -1984.139999999674\n"
     ]
    },
    {
     "data": {
      "application/vnd.jupyter.widget-view+json": {
       "model_id": "50467084d8434d6989c5b4d5c0fc49b2",
       "version_major": 2,
       "version_minor": 0
      },
      "text/plain": [
       "  0%|          | 0/50000 [00:00<?, ?it/s]"
      ]
     },
     "metadata": {},
     "output_type": "display_data"
    },
    {
     "name": "stdout",
     "output_type": "stream",
     "text": [
      "for s = 0.1 a = 1 sA =  2 sd = 3 Ei = 0.2\n",
      "Utility A = 1967.51999999967 utility D = -1967.51999999967\n"
     ]
    },
    {
     "data": {
      "application/vnd.jupyter.widget-view+json": {
       "model_id": "4e036234883841fa817b65f35e82f0b7",
       "version_major": 2,
       "version_minor": 0
      },
      "text/plain": [
       "  0%|          | 0/50000 [00:00<?, ?it/s]"
      ]
     },
     "metadata": {},
     "output_type": "display_data"
    },
    {
     "name": "stdout",
     "output_type": "stream",
     "text": [
      "for s = 0.1 a = 1 sA =  2 sd = 3 Ei = 0.3\n",
      "Utility A = 1957.3699999996638 utility D = -1957.3699999996638\n"
     ]
    },
    {
     "data": {
      "application/vnd.jupyter.widget-view+json": {
       "model_id": "8aee2761da164620b0fc3bc45190f474",
       "version_major": 2,
       "version_minor": 0
      },
      "text/plain": [
       "  0%|          | 0/50000 [00:00<?, ?it/s]"
      ]
     },
     "metadata": {},
     "output_type": "display_data"
    },
    {
     "name": "stdout",
     "output_type": "stream",
     "text": [
      "for s = 0.1 a = 1 sA =  2 sd = 3 Ei = 0.4\n",
      "Utility A = 1980.659999999667 utility D = -1980.659999999667\n"
     ]
    },
    {
     "data": {
      "application/vnd.jupyter.widget-view+json": {
       "model_id": "827b4c905bee4ca7acae87859af8ca43",
       "version_major": 2,
       "version_minor": 0
      },
      "text/plain": [
       "  0%|          | 0/50000 [00:00<?, ?it/s]"
      ]
     },
     "metadata": {},
     "output_type": "display_data"
    },
    {
     "name": "stdout",
     "output_type": "stream",
     "text": [
      "for s = 0.1 a = 1 sA =  2 sd = 3 Ei = 0.5\n",
      "Utility A = 1961.0199999996844 utility D = -1961.0199999996844\n"
     ]
    },
    {
     "data": {
      "application/vnd.jupyter.widget-view+json": {
       "model_id": "3837b2be5dfd41b3bd30d114cd8e941f",
       "version_major": 2,
       "version_minor": 0
      },
      "text/plain": [
       "  0%|          | 0/50000 [00:00<?, ?it/s]"
      ]
     },
     "metadata": {},
     "output_type": "display_data"
    },
    {
     "name": "stdout",
     "output_type": "stream",
     "text": [
      "for s = 0.1 a = 1 sA =  2 sd = 3 Ei = 0.6\n",
      "Utility A = 1971.1199999996588 utility D = -1971.1199999996588\n"
     ]
    },
    {
     "data": {
      "application/vnd.jupyter.widget-view+json": {
       "model_id": "2292ef44e58148b9b2ac0d2786e98aab",
       "version_major": 2,
       "version_minor": 0
      },
      "text/plain": [
       "  0%|          | 0/50000 [00:00<?, ?it/s]"
      ]
     },
     "metadata": {},
     "output_type": "display_data"
    },
    {
     "name": "stdout",
     "output_type": "stream",
     "text": [
      "for s = 0.1 a = 1 sA =  2 sd = 3 Ei = 0.7\n",
      "Utility A = 1987.269999999669 utility D = -1987.269999999669\n"
     ]
    },
    {
     "data": {
      "application/vnd.jupyter.widget-view+json": {
       "model_id": "b63a8d4248e144e4bc3834ab10d19c22",
       "version_major": 2,
       "version_minor": 0
      },
      "text/plain": [
       "  0%|          | 0/50000 [00:00<?, ?it/s]"
      ]
     },
     "metadata": {},
     "output_type": "display_data"
    },
    {
     "name": "stdout",
     "output_type": "stream",
     "text": [
      "for s = 0.1 a = 1 sA =  2 sd = 3 Ei = 0.8\n",
      "Utility A = 1984.7699999996678 utility D = -1984.7699999996678\n"
     ]
    },
    {
     "data": {
      "application/vnd.jupyter.widget-view+json": {
       "model_id": "7f836f597b104096acf1b868837cd7b3",
       "version_major": 2,
       "version_minor": 0
      },
      "text/plain": [
       "  0%|          | 0/50000 [00:00<?, ?it/s]"
      ]
     },
     "metadata": {},
     "output_type": "display_data"
    },
    {
     "name": "stdout",
     "output_type": "stream",
     "text": [
      "for s = 0.1 a = 1 sA =  2 sd = 3 Ei = 0.9\n",
      "Utility A = 1970.6699999996704 utility D = -1970.6699999996704\n"
     ]
    },
    {
     "data": {
      "application/vnd.jupyter.widget-view+json": {
       "model_id": "8908441d06d54259a87cfc0cd5f4e47e",
       "version_major": 2,
       "version_minor": 0
      },
      "text/plain": [
       "  0%|          | 0/50000 [00:00<?, ?it/s]"
      ]
     },
     "metadata": {},
     "output_type": "display_data"
    },
    {
     "name": "stdout",
     "output_type": "stream",
     "text": [
      "for s = 0.1 a = 2 sA =  1 sd = 1 Ei = 0.1\n",
      "Utility A = 20387.320000001044 utility D = -20989.24000000021\n"
     ]
    },
    {
     "data": {
      "application/vnd.jupyter.widget-view+json": {
       "model_id": "694c342a2daa4e2281cd2c4bb89bf17b",
       "version_major": 2,
       "version_minor": 0
      },
      "text/plain": [
       "  0%|          | 0/50000 [00:00<?, ?it/s]"
      ]
     },
     "metadata": {},
     "output_type": "display_data"
    },
    {
     "name": "stdout",
     "output_type": "stream",
     "text": [
      "for s = 0.1 a = 2 sA =  1 sd = 1 Ei = 0.2\n",
      "Utility A = 20442.400000001217 utility D = -21159.986666667086\n"
     ]
    },
    {
     "data": {
      "application/vnd.jupyter.widget-view+json": {
       "model_id": "01b4222872d44bf4843e6f04c608e70d",
       "version_major": 2,
       "version_minor": 0
      },
      "text/plain": [
       "  0%|          | 0/50000 [00:00<?, ?it/s]"
      ]
     },
     "metadata": {},
     "output_type": "display_data"
    },
    {
     "name": "stdout",
     "output_type": "stream",
     "text": [
      "for s = 0.1 a = 2 sA =  1 sd = 1 Ei = 0.3\n",
      "Utility A = 19737.840000001135 utility D = -20750.157500001675\n"
     ]
    },
    {
     "data": {
      "application/vnd.jupyter.widget-view+json": {
       "model_id": "5d4be839169e45408e97f91900c91411",
       "version_major": 2,
       "version_minor": 0
      },
      "text/plain": [
       "  0%|          | 0/50000 [00:00<?, ?it/s]"
      ]
     },
     "metadata": {},
     "output_type": "display_data"
    },
    {
     "name": "stdout",
     "output_type": "stream",
     "text": [
      "for s = 0.1 a = 2 sA =  1 sd = 1 Ei = 0.4\n",
      "Utility A = 13207.280000000355 utility D = -14689.570000000223\n"
     ]
    },
    {
     "data": {
      "application/vnd.jupyter.widget-view+json": {
       "model_id": "682ab3f6017741c3815e9ac820c39b6f",
       "version_major": 2,
       "version_minor": 0
      },
      "text/plain": [
       "  0%|          | 0/50000 [00:00<?, ?it/s]"
      ]
     },
     "metadata": {},
     "output_type": "display_data"
    },
    {
     "name": "stdout",
     "output_type": "stream",
     "text": [
      "for s = 0.1 a = 2 sA =  1 sd = 1 Ei = 0.5\n",
      "Utility A = 20277.040000001274 utility D = -20845.250000001906\n"
     ]
    },
    {
     "data": {
      "application/vnd.jupyter.widget-view+json": {
       "model_id": "d7d26c9d183443d692c5d53105277086",
       "version_major": 2,
       "version_minor": 0
      },
      "text/plain": [
       "  0%|          | 0/50000 [00:00<?, ?it/s]"
      ]
     },
     "metadata": {},
     "output_type": "display_data"
    },
    {
     "name": "stdout",
     "output_type": "stream",
     "text": [
      "for s = 0.1 a = 2 sA =  1 sd = 1 Ei = 0.6\n",
      "Utility A = 20483.80000000128 utility D = -21067.220000001886\n"
     ]
    },
    {
     "data": {
      "application/vnd.jupyter.widget-view+json": {
       "model_id": "2802aa780cc549719379cdebb8ce3dc7",
       "version_major": 2,
       "version_minor": 0
      },
      "text/plain": [
       "  0%|          | 0/50000 [00:00<?, ?it/s]"
      ]
     },
     "metadata": {},
     "output_type": "display_data"
    },
    {
     "name": "stdout",
     "output_type": "stream",
     "text": [
      "for s = 0.1 a = 2 sA =  1 sd = 1 Ei = 0.7\n",
      "Utility A = 20383.630000001103 utility D = -20955.27000000167\n"
     ]
    },
    {
     "data": {
      "application/vnd.jupyter.widget-view+json": {
       "model_id": "33ad08ea7fac41b3a95c8443a9b53c1d",
       "version_major": 2,
       "version_minor": 0
      },
      "text/plain": [
       "  0%|          | 0/50000 [00:00<?, ?it/s]"
      ]
     },
     "metadata": {},
     "output_type": "display_data"
    },
    {
     "name": "stdout",
     "output_type": "stream",
     "text": [
      "for s = 0.1 a = 2 sA =  1 sd = 1 Ei = 0.8\n",
      "Utility A = 20404.890000001273 utility D = -20977.820000001844\n"
     ]
    },
    {
     "data": {
      "application/vnd.jupyter.widget-view+json": {
       "model_id": "56059ad5881a4deb8c9aadd0e2f6220e",
       "version_major": 2,
       "version_minor": 0
      },
      "text/plain": [
       "  0%|          | 0/50000 [00:00<?, ?it/s]"
      ]
     },
     "metadata": {},
     "output_type": "display_data"
    },
    {
     "name": "stdout",
     "output_type": "stream",
     "text": [
      "for s = 0.1 a = 2 sA =  1 sd = 1 Ei = 0.9\n",
      "Utility A = 20437.11000000138 utility D = -21005.450000001943\n"
     ]
    },
    {
     "data": {
      "application/vnd.jupyter.widget-view+json": {
       "model_id": "2929151db3d048a787c56093037cabcd",
       "version_major": 2,
       "version_minor": 0
      },
      "text/plain": [
       "  0%|          | 0/50000 [00:00<?, ?it/s]"
      ]
     },
     "metadata": {},
     "output_type": "display_data"
    },
    {
     "name": "stdout",
     "output_type": "stream",
     "text": [
      "for s = 0.1 a = 2 sA =  1 sd = 2 Ei = 0.1\n",
      "Utility A = 21098.69000000215 utility D = -21107.411537459764\n"
     ]
    },
    {
     "data": {
      "application/vnd.jupyter.widget-view+json": {
       "model_id": "57b3b06e3f9244908ad9c6276dc5364b",
       "version_major": 2,
       "version_minor": 0
      },
      "text/plain": [
       "  0%|          | 0/50000 [00:00<?, ?it/s]"
      ]
     },
     "metadata": {},
     "output_type": "display_data"
    },
    {
     "name": "stdout",
     "output_type": "stream",
     "text": [
      "for s = 0.1 a = 2 sA =  1 sd = 2 Ei = 0.2\n",
      "Utility A = 20981.66000000192 utility D = -21018.236027796313\n"
     ]
    },
    {
     "data": {
      "application/vnd.jupyter.widget-view+json": {
       "model_id": "0d68041e7ff548638c74fb389a4e7310",
       "version_major": 2,
       "version_minor": 0
      },
      "text/plain": [
       "  0%|          | 0/50000 [00:00<?, ?it/s]"
      ]
     },
     "metadata": {},
     "output_type": "display_data"
    },
    {
     "name": "stdout",
     "output_type": "stream",
     "text": [
      "for s = 0.1 a = 2 sA =  1 sd = 2 Ei = 0.3\n",
      "Utility A = 20961.69000000186 utility D = -21050.32262071634\n"
     ]
    },
    {
     "data": {
      "application/vnd.jupyter.widget-view+json": {
       "model_id": "492277590e6442f6b8884f707a453704",
       "version_major": 2,
       "version_minor": 0
      },
      "text/plain": [
       "  0%|          | 0/50000 [00:00<?, ?it/s]"
      ]
     },
     "metadata": {},
     "output_type": "display_data"
    },
    {
     "name": "stdout",
     "output_type": "stream",
     "text": [
      "for s = 0.1 a = 2 sA =  1 sd = 2 Ei = 0.4\n",
      "Utility A = 20922.44000000186 utility D = -21102.19472897521\n"
     ]
    },
    {
     "data": {
      "application/vnd.jupyter.widget-view+json": {
       "model_id": "f75a71c3304347edb7a99b060c99c615",
       "version_major": 2,
       "version_minor": 0
      },
      "text/plain": [
       "  0%|          | 0/50000 [00:00<?, ?it/s]"
      ]
     },
     "metadata": {},
     "output_type": "display_data"
    },
    {
     "name": "stdout",
     "output_type": "stream",
     "text": [
      "for s = 0.1 a = 2 sA =  1 sd = 2 Ei = 0.5\n",
      "Utility A = 21007.670000001595 utility D = -21331.397633405835\n"
     ]
    },
    {
     "data": {
      "application/vnd.jupyter.widget-view+json": {
       "model_id": "e442d0e4fdbd430fa0ad7661b115ff34",
       "version_major": 2,
       "version_minor": 0
      },
      "text/plain": [
       "  0%|          | 0/50000 [00:00<?, ?it/s]"
      ]
     },
     "metadata": {},
     "output_type": "display_data"
    },
    {
     "name": "stdout",
     "output_type": "stream",
     "text": [
      "for s = 0.1 a = 2 sA =  1 sd = 2 Ei = 0.6\n",
      "Utility A = 21016.800000001687 utility D = -21570.32814408385\n"
     ]
    },
    {
     "data": {
      "application/vnd.jupyter.widget-view+json": {
       "model_id": "fb88df0bcb7e44c99f064627a4567f90",
       "version_major": 2,
       "version_minor": 0
      },
      "text/plain": [
       "  0%|          | 0/50000 [00:00<?, ?it/s]"
      ]
     },
     "metadata": {},
     "output_type": "display_data"
    },
    {
     "name": "stdout",
     "output_type": "stream",
     "text": [
      "for s = 0.1 a = 2 sA =  1 sd = 2 Ei = 0.7\n",
      "Utility A = 20970.000000001935 utility D = -21966.668409276415\n"
     ]
    },
    {
     "data": {
      "application/vnd.jupyter.widget-view+json": {
       "model_id": "83adfe060936404b8d745eb4644722e8",
       "version_major": 2,
       "version_minor": 0
      },
      "text/plain": [
       "  0%|          | 0/50000 [00:00<?, ?it/s]"
      ]
     },
     "metadata": {},
     "output_type": "display_data"
    },
    {
     "name": "stdout",
     "output_type": "stream",
     "text": [
      "for s = 0.1 a = 2 sA =  1 sd = 2 Ei = 0.8\n",
      "Utility A = 20903.82000000164 utility D = -23232.81194474484\n"
     ]
    },
    {
     "data": {
      "application/vnd.jupyter.widget-view+json": {
       "model_id": "754e62c9265349d08a94845f94e7daba",
       "version_major": 2,
       "version_minor": 0
      },
      "text/plain": [
       "  0%|          | 0/50000 [00:00<?, ?it/s]"
      ]
     },
     "metadata": {},
     "output_type": "display_data"
    },
    {
     "name": "stdout",
     "output_type": "stream",
     "text": [
      "for s = 0.1 a = 2 sA =  1 sd = 2 Ei = 0.9\n",
      "Utility A = 20870.310000001693 utility D = -23888.126339993712\n"
     ]
    },
    {
     "data": {
      "application/vnd.jupyter.widget-view+json": {
       "model_id": "792d8b3ae5614069834ab7f7039fba0a",
       "version_major": 2,
       "version_minor": 0
      },
      "text/plain": [
       "  0%|          | 0/50000 [00:00<?, ?it/s]"
      ]
     },
     "metadata": {},
     "output_type": "display_data"
    },
    {
     "name": "stdout",
     "output_type": "stream",
     "text": [
      "for s = 0.1 a = 2 sA =  1 sd = 3 Ei = 0.1\n",
      "Utility A = 0 utility D = 0\n"
     ]
    },
    {
     "data": {
      "application/vnd.jupyter.widget-view+json": {
       "model_id": "729598fa25664279be22b2116162e5d1",
       "version_major": 2,
       "version_minor": 0
      },
      "text/plain": [
       "  0%|          | 0/50000 [00:00<?, ?it/s]"
      ]
     },
     "metadata": {},
     "output_type": "display_data"
    },
    {
     "name": "stdout",
     "output_type": "stream",
     "text": [
      "for s = 0.1 a = 2 sA =  1 sd = 3 Ei = 0.2\n",
      "Utility A = 0 utility D = 0\n"
     ]
    },
    {
     "data": {
      "application/vnd.jupyter.widget-view+json": {
       "model_id": "54d1a9b7209a46509c1318ecc0771326",
       "version_major": 2,
       "version_minor": 0
      },
      "text/plain": [
       "  0%|          | 0/50000 [00:00<?, ?it/s]"
      ]
     },
     "metadata": {},
     "output_type": "display_data"
    },
    {
     "name": "stdout",
     "output_type": "stream",
     "text": [
      "for s = 0.1 a = 2 sA =  1 sd = 3 Ei = 0.3\n",
      "Utility A = 0 utility D = 0\n"
     ]
    },
    {
     "data": {
      "application/vnd.jupyter.widget-view+json": {
       "model_id": "40c558d564f84fa884b774fffc43be19",
       "version_major": 2,
       "version_minor": 0
      },
      "text/plain": [
       "  0%|          | 0/50000 [00:00<?, ?it/s]"
      ]
     },
     "metadata": {},
     "output_type": "display_data"
    },
    {
     "name": "stdout",
     "output_type": "stream",
     "text": [
      "for s = 0.1 a = 2 sA =  1 sd = 3 Ei = 0.4\n",
      "Utility A = 0 utility D = 0\n"
     ]
    },
    {
     "data": {
      "application/vnd.jupyter.widget-view+json": {
       "model_id": "1712ec066a81441e93a19ef35787b0d4",
       "version_major": 2,
       "version_minor": 0
      },
      "text/plain": [
       "  0%|          | 0/50000 [00:00<?, ?it/s]"
      ]
     },
     "metadata": {},
     "output_type": "display_data"
    },
    {
     "name": "stdout",
     "output_type": "stream",
     "text": [
      "for s = 0.1 a = 2 sA =  1 sd = 3 Ei = 0.5\n",
      "Utility A = 0 utility D = 0\n"
     ]
    },
    {
     "data": {
      "application/vnd.jupyter.widget-view+json": {
       "model_id": "b3ce72e5d17e4a5db6f30921345269c9",
       "version_major": 2,
       "version_minor": 0
      },
      "text/plain": [
       "  0%|          | 0/50000 [00:00<?, ?it/s]"
      ]
     },
     "metadata": {},
     "output_type": "display_data"
    },
    {
     "name": "stdout",
     "output_type": "stream",
     "text": [
      "for s = 0.1 a = 2 sA =  1 sd = 3 Ei = 0.6\n",
      "Utility A = 0 utility D = 0\n"
     ]
    },
    {
     "data": {
      "application/vnd.jupyter.widget-view+json": {
       "model_id": "94d955c10b5a413d95457d4804e81969",
       "version_major": 2,
       "version_minor": 0
      },
      "text/plain": [
       "  0%|          | 0/50000 [00:00<?, ?it/s]"
      ]
     },
     "metadata": {},
     "output_type": "display_data"
    },
    {
     "name": "stdout",
     "output_type": "stream",
     "text": [
      "for s = 0.1 a = 2 sA =  1 sd = 3 Ei = 0.7\n",
      "Utility A = 0 utility D = 0\n"
     ]
    },
    {
     "data": {
      "application/vnd.jupyter.widget-view+json": {
       "model_id": "e6caf2102dec490995c82a6a7d86344e",
       "version_major": 2,
       "version_minor": 0
      },
      "text/plain": [
       "  0%|          | 0/50000 [00:00<?, ?it/s]"
      ]
     },
     "metadata": {},
     "output_type": "display_data"
    },
    {
     "name": "stdout",
     "output_type": "stream",
     "text": [
      "for s = 0.1 a = 2 sA =  1 sd = 3 Ei = 0.8\n",
      "Utility A = 0 utility D = 0\n"
     ]
    },
    {
     "data": {
      "application/vnd.jupyter.widget-view+json": {
       "model_id": "09fdbf7bf5a94cb686db6b1aae0a0cdc",
       "version_major": 2,
       "version_minor": 0
      },
      "text/plain": [
       "  0%|          | 0/50000 [00:00<?, ?it/s]"
      ]
     },
     "metadata": {},
     "output_type": "display_data"
    },
    {
     "name": "stdout",
     "output_type": "stream",
     "text": [
      "for s = 0.1 a = 2 sA =  1 sd = 3 Ei = 0.9\n",
      "Utility A = 0 utility D = 0\n"
     ]
    },
    {
     "data": {
      "application/vnd.jupyter.widget-view+json": {
       "model_id": "4be1ec86c9c7485b85fdf2dcc2031acf",
       "version_major": 2,
       "version_minor": 0
      },
      "text/plain": [
       "  0%|          | 0/50000 [00:00<?, ?it/s]"
      ]
     },
     "metadata": {},
     "output_type": "display_data"
    },
    {
     "name": "stdout",
     "output_type": "stream",
     "text": [
      "for s = 0.1 a = 2 sA =  2 sd = 1 Ei = 0.1\n",
      "Utility A = 1986.8799999996568 utility D = -1991.9497307583674\n"
     ]
    },
    {
     "data": {
      "application/vnd.jupyter.widget-view+json": {
       "model_id": "e7644379e7594cbbba0978c2d22127db",
       "version_major": 2,
       "version_minor": 0
      },
      "text/plain": [
       "  0%|          | 0/50000 [00:00<?, ?it/s]"
      ]
     },
     "metadata": {},
     "output_type": "display_data"
    },
    {
     "name": "stdout",
     "output_type": "stream",
     "text": [
      "for s = 0.1 a = 2 sA =  2 sd = 1 Ei = 0.2\n",
      "Utility A = 1964.3499999996698 utility D = -1986.4794525381246\n"
     ]
    },
    {
     "data": {
      "application/vnd.jupyter.widget-view+json": {
       "model_id": "1bcefbb9055948aab7ba92736bf94243",
       "version_major": 2,
       "version_minor": 0
      },
      "text/plain": [
       "  0%|          | 0/50000 [00:00<?, ?it/s]"
      ]
     },
     "metadata": {},
     "output_type": "display_data"
    },
    {
     "name": "stdout",
     "output_type": "stream",
     "text": [
      "for s = 0.1 a = 2 sA =  2 sd = 1 Ei = 0.3\n",
      "Utility A = 1983.2499999996753 utility D = -2040.6440760019193\n"
     ]
    },
    {
     "data": {
      "application/vnd.jupyter.widget-view+json": {
       "model_id": "e6db8165f442490a91be9f1cce84798d",
       "version_major": 2,
       "version_minor": 0
      },
      "text/plain": [
       "  0%|          | 0/50000 [00:00<?, ?it/s]"
      ]
     },
     "metadata": {},
     "output_type": "display_data"
    },
    {
     "name": "stdout",
     "output_type": "stream",
     "text": [
      "for s = 0.1 a = 2 sA =  2 sd = 1 Ei = 0.4\n",
      "Utility A = 1980.4799999996708 utility D = -2099.273283470382\n"
     ]
    },
    {
     "data": {
      "application/vnd.jupyter.widget-view+json": {
       "model_id": "6d401804de954d7a87f6d225d49ac523",
       "version_major": 2,
       "version_minor": 0
      },
      "text/plain": [
       "  0%|          | 0/50000 [00:00<?, ?it/s]"
      ]
     },
     "metadata": {},
     "output_type": "display_data"
    },
    {
     "name": "stdout",
     "output_type": "stream",
     "text": [
      "for s = 0.1 a = 2 sA =  2 sd = 1 Ei = 0.5\n",
      "Utility A = 1984.0799999996764 utility D = -2205.143559069549\n"
     ]
    },
    {
     "data": {
      "application/vnd.jupyter.widget-view+json": {
       "model_id": "d98ed3fbfef542568b216a01305b8263",
       "version_major": 2,
       "version_minor": 0
      },
      "text/plain": [
       "  0%|          | 0/50000 [00:00<?, ?it/s]"
      ]
     },
     "metadata": {},
     "output_type": "display_data"
    },
    {
     "name": "stdout",
     "output_type": "stream",
     "text": [
      "for s = 0.1 a = 2 sA =  2 sd = 1 Ei = 0.6\n",
      "Utility A = 1990.5199999996762 utility D = -2398.803323198943\n"
     ]
    },
    {
     "data": {
      "application/vnd.jupyter.widget-view+json": {
       "model_id": "c75e83f0b8254baca494acce3f6c27c4",
       "version_major": 2,
       "version_minor": 0
      },
      "text/plain": [
       "  0%|          | 0/50000 [00:00<?, ?it/s]"
      ]
     },
     "metadata": {},
     "output_type": "display_data"
    },
    {
     "ename": "KeyboardInterrupt",
     "evalue": "",
     "output_type": "error",
     "traceback": [
      "\u001b[0;31m---------------------------------------------------------------------------\u001b[0m",
      "\u001b[0;31mKeyboardInterrupt\u001b[0m                         Traceback (most recent call last)",
      "\u001b[0;32m/tmp/ipykernel_11189/4181258556.py\u001b[0m in \u001b[0;36m<module>\u001b[0;34m\u001b[0m\n\u001b[1;32m    295\u001b[0m                             \u001b[0mvulnerableMachineValues\u001b[0m \u001b[0;34m=\u001b[0m \u001b[0mGetVulnerableMachineValues\u001b[0m\u001b[0;34m(\u001b[0m\u001b[0mmachineValues\u001b[0m\u001b[0;34m)\u001b[0m\u001b[0;34m\u001b[0m\u001b[0;34m\u001b[0m\u001b[0m\n\u001b[1;32m    296\u001b[0m                             \u001b[0mimportantMachineValues\u001b[0m \u001b[0;34m=\u001b[0m \u001b[0mGetImportantMachineValues\u001b[0m\u001b[0;34m(\u001b[0m\u001b[0mmachineValues\u001b[0m\u001b[0;34m)\u001b[0m\u001b[0;34m\u001b[0m\u001b[0;34m\u001b[0m\u001b[0m\n\u001b[0;32m--> 297\u001b[0;31m                             \u001b[0mmachineArray\u001b[0m \u001b[0;34m=\u001b[0m \u001b[0mGetMachineArray\u001b[0m\u001b[0;34m(\u001b[0m\u001b[0mmachineValues\u001b[0m\u001b[0;34m,\u001b[0m \u001b[0mvulnerableMachineValues\u001b[0m\u001b[0;34m,\u001b[0m \u001b[0mimportantMachineValues\u001b[0m\u001b[0;34m)\u001b[0m\u001b[0;34m\u001b[0m\u001b[0;34m\u001b[0m\u001b[0m\n\u001b[0m\u001b[1;32m    298\u001b[0m                             \u001b[0mtmp\u001b[0m \u001b[0;34m=\u001b[0m \u001b[0mComparisonStrategyHP\u001b[0m\u001b[0;34m(\u001b[0m\u001b[0mmachineArray\u001b[0m\u001b[0;34m,\u001b[0m \u001b[0mEi\u001b[0m\u001b[0;34m,\u001b[0m \u001b[0mimportantMachineValues\u001b[0m\u001b[0;34m,\u001b[0m \u001b[0ma\u001b[0m\u001b[0;34m)\u001b[0m\u001b[0;34m\u001b[0m\u001b[0;34m\u001b[0m\u001b[0m\n\u001b[1;32m    299\u001b[0m                             \u001b[0;32mif\u001b[0m \u001b[0mtmp\u001b[0m \u001b[0;34m==\u001b[0m \u001b[0;32mTrue\u001b[0m\u001b[0;34m:\u001b[0m\u001b[0;34m\u001b[0m\u001b[0;34m\u001b[0m\u001b[0m\n",
      "\u001b[0;32m/tmp/ipykernel_11189/4181258556.py\u001b[0m in \u001b[0;36mGetMachineArray\u001b[0;34m(machineValues, vulnerableMachineValues, importantMachineValues)\u001b[0m\n\u001b[1;32m     60\u001b[0m             \u001b[0mtmp\u001b[0m \u001b[0;34m=\u001b[0m \u001b[0mMachine\u001b[0m\u001b[0;34m(\u001b[0m\u001b[0;32mFalse\u001b[0m\u001b[0;34m,\u001b[0m \u001b[0mfloat\u001b[0m\u001b[0;34m(\u001b[0m\u001b[0mpercentValue\u001b[0m\u001b[0;34m)\u001b[0m\u001b[0;34m,\u001b[0m \u001b[0;32mFalse\u001b[0m\u001b[0;34m,\u001b[0m \u001b[0mfloat\u001b[0m\u001b[0;34m(\u001b[0m\u001b[0;36m0.0\u001b[0m\u001b[0;34m)\u001b[0m\u001b[0;34m,\u001b[0m \u001b[0;32mFalse\u001b[0m\u001b[0;34m)\u001b[0m\u001b[0;34m\u001b[0m\u001b[0;34m\u001b[0m\u001b[0m\n\u001b[1;32m     61\u001b[0m         \u001b[0;32melse\u001b[0m\u001b[0;34m:\u001b[0m\u001b[0;34m\u001b[0m\u001b[0;34m\u001b[0m\u001b[0m\n\u001b[0;32m---> 62\u001b[0;31m             \u001b[0mtmp\u001b[0m \u001b[0;34m=\u001b[0m \u001b[0mMachine\u001b[0m\u001b[0;34m(\u001b[0m\u001b[0;32mFalse\u001b[0m\u001b[0;34m,\u001b[0m \u001b[0mfloat\u001b[0m\u001b[0;34m(\u001b[0m\u001b[0mreversePercent\u001b[0m\u001b[0;34m)\u001b[0m\u001b[0;34m,\u001b[0m \u001b[0;32mFalse\u001b[0m\u001b[0;34m,\u001b[0m \u001b[0mfloat\u001b[0m\u001b[0;34m(\u001b[0m\u001b[0;36m0.0\u001b[0m\u001b[0;34m)\u001b[0m\u001b[0;34m,\u001b[0m \u001b[0;32mFalse\u001b[0m\u001b[0;34m)\u001b[0m\u001b[0;34m\u001b[0m\u001b[0;34m\u001b[0m\u001b[0m\n\u001b[0m\u001b[1;32m     63\u001b[0m         \u001b[0mmachineArray\u001b[0m\u001b[0;34m.\u001b[0m\u001b[0mappend\u001b[0m\u001b[0;34m(\u001b[0m\u001b[0mtmp\u001b[0m\u001b[0;34m)\u001b[0m\u001b[0;34m\u001b[0m\u001b[0;34m\u001b[0m\u001b[0m\n\u001b[1;32m     64\u001b[0m     \u001b[0;31m#здесь баг - может 2 и более раз сгенерироваться\u001b[0m\u001b[0;34m\u001b[0m\u001b[0;34m\u001b[0m\u001b[0;34m\u001b[0m\u001b[0m\n",
      "\u001b[0;31mKeyboardInterrupt\u001b[0m: "
     ]
    }
   ],
   "source": [
    "import time\n",
    "import random\n",
    "from tqdm.notebook import tqdm\n",
    "\n",
    "\n",
    "class Machine:\n",
    "    \n",
    "    def __init__(self, vulnerable, percentValue, penetrate, protectionLevel, possibilityProtection):\n",
    "        self.vulnerable = vulnerable\n",
    "        self.percentValue = percentValue\n",
    "        self.penetrate = penetrate\n",
    "        self.protectionLevel = protectionLevel\n",
    "        self.possibilityProtection = possibilityProtection\n",
    "        \n",
    "    def changeVulnerable(self, vulnerable):\n",
    "        self.vulnerable = vulnerable\n",
    "    \n",
    "    def changeCost(self, percentValue):\n",
    "        self.percentValue = float(percentValue)\n",
    "        \n",
    "    def changePenetrate(self, penetrate):\n",
    "        self.penetrate = penetrate\n",
    "    \n",
    "    def changeProtectionLevel(self, protectionLevel):\n",
    "        self.protectionLevel = float(protectionLevel)\n",
    "    \n",
    "    def changePossibilityProtection(self, possibilityProtection):\n",
    "        self.possibilityProtection = possibilityProtection\n",
    "        \n",
    "    def pr(self):\n",
    "        print(self.vulnerable, self.percentValue, self.penetrate)\n",
    "\n",
    "        \n",
    "def printAllvalues(machineValues, vulnerableMachineValues, importantMachineValues):\n",
    "    print('machine values = ', machineValues, 'vulnerable machine values = ', vulnerableMachineValues, 'important machine values =', importantMachineValues)\n",
    "#получаем кол-во машин\n",
    "def GetMachineValues():\n",
    "    machineValues = random.randint(4, 15)\n",
    "    return machineValues\n",
    "#получаем кол-во уязвимых машин \n",
    "def GetVulnerableMachineValues(machineValues):\n",
    "    vulnerableMachineValues = random.randint(1, machineValues)\n",
    "    return vulnerableMachineValues\n",
    "#получаем номер главной машины\n",
    "def GetImportantMachineValues(machineValues):\n",
    "    importantMachineValues = random.randint(1, machineValues)\n",
    "    return importantMachineValues\n",
    "#получаем процент, который занимает главная машина \n",
    "def GetPercentValue():\n",
    "    percentValue = random.randint(30, 60)\n",
    "    return percentValue\n",
    "\n",
    "def GetMachineArray(machineValues, vulnerableMachineValues, importantMachineValues):\n",
    "    machineArray = []\n",
    "    percentValue = GetPercentValue() / 100\n",
    "    reversePercent = ((100 - percentValue) / (machineValues - 1)) / 100\n",
    "    reversePercent = (\"%.2f\" % reversePercent)\n",
    "    for i in range(machineValues):\n",
    "        if i == (importantMachineValues - 1):\n",
    "            tmp = Machine(False, float(percentValue), False, float(0.0), False)\n",
    "        else:\n",
    "            tmp = Machine(False, float(reversePercent), False, float(0.0), False)\n",
    "        machineArray.append(tmp)\n",
    "    #здесь баг - может 2 и более раз сгенерироваться\n",
    "    #одинаковое число и поэтому кол-во машин будет неточным\n",
    "    for i in range(0, vulnerableMachineValues):\n",
    "        j = random.randint(0, machineValues - 1)\n",
    "        machineArray[j].changeVulnerable(True)\n",
    "    return machineArray\n",
    "#возвращает число уязвимых машин, так как из-за бага\n",
    "#прошлое число уязвимых != новому\n",
    "def GetVulnerableMachine(machineValues, machineArray):\n",
    "    vulnerableMachine = 0\n",
    "    for i in range(machineValues):\n",
    "        if machineArray[i].vulnerable == True:\n",
    "            vulnerableMachine += 1\n",
    "    return vulnerableMachine\n",
    "#это все возможные разрывы функции стоимости на данном промежутке 1-10\n",
    "def CheckCost(a):\n",
    "    BreakFunc = {\n",
    "        '1':'1',\n",
    "        '2':'0.5',\n",
    "        '3':'0.333',\n",
    "        '4':'0.25',\n",
    "        '5':'0.2',\n",
    "        '6':'0.166',\n",
    "        '7':'0.142',\n",
    "        '8':'0.125',\n",
    "        '9':'0.111',\n",
    "        '10':'0.1'\n",
    "    }\n",
    "    return BreakFunc[a]\n",
    "#в этой функции есть разрыв, то что справа от него по x\n",
    "#то не получится защитить, так как не хватит ресурсов\n",
    "#этот разрыв в той точке, где знаменатель обращается в 0\n",
    "def CostFunction(s, a, Ei):\n",
    "    try:\n",
    "        return -(s * Ei * Ei)/(a * Ei - 1)\n",
    "    except ZeroDivisionError:\n",
    "        return 0\n",
    "\n",
    "def UtilityDefender(s, a, Ei, machineArray):\n",
    "    # l - процент понесенных потерь машин\n",
    "    tmp = 0\n",
    "    percent = len(machineArray) / 100\n",
    "    l = 0\n",
    "    for i in range(len(machineArray)):\n",
    "        if machineArray[i].penetrate == True:\n",
    "            l += percent\n",
    "            tmp += CostFunction(s, a, machineArray[i].protectionLevel)\n",
    "    return - l - tmp\n",
    "\n",
    "def UtilityAttacker(machineArray):\n",
    "    percent = len(machineArray) / 100\n",
    "    l = 0\n",
    "    for i in range(len(machineArray)):\n",
    "        if machineArray[i].penetrate == True:\n",
    "            l += percent\n",
    "    return l\n",
    "    \n",
    "def AttackerStrategyProportional(machineArray):\n",
    "    attackerProportionalEffort = []\n",
    "    for i in range(len(machineArray)):\n",
    "        tmp = machineArray[i].percentValue\n",
    "        attackerProportionalEffort.append(tmp)\n",
    "    return attackerProportionalEffort\n",
    "#Если в пером раунде атакующий взломал >= 1 машины\n",
    "#То он перераспределяет свои ресурсы\n",
    "#отложи эту функцию, пока что протестируем без перераспределения\n",
    "def AttackerStrategyProportionalRedistribution(machineArray):\n",
    "    attackerProportionalEffort = []\n",
    "    for i in range(len(machineArray)):\n",
    "        if machineArray[i].penetrate == False:\n",
    "            tmp = machineArray[i].percentValue\n",
    "            attackerProportionalEffort.append(tmp)\n",
    "        else:\n",
    "            attackerProportionalEffort.append(0)\n",
    "    return attackerProportionalEffort\n",
    "        \n",
    "def AttackerStrategyHigh():\n",
    "    attackerHighEffort = 1\n",
    "    return attackerHighEffort\n",
    "        \n",
    "def DefenderStrategyNothing():\n",
    "    return None\n",
    "    \n",
    "def DefenderStrategyProportional(machineArray, Ei, a):\n",
    "    a = str(a)\n",
    "    for i in range(len(machineArray)):\n",
    "        if float(CheckCost(a)) <= machineArray[i].percentValue * Ei:\n",
    "            machineArray[i].changePossibilityProtection(False)\n",
    "        else:\n",
    "            machineArray[i].changePossibilityProtection(True)\n",
    "            machineArray[i].changeProtectionLevel(\"%.2f\" % (machineArray[i].percentValue * Ei))\n",
    "    \n",
    "def DefenderStrategyHigh(Ei, importantMachineValues, machineArray, a):\n",
    "    if float(CheckCost(str(a))) <= Ei:\n",
    "        machineArray[importantMachineValues - 1].changePossibilityProtection(False)\n",
    "    else:\n",
    "        machineArray[importantMachineValues - 1].changePossibilityProtection(True)\n",
    "        machineArray[importantMachineValues - 1].changeProtectionLevel(Ei)\n",
    "#P-атакующий H-защитник\n",
    "def ComparisonStrategyPH(machineArray, importantMachineValues, Ei):\n",
    "    attackerProportionalEffort = AttackerStrategyProportional(machineArray)\n",
    "    DefenderStrategyHigh(Ei, importantMachineValues, machineArray, a)\n",
    "    count = 0\n",
    "    for i in range(len(machineArray)):\n",
    "        if machineArray[i].vulnerable == True:\n",
    "            if attackerProportionalEffort[i] > machineArray[i].percentValue or attackerProportionalEffort[importantMachineValues - 1] > machineArray[importantMachineValues - 1].protectionLevel:\n",
    "                machineArray[i].changePenetrate(True)\n",
    "                count += 1\n",
    "    if count > 1:\n",
    "        return True\n",
    "    else:\n",
    "        return False\n",
    "#P-атакующий P-защитник\n",
    "def ComparisonStrategyPP(machineArray, Ei, a):\n",
    "    attackerProportionalEffort = AttackerStrategyProportional(machineArray)\n",
    "    DefenderStrategyProportional(machineArray, Ei, a)\n",
    "    count = 0\n",
    "    for i in range(len(machineArray)):\n",
    "        if attackerProportionalEffort[i] > machineArray[i].protectionLevel:\n",
    "            if machineArray[i].vulnerable == True:\n",
    "                machineArray[i].changePenetrate(True)\n",
    "                count += 1\n",
    "    if count > 0:\n",
    "        return True\n",
    "    else:\n",
    "        return False\n",
    "#P - атакующий N - защитник\n",
    "def ComparisonStrategyPN(machineArray):\n",
    "    attackerProportionalEffort = AttackerStrategyProportional(machineArray)\n",
    "    count = 0\n",
    "    for i in range(len(machineArray)):\n",
    "        if attackerProportionalEffort[i] > machineArray[i].percentValue:\n",
    "            if machineArray[i].vulnerable == True:\n",
    "                machineArray[i].changePenetrate(True)\n",
    "                count += 1\n",
    "    if count > 0:\n",
    "        return True\n",
    "    else:\n",
    "        return False\n",
    "#H-атакующий P-защитник\n",
    "def ComparisonStrategyHP(machineArray, Ei, importantMachineValues, a):\n",
    "    attackerHighEffort = AttackerStrategyHigh()\n",
    "    DefenderStrategyProportional(machineArray, Ei, a)\n",
    "    if attackerHighEffort > machineArray[importantMachineValues - 1].protectionLevel:\n",
    "        if machineArray[importantMachineValues - 1].vulnerable == True:\n",
    "            machineArray[importantMachineValues - 1].changePenetrate(True)\n",
    "            return True\n",
    "        else:\n",
    "            return False\n",
    "#H-атакующий H-защитник\n",
    "def ComparsionStrategyHH(Ei, importantMachineValues, machineArray, a):\n",
    "    attackerHighEffort = AttackerStrategyHigh()\n",
    "    DefenderStrategyHigh(Ei, importantMachineValues, machineArray, a)\n",
    "    if attackerHighEffort > machineArray[importantMachineValues - 1].protectionLevel:\n",
    "        if machineArray[importantMachineValues - 1].vulnerable == True:\n",
    "            machineArray[importantMachineValues - 1].changePenetrate(True)\n",
    "            return True\n",
    "        else:\n",
    "            return False\n",
    "#H-Атакующий N-защитник\n",
    "def ComparsionStrategyHN(machineArray, importantMachineValues):\n",
    "    attackerHighEffort = AttackerStrategyHigh()\n",
    "    if attackerHighEffort > machineArray[importantMachineValues - 1].percentValue:\n",
    "        if machineArray[importantMachineValues - 1].vulnerable == True:\n",
    "            machineArray[importantMachineValues - 1].changePenetrate(True)\n",
    "            return True\n",
    "        else:\n",
    "            return False\n",
    "\n",
    "for s in (0.1, 0.2, 0.3, 0.4, 0.5, 0.6, 0.7, 0.8, 0.9):\n",
    "    for a in range(1, 11, 1):\n",
    "        for strategyA in (1, 2):\n",
    "            for strategyD in (1, 2, 3):\n",
    "                for Ei in (0.1, 0.2, 0.3, 0.4, 0.5, 0.6, 0.7, 0.8, 0.9):\n",
    "                    if strategyA == 1 and strategyD == 1:\n",
    "                        j = 0\n",
    "                        utilityDefender = 0\n",
    "                        utilityAttacker = 0\n",
    "                        for j in tqdm(range(50000)):\n",
    "                            machineValues = GetMachineValues()\n",
    "                            vulnerableMachineValues = GetVulnerableMachineValues(machineValues)\n",
    "                            importantMachineValues = GetImportantMachineValues(machineValues)\n",
    "                            machineArray = GetMachineArray(machineValues, vulnerableMachineValues, importantMachineValues)\n",
    "                            tmp = ComparisonStrategyPH(machineArray, importantMachineValues, Ei)\n",
    "                            if tmp == True:\n",
    "                                utilityDefender += UtilityDefender(s, a, Ei, machineArray)\n",
    "                                utilityAttacker += UtilityAttacker(machineArray)\n",
    "                            else:\n",
    "                                utilityDefender += UtilityDefender(s, a, Ei, machineArray)\n",
    "                        print('for s =', s,'a =', a, 'sA = ', strategyA, 'sd =', strategyD, 'Ei =', Ei)\n",
    "                        print('Utility A =', utilityAttacker, 'utility D =', utilityDefender)\n",
    "                    elif strategyA == 1 and strategyD == 2:\n",
    "                        j = 0\n",
    "                        utilityDefender = 0\n",
    "                        utilityAttacker = 0\n",
    "                        for j in tqdm(range(50000)):\n",
    "                            machineValues = GetMachineValues()\n",
    "                            vulnerableMachineValues = GetVulnerableMachineValues(machineValues)\n",
    "                            importantMachineValues = GetImportantMachineValues(machineValues)\n",
    "                            machineArray = GetMachineArray(machineValues, vulnerableMachineValues, importantMachineValues)\n",
    "                            tmp = ComparisonStrategyPP(machineArray, Ei, a)\n",
    "                            if tmp == True:\n",
    "                                utilityDefender += UtilityDefender(s, a, Ei, machineArray)\n",
    "                                utilityAttacker += UtilityAttacker(machineArray)\n",
    "                            else:\n",
    "                                utilityDefender += UtilityDefender(s, a, Ei, machineArray)\n",
    "                        print('for s =', s,'a =', a, 'sA = ', strategyA, 'sd =', strategyD, 'Ei =', Ei)\n",
    "                        print('Utility A =', utilityAttacker, 'utility D =', utilityDefender)\n",
    "                    elif strategyA == 1 and strategyD == 3:\n",
    "                        j = 0\n",
    "                        utilityDefender = 0\n",
    "                        utilityAttacker = 0\n",
    "                        for j in tqdm(range(50000)):\n",
    "                            machineValues = GetMachineValues()\n",
    "                            vulnerableMachineValues = GetVulnerableMachineValues(machineValues)\n",
    "                            importantMachineValues = GetImportantMachineValues(machineValues)\n",
    "                            machineArray = GetMachineArray(machineValues, vulnerableMachineValues, importantMachineValues)\n",
    "                            tmp = ComparisonStrategyPN(machineArray)\n",
    "                            if tmp == True:\n",
    "                                utilityDefender += UtilityDefender(s, a, Ei, machineArray)\n",
    "                                utilityAttacker += UtilityAttacker(machineArray)\n",
    "                            else:\n",
    "                                utilityDefender += UtilityDefender(s, a, Ei, machineArray)\n",
    "                        print('for s =', s,'a =', a, 'sA = ', strategyA, 'sd =', strategyD, 'Ei =', Ei)\n",
    "                        print('Utility A =', utilityAttacker, 'utility D =', utilityDefender)\n",
    "                    elif strategyA == 2 and strategyD == 1:\n",
    "                        j = 0\n",
    "                        utilityDefender = 0\n",
    "                        utilityAttacker = 0\n",
    "                        for j in tqdm(range(50000)):\n",
    "                            machineValues = GetMachineValues()\n",
    "                            vulnerableMachineValues = GetVulnerableMachineValues(machineValues)\n",
    "                            importantMachineValues = GetImportantMachineValues(machineValues)\n",
    "                            machineArray = GetMachineArray(machineValues, vulnerableMachineValues, importantMachineValues)\n",
    "                            tmp = ComparisonStrategyHP(machineArray, Ei, importantMachineValues, a)\n",
    "                            if tmp == True:\n",
    "                                utilityDefender += UtilityDefender(s, a, Ei, machineArray)\n",
    "                                utilityAttacker += UtilityAttacker(machineArray)\n",
    "                            else:\n",
    "                                utilityDefender += UtilityDefender(s, a, Ei, machineArray)\n",
    "                        print('for s =', s,'a =', a, 'sA = ', strategyA, 'sd =', strategyD, 'Ei =', Ei)\n",
    "                        print('Utility A =', utilityAttacker, 'utility D =', utilityDefender)\n",
    "                    elif strategyA == 2 and strategyD == 2:\n",
    "                        j = 0\n",
    "                        utilityDefender = 0\n",
    "                        utilityAttacker = 0\n",
    "                        for j in tqdm(range(50000)):\n",
    "                            machineValues = GetMachineValues()\n",
    "                            vulnerableMachineValues = GetVulnerableMachineValues(machineValues)\n",
    "                            importantMachineValues = GetImportantMachineValues(machineValues)\n",
    "                            machineArray = GetMachineArray(machineValues, vulnerableMachineValues, importantMachineValues)\n",
    "                            tmp = ComparsionStrategyHH(Ei, importantMachineValues, machineArray, a)\n",
    "                            if tmp == True:\n",
    "                                utilityDefender += UtilityDefender(s, a, Ei, machineArray)\n",
    "                                utilityAttacker += UtilityAttacker(machineArray)\n",
    "                            else:\n",
    "                                utilityDefender += UtilityDefender(s, a, Ei, machineArray)\n",
    "                        print('for s =', s,'a =', a, 'sA = ', strategyA, 'sd =', strategyD, 'Ei =', Ei)\n",
    "                        print('Utility A =', utilityAttacker, 'utility D =', utilityDefender)\n",
    "                    elif strategyA == 2 and strategyD == 3:\n",
    "                        j = 0\n",
    "                        utilityDefender = 0\n",
    "                        utilityAttacker = 0\n",
    "                        for j in tqdm(range(50000)):\n",
    "                            machineValues = GetMachineValues()\n",
    "                            vulnerableMachineValues = GetVulnerableMachineValues(machineValues)\n",
    "                            importantMachineValues = GetImportantMachineValues(machineValues)\n",
    "                            machineArray = GetMachineArray(machineValues, vulnerableMachineValues, importantMachineValues)\n",
    "                            tmp = ComparsionStrategyHN(machineArray, importantMachineValues)\n",
    "                            if tmp == True:\n",
    "                                utilityDefender += UtilityDefender(s, a, Ei, machineArray)\n",
    "                                utilityAttacker += UtilityAttacker(machineArray)\n",
    "                            else:\n",
    "                                utilityDefender += UtilityDefender(s, a, Ei, machineArray)\n",
    "                        print('for s =', s,'a =', a, 'sA = ', strategyA, 'sd =', strategyD, 'Ei =', Ei)\n",
    "                        print('Utility A =', utilityAttacker, 'utility D =', utilityDefender)"
   ]
  },
  {
   "cell_type": "code",
   "execution_count": 5,
   "id": "dec533eb",
   "metadata": {},
   "outputs": [
    {
     "name": "stdout",
     "output_type": "stream",
     "text": [
      "<class 'float'>\n"
     ]
    }
   ],
   "source": [
    "class Machine:\n",
    "    \n",
    "    def __init__(self, vulnerable, percentValue, penetrate, protectionLevel, possibilityProtection):\n",
    "        self.vulnerable = vulnerable\n",
    "        self.percentValue = percentValue\n",
    "        self.penetrate = penetrate\n",
    "        self.protectionLevel = protectionLevel\n",
    "        self.possibilityProtection = possibilityProtection\n",
    "        \n",
    "    def changeVulnerable(self, vulnerable):\n",
    "        self.vulnerable = vulnerable\n",
    "    \n",
    "    def changeCost(self, percentValue):\n",
    "        self.percentValue = percentValue\n",
    "        \n",
    "    def changePenetrate(self, penetrate):\n",
    "        self.penetrate = penetrate\n",
    "    \n",
    "    def changeProtectionLevel(self, protectionLevel):\n",
    "        self.protectionLevel = float(protectionLevel)\n",
    "    \n",
    "    def changePossibilityProtection(self, possibilityProtection):\n",
    "        self.possibilityProtection = possibilityProtection\n",
    "    \n",
    "    def pr(self):\n",
    "        print(type(self.protectionLevel))\n",
    "        \n",
    "\n",
    "def DefenderStrategyProportional(machineArray, Ei):\n",
    "    for i in range(len(machineArray)):\n",
    "        machineArray[i].changeProtectionLevel(\"%.2f\" % (float(machineArray[i].percentValue) * Ei))\n",
    "\n",
    "machineArray = []\n",
    "tmp = Machine(False, 0.1, False, 0, False)\n",
    "machineArray.append(tmp)\n",
    "Ei = 12354\n",
    "DefenderStrategyProportional(machineArray, Ei)\n",
    "machineArray[0].pr()\n"
   ]
  },
  {
   "cell_type": "code",
   "execution_count": 6,
   "id": "54fab7e7",
   "metadata": {},
   "outputs": [
    {
     "name": "stdout",
     "output_type": "stream",
     "text": [
      "\u001b[31mERROR: Could not find a version that satisfies the requirement time (from versions: none)\u001b[0m\n",
      "\u001b[31mERROR: No matching distribution found for time\u001b[0m\n",
      "\u001b[33mWARNING: You are using pip version 21.2.3; however, version 21.3.1 is available.\n",
      "You should consider upgrading via the '/home/bkozeev/notebook/notebook/bin/python -m pip install --upgrade pip' command.\u001b[0m\n",
      "Note: you may need to restart the kernel to use updated packages.\n"
     ]
    }
   ],
   "source": []
  },
  {
   "cell_type": "code",
   "execution_count": null,
   "id": "2f15ad4a",
   "metadata": {},
   "outputs": [],
   "source": []
  }
 ],
 "metadata": {
  "kernelspec": {
   "display_name": "Python 3 (ipykernel)",
   "language": "python",
   "name": "python3"
  },
  "language_info": {
   "codemirror_mode": {
    "name": "ipython",
    "version": 3
   },
   "file_extension": ".py",
   "mimetype": "text/x-python",
   "name": "python",
   "nbconvert_exporter": "python",
   "pygments_lexer": "ipython3",
   "version": "3.8.10"
  }
 },
 "nbformat": 4,
 "nbformat_minor": 5
}
